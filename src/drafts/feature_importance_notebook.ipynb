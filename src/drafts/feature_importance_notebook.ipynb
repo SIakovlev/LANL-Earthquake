{
 "cells": [
  {
   "cell_type": "code",
   "execution_count": 2,
   "metadata": {
    "ExecuteTime": {
     "end_time": "2019-04-07T08:59:14.997152Z",
     "start_time": "2019-04-07T08:59:13.906144Z"
    }
   },
   "outputs": [],
   "source": [
    "import numpy as np\n",
    "import matplotlib.pyplot as plt\n",
    "import pandas as pd\n",
    "import functools\n",
    "import scipy.signal\n",
    "from tqdm import tqdm\n",
    "import inspect\n",
    "import pickle\n",
    "import sys\n",
    "import json\n",
    "import os\n",
    "sys.path.append('../data_processing/')\n",
    "sys.path.append('../validation/')\n",
    "from feature import Feature\n",
    "import dp_utils as dp\n",
    "from sklearn.metrics.cluster import normalized_mutual_info_score, adjusted_mutual_info_score, mutual_info_score\n",
    "from sklearn.preprocessing import StandardScaler\n",
    "\n",
    "%matplotlib notebook"
   ]
  },
  {
   "cell_type": "code",
   "execution_count": 4,
   "metadata": {
    "ExecuteTime": {
     "end_time": "2019-04-07T08:59:16.777944Z",
     "start_time": "2019-04-07T08:59:16.697407Z"
    },
    "scrolled": true
   },
   "outputs": [
    {
     "data": {
      "text/html": [
       "<div>\n",
       "<style scoped>\n",
       "    .dataframe tbody tr th:only-of-type {\n",
       "        vertical-align: middle;\n",
       "    }\n",
       "\n",
       "    .dataframe tbody tr th {\n",
       "        vertical-align: top;\n",
       "    }\n",
       "\n",
       "    .dataframe thead th {\n",
       "        text-align: right;\n",
       "    }\n",
       "</style>\n",
       "<table border=\"1\" class=\"dataframe\">\n",
       "  <thead>\n",
       "    <tr style=\"text-align: right;\">\n",
       "      <th></th>\n",
       "      <th>s</th>\n",
       "      <th>ttf</th>\n",
       "    </tr>\n",
       "  </thead>\n",
       "  <tbody>\n",
       "    <tr>\n",
       "      <th>0</th>\n",
       "      <td>12</td>\n",
       "      <td>1.4691</td>\n",
       "    </tr>\n",
       "    <tr>\n",
       "      <th>1</th>\n",
       "      <td>6</td>\n",
       "      <td>1.4691</td>\n",
       "    </tr>\n",
       "    <tr>\n",
       "      <th>2</th>\n",
       "      <td>8</td>\n",
       "      <td>1.4691</td>\n",
       "    </tr>\n",
       "    <tr>\n",
       "      <th>3</th>\n",
       "      <td>5</td>\n",
       "      <td>1.4691</td>\n",
       "    </tr>\n",
       "    <tr>\n",
       "      <th>4</th>\n",
       "      <td>8</td>\n",
       "      <td>1.4691</td>\n",
       "    </tr>\n",
       "  </tbody>\n",
       "</table>\n",
       "</div>"
      ],
      "text/plain": [
       "    s     ttf\n",
       "0  12  1.4691\n",
       "1   6  1.4691\n",
       "2   8  1.4691\n",
       "3   5  1.4691\n",
       "4   8  1.4691"
      ]
     },
     "execution_count": 4,
     "metadata": {},
     "output_type": "execute_result"
    }
   ],
   "source": [
    "filepath = '../../data/train_short.h5'\n",
    "df = pd.read_hdf(filepath, key='table')\n",
    "df.head()"
   ]
  },
  {
   "cell_type": "code",
   "execution_count": null,
   "metadata": {
    "scrolled": false
   },
   "outputs": [],
   "source": [
    "windows = [i for i in range(3, 1001, 10)]\n",
    "mutual_info_results = []\n",
    "for window in tqdm(windows):\n",
    "    filtered_signal = Feature(df['s'], '../../data/').r_savgol_filter(window_length=window, verbose=False).data.values.squeeze()\n",
    "    ttf_signal = df.drop(['s'], axis=1).values.squeeze()\n",
    "    mutual_info_results.append(normalized_mutual_info_score(ttf_signal, filtered_signal), average_method=\"arithmetic\")\n",
    "    \n",
    "plt.figure(figsize=(10, 5))\n",
    "plt.plot(windows, mutual_info_results)"
   ]
  },
  {
   "cell_type": "code",
   "execution_count": null,
   "metadata": {},
   "outputs": [],
   "source": [
    "windows = [i for i in range(3, 1001, 10)]\n",
    "mutual_info_results = []\n",
    "scaler = StandardScaler()\n",
    "for window in tqdm(windows):\n",
    "    filtered_signal = Feature(df['s'], '../../data/')\\\n",
    "    .r_savgol_filter(window_length=window, verbose=False)\\\n",
    "    .w_std(window_size=1000, window_stride=500, verbose=False)\\\n",
    "    .data.values\n",
    "    \n",
    "    ttf_signal = Feature(df['ttf'], '../../data/')\\\n",
    "    .w_last_elem(window_size=1000, window_stride=500, verbose=False)\\\n",
    "    .data.values\n",
    "    \n",
    "    temp_ = scaler.fit_transform(np.hstack((ttf_signal, filtered_signal)))\n",
    "    ttf_signal_scaled = temp_[:, 0].squeeze()\n",
    "    filtered_signal_scaled = temp_[:, 1].squeeze()\n",
    "    \n",
    "    score = normalized_mutual_info_score(ttf_signal_scaled, filtered_signal_scaled, average_method=\"arithmetic\")\n",
    "    mutual_info_results.append(score)\n",
    "    \n",
    "plt.figure(figsize=(10, 5))\n",
    "plt.plot(windows, mutual_info_results)"
   ]
  },
  {
   "cell_type": "code",
   "execution_count": null,
   "metadata": {},
   "outputs": [],
   "source": [
    "windows = [i for i in range(3, 1001, 10)]\n",
    "mutual_info_results = []\n",
    "scaler = StandardScaler()\n",
    "\n",
    "for window in tqdm(windows):\n",
    "    filtered_signal = Feature(df['s'], '../../data/')\\\n",
    "    .r_savgol_filter(window_length=window, verbose=False)\\\n",
    "    .w_psd(window_size=10000, window_stride=5000, verbose=False)\\\n",
    "    .data.values\n",
    "    \n",
    "    ttf_signal = Feature(df['ttf'], '../../data/')\\\n",
    "    .w_last_elem(window_size=10000, window_stride=5000, verbose=False)\\\n",
    "    .data.values\n",
    "    \n",
    "    temp_ = scaler.fit_transform(np.hstack((ttf_signal, filtered_signal)))\n",
    "    ttf_signal_scaled = temp_[:, 0]\n",
    "    filtered_signal_scaled = temp_[:, 1]\n",
    "    \n",
    "    score = normalized_mutual_info_score(ttf_signal_scaled, filtered_signal_scaled, average_method=\"arithmetic\")\n",
    "    mutual_info_results.append(score)\n",
    "    \n",
    "plt.figure(figsize=(10, 5))\n",
    "plt.plot(windows, mutual_info_results)"
   ]
  },
  {
   "cell_type": "code",
   "execution_count": null,
   "metadata": {},
   "outputs": [],
   "source": [
    "windows = [i for i in range(100, 5000, 100)]\n",
    "mutual_info_results = []\n",
    "scaler = StandardScaler()\n",
    "\n",
    "for window in tqdm(windows):\n",
    "    filtered_signal = Feature(df['s'], '../../data/')\\\n",
    "    .r_sta_lta(sta_window=50, lta_window=window, verbose=False)\\\n",
    "    .w_last_elem(window_size=10000, window_stride=5000, verbose=False)\\\n",
    "    .data.values\n",
    "    ttf_signal = Feature(df['ttf'], '../../data/')\\\n",
    "    .w_last_elem(window_size=10000, window_stride=5000, verbose=False)\\\n",
    "    .data.values\n",
    "    \n",
    "    temp_ = scaler.fit_transform(np.hstack((ttf_signal, filtered_signal)))\n",
    "    ttf_signal_scaled = temp_[:, 0]\n",
    "    filtered_signal_scaled = temp_[:, 1]\n",
    "    \n",
    "    score = normalized_mutual_info_score(ttf_signal_scaled, filtered_signal_scaled, average_method=\"arithmetic\")\n",
    "    mutual_info_results.append(score)\n",
    "    \n",
    "plt.figure(figsize=(10, 5))\n",
    "plt.plot(windows, mutual_info_results)"
   ]
  },
  {
   "cell_type": "code",
   "execution_count": 11,
   "metadata": {},
   "outputs": [
    {
     "name": "stdout",
     "output_type": "stream",
     "text": [
      "13.755736327710933\n"
     ]
    },
    {
     "data": {
      "text/plain": [
       "[<matplotlib.lines.Line2D at 0x7fae2beb24a8>]"
      ]
     },
     "execution_count": 11,
     "metadata": {},
     "output_type": "execute_result"
    },
    {
     "data": {
      "image/png": "[encoded data removed]",
      "text/plain": [
       "<Figure size 720x360 with 1 Axes>"
      ]
     },
     "metadata": {
      "needs_background": "light"
     },
     "output_type": "display_data"
    },
    {
     "data": {
      "image/png": "[encoded data removed]",
      "text/plain": [
       "<Figure size 720x360 with 1 Axes>"
      ]
     },
     "metadata": {
      "needs_background": "light"
     },
     "output_type": "display_data"
    }
   ],
   "source": [
    "scaler = StandardScaler()\n",
    "filtered_signal = Feature(df.drop(['ttf'], axis=1), '../../data/')\\\n",
    "    .r_sta_lta(sta_window=50, lta_window=1000, verbose=False)\\\n",
    "    .data.values\n",
    "ttf_signal = Feature(df.drop(['s'], axis=1), '../../data/')\\\n",
    "    .data.values\n",
    "temp_ = scaler.fit_transform(np.hstack((ttf_signal, filtered_signal)))\n",
    "ttf_signal_scaled = temp_[:, 0]\n",
    "filtered_signal_scaled = temp_[:, 1]\n",
    "\n",
    "print(mutual_info_score(ttf_signal_scaled, filtered_signal_scaled))\n",
    "\n",
    "plt.figure(figsize=(10, 5))\n",
    "plt.plot(ttf_signal_scaled)\n",
    "plt.figure(figsize=(10, 5))\n",
    "plt.plot(filtered_signal_scaled)"
   ]
  },
  {
   "cell_type": "code",
   "execution_count": 12,
   "metadata": {},
   "outputs": [
    {
     "name": "stdout",
     "output_type": "stream",
     "text": [
      "2.9243892280638155\n"
     ]
    }
   ],
   "source": [
    "print(mutual_info_score(df['ttf'], df['s']))"
   ]
  },
  {
   "cell_type": "code",
   "execution_count": null,
   "metadata": {},
   "outputs": [],
   "source": []
  },
  {
   "cell_type": "code",
   "execution_count": null,
   "metadata": {},
   "outputs": [],
   "source": []
  },
  {
   "cell_type": "code",
   "execution_count": null,
   "metadata": {
    "scrolled": true
   },
   "outputs": [],
   "source": [
    "windows = [i for i in range(3, 1001, 10)]\n",
    "mutual_info_results = []\n",
    "scaler = StandardScaler()\n",
    "\n",
    "for window in tqdm(windows):\n",
    "    filtered_signal = Feature(df['s'], '../../data/')\\\n",
    "    .r_savgol_filter(window_length=window, verbose=False)\\\n",
    "    .w_quantile(window_size=10000, window_stride=5000, q=0.05, verbose=False)\\\n",
    "    .data.values\n",
    "    ttf_signal = Feature(df['ttf'], '../../data/')\\\n",
    "    .w_last_elem(window_size=10000, window_stride=5000, verbose=False)\\\n",
    "    .data.values\n",
    "    \n",
    "    temp_ = scaler.fit_transform(np.hstack((ttf_signal, filtered_signal)))\n",
    "    ttf_signal_scaled = temp_[:, 0]\n",
    "    filtered_signal_scaled = temp_[:, 1]\n",
    "    \n",
    "    score = normalized_mutual_info_score(ttf_signal_scaled, filtered_signal_scaled, average_method=\"arithmetic\")\n",
    "    mutual_info_results.append(score)"
   ]
  },
  {
   "cell_type": "code",
   "execution_count": null,
   "metadata": {},
   "outputs": [],
   "source": [
    "plt.figure(figsize=(10, 5))\n",
    "# plt.ylabel(\"q05_std_rolling50\")\n",
    "plt.ylabel(\"r_savgol_filter(window_size) - \\n w_quantile(window_size=10000, window_stride=5000, q=0.05) \\n vs ttf\")\n",
    "plt.xlabel(\"window_size\")\n",
    "plt.grid(True)\n",
    "plt.plot(windows, mutual_info_results)\n",
    "plt.show()"
   ]
  },
  {
   "cell_type": "code",
   "execution_count": null,
   "metadata": {},
   "outputs": [],
   "source": [
    "windows = [i for i in range(1, 1001, 20)]\n",
    "mutual_info_results = []\n",
    "scaler = StandardScaler()\n",
    "\n",
    "for window in tqdm(windows):\n",
    "    filtered_signal = Feature(df['s'], '../../data/')\\\n",
    "    .r_std(window_size=window, verbose=False)\\\n",
    "    .w_quantile(window_size=10000, window_stride=5000, q=0.05, verbose=False)\\\n",
    "    .data.values\n",
    "    ttf_signal = Feature(df['ttf'], '../../data/')\\\n",
    "    .w_last_elem(window_size=10000, window_stride=5000, verbose=False)\\\n",
    "    .data.values\n",
    "    \n",
    "    temp_ = scaler.fit_transform(np.hstack((ttf_signal, filtered_signal)))\n",
    "    ttf_signal_scaled = temp_[:, 0]\n",
    "    filtered_signal_scaled = temp_[:, 1]\n",
    "    \n",
    "    score = normalized_mutual_info_score(ttf_signal_scaled, filtered_signal_scaled, average_method=\"arithmetic\")\n",
    "    mutual_info_results.append(score)"
   ]
  },
  {
   "cell_type": "code",
   "execution_count": null,
   "metadata": {},
   "outputs": [],
   "source": [
    "plt.figure(figsize=(10, 5))\n",
    "plt.grid(True)\n",
    "plt.ylabel(\"q05_std_rolling50 vs ttf\")\n",
    "# plt.ylabel(\"r_std(window_size) - \\n w_quantile(window_size=10000, window_stride=5000, q=0.05)\")\n",
    "plt.xlabel(\"window_size\")\n",
    "plt.plot(windows, mutual_info_results)\n",
    "plt.show()"
   ]
  },
  {
   "cell_type": "code",
   "execution_count": null,
   "metadata": {},
   "outputs": [],
   "source": [
    "# does not depend on window size\n",
    "# windows = [i for i in range(3, 1001, 20)]\n",
    "lags = [i for i in range(1, 1000, 10)]\n",
    "mutual_info_results = []\n",
    "scaler = StandardScaler()\n",
    "\n",
    "for lag in tqdm(lags):\n",
    "    filtered_signal = Feature(df['s'], '../../data/')\\\n",
    "    .r_std(window_size=25, verbose=False)\\\n",
    "    .w_autocorrelation(window_size=10000, window_stride=5000, lag=lag, verbose=False)\\\n",
    "    .data.values\n",
    "    ttf_signal = Feature(df['s'], '../../data/')\\\n",
    "    .w_last_elem(window_size=10000, window_stride=5000, verbose=False)\\\n",
    "    .data.values\n",
    "    \n",
    "    temp_ = scaler.fit_transform(np.hstack((ttf_signal, filtered_signal)))\n",
    "    ttf_signal_scaled = temp_[:, 0]\n",
    "    filtered_signal_scaled = temp_[:, 1]\n",
    "    \n",
    "    score = normalized_mutual_info_score(ttf_signal_scaled, filtered_signal_scaled, average_method=\"arithmetic\")\n",
    "    mutual_info_results.append(score)"
   ]
  },
  {
   "cell_type": "code",
   "execution_count": null,
   "metadata": {},
   "outputs": [],
   "source": [
    "plt.figure(figsize=(10, 5))\n",
    "plt.grid(True)\n",
    "plt.ylabel(\"autocorr_std_rolling50 vs ttf\")\n",
    "# plt.ylabel(\"r_std(window_size) - \\n w_quantile(window_size=10000, window_stride=5000, q=0.05)\")\n",
    "plt.xlabel(\"lag value\")\n",
    "plt.plot(lags, mutual_info_results)\n",
    "plt.show()"
   ]
  },
  {
   "cell_type": "code",
   "execution_count": null,
   "metadata": {},
   "outputs": [],
   "source": []
  },
  {
   "cell_type": "code",
   "execution_count": null,
   "metadata": {},
   "outputs": [],
   "source": []
  },
  {
   "cell_type": "code",
   "execution_count": null,
   "metadata": {},
   "outputs": [],
   "source": []
  },
  {
   "cell_type": "code",
   "execution_count": null,
   "metadata": {},
   "outputs": [],
   "source": []
  },
  {
   "cell_type": "code",
   "execution_count": null,
   "metadata": {},
   "outputs": [],
   "source": []
  },
  {
   "cell_type": "code",
   "execution_count": null,
   "metadata": {},
   "outputs": [],
   "source": []
  },
  {
   "cell_type": "code",
   "execution_count": null,
   "metadata": {},
   "outputs": [],
   "source": []
  },
  {
   "cell_type": "code",
   "execution_count": null,
   "metadata": {},
   "outputs": [],
   "source": []
  },
  {
   "cell_type": "code",
   "execution_count": null,
   "metadata": {
    "scrolled": true
   },
   "outputs": [],
   "source": [
    "test = Feature(df.drop(['ttf'], axis=1), '../../data.nosync/')\\\n",
    ".w_periodogram(window_size=100, window_stride=100, N=1000)\\"
   ]
  },
  {
   "cell_type": "code",
   "execution_count": null,
   "metadata": {},
   "outputs": [],
   "source": [
    "test.w_std(window_size=100, window_stride=100).data"
   ]
  },
  {
   "cell_type": "code",
   "execution_count": null,
   "metadata": {},
   "outputs": [],
   "source": [
    "p = Feature(df['ttf'], '../../data/')\n",
    "p = getattr(p, 'mean')(window_size=100, window_stride=100)"
   ]
  },
  {
   "cell_type": "code",
   "execution_count": null,
   "metadata": {
    "scrolled": true
   },
   "outputs": [],
   "source": [
    "temp = [np.array([1, 2, 3]), np.array([2, 3, 4])]\n",
    "dict(zip([\"a\", \"b\"], temp))"
   ]
  },
  {
   "cell_type": "code",
   "execution_count": null,
   "metadata": {},
   "outputs": [],
   "source": [
    "funcs = {\"functions\": {\"periodogram\": {\"N\": 1000}, \"mean\": {}}}\n",
    "for func_name, func_params in funcs['functions'].items():\n",
    "    print(func_name, func_params)"
   ]
  },
  {
   "cell_type": "code",
   "execution_count": null,
   "metadata": {},
   "outputs": [],
   "source": [
    "%%time \n",
    "\n",
    "filepath = '../../data/test/seg_00030f.csv'\n",
    "\n",
    "df = pd.read_csv(filepath, \n",
    "                 dtype={'acoustic_data': np.int16, 'time_to_failure': np.float32}, \n",
    "                 skiprows=1, \n",
    "                 names=['s', 'ttf'])"
   ]
  }
 ],
 "metadata": {
  "kernelspec": {
   "display_name": "Python 3",
   "language": "python",
   "name": "python3"
  },
  "language_info": {
   "codemirror_mode": {
    "name": "ipython",
    "version": 3
   },
   "file_extension": ".py",
   "mimetype": "text/x-python",
   "name": "python",
   "nbconvert_exporter": "python",
   "pygments_lexer": "ipython3",
   "version": "3.6.8"
  }
 },
 "nbformat": 4,
 "nbformat_minor": 2
}
