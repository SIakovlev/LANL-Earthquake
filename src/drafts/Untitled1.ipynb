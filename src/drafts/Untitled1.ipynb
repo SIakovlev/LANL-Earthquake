{
 "cells": [
  {
   "cell_type": "code",
   "execution_count": 20,
   "metadata": {},
   "outputs": [],
   "source": [
    "import numpy as np\n",
    "import pandas as pd\n",
    "import matplotlib.pyplot as plt\n",
    "import random\n",
    "import sys\n",
    "sys.path.append('../data_processing/')\n",
    "sys.path.append('../folds/')\n",
    "import pickle"
   ]
  },
  {
   "cell_type": "code",
   "execution_count": 21,
   "metadata": {},
   "outputs": [],
   "source": [
    "res = pickle.load(open('../../data/df_reduced_summary.pickle', 'rb'))"
   ]
  },
  {
   "cell_type": "code",
   "execution_count": 24,
   "metadata": {},
   "outputs": [
    {
     "data": {
      "text/plain": [
       "0    [1.4323037820210487, 2.165017442257431, 1.3464...\n",
       "0    [1.349036293525771, 3.595523196810914, 1.42613...\n",
       "0    [1.4332451895816483, 5.571879992469242, 1.4661...\n",
       "0    [1.5088073434611164, 1.500922373186923, 1.5059...\n",
       "Name: mean_absolute_error, dtype: object"
      ]
     },
     "execution_count": 24,
     "metadata": {},
     "output_type": "execute_result"
    }
   ],
   "source": [
    "res.mean_absolute_error"
   ]
  },
  {
   "cell_type": "code",
   "execution_count": 26,
   "metadata": {},
   "outputs": [
    {
     "data": {
      "text/plain": [
       "[1.5088073434611164,\n",
       " 1.500922373186923,\n",
       " 1.5059556188759078,\n",
       " 2.329337895366218,\n",
       " 1.4999796482526357,\n",
       " 1.7499543463257965,\n",
       " 1.4821779083837991,\n",
       " 1.972729049880758,\n",
       " 1.4882336589395864,\n",
       " 1.7272890728804584,\n",
       " 1.4511282157899958,\n",
       " 3.7578737296008082,\n",
       " 1.4766710043952433,\n",
       " 3.5275201950312938,\n",
       " 1.5102622730726316,\n",
       " 1.428598741354102,\n",
       " 1.482296807962713,\n",
       " 1.7056009353892065,\n",
       " 1.4686453642164934,\n",
       " 2.1347325641906627,\n",
       " 1.4681553832579588,\n",
       " 1.7530280874502495,\n",
       " 1.467143180646179,\n",
       " 2.7597612258862503,\n",
       " 1.5344923446082634,\n",
       " 1.5276393581730021,\n",
       " 1.5313462071857953,\n",
       " 1.5379554952736452,\n",
       " 1.3873298694032419,\n",
       " 5.6869735598228,\n",
       " 1.480398233803987,\n",
       " 2.405262989778499,\n",
       " 1.4959716065086952,\n",
       " 1.4215091060311675,\n",
       " 1.5075273335968544,\n",
       " 1.2074855039285985,\n",
       " 1.4886685415684247,\n",
       " 2.35746937151418,\n",
       " 1.5215095385597492,\n",
       " 1.30307957360159,\n",
       " 1.4772632825008511,\n",
       " 2.2468990334231282,\n",
       " 1.5507086472301028,\n",
       " 1.0991460317416841,\n",
       " 1.5037364483720816,\n",
       " 1.3781032989927102,\n",
       " 1.5040940235687297,\n",
       " 2.2842715708437433,\n",
       " 1.5062845209065179,\n",
       " 1.6220621586970594,\n",
       " 1.4457062495898154,\n",
       " 3.757702668020562,\n",
       " 1.5265764910357589,\n",
       " 1.0789787953728964,\n",
       " 1.4940801829201578,\n",
       " 1.850405496514653,\n",
       " 1.4829320367440089,\n",
       " 4.538629584427348,\n",
       " 1.5053868999319542,\n",
       " 2.0287668295522643,\n",
       " 1.485550960959558,\n",
       " 2.31043984294065]"
      ]
     },
     "execution_count": 26,
     "metadata": {},
     "output_type": "execute_result"
    }
   ],
   "source": [
    "res.mean_absolute_error.values[3]"
   ]
  },
  {
   "cell_type": "code",
   "execution_count": 19,
   "metadata": {},
   "outputs": [
    {
     "data": {
      "text/plain": [
       "[1.349036293525771,\n",
       " 3.595523196810914,\n",
       " 1.4261329259215483,\n",
       " 3.205737568636773,\n",
       " 1.3934268566434245,\n",
       " 3.0227006280658775,\n",
       " 1.3205718381367926,\n",
       " 3.8937595700043506,\n",
       " 1.5038336396748697,\n",
       " 2.157167141345668,\n",
       " 1.5328893513554238,\n",
       " 1.2853975554447628,\n",
       " 1.5144922078259633,\n",
       " 1.5579969348615523,\n",
       " 1.4810174008447436,\n",
       " 1.7359841211651181,\n",
       " 1.4102598937579331,\n",
       " 2.834780252754242,\n",
       " 1.5130414174512774,\n",
       " 1.5996765359841358]"
      ]
     },
     "execution_count": 19,
     "metadata": {},
     "output_type": "execute_result"
    }
   ],
   "source": [
    "res.mean_absolute_error.values[1]"
   ]
  },
  {
   "cell_type": "code",
   "execution_count": 9,
   "metadata": {},
   "outputs": [
    {
     "data": {
      "text/plain": [
       "20"
      ]
     },
     "execution_count": 9,
     "metadata": {},
     "output_type": "execute_result"
    }
   ],
   "source": [
    "len(res.mean_absolute_error.iloc[0])"
   ]
  },
  {
   "cell_type": "code",
   "execution_count": 5,
   "metadata": {},
   "outputs": [
    {
     "data": {
      "text/plain": [
       "0    [1.4323037820210487, 2.165017442257431, 1.3464...\n",
       "0    [1.349036293525771, 3.595523196810914, 1.42613...\n",
       "0    [1.4332451895816483, 5.571879992469242, 1.4661...\n",
       "Name: mean_absolute_error, dtype: object"
      ]
     },
     "execution_count": 5,
     "metadata": {},
     "output_type": "execute_result"
    }
   ],
   "source": [
    "res.mean_absolute_error"
   ]
  }
 ],
 "metadata": {
  "kernelspec": {
   "display_name": "Python 3",
   "language": "python",
   "name": "python3"
  },
  "language_info": {
   "codemirror_mode": {
    "name": "ipython",
    "version": 3
   },
   "file_extension": ".py",
   "mimetype": "text/x-python",
   "name": "python",
   "nbconvert_exporter": "python",
   "pygments_lexer": "ipython3",
   "version": "3.6.8"
  }
 },
 "nbformat": 4,
 "nbformat_minor": 2
}
