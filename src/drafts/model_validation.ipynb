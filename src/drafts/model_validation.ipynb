{
 "cells": [
  {
   "cell_type": "code",
   "execution_count": 1,
   "metadata": {},
   "outputs": [],
   "source": [
    "import pandas as pd\n",
    "import numpy as np\n",
    "import matplotlib.pyplot as plt\n",
    "import sys\n",
    "sys.path.append('../data_processing/')\n",
    "sys.path.append('../../')\n",
    "sys.path.append('../../src/')\n",
    "from feature import Feature\n",
    "import pickle"
   ]
  },
  {
   "cell_type": "code",
   "execution_count": 2,
   "metadata": {},
   "outputs": [],
   "source": [
    "df = pd.read_hdf('../../data/e_lexa/train_proceded_not_smooth_data.h5', key='table')"
   ]
  },
  {
   "cell_type": "code",
   "execution_count": 3,
   "metadata": {
    "scrolled": true
   },
   "outputs": [
    {
     "name": "stdout",
     "output_type": "stream",
     "text": [
      "Run 0:\n",
      "Couldn't open summary file: ../../data/lexa.pickle\n",
      "....................... Training model ..............................\n",
      "Percentage of data thrown out: 0.04769498105714336%\n",
      " --------------- fold #0 out of -------------------\n"
     ]
    },
    {
     "name": "stderr",
     "output_type": "stream",
     "text": [
      "/home/sergey/.conda/envs/kaggle/lib/python3.6/site-packages/xgboost/core.py:587: FutureWarning: Series.base is deprecated and will be removed in a future version\n",
      "  if getattr(data, 'base', None) is not None and \\\n"
     ]
    },
    {
     "name": "stdout",
     "output_type": "stream",
     "text": [
      "train score (mean_absolute_error): 1.5533\n",
      "train score (mean_squared_error): 4.1028\n",
      "validation score (mean_absolute_error): 2.7251\n",
      "validation score (mean_squared_error): 11.5977\n",
      "Percentage of data thrown out: 0.04769498105714336%\n",
      " --------------- fold #1 out of -------------------\n"
     ]
    },
    {
     "name": "stderr",
     "output_type": "stream",
     "text": [
      "/home/sergey/.conda/envs/kaggle/lib/python3.6/site-packages/xgboost/core.py:587: FutureWarning: Series.base is deprecated and will be removed in a future version\n",
      "  if getattr(data, 'base', None) is not None and \\\n"
     ]
    },
    {
     "name": "stdout",
     "output_type": "stream",
     "text": [
      "train score (mean_absolute_error): 1.4672\n",
      "train score (mean_squared_error): 3.8376\n",
      "validation score (mean_absolute_error): 2.3682\n",
      "validation score (mean_squared_error): 8.3184\n",
      "Percentage of data thrown out: 0.04769498105714336%\n",
      " --------------- fold #2 out of -------------------\n"
     ]
    },
    {
     "name": "stderr",
     "output_type": "stream",
     "text": [
      "/home/sergey/.conda/envs/kaggle/lib/python3.6/site-packages/xgboost/core.py:587: FutureWarning: Series.base is deprecated and will be removed in a future version\n",
      "  if getattr(data, 'base', None) is not None and \\\n"
     ]
    },
    {
     "name": "stdout",
     "output_type": "stream",
     "text": [
      "train score (mean_absolute_error): 1.4657\n",
      "train score (mean_squared_error): 3.7446\n",
      "validation score (mean_absolute_error): 2.5856\n",
      "validation score (mean_squared_error): 10.0674\n",
      "Percentage of data thrown out: 0.02384749052857168%\n",
      " --------------- fold #3 out of -------------------\n"
     ]
    },
    {
     "name": "stderr",
     "output_type": "stream",
     "text": [
      "/home/sergey/.conda/envs/kaggle/lib/python3.6/site-packages/xgboost/core.py:587: FutureWarning: Series.base is deprecated and will be removed in a future version\n",
      "  if getattr(data, 'base', None) is not None and \\\n"
     ]
    },
    {
     "name": "stdout",
     "output_type": "stream",
     "text": [
      "train score (mean_absolute_error): 1.5846\n",
      "train score (mean_squared_error): 4.2226\n",
      "validation score (mean_absolute_error): 2.1346\n",
      "validation score (mean_squared_error): 8.4055\n",
      "Percentage of data thrown out: 0.04769498105714336%\n",
      " --------------- fold #4 out of -------------------\n"
     ]
    },
    {
     "name": "stderr",
     "output_type": "stream",
     "text": [
      "/home/sergey/.conda/envs/kaggle/lib/python3.6/site-packages/xgboost/core.py:587: FutureWarning: Series.base is deprecated and will be removed in a future version\n",
      "  if getattr(data, 'base', None) is not None and \\\n"
     ]
    },
    {
     "name": "stdout",
     "output_type": "stream",
     "text": [
      "train score (mean_absolute_error): 1.5090\n",
      "train score (mean_squared_error): 3.9163\n",
      "validation score (mean_absolute_error): 2.0230\n",
      "validation score (mean_squared_error): 6.3242\n",
      "Percentage of data thrown out: 0.04769498105714336%\n",
      " --------------- fold #5 out of -------------------\n"
     ]
    },
    {
     "name": "stderr",
     "output_type": "stream",
     "text": [
      "/home/sergey/.conda/envs/kaggle/lib/python3.6/site-packages/xgboost/core.py:587: FutureWarning: Series.base is deprecated and will be removed in a future version\n",
      "  if getattr(data, 'base', None) is not None and \\\n"
     ]
    },
    {
     "name": "stdout",
     "output_type": "stream",
     "text": [
      "train score (mean_absolute_error): 1.4806\n",
      "train score (mean_squared_error): 3.8080\n",
      "validation score (mean_absolute_error): 2.5684\n",
      "validation score (mean_squared_error): 9.9704\n",
      "Percentage of data thrown out: 0.04769498105714336%\n",
      " --------------- fold #6 out of -------------------\n"
     ]
    },
    {
     "name": "stderr",
     "output_type": "stream",
     "text": [
      "/home/sergey/.conda/envs/kaggle/lib/python3.6/site-packages/xgboost/core.py:587: FutureWarning: Series.base is deprecated and will be removed in a future version\n",
      "  if getattr(data, 'base', None) is not None and \\\n"
     ]
    },
    {
     "name": "stdout",
     "output_type": "stream",
     "text": [
      "train score (mean_absolute_error): 1.4703\n",
      "train score (mean_squared_error): 3.8168\n",
      "validation score (mean_absolute_error): 2.6242\n",
      "validation score (mean_squared_error): 9.8627\n",
      "Percentage of data thrown out: 0.04769498105714336%\n",
      " --------------- fold #7 out of -------------------\n"
     ]
    },
    {
     "name": "stderr",
     "output_type": "stream",
     "text": [
      "/home/sergey/.conda/envs/kaggle/lib/python3.6/site-packages/xgboost/core.py:587: FutureWarning: Series.base is deprecated and will be removed in a future version\n",
      "  if getattr(data, 'base', None) is not None and \\\n"
     ]
    },
    {
     "name": "stdout",
     "output_type": "stream",
     "text": [
      "train score (mean_absolute_error): 1.3429\n",
      "train score (mean_squared_error): 3.1554\n",
      "validation score (mean_absolute_error): 4.1105\n",
      "validation score (mean_squared_error): 24.9842\n",
      "Percentage of data thrown out: 0.04769498105714336%\n",
      " --------------- fold #8 out of -------------------\n"
     ]
    },
    {
     "name": "stderr",
     "output_type": "stream",
     "text": [
      "/home/sergey/.conda/envs/kaggle/lib/python3.6/site-packages/xgboost/core.py:587: FutureWarning: Series.base is deprecated and will be removed in a future version\n",
      "  if getattr(data, 'base', None) is not None and \\\n"
     ]
    },
    {
     "name": "stdout",
     "output_type": "stream",
     "text": [
      "train score (mean_absolute_error): 1.5255\n",
      "train score (mean_squared_error): 3.9678\n",
      "validation score (mean_absolute_error): 2.0514\n",
      "validation score (mean_squared_error): 6.5235\n",
      "['data_fname' 'preproc_name' 'preproc_params' 'folds_name' 'folds_params'\n",
      " 'model_name' 'model_params' 'mean_absolute_error' 'mean_squared_error']\n",
      "                                          data_fname    preproc_name  \\\n",
      "0  ../../data/e_lexa/train_proceded_not_smooth_da...  StandardScaler   \n",
      "\n",
      "               preproc_params  folds_name  \\\n",
      "0  {'name': 'StandardScaler'}  CustomFold   \n",
      "\n",
      "                                        folds_params    model_name  \\\n",
      "0  {'name': 'CustomFold', 'n_splits': 9, 'pad': 1...  XGBRegressor   \n",
      "\n",
      "                                        model_params  \\\n",
      "0  {'name': 'XGBRegressor', 'eta': 0.001, 'max_de...   \n",
      "\n",
      "                                 mean_absolute_error  \\\n",
      "0  [1.5532532155476788, 2.72509738967074, 1.46717...   \n",
      "\n",
      "                                  mean_squared_error  \n",
      "0  [4.102801150649428, 11.597742032838708, 3.8376...  \n",
      ".......................Training finished.........................\n",
      "Run 1:\n",
      "....................... Training model ..............................\n",
      "Percentage of data thrown out: 0.04769498105714336%\n",
      " --------------- fold #0 out of -------------------\n"
     ]
    },
    {
     "name": "stderr",
     "output_type": "stream",
     "text": [
      "/home/sergey/.conda/envs/kaggle/lib/python3.6/site-packages/xgboost/core.py:587: FutureWarning: Series.base is deprecated and will be removed in a future version\n",
      "  if getattr(data, 'base', None) is not None and \\\n"
     ]
    },
    {
     "name": "stdout",
     "output_type": "stream",
     "text": [
      "train score (mean_absolute_error): 1.5654\n",
      "train score (mean_squared_error): 4.2257\n",
      "validation score (mean_absolute_error): 2.2521\n",
      "validation score (mean_squared_error): 7.2453\n",
      "Percentage of data thrown out: 0.04769498105714336%\n",
      " --------------- fold #1 out of -------------------\n"
     ]
    },
    {
     "name": "stderr",
     "output_type": "stream",
     "text": [
      "/home/sergey/.conda/envs/kaggle/lib/python3.6/site-packages/xgboost/core.py:587: FutureWarning: Series.base is deprecated and will be removed in a future version\n",
      "  if getattr(data, 'base', None) is not None and \\\n"
     ]
    },
    {
     "name": "stdout",
     "output_type": "stream",
     "text": [
      "train score (mean_absolute_error): 1.4496\n",
      "train score (mean_squared_error): 3.7153\n",
      "validation score (mean_absolute_error): 2.5900\n",
      "validation score (mean_squared_error): 9.6052\n",
      "Percentage of data thrown out: 0.04769498105714336%\n",
      " --------------- fold #2 out of -------------------\n"
     ]
    },
    {
     "name": "stderr",
     "output_type": "stream",
     "text": [
      "/home/sergey/.conda/envs/kaggle/lib/python3.6/site-packages/xgboost/core.py:587: FutureWarning: Series.base is deprecated and will be removed in a future version\n",
      "  if getattr(data, 'base', None) is not None and \\\n"
     ]
    },
    {
     "name": "stdout",
     "output_type": "stream",
     "text": [
      "train score (mean_absolute_error): 1.5475\n",
      "train score (mean_squared_error): 4.0726\n",
      "validation score (mean_absolute_error): 1.6881\n",
      "validation score (mean_squared_error): 4.3214\n",
      "Percentage of data thrown out: 0.04769498105714336%\n",
      " --------------- fold #3 out of -------------------\n"
     ]
    },
    {
     "name": "stderr",
     "output_type": "stream",
     "text": [
      "/home/sergey/.conda/envs/kaggle/lib/python3.6/site-packages/xgboost/core.py:587: FutureWarning: Series.base is deprecated and will be removed in a future version\n",
      "  if getattr(data, 'base', None) is not None and \\\n"
     ]
    },
    {
     "name": "stdout",
     "output_type": "stream",
     "text": [
      "train score (mean_absolute_error): 1.3757\n",
      "train score (mean_squared_error): 3.1887\n",
      "validation score (mean_absolute_error): 3.9148\n",
      "validation score (mean_squared_error): 22.3369\n",
      "Percentage of data thrown out: 0.04769498105714336%\n",
      " --------------- fold #4 out of -------------------\n"
     ]
    },
    {
     "name": "stderr",
     "output_type": "stream",
     "text": [
      "/home/sergey/.conda/envs/kaggle/lib/python3.6/site-packages/xgboost/core.py:587: FutureWarning: Series.base is deprecated and will be removed in a future version\n",
      "  if getattr(data, 'base', None) is not None and \\\n"
     ]
    },
    {
     "name": "stdout",
     "output_type": "stream",
     "text": [
      "train score (mean_absolute_error): 1.5792\n",
      "train score (mean_squared_error): 4.1850\n",
      "validation score (mean_absolute_error): 1.5567\n",
      "validation score (mean_squared_error): 4.7409\n",
      "Percentage of data thrown out: 0.02384749052857168%\n",
      " --------------- fold #5 out of -------------------\n"
     ]
    },
    {
     "name": "stderr",
     "output_type": "stream",
     "text": [
      "/home/sergey/.conda/envs/kaggle/lib/python3.6/site-packages/xgboost/core.py:587: FutureWarning: Series.base is deprecated and will be removed in a future version\n",
      "  if getattr(data, 'base', None) is not None and \\\n"
     ]
    },
    {
     "name": "stdout",
     "output_type": "stream",
     "text": [
      "train score (mean_absolute_error): 1.5864\n",
      "train score (mean_squared_error): 4.2248\n",
      "validation score (mean_absolute_error): 2.1780\n",
      "validation score (mean_squared_error): 8.7009\n",
      "Percentage of data thrown out: 0.04769498105714336%\n",
      " --------------- fold #6 out of -------------------\n"
     ]
    },
    {
     "name": "stderr",
     "output_type": "stream",
     "text": [
      "/home/sergey/.conda/envs/kaggle/lib/python3.6/site-packages/xgboost/core.py:587: FutureWarning: Series.base is deprecated and will be removed in a future version\n",
      "  if getattr(data, 'base', None) is not None and \\\n"
     ]
    },
    {
     "name": "stdout",
     "output_type": "stream",
     "text": [
      "train score (mean_absolute_error): 1.4344\n",
      "train score (mean_squared_error): 3.5643\n",
      "validation score (mean_absolute_error): 3.0750\n",
      "validation score (mean_squared_error): 14.7065\n",
      "Percentage of data thrown out: 0.04769498105714336%\n",
      " --------------- fold #7 out of -------------------\n"
     ]
    },
    {
     "name": "stderr",
     "output_type": "stream",
     "text": [
      "/home/sergey/.conda/envs/kaggle/lib/python3.6/site-packages/xgboost/core.py:587: FutureWarning: Series.base is deprecated and will be removed in a future version\n",
      "  if getattr(data, 'base', None) is not None and \\\n"
     ]
    },
    {
     "name": "stdout",
     "output_type": "stream",
     "text": [
      "train score (mean_absolute_error): 1.6021\n",
      "train score (mean_squared_error): 4.3067\n",
      "validation score (mean_absolute_error): 1.2931\n",
      "validation score (mean_squared_error): 2.9045\n",
      "Percentage of data thrown out: 0.04769498105714336%\n",
      " --------------- fold #8 out of -------------------\n"
     ]
    },
    {
     "name": "stderr",
     "output_type": "stream",
     "text": [
      "/home/sergey/.conda/envs/kaggle/lib/python3.6/site-packages/xgboost/core.py:587: FutureWarning: Series.base is deprecated and will be removed in a future version\n",
      "  if getattr(data, 'base', None) is not None and \\\n"
     ]
    },
    {
     "name": "stdout",
     "output_type": "stream",
     "text": [
      "train score (mean_absolute_error): 1.3672\n",
      "train score (mean_squared_error): 3.2545\n",
      "validation score (mean_absolute_error): 4.0285\n",
      "validation score (mean_squared_error): 23.8960\n",
      "['data_fname' 'preproc_name' 'preproc_params' 'folds_name' 'folds_params'\n",
      " 'model_name' 'model_params' 'mean_absolute_error' 'mean_squared_error']\n",
      "                                          data_fname    preproc_name  \\\n",
      "0  ../../data/e_lexa/train_proceded_not_smooth_da...  StandardScaler   \n",
      "\n",
      "               preproc_params  folds_name  \\\n",
      "0  {'name': 'StandardScaler'}  CustomFold   \n",
      "\n",
      "                                        folds_params    model_name  \\\n",
      "0  {'name': 'CustomFold', 'n_splits': 9, 'pad': 1...  XGBRegressor   \n",
      "\n",
      "                                        model_params  \\\n",
      "0  {'name': 'XGBRegressor', 'eta': 0.001, 'max_de...   \n",
      "\n",
      "                                 mean_absolute_error  \\\n",
      "0  [1.5654463976459616, 2.2520777919294783, 1.449...   \n",
      "\n",
      "                                  mean_squared_error  \n",
      "0  [4.22568650518424, 7.245343732256518, 3.715317...  \n",
      ".......................Training finished.........................\n",
      "Run 2:\n",
      "....................... Training model ..............................\n",
      "Percentage of data thrown out: 0.04769498105714336%\n",
      " --------------- fold #0 out of -------------------\n"
     ]
    },
    {
     "name": "stderr",
     "output_type": "stream",
     "text": [
      "/home/sergey/.conda/envs/kaggle/lib/python3.6/site-packages/xgboost/core.py:587: FutureWarning: Series.base is deprecated and will be removed in a future version\n",
      "  if getattr(data, 'base', None) is not None and \\\n"
     ]
    },
    {
     "name": "stdout",
     "output_type": "stream",
     "text": [
      "train score (mean_absolute_error): 1.4098\n",
      "train score (mean_squared_error): 3.4319\n",
      "validation score (mean_absolute_error): 3.2183\n",
      "validation score (mean_squared_error): 15.6996\n",
      "Percentage of data thrown out: 0.04769498105714336%\n",
      " --------------- fold #1 out of -------------------\n"
     ]
    },
    {
     "name": "stderr",
     "output_type": "stream",
     "text": [
      "/home/sergey/.conda/envs/kaggle/lib/python3.6/site-packages/xgboost/core.py:587: FutureWarning: Series.base is deprecated and will be removed in a future version\n",
      "  if getattr(data, 'base', None) is not None and \\\n"
     ]
    },
    {
     "name": "stdout",
     "output_type": "stream",
     "text": [
      "train score (mean_absolute_error): 1.3974\n",
      "train score (mean_squared_error): 3.3498\n",
      "validation score (mean_absolute_error): 3.8106\n",
      "validation score (mean_squared_error): 19.8905\n",
      "Percentage of data thrown out: 0.04769498105714336%\n",
      " --------------- fold #2 out of -------------------\n"
     ]
    },
    {
     "name": "stderr",
     "output_type": "stream",
     "text": [
      "/home/sergey/.conda/envs/kaggle/lib/python3.6/site-packages/xgboost/core.py:587: FutureWarning: Series.base is deprecated and will be removed in a future version\n",
      "  if getattr(data, 'base', None) is not None and \\\n"
     ]
    },
    {
     "name": "stdout",
     "output_type": "stream",
     "text": [
      "train score (mean_absolute_error): 1.4198\n",
      "train score (mean_squared_error): 3.4981\n",
      "validation score (mean_absolute_error): 3.1799\n",
      "validation score (mean_squared_error): 15.4128\n",
      "Percentage of data thrown out: 0.02384749052857168%\n",
      " --------------- fold #3 out of -------------------\n"
     ]
    },
    {
     "name": "stderr",
     "output_type": "stream",
     "text": [
      "/home/sergey/.conda/envs/kaggle/lib/python3.6/site-packages/xgboost/core.py:587: FutureWarning: Series.base is deprecated and will be removed in a future version\n",
      "  if getattr(data, 'base', None) is not None and \\\n"
     ]
    },
    {
     "name": "stdout",
     "output_type": "stream",
     "text": [
      "train score (mean_absolute_error): 1.5696\n",
      "train score (mean_squared_error): 4.1583\n",
      "validation score (mean_absolute_error): 2.3496\n",
      "validation score (mean_squared_error): 8.1821\n",
      "Percentage of data thrown out: 0.04769498105714336%\n",
      " --------------- fold #4 out of -------------------\n"
     ]
    },
    {
     "name": "stderr",
     "output_type": "stream",
     "text": [
      "/home/sergey/.conda/envs/kaggle/lib/python3.6/site-packages/xgboost/core.py:587: FutureWarning: Series.base is deprecated and will be removed in a future version\n",
      "  if getattr(data, 'base', None) is not None and \\\n"
     ]
    },
    {
     "name": "stdout",
     "output_type": "stream",
     "text": [
      "train score (mean_absolute_error): 1.5046\n",
      "train score (mean_squared_error): 3.8912\n",
      "validation score (mean_absolute_error): 2.7644\n",
      "validation score (mean_squared_error): 11.1570\n",
      "Percentage of data thrown out: 0.04769498105714336%\n",
      " --------------- fold #5 out of -------------------\n"
     ]
    },
    {
     "name": "stderr",
     "output_type": "stream",
     "text": [
      "/home/sergey/.conda/envs/kaggle/lib/python3.6/site-packages/xgboost/core.py:587: FutureWarning: Series.base is deprecated and will be removed in a future version\n",
      "  if getattr(data, 'base', None) is not None and \\\n"
     ]
    },
    {
     "name": "stdout",
     "output_type": "stream",
     "text": [
      "train score (mean_absolute_error): 1.5840\n",
      "train score (mean_squared_error): 4.1994\n",
      "validation score (mean_absolute_error): 2.7584\n",
      "validation score (mean_squared_error): 10.5638\n",
      "Percentage of data thrown out: 0.04769498105714336%\n",
      " --------------- fold #6 out of -------------------\n"
     ]
    },
    {
     "name": "stderr",
     "output_type": "stream",
     "text": [
      "/home/sergey/.conda/envs/kaggle/lib/python3.6/site-packages/xgboost/core.py:587: FutureWarning: Series.base is deprecated and will be removed in a future version\n",
      "  if getattr(data, 'base', None) is not None and \\\n"
     ]
    },
    {
     "name": "stdout",
     "output_type": "stream",
     "text": [
      "train score (mean_absolute_error): 1.4311\n",
      "train score (mean_squared_error): 3.6065\n",
      "validation score (mean_absolute_error): 2.9995\n",
      "validation score (mean_squared_error): 13.9684\n",
      "Percentage of data thrown out: 0.04769498105714336%\n",
      " --------------- fold #7 out of -------------------\n"
     ]
    },
    {
     "name": "stderr",
     "output_type": "stream",
     "text": [
      "/home/sergey/.conda/envs/kaggle/lib/python3.6/site-packages/xgboost/core.py:587: FutureWarning: Series.base is deprecated and will be removed in a future version\n",
      "  if getattr(data, 'base', None) is not None and \\\n"
     ]
    },
    {
     "name": "stdout",
     "output_type": "stream",
     "text": [
      "train score (mean_absolute_error): 1.5750\n",
      "train score (mean_squared_error): 4.2364\n",
      "validation score (mean_absolute_error): 1.9268\n",
      "validation score (mean_squared_error): 6.1345\n",
      "Percentage of data thrown out: 0.04769498105714336%\n",
      " --------------- fold #8 out of -------------------\n"
     ]
    },
    {
     "name": "stderr",
     "output_type": "stream",
     "text": [
      "/home/sergey/.conda/envs/kaggle/lib/python3.6/site-packages/xgboost/core.py:587: FutureWarning: Series.base is deprecated and will be removed in a future version\n",
      "  if getattr(data, 'base', None) is not None and \\\n"
     ]
    },
    {
     "name": "stdout",
     "output_type": "stream",
     "text": [
      "train score (mean_absolute_error): 1.5764\n",
      "train score (mean_squared_error): 4.2613\n",
      "validation score (mean_absolute_error): 2.5242\n",
      "validation score (mean_squared_error): 10.1495\n",
      "['data_fname' 'preproc_name' 'preproc_params' 'folds_name' 'folds_params'\n",
      " 'model_name' 'model_params' 'mean_absolute_error' 'mean_squared_error']\n",
      "                                          data_fname    preproc_name  \\\n",
      "0  ../../data/e_lexa/train_proceded_not_smooth_da...  StandardScaler   \n",
      "\n",
      "               preproc_params  folds_name  \\\n",
      "0  {'name': 'StandardScaler'}  CustomFold   \n",
      "\n",
      "                                        folds_params    model_name  \\\n",
      "0  {'name': 'CustomFold', 'n_splits': 9, 'pad': 1...  XGBRegressor   \n",
      "\n",
      "                                        model_params  \\\n",
      "0  {'name': 'XGBRegressor', 'eta': 0.001, 'max_de...   \n",
      "\n",
      "                                 mean_absolute_error  \\\n",
      "0  [1.409815363502215, 3.2183335420848267, 1.3973...   \n",
      "\n",
      "                                  mean_squared_error  \n",
      "0  [3.431949382535085, 15.699600639240046, 3.3497...  \n",
      ".......................Training finished.........................\n",
      "Run 3:\n",
      "....................... Training model ..............................\n",
      "Percentage of data thrown out: 0.02384749052857168%\n",
      " --------------- fold #0 out of -------------------\n"
     ]
    },
    {
     "name": "stderr",
     "output_type": "stream",
     "text": [
      "/home/sergey/.conda/envs/kaggle/lib/python3.6/site-packages/xgboost/core.py:587: FutureWarning: Series.base is deprecated and will be removed in a future version\n",
      "  if getattr(data, 'base', None) is not None and \\\n"
     ]
    },
    {
     "name": "stdout",
     "output_type": "stream",
     "text": [
      "train score (mean_absolute_error): 1.5923\n",
      "train score (mean_squared_error): 4.2439\n",
      "validation score (mean_absolute_error): 2.0216\n",
      "validation score (mean_squared_error): 4.8594\n",
      "Percentage of data thrown out: 0.04769498105714336%\n",
      " --------------- fold #1 out of -------------------\n"
     ]
    },
    {
     "name": "stderr",
     "output_type": "stream",
     "text": [
      "/home/sergey/.conda/envs/kaggle/lib/python3.6/site-packages/xgboost/core.py:587: FutureWarning: Series.base is deprecated and will be removed in a future version\n",
      "  if getattr(data, 'base', None) is not None and \\\n"
     ]
    },
    {
     "name": "stdout",
     "output_type": "stream",
     "text": [
      "train score (mean_absolute_error): 1.5500\n",
      "train score (mean_squared_error): 4.1418\n",
      "validation score (mean_absolute_error): 1.6865\n",
      "validation score (mean_squared_error): 4.2986\n",
      "Percentage of data thrown out: 0.02384749052857168%\n",
      " --------------- fold #2 out of -------------------\n"
     ]
    },
    {
     "name": "stderr",
     "output_type": "stream",
     "text": [
      "/home/sergey/.conda/envs/kaggle/lib/python3.6/site-packages/xgboost/core.py:587: FutureWarning: Series.base is deprecated and will be removed in a future version\n",
      "  if getattr(data, 'base', None) is not None and \\\n"
     ]
    },
    {
     "name": "stdout",
     "output_type": "stream",
     "text": [
      "train score (mean_absolute_error): 1.5583\n",
      "train score (mean_squared_error): 4.1461\n",
      "validation score (mean_absolute_error): 1.9112\n",
      "validation score (mean_squared_error): 5.8232\n",
      "Percentage of data thrown out: 0.02384749052857168%\n",
      " --------------- fold #3 out of -------------------\n"
     ]
    },
    {
     "name": "stderr",
     "output_type": "stream",
     "text": [
      "/home/sergey/.conda/envs/kaggle/lib/python3.6/site-packages/xgboost/core.py:587: FutureWarning: Series.base is deprecated and will be removed in a future version\n",
      "  if getattr(data, 'base', None) is not None and \\\n"
     ]
    },
    {
     "name": "stdout",
     "output_type": "stream",
     "text": [
      "train score (mean_absolute_error): 1.5656\n",
      "train score (mean_squared_error): 4.1088\n",
      "validation score (mean_absolute_error): 2.4131\n",
      "validation score (mean_squared_error): 10.5297\n",
      "Percentage of data thrown out: 0.04769498105714336%\n",
      " --------------- fold #4 out of -------------------\n"
     ]
    },
    {
     "name": "stderr",
     "output_type": "stream",
     "text": [
      "/home/sergey/.conda/envs/kaggle/lib/python3.6/site-packages/xgboost/core.py:587: FutureWarning: Series.base is deprecated and will be removed in a future version\n",
      "  if getattr(data, 'base', None) is not None and \\\n"
     ]
    },
    {
     "name": "stdout",
     "output_type": "stream",
     "text": [
      "train score (mean_absolute_error): 1.5297\n",
      "train score (mean_squared_error): 4.0397\n",
      "validation score (mean_absolute_error): 2.1830\n",
      "validation score (mean_squared_error): 6.9560\n",
      "Percentage of data thrown out: 0.04769498105714336%\n",
      " --------------- fold #5 out of -------------------\n"
     ]
    },
    {
     "name": "stderr",
     "output_type": "stream",
     "text": [
      "/home/sergey/.conda/envs/kaggle/lib/python3.6/site-packages/xgboost/core.py:587: FutureWarning: Series.base is deprecated and will be removed in a future version\n",
      "  if getattr(data, 'base', None) is not None and \\\n"
     ]
    },
    {
     "name": "stdout",
     "output_type": "stream",
     "text": [
      "train score (mean_absolute_error): 1.3673\n",
      "train score (mean_squared_error): 3.1776\n",
      "validation score (mean_absolute_error): 3.9356\n",
      "validation score (mean_squared_error): 22.4491\n",
      "Percentage of data thrown out: 0.04769498105714336%\n",
      " --------------- fold #6 out of -------------------\n"
     ]
    },
    {
     "name": "stderr",
     "output_type": "stream",
     "text": [
      "/home/sergey/.conda/envs/kaggle/lib/python3.6/site-packages/xgboost/core.py:587: FutureWarning: Series.base is deprecated and will be removed in a future version\n",
      "  if getattr(data, 'base', None) is not None and \\\n"
     ]
    },
    {
     "name": "stdout",
     "output_type": "stream",
     "text": [
      "train score (mean_absolute_error): 1.5575\n",
      "train score (mean_squared_error): 4.0721\n",
      "validation score (mean_absolute_error): 1.3660\n",
      "validation score (mean_squared_error): 3.3230\n",
      "Percentage of data thrown out: 0.04769498105714336%\n",
      " --------------- fold #7 out of -------------------\n"
     ]
    },
    {
     "name": "stderr",
     "output_type": "stream",
     "text": [
      "/home/sergey/.conda/envs/kaggle/lib/python3.6/site-packages/xgboost/core.py:587: FutureWarning: Series.base is deprecated and will be removed in a future version\n",
      "  if getattr(data, 'base', None) is not None and \\\n"
     ]
    },
    {
     "name": "stdout",
     "output_type": "stream",
     "text": [
      "train score (mean_absolute_error): 1.4041\n",
      "train score (mean_squared_error): 3.4565\n",
      "validation score (mean_absolute_error): 3.7726\n",
      "validation score (mean_squared_error): 19.4790\n",
      "Percentage of data thrown out: 0.04769498105714336%\n",
      " --------------- fold #8 out of -------------------\n"
     ]
    },
    {
     "name": "stderr",
     "output_type": "stream",
     "text": [
      "/home/sergey/.conda/envs/kaggle/lib/python3.6/site-packages/xgboost/core.py:587: FutureWarning: Series.base is deprecated and will be removed in a future version\n",
      "  if getattr(data, 'base', None) is not None and \\\n"
     ]
    },
    {
     "name": "stdout",
     "output_type": "stream",
     "text": [
      "train score (mean_absolute_error): 1.5953\n",
      "train score (mean_squared_error): 4.2923\n",
      "validation score (mean_absolute_error): 2.3494\n",
      "validation score (mean_squared_error): 9.3153\n",
      "['data_fname' 'preproc_name' 'preproc_params' 'folds_name' 'folds_params'\n",
      " 'model_name' 'model_params' 'mean_absolute_error' 'mean_squared_error']\n",
      "                                          data_fname    preproc_name  \\\n",
      "0  ../../data/e_lexa/train_proceded_not_smooth_da...  StandardScaler   \n",
      "\n",
      "               preproc_params  folds_name  \\\n",
      "0  {'name': 'StandardScaler'}  CustomFold   \n",
      "\n",
      "                                        folds_params    model_name  \\\n",
      "0  {'name': 'CustomFold', 'n_splits': 9, 'pad': 1...  XGBRegressor   \n",
      "\n",
      "                                        model_params  \\\n",
      "0  {'name': 'XGBRegressor', 'eta': 0.001, 'max_de...   \n",
      "\n",
      "                                 mean_absolute_error  \\\n",
      "0  [1.5922797342922244, 2.0216022524039965, 1.549...   \n",
      "\n",
      "                                  mean_squared_error  \n",
      "0  [4.2439471874034265, 4.859408418753407, 4.1418...  \n",
      ".......................Training finished.........................\n",
      "Run 4:\n",
      "....................... Training model ..............................\n",
      "Percentage of data thrown out: 0.04769498105714336%\n",
      " --------------- fold #0 out of -------------------\n"
     ]
    },
    {
     "name": "stderr",
     "output_type": "stream",
     "text": [
      "/home/sergey/.conda/envs/kaggle/lib/python3.6/site-packages/xgboost/core.py:587: FutureWarning: Series.base is deprecated and will be removed in a future version\n",
      "  if getattr(data, 'base', None) is not None and \\\n"
     ]
    },
    {
     "name": "stdout",
     "output_type": "stream",
     "text": [
      "train score (mean_absolute_error): 1.4482\n",
      "train score (mean_squared_error): 3.6881\n",
      "validation score (mean_absolute_error): 3.6308\n",
      "validation score (mean_squared_error): 17.9064\n",
      "Percentage of data thrown out: 0.04769498105714336%\n",
      " --------------- fold #1 out of -------------------\n"
     ]
    },
    {
     "name": "stderr",
     "output_type": "stream",
     "text": [
      "/home/sergey/.conda/envs/kaggle/lib/python3.6/site-packages/xgboost/core.py:587: FutureWarning: Series.base is deprecated and will be removed in a future version\n",
      "  if getattr(data, 'base', None) is not None and \\\n"
     ]
    },
    {
     "name": "stdout",
     "output_type": "stream",
     "text": [
      "train score (mean_absolute_error): 1.4744\n",
      "train score (mean_squared_error): 3.8343\n",
      "validation score (mean_absolute_error): 2.0712\n",
      "validation score (mean_squared_error): 7.3667\n",
      "Percentage of data thrown out: 0.04769498105714336%\n",
      " --------------- fold #2 out of -------------------\n"
     ]
    },
    {
     "name": "stderr",
     "output_type": "stream",
     "text": [
      "/home/sergey/.conda/envs/kaggle/lib/python3.6/site-packages/xgboost/core.py:587: FutureWarning: Series.base is deprecated and will be removed in a future version\n",
      "  if getattr(data, 'base', None) is not None and \\\n"
     ]
    },
    {
     "name": "stdout",
     "output_type": "stream",
     "text": [
      "train score (mean_absolute_error): 1.5434\n",
      "train score (mean_squared_error): 4.0746\n",
      "validation score (mean_absolute_error): 2.2021\n",
      "validation score (mean_squared_error): 7.1137\n",
      "Percentage of data thrown out: 0.04769498105714336%\n",
      " --------------- fold #3 out of -------------------\n"
     ]
    },
    {
     "name": "stderr",
     "output_type": "stream",
     "text": [
      "/home/sergey/.conda/envs/kaggle/lib/python3.6/site-packages/xgboost/core.py:587: FutureWarning: Series.base is deprecated and will be removed in a future version\n",
      "  if getattr(data, 'base', None) is not None and \\\n"
     ]
    },
    {
     "name": "stdout",
     "output_type": "stream",
     "text": [
      "train score (mean_absolute_error): 1.5132\n",
      "train score (mean_squared_error): 3.9951\n",
      "validation score (mean_absolute_error): 2.0426\n",
      "validation score (mean_squared_error): 7.0069\n",
      "Percentage of data thrown out: 0.02384749052857168%\n",
      " --------------- fold #4 out of -------------------\n"
     ]
    },
    {
     "name": "stderr",
     "output_type": "stream",
     "text": [
      "/home/sergey/.conda/envs/kaggle/lib/python3.6/site-packages/xgboost/core.py:587: FutureWarning: Series.base is deprecated and will be removed in a future version\n",
      "  if getattr(data, 'base', None) is not None and \\\n"
     ]
    },
    {
     "name": "stdout",
     "output_type": "stream",
     "text": [
      "train score (mean_absolute_error): 1.5941\n",
      "train score (mean_squared_error): 4.3141\n",
      "validation score (mean_absolute_error): 1.9292\n",
      "validation score (mean_squared_error): 5.7195\n",
      "Percentage of data thrown out: 0.04769498105714336%\n",
      " --------------- fold #5 out of -------------------\n"
     ]
    },
    {
     "name": "stderr",
     "output_type": "stream",
     "text": [
      "/home/sergey/.conda/envs/kaggle/lib/python3.6/site-packages/xgboost/core.py:587: FutureWarning: Series.base is deprecated and will be removed in a future version\n",
      "  if getattr(data, 'base', None) is not None and \\\n"
     ]
    },
    {
     "name": "stdout",
     "output_type": "stream",
     "text": [
      "train score (mean_absolute_error): 1.4761\n",
      "train score (mean_squared_error): 3.8123\n",
      "validation score (mean_absolute_error): 3.1884\n",
      "validation score (mean_squared_error): 13.9233\n",
      "Percentage of data thrown out: 0.04769498105714336%\n",
      " --------------- fold #6 out of -------------------\n"
     ]
    },
    {
     "name": "stderr",
     "output_type": "stream",
     "text": [
      "/home/sergey/.conda/envs/kaggle/lib/python3.6/site-packages/xgboost/core.py:587: FutureWarning: Series.base is deprecated and will be removed in a future version\n",
      "  if getattr(data, 'base', None) is not None and \\\n"
     ]
    },
    {
     "name": "stdout",
     "output_type": "stream",
     "text": [
      "train score (mean_absolute_error): 1.5166\n",
      "train score (mean_squared_error): 3.9322\n",
      "validation score (mean_absolute_error): 2.4573\n",
      "validation score (mean_squared_error): 9.8744\n",
      "Percentage of data thrown out: 0.04769498105714336%\n",
      " --------------- fold #7 out of -------------------\n"
     ]
    },
    {
     "name": "stderr",
     "output_type": "stream",
     "text": [
      "/home/sergey/.conda/envs/kaggle/lib/python3.6/site-packages/xgboost/core.py:587: FutureWarning: Series.base is deprecated and will be removed in a future version\n",
      "  if getattr(data, 'base', None) is not None and \\\n"
     ]
    },
    {
     "name": "stdout",
     "output_type": "stream",
     "text": [
      "train score (mean_absolute_error): 1.5896\n",
      "train score (mean_squared_error): 4.2248\n",
      "validation score (mean_absolute_error): 1.3481\n",
      "validation score (mean_squared_error): 3.4696\n",
      "Percentage of data thrown out: 0.04769498105714336%\n",
      " --------------- fold #8 out of -------------------\n"
     ]
    },
    {
     "name": "stderr",
     "output_type": "stream",
     "text": [
      "/home/sergey/.conda/envs/kaggle/lib/python3.6/site-packages/xgboost/core.py:587: FutureWarning: Series.base is deprecated and will be removed in a future version\n",
      "  if getattr(data, 'base', None) is not None and \\\n"
     ]
    },
    {
     "name": "stdout",
     "output_type": "stream",
     "text": [
      "train score (mean_absolute_error): 1.5517\n",
      "train score (mean_squared_error): 4.0995\n",
      "validation score (mean_absolute_error): 2.1278\n",
      "validation score (mean_squared_error): 7.4215\n",
      "['data_fname' 'preproc_name' 'preproc_params' 'folds_name' 'folds_params'\n",
      " 'model_name' 'model_params' 'mean_absolute_error' 'mean_squared_error']\n",
      "                                          data_fname    preproc_name  \\\n",
      "0  ../../data/e_lexa/train_proceded_not_smooth_da...  StandardScaler   \n",
      "\n",
      "               preproc_params  folds_name  \\\n",
      "0  {'name': 'StandardScaler'}  CustomFold   \n",
      "\n",
      "                                        folds_params    model_name  \\\n",
      "0  {'name': 'CustomFold', 'n_splits': 9, 'pad': 1...  XGBRegressor   \n",
      "\n",
      "                                        model_params  \\\n",
      "0  {'name': 'XGBRegressor', 'eta': 0.001, 'max_de...   \n",
      "\n",
      "                                 mean_absolute_error  \\\n",
      "0  [1.4481813788971654, 3.630810018442394, 1.4744...   \n",
      "\n",
      "                                  mean_squared_error  \n",
      "0  [3.6880579373652105, 17.906407860490877, 3.834...  \n",
      ".......................Training finished.........................\n",
      "Run 5:\n",
      "....................... Training model ..............................\n",
      "Percentage of data thrown out: 0.04769498105714336%\n",
      " --------------- fold #0 out of -------------------\n"
     ]
    },
    {
     "name": "stderr",
     "output_type": "stream",
     "text": [
      "/home/sergey/.conda/envs/kaggle/lib/python3.6/site-packages/xgboost/core.py:587: FutureWarning: Series.base is deprecated and will be removed in a future version\n",
      "  if getattr(data, 'base', None) is not None and \\\n"
     ]
    },
    {
     "name": "stdout",
     "output_type": "stream",
     "text": [
      "train score (mean_absolute_error): 1.5769\n",
      "train score (mean_squared_error): 4.2387\n",
      "validation score (mean_absolute_error): 1.3269\n",
      "validation score (mean_squared_error): 2.9027\n",
      "Percentage of data thrown out: 0.04769498105714336%\n",
      " --------------- fold #1 out of -------------------\n"
     ]
    },
    {
     "name": "stderr",
     "output_type": "stream",
     "text": [
      "/home/sergey/.conda/envs/kaggle/lib/python3.6/site-packages/xgboost/core.py:587: FutureWarning: Series.base is deprecated and will be removed in a future version\n",
      "  if getattr(data, 'base', None) is not None and \\\n"
     ]
    },
    {
     "name": "stdout",
     "output_type": "stream",
     "text": [
      "train score (mean_absolute_error): 1.5959\n",
      "train score (mean_squared_error): 4.2301\n",
      "validation score (mean_absolute_error): 1.3597\n",
      "validation score (mean_squared_error): 3.4509\n",
      "Percentage of data thrown out: 0.04769498105714336%\n",
      " --------------- fold #2 out of -------------------\n"
     ]
    },
    {
     "name": "stderr",
     "output_type": "stream",
     "text": [
      "/home/sergey/.conda/envs/kaggle/lib/python3.6/site-packages/xgboost/core.py:587: FutureWarning: Series.base is deprecated and will be removed in a future version\n",
      "  if getattr(data, 'base', None) is not None and \\\n"
     ]
    },
    {
     "name": "stdout",
     "output_type": "stream",
     "text": [
      "train score (mean_absolute_error): 1.5357\n",
      "train score (mean_squared_error): 4.0106\n",
      "validation score (mean_absolute_error): 2.2141\n",
      "validation score (mean_squared_error): 8.4878\n",
      "Percentage of data thrown out: 0.04769498105714336%\n",
      " --------------- fold #3 out of -------------------\n"
     ]
    },
    {
     "name": "stderr",
     "output_type": "stream",
     "text": [
      "/home/sergey/.conda/envs/kaggle/lib/python3.6/site-packages/xgboost/core.py:587: FutureWarning: Series.base is deprecated and will be removed in a future version\n",
      "  if getattr(data, 'base', None) is not None and \\\n"
     ]
    },
    {
     "name": "stdout",
     "output_type": "stream",
     "text": [
      "train score (mean_absolute_error): 1.5421\n",
      "train score (mean_squared_error): 4.1550\n",
      "validation score (mean_absolute_error): 2.3003\n",
      "validation score (mean_squared_error): 7.5822\n",
      "Percentage of data thrown out: 0.04769498105714336%\n",
      " --------------- fold #4 out of -------------------\n"
     ]
    },
    {
     "name": "stderr",
     "output_type": "stream",
     "text": [
      "/home/sergey/.conda/envs/kaggle/lib/python3.6/site-packages/xgboost/core.py:587: FutureWarning: Series.base is deprecated and will be removed in a future version\n",
      "  if getattr(data, 'base', None) is not None and \\\n"
     ]
    },
    {
     "name": "stdout",
     "output_type": "stream",
     "text": [
      "train score (mean_absolute_error): 1.5315\n",
      "train score (mean_squared_error): 3.9717\n",
      "validation score (mean_absolute_error): 2.8096\n",
      "validation score (mean_squared_error): 10.7680\n",
      "Percentage of data thrown out: 0.04769498105714336%\n",
      " --------------- fold #5 out of -------------------\n"
     ]
    },
    {
     "name": "stderr",
     "output_type": "stream",
     "text": [
      "/home/sergey/.conda/envs/kaggle/lib/python3.6/site-packages/xgboost/core.py:587: FutureWarning: Series.base is deprecated and will be removed in a future version\n",
      "  if getattr(data, 'base', None) is not None and \\\n"
     ]
    },
    {
     "name": "stdout",
     "output_type": "stream",
     "text": [
      "train score (mean_absolute_error): 1.5943\n",
      "train score (mean_squared_error): 4.3097\n",
      "validation score (mean_absolute_error): 1.9782\n",
      "validation score (mean_squared_error): 6.7225\n",
      "Percentage of data thrown out: 0.04769498105714336%\n",
      " --------------- fold #6 out of -------------------\n"
     ]
    },
    {
     "name": "stderr",
     "output_type": "stream",
     "text": [
      "/home/sergey/.conda/envs/kaggle/lib/python3.6/site-packages/xgboost/core.py:587: FutureWarning: Series.base is deprecated and will be removed in a future version\n",
      "  if getattr(data, 'base', None) is not None and \\\n"
     ]
    },
    {
     "name": "stdout",
     "output_type": "stream",
     "text": [
      "train score (mean_absolute_error): 1.6077\n",
      "train score (mean_squared_error): 4.3217\n",
      "validation score (mean_absolute_error): 1.4075\n",
      "validation score (mean_squared_error): 3.5703\n",
      "Percentage of data thrown out: 0.04769498105714336%\n",
      " --------------- fold #7 out of -------------------\n"
     ]
    },
    {
     "name": "stderr",
     "output_type": "stream",
     "text": [
      "/home/sergey/.conda/envs/kaggle/lib/python3.6/site-packages/xgboost/core.py:587: FutureWarning: Series.base is deprecated and will be removed in a future version\n",
      "  if getattr(data, 'base', None) is not None and \\\n"
     ]
    },
    {
     "name": "stdout",
     "output_type": "stream",
     "text": [
      "train score (mean_absolute_error): 1.5074\n",
      "train score (mean_squared_error): 3.9524\n",
      "validation score (mean_absolute_error): 1.7839\n",
      "validation score (mean_squared_error): 4.3318\n",
      "Percentage of data thrown out: 0.04769498105714336%\n",
      " --------------- fold #8 out of -------------------\n"
     ]
    },
    {
     "name": "stderr",
     "output_type": "stream",
     "text": [
      "/home/sergey/.conda/envs/kaggle/lib/python3.6/site-packages/xgboost/core.py:587: FutureWarning: Series.base is deprecated and will be removed in a future version\n",
      "  if getattr(data, 'base', None) is not None and \\\n"
     ]
    },
    {
     "name": "stdout",
     "output_type": "stream",
     "text": [
      "train score (mean_absolute_error): 1.6095\n",
      "train score (mean_squared_error): 4.4349\n",
      "validation score (mean_absolute_error): 1.5185\n",
      "validation score (mean_squared_error): 3.4557\n",
      "['data_fname' 'preproc_name' 'preproc_params' 'folds_name' 'folds_params'\n",
      " 'model_name' 'model_params' 'mean_absolute_error' 'mean_squared_error']\n",
      "                                          data_fname    preproc_name  \\\n",
      "0  ../../data/e_lexa/train_proceded_not_smooth_da...  StandardScaler   \n",
      "\n",
      "               preproc_params  folds_name  \\\n",
      "0  {'name': 'StandardScaler'}  CustomFold   \n",
      "\n",
      "                                        folds_params    model_name  \\\n",
      "0  {'name': 'CustomFold', 'n_splits': 9, 'pad': 1...  XGBRegressor   \n",
      "\n",
      "                                        model_params  \\\n",
      "0  {'name': 'XGBRegressor', 'eta': 0.001, 'max_de...   \n",
      "\n",
      "                                 mean_absolute_error  \\\n",
      "0  [1.5768780978654227, 1.3269187625764145, 1.595...   \n",
      "\n",
      "                                  mean_squared_error  \n",
      "0  [4.23866252903965, 2.902693389029211, 4.230103...  \n",
      ".......................Training finished.........................\n",
      "Run 6:\n",
      "....................... Training model ..............................\n",
      "Percentage of data thrown out: 0.04769498105714336%\n",
      " --------------- fold #0 out of -------------------\n"
     ]
    },
    {
     "name": "stderr",
     "output_type": "stream",
     "text": [
      "/home/sergey/.conda/envs/kaggle/lib/python3.6/site-packages/xgboost/core.py:587: FutureWarning: Series.base is deprecated and will be removed in a future version\n",
      "  if getattr(data, 'base', None) is not None and \\\n"
     ]
    },
    {
     "name": "stdout",
     "output_type": "stream",
     "text": [
      "train score (mean_absolute_error): 1.4645\n",
      "train score (mean_squared_error): 3.7081\n",
      "validation score (mean_absolute_error): 3.1422\n",
      "validation score (mean_squared_error): 13.8089\n",
      "Percentage of data thrown out: 0.04769498105714336%\n",
      " --------------- fold #1 out of -------------------\n"
     ]
    },
    {
     "name": "stderr",
     "output_type": "stream",
     "text": [
      "/home/sergey/.conda/envs/kaggle/lib/python3.6/site-packages/xgboost/core.py:587: FutureWarning: Series.base is deprecated and will be removed in a future version\n",
      "  if getattr(data, 'base', None) is not None and \\\n"
     ]
    },
    {
     "name": "stdout",
     "output_type": "stream",
     "text": [
      "train score (mean_absolute_error): 1.4640\n",
      "train score (mean_squared_error): 3.6942\n",
      "validation score (mean_absolute_error): 2.9220\n",
      "validation score (mean_squared_error): 11.7495\n",
      "Percentage of data thrown out: 0.04769498105714336%\n",
      " --------------- fold #2 out of -------------------\n"
     ]
    },
    {
     "name": "stderr",
     "output_type": "stream",
     "text": [
      "/home/sergey/.conda/envs/kaggle/lib/python3.6/site-packages/xgboost/core.py:587: FutureWarning: Series.base is deprecated and will be removed in a future version\n",
      "  if getattr(data, 'base', None) is not None and \\\n"
     ]
    },
    {
     "name": "stdout",
     "output_type": "stream",
     "text": [
      "train score (mean_absolute_error): 1.4166\n",
      "train score (mean_squared_error): 3.4389\n",
      "validation score (mean_absolute_error): 3.8486\n",
      "validation score (mean_squared_error): 20.7383\n",
      "Percentage of data thrown out: 0.04769498105714336%\n",
      " --------------- fold #3 out of -------------------\n"
     ]
    },
    {
     "name": "stderr",
     "output_type": "stream",
     "text": [
      "/home/sergey/.conda/envs/kaggle/lib/python3.6/site-packages/xgboost/core.py:587: FutureWarning: Series.base is deprecated and will be removed in a future version\n",
      "  if getattr(data, 'base', None) is not None and \\\n"
     ]
    },
    {
     "name": "stdout",
     "output_type": "stream",
     "text": [
      "train score (mean_absolute_error): 1.6205\n",
      "train score (mean_squared_error): 4.4066\n",
      "validation score (mean_absolute_error): 1.3942\n",
      "validation score (mean_squared_error): 3.4963\n",
      "Percentage of data thrown out: 0.04769498105714336%\n",
      " --------------- fold #4 out of -------------------\n"
     ]
    },
    {
     "name": "stderr",
     "output_type": "stream",
     "text": [
      "/home/sergey/.conda/envs/kaggle/lib/python3.6/site-packages/xgboost/core.py:587: FutureWarning: Series.base is deprecated and will be removed in a future version\n",
      "  if getattr(data, 'base', None) is not None and \\\n"
     ]
    },
    {
     "name": "stdout",
     "output_type": "stream",
     "text": [
      "train score (mean_absolute_error): 1.4742\n",
      "train score (mean_squared_error): 3.7954\n",
      "validation score (mean_absolute_error): 2.5849\n",
      "validation score (mean_squared_error): 9.8015\n",
      "Percentage of data thrown out: 0.04769498105714336%\n",
      " --------------- fold #5 out of -------------------\n"
     ]
    },
    {
     "name": "stderr",
     "output_type": "stream",
     "text": [
      "/home/sergey/.conda/envs/kaggle/lib/python3.6/site-packages/xgboost/core.py:587: FutureWarning: Series.base is deprecated and will be removed in a future version\n",
      "  if getattr(data, 'base', None) is not None and \\\n"
     ]
    },
    {
     "name": "stdout",
     "output_type": "stream",
     "text": [
      "train score (mean_absolute_error): 1.3563\n",
      "train score (mean_squared_error): 3.2037\n",
      "validation score (mean_absolute_error): 4.0328\n",
      "validation score (mean_squared_error): 24.4876\n",
      "Percentage of data thrown out: 0.04769498105714336%\n",
      " --------------- fold #6 out of -------------------\n"
     ]
    },
    {
     "name": "stderr",
     "output_type": "stream",
     "text": [
      "/home/sergey/.conda/envs/kaggle/lib/python3.6/site-packages/xgboost/core.py:587: FutureWarning: Series.base is deprecated and will be removed in a future version\n",
      "  if getattr(data, 'base', None) is not None and \\\n"
     ]
    },
    {
     "name": "stdout",
     "output_type": "stream",
     "text": [
      "train score (mean_absolute_error): 1.5548\n",
      "train score (mean_squared_error): 4.0789\n",
      "validation score (mean_absolute_error): 1.8698\n",
      "validation score (mean_squared_error): 5.7087\n",
      "Percentage of data thrown out: 0.02384749052857168%\n",
      " --------------- fold #7 out of -------------------\n"
     ]
    },
    {
     "name": "stderr",
     "output_type": "stream",
     "text": [
      "/home/sergey/.conda/envs/kaggle/lib/python3.6/site-packages/xgboost/core.py:587: FutureWarning: Series.base is deprecated and will be removed in a future version\n",
      "  if getattr(data, 'base', None) is not None and \\\n"
     ]
    },
    {
     "name": "stdout",
     "output_type": "stream",
     "text": [
      "train score (mean_absolute_error): 1.5995\n",
      "train score (mean_squared_error): 4.2568\n",
      "validation score (mean_absolute_error): 2.2932\n",
      "validation score (mean_squared_error): 9.4906\n",
      "Percentage of data thrown out: 0.04769498105714336%\n",
      " --------------- fold #8 out of -------------------\n"
     ]
    },
    {
     "name": "stderr",
     "output_type": "stream",
     "text": [
      "/home/sergey/.conda/envs/kaggle/lib/python3.6/site-packages/xgboost/core.py:587: FutureWarning: Series.base is deprecated and will be removed in a future version\n",
      "  if getattr(data, 'base', None) is not None and \\\n"
     ]
    },
    {
     "name": "stdout",
     "output_type": "stream",
     "text": [
      "train score (mean_absolute_error): 1.3450\n",
      "train score (mean_squared_error): 3.1678\n",
      "validation score (mean_absolute_error): 4.1248\n",
      "validation score (mean_squared_error): 25.2045\n",
      "['data_fname' 'preproc_name' 'preproc_params' 'folds_name' 'folds_params'\n",
      " 'model_name' 'model_params' 'mean_absolute_error' 'mean_squared_error']\n",
      "                                          data_fname    preproc_name  \\\n",
      "0  ../../data/e_lexa/train_proceded_not_smooth_da...  StandardScaler   \n",
      "\n",
      "               preproc_params  folds_name  \\\n",
      "0  {'name': 'StandardScaler'}  CustomFold   \n",
      "\n",
      "                                        folds_params    model_name  \\\n",
      "0  {'name': 'CustomFold', 'n_splits': 9, 'pad': 1...  XGBRegressor   \n",
      "\n",
      "                                        model_params  \\\n",
      "0  {'name': 'XGBRegressor', 'eta': 0.001, 'max_de...   \n",
      "\n",
      "                                 mean_absolute_error  \\\n",
      "0  [1.4644797305269683, 3.142182083408338, 1.4639...   \n",
      "\n",
      "                                  mean_squared_error  \n",
      "0  [3.708070578129423, 13.808916222511005, 3.6941...  \n",
      ".......................Training finished.........................\n",
      "Run 7:\n",
      "....................... Training model ..............................\n",
      "Percentage of data thrown out: 0.04769498105714336%\n",
      " --------------- fold #0 out of -------------------\n"
     ]
    },
    {
     "name": "stderr",
     "output_type": "stream",
     "text": [
      "/home/sergey/.conda/envs/kaggle/lib/python3.6/site-packages/xgboost/core.py:587: FutureWarning: Series.base is deprecated and will be removed in a future version\n",
      "  if getattr(data, 'base', None) is not None and \\\n"
     ]
    },
    {
     "name": "stdout",
     "output_type": "stream",
     "text": [
      "train score (mean_absolute_error): 1.4334\n",
      "train score (mean_squared_error): 3.6481\n",
      "validation score (mean_absolute_error): 2.6220\n",
      "validation score (mean_squared_error): 9.8208\n",
      "Percentage of data thrown out: 0.04769498105714336%\n",
      " --------------- fold #1 out of -------------------\n"
     ]
    },
    {
     "name": "stderr",
     "output_type": "stream",
     "text": [
      "/home/sergey/.conda/envs/kaggle/lib/python3.6/site-packages/xgboost/core.py:587: FutureWarning: Series.base is deprecated and will be removed in a future version\n",
      "  if getattr(data, 'base', None) is not None and \\\n"
     ]
    },
    {
     "name": "stdout",
     "output_type": "stream",
     "text": [
      "train score (mean_absolute_error): 1.6301\n",
      "train score (mean_squared_error): 4.4119\n",
      "validation score (mean_absolute_error): 1.3685\n",
      "validation score (mean_squared_error): 3.4712\n",
      "Percentage of data thrown out: 0.04769498105714336%\n",
      " --------------- fold #2 out of -------------------\n"
     ]
    },
    {
     "name": "stderr",
     "output_type": "stream",
     "text": [
      "/home/sergey/.conda/envs/kaggle/lib/python3.6/site-packages/xgboost/core.py:587: FutureWarning: Series.base is deprecated and will be removed in a future version\n",
      "  if getattr(data, 'base', None) is not None and \\\n"
     ]
    },
    {
     "name": "stdout",
     "output_type": "stream",
     "text": [
      "train score (mean_absolute_error): 1.6148\n",
      "train score (mean_squared_error): 4.3554\n",
      "validation score (mean_absolute_error): 1.3868\n",
      "validation score (mean_squared_error): 3.5925\n",
      "Percentage of data thrown out: 0.04769498105714336%\n",
      " --------------- fold #3 out of -------------------\n"
     ]
    },
    {
     "name": "stderr",
     "output_type": "stream",
     "text": [
      "/home/sergey/.conda/envs/kaggle/lib/python3.6/site-packages/xgboost/core.py:587: FutureWarning: Series.base is deprecated and will be removed in a future version\n",
      "  if getattr(data, 'base', None) is not None and \\\n"
     ]
    },
    {
     "name": "stdout",
     "output_type": "stream",
     "text": [
      "train score (mean_absolute_error): 1.4685\n",
      "train score (mean_squared_error): 3.8070\n",
      "validation score (mean_absolute_error): 2.6455\n",
      "validation score (mean_squared_error): 9.8979\n",
      "Percentage of data thrown out: 0.04769498105714336%\n",
      " --------------- fold #4 out of -------------------\n"
     ]
    },
    {
     "name": "stderr",
     "output_type": "stream",
     "text": [
      "/home/sergey/.conda/envs/kaggle/lib/python3.6/site-packages/xgboost/core.py:587: FutureWarning: Series.base is deprecated and will be removed in a future version\n",
      "  if getattr(data, 'base', None) is not None and \\\n"
     ]
    },
    {
     "name": "stdout",
     "output_type": "stream",
     "text": [
      "train score (mean_absolute_error): 1.4578\n",
      "train score (mean_squared_error): 3.7971\n",
      "validation score (mean_absolute_error): 2.6816\n",
      "validation score (mean_squared_error): 10.1778\n",
      "Percentage of data thrown out: 0.04769498105714336%\n",
      " --------------- fold #5 out of -------------------\n"
     ]
    },
    {
     "name": "stderr",
     "output_type": "stream",
     "text": [
      "/home/sergey/.conda/envs/kaggle/lib/python3.6/site-packages/xgboost/core.py:587: FutureWarning: Series.base is deprecated and will be removed in a future version\n",
      "  if getattr(data, 'base', None) is not None and \\\n"
     ]
    },
    {
     "name": "stdout",
     "output_type": "stream",
     "text": [
      "train score (mean_absolute_error): 1.5540\n",
      "train score (mean_squared_error): 4.2168\n",
      "validation score (mean_absolute_error): 2.2880\n",
      "validation score (mean_squared_error): 8.4377\n",
      "Percentage of data thrown out: 0.04769498105714336%\n",
      " --------------- fold #6 out of -------------------\n"
     ]
    },
    {
     "name": "stderr",
     "output_type": "stream",
     "text": [
      "/home/sergey/.conda/envs/kaggle/lib/python3.6/site-packages/xgboost/core.py:587: FutureWarning: Series.base is deprecated and will be removed in a future version\n",
      "  if getattr(data, 'base', None) is not None and \\\n"
     ]
    },
    {
     "name": "stdout",
     "output_type": "stream",
     "text": [
      "train score (mean_absolute_error): 1.5370\n",
      "train score (mean_squared_error): 3.9849\n",
      "validation score (mean_absolute_error): 3.3929\n",
      "validation score (mean_squared_error): 15.0471\n",
      "Percentage of data thrown out: 0.04769498105714336%\n",
      " --------------- fold #7 out of -------------------\n"
     ]
    },
    {
     "name": "stderr",
     "output_type": "stream",
     "text": [
      "/home/sergey/.conda/envs/kaggle/lib/python3.6/site-packages/xgboost/core.py:587: FutureWarning: Series.base is deprecated and will be removed in a future version\n",
      "  if getattr(data, 'base', None) is not None and \\\n"
     ]
    },
    {
     "name": "stdout",
     "output_type": "stream",
     "text": [
      "train score (mean_absolute_error): 1.5851\n",
      "train score (mean_squared_error): 4.3169\n",
      "validation score (mean_absolute_error): 2.1419\n",
      "validation score (mean_squared_error): 7.2743\n",
      "Percentage of data thrown out: 0.02384749052857168%\n",
      " --------------- fold #8 out of -------------------\n"
     ]
    },
    {
     "name": "stderr",
     "output_type": "stream",
     "text": [
      "/home/sergey/.conda/envs/kaggle/lib/python3.6/site-packages/xgboost/core.py:587: FutureWarning: Series.base is deprecated and will be removed in a future version\n",
      "  if getattr(data, 'base', None) is not None and \\\n"
     ]
    },
    {
     "name": "stdout",
     "output_type": "stream",
     "text": [
      "train score (mean_absolute_error): 1.5583\n",
      "train score (mean_squared_error): 4.0833\n",
      "validation score (mean_absolute_error): 2.3694\n",
      "validation score (mean_squared_error): 10.0087\n",
      "['data_fname' 'preproc_name' 'preproc_params' 'folds_name' 'folds_params'\n",
      " 'model_name' 'model_params' 'mean_absolute_error' 'mean_squared_error']\n",
      "                                          data_fname    preproc_name  \\\n",
      "0  ../../data/e_lexa/train_proceded_not_smooth_da...  StandardScaler   \n",
      "\n",
      "               preproc_params  folds_name  \\\n",
      "0  {'name': 'StandardScaler'}  CustomFold   \n",
      "\n",
      "                                        folds_params    model_name  \\\n",
      "0  {'name': 'CustomFold', 'n_splits': 9, 'pad': 1...  XGBRegressor   \n",
      "\n",
      "                                        model_params  \\\n",
      "0  {'name': 'XGBRegressor', 'eta': 0.001, 'max_de...   \n",
      "\n",
      "                                 mean_absolute_error  \\\n",
      "0  [1.4334356248146551, 2.62204414454008, 1.63008...   \n",
      "\n",
      "                                  mean_squared_error  \n",
      "0  [3.6480575068158063, 9.820769491092047, 4.4119...  \n",
      ".......................Training finished.........................\n",
      "Run 8:\n",
      "....................... Training model ..............................\n",
      "Percentage of data thrown out: 0.04769498105714336%\n",
      " --------------- fold #0 out of -------------------\n"
     ]
    },
    {
     "name": "stderr",
     "output_type": "stream",
     "text": [
      "/home/sergey/.conda/envs/kaggle/lib/python3.6/site-packages/xgboost/core.py:587: FutureWarning: Series.base is deprecated and will be removed in a future version\n",
      "  if getattr(data, 'base', None) is not None and \\\n"
     ]
    },
    {
     "name": "stdout",
     "output_type": "stream",
     "text": [
      "train score (mean_absolute_error): 1.4893\n",
      "train score (mean_squared_error): 3.9534\n",
      "validation score (mean_absolute_error): 2.0190\n",
      "validation score (mean_squared_error): 6.7813\n",
      "Percentage of data thrown out: 0.04769498105714336%\n",
      " --------------- fold #1 out of -------------------\n"
     ]
    },
    {
     "name": "stderr",
     "output_type": "stream",
     "text": [
      "/home/sergey/.conda/envs/kaggle/lib/python3.6/site-packages/xgboost/core.py:587: FutureWarning: Series.base is deprecated and will be removed in a future version\n",
      "  if getattr(data, 'base', None) is not None and \\\n"
     ]
    },
    {
     "name": "stdout",
     "output_type": "stream",
     "text": [
      "train score (mean_absolute_error): 1.4732\n",
      "train score (mean_squared_error): 3.7861\n",
      "validation score (mean_absolute_error): 2.7382\n",
      "validation score (mean_squared_error): 12.2224\n",
      "Percentage of data thrown out: 0.04769498105714336%\n",
      " --------------- fold #2 out of -------------------\n"
     ]
    },
    {
     "name": "stderr",
     "output_type": "stream",
     "text": [
      "/home/sergey/.conda/envs/kaggle/lib/python3.6/site-packages/xgboost/core.py:587: FutureWarning: Series.base is deprecated and will be removed in a future version\n",
      "  if getattr(data, 'base', None) is not None and \\\n"
     ]
    },
    {
     "name": "stdout",
     "output_type": "stream",
     "text": [
      "train score (mean_absolute_error): 1.6135\n",
      "train score (mean_squared_error): 4.3140\n",
      "validation score (mean_absolute_error): 1.1877\n",
      "validation score (mean_squared_error): 2.5155\n",
      "Percentage of data thrown out: 0.04769498105714336%\n",
      " --------------- fold #3 out of -------------------\n"
     ]
    },
    {
     "name": "stderr",
     "output_type": "stream",
     "text": [
      "/home/sergey/.conda/envs/kaggle/lib/python3.6/site-packages/xgboost/core.py:587: FutureWarning: Series.base is deprecated and will be removed in a future version\n",
      "  if getattr(data, 'base', None) is not None and \\\n"
     ]
    },
    {
     "name": "stdout",
     "output_type": "stream",
     "text": [
      "train score (mean_absolute_error): 1.5170\n",
      "train score (mean_squared_error): 4.0626\n",
      "validation score (mean_absolute_error): 2.0242\n",
      "validation score (mean_squared_error): 6.8676\n",
      "Percentage of data thrown out: 0.04769498105714336%\n",
      " --------------- fold #4 out of -------------------\n"
     ]
    },
    {
     "name": "stderr",
     "output_type": "stream",
     "text": [
      "/home/sergey/.conda/envs/kaggle/lib/python3.6/site-packages/xgboost/core.py:587: FutureWarning: Series.base is deprecated and will be removed in a future version\n",
      "  if getattr(data, 'base', None) is not None and \\\n"
     ]
    },
    {
     "name": "stdout",
     "output_type": "stream",
     "text": [
      "train score (mean_absolute_error): 1.5665\n",
      "train score (mean_squared_error): 4.2359\n",
      "validation score (mean_absolute_error): 2.2831\n",
      "validation score (mean_squared_error): 8.1820\n",
      "Percentage of data thrown out: 0.04769498105714336%\n",
      " --------------- fold #5 out of -------------------\n"
     ]
    },
    {
     "name": "stderr",
     "output_type": "stream",
     "text": [
      "/home/sergey/.conda/envs/kaggle/lib/python3.6/site-packages/xgboost/core.py:587: FutureWarning: Series.base is deprecated and will be removed in a future version\n",
      "  if getattr(data, 'base', None) is not None and \\\n"
     ]
    },
    {
     "name": "stdout",
     "output_type": "stream",
     "text": [
      "train score (mean_absolute_error): 1.5737\n",
      "train score (mean_squared_error): 4.2492\n",
      "validation score (mean_absolute_error): 2.0963\n",
      "validation score (mean_squared_error): 6.5149\n",
      "Percentage of data thrown out: 0.04769498105714336%\n",
      " --------------- fold #6 out of -------------------\n"
     ]
    },
    {
     "name": "stderr",
     "output_type": "stream",
     "text": [
      "/home/sergey/.conda/envs/kaggle/lib/python3.6/site-packages/xgboost/core.py:587: FutureWarning: Series.base is deprecated and will be removed in a future version\n",
      "  if getattr(data, 'base', None) is not None and \\\n"
     ]
    },
    {
     "name": "stdout",
     "output_type": "stream",
     "text": [
      "train score (mean_absolute_error): 1.5464\n",
      "train score (mean_squared_error): 4.1357\n",
      "validation score (mean_absolute_error): 2.1389\n",
      "validation score (mean_squared_error): 6.5948\n",
      "Percentage of data thrown out: 0.04769498105714336%\n",
      " --------------- fold #7 out of -------------------\n"
     ]
    },
    {
     "name": "stderr",
     "output_type": "stream",
     "text": [
      "/home/sergey/.conda/envs/kaggle/lib/python3.6/site-packages/xgboost/core.py:587: FutureWarning: Series.base is deprecated and will be removed in a future version\n",
      "  if getattr(data, 'base', None) is not None and \\\n"
     ]
    },
    {
     "name": "stdout",
     "output_type": "stream",
     "text": [
      "train score (mean_absolute_error): 1.4941\n",
      "train score (mean_squared_error): 3.8399\n",
      "validation score (mean_absolute_error): 2.5533\n",
      "validation score (mean_squared_error): 10.3687\n",
      "Percentage of data thrown out: 0.04769498105714336%\n",
      " --------------- fold #8 out of -------------------\n"
     ]
    },
    {
     "name": "stderr",
     "output_type": "stream",
     "text": [
      "/home/sergey/.conda/envs/kaggle/lib/python3.6/site-packages/xgboost/core.py:587: FutureWarning: Series.base is deprecated and will be removed in a future version\n",
      "  if getattr(data, 'base', None) is not None and \\\n"
     ]
    },
    {
     "name": "stdout",
     "output_type": "stream",
     "text": [
      "train score (mean_absolute_error): 1.5267\n",
      "train score (mean_squared_error): 3.9881\n",
      "validation score (mean_absolute_error): 3.1201\n",
      "validation score (mean_squared_error): 13.2103\n",
      "['data_fname' 'preproc_name' 'preproc_params' 'folds_name' 'folds_params'\n",
      " 'model_name' 'model_params' 'mean_absolute_error' 'mean_squared_error']\n",
      "                                          data_fname    preproc_name  \\\n",
      "0  ../../data/e_lexa/train_proceded_not_smooth_da...  StandardScaler   \n",
      "\n",
      "               preproc_params  folds_name  \\\n",
      "0  {'name': 'StandardScaler'}  CustomFold   \n",
      "\n",
      "                                        folds_params    model_name  \\\n",
      "0  {'name': 'CustomFold', 'n_splits': 9, 'pad': 1...  XGBRegressor   \n",
      "\n",
      "                                        model_params  \\\n",
      "0  {'name': 'XGBRegressor', 'eta': 0.001, 'max_de...   \n",
      "\n",
      "                                 mean_absolute_error  \\\n",
      "0  [1.489300104326611, 2.018972925405041, 1.47318...   \n",
      "\n",
      "                                  mean_squared_error  \n",
      "0  [3.9534336889836004, 6.781314983974209, 3.7860...  \n",
      ".......................Training finished.........................\n",
      "Run 9:\n",
      "....................... Training model ..............................\n",
      "Percentage of data thrown out: 0.04769498105714336%\n",
      " --------------- fold #0 out of -------------------\n"
     ]
    },
    {
     "name": "stderr",
     "output_type": "stream",
     "text": [
      "/home/sergey/.conda/envs/kaggle/lib/python3.6/site-packages/xgboost/core.py:587: FutureWarning: Series.base is deprecated and will be removed in a future version\n",
      "  if getattr(data, 'base', None) is not None and \\\n"
     ]
    },
    {
     "name": "stdout",
     "output_type": "stream",
     "text": [
      "train score (mean_absolute_error): 1.5725\n",
      "train score (mean_squared_error): 4.1716\n",
      "validation score (mean_absolute_error): 2.0268\n",
      "validation score (mean_squared_error): 6.3386\n",
      "Percentage of data thrown out: 0.04769498105714336%\n",
      " --------------- fold #1 out of -------------------\n"
     ]
    },
    {
     "name": "stderr",
     "output_type": "stream",
     "text": [
      "/home/sergey/.conda/envs/kaggle/lib/python3.6/site-packages/xgboost/core.py:587: FutureWarning: Series.base is deprecated and will be removed in a future version\n",
      "  if getattr(data, 'base', None) is not None and \\\n"
     ]
    },
    {
     "name": "stdout",
     "output_type": "stream",
     "text": [
      "train score (mean_absolute_error): 1.4702\n",
      "train score (mean_squared_error): 3.8215\n",
      "validation score (mean_absolute_error): 2.6018\n",
      "validation score (mean_squared_error): 9.7005\n",
      "Percentage of data thrown out: 0.04769498105714336%\n",
      " --------------- fold #2 out of -------------------\n"
     ]
    },
    {
     "name": "stderr",
     "output_type": "stream",
     "text": [
      "/home/sergey/.conda/envs/kaggle/lib/python3.6/site-packages/xgboost/core.py:587: FutureWarning: Series.base is deprecated and will be removed in a future version\n",
      "  if getattr(data, 'base', None) is not None and \\\n"
     ]
    },
    {
     "name": "stdout",
     "output_type": "stream",
     "text": [
      "train score (mean_absolute_error): 1.3512\n",
      "train score (mean_squared_error): 3.1262\n",
      "validation score (mean_absolute_error): 3.9758\n",
      "validation score (mean_squared_error): 24.2598\n",
      "Percentage of data thrown out: 0.04769498105714336%\n",
      " --------------- fold #3 out of -------------------\n"
     ]
    },
    {
     "name": "stderr",
     "output_type": "stream",
     "text": [
      "/home/sergey/.conda/envs/kaggle/lib/python3.6/site-packages/xgboost/core.py:587: FutureWarning: Series.base is deprecated and will be removed in a future version\n",
      "  if getattr(data, 'base', None) is not None and \\\n"
     ]
    },
    {
     "name": "stdout",
     "output_type": "stream",
     "text": [
      "train score (mean_absolute_error): 1.3557\n",
      "train score (mean_squared_error): 3.2139\n",
      "validation score (mean_absolute_error): 4.1068\n",
      "validation score (mean_squared_error): 25.0182\n",
      "Percentage of data thrown out: 0.04769498105714336%\n",
      " --------------- fold #4 out of -------------------\n"
     ]
    },
    {
     "name": "stderr",
     "output_type": "stream",
     "text": [
      "/home/sergey/.conda/envs/kaggle/lib/python3.6/site-packages/xgboost/core.py:587: FutureWarning: Series.base is deprecated and will be removed in a future version\n",
      "  if getattr(data, 'base', None) is not None and \\\n"
     ]
    },
    {
     "name": "stdout",
     "output_type": "stream",
     "text": [
      "train score (mean_absolute_error): 1.5773\n",
      "train score (mean_squared_error): 4.2540\n",
      "validation score (mean_absolute_error): 1.5283\n",
      "validation score (mean_squared_error): 3.3886\n",
      "Percentage of data thrown out: 0.02384749052857168%\n",
      " --------------- fold #5 out of -------------------\n"
     ]
    },
    {
     "name": "stderr",
     "output_type": "stream",
     "text": [
      "/home/sergey/.conda/envs/kaggle/lib/python3.6/site-packages/xgboost/core.py:587: FutureWarning: Series.base is deprecated and will be removed in a future version\n",
      "  if getattr(data, 'base', None) is not None and \\\n"
     ]
    },
    {
     "name": "stdout",
     "output_type": "stream",
     "text": [
      "train score (mean_absolute_error): 1.5881\n",
      "train score (mean_squared_error): 4.3044\n",
      "validation score (mean_absolute_error): 2.0102\n",
      "validation score (mean_squared_error): 5.2811\n",
      "Percentage of data thrown out: 0.04769498105714336%\n",
      " --------------- fold #6 out of -------------------\n"
     ]
    },
    {
     "name": "stderr",
     "output_type": "stream",
     "text": [
      "/home/sergey/.conda/envs/kaggle/lib/python3.6/site-packages/xgboost/core.py:587: FutureWarning: Series.base is deprecated and will be removed in a future version\n",
      "  if getattr(data, 'base', None) is not None and \\\n"
     ]
    },
    {
     "name": "stdout",
     "output_type": "stream",
     "text": [
      "train score (mean_absolute_error): 1.3344\n",
      "train score (mean_squared_error): 3.0765\n",
      "validation score (mean_absolute_error): 4.0555\n",
      "validation score (mean_squared_error): 24.5434\n",
      "Percentage of data thrown out: 0.04769498105714336%\n",
      " --------------- fold #7 out of -------------------\n"
     ]
    },
    {
     "name": "stderr",
     "output_type": "stream",
     "text": [
      "/home/sergey/.conda/envs/kaggle/lib/python3.6/site-packages/xgboost/core.py:587: FutureWarning: Series.base is deprecated and will be removed in a future version\n",
      "  if getattr(data, 'base', None) is not None and \\\n"
     ]
    },
    {
     "name": "stdout",
     "output_type": "stream",
     "text": [
      "train score (mean_absolute_error): 1.6039\n",
      "train score (mean_squared_error): 4.3128\n",
      "validation score (mean_absolute_error): 1.2388\n",
      "validation score (mean_squared_error): 2.7148\n",
      "Percentage of data thrown out: 0.04769498105714336%\n",
      " --------------- fold #8 out of -------------------\n"
     ]
    },
    {
     "name": "stderr",
     "output_type": "stream",
     "text": [
      "/home/sergey/.conda/envs/kaggle/lib/python3.6/site-packages/xgboost/core.py:587: FutureWarning: Series.base is deprecated and will be removed in a future version\n",
      "  if getattr(data, 'base', None) is not None and \\\n"
     ]
    },
    {
     "name": "stdout",
     "output_type": "stream",
     "text": [
      "train score (mean_absolute_error): 1.4985\n",
      "train score (mean_squared_error): 3.8658\n",
      "validation score (mean_absolute_error): 1.9948\n",
      "validation score (mean_squared_error): 6.2629\n",
      "['data_fname' 'preproc_name' 'preproc_params' 'folds_name' 'folds_params'\n",
      " 'model_name' 'model_params' 'mean_absolute_error' 'mean_squared_error']\n",
      "                                          data_fname    preproc_name  \\\n",
      "0  ../../data/e_lexa/train_proceded_not_smooth_da...  StandardScaler   \n",
      "\n",
      "               preproc_params  folds_name  \\\n",
      "0  {'name': 'StandardScaler'}  CustomFold   \n",
      "\n",
      "                                        folds_params    model_name  \\\n",
      "0  {'name': 'CustomFold', 'n_splits': 9, 'pad': 1...  XGBRegressor   \n",
      "\n",
      "                                        model_params  \\\n",
      "0  {'name': 'XGBRegressor', 'eta': 0.001, 'max_de...   \n",
      "\n",
      "                                 mean_absolute_error  \\\n",
      "0  [1.572462252450559, 2.0267518258954795, 1.4701...   \n",
      "\n",
      "                                  mean_squared_error  \n",
      "0  [4.171619736501273, 6.338609166430073, 3.82145...  \n",
      ".......................Training finished.........................\n",
      "Run 10:\n",
      "....................... Training model ..............................\n",
      "Percentage of data thrown out: 0.04769498105714336%\n",
      " --------------- fold #0 out of -------------------\n"
     ]
    },
    {
     "name": "stderr",
     "output_type": "stream",
     "text": [
      "/home/sergey/.conda/envs/kaggle/lib/python3.6/site-packages/xgboost/core.py:587: FutureWarning: Series.base is deprecated and will be removed in a future version\n",
      "  if getattr(data, 'base', None) is not None and \\\n"
     ]
    },
    {
     "name": "stdout",
     "output_type": "stream",
     "text": [
      "train score (mean_absolute_error): 1.3898\n",
      "train score (mean_squared_error): 3.3024\n",
      "validation score (mean_absolute_error): 3.9714\n",
      "validation score (mean_squared_error): 23.2325\n",
      "Percentage of data thrown out: 0.04769498105714336%\n",
      " --------------- fold #1 out of -------------------\n"
     ]
    },
    {
     "name": "stderr",
     "output_type": "stream",
     "text": [
      "/home/sergey/.conda/envs/kaggle/lib/python3.6/site-packages/xgboost/core.py:587: FutureWarning: Series.base is deprecated and will be removed in a future version\n",
      "  if getattr(data, 'base', None) is not None and \\\n"
     ]
    },
    {
     "name": "stdout",
     "output_type": "stream",
     "text": [
      "train score (mean_absolute_error): 1.3676\n",
      "train score (mean_squared_error): 3.3029\n",
      "validation score (mean_absolute_error): 3.7309\n",
      "validation score (mean_squared_error): 20.8629\n",
      "Percentage of data thrown out: 0.04769498105714336%\n",
      " --------------- fold #2 out of -------------------\n"
     ]
    },
    {
     "name": "stderr",
     "output_type": "stream",
     "text": [
      "/home/sergey/.conda/envs/kaggle/lib/python3.6/site-packages/xgboost/core.py:587: FutureWarning: Series.base is deprecated and will be removed in a future version\n",
      "  if getattr(data, 'base', None) is not None and \\\n"
     ]
    },
    {
     "name": "stdout",
     "output_type": "stream",
     "text": [
      "train score (mean_absolute_error): 1.6047\n",
      "train score (mean_squared_error): 4.3857\n",
      "validation score (mean_absolute_error): 1.3908\n",
      "validation score (mean_squared_error): 3.3154\n",
      "Percentage of data thrown out: 0.04769498105714336%\n",
      " --------------- fold #3 out of -------------------\n"
     ]
    },
    {
     "name": "stderr",
     "output_type": "stream",
     "text": [
      "/home/sergey/.conda/envs/kaggle/lib/python3.6/site-packages/xgboost/core.py:587: FutureWarning: Series.base is deprecated and will be removed in a future version\n",
      "  if getattr(data, 'base', None) is not None and \\\n"
     ]
    },
    {
     "name": "stdout",
     "output_type": "stream",
     "text": [
      "train score (mean_absolute_error): 1.5886\n",
      "train score (mean_squared_error): 4.2120\n",
      "validation score (mean_absolute_error): 1.4046\n",
      "validation score (mean_squared_error): 3.7305\n",
      "Percentage of data thrown out: 0.04769498105714336%\n",
      " --------------- fold #4 out of -------------------\n"
     ]
    },
    {
     "name": "stderr",
     "output_type": "stream",
     "text": [
      "/home/sergey/.conda/envs/kaggle/lib/python3.6/site-packages/xgboost/core.py:587: FutureWarning: Series.base is deprecated and will be removed in a future version\n",
      "  if getattr(data, 'base', None) is not None and \\\n"
     ]
    },
    {
     "name": "stdout",
     "output_type": "stream",
     "text": [
      "train score (mean_absolute_error): 1.4719\n",
      "train score (mean_squared_error): 3.7716\n",
      "validation score (mean_absolute_error): 2.8979\n",
      "validation score (mean_squared_error): 12.4070\n",
      "Percentage of data thrown out: 0.04769498105714336%\n",
      " --------------- fold #5 out of -------------------\n"
     ]
    },
    {
     "name": "stderr",
     "output_type": "stream",
     "text": [
      "/home/sergey/.conda/envs/kaggle/lib/python3.6/site-packages/xgboost/core.py:587: FutureWarning: Series.base is deprecated and will be removed in a future version\n",
      "  if getattr(data, 'base', None) is not None and \\\n"
     ]
    },
    {
     "name": "stdout",
     "output_type": "stream",
     "text": [
      "train score (mean_absolute_error): 1.4965\n",
      "train score (mean_squared_error): 3.8728\n",
      "validation score (mean_absolute_error): 3.0846\n",
      "validation score (mean_squared_error): 13.4347\n",
      "Percentage of data thrown out: 0.04769498105714336%\n",
      " --------------- fold #6 out of -------------------\n"
     ]
    },
    {
     "name": "stderr",
     "output_type": "stream",
     "text": [
      "/home/sergey/.conda/envs/kaggle/lib/python3.6/site-packages/xgboost/core.py:587: FutureWarning: Series.base is deprecated and will be removed in a future version\n",
      "  if getattr(data, 'base', None) is not None and \\\n"
     ]
    },
    {
     "name": "stdout",
     "output_type": "stream",
     "text": [
      "train score (mean_absolute_error): 1.5408\n",
      "train score (mean_squared_error): 4.0772\n",
      "validation score (mean_absolute_error): 2.6384\n",
      "validation score (mean_squared_error): 10.3283\n",
      "Percentage of data thrown out: 0.02384749052857168%\n",
      " --------------- fold #7 out of -------------------\n"
     ]
    },
    {
     "name": "stderr",
     "output_type": "stream",
     "text": [
      "/home/sergey/.conda/envs/kaggle/lib/python3.6/site-packages/xgboost/core.py:587: FutureWarning: Series.base is deprecated and will be removed in a future version\n",
      "  if getattr(data, 'base', None) is not None and \\\n"
     ]
    },
    {
     "name": "stdout",
     "output_type": "stream",
     "text": [
      "train score (mean_absolute_error): 1.5819\n",
      "train score (mean_squared_error): 4.4346\n",
      "validation score (mean_absolute_error): 1.5404\n",
      "validation score (mean_squared_error): 3.1347\n",
      "Percentage of data thrown out: 0.04769498105714336%\n",
      " --------------- fold #8 out of -------------------\n"
     ]
    },
    {
     "name": "stderr",
     "output_type": "stream",
     "text": [
      "/home/sergey/.conda/envs/kaggle/lib/python3.6/site-packages/xgboost/core.py:587: FutureWarning: Series.base is deprecated and will be removed in a future version\n",
      "  if getattr(data, 'base', None) is not None and \\\n"
     ]
    },
    {
     "name": "stdout",
     "output_type": "stream",
     "text": [
      "train score (mean_absolute_error): 1.5968\n",
      "train score (mean_squared_error): 4.3543\n",
      "validation score (mean_absolute_error): 2.0539\n",
      "validation score (mean_squared_error): 6.3817\n",
      "['data_fname' 'preproc_name' 'preproc_params' 'folds_name' 'folds_params'\n",
      " 'model_name' 'model_params' 'mean_absolute_error' 'mean_squared_error']\n",
      "                                          data_fname    preproc_name  \\\n",
      "0  ../../data/e_lexa/train_proceded_not_smooth_da...  StandardScaler   \n",
      "\n",
      "               preproc_params  folds_name  \\\n",
      "0  {'name': 'StandardScaler'}  CustomFold   \n",
      "\n",
      "                                        folds_params    model_name  \\\n",
      "0  {'name': 'CustomFold', 'n_splits': 9, 'pad': 1...  XGBRegressor   \n",
      "\n",
      "                                        model_params  \\\n",
      "0  {'name': 'XGBRegressor', 'eta': 0.001, 'max_de...   \n",
      "\n",
      "                                 mean_absolute_error  \\\n",
      "0  [1.3898167711979352, 3.971373880872558, 1.3675...   \n",
      "\n",
      "                                  mean_squared_error  \n",
      "0  [3.302394548187997, 23.23254607106042, 3.30292...  \n",
      ".......................Training finished.........................\n",
      "Run 11:\n",
      "....................... Training model ..............................\n",
      "Percentage of data thrown out: 0.04769498105714336%\n",
      " --------------- fold #0 out of -------------------\n"
     ]
    },
    {
     "name": "stderr",
     "output_type": "stream",
     "text": [
      "/home/sergey/.conda/envs/kaggle/lib/python3.6/site-packages/xgboost/core.py:587: FutureWarning: Series.base is deprecated and will be removed in a future version\n",
      "  if getattr(data, 'base', None) is not None and \\\n"
     ]
    },
    {
     "name": "stdout",
     "output_type": "stream",
     "text": [
      "train score (mean_absolute_error): 1.3478\n",
      "train score (mean_squared_error): 3.1792\n",
      "validation score (mean_absolute_error): 4.0066\n",
      "validation score (mean_squared_error): 24.5601\n",
      "Percentage of data thrown out: 0.04769498105714336%\n",
      " --------------- fold #1 out of -------------------\n"
     ]
    },
    {
     "name": "stderr",
     "output_type": "stream",
     "text": [
      "/home/sergey/.conda/envs/kaggle/lib/python3.6/site-packages/xgboost/core.py:587: FutureWarning: Series.base is deprecated and will be removed in a future version\n",
      "  if getattr(data, 'base', None) is not None and \\\n"
     ]
    },
    {
     "name": "stdout",
     "output_type": "stream",
     "text": [
      "train score (mean_absolute_error): 1.5452\n",
      "train score (mean_squared_error): 4.0271\n",
      "validation score (mean_absolute_error): 1.3484\n",
      "validation score (mean_squared_error): 3.3087\n",
      "Percentage of data thrown out: 0.04769498105714336%\n",
      " --------------- fold #2 out of -------------------\n"
     ]
    },
    {
     "name": "stderr",
     "output_type": "stream",
     "text": [
      "/home/sergey/.conda/envs/kaggle/lib/python3.6/site-packages/xgboost/core.py:587: FutureWarning: Series.base is deprecated and will be removed in a future version\n",
      "  if getattr(data, 'base', None) is not None and \\\n"
     ]
    },
    {
     "name": "stdout",
     "output_type": "stream",
     "text": [
      "train score (mean_absolute_error): 1.5443\n",
      "train score (mean_squared_error): 3.9579\n",
      "validation score (mean_absolute_error): 2.8617\n",
      "validation score (mean_squared_error): 11.1429\n",
      "Percentage of data thrown out: 0.04769498105714336%\n",
      " --------------- fold #3 out of -------------------\n"
     ]
    },
    {
     "name": "stderr",
     "output_type": "stream",
     "text": [
      "/home/sergey/.conda/envs/kaggle/lib/python3.6/site-packages/xgboost/core.py:587: FutureWarning: Series.base is deprecated and will be removed in a future version\n",
      "  if getattr(data, 'base', None) is not None and \\\n"
     ]
    },
    {
     "name": "stdout",
     "output_type": "stream",
     "text": [
      "train score (mean_absolute_error): 1.5935\n",
      "train score (mean_squared_error): 4.2386\n",
      "validation score (mean_absolute_error): 1.4535\n",
      "validation score (mean_squared_error): 3.8112\n",
      "Percentage of data thrown out: 0.04769498105714336%\n",
      " --------------- fold #4 out of -------------------\n"
     ]
    },
    {
     "name": "stderr",
     "output_type": "stream",
     "text": [
      "/home/sergey/.conda/envs/kaggle/lib/python3.6/site-packages/xgboost/core.py:587: FutureWarning: Series.base is deprecated and will be removed in a future version\n",
      "  if getattr(data, 'base', None) is not None and \\\n"
     ]
    },
    {
     "name": "stdout",
     "output_type": "stream",
     "text": [
      "train score (mean_absolute_error): 1.4610\n",
      "train score (mean_squared_error): 3.7882\n",
      "validation score (mean_absolute_error): 2.5903\n",
      "validation score (mean_squared_error): 9.8797\n",
      "Percentage of data thrown out: 0.04769498105714336%\n",
      " --------------- fold #5 out of -------------------\n"
     ]
    },
    {
     "name": "stderr",
     "output_type": "stream",
     "text": [
      "/home/sergey/.conda/envs/kaggle/lib/python3.6/site-packages/xgboost/core.py:587: FutureWarning: Series.base is deprecated and will be removed in a future version\n",
      "  if getattr(data, 'base', None) is not None and \\\n"
     ]
    },
    {
     "name": "stdout",
     "output_type": "stream",
     "text": [
      "train score (mean_absolute_error): 1.4154\n",
      "train score (mean_squared_error): 3.4842\n",
      "validation score (mean_absolute_error): 3.6627\n",
      "validation score (mean_squared_error): 18.6682\n",
      "Percentage of data thrown out: 0.04769498105714336%\n",
      " --------------- fold #6 out of -------------------\n"
     ]
    },
    {
     "name": "stderr",
     "output_type": "stream",
     "text": [
      "/home/sergey/.conda/envs/kaggle/lib/python3.6/site-packages/xgboost/core.py:587: FutureWarning: Series.base is deprecated and will be removed in a future version\n",
      "  if getattr(data, 'base', None) is not None and \\\n"
     ]
    },
    {
     "name": "stdout",
     "output_type": "stream",
     "text": [
      "train score (mean_absolute_error): 1.4497\n",
      "train score (mean_squared_error): 3.6671\n",
      "validation score (mean_absolute_error): 2.5607\n",
      "validation score (mean_squared_error): 9.6561\n",
      "Percentage of data thrown out: 0.04769498105714336%\n",
      " --------------- fold #7 out of -------------------\n"
     ]
    },
    {
     "name": "stderr",
     "output_type": "stream",
     "text": [
      "/home/sergey/.conda/envs/kaggle/lib/python3.6/site-packages/xgboost/core.py:587: FutureWarning: Series.base is deprecated and will be removed in a future version\n",
      "  if getattr(data, 'base', None) is not None and \\\n"
     ]
    },
    {
     "name": "stdout",
     "output_type": "stream",
     "text": [
      "train score (mean_absolute_error): 1.5161\n",
      "train score (mean_squared_error): 3.8910\n",
      "validation score (mean_absolute_error): 2.4756\n",
      "validation score (mean_squared_error): 10.3449\n",
      "Percentage of data thrown out: 0.04769498105714336%\n",
      " --------------- fold #8 out of -------------------\n"
     ]
    },
    {
     "name": "stderr",
     "output_type": "stream",
     "text": [
      "/home/sergey/.conda/envs/kaggle/lib/python3.6/site-packages/xgboost/core.py:587: FutureWarning: Series.base is deprecated and will be removed in a future version\n",
      "  if getattr(data, 'base', None) is not None and \\\n"
     ]
    },
    {
     "name": "stdout",
     "output_type": "stream",
     "text": [
      "train score (mean_absolute_error): 1.5086\n",
      "train score (mean_squared_error): 4.0042\n",
      "validation score (mean_absolute_error): 2.4615\n",
      "validation score (mean_squared_error): 8.8970\n",
      "['data_fname' 'preproc_name' 'preproc_params' 'folds_name' 'folds_params'\n",
      " 'model_name' 'model_params' 'mean_absolute_error' 'mean_squared_error']\n",
      "                                          data_fname    preproc_name  \\\n",
      "0  ../../data/e_lexa/train_proceded_not_smooth_da...  StandardScaler   \n",
      "\n",
      "               preproc_params  folds_name  \\\n",
      "0  {'name': 'StandardScaler'}  CustomFold   \n",
      "\n",
      "                                        folds_params    model_name  \\\n",
      "0  {'name': 'CustomFold', 'n_splits': 9, 'pad': 1...  XGBRegressor   \n",
      "\n",
      "                                        model_params  \\\n",
      "0  {'name': 'XGBRegressor', 'eta': 0.001, 'max_de...   \n",
      "\n",
      "                                 mean_absolute_error  \\\n",
      "0  [1.3477645265028804, 4.006558232454097, 1.5451...   \n",
      "\n",
      "                                  mean_squared_error  \n",
      "0  [3.179179963902896, 24.56010969498739, 4.02712...  \n",
      ".......................Training finished.........................\n",
      "Run 12:\n",
      "....................... Training model ..............................\n",
      "Percentage of data thrown out: 0.04769498105714336%\n",
      " --------------- fold #0 out of -------------------\n"
     ]
    },
    {
     "name": "stderr",
     "output_type": "stream",
     "text": [
      "/home/sergey/.conda/envs/kaggle/lib/python3.6/site-packages/xgboost/core.py:587: FutureWarning: Series.base is deprecated and will be removed in a future version\n",
      "  if getattr(data, 'base', None) is not None and \\\n"
     ]
    },
    {
     "name": "stdout",
     "output_type": "stream",
     "text": [
      "train score (mean_absolute_error): 1.5123\n",
      "train score (mean_squared_error): 3.9612\n",
      "validation score (mean_absolute_error): 2.2667\n",
      "validation score (mean_squared_error): 7.6354\n",
      "Percentage of data thrown out: 0.04769498105714336%\n",
      " --------------- fold #1 out of -------------------\n"
     ]
    },
    {
     "name": "stderr",
     "output_type": "stream",
     "text": [
      "/home/sergey/.conda/envs/kaggle/lib/python3.6/site-packages/xgboost/core.py:587: FutureWarning: Series.base is deprecated and will be removed in a future version\n",
      "  if getattr(data, 'base', None) is not None and \\\n"
     ]
    },
    {
     "name": "stdout",
     "output_type": "stream",
     "text": [
      "train score (mean_absolute_error): 1.5195\n",
      "train score (mean_squared_error): 3.9644\n",
      "validation score (mean_absolute_error): 2.3006\n",
      "validation score (mean_squared_error): 8.8472\n",
      "Percentage of data thrown out: 0.04769498105714336%\n",
      " --------------- fold #2 out of -------------------\n"
     ]
    },
    {
     "name": "stderr",
     "output_type": "stream",
     "text": [
      "/home/sergey/.conda/envs/kaggle/lib/python3.6/site-packages/xgboost/core.py:587: FutureWarning: Series.base is deprecated and will be removed in a future version\n",
      "  if getattr(data, 'base', None) is not None and \\\n"
     ]
    },
    {
     "name": "stdout",
     "output_type": "stream",
     "text": [
      "train score (mean_absolute_error): 1.4260\n",
      "train score (mean_squared_error): 3.5649\n",
      "validation score (mean_absolute_error): 3.6306\n",
      "validation score (mean_squared_error): 18.0321\n",
      "Percentage of data thrown out: 0.04769498105714336%\n",
      " --------------- fold #3 out of -------------------\n"
     ]
    },
    {
     "name": "stderr",
     "output_type": "stream",
     "text": [
      "/home/sergey/.conda/envs/kaggle/lib/python3.6/site-packages/xgboost/core.py:587: FutureWarning: Series.base is deprecated and will be removed in a future version\n",
      "  if getattr(data, 'base', None) is not None and \\\n"
     ]
    },
    {
     "name": "stdout",
     "output_type": "stream",
     "text": [
      "train score (mean_absolute_error): 1.6179\n",
      "train score (mean_squared_error): 4.3782\n",
      "validation score (mean_absolute_error): 1.5017\n",
      "validation score (mean_squared_error): 4.1258\n",
      "Percentage of data thrown out: 0.04769498105714336%\n",
      " --------------- fold #4 out of -------------------\n"
     ]
    },
    {
     "name": "stderr",
     "output_type": "stream",
     "text": [
      "/home/sergey/.conda/envs/kaggle/lib/python3.6/site-packages/xgboost/core.py:587: FutureWarning: Series.base is deprecated and will be removed in a future version\n",
      "  if getattr(data, 'base', None) is not None and \\\n"
     ]
    },
    {
     "name": "stdout",
     "output_type": "stream",
     "text": [
      "train score (mean_absolute_error): 1.4345\n",
      "train score (mean_squared_error): 3.6136\n",
      "validation score (mean_absolute_error): 2.5685\n",
      "validation score (mean_squared_error): 9.9822\n",
      "Percentage of data thrown out: 0.04769498105714336%\n",
      " --------------- fold #5 out of -------------------\n"
     ]
    },
    {
     "name": "stderr",
     "output_type": "stream",
     "text": [
      "/home/sergey/.conda/envs/kaggle/lib/python3.6/site-packages/xgboost/core.py:587: FutureWarning: Series.base is deprecated and will be removed in a future version\n",
      "  if getattr(data, 'base', None) is not None and \\\n"
     ]
    },
    {
     "name": "stdout",
     "output_type": "stream",
     "text": [
      "train score (mean_absolute_error): 1.3407\n",
      "train score (mean_squared_error): 3.1132\n",
      "validation score (mean_absolute_error): 4.0748\n",
      "validation score (mean_squared_error): 24.5233\n",
      "Percentage of data thrown out: 0.02384749052857168%\n",
      " --------------- fold #6 out of -------------------\n"
     ]
    },
    {
     "name": "stderr",
     "output_type": "stream",
     "text": [
      "/home/sergey/.conda/envs/kaggle/lib/python3.6/site-packages/xgboost/core.py:587: FutureWarning: Series.base is deprecated and will be removed in a future version\n",
      "  if getattr(data, 'base', None) is not None and \\\n"
     ]
    },
    {
     "name": "stdout",
     "output_type": "stream",
     "text": [
      "train score (mean_absolute_error): 1.5954\n",
      "train score (mean_squared_error): 4.2489\n",
      "validation score (mean_absolute_error): 2.1381\n",
      "validation score (mean_squared_error): 8.3290\n",
      "Percentage of data thrown out: 0.04769498105714336%\n",
      " --------------- fold #7 out of -------------------\n"
     ]
    },
    {
     "name": "stderr",
     "output_type": "stream",
     "text": [
      "/home/sergey/.conda/envs/kaggle/lib/python3.6/site-packages/xgboost/core.py:587: FutureWarning: Series.base is deprecated and will be removed in a future version\n",
      "  if getattr(data, 'base', None) is not None and \\\n"
     ]
    },
    {
     "name": "stdout",
     "output_type": "stream",
     "text": [
      "train score (mean_absolute_error): 1.5568\n",
      "train score (mean_squared_error): 4.0933\n",
      "validation score (mean_absolute_error): 1.5113\n",
      "validation score (mean_squared_error): 4.0946\n",
      "Percentage of data thrown out: 0.04769498105714336%\n",
      " --------------- fold #8 out of -------------------\n"
     ]
    },
    {
     "name": "stderr",
     "output_type": "stream",
     "text": [
      "/home/sergey/.conda/envs/kaggle/lib/python3.6/site-packages/xgboost/core.py:587: FutureWarning: Series.base is deprecated and will be removed in a future version\n",
      "  if getattr(data, 'base', None) is not None and \\\n"
     ]
    },
    {
     "name": "stdout",
     "output_type": "stream",
     "text": [
      "train score (mean_absolute_error): 1.5700\n",
      "train score (mean_squared_error): 4.2030\n",
      "validation score (mean_absolute_error): 2.7304\n",
      "validation score (mean_squared_error): 10.5361\n",
      "['data_fname' 'preproc_name' 'preproc_params' 'folds_name' 'folds_params'\n",
      " 'model_name' 'model_params' 'mean_absolute_error' 'mean_squared_error']\n",
      "                                          data_fname    preproc_name  \\\n",
      "0  ../../data/e_lexa/train_proceded_not_smooth_da...  StandardScaler   \n",
      "\n",
      "               preproc_params  folds_name  \\\n",
      "0  {'name': 'StandardScaler'}  CustomFold   \n",
      "\n",
      "                                        folds_params    model_name  \\\n",
      "0  {'name': 'CustomFold', 'n_splits': 9, 'pad': 1...  XGBRegressor   \n",
      "\n",
      "                                        model_params  \\\n",
      "0  {'name': 'XGBRegressor', 'eta': 0.001, 'max_de...   \n",
      "\n",
      "                                 mean_absolute_error  \\\n",
      "0  [1.512324469222371, 2.266707730485495, 1.51951...   \n",
      "\n",
      "                                  mean_squared_error  \n",
      "0  [3.961197909830006, 7.635413519840824, 3.96443...  \n",
      ".......................Training finished.........................\n",
      "Run 13:\n",
      "....................... Training model ..............................\n",
      "Percentage of data thrown out: 0.04769498105714336%\n",
      " --------------- fold #0 out of -------------------\n"
     ]
    },
    {
     "name": "stderr",
     "output_type": "stream",
     "text": [
      "/home/sergey/.conda/envs/kaggle/lib/python3.6/site-packages/xgboost/core.py:587: FutureWarning: Series.base is deprecated and will be removed in a future version\n",
      "  if getattr(data, 'base', None) is not None and \\\n"
     ]
    },
    {
     "name": "stdout",
     "output_type": "stream",
     "text": [
      "train score (mean_absolute_error): 1.5460\n",
      "train score (mean_squared_error): 3.9793\n",
      "validation score (mean_absolute_error): 2.8891\n",
      "validation score (mean_squared_error): 11.2617\n",
      "Percentage of data thrown out: 0.04769498105714336%\n",
      " --------------- fold #1 out of -------------------\n"
     ]
    },
    {
     "name": "stderr",
     "output_type": "stream",
     "text": [
      "/home/sergey/.conda/envs/kaggle/lib/python3.6/site-packages/xgboost/core.py:587: FutureWarning: Series.base is deprecated and will be removed in a future version\n",
      "  if getattr(data, 'base', None) is not None and \\\n"
     ]
    },
    {
     "name": "stdout",
     "output_type": "stream",
     "text": [
      "train score (mean_absolute_error): 1.5755\n",
      "train score (mean_squared_error): 4.1712\n",
      "validation score (mean_absolute_error): 2.7177\n",
      "validation score (mean_squared_error): 11.4727\n",
      "Percentage of data thrown out: 0.04769498105714336%\n",
      " --------------- fold #2 out of -------------------\n"
     ]
    },
    {
     "name": "stderr",
     "output_type": "stream",
     "text": [
      "/home/sergey/.conda/envs/kaggle/lib/python3.6/site-packages/xgboost/core.py:587: FutureWarning: Series.base is deprecated and will be removed in a future version\n",
      "  if getattr(data, 'base', None) is not None and \\\n"
     ]
    },
    {
     "name": "stdout",
     "output_type": "stream",
     "text": [
      "train score (mean_absolute_error): 1.5011\n",
      "train score (mean_squared_error): 3.8852\n",
      "validation score (mean_absolute_error): 2.9505\n",
      "validation score (mean_squared_error): 12.6421\n",
      "Percentage of data thrown out: 0.04769498105714336%\n",
      " --------------- fold #3 out of -------------------\n"
     ]
    },
    {
     "name": "stderr",
     "output_type": "stream",
     "text": [
      "/home/sergey/.conda/envs/kaggle/lib/python3.6/site-packages/xgboost/core.py:587: FutureWarning: Series.base is deprecated and will be removed in a future version\n",
      "  if getattr(data, 'base', None) is not None and \\\n"
     ]
    },
    {
     "name": "stdout",
     "output_type": "stream",
     "text": [
      "train score (mean_absolute_error): 1.5818\n",
      "train score (mean_squared_error): 4.3283\n",
      "validation score (mean_absolute_error): 2.1393\n",
      "validation score (mean_squared_error): 6.4618\n",
      "Percentage of data thrown out: 0.04769498105714336%\n",
      " --------------- fold #4 out of -------------------\n"
     ]
    },
    {
     "name": "stderr",
     "output_type": "stream",
     "text": [
      "/home/sergey/.conda/envs/kaggle/lib/python3.6/site-packages/xgboost/core.py:587: FutureWarning: Series.base is deprecated and will be removed in a future version\n",
      "  if getattr(data, 'base', None) is not None and \\\n"
     ]
    },
    {
     "name": "stdout",
     "output_type": "stream",
     "text": [
      "train score (mean_absolute_error): 1.3993\n",
      "train score (mean_squared_error): 3.4064\n",
      "validation score (mean_absolute_error): 3.3139\n",
      "validation score (mean_squared_error): 16.4441\n",
      "Percentage of data thrown out: 0.04769498105714336%\n",
      " --------------- fold #5 out of -------------------\n"
     ]
    },
    {
     "name": "stderr",
     "output_type": "stream",
     "text": [
      "/home/sergey/.conda/envs/kaggle/lib/python3.6/site-packages/xgboost/core.py:587: FutureWarning: Series.base is deprecated and will be removed in a future version\n",
      "  if getattr(data, 'base', None) is not None and \\\n"
     ]
    },
    {
     "name": "stdout",
     "output_type": "stream",
     "text": [
      "train score (mean_absolute_error): 1.5080\n",
      "train score (mean_squared_error): 3.8565\n",
      "validation score (mean_absolute_error): 2.0951\n",
      "validation score (mean_squared_error): 6.9720\n",
      "Percentage of data thrown out: 0.04769498105714336%\n",
      " --------------- fold #6 out of -------------------\n"
     ]
    },
    {
     "name": "stderr",
     "output_type": "stream",
     "text": [
      "/home/sergey/.conda/envs/kaggle/lib/python3.6/site-packages/xgboost/core.py:587: FutureWarning: Series.base is deprecated and will be removed in a future version\n",
      "  if getattr(data, 'base', None) is not None and \\\n"
     ]
    },
    {
     "name": "stdout",
     "output_type": "stream",
     "text": [
      "train score (mean_absolute_error): 1.5011\n",
      "train score (mean_squared_error): 3.9510\n",
      "validation score (mean_absolute_error): 2.2596\n",
      "validation score (mean_squared_error): 7.9427\n",
      "Percentage of data thrown out: 0.04769498105714336%\n",
      " --------------- fold #7 out of -------------------\n"
     ]
    },
    {
     "name": "stderr",
     "output_type": "stream",
     "text": [
      "/home/sergey/.conda/envs/kaggle/lib/python3.6/site-packages/xgboost/core.py:587: FutureWarning: Series.base is deprecated and will be removed in a future version\n",
      "  if getattr(data, 'base', None) is not None and \\\n"
     ]
    },
    {
     "name": "stdout",
     "output_type": "stream",
     "text": [
      "train score (mean_absolute_error): 1.4907\n",
      "train score (mean_squared_error): 3.8619\n",
      "validation score (mean_absolute_error): 2.9870\n",
      "validation score (mean_squared_error): 12.4464\n",
      "Percentage of data thrown out: 0.04769498105714336%\n",
      " --------------- fold #8 out of -------------------\n"
     ]
    },
    {
     "name": "stderr",
     "output_type": "stream",
     "text": [
      "/home/sergey/.conda/envs/kaggle/lib/python3.6/site-packages/xgboost/core.py:587: FutureWarning: Series.base is deprecated and will be removed in a future version\n",
      "  if getattr(data, 'base', None) is not None and \\\n"
     ]
    },
    {
     "name": "stdout",
     "output_type": "stream",
     "text": [
      "train score (mean_absolute_error): 1.5723\n",
      "train score (mean_squared_error): 4.1498\n",
      "validation score (mean_absolute_error): 1.9565\n",
      "validation score (mean_squared_error): 6.1230\n",
      "['data_fname' 'preproc_name' 'preproc_params' 'folds_name' 'folds_params'\n",
      " 'model_name' 'model_params' 'mean_absolute_error' 'mean_squared_error']\n",
      "                                          data_fname    preproc_name  \\\n",
      "0  ../../data/e_lexa/train_proceded_not_smooth_da...  StandardScaler   \n",
      "\n",
      "               preproc_params  folds_name  \\\n",
      "0  {'name': 'StandardScaler'}  CustomFold   \n",
      "\n",
      "                                        folds_params    model_name  \\\n",
      "0  {'name': 'CustomFold', 'n_splits': 9, 'pad': 1...  XGBRegressor   \n",
      "\n",
      "                                        model_params  \\\n",
      "0  {'name': 'XGBRegressor', 'eta': 0.001, 'max_de...   \n",
      "\n",
      "                                 mean_absolute_error  \\\n",
      "0  [1.5459948617170625, 2.8891458152943907, 1.575...   \n",
      "\n",
      "                                  mean_squared_error  \n",
      "0  [3.97925984431482, 11.261701650101225, 4.17115...  \n",
      ".......................Training finished.........................\n",
      "Run 14:\n",
      "....................... Training model ..............................\n",
      "Percentage of data thrown out: 0.04769498105714336%\n",
      " --------------- fold #0 out of -------------------\n"
     ]
    },
    {
     "name": "stderr",
     "output_type": "stream",
     "text": [
      "/home/sergey/.conda/envs/kaggle/lib/python3.6/site-packages/xgboost/core.py:587: FutureWarning: Series.base is deprecated and will be removed in a future version\n",
      "  if getattr(data, 'base', None) is not None and \\\n"
     ]
    },
    {
     "name": "stdout",
     "output_type": "stream",
     "text": [
      "train score (mean_absolute_error): 1.5844\n",
      "train score (mean_squared_error): 4.1962\n",
      "validation score (mean_absolute_error): 1.4212\n",
      "validation score (mean_squared_error): 3.6195\n",
      "Percentage of data thrown out: 0.04769498105714336%\n",
      " --------------- fold #1 out of -------------------\n"
     ]
    },
    {
     "name": "stderr",
     "output_type": "stream",
     "text": [
      "/home/sergey/.conda/envs/kaggle/lib/python3.6/site-packages/xgboost/core.py:587: FutureWarning: Series.base is deprecated and will be removed in a future version\n",
      "  if getattr(data, 'base', None) is not None and \\\n"
     ]
    },
    {
     "name": "stdout",
     "output_type": "stream",
     "text": [
      "train score (mean_absolute_error): 1.4699\n",
      "train score (mean_squared_error): 3.7165\n",
      "validation score (mean_absolute_error): 2.9702\n",
      "validation score (mean_squared_error): 12.6515\n",
      "Percentage of data thrown out: 0.04769498105714336%\n",
      " --------------- fold #2 out of -------------------\n"
     ]
    },
    {
     "name": "stderr",
     "output_type": "stream",
     "text": [
      "/home/sergey/.conda/envs/kaggle/lib/python3.6/site-packages/xgboost/core.py:587: FutureWarning: Series.base is deprecated and will be removed in a future version\n",
      "  if getattr(data, 'base', None) is not None and \\\n"
     ]
    },
    {
     "name": "stdout",
     "output_type": "stream",
     "text": [
      "train score (mean_absolute_error): 1.5951\n",
      "train score (mean_squared_error): 4.3466\n",
      "validation score (mean_absolute_error): 2.0096\n",
      "validation score (mean_squared_error): 5.6926\n",
      "Percentage of data thrown out: 0.04769498105714336%\n",
      " --------------- fold #3 out of -------------------\n"
     ]
    },
    {
     "name": "stderr",
     "output_type": "stream",
     "text": [
      "/home/sergey/.conda/envs/kaggle/lib/python3.6/site-packages/xgboost/core.py:587: FutureWarning: Series.base is deprecated and will be removed in a future version\n",
      "  if getattr(data, 'base', None) is not None and \\\n"
     ]
    },
    {
     "name": "stdout",
     "output_type": "stream",
     "text": [
      "train score (mean_absolute_error): 1.3527\n",
      "train score (mean_squared_error): 3.1521\n",
      "validation score (mean_absolute_error): 4.0596\n",
      "validation score (mean_squared_error): 24.7771\n",
      "Percentage of data thrown out: 0.04769498105714336%\n",
      " --------------- fold #4 out of -------------------\n"
     ]
    },
    {
     "name": "stderr",
     "output_type": "stream",
     "text": [
      "/home/sergey/.conda/envs/kaggle/lib/python3.6/site-packages/xgboost/core.py:587: FutureWarning: Series.base is deprecated and will be removed in a future version\n",
      "  if getattr(data, 'base', None) is not None and \\\n"
     ]
    },
    {
     "name": "stdout",
     "output_type": "stream",
     "text": [
      "train score (mean_absolute_error): 1.4605\n",
      "train score (mean_squared_error): 3.7050\n",
      "validation score (mean_absolute_error): 3.6094\n",
      "validation score (mean_squared_error): 17.4915\n",
      "Percentage of data thrown out: 0.04769498105714336%\n",
      " --------------- fold #5 out of -------------------\n"
     ]
    },
    {
     "name": "stderr",
     "output_type": "stream",
     "text": [
      "/home/sergey/.conda/envs/kaggle/lib/python3.6/site-packages/xgboost/core.py:587: FutureWarning: Series.base is deprecated and will be removed in a future version\n",
      "  if getattr(data, 'base', None) is not None and \\\n"
     ]
    },
    {
     "name": "stdout",
     "output_type": "stream",
     "text": [
      "train score (mean_absolute_error): 1.5199\n",
      "train score (mean_squared_error): 3.9625\n",
      "validation score (mean_absolute_error): 2.1903\n",
      "validation score (mean_squared_error): 7.2464\n",
      "Percentage of data thrown out: 0.04769498105714336%\n",
      " --------------- fold #6 out of -------------------\n"
     ]
    },
    {
     "name": "stderr",
     "output_type": "stream",
     "text": [
      "/home/sergey/.conda/envs/kaggle/lib/python3.6/site-packages/xgboost/core.py:587: FutureWarning: Series.base is deprecated and will be removed in a future version\n",
      "  if getattr(data, 'base', None) is not None and \\\n"
     ]
    },
    {
     "name": "stdout",
     "output_type": "stream",
     "text": [
      "train score (mean_absolute_error): 1.4847\n",
      "train score (mean_squared_error): 3.8055\n",
      "validation score (mean_absolute_error): 3.1648\n",
      "validation score (mean_squared_error): 13.6253\n",
      "Percentage of data thrown out: 0.02384749052857168%\n",
      " --------------- fold #7 out of -------------------\n"
     ]
    },
    {
     "name": "stderr",
     "output_type": "stream",
     "text": [
      "/home/sergey/.conda/envs/kaggle/lib/python3.6/site-packages/xgboost/core.py:587: FutureWarning: Series.base is deprecated and will be removed in a future version\n",
      "  if getattr(data, 'base', None) is not None and \\\n"
     ]
    },
    {
     "name": "stdout",
     "output_type": "stream",
     "text": [
      "train score (mean_absolute_error): 1.5763\n",
      "train score (mean_squared_error): 4.2082\n",
      "validation score (mean_absolute_error): 1.8208\n",
      "validation score (mean_squared_error): 5.0694\n",
      "Percentage of data thrown out: 0.04769498105714336%\n",
      " --------------- fold #8 out of -------------------\n"
     ]
    },
    {
     "name": "stderr",
     "output_type": "stream",
     "text": [
      "/home/sergey/.conda/envs/kaggle/lib/python3.6/site-packages/xgboost/core.py:587: FutureWarning: Series.base is deprecated and will be removed in a future version\n",
      "  if getattr(data, 'base', None) is not None and \\\n"
     ]
    },
    {
     "name": "stdout",
     "output_type": "stream",
     "text": [
      "train score (mean_absolute_error): 1.4099\n",
      "train score (mean_squared_error): 3.4745\n",
      "validation score (mean_absolute_error): 3.3880\n",
      "validation score (mean_squared_error): 16.9919\n",
      "['data_fname' 'preproc_name' 'preproc_params' 'folds_name' 'folds_params'\n",
      " 'model_name' 'model_params' 'mean_absolute_error' 'mean_squared_error']\n",
      "                                          data_fname    preproc_name  \\\n",
      "0  ../../data/e_lexa/train_proceded_not_smooth_da...  StandardScaler   \n",
      "\n",
      "               preproc_params  folds_name  \\\n",
      "0  {'name': 'StandardScaler'}  CustomFold   \n",
      "\n",
      "                                        folds_params    model_name  \\\n",
      "0  {'name': 'CustomFold', 'n_splits': 9, 'pad': 1...  XGBRegressor   \n",
      "\n",
      "                                        model_params  \\\n",
      "0  {'name': 'XGBRegressor', 'eta': 0.001, 'max_de...   \n",
      "\n",
      "                                 mean_absolute_error  \\\n",
      "0  [1.584364234502096, 1.4211984193046268, 1.4698...   \n",
      "\n",
      "                                  mean_squared_error  \n",
      "0  [4.196151825975578, 3.6194617992344407, 3.7165...  \n",
      ".......................Training finished.........................\n",
      "Run 15:\n",
      "....................... Training model ..............................\n",
      "Percentage of data thrown out: 0.04769498105714336%\n",
      " --------------- fold #0 out of -------------------\n"
     ]
    },
    {
     "name": "stderr",
     "output_type": "stream",
     "text": [
      "/home/sergey/.conda/envs/kaggle/lib/python3.6/site-packages/xgboost/core.py:587: FutureWarning: Series.base is deprecated and will be removed in a future version\n",
      "  if getattr(data, 'base', None) is not None and \\\n"
     ]
    },
    {
     "name": "stdout",
     "output_type": "stream",
     "text": [
      "train score (mean_absolute_error): 1.3609\n",
      "train score (mean_squared_error): 3.2760\n",
      "validation score (mean_absolute_error): 3.7133\n",
      "validation score (mean_squared_error): 19.8557\n",
      "Percentage of data thrown out: 0.04769498105714336%\n",
      " --------------- fold #1 out of -------------------\n"
     ]
    },
    {
     "name": "stderr",
     "output_type": "stream",
     "text": [
      "/home/sergey/.conda/envs/kaggle/lib/python3.6/site-packages/xgboost/core.py:587: FutureWarning: Series.base is deprecated and will be removed in a future version\n",
      "  if getattr(data, 'base', None) is not None and \\\n"
     ]
    },
    {
     "name": "stdout",
     "output_type": "stream",
     "text": [
      "train score (mean_absolute_error): 1.5970\n",
      "train score (mean_squared_error): 4.3350\n",
      "validation score (mean_absolute_error): 1.3407\n",
      "validation score (mean_squared_error): 2.9443\n",
      "Percentage of data thrown out: 0.04769498105714336%\n",
      " --------------- fold #2 out of -------------------\n"
     ]
    },
    {
     "name": "stderr",
     "output_type": "stream",
     "text": [
      "/home/sergey/.conda/envs/kaggle/lib/python3.6/site-packages/xgboost/core.py:587: FutureWarning: Series.base is deprecated and will be removed in a future version\n",
      "  if getattr(data, 'base', None) is not None and \\\n"
     ]
    },
    {
     "name": "stdout",
     "output_type": "stream",
     "text": [
      "train score (mean_absolute_error): 1.4451\n",
      "train score (mean_squared_error): 3.6300\n",
      "validation score (mean_absolute_error): 2.4972\n",
      "validation score (mean_squared_error): 10.1679\n",
      "Percentage of data thrown out: 0.04769498105714336%\n",
      " --------------- fold #3 out of -------------------\n"
     ]
    },
    {
     "name": "stderr",
     "output_type": "stream",
     "text": [
      "/home/sergey/.conda/envs/kaggle/lib/python3.6/site-packages/xgboost/core.py:587: FutureWarning: Series.base is deprecated and will be removed in a future version\n",
      "  if getattr(data, 'base', None) is not None and \\\n"
     ]
    },
    {
     "name": "stdout",
     "output_type": "stream",
     "text": [
      "train score (mean_absolute_error): 1.5760\n",
      "train score (mean_squared_error): 4.2382\n",
      "validation score (mean_absolute_error): 2.5574\n",
      "validation score (mean_squared_error): 9.4740\n",
      "Percentage of data thrown out: 0.04769498105714336%\n",
      " --------------- fold #4 out of -------------------\n"
     ]
    },
    {
     "name": "stderr",
     "output_type": "stream",
     "text": [
      "/home/sergey/.conda/envs/kaggle/lib/python3.6/site-packages/xgboost/core.py:587: FutureWarning: Series.base is deprecated and will be removed in a future version\n",
      "  if getattr(data, 'base', None) is not None and \\\n"
     ]
    },
    {
     "name": "stdout",
     "output_type": "stream",
     "text": [
      "train score (mean_absolute_error): 1.5152\n",
      "train score (mean_squared_error): 3.9065\n",
      "validation score (mean_absolute_error): 2.1933\n",
      "validation score (mean_squared_error): 7.7188\n",
      "Percentage of data thrown out: 0.04769498105714336%\n",
      " --------------- fold #5 out of -------------------\n"
     ]
    },
    {
     "name": "stderr",
     "output_type": "stream",
     "text": [
      "/home/sergey/.conda/envs/kaggle/lib/python3.6/site-packages/xgboost/core.py:587: FutureWarning: Series.base is deprecated and will be removed in a future version\n",
      "  if getattr(data, 'base', None) is not None and \\\n"
     ]
    },
    {
     "name": "stdout",
     "output_type": "stream",
     "text": [
      "train score (mean_absolute_error): 1.4654\n",
      "train score (mean_squared_error): 3.7398\n",
      "validation score (mean_absolute_error): 2.5359\n",
      "validation score (mean_squared_error): 9.7351\n",
      "Percentage of data thrown out: 0.04769498105714336%\n",
      " --------------- fold #6 out of -------------------\n"
     ]
    },
    {
     "name": "stderr",
     "output_type": "stream",
     "text": [
      "/home/sergey/.conda/envs/kaggle/lib/python3.6/site-packages/xgboost/core.py:587: FutureWarning: Series.base is deprecated and will be removed in a future version\n",
      "  if getattr(data, 'base', None) is not None and \\\n"
     ]
    },
    {
     "name": "stdout",
     "output_type": "stream",
     "text": [
      "train score (mean_absolute_error): 1.3203\n",
      "train score (mean_squared_error): 3.0727\n",
      "validation score (mean_absolute_error): 4.1216\n",
      "validation score (mean_squared_error): 25.0146\n",
      "Percentage of data thrown out: 0.04769498105714336%\n",
      " --------------- fold #7 out of -------------------\n"
     ]
    },
    {
     "name": "stderr",
     "output_type": "stream",
     "text": [
      "/home/sergey/.conda/envs/kaggle/lib/python3.6/site-packages/xgboost/core.py:587: FutureWarning: Series.base is deprecated and will be removed in a future version\n",
      "  if getattr(data, 'base', None) is not None and \\\n"
     ]
    },
    {
     "name": "stdout",
     "output_type": "stream",
     "text": [
      "train score (mean_absolute_error): 1.5048\n",
      "train score (mean_squared_error): 3.8636\n",
      "validation score (mean_absolute_error): 2.3234\n",
      "validation score (mean_squared_error): 9.1320\n",
      "Percentage of data thrown out: 0.04769498105714336%\n",
      " --------------- fold #8 out of -------------------\n"
     ]
    },
    {
     "name": "stderr",
     "output_type": "stream",
     "text": [
      "/home/sergey/.conda/envs/kaggle/lib/python3.6/site-packages/xgboost/core.py:587: FutureWarning: Series.base is deprecated and will be removed in a future version\n",
      "  if getattr(data, 'base', None) is not None and \\\n"
     ]
    },
    {
     "name": "stdout",
     "output_type": "stream",
     "text": [
      "train score (mean_absolute_error): 1.4634\n",
      "train score (mean_squared_error): 3.7477\n",
      "validation score (mean_absolute_error): 2.3039\n",
      "validation score (mean_squared_error): 8.4821\n",
      "['data_fname' 'preproc_name' 'preproc_params' 'folds_name' 'folds_params'\n",
      " 'model_name' 'model_params' 'mean_absolute_error' 'mean_squared_error']\n",
      "                                          data_fname    preproc_name  \\\n",
      "0  ../../data/e_lexa/train_proceded_not_smooth_da...  StandardScaler   \n",
      "\n",
      "               preproc_params  folds_name  \\\n",
      "0  {'name': 'StandardScaler'}  CustomFold   \n",
      "\n",
      "                                        folds_params    model_name  \\\n",
      "0  {'name': 'CustomFold', 'n_splits': 9, 'pad': 1...  XGBRegressor   \n",
      "\n",
      "                                        model_params  \\\n",
      "0  {'name': 'XGBRegressor', 'eta': 0.001, 'max_de...   \n",
      "\n",
      "                                 mean_absolute_error  \\\n",
      "0  [1.3609098761690668, 3.713284232157866, 1.5970...   \n",
      "\n",
      "                                  mean_squared_error  \n",
      "0  [3.2759698664979533, 19.85570387582753, 4.3350...  \n",
      ".......................Training finished.........................\n",
      "Run 16:\n",
      "....................... Training model ..............................\n",
      "Percentage of data thrown out: 0.04769498105714336%\n",
      " --------------- fold #0 out of -------------------\n"
     ]
    },
    {
     "name": "stderr",
     "output_type": "stream",
     "text": [
      "/home/sergey/.conda/envs/kaggle/lib/python3.6/site-packages/xgboost/core.py:587: FutureWarning: Series.base is deprecated and will be removed in a future version\n",
      "  if getattr(data, 'base', None) is not None and \\\n"
     ]
    },
    {
     "name": "stdout",
     "output_type": "stream",
     "text": [
      "train score (mean_absolute_error): 1.5026\n",
      "train score (mean_squared_error): 3.8537\n",
      "validation score (mean_absolute_error): 2.4424\n",
      "validation score (mean_squared_error): 10.0501\n",
      "Percentage of data thrown out: 0.04769498105714336%\n",
      " --------------- fold #1 out of -------------------\n"
     ]
    },
    {
     "name": "stderr",
     "output_type": "stream",
     "text": [
      "/home/sergey/.conda/envs/kaggle/lib/python3.6/site-packages/xgboost/core.py:587: FutureWarning: Series.base is deprecated and will be removed in a future version\n",
      "  if getattr(data, 'base', None) is not None and \\\n"
     ]
    },
    {
     "name": "stdout",
     "output_type": "stream",
     "text": [
      "train score (mean_absolute_error): 1.3959\n",
      "train score (mean_squared_error): 3.3037\n",
      "validation score (mean_absolute_error): 3.9466\n",
      "validation score (mean_squared_error): 21.9175\n",
      "Percentage of data thrown out: 0.04769498105714336%\n",
      " --------------- fold #2 out of -------------------\n"
     ]
    },
    {
     "name": "stderr",
     "output_type": "stream",
     "text": [
      "/home/sergey/.conda/envs/kaggle/lib/python3.6/site-packages/xgboost/core.py:587: FutureWarning: Series.base is deprecated and will be removed in a future version\n",
      "  if getattr(data, 'base', None) is not None and \\\n"
     ]
    },
    {
     "name": "stdout",
     "output_type": "stream",
     "text": [
      "train score (mean_absolute_error): 1.5313\n",
      "train score (mean_squared_error): 4.0600\n",
      "validation score (mean_absolute_error): 2.2205\n",
      "validation score (mean_squared_error): 7.8677\n",
      "Percentage of data thrown out: 0.04769498105714336%\n",
      " --------------- fold #3 out of -------------------\n"
     ]
    },
    {
     "name": "stderr",
     "output_type": "stream",
     "text": [
      "/home/sergey/.conda/envs/kaggle/lib/python3.6/site-packages/xgboost/core.py:587: FutureWarning: Series.base is deprecated and will be removed in a future version\n",
      "  if getattr(data, 'base', None) is not None and \\\n"
     ]
    },
    {
     "name": "stdout",
     "output_type": "stream",
     "text": [
      "train score (mean_absolute_error): 1.6496\n",
      "train score (mean_squared_error): 4.4833\n",
      "validation score (mean_absolute_error): 1.3710\n",
      "validation score (mean_squared_error): 3.1915\n",
      "Percentage of data thrown out: 0.02384749052857168%\n",
      " --------------- fold #4 out of -------------------\n"
     ]
    },
    {
     "name": "stderr",
     "output_type": "stream",
     "text": [
      "/home/sergey/.conda/envs/kaggle/lib/python3.6/site-packages/xgboost/core.py:587: FutureWarning: Series.base is deprecated and will be removed in a future version\n",
      "  if getattr(data, 'base', None) is not None and \\\n"
     ]
    },
    {
     "name": "stdout",
     "output_type": "stream",
     "text": [
      "train score (mean_absolute_error): 1.5528\n",
      "train score (mean_squared_error): 4.0755\n",
      "validation score (mean_absolute_error): 2.0914\n",
      "validation score (mean_squared_error): 8.5698\n",
      "Percentage of data thrown out: 0.02384749052857168%\n",
      " --------------- fold #5 out of -------------------\n"
     ]
    },
    {
     "name": "stderr",
     "output_type": "stream",
     "text": [
      "/home/sergey/.conda/envs/kaggle/lib/python3.6/site-packages/xgboost/core.py:587: FutureWarning: Series.base is deprecated and will be removed in a future version\n",
      "  if getattr(data, 'base', None) is not None and \\\n"
     ]
    },
    {
     "name": "stdout",
     "output_type": "stream",
     "text": [
      "train score (mean_absolute_error): 1.5861\n",
      "train score (mean_squared_error): 4.2222\n",
      "validation score (mean_absolute_error): 1.9178\n",
      "validation score (mean_squared_error): 6.0170\n",
      "Percentage of data thrown out: 0.04769498105714336%\n",
      " --------------- fold #6 out of -------------------\n"
     ]
    },
    {
     "name": "stderr",
     "output_type": "stream",
     "text": [
      "/home/sergey/.conda/envs/kaggle/lib/python3.6/site-packages/xgboost/core.py:587: FutureWarning: Series.base is deprecated and will be removed in a future version\n",
      "  if getattr(data, 'base', None) is not None and \\\n"
     ]
    },
    {
     "name": "stdout",
     "output_type": "stream",
     "text": [
      "train score (mean_absolute_error): 1.5965\n",
      "train score (mean_squared_error): 4.2907\n",
      "validation score (mean_absolute_error): 1.7385\n",
      "validation score (mean_squared_error): 5.7013\n",
      "Percentage of data thrown out: 0.02384749052857168%\n",
      " --------------- fold #7 out of -------------------\n"
     ]
    },
    {
     "name": "stderr",
     "output_type": "stream",
     "text": [
      "/home/sergey/.conda/envs/kaggle/lib/python3.6/site-packages/xgboost/core.py:587: FutureWarning: Series.base is deprecated and will be removed in a future version\n",
      "  if getattr(data, 'base', None) is not None and \\\n"
     ]
    },
    {
     "name": "stdout",
     "output_type": "stream",
     "text": [
      "train score (mean_absolute_error): 1.5934\n",
      "train score (mean_squared_error): 4.2749\n",
      "validation score (mean_absolute_error): 2.0905\n",
      "validation score (mean_squared_error): 6.8409\n",
      "Percentage of data thrown out: 0.04769498105714336%\n",
      " --------------- fold #8 out of -------------------\n"
     ]
    },
    {
     "name": "stderr",
     "output_type": "stream",
     "text": [
      "/home/sergey/.conda/envs/kaggle/lib/python3.6/site-packages/xgboost/core.py:587: FutureWarning: Series.base is deprecated and will be removed in a future version\n",
      "  if getattr(data, 'base', None) is not None and \\\n"
     ]
    },
    {
     "name": "stdout",
     "output_type": "stream",
     "text": [
      "train score (mean_absolute_error): 1.3716\n",
      "train score (mean_squared_error): 3.2571\n",
      "validation score (mean_absolute_error): 4.1113\n",
      "validation score (mean_squared_error): 24.6935\n",
      "['data_fname' 'preproc_name' 'preproc_params' 'folds_name' 'folds_params'\n",
      " 'model_name' 'model_params' 'mean_absolute_error' 'mean_squared_error']\n",
      "                                          data_fname    preproc_name  \\\n",
      "0  ../../data/e_lexa/train_proceded_not_smooth_da...  StandardScaler   \n",
      "\n",
      "               preproc_params  folds_name  \\\n",
      "0  {'name': 'StandardScaler'}  CustomFold   \n",
      "\n",
      "                                        folds_params    model_name  \\\n",
      "0  {'name': 'CustomFold', 'n_splits': 9, 'pad': 1...  XGBRegressor   \n",
      "\n",
      "                                        model_params  \\\n",
      "0  {'name': 'XGBRegressor', 'eta': 0.001, 'max_de...   \n",
      "\n",
      "                                 mean_absolute_error  \\\n",
      "0  [1.5025995106694885, 2.4424137542860604, 1.395...   \n",
      "\n",
      "                                  mean_squared_error  \n",
      "0  [3.853653238577473, 10.05010119831883, 3.30372...  \n",
      ".......................Training finished.........................\n",
      "Run 17:\n",
      "....................... Training model ..............................\n",
      "Percentage of data thrown out: 0.04769498105714336%\n",
      " --------------- fold #0 out of -------------------\n"
     ]
    },
    {
     "name": "stderr",
     "output_type": "stream",
     "text": [
      "/home/sergey/.conda/envs/kaggle/lib/python3.6/site-packages/xgboost/core.py:587: FutureWarning: Series.base is deprecated and will be removed in a future version\n",
      "  if getattr(data, 'base', None) is not None and \\\n"
     ]
    },
    {
     "name": "stdout",
     "output_type": "stream",
     "text": [
      "train score (mean_absolute_error): 1.5067\n",
      "train score (mean_squared_error): 3.9609\n",
      "validation score (mean_absolute_error): 1.9550\n",
      "validation score (mean_squared_error): 6.3186\n",
      "Percentage of data thrown out: 0.04769498105714336%\n",
      " --------------- fold #1 out of -------------------\n"
     ]
    },
    {
     "name": "stderr",
     "output_type": "stream",
     "text": [
      "/home/sergey/.conda/envs/kaggle/lib/python3.6/site-packages/xgboost/core.py:587: FutureWarning: Series.base is deprecated and will be removed in a future version\n",
      "  if getattr(data, 'base', None) is not None and \\\n"
     ]
    },
    {
     "name": "stdout",
     "output_type": "stream",
     "text": [
      "train score (mean_absolute_error): 1.6194\n",
      "train score (mean_squared_error): 4.3588\n",
      "validation score (mean_absolute_error): 1.4220\n",
      "validation score (mean_squared_error): 3.4579\n",
      "Percentage of data thrown out: 0.02384749052857168%\n",
      " --------------- fold #2 out of -------------------\n"
     ]
    },
    {
     "name": "stderr",
     "output_type": "stream",
     "text": [
      "/home/sergey/.conda/envs/kaggle/lib/python3.6/site-packages/xgboost/core.py:587: FutureWarning: Series.base is deprecated and will be removed in a future version\n",
      "  if getattr(data, 'base', None) is not None and \\\n"
     ]
    },
    {
     "name": "stdout",
     "output_type": "stream",
     "text": [
      "train score (mean_absolute_error): 1.5768\n",
      "train score (mean_squared_error): 4.2147\n",
      "validation score (mean_absolute_error): 1.8353\n",
      "validation score (mean_squared_error): 5.3814\n",
      "Percentage of data thrown out: 0.04769498105714336%\n",
      " --------------- fold #3 out of -------------------\n"
     ]
    },
    {
     "name": "stderr",
     "output_type": "stream",
     "text": [
      "/home/sergey/.conda/envs/kaggle/lib/python3.6/site-packages/xgboost/core.py:587: FutureWarning: Series.base is deprecated and will be removed in a future version\n",
      "  if getattr(data, 'base', None) is not None and \\\n"
     ]
    },
    {
     "name": "stdout",
     "output_type": "stream",
     "text": [
      "train score (mean_absolute_error): 1.4180\n",
      "train score (mean_squared_error): 3.4924\n",
      "validation score (mean_absolute_error): 3.0092\n",
      "validation score (mean_squared_error): 14.3568\n",
      "Percentage of data thrown out: 0.02384749052857168%\n",
      " --------------- fold #4 out of -------------------\n"
     ]
    },
    {
     "name": "stderr",
     "output_type": "stream",
     "text": [
      "/home/sergey/.conda/envs/kaggle/lib/python3.6/site-packages/xgboost/core.py:587: FutureWarning: Series.base is deprecated and will be removed in a future version\n",
      "  if getattr(data, 'base', None) is not None and \\\n"
     ]
    },
    {
     "name": "stdout",
     "output_type": "stream",
     "text": [
      "train score (mean_absolute_error): 1.5487\n",
      "train score (mean_squared_error): 4.0483\n",
      "validation score (mean_absolute_error): 1.7893\n",
      "validation score (mean_squared_error): 5.1267\n",
      "Percentage of data thrown out: 0.02384749052857168%\n",
      " --------------- fold #5 out of -------------------\n"
     ]
    },
    {
     "name": "stderr",
     "output_type": "stream",
     "text": [
      "/home/sergey/.conda/envs/kaggle/lib/python3.6/site-packages/xgboost/core.py:587: FutureWarning: Series.base is deprecated and will be removed in a future version\n",
      "  if getattr(data, 'base', None) is not None and \\\n"
     ]
    },
    {
     "name": "stdout",
     "output_type": "stream",
     "text": [
      "train score (mean_absolute_error): 1.5569\n",
      "train score (mean_squared_error): 4.1140\n",
      "validation score (mean_absolute_error): 1.8189\n",
      "validation score (mean_squared_error): 5.2107\n",
      "Percentage of data thrown out: 0.04769498105714336%\n",
      " --------------- fold #6 out of -------------------\n"
     ]
    },
    {
     "name": "stderr",
     "output_type": "stream",
     "text": [
      "/home/sergey/.conda/envs/kaggle/lib/python3.6/site-packages/xgboost/core.py:587: FutureWarning: Series.base is deprecated and will be removed in a future version\n",
      "  if getattr(data, 'base', None) is not None and \\\n"
     ]
    },
    {
     "name": "stdout",
     "output_type": "stream",
     "text": [
      "train score (mean_absolute_error): 1.5375\n",
      "train score (mean_squared_error): 4.0896\n",
      "validation score (mean_absolute_error): 2.8607\n",
      "validation score (mean_squared_error): 12.6144\n",
      "Percentage of data thrown out: 0.04769498105714336%\n",
      " --------------- fold #7 out of -------------------\n"
     ]
    },
    {
     "name": "stderr",
     "output_type": "stream",
     "text": [
      "/home/sergey/.conda/envs/kaggle/lib/python3.6/site-packages/xgboost/core.py:587: FutureWarning: Series.base is deprecated and will be removed in a future version\n",
      "  if getattr(data, 'base', None) is not None and \\\n"
     ]
    },
    {
     "name": "stdout",
     "output_type": "stream",
     "text": [
      "train score (mean_absolute_error): 1.5034\n",
      "train score (mean_squared_error): 3.8317\n",
      "validation score (mean_absolute_error): 2.7812\n",
      "validation score (mean_squared_error): 10.6312\n",
      "Percentage of data thrown out: 0.04769498105714336%\n",
      " --------------- fold #8 out of -------------------\n"
     ]
    },
    {
     "name": "stderr",
     "output_type": "stream",
     "text": [
      "/home/sergey/.conda/envs/kaggle/lib/python3.6/site-packages/xgboost/core.py:587: FutureWarning: Series.base is deprecated and will be removed in a future version\n",
      "  if getattr(data, 'base', None) is not None and \\\n"
     ]
    },
    {
     "name": "stdout",
     "output_type": "stream",
     "text": [
      "train score (mean_absolute_error): 1.3712\n",
      "train score (mean_squared_error): 3.1973\n",
      "validation score (mean_absolute_error): 3.8656\n",
      "validation score (mean_squared_error): 22.2475\n",
      "['data_fname' 'preproc_name' 'preproc_params' 'folds_name' 'folds_params'\n",
      " 'model_name' 'model_params' 'mean_absolute_error' 'mean_squared_error']\n",
      "                                          data_fname    preproc_name  \\\n",
      "0  ../../data/e_lexa/train_proceded_not_smooth_da...  StandardScaler   \n",
      "\n",
      "               preproc_params  folds_name  \\\n",
      "0  {'name': 'StandardScaler'}  CustomFold   \n",
      "\n",
      "                                        folds_params    model_name  \\\n",
      "0  {'name': 'CustomFold', 'n_splits': 9, 'pad': 1...  XGBRegressor   \n",
      "\n",
      "                                        model_params  \\\n",
      "0  {'name': 'XGBRegressor', 'eta': 0.001, 'max_de...   \n",
      "\n",
      "                                 mean_absolute_error  \\\n",
      "0  [1.506672761820711, 1.9549977317790883, 1.6194...   \n",
      "\n",
      "                                  mean_squared_error  \n",
      "0  [3.960909619973494, 6.3186076754062634, 4.3588...  \n",
      ".......................Training finished.........................\n",
      "Run 18:\n",
      "....................... Training model ..............................\n",
      "Percentage of data thrown out: 0.04769498105714336%\n",
      " --------------- fold #0 out of -------------------\n"
     ]
    },
    {
     "name": "stderr",
     "output_type": "stream",
     "text": [
      "/home/sergey/.conda/envs/kaggle/lib/python3.6/site-packages/xgboost/core.py:587: FutureWarning: Series.base is deprecated and will be removed in a future version\n",
      "  if getattr(data, 'base', None) is not None and \\\n"
     ]
    },
    {
     "name": "stdout",
     "output_type": "stream",
     "text": [
      "train score (mean_absolute_error): 1.4977\n",
      "train score (mean_squared_error): 3.8274\n",
      "validation score (mean_absolute_error): 2.4649\n",
      "validation score (mean_squared_error): 9.8236\n",
      "Percentage of data thrown out: 0.04769498105714336%\n",
      " --------------- fold #1 out of -------------------\n"
     ]
    },
    {
     "name": "stderr",
     "output_type": "stream",
     "text": [
      "/home/sergey/.conda/envs/kaggle/lib/python3.6/site-packages/xgboost/core.py:587: FutureWarning: Series.base is deprecated and will be removed in a future version\n",
      "  if getattr(data, 'base', None) is not None and \\\n"
     ]
    },
    {
     "name": "stdout",
     "output_type": "stream",
     "text": [
      "train score (mean_absolute_error): 1.5689\n",
      "train score (mean_squared_error): 4.1679\n",
      "validation score (mean_absolute_error): 3.0081\n",
      "validation score (mean_squared_error): 12.6511\n",
      "Percentage of data thrown out: 0.04769498105714336%\n",
      " --------------- fold #2 out of -------------------\n"
     ]
    },
    {
     "name": "stderr",
     "output_type": "stream",
     "text": [
      "/home/sergey/.conda/envs/kaggle/lib/python3.6/site-packages/xgboost/core.py:587: FutureWarning: Series.base is deprecated and will be removed in a future version\n",
      "  if getattr(data, 'base', None) is not None and \\\n"
     ]
    },
    {
     "name": "stdout",
     "output_type": "stream",
     "text": [
      "train score (mean_absolute_error): 1.6299\n",
      "train score (mean_squared_error): 4.4830\n",
      "validation score (mean_absolute_error): 1.3966\n",
      "validation score (mean_squared_error): 3.5160\n",
      "Percentage of data thrown out: 0.04769498105714336%\n",
      " --------------- fold #3 out of -------------------\n"
     ]
    },
    {
     "name": "stderr",
     "output_type": "stream",
     "text": [
      "/home/sergey/.conda/envs/kaggle/lib/python3.6/site-packages/xgboost/core.py:587: FutureWarning: Series.base is deprecated and will be removed in a future version\n",
      "  if getattr(data, 'base', None) is not None and \\\n"
     ]
    },
    {
     "name": "stdout",
     "output_type": "stream",
     "text": [
      "train score (mean_absolute_error): 1.3161\n",
      "train score (mean_squared_error): 3.1128\n",
      "validation score (mean_absolute_error): 4.1945\n",
      "validation score (mean_squared_error): 25.6560\n",
      "Percentage of data thrown out: 0.04769498105714336%\n",
      " --------------- fold #4 out of -------------------\n"
     ]
    },
    {
     "name": "stderr",
     "output_type": "stream",
     "text": [
      "/home/sergey/.conda/envs/kaggle/lib/python3.6/site-packages/xgboost/core.py:587: FutureWarning: Series.base is deprecated and will be removed in a future version\n",
      "  if getattr(data, 'base', None) is not None and \\\n"
     ]
    },
    {
     "name": "stdout",
     "output_type": "stream",
     "text": [
      "train score (mean_absolute_error): 1.5258\n",
      "train score (mean_squared_error): 3.9975\n",
      "validation score (mean_absolute_error): 2.4551\n",
      "validation score (mean_squared_error): 9.2396\n",
      "Percentage of data thrown out: 0.04769498105714336%\n",
      " --------------- fold #5 out of -------------------\n"
     ]
    },
    {
     "name": "stderr",
     "output_type": "stream",
     "text": [
      "/home/sergey/.conda/envs/kaggle/lib/python3.6/site-packages/xgboost/core.py:587: FutureWarning: Series.base is deprecated and will be removed in a future version\n",
      "  if getattr(data, 'base', None) is not None and \\\n"
     ]
    },
    {
     "name": "stdout",
     "output_type": "stream",
     "text": [
      "train score (mean_absolute_error): 1.6096\n",
      "train score (mean_squared_error): 4.3469\n",
      "validation score (mean_absolute_error): 1.5507\n",
      "validation score (mean_squared_error): 4.2001\n",
      "Percentage of data thrown out: 0.04769498105714336%\n",
      " --------------- fold #6 out of -------------------\n"
     ]
    },
    {
     "name": "stderr",
     "output_type": "stream",
     "text": [
      "/home/sergey/.conda/envs/kaggle/lib/python3.6/site-packages/xgboost/core.py:587: FutureWarning: Series.base is deprecated and will be removed in a future version\n",
      "  if getattr(data, 'base', None) is not None and \\\n"
     ]
    },
    {
     "name": "stdout",
     "output_type": "stream",
     "text": [
      "train score (mean_absolute_error): 1.5275\n",
      "train score (mean_squared_error): 4.0052\n",
      "validation score (mean_absolute_error): 1.6369\n",
      "validation score (mean_squared_error): 3.8346\n",
      "Percentage of data thrown out: 0.04769498105714336%\n",
      " --------------- fold #7 out of -------------------\n"
     ]
    },
    {
     "name": "stderr",
     "output_type": "stream",
     "text": [
      "/home/sergey/.conda/envs/kaggle/lib/python3.6/site-packages/xgboost/core.py:587: FutureWarning: Series.base is deprecated and will be removed in a future version\n",
      "  if getattr(data, 'base', None) is not None and \\\n"
     ]
    },
    {
     "name": "stdout",
     "output_type": "stream",
     "text": [
      "train score (mean_absolute_error): 1.4750\n",
      "train score (mean_squared_error): 3.7998\n",
      "validation score (mean_absolute_error): 2.9435\n",
      "validation score (mean_squared_error): 12.8093\n",
      "Percentage of data thrown out: 0.04769498105714336%\n",
      " --------------- fold #8 out of -------------------\n"
     ]
    },
    {
     "name": "stderr",
     "output_type": "stream",
     "text": [
      "/home/sergey/.conda/envs/kaggle/lib/python3.6/site-packages/xgboost/core.py:587: FutureWarning: Series.base is deprecated and will be removed in a future version\n",
      "  if getattr(data, 'base', None) is not None and \\\n"
     ]
    },
    {
     "name": "stdout",
     "output_type": "stream",
     "text": [
      "train score (mean_absolute_error): 1.5819\n",
      "train score (mean_squared_error): 4.1853\n",
      "validation score (mean_absolute_error): 2.1262\n",
      "validation score (mean_squared_error): 8.5403\n",
      "['data_fname' 'preproc_name' 'preproc_params' 'folds_name' 'folds_params'\n",
      " 'model_name' 'model_params' 'mean_absolute_error' 'mean_squared_error']\n",
      "                                          data_fname    preproc_name  \\\n",
      "0  ../../data/e_lexa/train_proceded_not_smooth_da...  StandardScaler   \n",
      "\n",
      "               preproc_params  folds_name  \\\n",
      "0  {'name': 'StandardScaler'}  CustomFold   \n",
      "\n",
      "                                        folds_params    model_name  \\\n",
      "0  {'name': 'CustomFold', 'n_splits': 9, 'pad': 1...  XGBRegressor   \n",
      "\n",
      "                                        model_params  \\\n",
      "0  {'name': 'XGBRegressor', 'eta': 0.001, 'max_de...   \n",
      "\n",
      "                                 mean_absolute_error  \\\n",
      "0  [1.4976525740893347, 2.4649364833937204, 1.568...   \n",
      "\n",
      "                                  mean_squared_error  \n",
      "0  [3.8274171057001554, 9.823647411340986, 4.1679...  \n",
      ".......................Training finished.........................\n",
      "Run 19:\n",
      "....................... Training model ..............................\n",
      "Percentage of data thrown out: 0.04769498105714336%\n",
      " --------------- fold #0 out of -------------------\n"
     ]
    },
    {
     "name": "stderr",
     "output_type": "stream",
     "text": [
      "/home/sergey/.conda/envs/kaggle/lib/python3.6/site-packages/xgboost/core.py:587: FutureWarning: Series.base is deprecated and will be removed in a future version\n",
      "  if getattr(data, 'base', None) is not None and \\\n"
     ]
    },
    {
     "name": "stdout",
     "output_type": "stream",
     "text": [
      "train score (mean_absolute_error): 1.5988\n",
      "train score (mean_squared_error): 4.2625\n",
      "validation score (mean_absolute_error): 1.3408\n",
      "validation score (mean_squared_error): 3.4336\n",
      "Percentage of data thrown out: 0.02384749052857168%\n",
      " --------------- fold #1 out of -------------------\n"
     ]
    },
    {
     "name": "stderr",
     "output_type": "stream",
     "text": [
      "/home/sergey/.conda/envs/kaggle/lib/python3.6/site-packages/xgboost/core.py:587: FutureWarning: Series.base is deprecated and will be removed in a future version\n",
      "  if getattr(data, 'base', None) is not None and \\\n"
     ]
    },
    {
     "name": "stdout",
     "output_type": "stream",
     "text": [
      "train score (mean_absolute_error): 0.7844\n",
      "train score (mean_squared_error): 1.0566\n",
      "validation score (mean_absolute_error): 1.4140\n",
      "validation score (mean_squared_error): 2.0588\n",
      "Percentage of data thrown out: 0.04769498105714336%\n",
      " --------------- fold #2 out of -------------------\n"
     ]
    },
    {
     "name": "stderr",
     "output_type": "stream",
     "text": [
      "/home/sergey/.conda/envs/kaggle/lib/python3.6/site-packages/xgboost/core.py:587: FutureWarning: Series.base is deprecated and will be removed in a future version\n",
      "  if getattr(data, 'base', None) is not None and \\\n"
     ]
    },
    {
     "name": "stdout",
     "output_type": "stream",
     "text": [
      "train score (mean_absolute_error): 1.3292\n",
      "train score (mean_squared_error): 3.0808\n",
      "validation score (mean_absolute_error): 3.7938\n",
      "validation score (mean_squared_error): 21.3176\n",
      "Percentage of data thrown out: 0.04769498105714336%\n",
      " --------------- fold #3 out of -------------------\n"
     ]
    },
    {
     "name": "stderr",
     "output_type": "stream",
     "text": [
      "/home/sergey/.conda/envs/kaggle/lib/python3.6/site-packages/xgboost/core.py:587: FutureWarning: Series.base is deprecated and will be removed in a future version\n",
      "  if getattr(data, 'base', None) is not None and \\\n"
     ]
    },
    {
     "name": "stdout",
     "output_type": "stream",
     "text": [
      "train score (mean_absolute_error): 1.4222\n",
      "train score (mean_squared_error): 3.5300\n",
      "validation score (mean_absolute_error): 3.4051\n",
      "validation score (mean_squared_error): 17.1993\n",
      "Percentage of data thrown out: 0.04769498105714336%\n",
      " --------------- fold #4 out of -------------------\n"
     ]
    },
    {
     "name": "stderr",
     "output_type": "stream",
     "text": [
      "/home/sergey/.conda/envs/kaggle/lib/python3.6/site-packages/xgboost/core.py:587: FutureWarning: Series.base is deprecated and will be removed in a future version\n",
      "  if getattr(data, 'base', None) is not None and \\\n"
     ]
    },
    {
     "name": "stdout",
     "output_type": "stream",
     "text": [
      "train score (mean_absolute_error): 1.5187\n",
      "train score (mean_squared_error): 3.9540\n",
      "validation score (mean_absolute_error): 2.3924\n",
      "validation score (mean_squared_error): 9.7386\n",
      "Percentage of data thrown out: 0.04769498105714336%\n",
      " --------------- fold #5 out of -------------------\n"
     ]
    },
    {
     "name": "stderr",
     "output_type": "stream",
     "text": [
      "/home/sergey/.conda/envs/kaggle/lib/python3.6/site-packages/xgboost/core.py:587: FutureWarning: Series.base is deprecated and will be removed in a future version\n",
      "  if getattr(data, 'base', None) is not None and \\\n"
     ]
    },
    {
     "name": "stdout",
     "output_type": "stream",
     "text": [
      "train score (mean_absolute_error): 1.4864\n",
      "train score (mean_squared_error): 3.8266\n",
      "validation score (mean_absolute_error): 2.5415\n",
      "validation score (mean_squared_error): 9.3263\n",
      "Percentage of data thrown out: 0.04769498105714336%\n",
      " --------------- fold #6 out of -------------------\n"
     ]
    },
    {
     "name": "stderr",
     "output_type": "stream",
     "text": [
      "/home/sergey/.conda/envs/kaggle/lib/python3.6/site-packages/xgboost/core.py:587: FutureWarning: Series.base is deprecated and will be removed in a future version\n",
      "  if getattr(data, 'base', None) is not None and \\\n"
     ]
    },
    {
     "name": "stdout",
     "output_type": "stream",
     "text": [
      "train score (mean_absolute_error): 1.5944\n",
      "train score (mean_squared_error): 4.2348\n",
      "validation score (mean_absolute_error): 1.3606\n",
      "validation score (mean_squared_error): 3.6426\n",
      "Percentage of data thrown out: 0.04769498105714336%\n",
      " --------------- fold #7 out of -------------------\n"
     ]
    },
    {
     "name": "stderr",
     "output_type": "stream",
     "text": [
      "/home/sergey/.conda/envs/kaggle/lib/python3.6/site-packages/xgboost/core.py:587: FutureWarning: Series.base is deprecated and will be removed in a future version\n",
      "  if getattr(data, 'base', None) is not None and \\\n"
     ]
    },
    {
     "name": "stdout",
     "output_type": "stream",
     "text": [
      "train score (mean_absolute_error): 1.3855\n",
      "train score (mean_squared_error): 3.3657\n",
      "validation score (mean_absolute_error): 3.7318\n",
      "validation score (mean_squared_error): 20.0534\n",
      "Percentage of data thrown out: 0.04769498105714336%\n",
      " --------------- fold #8 out of -------------------\n"
     ]
    },
    {
     "name": "stderr",
     "output_type": "stream",
     "text": [
      "/home/sergey/.conda/envs/kaggle/lib/python3.6/site-packages/xgboost/core.py:587: FutureWarning: Series.base is deprecated and will be removed in a future version\n",
      "  if getattr(data, 'base', None) is not None and \\\n"
     ]
    },
    {
     "name": "stdout",
     "output_type": "stream",
     "text": [
      "train score (mean_absolute_error): 1.6212\n",
      "train score (mean_squared_error): 4.3955\n",
      "validation score (mean_absolute_error): 1.2341\n",
      "validation score (mean_squared_error): 2.6636\n",
      "['data_fname' 'preproc_name' 'preproc_params' 'folds_name' 'folds_params'\n",
      " 'model_name' 'model_params' 'mean_absolute_error' 'mean_squared_error']\n",
      "                                          data_fname    preproc_name  \\\n",
      "0  ../../data/e_lexa/train_proceded_not_smooth_da...  StandardScaler   \n",
      "\n",
      "               preproc_params  folds_name  \\\n",
      "0  {'name': 'StandardScaler'}  CustomFold   \n",
      "\n",
      "                                        folds_params    model_name  \\\n",
      "0  {'name': 'CustomFold', 'n_splits': 9, 'pad': 1...  XGBRegressor   \n",
      "\n",
      "                                        model_params  \\\n",
      "0  {'name': 'XGBRegressor', 'eta': 0.001, 'max_de...   \n",
      "\n",
      "                                 mean_absolute_error  \\\n",
      "0  [1.5987672285426546, 1.3407801945640518, 0.784...   \n",
      "\n",
      "                                  mean_squared_error  \n",
      "0  [4.262453641223998, 3.4335883897179955, 1.0565...  \n",
      ".......................Training finished.........................\n",
      "Run 20:\n",
      "....................... Training model ..............................\n",
      "Percentage of data thrown out: 0.04769498105714336%\n",
      " --------------- fold #0 out of -------------------\n"
     ]
    },
    {
     "name": "stderr",
     "output_type": "stream",
     "text": [
      "/home/sergey/.conda/envs/kaggle/lib/python3.6/site-packages/xgboost/core.py:587: FutureWarning: Series.base is deprecated and will be removed in a future version\n",
      "  if getattr(data, 'base', None) is not None and \\\n"
     ]
    },
    {
     "name": "stdout",
     "output_type": "stream",
     "text": [
      "train score (mean_absolute_error): 1.4763\n",
      "train score (mean_squared_error): 3.7831\n",
      "validation score (mean_absolute_error): 3.0642\n",
      "validation score (mean_squared_error): 12.8177\n",
      "Percentage of data thrown out: 0.04769498105714336%\n",
      " --------------- fold #1 out of -------------------\n"
     ]
    },
    {
     "name": "stderr",
     "output_type": "stream",
     "text": [
      "/home/sergey/.conda/envs/kaggle/lib/python3.6/site-packages/xgboost/core.py:587: FutureWarning: Series.base is deprecated and will be removed in a future version\n",
      "  if getattr(data, 'base', None) is not None and \\\n"
     ]
    },
    {
     "name": "stdout",
     "output_type": "stream",
     "text": [
      "train score (mean_absolute_error): 1.5613\n",
      "train score (mean_squared_error): 4.1018\n",
      "validation score (mean_absolute_error): 1.2244\n",
      "validation score (mean_squared_error): 3.0040\n",
      "Percentage of data thrown out: 0.04769498105714336%\n",
      " --------------- fold #2 out of -------------------\n"
     ]
    },
    {
     "name": "stderr",
     "output_type": "stream",
     "text": [
      "/home/sergey/.conda/envs/kaggle/lib/python3.6/site-packages/xgboost/core.py:587: FutureWarning: Series.base is deprecated and will be removed in a future version\n",
      "  if getattr(data, 'base', None) is not None and \\\n"
     ]
    },
    {
     "name": "stdout",
     "output_type": "stream",
     "text": [
      "train score (mean_absolute_error): 1.5411\n",
      "train score (mean_squared_error): 3.9989\n",
      "validation score (mean_absolute_error): 1.4106\n",
      "validation score (mean_squared_error): 3.6245\n",
      "Percentage of data thrown out: 0.04769498105714336%\n",
      " --------------- fold #3 out of -------------------\n"
     ]
    },
    {
     "name": "stderr",
     "output_type": "stream",
     "text": [
      "/home/sergey/.conda/envs/kaggle/lib/python3.6/site-packages/xgboost/core.py:587: FutureWarning: Series.base is deprecated and will be removed in a future version\n",
      "  if getattr(data, 'base', None) is not None and \\\n"
     ]
    },
    {
     "name": "stdout",
     "output_type": "stream",
     "text": [
      "train score (mean_absolute_error): 1.4868\n",
      "train score (mean_squared_error): 3.8177\n",
      "validation score (mean_absolute_error): 3.0601\n",
      "validation score (mean_squared_error): 12.7866\n",
      "Percentage of data thrown out: 0.02384749052857168%\n",
      " --------------- fold #4 out of -------------------\n"
     ]
    },
    {
     "name": "stderr",
     "output_type": "stream",
     "text": [
      "/home/sergey/.conda/envs/kaggle/lib/python3.6/site-packages/xgboost/core.py:587: FutureWarning: Series.base is deprecated and will be removed in a future version\n",
      "  if getattr(data, 'base', None) is not None and \\\n"
     ]
    },
    {
     "name": "stdout",
     "output_type": "stream",
     "text": [
      "train score (mean_absolute_error): 1.5629\n",
      "train score (mean_squared_error): 4.1323\n",
      "validation score (mean_absolute_error): 2.3838\n",
      "validation score (mean_squared_error): 10.0156\n",
      "Percentage of data thrown out: 0.04769498105714336%\n",
      " --------------- fold #5 out of -------------------\n"
     ]
    },
    {
     "name": "stderr",
     "output_type": "stream",
     "text": [
      "/home/sergey/.conda/envs/kaggle/lib/python3.6/site-packages/xgboost/core.py:587: FutureWarning: Series.base is deprecated and will be removed in a future version\n",
      "  if getattr(data, 'base', None) is not None and \\\n"
     ]
    },
    {
     "name": "stdout",
     "output_type": "stream",
     "text": [
      "train score (mean_absolute_error): 1.4664\n",
      "train score (mean_squared_error): 3.7676\n",
      "validation score (mean_absolute_error): 3.5697\n",
      "validation score (mean_squared_error): 17.6201\n",
      "Percentage of data thrown out: 0.04769498105714336%\n",
      " --------------- fold #6 out of -------------------\n"
     ]
    },
    {
     "name": "stderr",
     "output_type": "stream",
     "text": [
      "/home/sergey/.conda/envs/kaggle/lib/python3.6/site-packages/xgboost/core.py:587: FutureWarning: Series.base is deprecated and will be removed in a future version\n",
      "  if getattr(data, 'base', None) is not None and \\\n"
     ]
    },
    {
     "name": "stdout",
     "output_type": "stream",
     "text": [
      "train score (mean_absolute_error): 1.5855\n",
      "train score (mean_squared_error): 4.2392\n",
      "validation score (mean_absolute_error): 2.0368\n",
      "validation score (mean_squared_error): 6.4705\n",
      "Percentage of data thrown out: 0.04769498105714336%\n",
      " --------------- fold #7 out of -------------------\n"
     ]
    },
    {
     "name": "stderr",
     "output_type": "stream",
     "text": [
      "/home/sergey/.conda/envs/kaggle/lib/python3.6/site-packages/xgboost/core.py:587: FutureWarning: Series.base is deprecated and will be removed in a future version\n",
      "  if getattr(data, 'base', None) is not None and \\\n"
     ]
    },
    {
     "name": "stdout",
     "output_type": "stream",
     "text": [
      "train score (mean_absolute_error): 1.3400\n",
      "train score (mean_squared_error): 3.1287\n",
      "validation score (mean_absolute_error): 4.0402\n",
      "validation score (mean_squared_error): 24.8480\n",
      "Percentage of data thrown out: 0.04769498105714336%\n",
      " --------------- fold #8 out of -------------------\n"
     ]
    },
    {
     "name": "stderr",
     "output_type": "stream",
     "text": [
      "/home/sergey/.conda/envs/kaggle/lib/python3.6/site-packages/xgboost/core.py:587: FutureWarning: Series.base is deprecated and will be removed in a future version\n",
      "  if getattr(data, 'base', None) is not None and \\\n"
     ]
    },
    {
     "name": "stdout",
     "output_type": "stream",
     "text": [
      "train score (mean_absolute_error): 1.5401\n",
      "train score (mean_squared_error): 4.1173\n",
      "validation score (mean_absolute_error): 2.3862\n",
      "validation score (mean_squared_error): 8.0125\n",
      "['data_fname' 'preproc_name' 'preproc_params' 'folds_name' 'folds_params'\n",
      " 'model_name' 'model_params' 'mean_absolute_error' 'mean_squared_error']\n",
      "                                          data_fname    preproc_name  \\\n",
      "0  ../../data/e_lexa/train_proceded_not_smooth_da...  StandardScaler   \n",
      "\n",
      "               preproc_params  folds_name  \\\n",
      "0  {'name': 'StandardScaler'}  CustomFold   \n",
      "\n",
      "                                        folds_params    model_name  \\\n",
      "0  {'name': 'CustomFold', 'n_splits': 9, 'pad': 1...  XGBRegressor   \n",
      "\n",
      "                                        model_params  \\\n",
      "0  {'name': 'XGBRegressor', 'eta': 0.001, 'max_de...   \n",
      "\n",
      "                                 mean_absolute_error  \\\n",
      "0  [1.4762639719694461, 3.0641874861436698, 1.561...   \n",
      "\n",
      "                                  mean_squared_error  \n",
      "0  [3.7831020878551143, 12.817698940381447, 4.101...  \n",
      ".......................Training finished.........................\n",
      "Run 21:\n",
      "....................... Training model ..............................\n",
      "Percentage of data thrown out: 0.04769498105714336%\n",
      " --------------- fold #0 out of -------------------\n"
     ]
    },
    {
     "name": "stderr",
     "output_type": "stream",
     "text": [
      "/home/sergey/.conda/envs/kaggle/lib/python3.6/site-packages/xgboost/core.py:587: FutureWarning: Series.base is deprecated and will be removed in a future version\n",
      "  if getattr(data, 'base', None) is not None and \\\n"
     ]
    },
    {
     "name": "stdout",
     "output_type": "stream",
     "text": [
      "train score (mean_absolute_error): 1.5512\n",
      "train score (mean_squared_error): 4.0735\n",
      "validation score (mean_absolute_error): 3.0278\n",
      "validation score (mean_squared_error): 12.1056\n",
      "Percentage of data thrown out: 0.04769498105714336%\n",
      " --------------- fold #1 out of -------------------\n"
     ]
    },
    {
     "name": "stderr",
     "output_type": "stream",
     "text": [
      "/home/sergey/.conda/envs/kaggle/lib/python3.6/site-packages/xgboost/core.py:587: FutureWarning: Series.base is deprecated and will be removed in a future version\n",
      "  if getattr(data, 'base', None) is not None and \\\n"
     ]
    },
    {
     "name": "stdout",
     "output_type": "stream",
     "text": [
      "train score (mean_absolute_error): 1.4798\n",
      "train score (mean_squared_error): 3.6868\n",
      "validation score (mean_absolute_error): 3.0796\n",
      "validation score (mean_squared_error): 12.3786\n",
      "Percentage of data thrown out: 0.04769498105714336%\n",
      " --------------- fold #2 out of -------------------\n"
     ]
    },
    {
     "name": "stderr",
     "output_type": "stream",
     "text": [
      "/home/sergey/.conda/envs/kaggle/lib/python3.6/site-packages/xgboost/core.py:587: FutureWarning: Series.base is deprecated and will be removed in a future version\n",
      "  if getattr(data, 'base', None) is not None and \\\n"
     ]
    },
    {
     "name": "stdout",
     "output_type": "stream",
     "text": [
      "train score (mean_absolute_error): 1.5805\n",
      "train score (mean_squared_error): 4.2155\n",
      "validation score (mean_absolute_error): 2.1115\n",
      "validation score (mean_squared_error): 6.9003\n",
      "Percentage of data thrown out: 0.04769498105714336%\n",
      " --------------- fold #3 out of -------------------\n"
     ]
    },
    {
     "name": "stderr",
     "output_type": "stream",
     "text": [
      "/home/sergey/.conda/envs/kaggle/lib/python3.6/site-packages/xgboost/core.py:587: FutureWarning: Series.base is deprecated and will be removed in a future version\n",
      "  if getattr(data, 'base', None) is not None and \\\n"
     ]
    },
    {
     "name": "stdout",
     "output_type": "stream",
     "text": [
      "train score (mean_absolute_error): 1.3175\n",
      "train score (mean_squared_error): 3.0953\n",
      "validation score (mean_absolute_error): 4.1217\n",
      "validation score (mean_squared_error): 25.1554\n",
      "Percentage of data thrown out: 0.04769498105714336%\n",
      " --------------- fold #4 out of -------------------\n"
     ]
    },
    {
     "name": "stderr",
     "output_type": "stream",
     "text": [
      "/home/sergey/.conda/envs/kaggle/lib/python3.6/site-packages/xgboost/core.py:587: FutureWarning: Series.base is deprecated and will be removed in a future version\n",
      "  if getattr(data, 'base', None) is not None and \\\n"
     ]
    },
    {
     "name": "stdout",
     "output_type": "stream",
     "text": [
      "train score (mean_absolute_error): 1.6153\n",
      "train score (mean_squared_error): 4.3410\n",
      "validation score (mean_absolute_error): 1.3620\n",
      "validation score (mean_squared_error): 3.5429\n",
      "Percentage of data thrown out: 0.04769498105714336%\n",
      " --------------- fold #5 out of -------------------\n"
     ]
    },
    {
     "name": "stderr",
     "output_type": "stream",
     "text": [
      "/home/sergey/.conda/envs/kaggle/lib/python3.6/site-packages/xgboost/core.py:587: FutureWarning: Series.base is deprecated and will be removed in a future version\n",
      "  if getattr(data, 'base', None) is not None and \\\n"
     ]
    },
    {
     "name": "stdout",
     "output_type": "stream",
     "text": [
      "train score (mean_absolute_error): 1.5337\n",
      "train score (mean_squared_error): 3.9982\n",
      "validation score (mean_absolute_error): 2.0841\n",
      "validation score (mean_squared_error): 6.6540\n",
      "Percentage of data thrown out: 0.04769498105714336%\n",
      " --------------- fold #6 out of -------------------\n"
     ]
    },
    {
     "name": "stderr",
     "output_type": "stream",
     "text": [
      "/home/sergey/.conda/envs/kaggle/lib/python3.6/site-packages/xgboost/core.py:587: FutureWarning: Series.base is deprecated and will be removed in a future version\n",
      "  if getattr(data, 'base', None) is not None and \\\n"
     ]
    },
    {
     "name": "stdout",
     "output_type": "stream",
     "text": [
      "train score (mean_absolute_error): 1.5234\n",
      "train score (mean_squared_error): 3.9194\n",
      "validation score (mean_absolute_error): 3.0282\n",
      "validation score (mean_squared_error): 11.9818\n",
      "Percentage of data thrown out: 0.02384749052857168%\n",
      " --------------- fold #7 out of -------------------\n"
     ]
    },
    {
     "name": "stderr",
     "output_type": "stream",
     "text": [
      "/home/sergey/.conda/envs/kaggle/lib/python3.6/site-packages/xgboost/core.py:587: FutureWarning: Series.base is deprecated and will be removed in a future version\n",
      "  if getattr(data, 'base', None) is not None and \\\n"
     ]
    },
    {
     "name": "stdout",
     "output_type": "stream",
     "text": [
      "train score (mean_absolute_error): 1.5622\n",
      "train score (mean_squared_error): 4.1336\n",
      "validation score (mean_absolute_error): 1.6691\n",
      "validation score (mean_squared_error): 4.7296\n",
      "Percentage of data thrown out: 0.04769498105714336%\n",
      " --------------- fold #8 out of -------------------\n"
     ]
    },
    {
     "name": "stderr",
     "output_type": "stream",
     "text": [
      "/home/sergey/.conda/envs/kaggle/lib/python3.6/site-packages/xgboost/core.py:587: FutureWarning: Series.base is deprecated and will be removed in a future version\n",
      "  if getattr(data, 'base', None) is not None and \\\n"
     ]
    },
    {
     "name": "stdout",
     "output_type": "stream",
     "text": [
      "train score (mean_absolute_error): 1.5321\n",
      "train score (mean_squared_error): 4.1217\n",
      "validation score (mean_absolute_error): 2.0370\n",
      "validation score (mean_squared_error): 6.9425\n",
      "['data_fname' 'preproc_name' 'preproc_params' 'folds_name' 'folds_params'\n",
      " 'model_name' 'model_params' 'mean_absolute_error' 'mean_squared_error']\n",
      "                                          data_fname    preproc_name  \\\n",
      "0  ../../data/e_lexa/train_proceded_not_smooth_da...  StandardScaler   \n",
      "\n",
      "               preproc_params  folds_name  \\\n",
      "0  {'name': 'StandardScaler'}  CustomFold   \n",
      "\n",
      "                                        folds_params    model_name  \\\n",
      "0  {'name': 'CustomFold', 'n_splits': 9, 'pad': 1...  XGBRegressor   \n",
      "\n",
      "                                        model_params  \\\n",
      "0  {'name': 'XGBRegressor', 'eta': 0.001, 'max_de...   \n",
      "\n",
      "                                 mean_absolute_error  \\\n",
      "0  [1.5512411144424283, 3.027780419081792, 1.4797...   \n",
      "\n",
      "                                  mean_squared_error  \n",
      "0  [4.073454325175861, 12.105560095085567, 3.6868...  \n",
      ".......................Training finished.........................\n",
      "Run 22:\n",
      "....................... Training model ..............................\n",
      "Percentage of data thrown out: 0.04769498105714336%\n",
      " --------------- fold #0 out of -------------------\n"
     ]
    },
    {
     "name": "stderr",
     "output_type": "stream",
     "text": [
      "/home/sergey/.conda/envs/kaggle/lib/python3.6/site-packages/xgboost/core.py:587: FutureWarning: Series.base is deprecated and will be removed in a future version\n",
      "  if getattr(data, 'base', None) is not None and \\\n"
     ]
    },
    {
     "name": "stdout",
     "output_type": "stream",
     "text": [
      "train score (mean_absolute_error): 1.5671\n",
      "train score (mean_squared_error): 4.1608\n",
      "validation score (mean_absolute_error): 2.9514\n",
      "validation score (mean_squared_error): 11.5831\n",
      "Percentage of data thrown out: 0.04769498105714336%\n",
      " --------------- fold #1 out of -------------------\n"
     ]
    },
    {
     "name": "stderr",
     "output_type": "stream",
     "text": [
      "/home/sergey/.conda/envs/kaggle/lib/python3.6/site-packages/xgboost/core.py:587: FutureWarning: Series.base is deprecated and will be removed in a future version\n",
      "  if getattr(data, 'base', None) is not None and \\\n"
     ]
    },
    {
     "name": "stdout",
     "output_type": "stream",
     "text": [
      "train score (mean_absolute_error): 1.5595\n",
      "train score (mean_squared_error): 4.1866\n",
      "validation score (mean_absolute_error): 1.9809\n",
      "validation score (mean_squared_error): 5.5521\n",
      "Percentage of data thrown out: 0.04769498105714336%\n",
      " --------------- fold #2 out of -------------------\n"
     ]
    },
    {
     "name": "stderr",
     "output_type": "stream",
     "text": [
      "/home/sergey/.conda/envs/kaggle/lib/python3.6/site-packages/xgboost/core.py:587: FutureWarning: Series.base is deprecated and will be removed in a future version\n",
      "  if getattr(data, 'base', None) is not None and \\\n"
     ]
    },
    {
     "name": "stdout",
     "output_type": "stream",
     "text": [
      "train score (mean_absolute_error): 1.4866\n",
      "train score (mean_squared_error): 3.7810\n",
      "validation score (mean_absolute_error): 2.9167\n",
      "validation score (mean_squared_error): 12.6810\n",
      "Percentage of data thrown out: 0.04769498105714336%\n",
      " --------------- fold #3 out of -------------------\n"
     ]
    },
    {
     "name": "stderr",
     "output_type": "stream",
     "text": [
      "/home/sergey/.conda/envs/kaggle/lib/python3.6/site-packages/xgboost/core.py:587: FutureWarning: Series.base is deprecated and will be removed in a future version\n",
      "  if getattr(data, 'base', None) is not None and \\\n"
     ]
    },
    {
     "name": "stdout",
     "output_type": "stream",
     "text": [
      "train score (mean_absolute_error): 1.6112\n",
      "train score (mean_squared_error): 4.3608\n",
      "validation score (mean_absolute_error): 1.4641\n",
      "validation score (mean_squared_error): 3.8731\n",
      "Percentage of data thrown out: 0.04769498105714336%\n",
      " --------------- fold #4 out of -------------------\n"
     ]
    },
    {
     "name": "stderr",
     "output_type": "stream",
     "text": [
      "/home/sergey/.conda/envs/kaggle/lib/python3.6/site-packages/xgboost/core.py:587: FutureWarning: Series.base is deprecated and will be removed in a future version\n",
      "  if getattr(data, 'base', None) is not None and \\\n"
     ]
    },
    {
     "name": "stdout",
     "output_type": "stream",
     "text": [
      "train score (mean_absolute_error): 1.3577\n",
      "train score (mean_squared_error): 3.2085\n",
      "validation score (mean_absolute_error): 4.0695\n",
      "validation score (mean_squared_error): 25.0707\n",
      "Percentage of data thrown out: 0.02384749052857168%\n",
      " --------------- fold #5 out of -------------------\n"
     ]
    },
    {
     "name": "stderr",
     "output_type": "stream",
     "text": [
      "/home/sergey/.conda/envs/kaggle/lib/python3.6/site-packages/xgboost/core.py:587: FutureWarning: Series.base is deprecated and will be removed in a future version\n",
      "  if getattr(data, 'base', None) is not None and \\\n"
     ]
    },
    {
     "name": "stdout",
     "output_type": "stream",
     "text": [
      "train score (mean_absolute_error): 1.5880\n",
      "train score (mean_squared_error): 4.2403\n",
      "validation score (mean_absolute_error): 1.7253\n",
      "validation score (mean_squared_error): 5.1182\n",
      "Percentage of data thrown out: 0.04769498105714336%\n",
      " --------------- fold #6 out of -------------------\n"
     ]
    },
    {
     "name": "stderr",
     "output_type": "stream",
     "text": [
      "/home/sergey/.conda/envs/kaggle/lib/python3.6/site-packages/xgboost/core.py:587: FutureWarning: Series.base is deprecated and will be removed in a future version\n",
      "  if getattr(data, 'base', None) is not None and \\\n"
     ]
    },
    {
     "name": "stdout",
     "output_type": "stream",
     "text": [
      "train score (mean_absolute_error): 1.4754\n",
      "train score (mean_squared_error): 3.7807\n",
      "validation score (mean_absolute_error): 2.5416\n",
      "validation score (mean_squared_error): 9.6711\n",
      "Percentage of data thrown out: 0.04769498105714336%\n",
      " --------------- fold #7 out of -------------------\n"
     ]
    },
    {
     "name": "stderr",
     "output_type": "stream",
     "text": [
      "/home/sergey/.conda/envs/kaggle/lib/python3.6/site-packages/xgboost/core.py:587: FutureWarning: Series.base is deprecated and will be removed in a future version\n",
      "  if getattr(data, 'base', None) is not None and \\\n"
     ]
    },
    {
     "name": "stdout",
     "output_type": "stream",
     "text": [
      "train score (mean_absolute_error): 1.6014\n",
      "train score (mean_squared_error): 4.2906\n",
      "validation score (mean_absolute_error): 1.6415\n",
      "validation score (mean_squared_error): 4.7013\n",
      "Percentage of data thrown out: 0.04769498105714336%\n",
      " --------------- fold #8 out of -------------------\n"
     ]
    },
    {
     "name": "stderr",
     "output_type": "stream",
     "text": [
      "/home/sergey/.conda/envs/kaggle/lib/python3.6/site-packages/xgboost/core.py:587: FutureWarning: Series.base is deprecated and will be removed in a future version\n",
      "  if getattr(data, 'base', None) is not None and \\\n"
     ]
    },
    {
     "name": "stdout",
     "output_type": "stream",
     "text": [
      "train score (mean_absolute_error): 1.4419\n",
      "train score (mean_squared_error): 3.6871\n",
      "validation score (mean_absolute_error): 2.6098\n",
      "validation score (mean_squared_error): 9.6562\n",
      "['data_fname' 'preproc_name' 'preproc_params' 'folds_name' 'folds_params'\n",
      " 'model_name' 'model_params' 'mean_absolute_error' 'mean_squared_error']\n",
      "                                          data_fname    preproc_name  \\\n",
      "0  ../../data/e_lexa/train_proceded_not_smooth_da...  StandardScaler   \n",
      "\n",
      "               preproc_params  folds_name  \\\n",
      "0  {'name': 'StandardScaler'}  CustomFold   \n",
      "\n",
      "                                        folds_params    model_name  \\\n",
      "0  {'name': 'CustomFold', 'n_splits': 9, 'pad': 1...  XGBRegressor   \n",
      "\n",
      "                                        model_params  \\\n",
      "0  {'name': 'XGBRegressor', 'eta': 0.001, 'max_de...   \n",
      "\n",
      "                                 mean_absolute_error  \\\n",
      "0  [1.5671449153243169, 2.951378676730881, 1.5595...   \n",
      "\n",
      "                                  mean_squared_error  \n",
      "0  [4.160831139249598, 11.58307948314066, 4.18660...  \n",
      ".......................Training finished.........................\n",
      "Run 23:\n",
      "....................... Training model ..............................\n",
      "Percentage of data thrown out: 0.04769498105714336%\n",
      " --------------- fold #0 out of -------------------\n"
     ]
    },
    {
     "name": "stderr",
     "output_type": "stream",
     "text": [
      "/home/sergey/.conda/envs/kaggle/lib/python3.6/site-packages/xgboost/core.py:587: FutureWarning: Series.base is deprecated and will be removed in a future version\n",
      "  if getattr(data, 'base', None) is not None and \\\n"
     ]
    },
    {
     "name": "stdout",
     "output_type": "stream",
     "text": [
      "train score (mean_absolute_error): 1.3548\n",
      "train score (mean_squared_error): 3.2115\n",
      "validation score (mean_absolute_error): 4.0881\n",
      "validation score (mean_squared_error): 24.6514\n",
      "Percentage of data thrown out: 0.04769498105714336%\n",
      " --------------- fold #1 out of -------------------\n"
     ]
    },
    {
     "name": "stderr",
     "output_type": "stream",
     "text": [
      "/home/sergey/.conda/envs/kaggle/lib/python3.6/site-packages/xgboost/core.py:587: FutureWarning: Series.base is deprecated and will be removed in a future version\n",
      "  if getattr(data, 'base', None) is not None and \\\n"
     ]
    },
    {
     "name": "stdout",
     "output_type": "stream",
     "text": [
      "train score (mean_absolute_error): 1.4713\n",
      "train score (mean_squared_error): 3.8094\n",
      "validation score (mean_absolute_error): 2.6209\n",
      "validation score (mean_squared_error): 9.7905\n",
      "Percentage of data thrown out: 0.02384749052857168%\n",
      " --------------- fold #2 out of -------------------\n"
     ]
    },
    {
     "name": "stderr",
     "output_type": "stream",
     "text": [
      "/home/sergey/.conda/envs/kaggle/lib/python3.6/site-packages/xgboost/core.py:587: FutureWarning: Series.base is deprecated and will be removed in a future version\n",
      "  if getattr(data, 'base', None) is not None and \\\n"
     ]
    },
    {
     "name": "stdout",
     "output_type": "stream",
     "text": [
      "train score (mean_absolute_error): 1.5945\n",
      "train score (mean_squared_error): 4.2761\n",
      "validation score (mean_absolute_error): 1.9665\n",
      "validation score (mean_squared_error): 6.1452\n",
      "Percentage of data thrown out: 0.04769498105714336%\n",
      " --------------- fold #3 out of -------------------\n"
     ]
    },
    {
     "name": "stderr",
     "output_type": "stream",
     "text": [
      "/home/sergey/.conda/envs/kaggle/lib/python3.6/site-packages/xgboost/core.py:587: FutureWarning: Series.base is deprecated and will be removed in a future version\n",
      "  if getattr(data, 'base', None) is not None and \\\n"
     ]
    },
    {
     "name": "stdout",
     "output_type": "stream",
     "text": [
      "train score (mean_absolute_error): 1.5894\n",
      "train score (mean_squared_error): 4.2105\n",
      "validation score (mean_absolute_error): 1.3602\n",
      "validation score (mean_squared_error): 3.5683\n",
      "Percentage of data thrown out: 0.04769498105714336%\n",
      " --------------- fold #4 out of -------------------\n"
     ]
    },
    {
     "name": "stderr",
     "output_type": "stream",
     "text": [
      "/home/sergey/.conda/envs/kaggle/lib/python3.6/site-packages/xgboost/core.py:587: FutureWarning: Series.base is deprecated and will be removed in a future version\n",
      "  if getattr(data, 'base', None) is not None and \\\n"
     ]
    },
    {
     "name": "stdout",
     "output_type": "stream",
     "text": [
      "train score (mean_absolute_error): 1.4840\n",
      "train score (mean_squared_error): 3.8388\n",
      "validation score (mean_absolute_error): 3.2934\n",
      "validation score (mean_squared_error): 14.0608\n",
      "Percentage of data thrown out: 0.04769498105714336%\n",
      " --------------- fold #5 out of -------------------\n"
     ]
    },
    {
     "name": "stderr",
     "output_type": "stream",
     "text": [
      "/home/sergey/.conda/envs/kaggle/lib/python3.6/site-packages/xgboost/core.py:587: FutureWarning: Series.base is deprecated and will be removed in a future version\n",
      "  if getattr(data, 'base', None) is not None and \\\n"
     ]
    },
    {
     "name": "stdout",
     "output_type": "stream",
     "text": [
      "train score (mean_absolute_error): 1.4840\n",
      "train score (mean_squared_error): 3.9205\n",
      "validation score (mean_absolute_error): 2.6730\n",
      "validation score (mean_squared_error): 10.2006\n",
      "Percentage of data thrown out: 0.04769498105714336%\n",
      " --------------- fold #6 out of -------------------\n"
     ]
    },
    {
     "name": "stderr",
     "output_type": "stream",
     "text": [
      "/home/sergey/.conda/envs/kaggle/lib/python3.6/site-packages/xgboost/core.py:587: FutureWarning: Series.base is deprecated and will be removed in a future version\n",
      "  if getattr(data, 'base', None) is not None and \\\n"
     ]
    },
    {
     "name": "stdout",
     "output_type": "stream",
     "text": [
      "train score (mean_absolute_error): 1.3857\n",
      "train score (mean_squared_error): 3.2969\n",
      "validation score (mean_absolute_error): 3.9477\n",
      "validation score (mean_squared_error): 22.4191\n",
      "Percentage of data thrown out: 0.04769498105714336%\n",
      " --------------- fold #7 out of -------------------\n"
     ]
    },
    {
     "name": "stderr",
     "output_type": "stream",
     "text": [
      "/home/sergey/.conda/envs/kaggle/lib/python3.6/site-packages/xgboost/core.py:587: FutureWarning: Series.base is deprecated and will be removed in a future version\n",
      "  if getattr(data, 'base', None) is not None and \\\n"
     ]
    },
    {
     "name": "stdout",
     "output_type": "stream",
     "text": [
      "train score (mean_absolute_error): 1.3938\n",
      "train score (mean_squared_error): 3.2771\n",
      "validation score (mean_absolute_error): 3.8765\n",
      "validation score (mean_squared_error): 21.1446\n",
      "Percentage of data thrown out: 0.04769498105714336%\n",
      " --------------- fold #8 out of -------------------\n"
     ]
    },
    {
     "name": "stderr",
     "output_type": "stream",
     "text": [
      "/home/sergey/.conda/envs/kaggle/lib/python3.6/site-packages/xgboost/core.py:587: FutureWarning: Series.base is deprecated and will be removed in a future version\n",
      "  if getattr(data, 'base', None) is not None and \\\n"
     ]
    },
    {
     "name": "stdout",
     "output_type": "stream",
     "text": [
      "train score (mean_absolute_error): 1.5339\n",
      "train score (mean_squared_error): 4.0028\n",
      "validation score (mean_absolute_error): 2.0791\n",
      "validation score (mean_squared_error): 6.6770\n",
      "['data_fname' 'preproc_name' 'preproc_params' 'folds_name' 'folds_params'\n",
      " 'model_name' 'model_params' 'mean_absolute_error' 'mean_squared_error']\n",
      "                                          data_fname    preproc_name  \\\n",
      "0  ../../data/e_lexa/train_proceded_not_smooth_da...  StandardScaler   \n",
      "\n",
      "               preproc_params  folds_name  \\\n",
      "0  {'name': 'StandardScaler'}  CustomFold   \n",
      "\n",
      "                                        folds_params    model_name  \\\n",
      "0  {'name': 'CustomFold', 'n_splits': 9, 'pad': 1...  XGBRegressor   \n",
      "\n",
      "                                        model_params  \\\n",
      "0  {'name': 'XGBRegressor', 'eta': 0.001, 'max_de...   \n",
      "\n",
      "                                 mean_absolute_error  \\\n",
      "0  [1.3548221941005527, 4.088146291545175, 1.4713...   \n",
      "\n",
      "                                  mean_squared_error  \n",
      "0  [3.211505548738505, 24.651361510792114, 3.8093...  \n",
      ".......................Training finished.........................\n",
      "Run 24:\n",
      "....................... Training model ..............................\n",
      "Percentage of data thrown out: 0.04769498105714336%\n",
      " --------------- fold #0 out of -------------------\n"
     ]
    },
    {
     "name": "stderr",
     "output_type": "stream",
     "text": [
      "/home/sergey/.conda/envs/kaggle/lib/python3.6/site-packages/xgboost/core.py:587: FutureWarning: Series.base is deprecated and will be removed in a future version\n",
      "  if getattr(data, 'base', None) is not None and \\\n"
     ]
    },
    {
     "name": "stdout",
     "output_type": "stream",
     "text": [
      "train score (mean_absolute_error): 1.5834\n",
      "train score (mean_squared_error): 4.3048\n",
      "validation score (mean_absolute_error): 2.1280\n",
      "validation score (mean_squared_error): 6.6914\n",
      "Percentage of data thrown out: 0.04769498105714336%\n",
      " --------------- fold #1 out of -------------------\n"
     ]
    },
    {
     "name": "stderr",
     "output_type": "stream",
     "text": [
      "/home/sergey/.conda/envs/kaggle/lib/python3.6/site-packages/xgboost/core.py:587: FutureWarning: Series.base is deprecated and will be removed in a future version\n",
      "  if getattr(data, 'base', None) is not None and \\\n"
     ]
    },
    {
     "name": "stdout",
     "output_type": "stream",
     "text": [
      "train score (mean_absolute_error): 1.5141\n",
      "train score (mean_squared_error): 3.9890\n",
      "validation score (mean_absolute_error): 2.2437\n",
      "validation score (mean_squared_error): 8.3203\n",
      "Percentage of data thrown out: 0.04769498105714336%\n",
      " --------------- fold #2 out of -------------------\n"
     ]
    },
    {
     "name": "stderr",
     "output_type": "stream",
     "text": [
      "/home/sergey/.conda/envs/kaggle/lib/python3.6/site-packages/xgboost/core.py:587: FutureWarning: Series.base is deprecated and will be removed in a future version\n",
      "  if getattr(data, 'base', None) is not None and \\\n"
     ]
    },
    {
     "name": "stdout",
     "output_type": "stream",
     "text": [
      "train score (mean_absolute_error): 1.4853\n",
      "train score (mean_squared_error): 3.8268\n",
      "validation score (mean_absolute_error): 3.1995\n",
      "validation score (mean_squared_error): 14.3687\n",
      "Percentage of data thrown out: 0.04769498105714336%\n",
      " --------------- fold #3 out of -------------------\n"
     ]
    },
    {
     "name": "stderr",
     "output_type": "stream",
     "text": [
      "/home/sergey/.conda/envs/kaggle/lib/python3.6/site-packages/xgboost/core.py:587: FutureWarning: Series.base is deprecated and will be removed in a future version\n",
      "  if getattr(data, 'base', None) is not None and \\\n"
     ]
    },
    {
     "name": "stdout",
     "output_type": "stream",
     "text": [
      "train score (mean_absolute_error): 1.4919\n",
      "train score (mean_squared_error): 3.8206\n",
      "validation score (mean_absolute_error): 2.5983\n",
      "validation score (mean_squared_error): 10.9121\n",
      "Percentage of data thrown out: 0.04769498105714336%\n",
      " --------------- fold #4 out of -------------------\n"
     ]
    },
    {
     "name": "stderr",
     "output_type": "stream",
     "text": [
      "/home/sergey/.conda/envs/kaggle/lib/python3.6/site-packages/xgboost/core.py:587: FutureWarning: Series.base is deprecated and will be removed in a future version\n",
      "  if getattr(data, 'base', None) is not None and \\\n"
     ]
    },
    {
     "name": "stdout",
     "output_type": "stream",
     "text": [
      "train score (mean_absolute_error): 1.4798\n",
      "train score (mean_squared_error): 3.8370\n",
      "validation score (mean_absolute_error): 2.5735\n",
      "validation score (mean_squared_error): 9.5426\n",
      "Percentage of data thrown out: 0.04769498105714336%\n",
      " --------------- fold #5 out of -------------------\n"
     ]
    },
    {
     "name": "stderr",
     "output_type": "stream",
     "text": [
      "/home/sergey/.conda/envs/kaggle/lib/python3.6/site-packages/xgboost/core.py:587: FutureWarning: Series.base is deprecated and will be removed in a future version\n",
      "  if getattr(data, 'base', None) is not None and \\\n"
     ]
    },
    {
     "name": "stdout",
     "output_type": "stream",
     "text": [
      "train score (mean_absolute_error): 1.4518\n",
      "train score (mean_squared_error): 3.6582\n",
      "validation score (mean_absolute_error): 3.6371\n",
      "validation score (mean_squared_error): 18.2733\n",
      "Percentage of data thrown out: 0.02384749052857168%\n",
      " --------------- fold #6 out of -------------------\n"
     ]
    },
    {
     "name": "stderr",
     "output_type": "stream",
     "text": [
      "/home/sergey/.conda/envs/kaggle/lib/python3.6/site-packages/xgboost/core.py:587: FutureWarning: Series.base is deprecated and will be removed in a future version\n",
      "  if getattr(data, 'base', None) is not None and \\\n"
     ]
    },
    {
     "name": "stdout",
     "output_type": "stream",
     "text": [
      "train score (mean_absolute_error): 1.6109\n",
      "train score (mean_squared_error): 4.3780\n",
      "validation score (mean_absolute_error): 1.6930\n",
      "validation score (mean_squared_error): 4.8823\n",
      "Percentage of data thrown out: 0.04769498105714336%\n",
      " --------------- fold #7 out of -------------------\n"
     ]
    },
    {
     "name": "stderr",
     "output_type": "stream",
     "text": [
      "/home/sergey/.conda/envs/kaggle/lib/python3.6/site-packages/xgboost/core.py:587: FutureWarning: Series.base is deprecated and will be removed in a future version\n",
      "  if getattr(data, 'base', None) is not None and \\\n"
     ]
    },
    {
     "name": "stdout",
     "output_type": "stream",
     "text": [
      "train score (mean_absolute_error): 1.5985\n",
      "train score (mean_squared_error): 4.2697\n",
      "validation score (mean_absolute_error): 1.4408\n",
      "validation score (mean_squared_error): 3.7033\n",
      "Percentage of data thrown out: 0.04769498105714336%\n",
      " --------------- fold #8 out of -------------------\n"
     ]
    },
    {
     "name": "stderr",
     "output_type": "stream",
     "text": [
      "/home/sergey/.conda/envs/kaggle/lib/python3.6/site-packages/xgboost/core.py:587: FutureWarning: Series.base is deprecated and will be removed in a future version\n",
      "  if getattr(data, 'base', None) is not None and \\\n"
     ]
    },
    {
     "name": "stdout",
     "output_type": "stream",
     "text": [
      "train score (mean_absolute_error): 1.3258\n",
      "train score (mean_squared_error): 3.0293\n",
      "validation score (mean_absolute_error): 3.9705\n",
      "validation score (mean_squared_error): 23.2645\n",
      "['data_fname' 'preproc_name' 'preproc_params' 'folds_name' 'folds_params'\n",
      " 'model_name' 'model_params' 'mean_absolute_error' 'mean_squared_error']\n",
      "                                          data_fname    preproc_name  \\\n",
      "0  ../../data/e_lexa/train_proceded_not_smooth_da...  StandardScaler   \n",
      "\n",
      "               preproc_params  folds_name  \\\n",
      "0  {'name': 'StandardScaler'}  CustomFold   \n",
      "\n",
      "                                        folds_params    model_name  \\\n",
      "0  {'name': 'CustomFold', 'n_splits': 9, 'pad': 1...  XGBRegressor   \n",
      "\n",
      "                                        model_params  \\\n",
      "0  {'name': 'XGBRegressor', 'eta': 0.001, 'max_de...   \n",
      "\n",
      "                                 mean_absolute_error  \\\n",
      "0  [1.5833596752865033, 2.128016186054628, 1.5140...   \n",
      "\n",
      "                                  mean_squared_error  \n",
      "0  [4.304845105266623, 6.691360811046634, 3.98902...  \n",
      ".......................Training finished.........................\n",
      "Run 25:\n",
      "....................... Training model ..............................\n",
      "Percentage of data thrown out: 0.04769498105714336%\n",
      " --------------- fold #0 out of -------------------\n"
     ]
    },
    {
     "name": "stderr",
     "output_type": "stream",
     "text": [
      "/home/sergey/.conda/envs/kaggle/lib/python3.6/site-packages/xgboost/core.py:587: FutureWarning: Series.base is deprecated and will be removed in a future version\n",
      "  if getattr(data, 'base', None) is not None and \\\n"
     ]
    },
    {
     "name": "stdout",
     "output_type": "stream",
     "text": [
      "train score (mean_absolute_error): 1.5489\n",
      "train score (mean_squared_error): 4.1107\n",
      "validation score (mean_absolute_error): 2.0282\n",
      "validation score (mean_squared_error): 6.4205\n",
      "Percentage of data thrown out: 0.04769498105714336%\n",
      " --------------- fold #1 out of -------------------\n"
     ]
    },
    {
     "name": "stderr",
     "output_type": "stream",
     "text": [
      "/home/sergey/.conda/envs/kaggle/lib/python3.6/site-packages/xgboost/core.py:587: FutureWarning: Series.base is deprecated and will be removed in a future version\n",
      "  if getattr(data, 'base', None) is not None and \\\n"
     ]
    },
    {
     "name": "stdout",
     "output_type": "stream",
     "text": [
      "train score (mean_absolute_error): 1.4958\n",
      "train score (mean_squared_error): 3.9426\n",
      "validation score (mean_absolute_error): 2.5966\n",
      "validation score (mean_squared_error): 9.7340\n",
      "Percentage of data thrown out: 0.04769498105714336%\n",
      " --------------- fold #2 out of -------------------\n"
     ]
    },
    {
     "name": "stderr",
     "output_type": "stream",
     "text": [
      "/home/sergey/.conda/envs/kaggle/lib/python3.6/site-packages/xgboost/core.py:587: FutureWarning: Series.base is deprecated and will be removed in a future version\n",
      "  if getattr(data, 'base', None) is not None and \\\n"
     ]
    },
    {
     "name": "stdout",
     "output_type": "stream",
     "text": [
      "train score (mean_absolute_error): 1.5609\n",
      "train score (mean_squared_error): 4.2159\n",
      "validation score (mean_absolute_error): 2.1154\n",
      "validation score (mean_squared_error): 6.4922\n",
      "Percentage of data thrown out: 0.04769498105714336%\n",
      " --------------- fold #3 out of -------------------\n"
     ]
    },
    {
     "name": "stderr",
     "output_type": "stream",
     "text": [
      "/home/sergey/.conda/envs/kaggle/lib/python3.6/site-packages/xgboost/core.py:587: FutureWarning: Series.base is deprecated and will be removed in a future version\n",
      "  if getattr(data, 'base', None) is not None and \\\n"
     ]
    },
    {
     "name": "stdout",
     "output_type": "stream",
     "text": [
      "train score (mean_absolute_error): 1.4870\n",
      "train score (mean_squared_error): 3.8526\n",
      "validation score (mean_absolute_error): 2.6214\n",
      "validation score (mean_squared_error): 10.7742\n",
      "Percentage of data thrown out: 0.04769498105714336%\n",
      " --------------- fold #4 out of -------------------\n"
     ]
    },
    {
     "name": "stderr",
     "output_type": "stream",
     "text": [
      "/home/sergey/.conda/envs/kaggle/lib/python3.6/site-packages/xgboost/core.py:587: FutureWarning: Series.base is deprecated and will be removed in a future version\n",
      "  if getattr(data, 'base', None) is not None and \\\n"
     ]
    },
    {
     "name": "stdout",
     "output_type": "stream",
     "text": [
      "train score (mean_absolute_error): 1.5513\n",
      "train score (mean_squared_error): 4.1289\n",
      "validation score (mean_absolute_error): 2.1083\n",
      "validation score (mean_squared_error): 6.8490\n",
      "Percentage of data thrown out: 0.04769498105714336%\n",
      " --------------- fold #5 out of -------------------\n"
     ]
    },
    {
     "name": "stderr",
     "output_type": "stream",
     "text": [
      "/home/sergey/.conda/envs/kaggle/lib/python3.6/site-packages/xgboost/core.py:587: FutureWarning: Series.base is deprecated and will be removed in a future version\n",
      "  if getattr(data, 'base', None) is not None and \\\n"
     ]
    },
    {
     "name": "stdout",
     "output_type": "stream",
     "text": [
      "train score (mean_absolute_error): 1.5454\n",
      "train score (mean_squared_error): 4.1554\n",
      "validation score (mean_absolute_error): 2.2246\n",
      "validation score (mean_squared_error): 8.1504\n",
      "Percentage of data thrown out: 0.04769498105714336%\n",
      " --------------- fold #6 out of -------------------\n"
     ]
    },
    {
     "name": "stderr",
     "output_type": "stream",
     "text": [
      "/home/sergey/.conda/envs/kaggle/lib/python3.6/site-packages/xgboost/core.py:587: FutureWarning: Series.base is deprecated and will be removed in a future version\n",
      "  if getattr(data, 'base', None) is not None and \\\n"
     ]
    },
    {
     "name": "stdout",
     "output_type": "stream",
     "text": [
      "train score (mean_absolute_error): 1.5340\n",
      "train score (mean_squared_error): 4.0357\n",
      "validation score (mean_absolute_error): 2.2444\n",
      "validation score (mean_squared_error): 7.2428\n",
      "Percentage of data thrown out: 0.04149463351971472%\n",
      " --------------- fold #7 out of -------------------\n"
     ]
    },
    {
     "name": "stderr",
     "output_type": "stream",
     "text": [
      "/home/sergey/.conda/envs/kaggle/lib/python3.6/site-packages/xgboost/core.py:587: FutureWarning: Series.base is deprecated and will be removed in a future version\n",
      "  if getattr(data, 'base', None) is not None and \\\n"
     ]
    },
    {
     "name": "stdout",
     "output_type": "stream",
     "text": [
      "train score (mean_absolute_error): 1.5820\n",
      "train score (mean_squared_error): 4.1619\n",
      "validation score (mean_absolute_error): 2.1047\n",
      "validation score (mean_squared_error): 8.2539\n",
      "Percentage of data thrown out: 0.04769498105714336%\n",
      " --------------- fold #8 out of -------------------\n"
     ]
    },
    {
     "name": "stderr",
     "output_type": "stream",
     "text": [
      "/home/sergey/.conda/envs/kaggle/lib/python3.6/site-packages/xgboost/core.py:587: FutureWarning: Series.base is deprecated and will be removed in a future version\n",
      "  if getattr(data, 'base', None) is not None and \\\n"
     ]
    },
    {
     "name": "stdout",
     "output_type": "stream",
     "text": [
      "train score (mean_absolute_error): 1.4748\n",
      "train score (mean_squared_error): 3.7786\n",
      "validation score (mean_absolute_error): 3.0262\n",
      "validation score (mean_squared_error): 12.8099\n",
      "['data_fname' 'preproc_name' 'preproc_params' 'folds_name' 'folds_params'\n",
      " 'model_name' 'model_params' 'mean_absolute_error' 'mean_squared_error']\n",
      "                                          data_fname    preproc_name  \\\n",
      "0  ../../data/e_lexa/train_proceded_not_smooth_da...  StandardScaler   \n",
      "\n",
      "               preproc_params  folds_name  \\\n",
      "0  {'name': 'StandardScaler'}  CustomFold   \n",
      "\n",
      "                                        folds_params    model_name  \\\n",
      "0  {'name': 'CustomFold', 'n_splits': 9, 'pad': 1...  XGBRegressor   \n",
      "\n",
      "                                        model_params  \\\n",
      "0  {'name': 'XGBRegressor', 'eta': 0.001, 'max_de...   \n",
      "\n",
      "                                 mean_absolute_error  \\\n",
      "0  [1.5488651568140352, 2.0281811483334717, 1.495...   \n",
      "\n",
      "                                  mean_squared_error  \n",
      "0  [4.110658046787389, 6.420475554653963, 3.94258...  \n",
      ".......................Training finished.........................\n",
      "Run 26:\n",
      "....................... Training model ..............................\n",
      "Percentage of data thrown out: 0.04769498105714336%\n",
      " --------------- fold #0 out of -------------------\n"
     ]
    },
    {
     "name": "stderr",
     "output_type": "stream",
     "text": [
      "/home/sergey/.conda/envs/kaggle/lib/python3.6/site-packages/xgboost/core.py:587: FutureWarning: Series.base is deprecated and will be removed in a future version\n",
      "  if getattr(data, 'base', None) is not None and \\\n"
     ]
    },
    {
     "name": "stdout",
     "output_type": "stream",
     "text": [
      "train score (mean_absolute_error): 1.5401\n",
      "train score (mean_squared_error): 3.9793\n",
      "validation score (mean_absolute_error): 2.9095\n",
      "validation score (mean_squared_error): 11.1909\n",
      "Percentage of data thrown out: 0.04769498105714336%\n",
      " --------------- fold #1 out of -------------------\n"
     ]
    },
    {
     "name": "stderr",
     "output_type": "stream",
     "text": [
      "/home/sergey/.conda/envs/kaggle/lib/python3.6/site-packages/xgboost/core.py:587: FutureWarning: Series.base is deprecated and will be removed in a future version\n",
      "  if getattr(data, 'base', None) is not None and \\\n"
     ]
    },
    {
     "name": "stdout",
     "output_type": "stream",
     "text": [
      "train score (mean_absolute_error): 1.4141\n",
      "train score (mean_squared_error): 3.3763\n",
      "validation score (mean_absolute_error): 3.9766\n",
      "validation score (mean_squared_error): 22.5752\n",
      "Percentage of data thrown out: 0.02384749052857168%\n",
      " --------------- fold #2 out of -------------------\n"
     ]
    },
    {
     "name": "stderr",
     "output_type": "stream",
     "text": [
      "/home/sergey/.conda/envs/kaggle/lib/python3.6/site-packages/xgboost/core.py:587: FutureWarning: Series.base is deprecated and will be removed in a future version\n",
      "  if getattr(data, 'base', None) is not None and \\\n"
     ]
    },
    {
     "name": "stdout",
     "output_type": "stream",
     "text": [
      "train score (mean_absolute_error): 1.5788\n",
      "train score (mean_squared_error): 4.1633\n",
      "validation score (mean_absolute_error): 2.1136\n",
      "validation score (mean_squared_error): 7.9968\n",
      "Percentage of data thrown out: 0.04769498105714336%\n",
      " --------------- fold #3 out of -------------------\n"
     ]
    },
    {
     "name": "stderr",
     "output_type": "stream",
     "text": [
      "/home/sergey/.conda/envs/kaggle/lib/python3.6/site-packages/xgboost/core.py:587: FutureWarning: Series.base is deprecated and will be removed in a future version\n",
      "  if getattr(data, 'base', None) is not None and \\\n"
     ]
    },
    {
     "name": "stdout",
     "output_type": "stream",
     "text": [
      "train score (mean_absolute_error): 1.4823\n",
      "train score (mean_squared_error): 3.7998\n",
      "validation score (mean_absolute_error): 2.3865\n",
      "validation score (mean_squared_error): 9.1031\n",
      "Percentage of data thrown out: 0.04769498105714336%\n",
      " --------------- fold #4 out of -------------------\n"
     ]
    },
    {
     "name": "stderr",
     "output_type": "stream",
     "text": [
      "/home/sergey/.conda/envs/kaggle/lib/python3.6/site-packages/xgboost/core.py:587: FutureWarning: Series.base is deprecated and will be removed in a future version\n",
      "  if getattr(data, 'base', None) is not None and \\\n"
     ]
    },
    {
     "name": "stdout",
     "output_type": "stream",
     "text": [
      "train score (mean_absolute_error): 1.6021\n",
      "train score (mean_squared_error): 4.3242\n",
      "validation score (mean_absolute_error): 1.4364\n",
      "validation score (mean_squared_error): 3.7781\n",
      "Percentage of data thrown out: 0.04769498105714336%\n",
      " --------------- fold #5 out of -------------------\n"
     ]
    },
    {
     "name": "stderr",
     "output_type": "stream",
     "text": [
      "/home/sergey/.conda/envs/kaggle/lib/python3.6/site-packages/xgboost/core.py:587: FutureWarning: Series.base is deprecated and will be removed in a future version\n",
      "  if getattr(data, 'base', None) is not None and \\\n"
     ]
    },
    {
     "name": "stdout",
     "output_type": "stream",
     "text": [
      "train score (mean_absolute_error): 1.5576\n",
      "train score (mean_squared_error): 4.1996\n",
      "validation score (mean_absolute_error): 2.3560\n",
      "validation score (mean_squared_error): 8.3240\n",
      "Percentage of data thrown out: 0.04769498105714336%\n",
      " --------------- fold #6 out of -------------------\n"
     ]
    },
    {
     "name": "stderr",
     "output_type": "stream",
     "text": [
      "/home/sergey/.conda/envs/kaggle/lib/python3.6/site-packages/xgboost/core.py:587: FutureWarning: Series.base is deprecated and will be removed in a future version\n",
      "  if getattr(data, 'base', None) is not None and \\\n"
     ]
    },
    {
     "name": "stdout",
     "output_type": "stream",
     "text": [
      "train score (mean_absolute_error): 1.4429\n",
      "train score (mean_squared_error): 3.6599\n",
      "validation score (mean_absolute_error): 2.5344\n",
      "validation score (mean_squared_error): 9.6370\n",
      "Percentage of data thrown out: 0.04769498105714336%\n",
      " --------------- fold #7 out of -------------------\n"
     ]
    },
    {
     "name": "stderr",
     "output_type": "stream",
     "text": [
      "/home/sergey/.conda/envs/kaggle/lib/python3.6/site-packages/xgboost/core.py:587: FutureWarning: Series.base is deprecated and will be removed in a future version\n",
      "  if getattr(data, 'base', None) is not None and \\\n"
     ]
    },
    {
     "name": "stdout",
     "output_type": "stream",
     "text": [
      "train score (mean_absolute_error): 1.4654\n",
      "train score (mean_squared_error): 3.7140\n",
      "validation score (mean_absolute_error): 3.0269\n",
      "validation score (mean_squared_error): 12.7990\n",
      "Percentage of data thrown out: 0.04769498105714336%\n",
      " --------------- fold #8 out of -------------------\n"
     ]
    },
    {
     "name": "stderr",
     "output_type": "stream",
     "text": [
      "/home/sergey/.conda/envs/kaggle/lib/python3.6/site-packages/xgboost/core.py:587: FutureWarning: Series.base is deprecated and will be removed in a future version\n",
      "  if getattr(data, 'base', None) is not None and \\\n"
     ]
    },
    {
     "name": "stdout",
     "output_type": "stream",
     "text": [
      "train score (mean_absolute_error): 1.6193\n",
      "train score (mean_squared_error): 4.3781\n",
      "validation score (mean_absolute_error): 1.3958\n",
      "validation score (mean_squared_error): 3.5818\n",
      "['data_fname' 'preproc_name' 'preproc_params' 'folds_name' 'folds_params'\n",
      " 'model_name' 'model_params' 'mean_absolute_error' 'mean_squared_error']\n",
      "                                          data_fname    preproc_name  \\\n",
      "0  ../../data/e_lexa/train_proceded_not_smooth_da...  StandardScaler   \n",
      "\n",
      "               preproc_params  folds_name  \\\n",
      "0  {'name': 'StandardScaler'}  CustomFold   \n",
      "\n",
      "                                        folds_params    model_name  \\\n",
      "0  {'name': 'CustomFold', 'n_splits': 9, 'pad': 1...  XGBRegressor   \n",
      "\n",
      "                                        model_params  \\\n",
      "0  {'name': 'XGBRegressor', 'eta': 0.001, 'max_de...   \n",
      "\n",
      "                                 mean_absolute_error  \\\n",
      "0  [1.5400629862415576, 2.9094696051306834, 1.414...   \n",
      "\n",
      "                                  mean_squared_error  \n",
      "0  [3.9793156183784455, 11.190865709988108, 3.376...  \n",
      ".......................Training finished.........................\n",
      "Run 27:\n",
      "....................... Training model ..............................\n",
      "Percentage of data thrown out: 0.04769498105714336%\n",
      " --------------- fold #0 out of -------------------\n"
     ]
    },
    {
     "name": "stderr",
     "output_type": "stream",
     "text": [
      "/home/sergey/.conda/envs/kaggle/lib/python3.6/site-packages/xgboost/core.py:587: FutureWarning: Series.base is deprecated and will be removed in a future version\n",
      "  if getattr(data, 'base', None) is not None and \\\n"
     ]
    },
    {
     "name": "stdout",
     "output_type": "stream",
     "text": [
      "train score (mean_absolute_error): 1.5390\n",
      "train score (mean_squared_error): 4.0358\n",
      "validation score (mean_absolute_error): 2.1854\n",
      "validation score (mean_squared_error): 7.6510\n",
      "Percentage of data thrown out: 0.04769498105714336%\n",
      " --------------- fold #1 out of -------------------\n"
     ]
    },
    {
     "name": "stderr",
     "output_type": "stream",
     "text": [
      "/home/sergey/.conda/envs/kaggle/lib/python3.6/site-packages/xgboost/core.py:587: FutureWarning: Series.base is deprecated and will be removed in a future version\n",
      "  if getattr(data, 'base', None) is not None and \\\n"
     ]
    },
    {
     "name": "stdout",
     "output_type": "stream",
     "text": [
      "train score (mean_absolute_error): 1.6114\n",
      "train score (mean_squared_error): 4.3528\n",
      "validation score (mean_absolute_error): 1.2615\n",
      "validation score (mean_squared_error): 3.0077\n",
      "Percentage of data thrown out: 0.04769498105714336%\n",
      " --------------- fold #2 out of -------------------\n"
     ]
    },
    {
     "name": "stderr",
     "output_type": "stream",
     "text": [
      "/home/sergey/.conda/envs/kaggle/lib/python3.6/site-packages/xgboost/core.py:587: FutureWarning: Series.base is deprecated and will be removed in a future version\n",
      "  if getattr(data, 'base', None) is not None and \\\n"
     ]
    },
    {
     "name": "stdout",
     "output_type": "stream",
     "text": [
      "train score (mean_absolute_error): 1.5261\n",
      "train score (mean_squared_error): 4.0058\n",
      "validation score (mean_absolute_error): 2.1983\n",
      "validation score (mean_squared_error): 7.1932\n",
      "Percentage of data thrown out: 0.04769498105714336%\n",
      " --------------- fold #3 out of -------------------\n"
     ]
    },
    {
     "name": "stderr",
     "output_type": "stream",
     "text": [
      "/home/sergey/.conda/envs/kaggle/lib/python3.6/site-packages/xgboost/core.py:587: FutureWarning: Series.base is deprecated and will be removed in a future version\n",
      "  if getattr(data, 'base', None) is not None and \\\n"
     ]
    },
    {
     "name": "stdout",
     "output_type": "stream",
     "text": [
      "train score (mean_absolute_error): 1.6408\n",
      "train score (mean_squared_error): 4.4592\n",
      "validation score (mean_absolute_error): 1.3841\n",
      "validation score (mean_squared_error): 3.2243\n",
      "Percentage of data thrown out: 0.02384749052857168%\n",
      " --------------- fold #4 out of -------------------\n"
     ]
    },
    {
     "name": "stderr",
     "output_type": "stream",
     "text": [
      "/home/sergey/.conda/envs/kaggle/lib/python3.6/site-packages/xgboost/core.py:587: FutureWarning: Series.base is deprecated and will be removed in a future version\n",
      "  if getattr(data, 'base', None) is not None and \\\n"
     ]
    },
    {
     "name": "stdout",
     "output_type": "stream",
     "text": [
      "train score (mean_absolute_error): 1.5771\n",
      "train score (mean_squared_error): 4.1685\n",
      "validation score (mean_absolute_error): 2.3773\n",
      "validation score (mean_squared_error): 10.7867\n",
      "Percentage of data thrown out: 0.04769498105714336%\n",
      " --------------- fold #5 out of -------------------\n"
     ]
    },
    {
     "name": "stderr",
     "output_type": "stream",
     "text": [
      "/home/sergey/.conda/envs/kaggle/lib/python3.6/site-packages/xgboost/core.py:587: FutureWarning: Series.base is deprecated and will be removed in a future version\n",
      "  if getattr(data, 'base', None) is not None and \\\n"
     ]
    },
    {
     "name": "stdout",
     "output_type": "stream",
     "text": [
      "train score (mean_absolute_error): 1.4645\n",
      "train score (mean_squared_error): 3.7362\n",
      "validation score (mean_absolute_error): 2.9537\n",
      "validation score (mean_squared_error): 12.8821\n",
      "Percentage of data thrown out: 0.04769498105714336%\n",
      " --------------- fold #6 out of -------------------\n"
     ]
    },
    {
     "name": "stderr",
     "output_type": "stream",
     "text": [
      "/home/sergey/.conda/envs/kaggle/lib/python3.6/site-packages/xgboost/core.py:587: FutureWarning: Series.base is deprecated and will be removed in a future version\n",
      "  if getattr(data, 'base', None) is not None and \\\n"
     ]
    },
    {
     "name": "stdout",
     "output_type": "stream",
     "text": [
      "train score (mean_absolute_error): 1.5141\n",
      "train score (mean_squared_error): 3.9677\n",
      "validation score (mean_absolute_error): 3.1151\n",
      "validation score (mean_squared_error): 13.0657\n",
      "Percentage of data thrown out: 0.04769498105714336%\n",
      " --------------- fold #7 out of -------------------\n"
     ]
    },
    {
     "name": "stderr",
     "output_type": "stream",
     "text": [
      "/home/sergey/.conda/envs/kaggle/lib/python3.6/site-packages/xgboost/core.py:587: FutureWarning: Series.base is deprecated and will be removed in a future version\n",
      "  if getattr(data, 'base', None) is not None and \\\n"
     ]
    },
    {
     "name": "stdout",
     "output_type": "stream",
     "text": [
      "train score (mean_absolute_error): 1.4546\n",
      "train score (mean_squared_error): 3.6991\n",
      "validation score (mean_absolute_error): 3.2127\n",
      "validation score (mean_squared_error): 14.4643\n",
      "Percentage of data thrown out: 0.04769498105714336%\n",
      " --------------- fold #8 out of -------------------\n"
     ]
    },
    {
     "name": "stderr",
     "output_type": "stream",
     "text": [
      "/home/sergey/.conda/envs/kaggle/lib/python3.6/site-packages/xgboost/core.py:587: FutureWarning: Series.base is deprecated and will be removed in a future version\n",
      "  if getattr(data, 'base', None) is not None and \\\n"
     ]
    },
    {
     "name": "stdout",
     "output_type": "stream",
     "text": [
      "train score (mean_absolute_error): 1.5659\n",
      "train score (mean_squared_error): 4.1791\n",
      "validation score (mean_absolute_error): 1.3730\n",
      "validation score (mean_squared_error): 3.5477\n",
      "['data_fname' 'preproc_name' 'preproc_params' 'folds_name' 'folds_params'\n",
      " 'model_name' 'model_params' 'mean_absolute_error' 'mean_squared_error']\n",
      "                                          data_fname    preproc_name  \\\n",
      "0  ../../data/e_lexa/train_proceded_not_smooth_da...  StandardScaler   \n",
      "\n",
      "               preproc_params  folds_name  \\\n",
      "0  {'name': 'StandardScaler'}  CustomFold   \n",
      "\n",
      "                                        folds_params    model_name  \\\n",
      "0  {'name': 'CustomFold', 'n_splits': 9, 'pad': 1...  XGBRegressor   \n",
      "\n",
      "                                        model_params  \\\n",
      "0  {'name': 'XGBRegressor', 'eta': 0.001, 'max_de...   \n",
      "\n",
      "                                 mean_absolute_error  \\\n",
      "0  [1.5389800587223719, 2.1854418785173575, 1.611...   \n",
      "\n",
      "                                  mean_squared_error  \n",
      "0  [4.035750855462845, 7.651036422648429, 4.35278...  \n",
      ".......................Training finished.........................\n",
      "Run 28:\n",
      "....................... Training model ..............................\n",
      "Percentage of data thrown out: 0.04769498105714336%\n",
      " --------------- fold #0 out of -------------------\n"
     ]
    },
    {
     "name": "stderr",
     "output_type": "stream",
     "text": [
      "/home/sergey/.conda/envs/kaggle/lib/python3.6/site-packages/xgboost/core.py:587: FutureWarning: Series.base is deprecated and will be removed in a future version\n",
      "  if getattr(data, 'base', None) is not None and \\\n"
     ]
    },
    {
     "name": "stdout",
     "output_type": "stream",
     "text": [
      "train score (mean_absolute_error): 1.5575\n",
      "train score (mean_squared_error): 4.1059\n",
      "validation score (mean_absolute_error): 2.0082\n",
      "validation score (mean_squared_error): 6.2974\n",
      "Percentage of data thrown out: 0.04769498105714336%\n",
      " --------------- fold #1 out of -------------------\n"
     ]
    },
    {
     "name": "stderr",
     "output_type": "stream",
     "text": [
      "/home/sergey/.conda/envs/kaggle/lib/python3.6/site-packages/xgboost/core.py:587: FutureWarning: Series.base is deprecated and will be removed in a future version\n",
      "  if getattr(data, 'base', None) is not None and \\\n"
     ]
    },
    {
     "name": "stdout",
     "output_type": "stream",
     "text": [
      "train score (mean_absolute_error): 1.5029\n",
      "train score (mean_squared_error): 3.8517\n",
      "validation score (mean_absolute_error): 2.4317\n",
      "validation score (mean_squared_error): 9.3499\n",
      "Percentage of data thrown out: 0.04769498105714336%\n",
      " --------------- fold #2 out of -------------------\n"
     ]
    },
    {
     "name": "stderr",
     "output_type": "stream",
     "text": [
      "/home/sergey/.conda/envs/kaggle/lib/python3.6/site-packages/xgboost/core.py:587: FutureWarning: Series.base is deprecated and will be removed in a future version\n",
      "  if getattr(data, 'base', None) is not None and \\\n"
     ]
    },
    {
     "name": "stdout",
     "output_type": "stream",
     "text": [
      "train score (mean_absolute_error): 1.5322\n",
      "train score (mean_squared_error): 3.9672\n",
      "validation score (mean_absolute_error): 3.4066\n",
      "validation score (mean_squared_error): 15.2598\n",
      "Percentage of data thrown out: 0.04769498105714336%\n",
      " --------------- fold #3 out of -------------------\n"
     ]
    },
    {
     "name": "stderr",
     "output_type": "stream",
     "text": [
      "/home/sergey/.conda/envs/kaggle/lib/python3.6/site-packages/xgboost/core.py:587: FutureWarning: Series.base is deprecated and will be removed in a future version\n",
      "  if getattr(data, 'base', None) is not None and \\\n"
     ]
    },
    {
     "name": "stdout",
     "output_type": "stream",
     "text": [
      "train score (mean_absolute_error): 1.5202\n",
      "train score (mean_squared_error): 3.9992\n",
      "validation score (mean_absolute_error): 1.7271\n",
      "validation score (mean_squared_error): 4.4575\n",
      "Percentage of data thrown out: 0.04769498105714336%\n",
      " --------------- fold #4 out of -------------------\n"
     ]
    },
    {
     "name": "stderr",
     "output_type": "stream",
     "text": [
      "/home/sergey/.conda/envs/kaggle/lib/python3.6/site-packages/xgboost/core.py:587: FutureWarning: Series.base is deprecated and will be removed in a future version\n",
      "  if getattr(data, 'base', None) is not None and \\\n"
     ]
    },
    {
     "name": "stdout",
     "output_type": "stream",
     "text": [
      "train score (mean_absolute_error): 1.4839\n",
      "train score (mean_squared_error): 3.8826\n",
      "validation score (mean_absolute_error): 2.6486\n",
      "validation score (mean_squared_error): 9.9509\n",
      "Percentage of data thrown out: 0.04769498105714336%\n",
      " --------------- fold #5 out of -------------------\n"
     ]
    },
    {
     "name": "stderr",
     "output_type": "stream",
     "text": [
      "/home/sergey/.conda/envs/kaggle/lib/python3.6/site-packages/xgboost/core.py:587: FutureWarning: Series.base is deprecated and will be removed in a future version\n",
      "  if getattr(data, 'base', None) is not None and \\\n"
     ]
    },
    {
     "name": "stdout",
     "output_type": "stream",
     "text": [
      "train score (mean_absolute_error): 1.5553\n",
      "train score (mean_squared_error): 4.1131\n",
      "validation score (mean_absolute_error): 1.3843\n",
      "validation score (mean_squared_error): 3.5533\n",
      "Percentage of data thrown out: 0.04769498105714336%\n",
      " --------------- fold #6 out of -------------------\n"
     ]
    },
    {
     "name": "stderr",
     "output_type": "stream",
     "text": [
      "/home/sergey/.conda/envs/kaggle/lib/python3.6/site-packages/xgboost/core.py:587: FutureWarning: Series.base is deprecated and will be removed in a future version\n",
      "  if getattr(data, 'base', None) is not None and \\\n"
     ]
    },
    {
     "name": "stdout",
     "output_type": "stream",
     "text": [
      "train score (mean_absolute_error): 1.4062\n",
      "train score (mean_squared_error): 3.3337\n",
      "validation score (mean_absolute_error): 3.9263\n",
      "validation score (mean_squared_error): 22.4015\n",
      "Percentage of data thrown out: 0.04769498105714336%\n",
      " --------------- fold #7 out of -------------------\n"
     ]
    },
    {
     "name": "stderr",
     "output_type": "stream",
     "text": [
      "/home/sergey/.conda/envs/kaggle/lib/python3.6/site-packages/xgboost/core.py:587: FutureWarning: Series.base is deprecated and will be removed in a future version\n",
      "  if getattr(data, 'base', None) is not None and \\\n"
     ]
    },
    {
     "name": "stdout",
     "output_type": "stream",
     "text": [
      "train score (mean_absolute_error): 1.5424\n",
      "train score (mean_squared_error): 4.0354\n",
      "validation score (mean_absolute_error): 2.2305\n",
      "validation score (mean_squared_error): 7.6516\n",
      "Percentage of data thrown out: 0.04769498105714336%\n",
      " --------------- fold #8 out of -------------------\n"
     ]
    },
    {
     "name": "stderr",
     "output_type": "stream",
     "text": [
      "/home/sergey/.conda/envs/kaggle/lib/python3.6/site-packages/xgboost/core.py:587: FutureWarning: Series.base is deprecated and will be removed in a future version\n",
      "  if getattr(data, 'base', None) is not None and \\\n"
     ]
    },
    {
     "name": "stdout",
     "output_type": "stream",
     "text": [
      "train score (mean_absolute_error): 1.5482\n",
      "train score (mean_squared_error): 4.0549\n",
      "validation score (mean_absolute_error): 2.3003\n",
      "validation score (mean_squared_error): 8.5231\n",
      "['data_fname' 'preproc_name' 'preproc_params' 'folds_name' 'folds_params'\n",
      " 'model_name' 'model_params' 'mean_absolute_error' 'mean_squared_error']\n",
      "                                          data_fname    preproc_name  \\\n",
      "0  ../../data/e_lexa/train_proceded_not_smooth_da...  StandardScaler   \n",
      "\n",
      "               preproc_params  folds_name  \\\n",
      "0  {'name': 'StandardScaler'}  CustomFold   \n",
      "\n",
      "                                        folds_params    model_name  \\\n",
      "0  {'name': 'CustomFold', 'n_splits': 9, 'pad': 1...  XGBRegressor   \n",
      "\n",
      "                                        model_params  \\\n",
      "0  {'name': 'XGBRegressor', 'eta': 0.001, 'max_de...   \n",
      "\n",
      "                                 mean_absolute_error  \\\n",
      "0  [1.5574528779756265, 2.008227488704033, 1.5028...   \n",
      "\n",
      "                                  mean_squared_error  \n",
      "0  [4.105914279431355, 6.297400449079583, 3.85165...  \n",
      ".......................Training finished.........................\n",
      "Run 29:\n",
      "....................... Training model ..............................\n",
      "Percentage of data thrown out: 0.04769498105714336%\n",
      " --------------- fold #0 out of -------------------\n"
     ]
    },
    {
     "name": "stderr",
     "output_type": "stream",
     "text": [
      "/home/sergey/.conda/envs/kaggle/lib/python3.6/site-packages/xgboost/core.py:587: FutureWarning: Series.base is deprecated and will be removed in a future version\n",
      "  if getattr(data, 'base', None) is not None and \\\n"
     ]
    },
    {
     "name": "stdout",
     "output_type": "stream",
     "text": [
      "train score (mean_absolute_error): 1.4532\n",
      "train score (mean_squared_error): 3.7563\n",
      "validation score (mean_absolute_error): 2.6737\n",
      "validation score (mean_squared_error): 10.0936\n",
      "Percentage of data thrown out: 0.04769498105714336%\n",
      " --------------- fold #1 out of -------------------\n"
     ]
    },
    {
     "name": "stderr",
     "output_type": "stream",
     "text": [
      "/home/sergey/.conda/envs/kaggle/lib/python3.6/site-packages/xgboost/core.py:587: FutureWarning: Series.base is deprecated and will be removed in a future version\n",
      "  if getattr(data, 'base', None) is not None and \\\n"
     ]
    },
    {
     "name": "stdout",
     "output_type": "stream",
     "text": [
      "train score (mean_absolute_error): 1.4769\n",
      "train score (mean_squared_error): 3.8493\n",
      "validation score (mean_absolute_error): 2.5625\n",
      "validation score (mean_squared_error): 9.6666\n",
      "Percentage of data thrown out: 0.02384749052857168%\n",
      " --------------- fold #2 out of -------------------\n"
     ]
    },
    {
     "name": "stderr",
     "output_type": "stream",
     "text": [
      "/home/sergey/.conda/envs/kaggle/lib/python3.6/site-packages/xgboost/core.py:587: FutureWarning: Series.base is deprecated and will be removed in a future version\n",
      "  if getattr(data, 'base', None) is not None and \\\n"
     ]
    },
    {
     "name": "stdout",
     "output_type": "stream",
     "text": [
      "train score (mean_absolute_error): 1.5764\n",
      "train score (mean_squared_error): 4.1996\n",
      "validation score (mean_absolute_error): 1.7757\n",
      "validation score (mean_squared_error): 4.9176\n",
      "Percentage of data thrown out: 0.04769498105714336%\n",
      " --------------- fold #3 out of -------------------\n"
     ]
    },
    {
     "name": "stderr",
     "output_type": "stream",
     "text": [
      "/home/sergey/.conda/envs/kaggle/lib/python3.6/site-packages/xgboost/core.py:587: FutureWarning: Series.base is deprecated and will be removed in a future version\n",
      "  if getattr(data, 'base', None) is not None and \\\n"
     ]
    },
    {
     "name": "stdout",
     "output_type": "stream",
     "text": [
      "train score (mean_absolute_error): 1.4923\n",
      "train score (mean_squared_error): 3.8994\n",
      "validation score (mean_absolute_error): 2.8514\n",
      "validation score (mean_squared_error): 11.4844\n",
      "Percentage of data thrown out: 0.04769498105714336%\n",
      " --------------- fold #4 out of -------------------\n"
     ]
    },
    {
     "name": "stderr",
     "output_type": "stream",
     "text": [
      "/home/sergey/.conda/envs/kaggle/lib/python3.6/site-packages/xgboost/core.py:587: FutureWarning: Series.base is deprecated and will be removed in a future version\n",
      "  if getattr(data, 'base', None) is not None and \\\n"
     ]
    },
    {
     "name": "stdout",
     "output_type": "stream",
     "text": [
      "train score (mean_absolute_error): 1.4023\n",
      "train score (mean_squared_error): 3.3512\n",
      "validation score (mean_absolute_error): 3.9847\n",
      "validation score (mean_squared_error): 23.5068\n",
      "Percentage of data thrown out: 0.04769498105714336%\n",
      " --------------- fold #5 out of -------------------\n"
     ]
    },
    {
     "name": "stderr",
     "output_type": "stream",
     "text": [
      "/home/sergey/.conda/envs/kaggle/lib/python3.6/site-packages/xgboost/core.py:587: FutureWarning: Series.base is deprecated and will be removed in a future version\n",
      "  if getattr(data, 'base', None) is not None and \\\n"
     ]
    },
    {
     "name": "stdout",
     "output_type": "stream",
     "text": [
      "train score (mean_absolute_error): 1.5764\n",
      "train score (mean_squared_error): 4.1987\n",
      "validation score (mean_absolute_error): 2.5732\n",
      "validation score (mean_squared_error): 10.7402\n",
      "Percentage of data thrown out: 0.04769498105714336%\n",
      " --------------- fold #6 out of -------------------\n"
     ]
    },
    {
     "name": "stderr",
     "output_type": "stream",
     "text": [
      "/home/sergey/.conda/envs/kaggle/lib/python3.6/site-packages/xgboost/core.py:587: FutureWarning: Series.base is deprecated and will be removed in a future version\n",
      "  if getattr(data, 'base', None) is not None and \\\n"
     ]
    },
    {
     "name": "stdout",
     "output_type": "stream",
     "text": [
      "train score (mean_absolute_error): 1.6132\n",
      "train score (mean_squared_error): 4.2990\n",
      "validation score (mean_absolute_error): 1.2883\n",
      "validation score (mean_squared_error): 3.2688\n",
      "Percentage of data thrown out: 0.02384749052857168%\n",
      " --------------- fold #7 out of -------------------\n"
     ]
    },
    {
     "name": "stderr",
     "output_type": "stream",
     "text": [
      "/home/sergey/.conda/envs/kaggle/lib/python3.6/site-packages/xgboost/core.py:587: FutureWarning: Series.base is deprecated and will be removed in a future version\n",
      "  if getattr(data, 'base', None) is not None and \\\n"
     ]
    },
    {
     "name": "stdout",
     "output_type": "stream",
     "text": [
      "train score (mean_absolute_error): 1.5516\n",
      "train score (mean_squared_error): 4.0988\n",
      "validation score (mean_absolute_error): 1.7590\n",
      "validation score (mean_squared_error): 4.9511\n",
      "Percentage of data thrown out: 0.04769498105714336%\n",
      " --------------- fold #8 out of -------------------\n"
     ]
    },
    {
     "name": "stderr",
     "output_type": "stream",
     "text": [
      "/home/sergey/.conda/envs/kaggle/lib/python3.6/site-packages/xgboost/core.py:587: FutureWarning: Series.base is deprecated and will be removed in a future version\n",
      "  if getattr(data, 'base', None) is not None and \\\n"
     ]
    },
    {
     "name": "stdout",
     "output_type": "stream",
     "text": [
      "train score (mean_absolute_error): 1.5538\n",
      "train score (mean_squared_error): 4.0922\n",
      "validation score (mean_absolute_error): 1.4718\n",
      "validation score (mean_squared_error): 3.9168\n",
      "['data_fname' 'preproc_name' 'preproc_params' 'folds_name' 'folds_params'\n",
      " 'model_name' 'model_params' 'mean_absolute_error' 'mean_squared_error']\n",
      "                                          data_fname    preproc_name  \\\n",
      "0  ../../data/e_lexa/train_proceded_not_smooth_da...  StandardScaler   \n",
      "\n",
      "               preproc_params  folds_name  \\\n",
      "0  {'name': 'StandardScaler'}  CustomFold   \n",
      "\n",
      "                                        folds_params    model_name  \\\n",
      "0  {'name': 'CustomFold', 'n_splits': 9, 'pad': 1...  XGBRegressor   \n",
      "\n",
      "                                        model_params  \\\n",
      "0  {'name': 'XGBRegressor', 'eta': 0.001, 'max_de...   \n",
      "\n",
      "                                 mean_absolute_error  \\\n",
      "0  [1.4532214348096104, 2.6737215619919303, 1.476...   \n",
      "\n",
      "                                  mean_squared_error  \n",
      "0  [3.7563034785822906, 10.093621302953043, 3.849...  \n",
      ".......................Training finished.........................\n",
      "Run 30:\n",
      "....................... Training model ..............................\n",
      "Percentage of data thrown out: 0.04769498105714336%\n",
      " --------------- fold #0 out of -------------------\n"
     ]
    },
    {
     "name": "stderr",
     "output_type": "stream",
     "text": [
      "/home/sergey/.conda/envs/kaggle/lib/python3.6/site-packages/xgboost/core.py:587: FutureWarning: Series.base is deprecated and will be removed in a future version\n",
      "  if getattr(data, 'base', None) is not None and \\\n"
     ]
    },
    {
     "name": "stdout",
     "output_type": "stream",
     "text": [
      "train score (mean_absolute_error): 1.5987\n",
      "train score (mean_squared_error): 4.3462\n",
      "validation score (mean_absolute_error): 1.3462\n",
      "validation score (mean_squared_error): 2.9584\n",
      "Percentage of data thrown out: 0.04769498105714336%\n",
      " --------------- fold #1 out of -------------------\n"
     ]
    },
    {
     "name": "stderr",
     "output_type": "stream",
     "text": [
      "/home/sergey/.conda/envs/kaggle/lib/python3.6/site-packages/xgboost/core.py:587: FutureWarning: Series.base is deprecated and will be removed in a future version\n",
      "  if getattr(data, 'base', None) is not None and \\\n"
     ]
    },
    {
     "name": "stdout",
     "output_type": "stream",
     "text": [
      "train score (mean_absolute_error): 1.5875\n",
      "train score (mean_squared_error): 4.3061\n",
      "validation score (mean_absolute_error): 2.2276\n",
      "validation score (mean_squared_error): 7.6490\n",
      "Percentage of data thrown out: 0.04769498105714336%\n",
      " --------------- fold #2 out of -------------------\n"
     ]
    },
    {
     "name": "stderr",
     "output_type": "stream",
     "text": [
      "/home/sergey/.conda/envs/kaggle/lib/python3.6/site-packages/xgboost/core.py:587: FutureWarning: Series.base is deprecated and will be removed in a future version\n",
      "  if getattr(data, 'base', None) is not None and \\\n"
     ]
    },
    {
     "name": "stdout",
     "output_type": "stream",
     "text": [
      "train score (mean_absolute_error): 1.5906\n",
      "train score (mean_squared_error): 4.1767\n",
      "validation score (mean_absolute_error): 1.1641\n",
      "validation score (mean_squared_error): 2.4593\n",
      "Percentage of data thrown out: 0.04769498105714336%\n",
      " --------------- fold #3 out of -------------------\n"
     ]
    },
    {
     "name": "stderr",
     "output_type": "stream",
     "text": [
      "/home/sergey/.conda/envs/kaggle/lib/python3.6/site-packages/xgboost/core.py:587: FutureWarning: Series.base is deprecated and will be removed in a future version\n",
      "  if getattr(data, 'base', None) is not None and \\\n"
     ]
    },
    {
     "name": "stdout",
     "output_type": "stream",
     "text": [
      "train score (mean_absolute_error): 1.5188\n",
      "train score (mean_squared_error): 3.9952\n",
      "validation score (mean_absolute_error): 2.6952\n",
      "validation score (mean_squared_error): 10.5881\n",
      "Percentage of data thrown out: 0.04769498105714336%\n",
      " --------------- fold #4 out of -------------------\n"
     ]
    },
    {
     "name": "stderr",
     "output_type": "stream",
     "text": [
      "/home/sergey/.conda/envs/kaggle/lib/python3.6/site-packages/xgboost/core.py:587: FutureWarning: Series.base is deprecated and will be removed in a future version\n",
      "  if getattr(data, 'base', None) is not None and \\\n"
     ]
    },
    {
     "name": "stdout",
     "output_type": "stream",
     "text": [
      "train score (mean_absolute_error): 1.4705\n",
      "train score (mean_squared_error): 3.7600\n",
      "validation score (mean_absolute_error): 3.0164\n",
      "validation score (mean_squared_error): 13.4153\n",
      "Percentage of data thrown out: 0.02384749052857168%\n",
      " --------------- fold #5 out of -------------------\n"
     ]
    },
    {
     "name": "stderr",
     "output_type": "stream",
     "text": [
      "/home/sergey/.conda/envs/kaggle/lib/python3.6/site-packages/xgboost/core.py:587: FutureWarning: Series.base is deprecated and will be removed in a future version\n",
      "  if getattr(data, 'base', None) is not None and \\\n"
     ]
    },
    {
     "name": "stdout",
     "output_type": "stream",
     "text": [
      "train score (mean_absolute_error): 1.5363\n",
      "train score (mean_squared_error): 4.0816\n",
      "validation score (mean_absolute_error): 2.1771\n",
      "validation score (mean_squared_error): 5.7541\n",
      "Percentage of data thrown out: 0.04769498105714336%\n",
      " --------------- fold #6 out of -------------------\n"
     ]
    },
    {
     "name": "stderr",
     "output_type": "stream",
     "text": [
      "/home/sergey/.conda/envs/kaggle/lib/python3.6/site-packages/xgboost/core.py:587: FutureWarning: Series.base is deprecated and will be removed in a future version\n",
      "  if getattr(data, 'base', None) is not None and \\\n"
     ]
    },
    {
     "name": "stdout",
     "output_type": "stream",
     "text": [
      "train score (mean_absolute_error): 1.5467\n",
      "train score (mean_squared_error): 4.0877\n",
      "validation score (mean_absolute_error): 2.4008\n",
      "validation score (mean_squared_error): 9.3599\n",
      "Percentage of data thrown out: 0.04769498105714336%\n",
      " --------------- fold #7 out of -------------------\n"
     ]
    },
    {
     "name": "stderr",
     "output_type": "stream",
     "text": [
      "/home/sergey/.conda/envs/kaggle/lib/python3.6/site-packages/xgboost/core.py:587: FutureWarning: Series.base is deprecated and will be removed in a future version\n",
      "  if getattr(data, 'base', None) is not None and \\\n"
     ]
    },
    {
     "name": "stdout",
     "output_type": "stream",
     "text": [
      "train score (mean_absolute_error): 1.5997\n",
      "train score (mean_squared_error): 4.2882\n",
      "validation score (mean_absolute_error): 1.3173\n",
      "validation score (mean_squared_error): 3.1712\n",
      "Percentage of data thrown out: 0.02384749052857168%\n",
      " --------------- fold #8 out of -------------------\n"
     ]
    },
    {
     "name": "stderr",
     "output_type": "stream",
     "text": [
      "/home/sergey/.conda/envs/kaggle/lib/python3.6/site-packages/xgboost/core.py:587: FutureWarning: Series.base is deprecated and will be removed in a future version\n",
      "  if getattr(data, 'base', None) is not None and \\\n"
     ]
    },
    {
     "name": "stdout",
     "output_type": "stream",
     "text": [
      "train score (mean_absolute_error): 1.5307\n",
      "train score (mean_squared_error): 3.9466\n",
      "validation score (mean_absolute_error): 1.6145\n",
      "validation score (mean_squared_error): 3.4345\n",
      "['data_fname' 'preproc_name' 'preproc_params' 'folds_name' 'folds_params'\n",
      " 'model_name' 'model_params' 'mean_absolute_error' 'mean_squared_error']\n",
      "                                          data_fname    preproc_name  \\\n",
      "0  ../../data/e_lexa/train_proceded_not_smooth_da...  StandardScaler   \n",
      "\n",
      "               preproc_params  folds_name  \\\n",
      "0  {'name': 'StandardScaler'}  CustomFold   \n",
      "\n",
      "                                        folds_params    model_name  \\\n",
      "0  {'name': 'CustomFold', 'n_splits': 9, 'pad': 1...  XGBRegressor   \n",
      "\n",
      "                                        model_params  \\\n",
      "0  {'name': 'XGBRegressor', 'eta': 0.001, 'max_de...   \n",
      "\n",
      "                                 mean_absolute_error  \\\n",
      "0  [1.5986844171275978, 1.3462147676222662, 1.587...   \n",
      "\n",
      "                                  mean_squared_error  \n",
      "0  [4.346199805757559, 2.95835398891219, 4.306145...  \n",
      ".......................Training finished.........................\n",
      "Run 31:\n",
      "....................... Training model ..............................\n",
      "Percentage of data thrown out: 0.04769498105714336%\n",
      " --------------- fold #0 out of -------------------\n"
     ]
    },
    {
     "name": "stderr",
     "output_type": "stream",
     "text": [
      "/home/sergey/.conda/envs/kaggle/lib/python3.6/site-packages/xgboost/core.py:587: FutureWarning: Series.base is deprecated and will be removed in a future version\n",
      "  if getattr(data, 'base', None) is not None and \\\n"
     ]
    },
    {
     "name": "stdout",
     "output_type": "stream",
     "text": [
      "train score (mean_absolute_error): 1.3467\n",
      "train score (mean_squared_error): 3.1591\n",
      "validation score (mean_absolute_error): 4.1396\n",
      "validation score (mean_squared_error): 25.5288\n",
      "Percentage of data thrown out: 0.04769498105714336%\n",
      " --------------- fold #1 out of -------------------\n"
     ]
    },
    {
     "name": "stderr",
     "output_type": "stream",
     "text": [
      "/home/sergey/.conda/envs/kaggle/lib/python3.6/site-packages/xgboost/core.py:587: FutureWarning: Series.base is deprecated and will be removed in a future version\n",
      "  if getattr(data, 'base', None) is not None and \\\n"
     ]
    },
    {
     "name": "stdout",
     "output_type": "stream",
     "text": [
      "train score (mean_absolute_error): 1.3947\n",
      "train score (mean_squared_error): 3.3599\n",
      "validation score (mean_absolute_error): 3.3328\n",
      "validation score (mean_squared_error): 16.7449\n",
      "Percentage of data thrown out: 0.04769498105714336%\n",
      " --------------- fold #2 out of -------------------\n"
     ]
    },
    {
     "name": "stderr",
     "output_type": "stream",
     "text": [
      "/home/sergey/.conda/envs/kaggle/lib/python3.6/site-packages/xgboost/core.py:587: FutureWarning: Series.base is deprecated and will be removed in a future version\n",
      "  if getattr(data, 'base', None) is not None and \\\n"
     ]
    },
    {
     "name": "stdout",
     "output_type": "stream",
     "text": [
      "train score (mean_absolute_error): 1.4867\n",
      "train score (mean_squared_error): 3.8190\n",
      "validation score (mean_absolute_error): 2.5143\n",
      "validation score (mean_squared_error): 10.0729\n",
      "Percentage of data thrown out: 0.04769498105714336%\n",
      " --------------- fold #3 out of -------------------\n"
     ]
    },
    {
     "name": "stderr",
     "output_type": "stream",
     "text": [
      "/home/sergey/.conda/envs/kaggle/lib/python3.6/site-packages/xgboost/core.py:587: FutureWarning: Series.base is deprecated and will be removed in a future version\n",
      "  if getattr(data, 'base', None) is not None and \\\n"
     ]
    },
    {
     "name": "stdout",
     "output_type": "stream",
     "text": [
      "train score (mean_absolute_error): 1.5769\n",
      "train score (mean_squared_error): 4.2244\n",
      "validation score (mean_absolute_error): 1.5898\n",
      "validation score (mean_squared_error): 4.1292\n",
      "Percentage of data thrown out: 0.04769498105714336%\n",
      " --------------- fold #4 out of -------------------\n"
     ]
    },
    {
     "name": "stderr",
     "output_type": "stream",
     "text": [
      "/home/sergey/.conda/envs/kaggle/lib/python3.6/site-packages/xgboost/core.py:587: FutureWarning: Series.base is deprecated and will be removed in a future version\n",
      "  if getattr(data, 'base', None) is not None and \\\n"
     ]
    },
    {
     "name": "stdout",
     "output_type": "stream",
     "text": [
      "train score (mean_absolute_error): 1.5181\n",
      "train score (mean_squared_error): 3.8967\n",
      "validation score (mean_absolute_error): 1.4805\n",
      "validation score (mean_squared_error): 3.7715\n",
      "Percentage of data thrown out: 0.02384749052857168%\n",
      " --------------- fold #5 out of -------------------\n"
     ]
    },
    {
     "name": "stderr",
     "output_type": "stream",
     "text": [
      "/home/sergey/.conda/envs/kaggle/lib/python3.6/site-packages/xgboost/core.py:587: FutureWarning: Series.base is deprecated and will be removed in a future version\n",
      "  if getattr(data, 'base', None) is not None and \\\n"
     ]
    },
    {
     "name": "stdout",
     "output_type": "stream",
     "text": [
      "train score (mean_absolute_error): 1.5452\n",
      "train score (mean_squared_error): 4.0016\n",
      "validation score (mean_absolute_error): 2.1246\n",
      "validation score (mean_squared_error): 8.0216\n",
      "Percentage of data thrown out: 0.04769498105714336%\n",
      " --------------- fold #6 out of -------------------\n"
     ]
    },
    {
     "name": "stderr",
     "output_type": "stream",
     "text": [
      "/home/sergey/.conda/envs/kaggle/lib/python3.6/site-packages/xgboost/core.py:587: FutureWarning: Series.base is deprecated and will be removed in a future version\n",
      "  if getattr(data, 'base', None) is not None and \\\n"
     ]
    },
    {
     "name": "stdout",
     "output_type": "stream",
     "text": [
      "train score (mean_absolute_error): 1.4318\n",
      "train score (mean_squared_error): 3.6213\n",
      "validation score (mean_absolute_error): 2.6339\n",
      "validation score (mean_squared_error): 9.6873\n",
      "Percentage of data thrown out: 0.04769498105714336%\n",
      " --------------- fold #7 out of -------------------\n"
     ]
    },
    {
     "name": "stderr",
     "output_type": "stream",
     "text": [
      "/home/sergey/.conda/envs/kaggle/lib/python3.6/site-packages/xgboost/core.py:587: FutureWarning: Series.base is deprecated and will be removed in a future version\n",
      "  if getattr(data, 'base', None) is not None and \\\n"
     ]
    },
    {
     "name": "stdout",
     "output_type": "stream",
     "text": [
      "train score (mean_absolute_error): 1.4548\n",
      "train score (mean_squared_error): 3.7133\n",
      "validation score (mean_absolute_error): 3.1966\n",
      "validation score (mean_squared_error): 14.6874\n",
      "Percentage of data thrown out: 0.04769498105714336%\n",
      " --------------- fold #8 out of -------------------\n"
     ]
    },
    {
     "name": "stderr",
     "output_type": "stream",
     "text": [
      "/home/sergey/.conda/envs/kaggle/lib/python3.6/site-packages/xgboost/core.py:587: FutureWarning: Series.base is deprecated and will be removed in a future version\n",
      "  if getattr(data, 'base', None) is not None and \\\n"
     ]
    },
    {
     "name": "stdout",
     "output_type": "stream",
     "text": [
      "train score (mean_absolute_error): 1.4726\n",
      "train score (mean_squared_error): 3.7676\n",
      "validation score (mean_absolute_error): 2.9151\n",
      "validation score (mean_squared_error): 12.4770\n",
      "['data_fname' 'preproc_name' 'preproc_params' 'folds_name' 'folds_params'\n",
      " 'model_name' 'model_params' 'mean_absolute_error' 'mean_squared_error']\n",
      "                                          data_fname    preproc_name  \\\n",
      "0  ../../data/e_lexa/train_proceded_not_smooth_da...  StandardScaler   \n",
      "\n",
      "               preproc_params  folds_name  \\\n",
      "0  {'name': 'StandardScaler'}  CustomFold   \n",
      "\n",
      "                                        folds_params    model_name  \\\n",
      "0  {'name': 'CustomFold', 'n_splits': 9, 'pad': 1...  XGBRegressor   \n",
      "\n",
      "                                        model_params  \\\n",
      "0  {'name': 'XGBRegressor', 'eta': 0.001, 'max_de...   \n",
      "\n",
      "                                 mean_absolute_error  \\\n",
      "0  [1.3467401253600904, 4.139630285484493, 1.3946...   \n",
      "\n",
      "                                  mean_squared_error  \n",
      "0  [3.1591185287159886, 25.52884016959924, 3.3599...  \n",
      ".......................Training finished.........................\n",
      "Run 32:\n",
      "....................... Training model ..............................\n",
      "Percentage of data thrown out: 0.04769498105714336%\n",
      " --------------- fold #0 out of -------------------\n"
     ]
    },
    {
     "name": "stderr",
     "output_type": "stream",
     "text": [
      "/home/sergey/.conda/envs/kaggle/lib/python3.6/site-packages/xgboost/core.py:587: FutureWarning: Series.base is deprecated and will be removed in a future version\n",
      "  if getattr(data, 'base', None) is not None and \\\n"
     ]
    },
    {
     "name": "stdout",
     "output_type": "stream",
     "text": [
      "train score (mean_absolute_error): 1.6129\n",
      "train score (mean_squared_error): 4.3491\n",
      "validation score (mean_absolute_error): 1.5758\n",
      "validation score (mean_squared_error): 4.7162\n",
      "Percentage of data thrown out: 0.04769498105714336%\n",
      " --------------- fold #1 out of -------------------\n"
     ]
    },
    {
     "name": "stderr",
     "output_type": "stream",
     "text": [
      "/home/sergey/.conda/envs/kaggle/lib/python3.6/site-packages/xgboost/core.py:587: FutureWarning: Series.base is deprecated and will be removed in a future version\n",
      "  if getattr(data, 'base', None) is not None and \\\n"
     ]
    },
    {
     "name": "stdout",
     "output_type": "stream",
     "text": [
      "train score (mean_absolute_error): 1.4963\n",
      "train score (mean_squared_error): 3.9075\n",
      "validation score (mean_absolute_error): 2.2654\n",
      "validation score (mean_squared_error): 8.5197\n",
      "Percentage of data thrown out: 0.04769498105714336%\n",
      " --------------- fold #2 out of -------------------\n"
     ]
    },
    {
     "name": "stderr",
     "output_type": "stream",
     "text": [
      "/home/sergey/.conda/envs/kaggle/lib/python3.6/site-packages/xgboost/core.py:587: FutureWarning: Series.base is deprecated and will be removed in a future version\n",
      "  if getattr(data, 'base', None) is not None and \\\n"
     ]
    },
    {
     "name": "stdout",
     "output_type": "stream",
     "text": [
      "train score (mean_absolute_error): 1.5294\n",
      "train score (mean_squared_error): 3.9376\n",
      "validation score (mean_absolute_error): 2.9419\n",
      "validation score (mean_squared_error): 11.4145\n",
      "Percentage of data thrown out: 0.04769498105714336%\n",
      " --------------- fold #3 out of -------------------\n"
     ]
    },
    {
     "name": "stderr",
     "output_type": "stream",
     "text": [
      "/home/sergey/.conda/envs/kaggle/lib/python3.6/site-packages/xgboost/core.py:587: FutureWarning: Series.base is deprecated and will be removed in a future version\n",
      "  if getattr(data, 'base', None) is not None and \\\n"
     ]
    },
    {
     "name": "stdout",
     "output_type": "stream",
     "text": [
      "train score (mean_absolute_error): 1.5834\n",
      "train score (mean_squared_error): 4.2514\n",
      "validation score (mean_absolute_error): 1.3799\n",
      "validation score (mean_squared_error): 3.4701\n",
      "Percentage of data thrown out: 0.04769498105714336%\n",
      " --------------- fold #4 out of -------------------\n"
     ]
    },
    {
     "name": "stderr",
     "output_type": "stream",
     "text": [
      "/home/sergey/.conda/envs/kaggle/lib/python3.6/site-packages/xgboost/core.py:587: FutureWarning: Series.base is deprecated and will be removed in a future version\n",
      "  if getattr(data, 'base', None) is not None and \\\n"
     ]
    },
    {
     "name": "stdout",
     "output_type": "stream",
     "text": [
      "train score (mean_absolute_error): 1.5350\n",
      "train score (mean_squared_error): 4.0348\n",
      "validation score (mean_absolute_error): 3.4352\n",
      "validation score (mean_squared_error): 15.4829\n",
      "Percentage of data thrown out: 0.02384749052857168%\n",
      " --------------- fold #5 out of -------------------\n"
     ]
    },
    {
     "name": "stderr",
     "output_type": "stream",
     "text": [
      "/home/sergey/.conda/envs/kaggle/lib/python3.6/site-packages/xgboost/core.py:587: FutureWarning: Series.base is deprecated and will be removed in a future version\n",
      "  if getattr(data, 'base', None) is not None and \\\n"
     ]
    },
    {
     "name": "stdout",
     "output_type": "stream",
     "text": [
      "train score (mean_absolute_error): 1.5545\n",
      "train score (mean_squared_error): 4.0603\n",
      "validation score (mean_absolute_error): 2.2764\n",
      "validation score (mean_squared_error): 8.8937\n",
      "Percentage of data thrown out: 0.04769498105714336%\n",
      " --------------- fold #6 out of -------------------\n"
     ]
    },
    {
     "name": "stderr",
     "output_type": "stream",
     "text": [
      "/home/sergey/.conda/envs/kaggle/lib/python3.6/site-packages/xgboost/core.py:587: FutureWarning: Series.base is deprecated and will be removed in a future version\n",
      "  if getattr(data, 'base', None) is not None and \\\n"
     ]
    },
    {
     "name": "stdout",
     "output_type": "stream",
     "text": [
      "train score (mean_absolute_error): 1.5748\n",
      "train score (mean_squared_error): 4.2162\n",
      "validation score (mean_absolute_error): 2.0451\n",
      "validation score (mean_squared_error): 6.3995\n",
      "Percentage of data thrown out: 0.02384749052857168%\n",
      " --------------- fold #7 out of -------------------\n"
     ]
    },
    {
     "name": "stderr",
     "output_type": "stream",
     "text": [
      "/home/sergey/.conda/envs/kaggle/lib/python3.6/site-packages/xgboost/core.py:587: FutureWarning: Series.base is deprecated and will be removed in a future version\n",
      "  if getattr(data, 'base', None) is not None and \\\n"
     ]
    },
    {
     "name": "stdout",
     "output_type": "stream",
     "text": [
      "train score (mean_absolute_error): 1.5291\n",
      "train score (mean_squared_error): 4.0158\n",
      "validation score (mean_absolute_error): 2.0997\n",
      "validation score (mean_squared_error): 6.7133\n",
      "Percentage of data thrown out: 0.04769498105714336%\n",
      " --------------- fold #8 out of -------------------\n"
     ]
    },
    {
     "name": "stderr",
     "output_type": "stream",
     "text": [
      "/home/sergey/.conda/envs/kaggle/lib/python3.6/site-packages/xgboost/core.py:587: FutureWarning: Series.base is deprecated and will be removed in a future version\n",
      "  if getattr(data, 'base', None) is not None and \\\n"
     ]
    },
    {
     "name": "stdout",
     "output_type": "stream",
     "text": [
      "train score (mean_absolute_error): 1.5643\n",
      "train score (mean_squared_error): 4.2313\n",
      "validation score (mean_absolute_error): 2.3724\n",
      "validation score (mean_squared_error): 8.1670\n",
      "['data_fname' 'preproc_name' 'preproc_params' 'folds_name' 'folds_params'\n",
      " 'model_name' 'model_params' 'mean_absolute_error' 'mean_squared_error']\n",
      "                                          data_fname    preproc_name  \\\n",
      "0  ../../data/e_lexa/train_proceded_not_smooth_da...  StandardScaler   \n",
      "\n",
      "               preproc_params  folds_name  \\\n",
      "0  {'name': 'StandardScaler'}  CustomFold   \n",
      "\n",
      "                                        folds_params    model_name  \\\n",
      "0  {'name': 'CustomFold', 'n_splits': 9, 'pad': 1...  XGBRegressor   \n",
      "\n",
      "                                        model_params  \\\n",
      "0  {'name': 'XGBRegressor', 'eta': 0.001, 'max_de...   \n",
      "\n",
      "                                 mean_absolute_error  \\\n",
      "0  [1.612945431626768, 1.575822562138665, 1.49628...   \n",
      "\n",
      "                                  mean_squared_error  \n",
      "0  [4.34914723605006, 4.7162332914787255, 3.90752...  \n",
      ".......................Training finished.........................\n",
      "Run 33:\n",
      "....................... Training model ..............................\n",
      "Percentage of data thrown out: 0.04769498105714336%\n",
      " --------------- fold #0 out of -------------------\n"
     ]
    },
    {
     "name": "stderr",
     "output_type": "stream",
     "text": [
      "/home/sergey/.conda/envs/kaggle/lib/python3.6/site-packages/xgboost/core.py:587: FutureWarning: Series.base is deprecated and will be removed in a future version\n",
      "  if getattr(data, 'base', None) is not None and \\\n"
     ]
    },
    {
     "name": "stdout",
     "output_type": "stream",
     "text": [
      "train score (mean_absolute_error): 1.6070\n",
      "train score (mean_squared_error): 4.3197\n",
      "validation score (mean_absolute_error): 1.3345\n",
      "validation score (mean_squared_error): 3.4460\n",
      "Percentage of data thrown out: 0.04769498105714336%\n",
      " --------------- fold #1 out of -------------------\n"
     ]
    },
    {
     "name": "stderr",
     "output_type": "stream",
     "text": [
      "/home/sergey/.conda/envs/kaggle/lib/python3.6/site-packages/xgboost/core.py:587: FutureWarning: Series.base is deprecated and will be removed in a future version\n",
      "  if getattr(data, 'base', None) is not None and \\\n"
     ]
    },
    {
     "name": "stdout",
     "output_type": "stream",
     "text": [
      "train score (mean_absolute_error): 1.5677\n",
      "train score (mean_squared_error): 4.1715\n",
      "validation score (mean_absolute_error): 2.2183\n",
      "validation score (mean_squared_error): 8.5324\n",
      "Percentage of data thrown out: 0.04769498105714336%\n",
      " --------------- fold #2 out of -------------------\n"
     ]
    },
    {
     "name": "stderr",
     "output_type": "stream",
     "text": [
      "/home/sergey/.conda/envs/kaggle/lib/python3.6/site-packages/xgboost/core.py:587: FutureWarning: Series.base is deprecated and will be removed in a future version\n",
      "  if getattr(data, 'base', None) is not None and \\\n"
     ]
    },
    {
     "name": "stdout",
     "output_type": "stream",
     "text": [
      "train score (mean_absolute_error): 1.4980\n",
      "train score (mean_squared_error): 3.8362\n",
      "validation score (mean_absolute_error): 2.2596\n",
      "validation score (mean_squared_error): 8.3500\n",
      "Percentage of data thrown out: 0.04769498105714336%\n",
      " --------------- fold #3 out of -------------------\n"
     ]
    },
    {
     "name": "stderr",
     "output_type": "stream",
     "text": [
      "/home/sergey/.conda/envs/kaggle/lib/python3.6/site-packages/xgboost/core.py:587: FutureWarning: Series.base is deprecated and will be removed in a future version\n",
      "  if getattr(data, 'base', None) is not None and \\\n"
     ]
    },
    {
     "name": "stdout",
     "output_type": "stream",
     "text": [
      "train score (mean_absolute_error): 1.5230\n",
      "train score (mean_squared_error): 3.9459\n",
      "validation score (mean_absolute_error): 2.1948\n",
      "validation score (mean_squared_error): 7.2150\n",
      "Percentage of data thrown out: 0.04769498105714336%\n",
      " --------------- fold #4 out of -------------------\n"
     ]
    },
    {
     "name": "stderr",
     "output_type": "stream",
     "text": [
      "/home/sergey/.conda/envs/kaggle/lib/python3.6/site-packages/xgboost/core.py:587: FutureWarning: Series.base is deprecated and will be removed in a future version\n",
      "  if getattr(data, 'base', None) is not None and \\\n"
     ]
    },
    {
     "name": "stdout",
     "output_type": "stream",
     "text": [
      "train score (mean_absolute_error): 1.4618\n",
      "train score (mean_squared_error): 3.8043\n",
      "validation score (mean_absolute_error): 2.7088\n",
      "validation score (mean_squared_error): 10.2453\n",
      "Percentage of data thrown out: 0.04769498105714336%\n",
      " --------------- fold #5 out of -------------------\n"
     ]
    },
    {
     "name": "stderr",
     "output_type": "stream",
     "text": [
      "/home/sergey/.conda/envs/kaggle/lib/python3.6/site-packages/xgboost/core.py:587: FutureWarning: Series.base is deprecated and will be removed in a future version\n",
      "  if getattr(data, 'base', None) is not None and \\\n"
     ]
    },
    {
     "name": "stdout",
     "output_type": "stream",
     "text": [
      "train score (mean_absolute_error): 1.5010\n",
      "train score (mean_squared_error): 3.7998\n",
      "validation score (mean_absolute_error): 2.7396\n",
      "validation score (mean_squared_error): 10.5254\n",
      "Percentage of data thrown out: 0.04769498105714336%\n",
      " --------------- fold #6 out of -------------------\n"
     ]
    },
    {
     "name": "stderr",
     "output_type": "stream",
     "text": [
      "/home/sergey/.conda/envs/kaggle/lib/python3.6/site-packages/xgboost/core.py:587: FutureWarning: Series.base is deprecated and will be removed in a future version\n",
      "  if getattr(data, 'base', None) is not None and \\\n"
     ]
    },
    {
     "name": "stdout",
     "output_type": "stream",
     "text": [
      "train score (mean_absolute_error): 1.6125\n",
      "train score (mean_squared_error): 4.4397\n",
      "validation score (mean_absolute_error): 1.4965\n",
      "validation score (mean_squared_error): 3.3282\n",
      "Percentage of data thrown out: 0.04769498105714336%\n",
      " --------------- fold #7 out of -------------------\n"
     ]
    },
    {
     "name": "stderr",
     "output_type": "stream",
     "text": [
      "/home/sergey/.conda/envs/kaggle/lib/python3.6/site-packages/xgboost/core.py:587: FutureWarning: Series.base is deprecated and will be removed in a future version\n",
      "  if getattr(data, 'base', None) is not None and \\\n"
     ]
    },
    {
     "name": "stdout",
     "output_type": "stream",
     "text": [
      "train score (mean_absolute_error): 1.5686\n",
      "train score (mean_squared_error): 4.1158\n",
      "validation score (mean_absolute_error): 1.4164\n",
      "validation score (mean_squared_error): 3.5675\n",
      "Percentage of data thrown out: 0.04769498105714336%\n",
      " --------------- fold #8 out of -------------------\n"
     ]
    },
    {
     "name": "stderr",
     "output_type": "stream",
     "text": [
      "/home/sergey/.conda/envs/kaggle/lib/python3.6/site-packages/xgboost/core.py:587: FutureWarning: Series.base is deprecated and will be removed in a future version\n",
      "  if getattr(data, 'base', None) is not None and \\\n"
     ]
    },
    {
     "name": "stdout",
     "output_type": "stream",
     "text": [
      "train score (mean_absolute_error): 1.5370\n",
      "train score (mean_squared_error): 4.0769\n",
      "validation score (mean_absolute_error): 2.7992\n",
      "validation score (mean_squared_error): 11.7427\n",
      "['data_fname' 'preproc_name' 'preproc_params' 'folds_name' 'folds_params'\n",
      " 'model_name' 'model_params' 'mean_absolute_error' 'mean_squared_error']\n",
      "                                          data_fname    preproc_name  \\\n",
      "0  ../../data/e_lexa/train_proceded_not_smooth_da...  StandardScaler   \n",
      "\n",
      "               preproc_params  folds_name  \\\n",
      "0  {'name': 'StandardScaler'}  CustomFold   \n",
      "\n",
      "                                        folds_params    model_name  \\\n",
      "0  {'name': 'CustomFold', 'n_splits': 9, 'pad': 1...  XGBRegressor   \n",
      "\n",
      "                                        model_params  \\\n",
      "0  {'name': 'XGBRegressor', 'eta': 0.001, 'max_de...   \n",
      "\n",
      "                                 mean_absolute_error  \\\n",
      "0  [1.606971391096353, 1.3345358488064594, 1.5677...   \n",
      "\n",
      "                                  mean_squared_error  \n",
      "0  [4.319704358176338, 3.4459952925189534, 4.1715...  \n",
      ".......................Training finished.........................\n",
      "Run 34:\n",
      "....................... Training model ..............................\n",
      "Percentage of data thrown out: 0.04769498105714336%\n",
      " --------------- fold #0 out of -------------------\n"
     ]
    },
    {
     "name": "stderr",
     "output_type": "stream",
     "text": [
      "/home/sergey/.conda/envs/kaggle/lib/python3.6/site-packages/xgboost/core.py:587: FutureWarning: Series.base is deprecated and will be removed in a future version\n",
      "  if getattr(data, 'base', None) is not None and \\\n"
     ]
    },
    {
     "name": "stdout",
     "output_type": "stream",
     "text": [
      "train score (mean_absolute_error): 1.5647\n",
      "train score (mean_squared_error): 4.1909\n",
      "validation score (mean_absolute_error): 1.6489\n",
      "validation score (mean_squared_error): 4.2563\n",
      "Percentage of data thrown out: 0.04769498105714336%\n",
      " --------------- fold #1 out of -------------------\n"
     ]
    },
    {
     "name": "stderr",
     "output_type": "stream",
     "text": [
      "/home/sergey/.conda/envs/kaggle/lib/python3.6/site-packages/xgboost/core.py:587: FutureWarning: Series.base is deprecated and will be removed in a future version\n",
      "  if getattr(data, 'base', None) is not None and \\\n"
     ]
    },
    {
     "name": "stdout",
     "output_type": "stream",
     "text": [
      "train score (mean_absolute_error): 1.4621\n",
      "train score (mean_squared_error): 3.6989\n",
      "validation score (mean_absolute_error): 3.1780\n",
      "validation score (mean_squared_error): 14.2828\n",
      "Percentage of data thrown out: 0.04769498105714336%\n",
      " --------------- fold #2 out of -------------------\n"
     ]
    },
    {
     "name": "stderr",
     "output_type": "stream",
     "text": [
      "/home/sergey/.conda/envs/kaggle/lib/python3.6/site-packages/xgboost/core.py:587: FutureWarning: Series.base is deprecated and will be removed in a future version\n",
      "  if getattr(data, 'base', None) is not None and \\\n"
     ]
    },
    {
     "name": "stdout",
     "output_type": "stream",
     "text": [
      "train score (mean_absolute_error): 1.3695\n",
      "train score (mean_squared_error): 3.2709\n",
      "validation score (mean_absolute_error): 4.1268\n",
      "validation score (mean_squared_error): 24.3697\n",
      "Percentage of data thrown out: 0.04769498105714336%\n",
      " --------------- fold #3 out of -------------------\n"
     ]
    },
    {
     "name": "stderr",
     "output_type": "stream",
     "text": [
      "/home/sergey/.conda/envs/kaggle/lib/python3.6/site-packages/xgboost/core.py:587: FutureWarning: Series.base is deprecated and will be removed in a future version\n",
      "  if getattr(data, 'base', None) is not None and \\\n"
     ]
    },
    {
     "name": "stdout",
     "output_type": "stream",
     "text": [
      "train score (mean_absolute_error): 1.5063\n",
      "train score (mean_squared_error): 3.9871\n",
      "validation score (mean_absolute_error): 2.1687\n",
      "validation score (mean_squared_error): 7.6484\n",
      "Percentage of data thrown out: 0.04769498105714336%\n",
      " --------------- fold #4 out of -------------------\n"
     ]
    },
    {
     "name": "stderr",
     "output_type": "stream",
     "text": [
      "/home/sergey/.conda/envs/kaggle/lib/python3.6/site-packages/xgboost/core.py:587: FutureWarning: Series.base is deprecated and will be removed in a future version\n",
      "  if getattr(data, 'base', None) is not None and \\\n"
     ]
    },
    {
     "name": "stdout",
     "output_type": "stream",
     "text": [
      "train score (mean_absolute_error): 1.5341\n",
      "train score (mean_squared_error): 3.9755\n",
      "validation score (mean_absolute_error): 2.1122\n",
      "validation score (mean_squared_error): 6.9954\n",
      "Percentage of data thrown out: 0.04769498105714336%\n",
      " --------------- fold #5 out of -------------------\n"
     ]
    },
    {
     "name": "stderr",
     "output_type": "stream",
     "text": [
      "/home/sergey/.conda/envs/kaggle/lib/python3.6/site-packages/xgboost/core.py:587: FutureWarning: Series.base is deprecated and will be removed in a future version\n",
      "  if getattr(data, 'base', None) is not None and \\\n"
     ]
    },
    {
     "name": "stdout",
     "output_type": "stream",
     "text": [
      "train score (mean_absolute_error): 1.3321\n",
      "train score (mean_squared_error): 3.0970\n",
      "validation score (mean_absolute_error): 4.0418\n",
      "validation score (mean_squared_error): 24.0885\n",
      "Percentage of data thrown out: 0.04769498105714336%\n",
      " --------------- fold #6 out of -------------------\n"
     ]
    },
    {
     "name": "stderr",
     "output_type": "stream",
     "text": [
      "/home/sergey/.conda/envs/kaggle/lib/python3.6/site-packages/xgboost/core.py:587: FutureWarning: Series.base is deprecated and will be removed in a future version\n",
      "  if getattr(data, 'base', None) is not None and \\\n"
     ]
    },
    {
     "name": "stdout",
     "output_type": "stream",
     "text": [
      "train score (mean_absolute_error): 1.4666\n",
      "train score (mean_squared_error): 3.7578\n",
      "validation score (mean_absolute_error): 2.1968\n",
      "validation score (mean_squared_error): 7.8714\n",
      "Percentage of data thrown out: 0.04769498105714336%\n",
      " --------------- fold #7 out of -------------------\n"
     ]
    },
    {
     "name": "stderr",
     "output_type": "stream",
     "text": [
      "/home/sergey/.conda/envs/kaggle/lib/python3.6/site-packages/xgboost/core.py:587: FutureWarning: Series.base is deprecated and will be removed in a future version\n",
      "  if getattr(data, 'base', None) is not None and \\\n"
     ]
    },
    {
     "name": "stdout",
     "output_type": "stream",
     "text": [
      "train score (mean_absolute_error): 1.5459\n",
      "train score (mean_squared_error): 4.0836\n",
      "validation score (mean_absolute_error): 1.6735\n",
      "validation score (mean_squared_error): 4.2953\n",
      "Percentage of data thrown out: 0.04769498105714336%\n",
      " --------------- fold #8 out of -------------------\n"
     ]
    },
    {
     "name": "stderr",
     "output_type": "stream",
     "text": [
      "/home/sergey/.conda/envs/kaggle/lib/python3.6/site-packages/xgboost/core.py:587: FutureWarning: Series.base is deprecated and will be removed in a future version\n",
      "  if getattr(data, 'base', None) is not None and \\\n"
     ]
    },
    {
     "name": "stdout",
     "output_type": "stream",
     "text": [
      "train score (mean_absolute_error): 1.4398\n",
      "train score (mean_squared_error): 3.6572\n",
      "validation score (mean_absolute_error): 2.6496\n",
      "validation score (mean_squared_error): 9.8973\n",
      "['data_fname' 'preproc_name' 'preproc_params' 'folds_name' 'folds_params'\n",
      " 'model_name' 'model_params' 'mean_absolute_error' 'mean_squared_error']\n",
      "                                          data_fname    preproc_name  \\\n",
      "0  ../../data/e_lexa/train_proceded_not_smooth_da...  StandardScaler   \n",
      "\n",
      "               preproc_params  folds_name  \\\n",
      "0  {'name': 'StandardScaler'}  CustomFold   \n",
      "\n",
      "                                        folds_params    model_name  \\\n",
      "0  {'name': 'CustomFold', 'n_splits': 9, 'pad': 1...  XGBRegressor   \n",
      "\n",
      "                                        model_params  \\\n",
      "0  {'name': 'XGBRegressor', 'eta': 0.001, 'max_de...   \n",
      "\n",
      "                                 mean_absolute_error  \\\n",
      "0  [1.5647102967046222, 1.648904065912389, 1.4621...   \n",
      "\n",
      "                                  mean_squared_error  \n",
      "0  [4.190896917945085, 4.256333103485863, 3.69891...  \n",
      ".......................Training finished.........................\n",
      "Run 35:\n",
      "....................... Training model ..............................\n",
      "Percentage of data thrown out: 0.04769498105714336%\n",
      " --------------- fold #0 out of -------------------\n"
     ]
    },
    {
     "name": "stderr",
     "output_type": "stream",
     "text": [
      "/home/sergey/.conda/envs/kaggle/lib/python3.6/site-packages/xgboost/core.py:587: FutureWarning: Series.base is deprecated and will be removed in a future version\n",
      "  if getattr(data, 'base', None) is not None and \\\n"
     ]
    },
    {
     "name": "stdout",
     "output_type": "stream",
     "text": [
      "train score (mean_absolute_error): 1.5953\n",
      "train score (mean_squared_error): 4.3026\n",
      "validation score (mean_absolute_error): 2.7020\n",
      "validation score (mean_squared_error): 10.8941\n",
      "Percentage of data thrown out: 0.04769498105714336%\n",
      " --------------- fold #1 out of -------------------\n"
     ]
    },
    {
     "name": "stderr",
     "output_type": "stream",
     "text": [
      "/home/sergey/.conda/envs/kaggle/lib/python3.6/site-packages/xgboost/core.py:587: FutureWarning: Series.base is deprecated and will be removed in a future version\n",
      "  if getattr(data, 'base', None) is not None and \\\n"
     ]
    },
    {
     "name": "stdout",
     "output_type": "stream",
     "text": [
      "train score (mean_absolute_error): 1.5361\n",
      "train score (mean_squared_error): 4.0912\n",
      "validation score (mean_absolute_error): 3.0407\n",
      "validation score (mean_squared_error): 12.7183\n",
      "Percentage of data thrown out: 0.04769498105714336%\n",
      " --------------- fold #2 out of -------------------\n"
     ]
    },
    {
     "name": "stderr",
     "output_type": "stream",
     "text": [
      "/home/sergey/.conda/envs/kaggle/lib/python3.6/site-packages/xgboost/core.py:587: FutureWarning: Series.base is deprecated and will be removed in a future version\n",
      "  if getattr(data, 'base', None) is not None and \\\n"
     ]
    },
    {
     "name": "stdout",
     "output_type": "stream",
     "text": [
      "train score (mean_absolute_error): 1.6196\n",
      "train score (mean_squared_error): 4.4125\n",
      "validation score (mean_absolute_error): 1.3851\n",
      "validation score (mean_squared_error): 3.5626\n",
      "Percentage of data thrown out: 0.04769498105714336%\n",
      " --------------- fold #3 out of -------------------\n"
     ]
    },
    {
     "name": "stderr",
     "output_type": "stream",
     "text": [
      "/home/sergey/.conda/envs/kaggle/lib/python3.6/site-packages/xgboost/core.py:587: FutureWarning: Series.base is deprecated and will be removed in a future version\n",
      "  if getattr(data, 'base', None) is not None and \\\n"
     ]
    },
    {
     "name": "stdout",
     "output_type": "stream",
     "text": [
      "train score (mean_absolute_error): 1.5372\n",
      "train score (mean_squared_error): 4.0587\n",
      "validation score (mean_absolute_error): 2.0996\n",
      "validation score (mean_squared_error): 7.4514\n",
      "Percentage of data thrown out: 0.04769498105714336%\n",
      " --------------- fold #4 out of -------------------\n"
     ]
    },
    {
     "name": "stderr",
     "output_type": "stream",
     "text": [
      "/home/sergey/.conda/envs/kaggle/lib/python3.6/site-packages/xgboost/core.py:587: FutureWarning: Series.base is deprecated and will be removed in a future version\n",
      "  if getattr(data, 'base', None) is not None and \\\n"
     ]
    },
    {
     "name": "stdout",
     "output_type": "stream",
     "text": [
      "train score (mean_absolute_error): 1.6223\n",
      "train score (mean_squared_error): 4.3703\n",
      "validation score (mean_absolute_error): 1.2707\n",
      "validation score (mean_squared_error): 2.8138\n",
      "Percentage of data thrown out: 0.04769498105714336%\n",
      " --------------- fold #5 out of -------------------\n"
     ]
    },
    {
     "name": "stderr",
     "output_type": "stream",
     "text": [
      "/home/sergey/.conda/envs/kaggle/lib/python3.6/site-packages/xgboost/core.py:587: FutureWarning: Series.base is deprecated and will be removed in a future version\n",
      "  if getattr(data, 'base', None) is not None and \\\n"
     ]
    },
    {
     "name": "stdout",
     "output_type": "stream",
     "text": [
      "train score (mean_absolute_error): 1.5255\n",
      "train score (mean_squared_error): 3.9371\n",
      "validation score (mean_absolute_error): 2.8005\n",
      "validation score (mean_squared_error): 10.7298\n",
      "Percentage of data thrown out: 0.04769498105714336%\n",
      " --------------- fold #6 out of -------------------\n"
     ]
    },
    {
     "name": "stderr",
     "output_type": "stream",
     "text": [
      "/home/sergey/.conda/envs/kaggle/lib/python3.6/site-packages/xgboost/core.py:587: FutureWarning: Series.base is deprecated and will be removed in a future version\n",
      "  if getattr(data, 'base', None) is not None and \\\n"
     ]
    },
    {
     "name": "stdout",
     "output_type": "stream",
     "text": [
      "train score (mean_absolute_error): 1.3823\n",
      "train score (mean_squared_error): 3.2818\n",
      "validation score (mean_absolute_error): 3.8992\n",
      "validation score (mean_squared_error): 21.1799\n",
      "Percentage of data thrown out: 0.04769498105714336%\n",
      " --------------- fold #7 out of -------------------\n"
     ]
    },
    {
     "name": "stderr",
     "output_type": "stream",
     "text": [
      "/home/sergey/.conda/envs/kaggle/lib/python3.6/site-packages/xgboost/core.py:587: FutureWarning: Series.base is deprecated and will be removed in a future version\n",
      "  if getattr(data, 'base', None) is not None and \\\n"
     ]
    },
    {
     "name": "stdout",
     "output_type": "stream",
     "text": [
      "train score (mean_absolute_error): 1.4516\n",
      "train score (mean_squared_error): 3.7051\n",
      "validation score (mean_absolute_error): 2.0238\n",
      "validation score (mean_squared_error): 6.9489\n",
      "Percentage of data thrown out: 0.04769498105714336%\n",
      " --------------- fold #8 out of -------------------\n"
     ]
    },
    {
     "name": "stderr",
     "output_type": "stream",
     "text": [
      "/home/sergey/.conda/envs/kaggle/lib/python3.6/site-packages/xgboost/core.py:587: FutureWarning: Series.base is deprecated and will be removed in a future version\n",
      "  if getattr(data, 'base', None) is not None and \\\n"
     ]
    },
    {
     "name": "stdout",
     "output_type": "stream",
     "text": [
      "train score (mean_absolute_error): 1.4836\n",
      "train score (mean_squared_error): 3.8155\n",
      "validation score (mean_absolute_error): 2.9457\n",
      "validation score (mean_squared_error): 12.1728\n",
      "['data_fname' 'preproc_name' 'preproc_params' 'folds_name' 'folds_params'\n",
      " 'model_name' 'model_params' 'mean_absolute_error' 'mean_squared_error']\n",
      "                                          data_fname    preproc_name  \\\n",
      "0  ../../data/e_lexa/train_proceded_not_smooth_da...  StandardScaler   \n",
      "\n",
      "               preproc_params  folds_name  \\\n",
      "0  {'name': 'StandardScaler'}  CustomFold   \n",
      "\n",
      "                                        folds_params    model_name  \\\n",
      "0  {'name': 'CustomFold', 'n_splits': 9, 'pad': 1...  XGBRegressor   \n",
      "\n",
      "                                        model_params  \\\n",
      "0  {'name': 'XGBRegressor', 'eta': 0.001, 'max_de...   \n",
      "\n",
      "                                 mean_absolute_error  \\\n",
      "0  [1.595302713749141, 2.7020498024667043, 1.5361...   \n",
      "\n",
      "                                  mean_squared_error  \n",
      "0  [4.302646070526614, 10.894106733208435, 4.0911...  \n",
      ".......................Training finished.........................\n",
      "Run 36:\n",
      "....................... Training model ..............................\n",
      "Percentage of data thrown out: 0.04769498105714336%\n",
      " --------------- fold #0 out of -------------------\n"
     ]
    },
    {
     "name": "stderr",
     "output_type": "stream",
     "text": [
      "/home/sergey/.conda/envs/kaggle/lib/python3.6/site-packages/xgboost/core.py:587: FutureWarning: Series.base is deprecated and will be removed in a future version\n",
      "  if getattr(data, 'base', None) is not None and \\\n"
     ]
    },
    {
     "name": "stdout",
     "output_type": "stream",
     "text": [
      "train score (mean_absolute_error): 1.4825\n",
      "train score (mean_squared_error): 3.9004\n",
      "validation score (mean_absolute_error): 2.6648\n",
      "validation score (mean_squared_error): 10.0501\n",
      "Percentage of data thrown out: 0.04769498105714336%\n",
      " --------------- fold #1 out of -------------------\n"
     ]
    },
    {
     "name": "stderr",
     "output_type": "stream",
     "text": [
      "/home/sergey/.conda/envs/kaggle/lib/python3.6/site-packages/xgboost/core.py:587: FutureWarning: Series.base is deprecated and will be removed in a future version\n",
      "  if getattr(data, 'base', None) is not None and \\\n"
     ]
    },
    {
     "name": "stdout",
     "output_type": "stream",
     "text": [
      "train score (mean_absolute_error): 1.5029\n",
      "train score (mean_squared_error): 3.9233\n",
      "validation score (mean_absolute_error): 2.3016\n",
      "validation score (mean_squared_error): 7.6661\n",
      "Percentage of data thrown out: 0.02384749052857168%\n",
      " --------------- fold #2 out of -------------------\n"
     ]
    },
    {
     "name": "stderr",
     "output_type": "stream",
     "text": [
      "/home/sergey/.conda/envs/kaggle/lib/python3.6/site-packages/xgboost/core.py:587: FutureWarning: Series.base is deprecated and will be removed in a future version\n",
      "  if getattr(data, 'base', None) is not None and \\\n"
     ]
    },
    {
     "name": "stdout",
     "output_type": "stream",
     "text": [
      "train score (mean_absolute_error): 1.5419\n",
      "train score (mean_squared_error): 4.1542\n",
      "validation score (mean_absolute_error): 2.6089\n",
      "validation score (mean_squared_error): 9.9365\n",
      "Percentage of data thrown out: 0.04769498105714336%\n",
      " --------------- fold #3 out of -------------------\n"
     ]
    },
    {
     "name": "stderr",
     "output_type": "stream",
     "text": [
      "/home/sergey/.conda/envs/kaggle/lib/python3.6/site-packages/xgboost/core.py:587: FutureWarning: Series.base is deprecated and will be removed in a future version\n",
      "  if getattr(data, 'base', None) is not None and \\\n"
     ]
    },
    {
     "name": "stdout",
     "output_type": "stream",
     "text": [
      "train score (mean_absolute_error): 1.6262\n",
      "train score (mean_squared_error): 4.4454\n",
      "validation score (mean_absolute_error): 1.4392\n",
      "validation score (mean_squared_error): 3.7262\n",
      "Percentage of data thrown out: 0.04769498105714336%\n",
      " --------------- fold #4 out of -------------------\n"
     ]
    },
    {
     "name": "stderr",
     "output_type": "stream",
     "text": [
      "/home/sergey/.conda/envs/kaggle/lib/python3.6/site-packages/xgboost/core.py:587: FutureWarning: Series.base is deprecated and will be removed in a future version\n",
      "  if getattr(data, 'base', None) is not None and \\\n"
     ]
    },
    {
     "name": "stdout",
     "output_type": "stream",
     "text": [
      "train score (mean_absolute_error): 1.6541\n",
      "train score (mean_squared_error): 4.5653\n",
      "validation score (mean_absolute_error): 1.1657\n",
      "validation score (mean_squared_error): 2.4927\n",
      "Percentage of data thrown out: 0.04769498105714336%\n",
      " --------------- fold #5 out of -------------------\n"
     ]
    },
    {
     "name": "stderr",
     "output_type": "stream",
     "text": [
      "/home/sergey/.conda/envs/kaggle/lib/python3.6/site-packages/xgboost/core.py:587: FutureWarning: Series.base is deprecated and will be removed in a future version\n",
      "  if getattr(data, 'base', None) is not None and \\\n"
     ]
    },
    {
     "name": "stdout",
     "output_type": "stream",
     "text": [
      "train score (mean_absolute_error): 1.4418\n",
      "train score (mean_squared_error): 3.6663\n",
      "validation score (mean_absolute_error): 2.5669\n",
      "validation score (mean_squared_error): 9.7283\n",
      "Percentage of data thrown out: 0.04769498105714336%\n",
      " --------------- fold #6 out of -------------------\n"
     ]
    },
    {
     "name": "stderr",
     "output_type": "stream",
     "text": [
      "/home/sergey/.conda/envs/kaggle/lib/python3.6/site-packages/xgboost/core.py:587: FutureWarning: Series.base is deprecated and will be removed in a future version\n",
      "  if getattr(data, 'base', None) is not None and \\\n"
     ]
    },
    {
     "name": "stdout",
     "output_type": "stream",
     "text": [
      "train score (mean_absolute_error): 1.4863\n",
      "train score (mean_squared_error): 3.9096\n",
      "validation score (mean_absolute_error): 2.6255\n",
      "validation score (mean_squared_error): 9.7742\n",
      "Percentage of data thrown out: 0.04769498105714336%\n",
      " --------------- fold #7 out of -------------------\n"
     ]
    },
    {
     "name": "stderr",
     "output_type": "stream",
     "text": [
      "/home/sergey/.conda/envs/kaggle/lib/python3.6/site-packages/xgboost/core.py:587: FutureWarning: Series.base is deprecated and will be removed in a future version\n",
      "  if getattr(data, 'base', None) is not None and \\\n"
     ]
    },
    {
     "name": "stdout",
     "output_type": "stream",
     "text": [
      "train score (mean_absolute_error): 1.5058\n",
      "train score (mean_squared_error): 3.9030\n",
      "validation score (mean_absolute_error): 2.5065\n",
      "validation score (mean_squared_error): 10.0233\n",
      "Percentage of data thrown out: 0.04769498105714336%\n",
      " --------------- fold #8 out of -------------------\n"
     ]
    },
    {
     "name": "stderr",
     "output_type": "stream",
     "text": [
      "/home/sergey/.conda/envs/kaggle/lib/python3.6/site-packages/xgboost/core.py:587: FutureWarning: Series.base is deprecated and will be removed in a future version\n",
      "  if getattr(data, 'base', None) is not None and \\\n"
     ]
    },
    {
     "name": "stdout",
     "output_type": "stream",
     "text": [
      "train score (mean_absolute_error): 1.4866\n",
      "train score (mean_squared_error): 3.7249\n",
      "validation score (mean_absolute_error): 2.5701\n",
      "validation score (mean_squared_error): 10.7346\n",
      "['data_fname' 'preproc_name' 'preproc_params' 'folds_name' 'folds_params'\n",
      " 'model_name' 'model_params' 'mean_absolute_error' 'mean_squared_error']\n",
      "                                          data_fname    preproc_name  \\\n",
      "0  ../../data/e_lexa/train_proceded_not_smooth_da...  StandardScaler   \n",
      "\n",
      "               preproc_params  folds_name  \\\n",
      "0  {'name': 'StandardScaler'}  CustomFold   \n",
      "\n",
      "                                        folds_params    model_name  \\\n",
      "0  {'name': 'CustomFold', 'n_splits': 9, 'pad': 1...  XGBRegressor   \n",
      "\n",
      "                                        model_params  \\\n",
      "0  {'name': 'XGBRegressor', 'eta': 0.001, 'max_de...   \n",
      "\n",
      "                                 mean_absolute_error  \\\n",
      "0  [1.4825486569343378, 2.6647580436538743, 1.502...   \n",
      "\n",
      "                                  mean_squared_error  \n",
      "0  [3.9003687531503495, 10.050063865759427, 3.923...  \n",
      ".......................Training finished.........................\n",
      "Run 37:\n",
      "....................... Training model ..............................\n",
      "Percentage of data thrown out: 0.04769498105714336%\n",
      " --------------- fold #0 out of -------------------\n"
     ]
    },
    {
     "name": "stderr",
     "output_type": "stream",
     "text": [
      "/home/sergey/.conda/envs/kaggle/lib/python3.6/site-packages/xgboost/core.py:587: FutureWarning: Series.base is deprecated and will be removed in a future version\n",
      "  if getattr(data, 'base', None) is not None and \\\n"
     ]
    },
    {
     "name": "stdout",
     "output_type": "stream",
     "text": [
      "train score (mean_absolute_error): 1.4564\n",
      "train score (mean_squared_error): 3.7215\n",
      "validation score (mean_absolute_error): 3.6057\n",
      "validation score (mean_squared_error): 18.5193\n",
      "Percentage of data thrown out: 0.04769498105714336%\n",
      " --------------- fold #1 out of -------------------\n"
     ]
    },
    {
     "name": "stderr",
     "output_type": "stream",
     "text": [
      "/home/sergey/.conda/envs/kaggle/lib/python3.6/site-packages/xgboost/core.py:587: FutureWarning: Series.base is deprecated and will be removed in a future version\n",
      "  if getattr(data, 'base', None) is not None and \\\n"
     ]
    },
    {
     "name": "stdout",
     "output_type": "stream",
     "text": [
      "train score (mean_absolute_error): 1.5029\n",
      "train score (mean_squared_error): 4.0259\n",
      "validation score (mean_absolute_error): 2.0280\n",
      "validation score (mean_squared_error): 6.8914\n",
      "Percentage of data thrown out: 0.04769498105714336%\n",
      " --------------- fold #2 out of -------------------\n"
     ]
    },
    {
     "name": "stderr",
     "output_type": "stream",
     "text": [
      "/home/sergey/.conda/envs/kaggle/lib/python3.6/site-packages/xgboost/core.py:587: FutureWarning: Series.base is deprecated and will be removed in a future version\n",
      "  if getattr(data, 'base', None) is not None and \\\n"
     ]
    },
    {
     "name": "stdout",
     "output_type": "stream",
     "text": [
      "train score (mean_absolute_error): 1.5469\n",
      "train score (mean_squared_error): 4.0304\n",
      "validation score (mean_absolute_error): 2.8325\n",
      "validation score (mean_squared_error): 10.9794\n",
      "Percentage of data thrown out: 0.04769498105714336%\n",
      " --------------- fold #3 out of -------------------\n"
     ]
    },
    {
     "name": "stderr",
     "output_type": "stream",
     "text": [
      "/home/sergey/.conda/envs/kaggle/lib/python3.6/site-packages/xgboost/core.py:587: FutureWarning: Series.base is deprecated and will be removed in a future version\n",
      "  if getattr(data, 'base', None) is not None and \\\n"
     ]
    },
    {
     "name": "stdout",
     "output_type": "stream",
     "text": [
      "train score (mean_absolute_error): 1.5302\n",
      "train score (mean_squared_error): 3.9180\n",
      "validation score (mean_absolute_error): 3.0861\n",
      "validation score (mean_squared_error): 12.4140\n",
      "Percentage of data thrown out: 0.02384749052857168%\n",
      " --------------- fold #4 out of -------------------\n"
     ]
    },
    {
     "name": "stderr",
     "output_type": "stream",
     "text": [
      "/home/sergey/.conda/envs/kaggle/lib/python3.6/site-packages/xgboost/core.py:587: FutureWarning: Series.base is deprecated and will be removed in a future version\n",
      "  if getattr(data, 'base', None) is not None and \\\n"
     ]
    },
    {
     "name": "stdout",
     "output_type": "stream",
     "text": [
      "train score (mean_absolute_error): 1.5826\n",
      "train score (mean_squared_error): 4.1736\n",
      "validation score (mean_absolute_error): 2.2250\n",
      "validation score (mean_squared_error): 9.4304\n",
      "Percentage of data thrown out: 0.04769498105714336%\n",
      " --------------- fold #5 out of -------------------\n"
     ]
    },
    {
     "name": "stderr",
     "output_type": "stream",
     "text": [
      "/home/sergey/.conda/envs/kaggle/lib/python3.6/site-packages/xgboost/core.py:587: FutureWarning: Series.base is deprecated and will be removed in a future version\n",
      "  if getattr(data, 'base', None) is not None and \\\n"
     ]
    },
    {
     "name": "stdout",
     "output_type": "stream",
     "text": [
      "train score (mean_absolute_error): 1.4888\n",
      "train score (mean_squared_error): 3.8584\n",
      "validation score (mean_absolute_error): 2.5467\n",
      "validation score (mean_squared_error): 9.5848\n",
      "Percentage of data thrown out: 0.04769498105714336%\n",
      " --------------- fold #6 out of -------------------\n"
     ]
    },
    {
     "name": "stderr",
     "output_type": "stream",
     "text": [
      "/home/sergey/.conda/envs/kaggle/lib/python3.6/site-packages/xgboost/core.py:587: FutureWarning: Series.base is deprecated and will be removed in a future version\n",
      "  if getattr(data, 'base', None) is not None and \\\n"
     ]
    },
    {
     "name": "stdout",
     "output_type": "stream",
     "text": [
      "train score (mean_absolute_error): 1.5766\n",
      "train score (mean_squared_error): 4.2102\n",
      "validation score (mean_absolute_error): 3.2156\n",
      "validation score (mean_squared_error): 13.4007\n",
      "Percentage of data thrown out: 0.04769498105714336%\n",
      " --------------- fold #7 out of -------------------\n"
     ]
    },
    {
     "name": "stderr",
     "output_type": "stream",
     "text": [
      "/home/sergey/.conda/envs/kaggle/lib/python3.6/site-packages/xgboost/core.py:587: FutureWarning: Series.base is deprecated and will be removed in a future version\n",
      "  if getattr(data, 'base', None) is not None and \\\n"
     ]
    },
    {
     "name": "stdout",
     "output_type": "stream",
     "text": [
      "train score (mean_absolute_error): 1.4322\n",
      "train score (mean_squared_error): 3.5180\n",
      "validation score (mean_absolute_error): 3.7805\n",
      "validation score (mean_squared_error): 19.6266\n",
      "Percentage of data thrown out: 0.04769498105714336%\n",
      " --------------- fold #8 out of -------------------\n"
     ]
    },
    {
     "name": "stderr",
     "output_type": "stream",
     "text": [
      "/home/sergey/.conda/envs/kaggle/lib/python3.6/site-packages/xgboost/core.py:587: FutureWarning: Series.base is deprecated and will be removed in a future version\n",
      "  if getattr(data, 'base', None) is not None and \\\n"
     ]
    },
    {
     "name": "stdout",
     "output_type": "stream",
     "text": [
      "train score (mean_absolute_error): 1.6333\n",
      "train score (mean_squared_error): 4.4526\n",
      "validation score (mean_absolute_error): 1.5618\n",
      "validation score (mean_squared_error): 4.5807\n",
      "['data_fname' 'preproc_name' 'preproc_params' 'folds_name' 'folds_params'\n",
      " 'model_name' 'model_params' 'mean_absolute_error' 'mean_squared_error']\n",
      "                                          data_fname    preproc_name  \\\n",
      "0  ../../data/e_lexa/train_proceded_not_smooth_da...  StandardScaler   \n",
      "\n",
      "               preproc_params  folds_name  \\\n",
      "0  {'name': 'StandardScaler'}  CustomFold   \n",
      "\n",
      "                                        folds_params    model_name  \\\n",
      "0  {'name': 'CustomFold', 'n_splits': 9, 'pad': 1...  XGBRegressor   \n",
      "\n",
      "                                        model_params  \\\n",
      "0  {'name': 'XGBRegressor', 'eta': 0.001, 'max_de...   \n",
      "\n",
      "                                 mean_absolute_error  \\\n",
      "0  [1.4563926538998893, 3.605668253049456, 1.5029...   \n",
      "\n",
      "                                  mean_squared_error  \n",
      "0  [3.7214939951432227, 18.519327940533447, 4.025...  \n",
      ".......................Training finished.........................\n",
      "Run 38:\n",
      "....................... Training model ..............................\n",
      "Percentage of data thrown out: 0.04769498105714336%\n",
      " --------------- fold #0 out of -------------------\n"
     ]
    },
    {
     "name": "stderr",
     "output_type": "stream",
     "text": [
      "/home/sergey/.conda/envs/kaggle/lib/python3.6/site-packages/xgboost/core.py:587: FutureWarning: Series.base is deprecated and will be removed in a future version\n",
      "  if getattr(data, 'base', None) is not None and \\\n"
     ]
    },
    {
     "name": "stdout",
     "output_type": "stream",
     "text": [
      "train score (mean_absolute_error): 1.6123\n",
      "train score (mean_squared_error): 4.3554\n",
      "validation score (mean_absolute_error): 1.3313\n",
      "validation score (mean_squared_error): 3.2276\n",
      "Percentage of data thrown out: 0.04769498105714336%\n",
      " --------------- fold #1 out of -------------------\n"
     ]
    },
    {
     "name": "stderr",
     "output_type": "stream",
     "text": [
      "/home/sergey/.conda/envs/kaggle/lib/python3.6/site-packages/xgboost/core.py:587: FutureWarning: Series.base is deprecated and will be removed in a future version\n",
      "  if getattr(data, 'base', None) is not None and \\\n"
     ]
    },
    {
     "name": "stdout",
     "output_type": "stream",
     "text": [
      "train score (mean_absolute_error): 1.6638\n",
      "train score (mean_squared_error): 4.5303\n",
      "validation score (mean_absolute_error): 1.3789\n",
      "validation score (mean_squared_error): 3.1765\n",
      "Percentage of data thrown out: 0.04769498105714336%\n",
      " --------------- fold #2 out of -------------------\n"
     ]
    },
    {
     "name": "stderr",
     "output_type": "stream",
     "text": [
      "/home/sergey/.conda/envs/kaggle/lib/python3.6/site-packages/xgboost/core.py:587: FutureWarning: Series.base is deprecated and will be removed in a future version\n",
      "  if getattr(data, 'base', None) is not None and \\\n"
     ]
    },
    {
     "name": "stdout",
     "output_type": "stream",
     "text": [
      "train score (mean_absolute_error): 1.4720\n",
      "train score (mean_squared_error): 3.7992\n",
      "validation score (mean_absolute_error): 2.5263\n",
      "validation score (mean_squared_error): 9.3429\n",
      "Percentage of data thrown out: 0.04769498105714336%\n",
      " --------------- fold #3 out of -------------------\n"
     ]
    },
    {
     "name": "stderr",
     "output_type": "stream",
     "text": [
      "/home/sergey/.conda/envs/kaggle/lib/python3.6/site-packages/xgboost/core.py:587: FutureWarning: Series.base is deprecated and will be removed in a future version\n",
      "  if getattr(data, 'base', None) is not None and \\\n"
     ]
    },
    {
     "name": "stdout",
     "output_type": "stream",
     "text": [
      "train score (mean_absolute_error): 1.5925\n",
      "train score (mean_squared_error): 4.3279\n",
      "validation score (mean_absolute_error): 2.7564\n",
      "validation score (mean_squared_error): 10.7589\n",
      "Percentage of data thrown out: 0.02384749052857168%\n",
      " --------------- fold #4 out of -------------------\n"
     ]
    },
    {
     "name": "stderr",
     "output_type": "stream",
     "text": [
      "/home/sergey/.conda/envs/kaggle/lib/python3.6/site-packages/xgboost/core.py:587: FutureWarning: Series.base is deprecated and will be removed in a future version\n",
      "  if getattr(data, 'base', None) is not None and \\\n"
     ]
    },
    {
     "name": "stdout",
     "output_type": "stream",
     "text": [
      "train score (mean_absolute_error): 1.6135\n",
      "train score (mean_squared_error): 4.3661\n",
      "validation score (mean_absolute_error): 1.7355\n",
      "validation score (mean_squared_error): 5.3548\n",
      "Percentage of data thrown out: 0.04769498105714336%\n",
      " --------------- fold #5 out of -------------------\n"
     ]
    },
    {
     "name": "stderr",
     "output_type": "stream",
     "text": [
      "/home/sergey/.conda/envs/kaggle/lib/python3.6/site-packages/xgboost/core.py:587: FutureWarning: Series.base is deprecated and will be removed in a future version\n",
      "  if getattr(data, 'base', None) is not None and \\\n"
     ]
    },
    {
     "name": "stdout",
     "output_type": "stream",
     "text": [
      "train score (mean_absolute_error): 1.6115\n",
      "train score (mean_squared_error): 4.2673\n",
      "validation score (mean_absolute_error): 1.3750\n",
      "validation score (mean_squared_error): 3.6719\n",
      "Percentage of data thrown out: 0.04769498105714336%\n",
      " --------------- fold #6 out of -------------------\n"
     ]
    },
    {
     "name": "stderr",
     "output_type": "stream",
     "text": [
      "/home/sergey/.conda/envs/kaggle/lib/python3.6/site-packages/xgboost/core.py:587: FutureWarning: Series.base is deprecated and will be removed in a future version\n",
      "  if getattr(data, 'base', None) is not None and \\\n"
     ]
    },
    {
     "name": "stdout",
     "output_type": "stream",
     "text": [
      "train score (mean_absolute_error): 1.5063\n",
      "train score (mean_squared_error): 3.8560\n",
      "validation score (mean_absolute_error): 2.3437\n",
      "validation score (mean_squared_error): 9.3263\n",
      "Percentage of data thrown out: 0.04769498105714336%\n",
      " --------------- fold #7 out of -------------------\n"
     ]
    },
    {
     "name": "stderr",
     "output_type": "stream",
     "text": [
      "/home/sergey/.conda/envs/kaggle/lib/python3.6/site-packages/xgboost/core.py:587: FutureWarning: Series.base is deprecated and will be removed in a future version\n",
      "  if getattr(data, 'base', None) is not None and \\\n"
     ]
    },
    {
     "name": "stdout",
     "output_type": "stream",
     "text": [
      "train score (mean_absolute_error): 1.5004\n",
      "train score (mean_squared_error): 3.8604\n",
      "validation score (mean_absolute_error): 2.3781\n",
      "validation score (mean_squared_error): 9.1147\n",
      "Percentage of data thrown out: 0.04769498105714336%\n",
      " --------------- fold #8 out of -------------------\n"
     ]
    },
    {
     "name": "stderr",
     "output_type": "stream",
     "text": [
      "/home/sergey/.conda/envs/kaggle/lib/python3.6/site-packages/xgboost/core.py:587: FutureWarning: Series.base is deprecated and will be removed in a future version\n",
      "  if getattr(data, 'base', None) is not None and \\\n"
     ]
    },
    {
     "name": "stdout",
     "output_type": "stream",
     "text": [
      "train score (mean_absolute_error): 1.3800\n",
      "train score (mean_squared_error): 3.3312\n",
      "validation score (mean_absolute_error): 3.5954\n",
      "validation score (mean_squared_error): 18.7723\n",
      "['data_fname' 'preproc_name' 'preproc_params' 'folds_name' 'folds_params'\n",
      " 'model_name' 'model_params' 'mean_absolute_error' 'mean_squared_error']\n",
      "                                          data_fname    preproc_name  \\\n",
      "0  ../../data/e_lexa/train_proceded_not_smooth_da...  StandardScaler   \n",
      "\n",
      "               preproc_params  folds_name  \\\n",
      "0  {'name': 'StandardScaler'}  CustomFold   \n",
      "\n",
      "                                        folds_params    model_name  \\\n",
      "0  {'name': 'CustomFold', 'n_splits': 9, 'pad': 1...  XGBRegressor   \n",
      "\n",
      "                                        model_params  \\\n",
      "0  {'name': 'XGBRegressor', 'eta': 0.001, 'max_de...   \n",
      "\n",
      "                                 mean_absolute_error  \\\n",
      "0  [1.6122599925249668, 1.3312863049169317, 1.663...   \n",
      "\n",
      "                                  mean_squared_error  \n",
      "0  [4.355389095052189, 3.2275983584321337, 4.5303...  \n",
      ".......................Training finished.........................\n",
      "Run 39:\n",
      "....................... Training model ..............................\n",
      "Percentage of data thrown out: 0.04769498105714336%\n",
      " --------------- fold #0 out of -------------------\n"
     ]
    },
    {
     "name": "stderr",
     "output_type": "stream",
     "text": [
      "/home/sergey/.conda/envs/kaggle/lib/python3.6/site-packages/xgboost/core.py:587: FutureWarning: Series.base is deprecated and will be removed in a future version\n",
      "  if getattr(data, 'base', None) is not None and \\\n"
     ]
    },
    {
     "name": "stdout",
     "output_type": "stream",
     "text": [
      "train score (mean_absolute_error): 1.4989\n",
      "train score (mean_squared_error): 3.9024\n",
      "validation score (mean_absolute_error): 3.1211\n",
      "validation score (mean_squared_error): 13.3066\n",
      "Percentage of data thrown out: 0.04769498105714336%\n",
      " --------------- fold #1 out of -------------------\n"
     ]
    },
    {
     "name": "stderr",
     "output_type": "stream",
     "text": [
      "/home/sergey/.conda/envs/kaggle/lib/python3.6/site-packages/xgboost/core.py:587: FutureWarning: Series.base is deprecated and will be removed in a future version\n",
      "  if getattr(data, 'base', None) is not None and \\\n"
     ]
    },
    {
     "name": "stdout",
     "output_type": "stream",
     "text": [
      "train score (mean_absolute_error): 1.5948\n",
      "train score (mean_squared_error): 4.2535\n",
      "validation score (mean_absolute_error): 1.3852\n",
      "validation score (mean_squared_error): 3.4049\n",
      "Percentage of data thrown out: 0.04769498105714336%\n",
      " --------------- fold #2 out of -------------------\n"
     ]
    },
    {
     "name": "stderr",
     "output_type": "stream",
     "text": [
      "/home/sergey/.conda/envs/kaggle/lib/python3.6/site-packages/xgboost/core.py:587: FutureWarning: Series.base is deprecated and will be removed in a future version\n",
      "  if getattr(data, 'base', None) is not None and \\\n"
     ]
    },
    {
     "name": "stdout",
     "output_type": "stream",
     "text": [
      "train score (mean_absolute_error): 1.3662\n",
      "train score (mean_squared_error): 3.2953\n",
      "validation score (mean_absolute_error): 3.3513\n",
      "validation score (mean_squared_error): 16.9550\n",
      "Percentage of data thrown out: 0.04769498105714336%\n",
      " --------------- fold #3 out of -------------------\n"
     ]
    },
    {
     "name": "stderr",
     "output_type": "stream",
     "text": [
      "/home/sergey/.conda/envs/kaggle/lib/python3.6/site-packages/xgboost/core.py:587: FutureWarning: Series.base is deprecated and will be removed in a future version\n",
      "  if getattr(data, 'base', None) is not None and \\\n"
     ]
    },
    {
     "name": "stdout",
     "output_type": "stream",
     "text": [
      "train score (mean_absolute_error): 1.5682\n",
      "train score (mean_squared_error): 4.2536\n",
      "validation score (mean_absolute_error): 2.2444\n",
      "validation score (mean_squared_error): 7.7079\n",
      "Percentage of data thrown out: 0.04769498105714336%\n",
      " --------------- fold #4 out of -------------------\n"
     ]
    },
    {
     "name": "stderr",
     "output_type": "stream",
     "text": [
      "/home/sergey/.conda/envs/kaggle/lib/python3.6/site-packages/xgboost/core.py:587: FutureWarning: Series.base is deprecated and will be removed in a future version\n",
      "  if getattr(data, 'base', None) is not None and \\\n"
     ]
    },
    {
     "name": "stdout",
     "output_type": "stream",
     "text": [
      "train score (mean_absolute_error): 1.5918\n",
      "train score (mean_squared_error): 4.2472\n",
      "validation score (mean_absolute_error): 1.4373\n",
      "validation score (mean_squared_error): 3.7052\n",
      "Percentage of data thrown out: 0.04769498105714336%\n",
      " --------------- fold #5 out of -------------------\n"
     ]
    },
    {
     "name": "stderr",
     "output_type": "stream",
     "text": [
      "/home/sergey/.conda/envs/kaggle/lib/python3.6/site-packages/xgboost/core.py:587: FutureWarning: Series.base is deprecated and will be removed in a future version\n",
      "  if getattr(data, 'base', None) is not None and \\\n"
     ]
    },
    {
     "name": "stdout",
     "output_type": "stream",
     "text": [
      "train score (mean_absolute_error): 1.4903\n",
      "train score (mean_squared_error): 3.8126\n",
      "validation score (mean_absolute_error): 2.4417\n",
      "validation score (mean_squared_error): 10.0307\n",
      "Percentage of data thrown out: 0.04769498105714336%\n",
      " --------------- fold #6 out of -------------------\n"
     ]
    },
    {
     "name": "stderr",
     "output_type": "stream",
     "text": [
      "/home/sergey/.conda/envs/kaggle/lib/python3.6/site-packages/xgboost/core.py:587: FutureWarning: Series.base is deprecated and will be removed in a future version\n",
      "  if getattr(data, 'base', None) is not None and \\\n"
     ]
    },
    {
     "name": "stdout",
     "output_type": "stream",
     "text": [
      "train score (mean_absolute_error): 1.4884\n",
      "train score (mean_squared_error): 3.8787\n",
      "validation score (mean_absolute_error): 2.3984\n",
      "validation score (mean_squared_error): 8.0021\n",
      "Percentage of data thrown out: 0.04769498105714336%\n",
      " --------------- fold #7 out of -------------------\n"
     ]
    },
    {
     "name": "stderr",
     "output_type": "stream",
     "text": [
      "/home/sergey/.conda/envs/kaggle/lib/python3.6/site-packages/xgboost/core.py:587: FutureWarning: Series.base is deprecated and will be removed in a future version\n",
      "  if getattr(data, 'base', None) is not None and \\\n"
     ]
    },
    {
     "name": "stdout",
     "output_type": "stream",
     "text": [
      "train score (mean_absolute_error): 1.5621\n",
      "train score (mean_squared_error): 4.2308\n",
      "validation score (mean_absolute_error): 1.6401\n",
      "validation score (mean_squared_error): 4.2084\n",
      "Percentage of data thrown out: 0.04769498105714336%\n",
      " --------------- fold #8 out of -------------------\n"
     ]
    },
    {
     "name": "stderr",
     "output_type": "stream",
     "text": [
      "/home/sergey/.conda/envs/kaggle/lib/python3.6/site-packages/xgboost/core.py:587: FutureWarning: Series.base is deprecated and will be removed in a future version\n",
      "  if getattr(data, 'base', None) is not None and \\\n"
     ]
    },
    {
     "name": "stdout",
     "output_type": "stream",
     "text": [
      "train score (mean_absolute_error): 1.3543\n",
      "train score (mean_squared_error): 3.1813\n",
      "validation score (mean_absolute_error): 4.0263\n",
      "validation score (mean_squared_error): 24.2520\n",
      "['data_fname' 'preproc_name' 'preproc_params' 'folds_name' 'folds_params'\n",
      " 'model_name' 'model_params' 'mean_absolute_error' 'mean_squared_error']\n",
      "                                          data_fname    preproc_name  \\\n",
      "0  ../../data/e_lexa/train_proceded_not_smooth_da...  StandardScaler   \n",
      "\n",
      "               preproc_params  folds_name  \\\n",
      "0  {'name': 'StandardScaler'}  CustomFold   \n",
      "\n",
      "                                        folds_params    model_name  \\\n",
      "0  {'name': 'CustomFold', 'n_splits': 9, 'pad': 1...  XGBRegressor   \n",
      "\n",
      "                                        model_params  \\\n",
      "0  {'name': 'XGBRegressor', 'eta': 0.001, 'max_de...   \n",
      "\n",
      "                                 mean_absolute_error  \\\n",
      "0  [1.498852669029831, 3.121139704687118, 1.59479...   \n",
      "\n",
      "                                  mean_squared_error  \n",
      "0  [3.9023705553710184, 13.306646966739534, 4.253...  \n",
      ".......................Training finished.........................\n",
      "Run 40:\n",
      "....................... Training model ..............................\n",
      "Percentage of data thrown out: 0.04769498105714336%\n",
      " --------------- fold #0 out of -------------------\n"
     ]
    },
    {
     "name": "stderr",
     "output_type": "stream",
     "text": [
      "/home/sergey/.conda/envs/kaggle/lib/python3.6/site-packages/xgboost/core.py:587: FutureWarning: Series.base is deprecated and will be removed in a future version\n",
      "  if getattr(data, 'base', None) is not None and \\\n"
     ]
    },
    {
     "name": "stdout",
     "output_type": "stream",
     "text": [
      "train score (mean_absolute_error): 1.5146\n",
      "train score (mean_squared_error): 4.0336\n",
      "validation score (mean_absolute_error): 1.9314\n",
      "validation score (mean_squared_error): 6.2825\n",
      "Percentage of data thrown out: 0.04769498105714336%\n",
      " --------------- fold #1 out of -------------------\n"
     ]
    },
    {
     "name": "stderr",
     "output_type": "stream",
     "text": [
      "/home/sergey/.conda/envs/kaggle/lib/python3.6/site-packages/xgboost/core.py:587: FutureWarning: Series.base is deprecated and will be removed in a future version\n",
      "  if getattr(data, 'base', None) is not None and \\\n"
     ]
    },
    {
     "name": "stdout",
     "output_type": "stream",
     "text": [
      "train score (mean_absolute_error): 1.6207\n",
      "train score (mean_squared_error): 4.3484\n",
      "validation score (mean_absolute_error): 1.2102\n",
      "validation score (mean_squared_error): 2.6449\n",
      "Percentage of data thrown out: 0.04769498105714336%\n",
      " --------------- fold #2 out of -------------------\n"
     ]
    },
    {
     "name": "stderr",
     "output_type": "stream",
     "text": [
      "/home/sergey/.conda/envs/kaggle/lib/python3.6/site-packages/xgboost/core.py:587: FutureWarning: Series.base is deprecated and will be removed in a future version\n",
      "  if getattr(data, 'base', None) is not None and \\\n"
     ]
    },
    {
     "name": "stdout",
     "output_type": "stream",
     "text": [
      "train score (mean_absolute_error): 1.5563\n",
      "train score (mean_squared_error): 4.1426\n",
      "validation score (mean_absolute_error): 2.2705\n",
      "validation score (mean_squared_error): 7.3873\n",
      "Percentage of data thrown out: 0.04769498105714336%\n",
      " --------------- fold #3 out of -------------------\n"
     ]
    },
    {
     "name": "stderr",
     "output_type": "stream",
     "text": [
      "/home/sergey/.conda/envs/kaggle/lib/python3.6/site-packages/xgboost/core.py:587: FutureWarning: Series.base is deprecated and will be removed in a future version\n",
      "  if getattr(data, 'base', None) is not None and \\\n"
     ]
    },
    {
     "name": "stdout",
     "output_type": "stream",
     "text": [
      "train score (mean_absolute_error): 1.5727\n",
      "train score (mean_squared_error): 4.1718\n",
      "validation score (mean_absolute_error): 2.7117\n",
      "validation score (mean_squared_error): 11.2089\n",
      "Percentage of data thrown out: 0.04769498105714336%\n",
      " --------------- fold #4 out of -------------------\n"
     ]
    },
    {
     "name": "stderr",
     "output_type": "stream",
     "text": [
      "/home/sergey/.conda/envs/kaggle/lib/python3.6/site-packages/xgboost/core.py:587: FutureWarning: Series.base is deprecated and will be removed in a future version\n",
      "  if getattr(data, 'base', None) is not None and \\\n"
     ]
    },
    {
     "name": "stdout",
     "output_type": "stream",
     "text": [
      "train score (mean_absolute_error): 1.5666\n",
      "train score (mean_squared_error): 4.1119\n",
      "validation score (mean_absolute_error): 3.0147\n",
      "validation score (mean_squared_error): 12.1686\n",
      "Percentage of data thrown out: 0.02384749052857168%\n",
      " --------------- fold #5 out of -------------------\n"
     ]
    },
    {
     "name": "stderr",
     "output_type": "stream",
     "text": [
      "/home/sergey/.conda/envs/kaggle/lib/python3.6/site-packages/xgboost/core.py:587: FutureWarning: Series.base is deprecated and will be removed in a future version\n",
      "  if getattr(data, 'base', None) is not None and \\\n"
     ]
    },
    {
     "name": "stdout",
     "output_type": "stream",
     "text": [
      "train score (mean_absolute_error): 1.5503\n",
      "train score (mean_squared_error): 4.0381\n",
      "validation score (mean_absolute_error): 2.4671\n",
      "validation score (mean_squared_error): 6.8701\n",
      "Percentage of data thrown out: 0.04769498105714336%\n",
      " --------------- fold #6 out of -------------------\n"
     ]
    },
    {
     "name": "stderr",
     "output_type": "stream",
     "text": [
      "/home/sergey/.conda/envs/kaggle/lib/python3.6/site-packages/xgboost/core.py:587: FutureWarning: Series.base is deprecated and will be removed in a future version\n",
      "  if getattr(data, 'base', None) is not None and \\\n"
     ]
    },
    {
     "name": "stdout",
     "output_type": "stream",
     "text": [
      "train score (mean_absolute_error): 1.4240\n",
      "train score (mean_squared_error): 3.5924\n",
      "validation score (mean_absolute_error): 2.5218\n",
      "validation score (mean_squared_error): 9.4941\n",
      "Percentage of data thrown out: 0.04769498105714336%\n",
      " --------------- fold #7 out of -------------------\n"
     ]
    },
    {
     "name": "stderr",
     "output_type": "stream",
     "text": [
      "/home/sergey/.conda/envs/kaggle/lib/python3.6/site-packages/xgboost/core.py:587: FutureWarning: Series.base is deprecated and will be removed in a future version\n",
      "  if getattr(data, 'base', None) is not None and \\\n"
     ]
    },
    {
     "name": "stdout",
     "output_type": "stream",
     "text": [
      "train score (mean_absolute_error): 1.3234\n",
      "train score (mean_squared_error): 3.0570\n",
      "validation score (mean_absolute_error): 4.0241\n",
      "validation score (mean_squared_error): 24.3779\n",
      "Percentage of data thrown out: 0.04769498105714336%\n",
      " --------------- fold #8 out of -------------------\n"
     ]
    },
    {
     "name": "stderr",
     "output_type": "stream",
     "text": [
      "/home/sergey/.conda/envs/kaggle/lib/python3.6/site-packages/xgboost/core.py:587: FutureWarning: Series.base is deprecated and will be removed in a future version\n",
      "  if getattr(data, 'base', None) is not None and \\\n"
     ]
    },
    {
     "name": "stdout",
     "output_type": "stream",
     "text": [
      "train score (mean_absolute_error): 1.4514\n",
      "train score (mean_squared_error): 3.6949\n",
      "validation score (mean_absolute_error): 2.8922\n",
      "validation score (mean_squared_error): 13.1862\n",
      "['data_fname' 'preproc_name' 'preproc_params' 'folds_name' 'folds_params'\n",
      " 'model_name' 'model_params' 'mean_absolute_error' 'mean_squared_error']\n",
      "                                          data_fname    preproc_name  \\\n",
      "0  ../../data/e_lexa/train_proceded_not_smooth_da...  StandardScaler   \n",
      "\n",
      "               preproc_params  folds_name  \\\n",
      "0  {'name': 'StandardScaler'}  CustomFold   \n",
      "\n",
      "                                        folds_params    model_name  \\\n",
      "0  {'name': 'CustomFold', 'n_splits': 9, 'pad': 1...  XGBRegressor   \n",
      "\n",
      "                                        model_params  \\\n",
      "0  {'name': 'XGBRegressor', 'eta': 0.001, 'max_de...   \n",
      "\n",
      "                                 mean_absolute_error  \\\n",
      "0  [1.5146004090191219, 1.9314384933598479, 1.620...   \n",
      "\n",
      "                                  mean_squared_error  \n",
      "0  [4.033609820349304, 6.2824503718559495, 4.3484...  \n",
      ".......................Training finished.........................\n",
      "Run 41:\n",
      "....................... Training model ..............................\n",
      "Percentage of data thrown out: 0.02384749052857168%\n",
      " --------------- fold #0 out of -------------------\n"
     ]
    },
    {
     "name": "stderr",
     "output_type": "stream",
     "text": [
      "/home/sergey/.conda/envs/kaggle/lib/python3.6/site-packages/xgboost/core.py:587: FutureWarning: Series.base is deprecated and will be removed in a future version\n",
      "  if getattr(data, 'base', None) is not None and \\\n"
     ]
    },
    {
     "name": "stdout",
     "output_type": "stream",
     "text": [
      "train score (mean_absolute_error): 1.5887\n",
      "train score (mean_squared_error): 4.2953\n",
      "validation score (mean_absolute_error): 1.7882\n",
      "validation score (mean_squared_error): 5.1981\n",
      "Percentage of data thrown out: 0.04769498105714336%\n",
      " --------------- fold #1 out of -------------------\n"
     ]
    },
    {
     "name": "stderr",
     "output_type": "stream",
     "text": [
      "/home/sergey/.conda/envs/kaggle/lib/python3.6/site-packages/xgboost/core.py:587: FutureWarning: Series.base is deprecated and will be removed in a future version\n",
      "  if getattr(data, 'base', None) is not None and \\\n"
     ]
    },
    {
     "name": "stdout",
     "output_type": "stream",
     "text": [
      "train score (mean_absolute_error): 1.5991\n",
      "train score (mean_squared_error): 4.3009\n",
      "validation score (mean_absolute_error): 1.5411\n",
      "validation score (mean_squared_error): 3.9244\n",
      "Percentage of data thrown out: 0.02384749052857168%\n",
      " --------------- fold #2 out of -------------------\n"
     ]
    },
    {
     "name": "stderr",
     "output_type": "stream",
     "text": [
      "/home/sergey/.conda/envs/kaggle/lib/python3.6/site-packages/xgboost/core.py:587: FutureWarning: Series.base is deprecated and will be removed in a future version\n",
      "  if getattr(data, 'base', None) is not None and \\\n"
     ]
    },
    {
     "name": "stdout",
     "output_type": "stream",
     "text": [
      "train score (mean_absolute_error): 1.6064\n",
      "train score (mean_squared_error): 4.3872\n",
      "validation score (mean_absolute_error): 1.7719\n",
      "validation score (mean_squared_error): 5.3606\n",
      "Percentage of data thrown out: 0.04769498105714336%\n",
      " --------------- fold #3 out of -------------------\n"
     ]
    },
    {
     "name": "stderr",
     "output_type": "stream",
     "text": [
      "/home/sergey/.conda/envs/kaggle/lib/python3.6/site-packages/xgboost/core.py:587: FutureWarning: Series.base is deprecated and will be removed in a future version\n",
      "  if getattr(data, 'base', None) is not None and \\\n"
     ]
    },
    {
     "name": "stdout",
     "output_type": "stream",
     "text": [
      "train score (mean_absolute_error): 1.6093\n",
      "train score (mean_squared_error): 4.3357\n",
      "validation score (mean_absolute_error): 1.2202\n",
      "validation score (mean_squared_error): 2.6321\n",
      "Percentage of data thrown out: 0.04769498105714336%\n",
      " --------------- fold #4 out of -------------------\n"
     ]
    },
    {
     "name": "stderr",
     "output_type": "stream",
     "text": [
      "/home/sergey/.conda/envs/kaggle/lib/python3.6/site-packages/xgboost/core.py:587: FutureWarning: Series.base is deprecated and will be removed in a future version\n",
      "  if getattr(data, 'base', None) is not None and \\\n"
     ]
    },
    {
     "name": "stdout",
     "output_type": "stream",
     "text": [
      "train score (mean_absolute_error): 1.5313\n",
      "train score (mean_squared_error): 3.9860\n",
      "validation score (mean_absolute_error): 2.5663\n",
      "validation score (mean_squared_error): 10.6087\n",
      "Percentage of data thrown out: 0.02384749052857168%\n",
      " --------------- fold #5 out of -------------------\n"
     ]
    },
    {
     "name": "stderr",
     "output_type": "stream",
     "text": [
      "/home/sergey/.conda/envs/kaggle/lib/python3.6/site-packages/xgboost/core.py:587: FutureWarning: Series.base is deprecated and will be removed in a future version\n",
      "  if getattr(data, 'base', None) is not None and \\\n"
     ]
    },
    {
     "name": "stdout",
     "output_type": "stream",
     "text": [
      "train score (mean_absolute_error): 1.5747\n",
      "train score (mean_squared_error): 4.1593\n",
      "validation score (mean_absolute_error): 2.1979\n",
      "validation score (mean_squared_error): 8.3065\n",
      "Percentage of data thrown out: 0.04769498105714336%\n",
      " --------------- fold #6 out of -------------------\n"
     ]
    },
    {
     "name": "stderr",
     "output_type": "stream",
     "text": [
      "/home/sergey/.conda/envs/kaggle/lib/python3.6/site-packages/xgboost/core.py:587: FutureWarning: Series.base is deprecated and will be removed in a future version\n",
      "  if getattr(data, 'base', None) is not None and \\\n"
     ]
    },
    {
     "name": "stdout",
     "output_type": "stream",
     "text": [
      "train score (mean_absolute_error): 1.6211\n",
      "train score (mean_squared_error): 4.3686\n",
      "validation score (mean_absolute_error): 1.5228\n",
      "validation score (mean_squared_error): 4.4237\n",
      "Percentage of data thrown out: 0.04769498105714336%\n",
      " --------------- fold #7 out of -------------------\n"
     ]
    },
    {
     "name": "stderr",
     "output_type": "stream",
     "text": [
      "/home/sergey/.conda/envs/kaggle/lib/python3.6/site-packages/xgboost/core.py:587: FutureWarning: Series.base is deprecated and will be removed in a future version\n",
      "  if getattr(data, 'base', None) is not None and \\\n"
     ]
    },
    {
     "name": "stdout",
     "output_type": "stream",
     "text": [
      "train score (mean_absolute_error): 1.6174\n",
      "train score (mean_squared_error): 4.3272\n",
      "validation score (mean_absolute_error): 1.2837\n",
      "validation score (mean_squared_error): 3.2736\n",
      "Percentage of data thrown out: 0.04769498105714336%\n",
      " --------------- fold #8 out of -------------------\n"
     ]
    },
    {
     "name": "stderr",
     "output_type": "stream",
     "text": [
      "/home/sergey/.conda/envs/kaggle/lib/python3.6/site-packages/xgboost/core.py:587: FutureWarning: Series.base is deprecated and will be removed in a future version\n",
      "  if getattr(data, 'base', None) is not None and \\\n"
     ]
    },
    {
     "name": "stdout",
     "output_type": "stream",
     "text": [
      "train score (mean_absolute_error): 1.5980\n",
      "train score (mean_squared_error): 4.3085\n",
      "validation score (mean_absolute_error): 1.4023\n",
      "validation score (mean_squared_error): 3.5863\n",
      "['data_fname' 'preproc_name' 'preproc_params' 'folds_name' 'folds_params'\n",
      " 'model_name' 'model_params' 'mean_absolute_error' 'mean_squared_error']\n",
      "                                          data_fname    preproc_name  \\\n",
      "0  ../../data/e_lexa/train_proceded_not_smooth_da...  StandardScaler   \n",
      "\n",
      "               preproc_params  folds_name  \\\n",
      "0  {'name': 'StandardScaler'}  CustomFold   \n",
      "\n",
      "                                        folds_params    model_name  \\\n",
      "0  {'name': 'CustomFold', 'n_splits': 9, 'pad': 1...  XGBRegressor   \n",
      "\n",
      "                                        model_params  \\\n",
      "0  {'name': 'XGBRegressor', 'eta': 0.001, 'max_de...   \n",
      "\n",
      "                                 mean_absolute_error  \\\n",
      "0  [1.5886543628525727, 1.7881949227095284, 1.599...   \n",
      "\n",
      "                                  mean_squared_error  \n",
      "0  [4.295322620164182, 5.198090939630785, 4.30087...  \n",
      ".......................Training finished.........................\n",
      "Run 42:\n",
      "....................... Training model ..............................\n",
      "Percentage of data thrown out: 0.04769498105714336%\n",
      " --------------- fold #0 out of -------------------\n"
     ]
    },
    {
     "name": "stderr",
     "output_type": "stream",
     "text": [
      "/home/sergey/.conda/envs/kaggle/lib/python3.6/site-packages/xgboost/core.py:587: FutureWarning: Series.base is deprecated and will be removed in a future version\n",
      "  if getattr(data, 'base', None) is not None and \\\n"
     ]
    },
    {
     "name": "stdout",
     "output_type": "stream",
     "text": [
      "train score (mean_absolute_error): 1.5469\n",
      "train score (mean_squared_error): 4.0212\n",
      "validation score (mean_absolute_error): 2.9789\n",
      "validation score (mean_squared_error): 11.6431\n",
      "Percentage of data thrown out: 0.02384749052857168%\n",
      " --------------- fold #1 out of -------------------\n"
     ]
    },
    {
     "name": "stderr",
     "output_type": "stream",
     "text": [
      "/home/sergey/.conda/envs/kaggle/lib/python3.6/site-packages/xgboost/core.py:587: FutureWarning: Series.base is deprecated and will be removed in a future version\n",
      "  if getattr(data, 'base', None) is not None and \\\n"
     ]
    },
    {
     "name": "stdout",
     "output_type": "stream",
     "text": [
      "train score (mean_absolute_error): 1.5728\n",
      "train score (mean_squared_error): 4.1530\n",
      "validation score (mean_absolute_error): 0.9312\n",
      "validation score (mean_squared_error): 1.1075\n",
      "Percentage of data thrown out: 0.02384749052857168%\n",
      " --------------- fold #2 out of -------------------\n"
     ]
    },
    {
     "name": "stderr",
     "output_type": "stream",
     "text": [
      "/home/sergey/.conda/envs/kaggle/lib/python3.6/site-packages/xgboost/core.py:587: FutureWarning: Series.base is deprecated and will be removed in a future version\n",
      "  if getattr(data, 'base', None) is not None and \\\n"
     ]
    },
    {
     "name": "stdout",
     "output_type": "stream",
     "text": [
      "train score (mean_absolute_error): 1.5921\n",
      "train score (mean_squared_error): 4.3087\n",
      "validation score (mean_absolute_error): 1.7937\n",
      "validation score (mean_squared_error): 5.2370\n",
      "Percentage of data thrown out: 0.04769498105714336%\n",
      " --------------- fold #3 out of -------------------\n"
     ]
    },
    {
     "name": "stderr",
     "output_type": "stream",
     "text": [
      "/home/sergey/.conda/envs/kaggle/lib/python3.6/site-packages/xgboost/core.py:587: FutureWarning: Series.base is deprecated and will be removed in a future version\n",
      "  if getattr(data, 'base', None) is not None and \\\n"
     ]
    },
    {
     "name": "stdout",
     "output_type": "stream",
     "text": [
      "train score (mean_absolute_error): 1.5392\n",
      "train score (mean_squared_error): 3.9995\n",
      "validation score (mean_absolute_error): 2.4250\n",
      "validation score (mean_squared_error): 9.8217\n",
      "Percentage of data thrown out: 0.04769498105714336%\n",
      " --------------- fold #4 out of -------------------\n"
     ]
    },
    {
     "name": "stderr",
     "output_type": "stream",
     "text": [
      "/home/sergey/.conda/envs/kaggle/lib/python3.6/site-packages/xgboost/core.py:587: FutureWarning: Series.base is deprecated and will be removed in a future version\n",
      "  if getattr(data, 'base', None) is not None and \\\n"
     ]
    },
    {
     "name": "stdout",
     "output_type": "stream",
     "text": [
      "train score (mean_absolute_error): 1.3915\n",
      "train score (mean_squared_error): 3.3190\n",
      "validation score (mean_absolute_error): 3.9109\n",
      "validation score (mean_squared_error): 21.4474\n",
      "Percentage of data thrown out: 0.04769498105714336%\n",
      " --------------- fold #5 out of -------------------\n"
     ]
    },
    {
     "name": "stderr",
     "output_type": "stream",
     "text": [
      "/home/sergey/.conda/envs/kaggle/lib/python3.6/site-packages/xgboost/core.py:587: FutureWarning: Series.base is deprecated and will be removed in a future version\n",
      "  if getattr(data, 'base', None) is not None and \\\n"
     ]
    },
    {
     "name": "stdout",
     "output_type": "stream",
     "text": [
      "train score (mean_absolute_error): 1.5505\n",
      "train score (mean_squared_error): 4.0834\n",
      "validation score (mean_absolute_error): 2.0000\n",
      "validation score (mean_squared_error): 6.3030\n",
      "Percentage of data thrown out: 0.04769498105714336%\n",
      " --------------- fold #6 out of -------------------\n"
     ]
    },
    {
     "name": "stderr",
     "output_type": "stream",
     "text": [
      "/home/sergey/.conda/envs/kaggle/lib/python3.6/site-packages/xgboost/core.py:587: FutureWarning: Series.base is deprecated and will be removed in a future version\n",
      "  if getattr(data, 'base', None) is not None and \\\n"
     ]
    },
    {
     "name": "stdout",
     "output_type": "stream",
     "text": [
      "train score (mean_absolute_error): 1.3402\n",
      "train score (mean_squared_error): 3.1247\n",
      "validation score (mean_absolute_error): 4.0489\n",
      "validation score (mean_squared_error): 24.8129\n",
      "Percentage of data thrown out: 0.04769498105714336%\n",
      " --------------- fold #7 out of -------------------\n"
     ]
    },
    {
     "name": "stderr",
     "output_type": "stream",
     "text": [
      "/home/sergey/.conda/envs/kaggle/lib/python3.6/site-packages/xgboost/core.py:587: FutureWarning: Series.base is deprecated and will be removed in a future version\n",
      "  if getattr(data, 'base', None) is not None and \\\n"
     ]
    },
    {
     "name": "stdout",
     "output_type": "stream",
     "text": [
      "train score (mean_absolute_error): 1.5560\n",
      "train score (mean_squared_error): 4.0701\n",
      "validation score (mean_absolute_error): 2.8858\n",
      "validation score (mean_squared_error): 11.3389\n",
      "Percentage of data thrown out: 0.04769498105714336%\n",
      " --------------- fold #8 out of -------------------\n"
     ]
    },
    {
     "name": "stderr",
     "output_type": "stream",
     "text": [
      "/home/sergey/.conda/envs/kaggle/lib/python3.6/site-packages/xgboost/core.py:587: FutureWarning: Series.base is deprecated and will be removed in a future version\n",
      "  if getattr(data, 'base', None) is not None and \\\n"
     ]
    },
    {
     "name": "stdout",
     "output_type": "stream",
     "text": [
      "train score (mean_absolute_error): 1.3539\n",
      "train score (mean_squared_error): 3.1888\n",
      "validation score (mean_absolute_error): 4.0622\n",
      "validation score (mean_squared_error): 24.5608\n",
      "['data_fname' 'preproc_name' 'preproc_params' 'folds_name' 'folds_params'\n",
      " 'model_name' 'model_params' 'mean_absolute_error' 'mean_squared_error']\n",
      "                                          data_fname    preproc_name  \\\n",
      "0  ../../data/e_lexa/train_proceded_not_smooth_da...  StandardScaler   \n",
      "\n",
      "               preproc_params  folds_name  \\\n",
      "0  {'name': 'StandardScaler'}  CustomFold   \n",
      "\n",
      "                                        folds_params    model_name  \\\n",
      "0  {'name': 'CustomFold', 'n_splits': 9, 'pad': 1...  XGBRegressor   \n",
      "\n",
      "                                        model_params  \\\n",
      "0  {'name': 'XGBRegressor', 'eta': 0.001, 'max_de...   \n",
      "\n",
      "                                 mean_absolute_error  \\\n",
      "0  [1.5468896889659214, 2.9789458304310616, 1.572...   \n",
      "\n",
      "                                  mean_squared_error  \n",
      "0  [4.021163259719177, 11.643126461700554, 4.1530...  \n",
      ".......................Training finished.........................\n",
      "Run 43:\n",
      "....................... Training model ..............................\n",
      "Percentage of data thrown out: 0.04769498105714336%\n",
      " --------------- fold #0 out of -------------------\n"
     ]
    },
    {
     "name": "stderr",
     "output_type": "stream",
     "text": [
      "/home/sergey/.conda/envs/kaggle/lib/python3.6/site-packages/xgboost/core.py:587: FutureWarning: Series.base is deprecated and will be removed in a future version\n",
      "  if getattr(data, 'base', None) is not None and \\\n"
     ]
    },
    {
     "name": "stdout",
     "output_type": "stream",
     "text": [
      "train score (mean_absolute_error): 1.5785\n",
      "train score (mean_squared_error): 4.2276\n",
      "validation score (mean_absolute_error): 2.6720\n",
      "validation score (mean_squared_error): 10.7487\n",
      "Percentage of data thrown out: 0.04769498105714336%\n",
      " --------------- fold #1 out of -------------------\n"
     ]
    },
    {
     "name": "stderr",
     "output_type": "stream",
     "text": [
      "/home/sergey/.conda/envs/kaggle/lib/python3.6/site-packages/xgboost/core.py:587: FutureWarning: Series.base is deprecated and will be removed in a future version\n",
      "  if getattr(data, 'base', None) is not None and \\\n"
     ]
    },
    {
     "name": "stdout",
     "output_type": "stream",
     "text": [
      "train score (mean_absolute_error): 1.5899\n",
      "train score (mean_squared_error): 4.3246\n",
      "validation score (mean_absolute_error): 2.9183\n",
      "validation score (mean_squared_error): 12.1461\n",
      "Percentage of data thrown out: 0.04769498105714336%\n",
      " --------------- fold #2 out of -------------------\n"
     ]
    },
    {
     "name": "stderr",
     "output_type": "stream",
     "text": [
      "/home/sergey/.conda/envs/kaggle/lib/python3.6/site-packages/xgboost/core.py:587: FutureWarning: Series.base is deprecated and will be removed in a future version\n",
      "  if getattr(data, 'base', None) is not None and \\\n"
     ]
    },
    {
     "name": "stdout",
     "output_type": "stream",
     "text": [
      "train score (mean_absolute_error): 1.3761\n",
      "train score (mean_squared_error): 3.2536\n",
      "validation score (mean_absolute_error): 3.8999\n",
      "validation score (mean_squared_error): 22.5217\n",
      "Percentage of data thrown out: 0.04769498105714336%\n",
      " --------------- fold #3 out of -------------------\n"
     ]
    },
    {
     "name": "stderr",
     "output_type": "stream",
     "text": [
      "/home/sergey/.conda/envs/kaggle/lib/python3.6/site-packages/xgboost/core.py:587: FutureWarning: Series.base is deprecated and will be removed in a future version\n",
      "  if getattr(data, 'base', None) is not None and \\\n"
     ]
    },
    {
     "name": "stdout",
     "output_type": "stream",
     "text": [
      "train score (mean_absolute_error): 1.5716\n",
      "train score (mean_squared_error): 4.1828\n",
      "validation score (mean_absolute_error): 1.4168\n",
      "validation score (mean_squared_error): 3.4786\n",
      "Percentage of data thrown out: 0.04769498105714336%\n",
      " --------------- fold #4 out of -------------------\n"
     ]
    },
    {
     "name": "stderr",
     "output_type": "stream",
     "text": [
      "/home/sergey/.conda/envs/kaggle/lib/python3.6/site-packages/xgboost/core.py:587: FutureWarning: Series.base is deprecated and will be removed in a future version\n",
      "  if getattr(data, 'base', None) is not None and \\\n"
     ]
    },
    {
     "name": "stdout",
     "output_type": "stream",
     "text": [
      "train score (mean_absolute_error): 1.5214\n",
      "train score (mean_squared_error): 3.9995\n",
      "validation score (mean_absolute_error): 2.0239\n",
      "validation score (mean_squared_error): 6.9053\n",
      "Percentage of data thrown out: 0.04769498105714336%\n",
      " --------------- fold #5 out of -------------------\n"
     ]
    },
    {
     "name": "stderr",
     "output_type": "stream",
     "text": [
      "/home/sergey/.conda/envs/kaggle/lib/python3.6/site-packages/xgboost/core.py:587: FutureWarning: Series.base is deprecated and will be removed in a future version\n",
      "  if getattr(data, 'base', None) is not None and \\\n"
     ]
    },
    {
     "name": "stdout",
     "output_type": "stream",
     "text": [
      "train score (mean_absolute_error): 1.5517\n",
      "train score (mean_squared_error): 4.0994\n",
      "validation score (mean_absolute_error): 2.0817\n",
      "validation score (mean_squared_error): 6.0812\n",
      "Percentage of data thrown out: 0.04769498105714336%\n",
      " --------------- fold #6 out of -------------------\n"
     ]
    },
    {
     "name": "stderr",
     "output_type": "stream",
     "text": [
      "/home/sergey/.conda/envs/kaggle/lib/python3.6/site-packages/xgboost/core.py:587: FutureWarning: Series.base is deprecated and will be removed in a future version\n",
      "  if getattr(data, 'base', None) is not None and \\\n"
     ]
    },
    {
     "name": "stdout",
     "output_type": "stream",
     "text": [
      "train score (mean_absolute_error): 1.5147\n",
      "train score (mean_squared_error): 3.8776\n",
      "validation score (mean_absolute_error): 2.7937\n",
      "validation score (mean_squared_error): 10.7937\n",
      "Percentage of data thrown out: 0.04769498105714336%\n",
      " --------------- fold #7 out of -------------------\n"
     ]
    },
    {
     "name": "stderr",
     "output_type": "stream",
     "text": [
      "/home/sergey/.conda/envs/kaggle/lib/python3.6/site-packages/xgboost/core.py:587: FutureWarning: Series.base is deprecated and will be removed in a future version\n",
      "  if getattr(data, 'base', None) is not None and \\\n"
     ]
    },
    {
     "name": "stdout",
     "output_type": "stream",
     "text": [
      "train score (mean_absolute_error): 1.5612\n",
      "train score (mean_squared_error): 4.1667\n",
      "validation score (mean_absolute_error): 2.3993\n",
      "validation score (mean_squared_error): 8.4718\n",
      "Percentage of data thrown out: 0.04769498105714336%\n",
      " --------------- fold #8 out of -------------------\n"
     ]
    },
    {
     "name": "stderr",
     "output_type": "stream",
     "text": [
      "/home/sergey/.conda/envs/kaggle/lib/python3.6/site-packages/xgboost/core.py:587: FutureWarning: Series.base is deprecated and will be removed in a future version\n",
      "  if getattr(data, 'base', None) is not None and \\\n"
     ]
    },
    {
     "name": "stdout",
     "output_type": "stream",
     "text": [
      "train score (mean_absolute_error): 1.5879\n",
      "train score (mean_squared_error): 4.2124\n",
      "validation score (mean_absolute_error): 1.5412\n",
      "validation score (mean_squared_error): 4.3440\n",
      "['data_fname' 'preproc_name' 'preproc_params' 'folds_name' 'folds_params'\n",
      " 'model_name' 'model_params' 'mean_absolute_error' 'mean_squared_error']\n",
      "                                          data_fname    preproc_name  \\\n",
      "0  ../../data/e_lexa/train_proceded_not_smooth_da...  StandardScaler   \n",
      "\n",
      "               preproc_params  folds_name  \\\n",
      "0  {'name': 'StandardScaler'}  CustomFold   \n",
      "\n",
      "                                        folds_params    model_name  \\\n",
      "0  {'name': 'CustomFold', 'n_splits': 9, 'pad': 1...  XGBRegressor   \n",
      "\n",
      "                                        model_params  \\\n",
      "0  {'name': 'XGBRegressor', 'eta': 0.001, 'max_de...   \n",
      "\n",
      "                                 mean_absolute_error  \\\n",
      "0  [1.5785000806159886, 2.671986769656145, 1.5898...   \n",
      "\n",
      "                                  mean_squared_error  \n",
      "0  [4.227559527197216, 10.748659471794944, 4.3246...  \n",
      ".......................Training finished.........................\n",
      "Run 44:\n",
      "....................... Training model ..............................\n",
      "Percentage of data thrown out: 0.04769498105714336%\n",
      " --------------- fold #0 out of -------------------\n"
     ]
    },
    {
     "name": "stderr",
     "output_type": "stream",
     "text": [
      "/home/sergey/.conda/envs/kaggle/lib/python3.6/site-packages/xgboost/core.py:587: FutureWarning: Series.base is deprecated and will be removed in a future version\n",
      "  if getattr(data, 'base', None) is not None and \\\n"
     ]
    },
    {
     "name": "stdout",
     "output_type": "stream",
     "text": [
      "train score (mean_absolute_error): 1.3425\n",
      "train score (mean_squared_error): 3.1583\n",
      "validation score (mean_absolute_error): 4.1236\n",
      "validation score (mean_squared_error): 25.0045\n",
      "Percentage of data thrown out: 0.04769498105714336%\n",
      " --------------- fold #1 out of -------------------\n"
     ]
    },
    {
     "name": "stderr",
     "output_type": "stream",
     "text": [
      "/home/sergey/.conda/envs/kaggle/lib/python3.6/site-packages/xgboost/core.py:587: FutureWarning: Series.base is deprecated and will be removed in a future version\n",
      "  if getattr(data, 'base', None) is not None and \\\n"
     ]
    },
    {
     "name": "stdout",
     "output_type": "stream",
     "text": [
      "train score (mean_absolute_error): 1.6006\n",
      "train score (mean_squared_error): 4.2583\n",
      "validation score (mean_absolute_error): 1.9575\n",
      "validation score (mean_squared_error): 6.3995\n",
      "Percentage of data thrown out: 0.04769498105714336%\n",
      " --------------- fold #2 out of -------------------\n"
     ]
    },
    {
     "name": "stderr",
     "output_type": "stream",
     "text": [
      "/home/sergey/.conda/envs/kaggle/lib/python3.6/site-packages/xgboost/core.py:587: FutureWarning: Series.base is deprecated and will be removed in a future version\n",
      "  if getattr(data, 'base', None) is not None and \\\n"
     ]
    },
    {
     "name": "stdout",
     "output_type": "stream",
     "text": [
      "train score (mean_absolute_error): 1.4960\n",
      "train score (mean_squared_error): 3.8790\n",
      "validation score (mean_absolute_error): 2.5837\n",
      "validation score (mean_squared_error): 11.1583\n",
      "Percentage of data thrown out: 0.04769498105714336%\n",
      " --------------- fold #3 out of -------------------\n"
     ]
    },
    {
     "name": "stderr",
     "output_type": "stream",
     "text": [
      "/home/sergey/.conda/envs/kaggle/lib/python3.6/site-packages/xgboost/core.py:587: FutureWarning: Series.base is deprecated and will be removed in a future version\n",
      "  if getattr(data, 'base', None) is not None and \\\n"
     ]
    },
    {
     "name": "stdout",
     "output_type": "stream",
     "text": [
      "train score (mean_absolute_error): 1.4737\n",
      "train score (mean_squared_error): 3.8176\n",
      "validation score (mean_absolute_error): 2.5340\n",
      "validation score (mean_squared_error): 9.7868\n",
      "Percentage of data thrown out: 0.04769498105714336%\n",
      " --------------- fold #4 out of -------------------\n"
     ]
    },
    {
     "name": "stderr",
     "output_type": "stream",
     "text": [
      "/home/sergey/.conda/envs/kaggle/lib/python3.6/site-packages/xgboost/core.py:587: FutureWarning: Series.base is deprecated and will be removed in a future version\n",
      "  if getattr(data, 'base', None) is not None and \\\n"
     ]
    },
    {
     "name": "stdout",
     "output_type": "stream",
     "text": [
      "train score (mean_absolute_error): 1.4453\n",
      "train score (mean_squared_error): 3.7164\n",
      "validation score (mean_absolute_error): 2.6503\n",
      "validation score (mean_squared_error): 10.0410\n",
      "Percentage of data thrown out: 0.04769498105714336%\n",
      " --------------- fold #5 out of -------------------\n"
     ]
    },
    {
     "name": "stderr",
     "output_type": "stream",
     "text": [
      "/home/sergey/.conda/envs/kaggle/lib/python3.6/site-packages/xgboost/core.py:587: FutureWarning: Series.base is deprecated and will be removed in a future version\n",
      "  if getattr(data, 'base', None) is not None and \\\n"
     ]
    },
    {
     "name": "stdout",
     "output_type": "stream",
     "text": [
      "train score (mean_absolute_error): 1.5422\n",
      "train score (mean_squared_error): 4.0896\n",
      "validation score (mean_absolute_error): 2.1351\n",
      "validation score (mean_squared_error): 8.0645\n",
      "Percentage of data thrown out: 0.04769498105714336%\n",
      " --------------- fold #6 out of -------------------\n"
     ]
    },
    {
     "name": "stderr",
     "output_type": "stream",
     "text": [
      "/home/sergey/.conda/envs/kaggle/lib/python3.6/site-packages/xgboost/core.py:587: FutureWarning: Series.base is deprecated and will be removed in a future version\n",
      "  if getattr(data, 'base', None) is not None and \\\n"
     ]
    },
    {
     "name": "stdout",
     "output_type": "stream",
     "text": [
      "train score (mean_absolute_error): 1.5281\n",
      "train score (mean_squared_error): 4.0259\n",
      "validation score (mean_absolute_error): 1.5180\n",
      "validation score (mean_squared_error): 3.4613\n",
      "Percentage of data thrown out: 0.04769498105714336%\n",
      " --------------- fold #7 out of -------------------\n"
     ]
    },
    {
     "name": "stderr",
     "output_type": "stream",
     "text": [
      "/home/sergey/.conda/envs/kaggle/lib/python3.6/site-packages/xgboost/core.py:587: FutureWarning: Series.base is deprecated and will be removed in a future version\n",
      "  if getattr(data, 'base', None) is not None and \\\n"
     ]
    },
    {
     "name": "stdout",
     "output_type": "stream",
     "text": [
      "train score (mean_absolute_error): 1.5340\n",
      "train score (mean_squared_error): 4.0153\n",
      "validation score (mean_absolute_error): 2.5856\n",
      "validation score (mean_squared_error): 9.6876\n",
      "Percentage of data thrown out: 0.04769498105714336%\n",
      " --------------- fold #8 out of -------------------\n"
     ]
    },
    {
     "name": "stderr",
     "output_type": "stream",
     "text": [
      "/home/sergey/.conda/envs/kaggle/lib/python3.6/site-packages/xgboost/core.py:587: FutureWarning: Series.base is deprecated and will be removed in a future version\n",
      "  if getattr(data, 'base', None) is not None and \\\n"
     ]
    },
    {
     "name": "stdout",
     "output_type": "stream",
     "text": [
      "train score (mean_absolute_error): 1.5259\n",
      "train score (mean_squared_error): 4.0062\n",
      "validation score (mean_absolute_error): 2.1758\n",
      "validation score (mean_squared_error): 7.3954\n",
      "['data_fname' 'preproc_name' 'preproc_params' 'folds_name' 'folds_params'\n",
      " 'model_name' 'model_params' 'mean_absolute_error' 'mean_squared_error']\n",
      "                                          data_fname    preproc_name  \\\n",
      "0  ../../data/e_lexa/train_proceded_not_smooth_da...  StandardScaler   \n",
      "\n",
      "               preproc_params  folds_name  \\\n",
      "0  {'name': 'StandardScaler'}  CustomFold   \n",
      "\n",
      "                                        folds_params    model_name  \\\n",
      "0  {'name': 'CustomFold', 'n_splits': 9, 'pad': 1...  XGBRegressor   \n",
      "\n",
      "                                        model_params  \\\n",
      "0  {'name': 'XGBRegressor', 'eta': 0.001, 'max_de...   \n",
      "\n",
      "                                 mean_absolute_error  \\\n",
      "0  [1.3424725368280626, 4.123566542478666, 1.6006...   \n",
      "\n",
      "                                  mean_squared_error  \n",
      "0  [3.1582823391366035, 25.004538736844733, 4.258...  \n",
      ".......................Training finished.........................\n",
      "Run 45:\n",
      "....................... Training model ..............................\n",
      "Percentage of data thrown out: 0.04769498105714336%\n",
      " --------------- fold #0 out of -------------------\n"
     ]
    },
    {
     "name": "stderr",
     "output_type": "stream",
     "text": [
      "/home/sergey/.conda/envs/kaggle/lib/python3.6/site-packages/xgboost/core.py:587: FutureWarning: Series.base is deprecated and will be removed in a future version\n",
      "  if getattr(data, 'base', None) is not None and \\\n"
     ]
    },
    {
     "name": "stdout",
     "output_type": "stream",
     "text": [
      "train score (mean_absolute_error): 1.6047\n",
      "train score (mean_squared_error): 4.2879\n",
      "validation score (mean_absolute_error): 1.7262\n",
      "validation score (mean_squared_error): 5.8325\n",
      "Percentage of data thrown out: 0.04769498105714336%\n",
      " --------------- fold #1 out of -------------------\n"
     ]
    },
    {
     "name": "stderr",
     "output_type": "stream",
     "text": [
      "/home/sergey/.conda/envs/kaggle/lib/python3.6/site-packages/xgboost/core.py:587: FutureWarning: Series.base is deprecated and will be removed in a future version\n",
      "  if getattr(data, 'base', None) is not None and \\\n"
     ]
    },
    {
     "name": "stdout",
     "output_type": "stream",
     "text": [
      "train score (mean_absolute_error): 1.5736\n",
      "train score (mean_squared_error): 4.2067\n",
      "validation score (mean_absolute_error): 1.3889\n",
      "validation score (mean_squared_error): 3.3986\n",
      "Percentage of data thrown out: 0.04769498105714336%\n",
      " --------------- fold #2 out of -------------------\n"
     ]
    },
    {
     "name": "stderr",
     "output_type": "stream",
     "text": [
      "/home/sergey/.conda/envs/kaggle/lib/python3.6/site-packages/xgboost/core.py:587: FutureWarning: Series.base is deprecated and will be removed in a future version\n",
      "  if getattr(data, 'base', None) is not None and \\\n"
     ]
    },
    {
     "name": "stdout",
     "output_type": "stream",
     "text": [
      "train score (mean_absolute_error): 1.5611\n",
      "train score (mean_squared_error): 4.0827\n",
      "validation score (mean_absolute_error): 2.1212\n",
      "validation score (mean_squared_error): 6.8107\n",
      "Percentage of data thrown out: 0.04769498105714336%\n",
      " --------------- fold #3 out of -------------------\n"
     ]
    },
    {
     "name": "stderr",
     "output_type": "stream",
     "text": [
      "/home/sergey/.conda/envs/kaggle/lib/python3.6/site-packages/xgboost/core.py:587: FutureWarning: Series.base is deprecated and will be removed in a future version\n",
      "  if getattr(data, 'base', None) is not None and \\\n"
     ]
    },
    {
     "name": "stdout",
     "output_type": "stream",
     "text": [
      "train score (mean_absolute_error): 1.3133\n",
      "train score (mean_squared_error): 3.0165\n",
      "validation score (mean_absolute_error): 4.1008\n",
      "validation score (mean_squared_error): 24.2594\n",
      "Percentage of data thrown out: 0.04769498105714336%\n",
      " --------------- fold #4 out of -------------------\n"
     ]
    },
    {
     "name": "stderr",
     "output_type": "stream",
     "text": [
      "/home/sergey/.conda/envs/kaggle/lib/python3.6/site-packages/xgboost/core.py:587: FutureWarning: Series.base is deprecated and will be removed in a future version\n",
      "  if getattr(data, 'base', None) is not None and \\\n"
     ]
    },
    {
     "name": "stdout",
     "output_type": "stream",
     "text": [
      "train score (mean_absolute_error): 1.5373\n",
      "train score (mean_squared_error): 4.0596\n",
      "validation score (mean_absolute_error): 2.6933\n",
      "validation score (mean_squared_error): 10.5736\n",
      "Percentage of data thrown out: 0.04769498105714336%\n",
      " --------------- fold #5 out of -------------------\n"
     ]
    },
    {
     "name": "stderr",
     "output_type": "stream",
     "text": [
      "/home/sergey/.conda/envs/kaggle/lib/python3.6/site-packages/xgboost/core.py:587: FutureWarning: Series.base is deprecated and will be removed in a future version\n",
      "  if getattr(data, 'base', None) is not None and \\\n"
     ]
    },
    {
     "name": "stdout",
     "output_type": "stream",
     "text": [
      "train score (mean_absolute_error): 1.4623\n",
      "train score (mean_squared_error): 3.7310\n",
      "validation score (mean_absolute_error): 3.2171\n",
      "validation score (mean_squared_error): 14.5869\n",
      "Percentage of data thrown out: 0.04769498105714336%\n",
      " --------------- fold #6 out of -------------------\n"
     ]
    },
    {
     "name": "stderr",
     "output_type": "stream",
     "text": [
      "/home/sergey/.conda/envs/kaggle/lib/python3.6/site-packages/xgboost/core.py:587: FutureWarning: Series.base is deprecated and will be removed in a future version\n",
      "  if getattr(data, 'base', None) is not None and \\\n"
     ]
    },
    {
     "name": "stdout",
     "output_type": "stream",
     "text": [
      "train score (mean_absolute_error): 1.5204\n",
      "train score (mean_squared_error): 3.8907\n",
      "validation score (mean_absolute_error): 2.8482\n",
      "validation score (mean_squared_error): 10.9215\n",
      "Percentage of data thrown out: 0.04769498105714336%\n",
      " --------------- fold #7 out of -------------------\n"
     ]
    },
    {
     "name": "stderr",
     "output_type": "stream",
     "text": [
      "/home/sergey/.conda/envs/kaggle/lib/python3.6/site-packages/xgboost/core.py:587: FutureWarning: Series.base is deprecated and will be removed in a future version\n",
      "  if getattr(data, 'base', None) is not None and \\\n"
     ]
    },
    {
     "name": "stdout",
     "output_type": "stream",
     "text": [
      "train score (mean_absolute_error): 1.5187\n",
      "train score (mean_squared_error): 3.9217\n",
      "validation score (mean_absolute_error): 2.5199\n",
      "validation score (mean_squared_error): 10.2739\n",
      "Percentage of data thrown out: 0.04769498105714336%\n",
      " --------------- fold #8 out of -------------------\n"
     ]
    },
    {
     "name": "stderr",
     "output_type": "stream",
     "text": [
      "/home/sergey/.conda/envs/kaggle/lib/python3.6/site-packages/xgboost/core.py:587: FutureWarning: Series.base is deprecated and will be removed in a future version\n",
      "  if getattr(data, 'base', None) is not None and \\\n"
     ]
    },
    {
     "name": "stdout",
     "output_type": "stream",
     "text": [
      "train score (mean_absolute_error): 1.3048\n",
      "train score (mean_squared_error): 3.0013\n",
      "validation score (mean_absolute_error): 4.1321\n",
      "validation score (mean_squared_error): 24.7978\n",
      "['data_fname' 'preproc_name' 'preproc_params' 'folds_name' 'folds_params'\n",
      " 'model_name' 'model_params' 'mean_absolute_error' 'mean_squared_error']\n",
      "                                          data_fname    preproc_name  \\\n",
      "0  ../../data/e_lexa/train_proceded_not_smooth_da...  StandardScaler   \n",
      "\n",
      "               preproc_params  folds_name  \\\n",
      "0  {'name': 'StandardScaler'}  CustomFold   \n",
      "\n",
      "                                        folds_params    model_name  \\\n",
      "0  {'name': 'CustomFold', 'n_splits': 9, 'pad': 1...  XGBRegressor   \n",
      "\n",
      "                                        model_params  \\\n",
      "0  {'name': 'XGBRegressor', 'eta': 0.001, 'max_de...   \n",
      "\n",
      "                                 mean_absolute_error  \\\n",
      "0  [1.604669296036312, 1.7261853296732446, 1.5736...   \n",
      "\n",
      "                                  mean_squared_error  \n",
      "0  [4.287939747310871, 5.832525450249593, 4.20668...  \n",
      ".......................Training finished.........................\n",
      "Run 46:\n",
      "....................... Training model ..............................\n",
      "Percentage of data thrown out: 0.04769498105714336%\n",
      " --------------- fold #0 out of -------------------\n"
     ]
    },
    {
     "name": "stderr",
     "output_type": "stream",
     "text": [
      "/home/sergey/.conda/envs/kaggle/lib/python3.6/site-packages/xgboost/core.py:587: FutureWarning: Series.base is deprecated and will be removed in a future version\n",
      "  if getattr(data, 'base', None) is not None and \\\n"
     ]
    },
    {
     "name": "stdout",
     "output_type": "stream",
     "text": [
      "train score (mean_absolute_error): 1.4916\n",
      "train score (mean_squared_error): 3.7712\n",
      "validation score (mean_absolute_error): 2.5624\n",
      "validation score (mean_squared_error): 10.7101\n",
      "Percentage of data thrown out: 0.04769498105714336%\n",
      " --------------- fold #1 out of -------------------\n"
     ]
    },
    {
     "name": "stderr",
     "output_type": "stream",
     "text": [
      "/home/sergey/.conda/envs/kaggle/lib/python3.6/site-packages/xgboost/core.py:587: FutureWarning: Series.base is deprecated and will be removed in a future version\n",
      "  if getattr(data, 'base', None) is not None and \\\n"
     ]
    },
    {
     "name": "stdout",
     "output_type": "stream",
     "text": [
      "train score (mean_absolute_error): 1.5557\n",
      "train score (mean_squared_error): 4.0725\n",
      "validation score (mean_absolute_error): 1.7461\n",
      "validation score (mean_squared_error): 5.2709\n",
      "Percentage of data thrown out: 0.04769498105714336%\n",
      " --------------- fold #2 out of -------------------\n"
     ]
    },
    {
     "name": "stderr",
     "output_type": "stream",
     "text": [
      "/home/sergey/.conda/envs/kaggle/lib/python3.6/site-packages/xgboost/core.py:587: FutureWarning: Series.base is deprecated and will be removed in a future version\n",
      "  if getattr(data, 'base', None) is not None and \\\n"
     ]
    },
    {
     "name": "stdout",
     "output_type": "stream",
     "text": [
      "train score (mean_absolute_error): 1.4898\n",
      "train score (mean_squared_error): 3.6978\n",
      "validation score (mean_absolute_error): 3.2029\n",
      "validation score (mean_squared_error): 13.9076\n",
      "Percentage of data thrown out: 0.04769498105714336%\n",
      " --------------- fold #3 out of -------------------\n"
     ]
    },
    {
     "name": "stderr",
     "output_type": "stream",
     "text": [
      "/home/sergey/.conda/envs/kaggle/lib/python3.6/site-packages/xgboost/core.py:587: FutureWarning: Series.base is deprecated and will be removed in a future version\n",
      "  if getattr(data, 'base', None) is not None and \\\n"
     ]
    },
    {
     "name": "stdout",
     "output_type": "stream",
     "text": [
      "train score (mean_absolute_error): 1.5614\n",
      "train score (mean_squared_error): 4.1725\n",
      "validation score (mean_absolute_error): 2.8081\n",
      "validation score (mean_squared_error): 10.9833\n",
      "Percentage of data thrown out: 0.04769498105714336%\n",
      " --------------- fold #4 out of -------------------\n"
     ]
    },
    {
     "name": "stderr",
     "output_type": "stream",
     "text": [
      "/home/sergey/.conda/envs/kaggle/lib/python3.6/site-packages/xgboost/core.py:587: FutureWarning: Series.base is deprecated and will be removed in a future version\n",
      "  if getattr(data, 'base', None) is not None and \\\n"
     ]
    },
    {
     "name": "stdout",
     "output_type": "stream",
     "text": [
      "train score (mean_absolute_error): 1.6066\n",
      "train score (mean_squared_error): 4.2972\n",
      "validation score (mean_absolute_error): 1.4372\n",
      "validation score (mean_squared_error): 3.6538\n",
      "Percentage of data thrown out: 0.04769498105714336%\n",
      " --------------- fold #5 out of -------------------\n"
     ]
    },
    {
     "name": "stderr",
     "output_type": "stream",
     "text": [
      "/home/sergey/.conda/envs/kaggle/lib/python3.6/site-packages/xgboost/core.py:587: FutureWarning: Series.base is deprecated and will be removed in a future version\n",
      "  if getattr(data, 'base', None) is not None and \\\n"
     ]
    },
    {
     "name": "stdout",
     "output_type": "stream",
     "text": [
      "train score (mean_absolute_error): 1.3866\n",
      "train score (mean_squared_error): 3.2251\n",
      "validation score (mean_absolute_error): 3.9385\n",
      "validation score (mean_squared_error): 21.8577\n",
      "Percentage of data thrown out: 0.04769498105714336%\n",
      " --------------- fold #6 out of -------------------\n"
     ]
    },
    {
     "name": "stderr",
     "output_type": "stream",
     "text": [
      "/home/sergey/.conda/envs/kaggle/lib/python3.6/site-packages/xgboost/core.py:587: FutureWarning: Series.base is deprecated and will be removed in a future version\n",
      "  if getattr(data, 'base', None) is not None and \\\n"
     ]
    },
    {
     "name": "stdout",
     "output_type": "stream",
     "text": [
      "train score (mean_absolute_error): 1.3739\n",
      "train score (mean_squared_error): 3.2268\n",
      "validation score (mean_absolute_error): 3.9944\n",
      "validation score (mean_squared_error): 22.6998\n",
      "Percentage of data thrown out: 0.04769498105714336%\n",
      " --------------- fold #7 out of -------------------\n"
     ]
    },
    {
     "name": "stderr",
     "output_type": "stream",
     "text": [
      "/home/sergey/.conda/envs/kaggle/lib/python3.6/site-packages/xgboost/core.py:587: FutureWarning: Series.base is deprecated and will be removed in a future version\n",
      "  if getattr(data, 'base', None) is not None and \\\n"
     ]
    },
    {
     "name": "stdout",
     "output_type": "stream",
     "text": [
      "train score (mean_absolute_error): 1.5819\n",
      "train score (mean_squared_error): 4.1982\n",
      "validation score (mean_absolute_error): 1.9727\n",
      "validation score (mean_squared_error): 6.3399\n",
      "Percentage of data thrown out: 0.04769498105714336%\n",
      " --------------- fold #8 out of -------------------\n"
     ]
    },
    {
     "name": "stderr",
     "output_type": "stream",
     "text": [
      "/home/sergey/.conda/envs/kaggle/lib/python3.6/site-packages/xgboost/core.py:587: FutureWarning: Series.base is deprecated and will be removed in a future version\n",
      "  if getattr(data, 'base', None) is not None and \\\n"
     ]
    },
    {
     "name": "stdout",
     "output_type": "stream",
     "text": [
      "train score (mean_absolute_error): 1.5151\n",
      "train score (mean_squared_error): 3.9399\n",
      "validation score (mean_absolute_error): 2.4218\n",
      "validation score (mean_squared_error): 9.8694\n",
      "['data_fname' 'preproc_name' 'preproc_params' 'folds_name' 'folds_params'\n",
      " 'model_name' 'model_params' 'mean_absolute_error' 'mean_squared_error']\n",
      "                                          data_fname    preproc_name  \\\n",
      "0  ../../data/e_lexa/train_proceded_not_smooth_da...  StandardScaler   \n",
      "\n",
      "               preproc_params  folds_name  \\\n",
      "0  {'name': 'StandardScaler'}  CustomFold   \n",
      "\n",
      "                                        folds_params    model_name  \\\n",
      "0  {'name': 'CustomFold', 'n_splits': 9, 'pad': 1...  XGBRegressor   \n",
      "\n",
      "                                        model_params  \\\n",
      "0  {'name': 'XGBRegressor', 'eta': 0.001, 'max_de...   \n",
      "\n",
      "                                 mean_absolute_error  \\\n",
      "0  [1.4916046924184783, 2.562444801328939, 1.5556...   \n",
      "\n",
      "                                  mean_squared_error  \n",
      "0  [3.7712135645387748, 10.710069164907262, 4.072...  \n",
      ".......................Training finished.........................\n",
      "Run 47:\n",
      "....................... Training model ..............................\n",
      "Percentage of data thrown out: 0.04769498105714336%\n",
      " --------------- fold #0 out of -------------------\n"
     ]
    },
    {
     "name": "stderr",
     "output_type": "stream",
     "text": [
      "/home/sergey/.conda/envs/kaggle/lib/python3.6/site-packages/xgboost/core.py:587: FutureWarning: Series.base is deprecated and will be removed in a future version\n",
      "  if getattr(data, 'base', None) is not None and \\\n"
     ]
    },
    {
     "name": "stdout",
     "output_type": "stream",
     "text": [
      "train score (mean_absolute_error): 1.5450\n",
      "train score (mean_squared_error): 4.0335\n",
      "validation score (mean_absolute_error): 1.9045\n",
      "validation score (mean_squared_error): 5.7484\n",
      "Percentage of data thrown out: 0.04769498105714336%\n",
      " --------------- fold #1 out of -------------------\n"
     ]
    },
    {
     "name": "stderr",
     "output_type": "stream",
     "text": [
      "/home/sergey/.conda/envs/kaggle/lib/python3.6/site-packages/xgboost/core.py:587: FutureWarning: Series.base is deprecated and will be removed in a future version\n",
      "  if getattr(data, 'base', None) is not None and \\\n"
     ]
    },
    {
     "name": "stdout",
     "output_type": "stream",
     "text": [
      "train score (mean_absolute_error): 1.6206\n",
      "train score (mean_squared_error): 4.4086\n",
      "validation score (mean_absolute_error): 1.3011\n",
      "validation score (mean_squared_error): 2.8938\n",
      "Percentage of data thrown out: 0.02384749052857168%\n",
      " --------------- fold #2 out of -------------------\n"
     ]
    },
    {
     "name": "stderr",
     "output_type": "stream",
     "text": [
      "/home/sergey/.conda/envs/kaggle/lib/python3.6/site-packages/xgboost/core.py:587: FutureWarning: Series.base is deprecated and will be removed in a future version\n",
      "  if getattr(data, 'base', None) is not None and \\\n"
     ]
    },
    {
     "name": "stdout",
     "output_type": "stream",
     "text": [
      "train score (mean_absolute_error): 1.5378\n",
      "train score (mean_squared_error): 4.0436\n",
      "validation score (mean_absolute_error): 2.4464\n",
      "validation score (mean_squared_error): 7.9845\n",
      "Percentage of data thrown out: 0.04769498105714336%\n",
      " --------------- fold #3 out of -------------------\n"
     ]
    },
    {
     "name": "stderr",
     "output_type": "stream",
     "text": [
      "/home/sergey/.conda/envs/kaggle/lib/python3.6/site-packages/xgboost/core.py:587: FutureWarning: Series.base is deprecated and will be removed in a future version\n",
      "  if getattr(data, 'base', None) is not None and \\\n"
     ]
    },
    {
     "name": "stdout",
     "output_type": "stream",
     "text": [
      "train score (mean_absolute_error): 1.5126\n",
      "train score (mean_squared_error): 3.9092\n",
      "validation score (mean_absolute_error): 2.9201\n",
      "validation score (mean_squared_error): 11.8698\n",
      "Percentage of data thrown out: 0.04769498105714336%\n",
      " --------------- fold #4 out of -------------------\n"
     ]
    },
    {
     "name": "stderr",
     "output_type": "stream",
     "text": [
      "/home/sergey/.conda/envs/kaggle/lib/python3.6/site-packages/xgboost/core.py:587: FutureWarning: Series.base is deprecated and will be removed in a future version\n",
      "  if getattr(data, 'base', None) is not None and \\\n"
     ]
    },
    {
     "name": "stdout",
     "output_type": "stream",
     "text": [
      "train score (mean_absolute_error): 1.4541\n",
      "train score (mean_squared_error): 3.6206\n",
      "validation score (mean_absolute_error): 3.4118\n",
      "validation score (mean_squared_error): 17.3905\n",
      "Percentage of data thrown out: 0.04769498105714336%\n",
      " --------------- fold #5 out of -------------------\n"
     ]
    },
    {
     "name": "stderr",
     "output_type": "stream",
     "text": [
      "/home/sergey/.conda/envs/kaggle/lib/python3.6/site-packages/xgboost/core.py:587: FutureWarning: Series.base is deprecated and will be removed in a future version\n",
      "  if getattr(data, 'base', None) is not None and \\\n"
     ]
    },
    {
     "name": "stdout",
     "output_type": "stream",
     "text": [
      "train score (mean_absolute_error): 1.4857\n",
      "train score (mean_squared_error): 3.8104\n",
      "validation score (mean_absolute_error): 3.0324\n",
      "validation score (mean_squared_error): 13.1578\n",
      "Percentage of data thrown out: 0.04769498105714336%\n",
      " --------------- fold #6 out of -------------------\n"
     ]
    },
    {
     "name": "stderr",
     "output_type": "stream",
     "text": [
      "/home/sergey/.conda/envs/kaggle/lib/python3.6/site-packages/xgboost/core.py:587: FutureWarning: Series.base is deprecated and will be removed in a future version\n",
      "  if getattr(data, 'base', None) is not None and \\\n"
     ]
    },
    {
     "name": "stdout",
     "output_type": "stream",
     "text": [
      "train score (mean_absolute_error): 1.4031\n",
      "train score (mean_squared_error): 3.4319\n",
      "validation score (mean_absolute_error): 3.0936\n",
      "validation score (mean_squared_error): 14.5911\n",
      "Percentage of data thrown out: 0.04769498105714336%\n",
      " --------------- fold #7 out of -------------------\n"
     ]
    },
    {
     "name": "stderr",
     "output_type": "stream",
     "text": [
      "/home/sergey/.conda/envs/kaggle/lib/python3.6/site-packages/xgboost/core.py:587: FutureWarning: Series.base is deprecated and will be removed in a future version\n",
      "  if getattr(data, 'base', None) is not None and \\\n"
     ]
    },
    {
     "name": "stdout",
     "output_type": "stream",
     "text": [
      "train score (mean_absolute_error): 1.4543\n",
      "train score (mean_squared_error): 3.6503\n",
      "validation score (mean_absolute_error): 3.0497\n",
      "validation score (mean_squared_error): 13.0296\n",
      "Percentage of data thrown out: 0.04769498105714336%\n",
      " --------------- fold #8 out of -------------------\n"
     ]
    },
    {
     "name": "stderr",
     "output_type": "stream",
     "text": [
      "/home/sergey/.conda/envs/kaggle/lib/python3.6/site-packages/xgboost/core.py:587: FutureWarning: Series.base is deprecated and will be removed in a future version\n",
      "  if getattr(data, 'base', None) is not None and \\\n"
     ]
    },
    {
     "name": "stdout",
     "output_type": "stream",
     "text": [
      "train score (mean_absolute_error): 1.4465\n",
      "train score (mean_squared_error): 3.6367\n",
      "validation score (mean_absolute_error): 2.5849\n",
      "validation score (mean_squared_error): 10.5785\n",
      "['data_fname' 'preproc_name' 'preproc_params' 'folds_name' 'folds_params'\n",
      " 'model_name' 'model_params' 'mean_absolute_error' 'mean_squared_error']\n",
      "                                          data_fname    preproc_name  \\\n",
      "0  ../../data/e_lexa/train_proceded_not_smooth_da...  StandardScaler   \n",
      "\n",
      "               preproc_params  folds_name  \\\n",
      "0  {'name': 'StandardScaler'}  CustomFold   \n",
      "\n",
      "                                        folds_params    model_name  \\\n",
      "0  {'name': 'CustomFold', 'n_splits': 9, 'pad': 1...  XGBRegressor   \n",
      "\n",
      "                                        model_params  \\\n",
      "0  {'name': 'XGBRegressor', 'eta': 0.001, 'max_de...   \n",
      "\n",
      "                                 mean_absolute_error  \\\n",
      "0  [1.545030623738783, 1.9044767178301285, 1.6205...   \n",
      "\n",
      "                                  mean_squared_error  \n",
      "0  [4.033512763871435, 5.748383488472485, 4.40862...  \n",
      ".......................Training finished.........................\n",
      "Run 48:\n",
      "....................... Training model ..............................\n",
      "Percentage of data thrown out: 0.04769498105714336%\n",
      " --------------- fold #0 out of -------------------\n"
     ]
    },
    {
     "name": "stderr",
     "output_type": "stream",
     "text": [
      "/home/sergey/.conda/envs/kaggle/lib/python3.6/site-packages/xgboost/core.py:587: FutureWarning: Series.base is deprecated and will be removed in a future version\n",
      "  if getattr(data, 'base', None) is not None and \\\n"
     ]
    },
    {
     "name": "stdout",
     "output_type": "stream",
     "text": [
      "train score (mean_absolute_error): 1.3554\n",
      "train score (mean_squared_error): 3.1495\n",
      "validation score (mean_absolute_error): 3.9206\n",
      "validation score (mean_squared_error): 22.1538\n",
      "Percentage of data thrown out: 0.04769498105714336%\n",
      " --------------- fold #1 out of -------------------\n"
     ]
    },
    {
     "name": "stderr",
     "output_type": "stream",
     "text": [
      "/home/sergey/.conda/envs/kaggle/lib/python3.6/site-packages/xgboost/core.py:587: FutureWarning: Series.base is deprecated and will be removed in a future version\n",
      "  if getattr(data, 'base', None) is not None and \\\n"
     ]
    },
    {
     "name": "stdout",
     "output_type": "stream",
     "text": [
      "train score (mean_absolute_error): 1.5708\n",
      "train score (mean_squared_error): 4.1565\n",
      "validation score (mean_absolute_error): 1.7599\n",
      "validation score (mean_squared_error): 5.2427\n",
      "Percentage of data thrown out: 0.04769498105714336%\n",
      " --------------- fold #2 out of -------------------\n"
     ]
    },
    {
     "name": "stderr",
     "output_type": "stream",
     "text": [
      "/home/sergey/.conda/envs/kaggle/lib/python3.6/site-packages/xgboost/core.py:587: FutureWarning: Series.base is deprecated and will be removed in a future version\n",
      "  if getattr(data, 'base', None) is not None and \\\n"
     ]
    },
    {
     "name": "stdout",
     "output_type": "stream",
     "text": [
      "train score (mean_absolute_error): 1.5192\n",
      "train score (mean_squared_error): 4.0250\n",
      "validation score (mean_absolute_error): 2.0153\n",
      "validation score (mean_squared_error): 6.9333\n",
      "Percentage of data thrown out: 0.04769498105714336%\n",
      " --------------- fold #3 out of -------------------\n"
     ]
    },
    {
     "name": "stderr",
     "output_type": "stream",
     "text": [
      "/home/sergey/.conda/envs/kaggle/lib/python3.6/site-packages/xgboost/core.py:587: FutureWarning: Series.base is deprecated and will be removed in a future version\n",
      "  if getattr(data, 'base', None) is not None and \\\n"
     ]
    },
    {
     "name": "stdout",
     "output_type": "stream",
     "text": [
      "train score (mean_absolute_error): 1.5387\n",
      "train score (mean_squared_error): 4.0371\n",
      "validation score (mean_absolute_error): 1.9510\n",
      "validation score (mean_squared_error): 6.2130\n",
      "Percentage of data thrown out: 0.04769498105714336%\n",
      " --------------- fold #4 out of -------------------\n"
     ]
    },
    {
     "name": "stderr",
     "output_type": "stream",
     "text": [
      "/home/sergey/.conda/envs/kaggle/lib/python3.6/site-packages/xgboost/core.py:587: FutureWarning: Series.base is deprecated and will be removed in a future version\n",
      "  if getattr(data, 'base', None) is not None and \\\n"
     ]
    },
    {
     "name": "stdout",
     "output_type": "stream",
     "text": [
      "train score (mean_absolute_error): 1.4547\n",
      "train score (mean_squared_error): 3.6850\n",
      "validation score (mean_absolute_error): 2.8062\n",
      "validation score (mean_squared_error): 12.3362\n",
      "Percentage of data thrown out: 0.02384749052857168%\n",
      " --------------- fold #5 out of -------------------\n"
     ]
    },
    {
     "name": "stderr",
     "output_type": "stream",
     "text": [
      "/home/sergey/.conda/envs/kaggle/lib/python3.6/site-packages/xgboost/core.py:587: FutureWarning: Series.base is deprecated and will be removed in a future version\n",
      "  if getattr(data, 'base', None) is not None and \\\n"
     ]
    },
    {
     "name": "stdout",
     "output_type": "stream",
     "text": [
      "train score (mean_absolute_error): 1.6061\n",
      "train score (mean_squared_error): 4.3373\n",
      "validation score (mean_absolute_error): 2.1727\n",
      "validation score (mean_squared_error): 8.7365\n",
      "Percentage of data thrown out: 0.04769498105714336%\n",
      " --------------- fold #6 out of -------------------\n"
     ]
    },
    {
     "name": "stderr",
     "output_type": "stream",
     "text": [
      "/home/sergey/.conda/envs/kaggle/lib/python3.6/site-packages/xgboost/core.py:587: FutureWarning: Series.base is deprecated and will be removed in a future version\n",
      "  if getattr(data, 'base', None) is not None and \\\n"
     ]
    },
    {
     "name": "stdout",
     "output_type": "stream",
     "text": [
      "train score (mean_absolute_error): 1.5599\n",
      "train score (mean_squared_error): 4.1976\n",
      "validation score (mean_absolute_error): 1.9416\n",
      "validation score (mean_squared_error): 6.4431\n",
      "Percentage of data thrown out: 0.04769498105714336%\n",
      " --------------- fold #7 out of -------------------\n"
     ]
    },
    {
     "name": "stderr",
     "output_type": "stream",
     "text": [
      "/home/sergey/.conda/envs/kaggle/lib/python3.6/site-packages/xgboost/core.py:587: FutureWarning: Series.base is deprecated and will be removed in a future version\n",
      "  if getattr(data, 'base', None) is not None and \\\n"
     ]
    },
    {
     "name": "stdout",
     "output_type": "stream",
     "text": [
      "train score (mean_absolute_error): 1.4477\n",
      "train score (mean_squared_error): 3.7130\n",
      "validation score (mean_absolute_error): 2.6099\n",
      "validation score (mean_squared_error): 9.7441\n",
      "Percentage of data thrown out: 0.04769498105714336%\n",
      " --------------- fold #8 out of -------------------\n"
     ]
    },
    {
     "name": "stderr",
     "output_type": "stream",
     "text": [
      "/home/sergey/.conda/envs/kaggle/lib/python3.6/site-packages/xgboost/core.py:587: FutureWarning: Series.base is deprecated and will be removed in a future version\n",
      "  if getattr(data, 'base', None) is not None and \\\n"
     ]
    },
    {
     "name": "stdout",
     "output_type": "stream",
     "text": [
      "train score (mean_absolute_error): 1.4922\n",
      "train score (mean_squared_error): 3.9008\n",
      "validation score (mean_absolute_error): 2.5632\n",
      "validation score (mean_squared_error): 9.5724\n",
      "['data_fname' 'preproc_name' 'preproc_params' 'folds_name' 'folds_params'\n",
      " 'model_name' 'model_params' 'mean_absolute_error' 'mean_squared_error']\n",
      "                                          data_fname    preproc_name  \\\n",
      "0  ../../data/e_lexa/train_proceded_not_smooth_da...  StandardScaler   \n",
      "\n",
      "               preproc_params  folds_name  \\\n",
      "0  {'name': 'StandardScaler'}  CustomFold   \n",
      "\n",
      "                                        folds_params    model_name  \\\n",
      "0  {'name': 'CustomFold', 'n_splits': 9, 'pad': 1...  XGBRegressor   \n",
      "\n",
      "                                        model_params  \\\n",
      "0  {'name': 'XGBRegressor', 'eta': 0.001, 'max_de...   \n",
      "\n",
      "                                 mean_absolute_error  \\\n",
      "0  [1.355438504570014, 3.9206220508213585, 1.5708...   \n",
      "\n",
      "                                  mean_squared_error  \n",
      "0  [3.1495391930694185, 22.153832589374375, 4.156...  \n",
      ".......................Training finished.........................\n",
      "Run 49:\n",
      "....................... Training model ..............................\n",
      "Percentage of data thrown out: 0.04769498105714336%\n",
      " --------------- fold #0 out of -------------------\n"
     ]
    },
    {
     "name": "stderr",
     "output_type": "stream",
     "text": [
      "/home/sergey/.conda/envs/kaggle/lib/python3.6/site-packages/xgboost/core.py:587: FutureWarning: Series.base is deprecated and will be removed in a future version\n",
      "  if getattr(data, 'base', None) is not None and \\\n"
     ]
    },
    {
     "name": "stdout",
     "output_type": "stream",
     "text": [
      "train score (mean_absolute_error): 1.5762\n",
      "train score (mean_squared_error): 4.1919\n",
      "validation score (mean_absolute_error): 1.9422\n",
      "validation score (mean_squared_error): 6.0241\n",
      "Percentage of data thrown out: 0.04769498105714336%\n",
      " --------------- fold #1 out of -------------------\n"
     ]
    },
    {
     "name": "stderr",
     "output_type": "stream",
     "text": [
      "/home/sergey/.conda/envs/kaggle/lib/python3.6/site-packages/xgboost/core.py:587: FutureWarning: Series.base is deprecated and will be removed in a future version\n",
      "  if getattr(data, 'base', None) is not None and \\\n"
     ]
    },
    {
     "name": "stdout",
     "output_type": "stream",
     "text": [
      "train score (mean_absolute_error): 1.5380\n",
      "train score (mean_squared_error): 4.0919\n",
      "validation score (mean_absolute_error): 2.3024\n",
      "validation score (mean_squared_error): 7.4452\n",
      "Percentage of data thrown out: 0.04769498105714336%\n",
      " --------------- fold #2 out of -------------------\n"
     ]
    },
    {
     "name": "stderr",
     "output_type": "stream",
     "text": [
      "/home/sergey/.conda/envs/kaggle/lib/python3.6/site-packages/xgboost/core.py:587: FutureWarning: Series.base is deprecated and will be removed in a future version\n",
      "  if getattr(data, 'base', None) is not None and \\\n"
     ]
    },
    {
     "name": "stdout",
     "output_type": "stream",
     "text": [
      "train score (mean_absolute_error): 1.5568\n",
      "train score (mean_squared_error): 4.1164\n",
      "validation score (mean_absolute_error): 2.3083\n",
      "validation score (mean_squared_error): 7.9337\n",
      "Percentage of data thrown out: 0.04769498105714336%\n",
      " --------------- fold #3 out of -------------------\n"
     ]
    },
    {
     "name": "stderr",
     "output_type": "stream",
     "text": [
      "/home/sergey/.conda/envs/kaggle/lib/python3.6/site-packages/xgboost/core.py:587: FutureWarning: Series.base is deprecated and will be removed in a future version\n",
      "  if getattr(data, 'base', None) is not None and \\\n"
     ]
    },
    {
     "name": "stdout",
     "output_type": "stream",
     "text": [
      "train score (mean_absolute_error): 1.5327\n",
      "train score (mean_squared_error): 4.1413\n",
      "validation score (mean_absolute_error): 2.3000\n",
      "validation score (mean_squared_error): 8.1204\n",
      "Percentage of data thrown out: 0.04769498105714336%\n",
      " --------------- fold #4 out of -------------------\n"
     ]
    },
    {
     "name": "stderr",
     "output_type": "stream",
     "text": [
      "/home/sergey/.conda/envs/kaggle/lib/python3.6/site-packages/xgboost/core.py:587: FutureWarning: Series.base is deprecated and will be removed in a future version\n",
      "  if getattr(data, 'base', None) is not None and \\\n"
     ]
    },
    {
     "name": "stdout",
     "output_type": "stream",
     "text": [
      "train score (mean_absolute_error): 1.4741\n",
      "train score (mean_squared_error): 3.8305\n",
      "validation score (mean_absolute_error): 2.6136\n",
      "validation score (mean_squared_error): 9.8337\n",
      "Percentage of data thrown out: 0.04769498105714336%\n",
      " --------------- fold #5 out of -------------------\n"
     ]
    },
    {
     "name": "stderr",
     "output_type": "stream",
     "text": [
      "/home/sergey/.conda/envs/kaggle/lib/python3.6/site-packages/xgboost/core.py:587: FutureWarning: Series.base is deprecated and will be removed in a future version\n",
      "  if getattr(data, 'base', None) is not None and \\\n"
     ]
    },
    {
     "name": "stdout",
     "output_type": "stream",
     "text": [
      "train score (mean_absolute_error): 1.5409\n",
      "train score (mean_squared_error): 4.1242\n",
      "validation score (mean_absolute_error): 2.4677\n",
      "validation score (mean_squared_error): 9.6948\n",
      "Percentage of data thrown out: 0.04769498105714336%\n",
      " --------------- fold #6 out of -------------------\n"
     ]
    },
    {
     "name": "stderr",
     "output_type": "stream",
     "text": [
      "/home/sergey/.conda/envs/kaggle/lib/python3.6/site-packages/xgboost/core.py:587: FutureWarning: Series.base is deprecated and will be removed in a future version\n",
      "  if getattr(data, 'base', None) is not None and \\\n"
     ]
    },
    {
     "name": "stdout",
     "output_type": "stream",
     "text": [
      "train score (mean_absolute_error): 1.3618\n",
      "train score (mean_squared_error): 3.2513\n",
      "validation score (mean_absolute_error): 4.0323\n",
      "validation score (mean_squared_error): 24.5717\n",
      "Percentage of data thrown out: 0.04769498105714336%\n",
      " --------------- fold #7 out of -------------------\n"
     ]
    },
    {
     "name": "stderr",
     "output_type": "stream",
     "text": [
      "/home/sergey/.conda/envs/kaggle/lib/python3.6/site-packages/xgboost/core.py:587: FutureWarning: Series.base is deprecated and will be removed in a future version\n",
      "  if getattr(data, 'base', None) is not None and \\\n"
     ]
    },
    {
     "name": "stdout",
     "output_type": "stream",
     "text": [
      "train score (mean_absolute_error): 1.5112\n",
      "train score (mean_squared_error): 3.8510\n",
      "validation score (mean_absolute_error): 2.9570\n",
      "validation score (mean_squared_error): 11.7036\n",
      "Percentage of data thrown out: 0.04769498105714336%\n",
      " --------------- fold #8 out of -------------------\n"
     ]
    },
    {
     "name": "stderr",
     "output_type": "stream",
     "text": [
      "/home/sergey/.conda/envs/kaggle/lib/python3.6/site-packages/xgboost/core.py:587: FutureWarning: Series.base is deprecated and will be removed in a future version\n",
      "  if getattr(data, 'base', None) is not None and \\\n"
     ]
    },
    {
     "name": "stdout",
     "output_type": "stream",
     "text": [
      "train score (mean_absolute_error): 1.5330\n",
      "train score (mean_squared_error): 4.0248\n",
      "validation score (mean_absolute_error): 2.1939\n",
      "validation score (mean_squared_error): 6.8276\n",
      "['data_fname' 'preproc_name' 'preproc_params' 'folds_name' 'folds_params'\n",
      " 'model_name' 'model_params' 'mean_absolute_error' 'mean_squared_error']\n",
      "                                          data_fname    preproc_name  \\\n",
      "0  ../../data/e_lexa/train_proceded_not_smooth_da...  StandardScaler   \n",
      "\n",
      "               preproc_params  folds_name  \\\n",
      "0  {'name': 'StandardScaler'}  CustomFold   \n",
      "\n",
      "                                        folds_params    model_name  \\\n",
      "0  {'name': 'CustomFold', 'n_splits': 9, 'pad': 1...  XGBRegressor   \n",
      "\n",
      "                                        model_params  \\\n",
      "0  {'name': 'XGBRegressor', 'eta': 0.001, 'max_de...   \n",
      "\n",
      "                                 mean_absolute_error  \\\n",
      "0  [1.576242912254297, 1.9422199706330971, 1.5380...   \n",
      "\n",
      "                                  mean_squared_error  \n",
      "0  [4.191850238661683, 6.024082536334905, 4.09190...  \n",
      ".......................Training finished.........................\n",
      "Run 50:\n",
      "....................... Training model ..............................\n",
      "Percentage of data thrown out: 0.04769498105714336%\n",
      " --------------- fold #0 out of -------------------\n"
     ]
    },
    {
     "name": "stderr",
     "output_type": "stream",
     "text": [
      "/home/sergey/.conda/envs/kaggle/lib/python3.6/site-packages/xgboost/core.py:587: FutureWarning: Series.base is deprecated and will be removed in a future version\n",
      "  if getattr(data, 'base', None) is not None and \\\n"
     ]
    },
    {
     "name": "stdout",
     "output_type": "stream",
     "text": [
      "train score (mean_absolute_error): 1.5673\n",
      "train score (mean_squared_error): 4.1347\n",
      "validation score (mean_absolute_error): 1.3539\n",
      "validation score (mean_squared_error): 3.4503\n",
      "Percentage of data thrown out: 0.04769498105714336%\n",
      " --------------- fold #1 out of -------------------\n"
     ]
    },
    {
     "name": "stderr",
     "output_type": "stream",
     "text": [
      "/home/sergey/.conda/envs/kaggle/lib/python3.6/site-packages/xgboost/core.py:587: FutureWarning: Series.base is deprecated and will be removed in a future version\n",
      "  if getattr(data, 'base', None) is not None and \\\n"
     ]
    },
    {
     "name": "stdout",
     "output_type": "stream",
     "text": [
      "train score (mean_absolute_error): 1.3967\n",
      "train score (mean_squared_error): 3.4061\n",
      "validation score (mean_absolute_error): 3.4283\n",
      "validation score (mean_squared_error): 17.4748\n",
      "Percentage of data thrown out: 0.04769498105714336%\n",
      " --------------- fold #2 out of -------------------\n"
     ]
    },
    {
     "name": "stderr",
     "output_type": "stream",
     "text": [
      "/home/sergey/.conda/envs/kaggle/lib/python3.6/site-packages/xgboost/core.py:587: FutureWarning: Series.base is deprecated and will be removed in a future version\n",
      "  if getattr(data, 'base', None) is not None and \\\n"
     ]
    },
    {
     "name": "stdout",
     "output_type": "stream",
     "text": [
      "train score (mean_absolute_error): 1.5497\n",
      "train score (mean_squared_error): 4.1539\n",
      "validation score (mean_absolute_error): 2.1658\n",
      "validation score (mean_squared_error): 6.9034\n",
      "Percentage of data thrown out: 0.04769498105714336%\n",
      " --------------- fold #3 out of -------------------\n"
     ]
    },
    {
     "name": "stderr",
     "output_type": "stream",
     "text": [
      "/home/sergey/.conda/envs/kaggle/lib/python3.6/site-packages/xgboost/core.py:587: FutureWarning: Series.base is deprecated and will be removed in a future version\n",
      "  if getattr(data, 'base', None) is not None and \\\n"
     ]
    },
    {
     "name": "stdout",
     "output_type": "stream",
     "text": [
      "train score (mean_absolute_error): 1.4993\n",
      "train score (mean_squared_error): 3.8249\n",
      "validation score (mean_absolute_error): 2.3727\n",
      "validation score (mean_squared_error): 9.4473\n",
      "Percentage of data thrown out: 0.04769498105714336%\n",
      " --------------- fold #4 out of -------------------\n"
     ]
    },
    {
     "name": "stderr",
     "output_type": "stream",
     "text": [
      "/home/sergey/.conda/envs/kaggle/lib/python3.6/site-packages/xgboost/core.py:587: FutureWarning: Series.base is deprecated and will be removed in a future version\n",
      "  if getattr(data, 'base', None) is not None and \\\n"
     ]
    },
    {
     "name": "stdout",
     "output_type": "stream",
     "text": [
      "train score (mean_absolute_error): 1.3510\n",
      "train score (mean_squared_error): 3.1537\n",
      "validation score (mean_absolute_error): 4.0678\n",
      "validation score (mean_squared_error): 23.9655\n",
      "Percentage of data thrown out: 0.04769498105714336%\n",
      " --------------- fold #5 out of -------------------\n"
     ]
    },
    {
     "name": "stderr",
     "output_type": "stream",
     "text": [
      "/home/sergey/.conda/envs/kaggle/lib/python3.6/site-packages/xgboost/core.py:587: FutureWarning: Series.base is deprecated and will be removed in a future version\n",
      "  if getattr(data, 'base', None) is not None and \\\n"
     ]
    },
    {
     "name": "stdout",
     "output_type": "stream",
     "text": [
      "train score (mean_absolute_error): 1.3648\n",
      "train score (mean_squared_error): 3.2676\n",
      "validation score (mean_absolute_error): 3.5953\n",
      "validation score (mean_squared_error): 18.8454\n",
      "Percentage of data thrown out: 0.02384749052857168%\n",
      " --------------- fold #6 out of -------------------\n"
     ]
    },
    {
     "name": "stderr",
     "output_type": "stream",
     "text": [
      "/home/sergey/.conda/envs/kaggle/lib/python3.6/site-packages/xgboost/core.py:587: FutureWarning: Series.base is deprecated and will be removed in a future version\n",
      "  if getattr(data, 'base', None) is not None and \\\n"
     ]
    },
    {
     "name": "stdout",
     "output_type": "stream",
     "text": [
      "train score (mean_absolute_error): 1.5801\n",
      "train score (mean_squared_error): 4.2794\n",
      "validation score (mean_absolute_error): 2.2833\n",
      "validation score (mean_squared_error): 10.0757\n",
      "Percentage of data thrown out: 0.04769498105714336%\n",
      " --------------- fold #7 out of -------------------\n"
     ]
    },
    {
     "name": "stderr",
     "output_type": "stream",
     "text": [
      "/home/sergey/.conda/envs/kaggle/lib/python3.6/site-packages/xgboost/core.py:587: FutureWarning: Series.base is deprecated and will be removed in a future version\n",
      "  if getattr(data, 'base', None) is not None and \\\n"
     ]
    },
    {
     "name": "stdout",
     "output_type": "stream",
     "text": [
      "train score (mean_absolute_error): 1.5561\n",
      "train score (mean_squared_error): 4.1620\n",
      "validation score (mean_absolute_error): 2.2149\n",
      "validation score (mean_squared_error): 7.5690\n",
      "Percentage of data thrown out: 0.04769498105714336%\n",
      " --------------- fold #8 out of -------------------\n"
     ]
    },
    {
     "name": "stderr",
     "output_type": "stream",
     "text": [
      "/home/sergey/.conda/envs/kaggle/lib/python3.6/site-packages/xgboost/core.py:587: FutureWarning: Series.base is deprecated and will be removed in a future version\n",
      "  if getattr(data, 'base', None) is not None and \\\n"
     ]
    },
    {
     "name": "stdout",
     "output_type": "stream",
     "text": [
      "train score (mean_absolute_error): 1.4579\n",
      "train score (mean_squared_error): 3.6937\n",
      "validation score (mean_absolute_error): 2.3997\n",
      "validation score (mean_squared_error): 8.5315\n",
      "['data_fname' 'preproc_name' 'preproc_params' 'folds_name' 'folds_params'\n",
      " 'model_name' 'model_params' 'mean_absolute_error' 'mean_squared_error']\n",
      "                                          data_fname    preproc_name  \\\n",
      "0  ../../data/e_lexa/train_proceded_not_smooth_da...  StandardScaler   \n",
      "\n",
      "               preproc_params  folds_name  \\\n",
      "0  {'name': 'StandardScaler'}  CustomFold   \n",
      "\n",
      "                                        folds_params    model_name  \\\n",
      "0  {'name': 'CustomFold', 'n_splits': 9, 'pad': 1...  XGBRegressor   \n",
      "\n",
      "                                        model_params  \\\n",
      "0  {'name': 'XGBRegressor', 'eta': 0.001, 'max_de...   \n",
      "\n",
      "                                 mean_absolute_error  \\\n",
      "0  [1.5673286669526794, 1.3539363993835294, 1.396...   \n",
      "\n",
      "                                  mean_squared_error  \n",
      "0  [4.134739542419489, 3.4502939024360932, 3.4060...  \n",
      ".......................Training finished.........................\n",
      "Run 51:\n",
      "....................... Training model ..............................\n",
      "Percentage of data thrown out: 0.04769498105714336%\n",
      " --------------- fold #0 out of -------------------\n"
     ]
    },
    {
     "name": "stderr",
     "output_type": "stream",
     "text": [
      "/home/sergey/.conda/envs/kaggle/lib/python3.6/site-packages/xgboost/core.py:587: FutureWarning: Series.base is deprecated and will be removed in a future version\n",
      "  if getattr(data, 'base', None) is not None and \\\n"
     ]
    },
    {
     "name": "stdout",
     "output_type": "stream",
     "text": [
      "train score (mean_absolute_error): 1.3587\n",
      "train score (mean_squared_error): 3.1853\n",
      "validation score (mean_absolute_error): 4.0618\n",
      "validation score (mean_squared_error): 24.8761\n",
      "Percentage of data thrown out: 0.04769498105714336%\n",
      " --------------- fold #1 out of -------------------\n"
     ]
    },
    {
     "name": "stderr",
     "output_type": "stream",
     "text": [
      "/home/sergey/.conda/envs/kaggle/lib/python3.6/site-packages/xgboost/core.py:587: FutureWarning: Series.base is deprecated and will be removed in a future version\n",
      "  if getattr(data, 'base', None) is not None and \\\n"
     ]
    },
    {
     "name": "stdout",
     "output_type": "stream",
     "text": [
      "train score (mean_absolute_error): 1.5035\n",
      "train score (mean_squared_error): 3.9371\n",
      "validation score (mean_absolute_error): 2.0458\n",
      "validation score (mean_squared_error): 7.1025\n",
      "Percentage of data thrown out: 0.04769498105714336%\n",
      " --------------- fold #2 out of -------------------\n"
     ]
    },
    {
     "name": "stderr",
     "output_type": "stream",
     "text": [
      "/home/sergey/.conda/envs/kaggle/lib/python3.6/site-packages/xgboost/core.py:587: FutureWarning: Series.base is deprecated and will be removed in a future version\n",
      "  if getattr(data, 'base', None) is not None and \\\n"
     ]
    },
    {
     "name": "stdout",
     "output_type": "stream",
     "text": [
      "train score (mean_absolute_error): 1.5428\n",
      "train score (mean_squared_error): 4.0915\n",
      "validation score (mean_absolute_error): 2.2380\n",
      "validation score (mean_squared_error): 7.2738\n",
      "Percentage of data thrown out: 0.04769498105714336%\n",
      " --------------- fold #3 out of -------------------\n"
     ]
    },
    {
     "name": "stderr",
     "output_type": "stream",
     "text": [
      "/home/sergey/.conda/envs/kaggle/lib/python3.6/site-packages/xgboost/core.py:587: FutureWarning: Series.base is deprecated and will be removed in a future version\n",
      "  if getattr(data, 'base', None) is not None and \\\n"
     ]
    },
    {
     "name": "stdout",
     "output_type": "stream",
     "text": [
      "train score (mean_absolute_error): 1.4877\n",
      "train score (mean_squared_error): 3.9370\n",
      "validation score (mean_absolute_error): 2.2135\n",
      "validation score (mean_squared_error): 7.6724\n",
      "Percentage of data thrown out: 0.04769498105714336%\n",
      " --------------- fold #4 out of -------------------\n"
     ]
    },
    {
     "name": "stderr",
     "output_type": "stream",
     "text": [
      "/home/sergey/.conda/envs/kaggle/lib/python3.6/site-packages/xgboost/core.py:587: FutureWarning: Series.base is deprecated and will be removed in a future version\n",
      "  if getattr(data, 'base', None) is not None and \\\n"
     ]
    },
    {
     "name": "stdout",
     "output_type": "stream",
     "text": [
      "train score (mean_absolute_error): 1.4732\n",
      "train score (mean_squared_error): 3.8459\n",
      "validation score (mean_absolute_error): 2.6308\n",
      "validation score (mean_squared_error): 10.0699\n",
      "Percentage of data thrown out: 0.04769498105714336%\n",
      " --------------- fold #5 out of -------------------\n"
     ]
    },
    {
     "name": "stderr",
     "output_type": "stream",
     "text": [
      "/home/sergey/.conda/envs/kaggle/lib/python3.6/site-packages/xgboost/core.py:587: FutureWarning: Series.base is deprecated and will be removed in a future version\n",
      "  if getattr(data, 'base', None) is not None and \\\n"
     ]
    },
    {
     "name": "stdout",
     "output_type": "stream",
     "text": [
      "train score (mean_absolute_error): 1.5409\n",
      "train score (mean_squared_error): 4.0995\n",
      "validation score (mean_absolute_error): 2.3795\n",
      "validation score (mean_squared_error): 8.3751\n",
      "Percentage of data thrown out: 0.04769498105714336%\n",
      " --------------- fold #6 out of -------------------\n"
     ]
    },
    {
     "name": "stderr",
     "output_type": "stream",
     "text": [
      "/home/sergey/.conda/envs/kaggle/lib/python3.6/site-packages/xgboost/core.py:587: FutureWarning: Series.base is deprecated and will be removed in a future version\n",
      "  if getattr(data, 'base', None) is not None and \\\n"
     ]
    },
    {
     "name": "stdout",
     "output_type": "stream",
     "text": [
      "train score (mean_absolute_error): 1.5761\n",
      "train score (mean_squared_error): 4.1697\n",
      "validation score (mean_absolute_error): 1.3016\n",
      "validation score (mean_squared_error): 3.2346\n",
      "Percentage of data thrown out: 0.04769498105714336%\n",
      " --------------- fold #7 out of -------------------\n"
     ]
    },
    {
     "name": "stderr",
     "output_type": "stream",
     "text": [
      "/home/sergey/.conda/envs/kaggle/lib/python3.6/site-packages/xgboost/core.py:587: FutureWarning: Series.base is deprecated and will be removed in a future version\n",
      "  if getattr(data, 'base', None) is not None and \\\n"
     ]
    },
    {
     "name": "stdout",
     "output_type": "stream",
     "text": [
      "train score (mean_absolute_error): 1.4895\n",
      "train score (mean_squared_error): 3.8712\n",
      "validation score (mean_absolute_error): 2.0144\n",
      "validation score (mean_squared_error): 7.0064\n",
      "Percentage of data thrown out: 0.02384749052857168%\n",
      " --------------- fold #8 out of -------------------\n"
     ]
    },
    {
     "name": "stderr",
     "output_type": "stream",
     "text": [
      "/home/sergey/.conda/envs/kaggle/lib/python3.6/site-packages/xgboost/core.py:587: FutureWarning: Series.base is deprecated and will be removed in a future version\n",
      "  if getattr(data, 'base', None) is not None and \\\n"
     ]
    },
    {
     "name": "stdout",
     "output_type": "stream",
     "text": [
      "train score (mean_absolute_error): 1.5625\n",
      "train score (mean_squared_error): 4.1098\n",
      "validation score (mean_absolute_error): 2.0854\n",
      "validation score (mean_squared_error): 8.1979\n",
      "['data_fname' 'preproc_name' 'preproc_params' 'folds_name' 'folds_params'\n",
      " 'model_name' 'model_params' 'mean_absolute_error' 'mean_squared_error']\n",
      "                                          data_fname    preproc_name  \\\n",
      "0  ../../data/e_lexa/train_proceded_not_smooth_da...  StandardScaler   \n",
      "\n",
      "               preproc_params  folds_name  \\\n",
      "0  {'name': 'StandardScaler'}  CustomFold   \n",
      "\n",
      "                                        folds_params    model_name  \\\n",
      "0  {'name': 'CustomFold', 'n_splits': 9, 'pad': 1...  XGBRegressor   \n",
      "\n",
      "                                        model_params  \\\n",
      "0  {'name': 'XGBRegressor', 'eta': 0.001, 'max_de...   \n",
      "\n",
      "                                 mean_absolute_error  \\\n",
      "0  [1.3587099452570373, 4.061837719808314, 1.5035...   \n",
      "\n",
      "                                  mean_squared_error  \n",
      "0  [3.185269537768359, 24.876096976755324, 3.9370...  \n",
      ".......................Training finished.........................\n",
      "Run 52:\n",
      "....................... Training model ..............................\n",
      "Percentage of data thrown out: 0.02384749052857168%\n",
      " --------------- fold #0 out of -------------------\n"
     ]
    },
    {
     "name": "stderr",
     "output_type": "stream",
     "text": [
      "/home/sergey/.conda/envs/kaggle/lib/python3.6/site-packages/xgboost/core.py:587: FutureWarning: Series.base is deprecated and will be removed in a future version\n",
      "  if getattr(data, 'base', None) is not None and \\\n"
     ]
    },
    {
     "name": "stdout",
     "output_type": "stream",
     "text": [
      "train score (mean_absolute_error): 1.5776\n",
      "train score (mean_squared_error): 4.2408\n",
      "validation score (mean_absolute_error): 1.7688\n",
      "validation score (mean_squared_error): 5.0274\n",
      "Percentage of data thrown out: 0.04769498105714336%\n",
      " --------------- fold #1 out of -------------------\n"
     ]
    },
    {
     "name": "stderr",
     "output_type": "stream",
     "text": [
      "/home/sergey/.conda/envs/kaggle/lib/python3.6/site-packages/xgboost/core.py:587: FutureWarning: Series.base is deprecated and will be removed in a future version\n",
      "  if getattr(data, 'base', None) is not None and \\\n"
     ]
    },
    {
     "name": "stdout",
     "output_type": "stream",
     "text": [
      "train score (mean_absolute_error): 1.4239\n",
      "train score (mean_squared_error): 3.5450\n",
      "validation score (mean_absolute_error): 3.3218\n",
      "validation score (mean_squared_error): 16.3344\n",
      "Percentage of data thrown out: 0.04769498105714336%\n",
      " --------------- fold #2 out of -------------------\n"
     ]
    },
    {
     "name": "stderr",
     "output_type": "stream",
     "text": [
      "/home/sergey/.conda/envs/kaggle/lib/python3.6/site-packages/xgboost/core.py:587: FutureWarning: Series.base is deprecated and will be removed in a future version\n",
      "  if getattr(data, 'base', None) is not None and \\\n"
     ]
    },
    {
     "name": "stdout",
     "output_type": "stream",
     "text": [
      "train score (mean_absolute_error): 1.4875\n",
      "train score (mean_squared_error): 3.8056\n",
      "validation score (mean_absolute_error): 3.0038\n",
      "validation score (mean_squared_error): 12.7444\n",
      "Percentage of data thrown out: 0.04769498105714336%\n",
      " --------------- fold #3 out of -------------------\n"
     ]
    },
    {
     "name": "stderr",
     "output_type": "stream",
     "text": [
      "/home/sergey/.conda/envs/kaggle/lib/python3.6/site-packages/xgboost/core.py:587: FutureWarning: Series.base is deprecated and will be removed in a future version\n",
      "  if getattr(data, 'base', None) is not None and \\\n"
     ]
    },
    {
     "name": "stdout",
     "output_type": "stream",
     "text": [
      "train score (mean_absolute_error): 1.5808\n",
      "train score (mean_squared_error): 4.2499\n",
      "validation score (mean_absolute_error): 1.4121\n",
      "validation score (mean_squared_error): 3.0845\n",
      "Percentage of data thrown out: 0.04769498105714336%\n",
      " --------------- fold #4 out of -------------------\n"
     ]
    },
    {
     "name": "stderr",
     "output_type": "stream",
     "text": [
      "/home/sergey/.conda/envs/kaggle/lib/python3.6/site-packages/xgboost/core.py:587: FutureWarning: Series.base is deprecated and will be removed in a future version\n",
      "  if getattr(data, 'base', None) is not None and \\\n"
     ]
    },
    {
     "name": "stdout",
     "output_type": "stream",
     "text": [
      "train score (mean_absolute_error): 1.4883\n",
      "train score (mean_squared_error): 3.8209\n",
      "validation score (mean_absolute_error): 3.0269\n",
      "validation score (mean_squared_error): 12.6227\n",
      "Percentage of data thrown out: 0.04769498105714336%\n",
      " --------------- fold #5 out of -------------------\n"
     ]
    },
    {
     "name": "stderr",
     "output_type": "stream",
     "text": [
      "/home/sergey/.conda/envs/kaggle/lib/python3.6/site-packages/xgboost/core.py:587: FutureWarning: Series.base is deprecated and will be removed in a future version\n",
      "  if getattr(data, 'base', None) is not None and \\\n"
     ]
    },
    {
     "name": "stdout",
     "output_type": "stream",
     "text": [
      "train score (mean_absolute_error): 1.6361\n",
      "train score (mean_squared_error): 4.4946\n",
      "validation score (mean_absolute_error): 1.3232\n",
      "validation score (mean_squared_error): 3.3461\n",
      "Percentage of data thrown out: 0.04769498105714336%\n",
      " --------------- fold #6 out of -------------------\n"
     ]
    },
    {
     "name": "stderr",
     "output_type": "stream",
     "text": [
      "/home/sergey/.conda/envs/kaggle/lib/python3.6/site-packages/xgboost/core.py:587: FutureWarning: Series.base is deprecated and will be removed in a future version\n",
      "  if getattr(data, 'base', None) is not None and \\\n"
     ]
    },
    {
     "name": "stdout",
     "output_type": "stream",
     "text": [
      "train score (mean_absolute_error): 1.4813\n",
      "train score (mean_squared_error): 3.7613\n",
      "validation score (mean_absolute_error): 2.9536\n",
      "validation score (mean_squared_error): 12.6040\n",
      "Percentage of data thrown out: 0.04769498105714336%\n",
      " --------------- fold #7 out of -------------------\n"
     ]
    },
    {
     "name": "stderr",
     "output_type": "stream",
     "text": [
      "/home/sergey/.conda/envs/kaggle/lib/python3.6/site-packages/xgboost/core.py:587: FutureWarning: Series.base is deprecated and will be removed in a future version\n",
      "  if getattr(data, 'base', None) is not None and \\\n"
     ]
    },
    {
     "name": "stdout",
     "output_type": "stream",
     "text": [
      "train score (mean_absolute_error): 1.4504\n",
      "train score (mean_squared_error): 3.7574\n",
      "validation score (mean_absolute_error): 2.6411\n",
      "validation score (mean_squared_error): 9.9579\n",
      "Percentage of data thrown out: 0.04769498105714336%\n",
      " --------------- fold #8 out of -------------------\n"
     ]
    },
    {
     "name": "stderr",
     "output_type": "stream",
     "text": [
      "/home/sergey/.conda/envs/kaggle/lib/python3.6/site-packages/xgboost/core.py:587: FutureWarning: Series.base is deprecated and will be removed in a future version\n",
      "  if getattr(data, 'base', None) is not None and \\\n"
     ]
    },
    {
     "name": "stdout",
     "output_type": "stream",
     "text": [
      "train score (mean_absolute_error): 1.4025\n",
      "train score (mean_squared_error): 3.3219\n",
      "validation score (mean_absolute_error): 3.8687\n",
      "validation score (mean_squared_error): 21.9913\n",
      "['data_fname' 'preproc_name' 'preproc_params' 'folds_name' 'folds_params'\n",
      " 'model_name' 'model_params' 'mean_absolute_error' 'mean_squared_error']\n",
      "                                          data_fname    preproc_name  \\\n",
      "0  ../../data/e_lexa/train_proceded_not_smooth_da...  StandardScaler   \n",
      "\n",
      "               preproc_params  folds_name  \\\n",
      "0  {'name': 'StandardScaler'}  CustomFold   \n",
      "\n",
      "                                        folds_params    model_name  \\\n",
      "0  {'name': 'CustomFold', 'n_splits': 9, 'pad': 1...  XGBRegressor   \n",
      "\n",
      "                                        model_params  \\\n",
      "0  {'name': 'XGBRegressor', 'eta': 0.001, 'max_de...   \n",
      "\n",
      "                                 mean_absolute_error  \\\n",
      "0  [1.5776012022554928, 1.76883436745146, 1.42394...   \n",
      "\n",
      "                                  mean_squared_error  \n",
      "0  [4.2408113792954225, 5.02738104809359, 3.54502...  \n",
      ".......................Training finished.........................\n",
      "Run 53:\n",
      "....................... Training model ..............................\n",
      "Percentage of data thrown out: 0.02384749052857168%\n",
      " --------------- fold #0 out of -------------------\n"
     ]
    },
    {
     "name": "stderr",
     "output_type": "stream",
     "text": [
      "/home/sergey/.conda/envs/kaggle/lib/python3.6/site-packages/xgboost/core.py:587: FutureWarning: Series.base is deprecated and will be removed in a future version\n",
      "  if getattr(data, 'base', None) is not None and \\\n"
     ]
    },
    {
     "name": "stdout",
     "output_type": "stream",
     "text": [
      "train score (mean_absolute_error): 1.5498\n",
      "train score (mean_squared_error): 4.0994\n",
      "validation score (mean_absolute_error): 1.9376\n",
      "validation score (mean_squared_error): 5.9423\n",
      "Percentage of data thrown out: 0.04769498105714336%\n",
      " --------------- fold #1 out of -------------------\n"
     ]
    },
    {
     "name": "stderr",
     "output_type": "stream",
     "text": [
      "/home/sergey/.conda/envs/kaggle/lib/python3.6/site-packages/xgboost/core.py:587: FutureWarning: Series.base is deprecated and will be removed in a future version\n",
      "  if getattr(data, 'base', None) is not None and \\\n"
     ]
    },
    {
     "name": "stdout",
     "output_type": "stream",
     "text": [
      "train score (mean_absolute_error): 1.4503\n",
      "train score (mean_squared_error): 3.6977\n",
      "validation score (mean_absolute_error): 3.1297\n",
      "validation score (mean_squared_error): 13.7165\n",
      "Percentage of data thrown out: 0.04769498105714336%\n",
      " --------------- fold #2 out of -------------------\n"
     ]
    },
    {
     "name": "stderr",
     "output_type": "stream",
     "text": [
      "/home/sergey/.conda/envs/kaggle/lib/python3.6/site-packages/xgboost/core.py:587: FutureWarning: Series.base is deprecated and will be removed in a future version\n",
      "  if getattr(data, 'base', None) is not None and \\\n"
     ]
    },
    {
     "name": "stdout",
     "output_type": "stream",
     "text": [
      "train score (mean_absolute_error): 1.6508\n",
      "train score (mean_squared_error): 4.5277\n",
      "validation score (mean_absolute_error): 1.2982\n",
      "validation score (mean_squared_error): 2.8090\n",
      "Percentage of data thrown out: 0.04769498105714336%\n",
      " --------------- fold #3 out of -------------------\n"
     ]
    },
    {
     "name": "stderr",
     "output_type": "stream",
     "text": [
      "/home/sergey/.conda/envs/kaggle/lib/python3.6/site-packages/xgboost/core.py:587: FutureWarning: Series.base is deprecated and will be removed in a future version\n",
      "  if getattr(data, 'base', None) is not None and \\\n"
     ]
    },
    {
     "name": "stdout",
     "output_type": "stream",
     "text": [
      "train score (mean_absolute_error): 1.5129\n",
      "train score (mean_squared_error): 4.0091\n",
      "validation score (mean_absolute_error): 2.0778\n",
      "validation score (mean_squared_error): 7.2507\n",
      "Percentage of data thrown out: 0.04769498105714336%\n",
      " --------------- fold #4 out of -------------------\n"
     ]
    },
    {
     "name": "stderr",
     "output_type": "stream",
     "text": [
      "/home/sergey/.conda/envs/kaggle/lib/python3.6/site-packages/xgboost/core.py:587: FutureWarning: Series.base is deprecated and will be removed in a future version\n",
      "  if getattr(data, 'base', None) is not None and \\\n"
     ]
    },
    {
     "name": "stdout",
     "output_type": "stream",
     "text": [
      "train score (mean_absolute_error): 1.5447\n",
      "train score (mean_squared_error): 4.1115\n",
      "validation score (mean_absolute_error): 2.0379\n",
      "validation score (mean_squared_error): 6.4084\n",
      "Percentage of data thrown out: 0.04769498105714336%\n",
      " --------------- fold #5 out of -------------------\n"
     ]
    },
    {
     "name": "stderr",
     "output_type": "stream",
     "text": [
      "/home/sergey/.conda/envs/kaggle/lib/python3.6/site-packages/xgboost/core.py:587: FutureWarning: Series.base is deprecated and will be removed in a future version\n",
      "  if getattr(data, 'base', None) is not None and \\\n"
     ]
    },
    {
     "name": "stdout",
     "output_type": "stream",
     "text": [
      "train score (mean_absolute_error): 1.5126\n",
      "train score (mean_squared_error): 3.9629\n",
      "validation score (mean_absolute_error): 2.2638\n",
      "validation score (mean_squared_error): 7.5050\n",
      "Percentage of data thrown out: 0.04769498105714336%\n",
      " --------------- fold #6 out of -------------------\n"
     ]
    },
    {
     "name": "stderr",
     "output_type": "stream",
     "text": [
      "/home/sergey/.conda/envs/kaggle/lib/python3.6/site-packages/xgboost/core.py:587: FutureWarning: Series.base is deprecated and will be removed in a future version\n",
      "  if getattr(data, 'base', None) is not None and \\\n"
     ]
    },
    {
     "name": "stdout",
     "output_type": "stream",
     "text": [
      "train score (mean_absolute_error): 1.5370\n",
      "train score (mean_squared_error): 4.0734\n",
      "validation score (mean_absolute_error): 2.1524\n",
      "validation score (mean_squared_error): 6.7619\n",
      "Percentage of data thrown out: 0.02384749052857168%\n",
      " --------------- fold #7 out of -------------------\n"
     ]
    },
    {
     "name": "stderr",
     "output_type": "stream",
     "text": [
      "/home/sergey/.conda/envs/kaggle/lib/python3.6/site-packages/xgboost/core.py:587: FutureWarning: Series.base is deprecated and will be removed in a future version\n",
      "  if getattr(data, 'base', None) is not None and \\\n"
     ]
    },
    {
     "name": "stdout",
     "output_type": "stream",
     "text": [
      "train score (mean_absolute_error): 1.5193\n",
      "train score (mean_squared_error): 3.9760\n",
      "validation score (mean_absolute_error): 2.3355\n",
      "validation score (mean_squared_error): 8.0703\n",
      "Percentage of data thrown out: 0.04769498105714336%\n",
      " --------------- fold #8 out of -------------------\n"
     ]
    },
    {
     "name": "stderr",
     "output_type": "stream",
     "text": [
      "/home/sergey/.conda/envs/kaggle/lib/python3.6/site-packages/xgboost/core.py:587: FutureWarning: Series.base is deprecated and will be removed in a future version\n",
      "  if getattr(data, 'base', None) is not None and \\\n"
     ]
    },
    {
     "name": "stdout",
     "output_type": "stream",
     "text": [
      "train score (mean_absolute_error): 1.5128\n",
      "train score (mean_squared_error): 3.8731\n",
      "validation score (mean_absolute_error): 2.6438\n",
      "validation score (mean_squared_error): 11.6350\n",
      "['data_fname' 'preproc_name' 'preproc_params' 'folds_name' 'folds_params'\n",
      " 'model_name' 'model_params' 'mean_absolute_error' 'mean_squared_error']\n",
      "                                          data_fname    preproc_name  \\\n",
      "0  ../../data/e_lexa/train_proceded_not_smooth_da...  StandardScaler   \n",
      "\n",
      "               preproc_params  folds_name  \\\n",
      "0  {'name': 'StandardScaler'}  CustomFold   \n",
      "\n",
      "                                        folds_params    model_name  \\\n",
      "0  {'name': 'CustomFold', 'n_splits': 9, 'pad': 1...  XGBRegressor   \n",
      "\n",
      "                                        model_params  \\\n",
      "0  {'name': 'XGBRegressor', 'eta': 0.001, 'max_de...   \n",
      "\n",
      "                                 mean_absolute_error  \\\n",
      "0  [1.5498001623549533, 1.9375574703910825, 1.450...   \n",
      "\n",
      "                                  mean_squared_error  \n",
      "0  [4.099397032737644, 5.942280251022373, 3.69769...  \n",
      ".......................Training finished.........................\n",
      "Run 54:\n",
      "....................... Training model ..............................\n",
      "Percentage of data thrown out: 0.02384749052857168%\n",
      " --------------- fold #0 out of -------------------\n"
     ]
    },
    {
     "name": "stderr",
     "output_type": "stream",
     "text": [
      "/home/sergey/.conda/envs/kaggle/lib/python3.6/site-packages/xgboost/core.py:587: FutureWarning: Series.base is deprecated and will be removed in a future version\n",
      "  if getattr(data, 'base', None) is not None and \\\n"
     ]
    },
    {
     "name": "stdout",
     "output_type": "stream",
     "text": [
      "train score (mean_absolute_error): 1.5899\n",
      "train score (mean_squared_error): 4.2227\n",
      "validation score (mean_absolute_error): 1.9128\n",
      "validation score (mean_squared_error): 4.6459\n",
      "Percentage of data thrown out: 0.04769498105714336%\n",
      " --------------- fold #1 out of -------------------\n"
     ]
    },
    {
     "name": "stderr",
     "output_type": "stream",
     "text": [
      "/home/sergey/.conda/envs/kaggle/lib/python3.6/site-packages/xgboost/core.py:587: FutureWarning: Series.base is deprecated and will be removed in a future version\n",
      "  if getattr(data, 'base', None) is not None and \\\n"
     ]
    },
    {
     "name": "stdout",
     "output_type": "stream",
     "text": [
      "train score (mean_absolute_error): 1.4904\n",
      "train score (mean_squared_error): 3.8599\n",
      "validation score (mean_absolute_error): 2.0529\n",
      "validation score (mean_squared_error): 6.9636\n",
      "Percentage of data thrown out: 0.04769498105714336%\n",
      " --------------- fold #2 out of -------------------\n"
     ]
    },
    {
     "name": "stderr",
     "output_type": "stream",
     "text": [
      "/home/sergey/.conda/envs/kaggle/lib/python3.6/site-packages/xgboost/core.py:587: FutureWarning: Series.base is deprecated and will be removed in a future version\n",
      "  if getattr(data, 'base', None) is not None and \\\n"
     ]
    },
    {
     "name": "stdout",
     "output_type": "stream",
     "text": [
      "train score (mean_absolute_error): 1.4779\n",
      "train score (mean_squared_error): 3.8305\n",
      "validation score (mean_absolute_error): 2.5981\n",
      "validation score (mean_squared_error): 9.5497\n",
      "Percentage of data thrown out: 0.04769498105714336%\n",
      " --------------- fold #3 out of -------------------\n"
     ]
    },
    {
     "name": "stderr",
     "output_type": "stream",
     "text": [
      "/home/sergey/.conda/envs/kaggle/lib/python3.6/site-packages/xgboost/core.py:587: FutureWarning: Series.base is deprecated and will be removed in a future version\n",
      "  if getattr(data, 'base', None) is not None and \\\n"
     ]
    },
    {
     "name": "stdout",
     "output_type": "stream",
     "text": [
      "train score (mean_absolute_error): 1.5723\n",
      "train score (mean_squared_error): 4.1670\n",
      "validation score (mean_absolute_error): 1.5089\n",
      "validation score (mean_squared_error): 3.8718\n",
      "Percentage of data thrown out: 0.04769498105714336%\n",
      " --------------- fold #4 out of -------------------\n"
     ]
    },
    {
     "name": "stderr",
     "output_type": "stream",
     "text": [
      "/home/sergey/.conda/envs/kaggle/lib/python3.6/site-packages/xgboost/core.py:587: FutureWarning: Series.base is deprecated and will be removed in a future version\n",
      "  if getattr(data, 'base', None) is not None and \\\n"
     ]
    },
    {
     "name": "stdout",
     "output_type": "stream",
     "text": [
      "train score (mean_absolute_error): 1.5403\n",
      "train score (mean_squared_error): 4.1129\n",
      "validation score (mean_absolute_error): 2.8344\n",
      "validation score (mean_squared_error): 11.2542\n",
      "Percentage of data thrown out: 0.04769498105714336%\n",
      " --------------- fold #5 out of -------------------\n"
     ]
    },
    {
     "name": "stderr",
     "output_type": "stream",
     "text": [
      "/home/sergey/.conda/envs/kaggle/lib/python3.6/site-packages/xgboost/core.py:587: FutureWarning: Series.base is deprecated and will be removed in a future version\n",
      "  if getattr(data, 'base', None) is not None and \\\n"
     ]
    },
    {
     "name": "stdout",
     "output_type": "stream",
     "text": [
      "train score (mean_absolute_error): 1.5173\n",
      "train score (mean_squared_error): 4.0577\n",
      "validation score (mean_absolute_error): 1.9447\n",
      "validation score (mean_squared_error): 6.6202\n",
      "Percentage of data thrown out: 0.04769498105714336%\n",
      " --------------- fold #6 out of -------------------\n"
     ]
    },
    {
     "name": "stderr",
     "output_type": "stream",
     "text": [
      "/home/sergey/.conda/envs/kaggle/lib/python3.6/site-packages/xgboost/core.py:587: FutureWarning: Series.base is deprecated and will be removed in a future version\n",
      "  if getattr(data, 'base', None) is not None and \\\n"
     ]
    },
    {
     "name": "stdout",
     "output_type": "stream",
     "text": [
      "train score (mean_absolute_error): 1.3985\n",
      "train score (mean_squared_error): 3.3839\n",
      "validation score (mean_absolute_error): 3.5990\n",
      "validation score (mean_squared_error): 19.2535\n",
      "Percentage of data thrown out: 0.04769498105714336%\n",
      " --------------- fold #7 out of -------------------\n"
     ]
    },
    {
     "name": "stderr",
     "output_type": "stream",
     "text": [
      "/home/sergey/.conda/envs/kaggle/lib/python3.6/site-packages/xgboost/core.py:587: FutureWarning: Series.base is deprecated and will be removed in a future version\n",
      "  if getattr(data, 'base', None) is not None and \\\n"
     ]
    },
    {
     "name": "stdout",
     "output_type": "stream",
     "text": [
      "train score (mean_absolute_error): 1.6282\n",
      "train score (mean_squared_error): 4.4490\n",
      "validation score (mean_absolute_error): 1.3393\n",
      "validation score (mean_squared_error): 2.9587\n",
      "Percentage of data thrown out: 0.04769498105714336%\n",
      " --------------- fold #8 out of -------------------\n"
     ]
    },
    {
     "name": "stderr",
     "output_type": "stream",
     "text": [
      "/home/sergey/.conda/envs/kaggle/lib/python3.6/site-packages/xgboost/core.py:587: FutureWarning: Series.base is deprecated and will be removed in a future version\n",
      "  if getattr(data, 'base', None) is not None and \\\n"
     ]
    },
    {
     "name": "stdout",
     "output_type": "stream",
     "text": [
      "train score (mean_absolute_error): 1.5648\n",
      "train score (mean_squared_error): 4.1498\n",
      "validation score (mean_absolute_error): 1.2668\n",
      "validation score (mean_squared_error): 3.2048\n",
      "['data_fname' 'preproc_name' 'preproc_params' 'folds_name' 'folds_params'\n",
      " 'model_name' 'model_params' 'mean_absolute_error' 'mean_squared_error']\n",
      "                                          data_fname    preproc_name  \\\n",
      "0  ../../data/e_lexa/train_proceded_not_smooth_da...  StandardScaler   \n",
      "\n",
      "               preproc_params  folds_name  \\\n",
      "0  {'name': 'StandardScaler'}  CustomFold   \n",
      "\n",
      "                                        folds_params    model_name  \\\n",
      "0  {'name': 'CustomFold', 'n_splits': 9, 'pad': 1...  XGBRegressor   \n",
      "\n",
      "                                        model_params  \\\n",
      "0  {'name': 'XGBRegressor', 'eta': 0.001, 'max_de...   \n",
      "\n",
      "                                 mean_absolute_error  \\\n",
      "0  [1.5898580958992934, 1.9128073014386413, 1.490...   \n",
      "\n",
      "                                  mean_squared_error  \n",
      "0  [4.222669413968286, 4.645890334327991, 3.85994...  \n",
      ".......................Training finished.........................\n",
      "Run 55:\n",
      "....................... Training model ..............................\n",
      "Percentage of data thrown out: 0.04769498105714336%\n",
      " --------------- fold #0 out of -------------------\n"
     ]
    },
    {
     "name": "stderr",
     "output_type": "stream",
     "text": [
      "/home/sergey/.conda/envs/kaggle/lib/python3.6/site-packages/xgboost/core.py:587: FutureWarning: Series.base is deprecated and will be removed in a future version\n",
      "  if getattr(data, 'base', None) is not None and \\\n"
     ]
    },
    {
     "name": "stdout",
     "output_type": "stream",
     "text": [
      "train score (mean_absolute_error): 1.5150\n",
      "train score (mean_squared_error): 3.8862\n",
      "validation score (mean_absolute_error): 2.8568\n",
      "validation score (mean_squared_error): 11.2829\n",
      "Percentage of data thrown out: 0.04769498105714336%\n",
      " --------------- fold #1 out of -------------------\n"
     ]
    },
    {
     "name": "stderr",
     "output_type": "stream",
     "text": [
      "/home/sergey/.conda/envs/kaggle/lib/python3.6/site-packages/xgboost/core.py:587: FutureWarning: Series.base is deprecated and will be removed in a future version\n",
      "  if getattr(data, 'base', None) is not None and \\\n"
     ]
    },
    {
     "name": "stdout",
     "output_type": "stream",
     "text": [
      "train score (mean_absolute_error): 1.5099\n",
      "train score (mean_squared_error): 3.8513\n",
      "validation score (mean_absolute_error): 2.9274\n",
      "validation score (mean_squared_error): 11.4085\n",
      "Percentage of data thrown out: 0.02384749052857168%\n",
      " --------------- fold #2 out of -------------------\n"
     ]
    },
    {
     "name": "stderr",
     "output_type": "stream",
     "text": [
      "/home/sergey/.conda/envs/kaggle/lib/python3.6/site-packages/xgboost/core.py:587: FutureWarning: Series.base is deprecated and will be removed in a future version\n",
      "  if getattr(data, 'base', None) is not None and \\\n"
     ]
    },
    {
     "name": "stdout",
     "output_type": "stream",
     "text": [
      "train score (mean_absolute_error): 1.5913\n",
      "train score (mean_squared_error): 4.3041\n",
      "validation score (mean_absolute_error): 2.4350\n",
      "validation score (mean_squared_error): 9.4332\n",
      "Percentage of data thrown out: 0.02384749052857168%\n",
      " --------------- fold #3 out of -------------------\n"
     ]
    },
    {
     "name": "stderr",
     "output_type": "stream",
     "text": [
      "/home/sergey/.conda/envs/kaggle/lib/python3.6/site-packages/xgboost/core.py:587: FutureWarning: Series.base is deprecated and will be removed in a future version\n",
      "  if getattr(data, 'base', None) is not None and \\\n"
     ]
    },
    {
     "name": "stdout",
     "output_type": "stream",
     "text": [
      "train score (mean_absolute_error): 1.6030\n",
      "train score (mean_squared_error): 4.3692\n",
      "validation score (mean_absolute_error): 2.1786\n",
      "validation score (mean_squared_error): 8.0946\n",
      "Percentage of data thrown out: 0.04769498105714336%\n",
      " --------------- fold #4 out of -------------------\n"
     ]
    },
    {
     "name": "stderr",
     "output_type": "stream",
     "text": [
      "/home/sergey/.conda/envs/kaggle/lib/python3.6/site-packages/xgboost/core.py:587: FutureWarning: Series.base is deprecated and will be removed in a future version\n",
      "  if getattr(data, 'base', None) is not None and \\\n"
     ]
    },
    {
     "name": "stdout",
     "output_type": "stream",
     "text": [
      "train score (mean_absolute_error): 1.5365\n",
      "train score (mean_squared_error): 4.1014\n",
      "validation score (mean_absolute_error): 2.1683\n",
      "validation score (mean_squared_error): 7.2442\n",
      "Percentage of data thrown out: 0.02384749052857168%\n",
      " --------------- fold #5 out of -------------------\n"
     ]
    },
    {
     "name": "stderr",
     "output_type": "stream",
     "text": [
      "/home/sergey/.conda/envs/kaggle/lib/python3.6/site-packages/xgboost/core.py:587: FutureWarning: Series.base is deprecated and will be removed in a future version\n",
      "  if getattr(data, 'base', None) is not None and \\\n"
     ]
    },
    {
     "name": "stdout",
     "output_type": "stream",
     "text": [
      "train score (mean_absolute_error): 1.5675\n",
      "train score (mean_squared_error): 4.1441\n",
      "validation score (mean_absolute_error): 1.7911\n",
      "validation score (mean_squared_error): 4.9379\n",
      "Percentage of data thrown out: 0.04769498105714336%\n",
      " --------------- fold #6 out of -------------------\n"
     ]
    },
    {
     "name": "stderr",
     "output_type": "stream",
     "text": [
      "/home/sergey/.conda/envs/kaggle/lib/python3.6/site-packages/xgboost/core.py:587: FutureWarning: Series.base is deprecated and will be removed in a future version\n",
      "  if getattr(data, 'base', None) is not None and \\\n"
     ]
    },
    {
     "name": "stdout",
     "output_type": "stream",
     "text": [
      "train score (mean_absolute_error): 1.5798\n",
      "train score (mean_squared_error): 4.2180\n",
      "validation score (mean_absolute_error): 2.0854\n",
      "validation score (mean_squared_error): 6.6896\n",
      "Percentage of data thrown out: 0.04769498105714336%\n",
      " --------------- fold #7 out of -------------------\n"
     ]
    },
    {
     "name": "stderr",
     "output_type": "stream",
     "text": [
      "/home/sergey/.conda/envs/kaggle/lib/python3.6/site-packages/xgboost/core.py:587: FutureWarning: Series.base is deprecated and will be removed in a future version\n",
      "  if getattr(data, 'base', None) is not None and \\\n"
     ]
    },
    {
     "name": "stdout",
     "output_type": "stream",
     "text": [
      "train score (mean_absolute_error): 1.4402\n",
      "train score (mean_squared_error): 3.6622\n",
      "validation score (mean_absolute_error): 2.6858\n",
      "validation score (mean_squared_error): 9.9582\n",
      "Percentage of data thrown out: 0.04769498105714336%\n",
      " --------------- fold #8 out of -------------------\n"
     ]
    },
    {
     "name": "stderr",
     "output_type": "stream",
     "text": [
      "/home/sergey/.conda/envs/kaggle/lib/python3.6/site-packages/xgboost/core.py:587: FutureWarning: Series.base is deprecated and will be removed in a future version\n",
      "  if getattr(data, 'base', None) is not None and \\\n"
     ]
    },
    {
     "name": "stdout",
     "output_type": "stream",
     "text": [
      "train score (mean_absolute_error): 1.4477\n",
      "train score (mean_squared_error): 3.7667\n",
      "validation score (mean_absolute_error): 2.2986\n",
      "validation score (mean_squared_error): 8.1284\n",
      "['data_fname' 'preproc_name' 'preproc_params' 'folds_name' 'folds_params'\n",
      " 'model_name' 'model_params' 'mean_absolute_error' 'mean_squared_error']\n",
      "                                          data_fname    preproc_name  \\\n",
      "0  ../../data/e_lexa/train_proceded_not_smooth_da...  StandardScaler   \n",
      "\n",
      "               preproc_params  folds_name  \\\n",
      "0  {'name': 'StandardScaler'}  CustomFold   \n",
      "\n",
      "                                        folds_params    model_name  \\\n",
      "0  {'name': 'CustomFold', 'n_splits': 9, 'pad': 1...  XGBRegressor   \n",
      "\n",
      "                                        model_params  \\\n",
      "0  {'name': 'XGBRegressor', 'eta': 0.001, 'max_de...   \n",
      "\n",
      "                                 mean_absolute_error  \\\n",
      "0  [1.5149597889225055, 2.856757826364692, 1.5099...   \n",
      "\n",
      "                                  mean_squared_error  \n",
      "0  [3.886168719355039, 11.282879128567425, 3.8513...  \n",
      ".......................Training finished.........................\n",
      "Run 56:\n",
      "....................... Training model ..............................\n",
      "Percentage of data thrown out: 0.04769498105714336%\n",
      " --------------- fold #0 out of -------------------\n"
     ]
    },
    {
     "name": "stderr",
     "output_type": "stream",
     "text": [
      "/home/sergey/.conda/envs/kaggle/lib/python3.6/site-packages/xgboost/core.py:587: FutureWarning: Series.base is deprecated and will be removed in a future version\n",
      "  if getattr(data, 'base', None) is not None and \\\n"
     ]
    },
    {
     "name": "stdout",
     "output_type": "stream",
     "text": [
      "train score (mean_absolute_error): 1.4810\n",
      "train score (mean_squared_error): 3.8912\n",
      "validation score (mean_absolute_error): 2.5526\n",
      "validation score (mean_squared_error): 9.6775\n",
      "Percentage of data thrown out: 0.04769498105714336%\n",
      " --------------- fold #1 out of -------------------\n"
     ]
    },
    {
     "name": "stderr",
     "output_type": "stream",
     "text": [
      "/home/sergey/.conda/envs/kaggle/lib/python3.6/site-packages/xgboost/core.py:587: FutureWarning: Series.base is deprecated and will be removed in a future version\n",
      "  if getattr(data, 'base', None) is not None and \\\n"
     ]
    },
    {
     "name": "stdout",
     "output_type": "stream",
     "text": [
      "train score (mean_absolute_error): 1.5714\n",
      "train score (mean_squared_error): 4.2207\n",
      "validation score (mean_absolute_error): 1.4167\n",
      "validation score (mean_squared_error): 3.1553\n",
      "Percentage of data thrown out: 0.02384749052857168%\n",
      " --------------- fold #2 out of -------------------\n"
     ]
    },
    {
     "name": "stderr",
     "output_type": "stream",
     "text": [
      "/home/sergey/.conda/envs/kaggle/lib/python3.6/site-packages/xgboost/core.py:587: FutureWarning: Series.base is deprecated and will be removed in a future version\n",
      "  if getattr(data, 'base', None) is not None and \\\n"
     ]
    },
    {
     "name": "stdout",
     "output_type": "stream",
     "text": [
      "train score (mean_absolute_error): 1.5925\n",
      "train score (mean_squared_error): 4.3046\n",
      "validation score (mean_absolute_error): 1.8515\n",
      "validation score (mean_squared_error): 5.4868\n",
      "Percentage of data thrown out: 0.04769498105714336%\n",
      " --------------- fold #3 out of -------------------\n"
     ]
    },
    {
     "name": "stderr",
     "output_type": "stream",
     "text": [
      "/home/sergey/.conda/envs/kaggle/lib/python3.6/site-packages/xgboost/core.py:587: FutureWarning: Series.base is deprecated and will be removed in a future version\n",
      "  if getattr(data, 'base', None) is not None and \\\n"
     ]
    },
    {
     "name": "stdout",
     "output_type": "stream",
     "text": [
      "train score (mean_absolute_error): 1.5716\n",
      "train score (mean_squared_error): 4.1443\n",
      "validation score (mean_absolute_error): 1.5488\n",
      "validation score (mean_squared_error): 4.2833\n",
      "Percentage of data thrown out: 0.04769498105714336%\n",
      " --------------- fold #4 out of -------------------\n"
     ]
    },
    {
     "name": "stderr",
     "output_type": "stream",
     "text": [
      "/home/sergey/.conda/envs/kaggle/lib/python3.6/site-packages/xgboost/core.py:587: FutureWarning: Series.base is deprecated and will be removed in a future version\n",
      "  if getattr(data, 'base', None) is not None and \\\n"
     ]
    },
    {
     "name": "stdout",
     "output_type": "stream",
     "text": [
      "train score (mean_absolute_error): 1.5924\n",
      "train score (mean_squared_error): 4.2820\n",
      "validation score (mean_absolute_error): 2.1127\n",
      "validation score (mean_squared_error): 7.0599\n",
      "Percentage of data thrown out: 0.04769498105714336%\n",
      " --------------- fold #5 out of -------------------\n"
     ]
    },
    {
     "name": "stderr",
     "output_type": "stream",
     "text": [
      "/home/sergey/.conda/envs/kaggle/lib/python3.6/site-packages/xgboost/core.py:587: FutureWarning: Series.base is deprecated and will be removed in a future version\n",
      "  if getattr(data, 'base', None) is not None and \\\n"
     ]
    },
    {
     "name": "stdout",
     "output_type": "stream",
     "text": [
      "train score (mean_absolute_error): 1.3493\n",
      "train score (mean_squared_error): 3.1311\n",
      "validation score (mean_absolute_error): 4.1016\n",
      "validation score (mean_squared_error): 24.7092\n",
      "Percentage of data thrown out: 0.04769498105714336%\n",
      " --------------- fold #6 out of -------------------\n"
     ]
    },
    {
     "name": "stderr",
     "output_type": "stream",
     "text": [
      "/home/sergey/.conda/envs/kaggle/lib/python3.6/site-packages/xgboost/core.py:587: FutureWarning: Series.base is deprecated and will be removed in a future version\n",
      "  if getattr(data, 'base', None) is not None and \\\n"
     ]
    },
    {
     "name": "stdout",
     "output_type": "stream",
     "text": [
      "train score (mean_absolute_error): 1.4863\n",
      "train score (mean_squared_error): 3.8075\n",
      "validation score (mean_absolute_error): 3.4879\n",
      "validation score (mean_squared_error): 15.6979\n",
      "Percentage of data thrown out: 0.04769498105714336%\n",
      " --------------- fold #7 out of -------------------\n"
     ]
    },
    {
     "name": "stderr",
     "output_type": "stream",
     "text": [
      "/home/sergey/.conda/envs/kaggle/lib/python3.6/site-packages/xgboost/core.py:587: FutureWarning: Series.base is deprecated and will be removed in a future version\n",
      "  if getattr(data, 'base', None) is not None and \\\n"
     ]
    },
    {
     "name": "stdout",
     "output_type": "stream",
     "text": [
      "train score (mean_absolute_error): 1.4842\n",
      "train score (mean_squared_error): 3.8084\n",
      "validation score (mean_absolute_error): 2.8771\n",
      "validation score (mean_squared_error): 12.2232\n",
      "Percentage of data thrown out: 0.04769498105714336%\n",
      " --------------- fold #8 out of -------------------\n"
     ]
    },
    {
     "name": "stderr",
     "output_type": "stream",
     "text": [
      "/home/sergey/.conda/envs/kaggle/lib/python3.6/site-packages/xgboost/core.py:587: FutureWarning: Series.base is deprecated and will be removed in a future version\n",
      "  if getattr(data, 'base', None) is not None and \\\n"
     ]
    },
    {
     "name": "stdout",
     "output_type": "stream",
     "text": [
      "train score (mean_absolute_error): 1.3264\n",
      "train score (mean_squared_error): 3.1019\n",
      "validation score (mean_absolute_error): 4.0424\n",
      "validation score (mean_squared_error): 24.8575\n",
      "['data_fname' 'preproc_name' 'preproc_params' 'folds_name' 'folds_params'\n",
      " 'model_name' 'model_params' 'mean_absolute_error' 'mean_squared_error']\n",
      "                                          data_fname    preproc_name  \\\n",
      "0  ../../data/e_lexa/train_proceded_not_smooth_da...  StandardScaler   \n",
      "\n",
      "               preproc_params  folds_name  \\\n",
      "0  {'name': 'StandardScaler'}  CustomFold   \n",
      "\n",
      "                                        folds_params    model_name  \\\n",
      "0  {'name': 'CustomFold', 'n_splits': 9, 'pad': 1...  XGBRegressor   \n",
      "\n",
      "                                        model_params  \\\n",
      "0  {'name': 'XGBRegressor', 'eta': 0.001, 'max_de...   \n",
      "\n",
      "                                 mean_absolute_error  \\\n",
      "0  [1.4809688262154292, 2.552635422552662, 1.5714...   \n",
      "\n",
      "                                  mean_squared_error  \n",
      "0  [3.891215557680181, 9.677529664294987, 4.22073...  \n",
      ".......................Training finished.........................\n",
      "Run 57:\n",
      "....................... Training model ..............................\n",
      "Percentage of data thrown out: 0.02384749052857168%\n",
      " --------------- fold #0 out of -------------------\n"
     ]
    },
    {
     "name": "stderr",
     "output_type": "stream",
     "text": [
      "/home/sergey/.conda/envs/kaggle/lib/python3.6/site-packages/xgboost/core.py:587: FutureWarning: Series.base is deprecated and will be removed in a future version\n",
      "  if getattr(data, 'base', None) is not None and \\\n"
     ]
    },
    {
     "name": "stdout",
     "output_type": "stream",
     "text": [
      "train score (mean_absolute_error): 1.5774\n",
      "train score (mean_squared_error): 4.1962\n",
      "validation score (mean_absolute_error): 2.1338\n",
      "validation score (mean_squared_error): 8.6612\n",
      "Percentage of data thrown out: 0.04769498105714336%\n",
      " --------------- fold #1 out of -------------------\n"
     ]
    },
    {
     "name": "stderr",
     "output_type": "stream",
     "text": [
      "/home/sergey/.conda/envs/kaggle/lib/python3.6/site-packages/xgboost/core.py:587: FutureWarning: Series.base is deprecated and will be removed in a future version\n",
      "  if getattr(data, 'base', None) is not None and \\\n"
     ]
    },
    {
     "name": "stdout",
     "output_type": "stream",
     "text": [
      "train score (mean_absolute_error): 1.5772\n",
      "train score (mean_squared_error): 4.1689\n",
      "validation score (mean_absolute_error): 1.6312\n",
      "validation score (mean_squared_error): 4.6468\n",
      "Percentage of data thrown out: 0.04769498105714336%\n",
      " --------------- fold #2 out of -------------------\n"
     ]
    },
    {
     "name": "stderr",
     "output_type": "stream",
     "text": [
      "/home/sergey/.conda/envs/kaggle/lib/python3.6/site-packages/xgboost/core.py:587: FutureWarning: Series.base is deprecated and will be removed in a future version\n",
      "  if getattr(data, 'base', None) is not None and \\\n"
     ]
    },
    {
     "name": "stdout",
     "output_type": "stream",
     "text": [
      "train score (mean_absolute_error): 1.3484\n",
      "train score (mean_squared_error): 3.1835\n",
      "validation score (mean_absolute_error): 4.1073\n",
      "validation score (mean_squared_error): 24.8306\n",
      "Percentage of data thrown out: 0.04769498105714336%\n",
      " --------------- fold #3 out of -------------------\n"
     ]
    },
    {
     "name": "stderr",
     "output_type": "stream",
     "text": [
      "/home/sergey/.conda/envs/kaggle/lib/python3.6/site-packages/xgboost/core.py:587: FutureWarning: Series.base is deprecated and will be removed in a future version\n",
      "  if getattr(data, 'base', None) is not None and \\\n"
     ]
    },
    {
     "name": "stdout",
     "output_type": "stream",
     "text": [
      "train score (mean_absolute_error): 1.5100\n",
      "train score (mean_squared_error): 3.9402\n",
      "validation score (mean_absolute_error): 2.3639\n",
      "validation score (mean_squared_error): 8.7759\n",
      "Percentage of data thrown out: 0.04769498105714336%\n",
      " --------------- fold #4 out of -------------------\n"
     ]
    },
    {
     "name": "stderr",
     "output_type": "stream",
     "text": [
      "/home/sergey/.conda/envs/kaggle/lib/python3.6/site-packages/xgboost/core.py:587: FutureWarning: Series.base is deprecated and will be removed in a future version\n",
      "  if getattr(data, 'base', None) is not None and \\\n"
     ]
    },
    {
     "name": "stdout",
     "output_type": "stream",
     "text": [
      "train score (mean_absolute_error): 1.5473\n",
      "train score (mean_squared_error): 4.1137\n",
      "validation score (mean_absolute_error): 2.0852\n",
      "validation score (mean_squared_error): 7.3782\n",
      "Percentage of data thrown out: 0.04769498105714336%\n",
      " --------------- fold #5 out of -------------------\n"
     ]
    },
    {
     "name": "stderr",
     "output_type": "stream",
     "text": [
      "/home/sergey/.conda/envs/kaggle/lib/python3.6/site-packages/xgboost/core.py:587: FutureWarning: Series.base is deprecated and will be removed in a future version\n",
      "  if getattr(data, 'base', None) is not None and \\\n"
     ]
    },
    {
     "name": "stdout",
     "output_type": "stream",
     "text": [
      "train score (mean_absolute_error): 1.5115\n",
      "train score (mean_squared_error): 3.9345\n",
      "validation score (mean_absolute_error): 3.2212\n",
      "validation score (mean_squared_error): 14.4763\n",
      "Percentage of data thrown out: 0.04769498105714336%\n",
      " --------------- fold #6 out of -------------------\n"
     ]
    },
    {
     "name": "stderr",
     "output_type": "stream",
     "text": [
      "/home/sergey/.conda/envs/kaggle/lib/python3.6/site-packages/xgboost/core.py:587: FutureWarning: Series.base is deprecated and will be removed in a future version\n",
      "  if getattr(data, 'base', None) is not None and \\\n"
     ]
    },
    {
     "name": "stdout",
     "output_type": "stream",
     "text": [
      "train score (mean_absolute_error): 1.5241\n",
      "train score (mean_squared_error): 3.9895\n",
      "validation score (mean_absolute_error): 2.1443\n",
      "validation score (mean_squared_error): 7.9688\n",
      "Percentage of data thrown out: 0.02384749052857168%\n",
      " --------------- fold #7 out of -------------------\n"
     ]
    },
    {
     "name": "stderr",
     "output_type": "stream",
     "text": [
      "/home/sergey/.conda/envs/kaggle/lib/python3.6/site-packages/xgboost/core.py:587: FutureWarning: Series.base is deprecated and will be removed in a future version\n",
      "  if getattr(data, 'base', None) is not None and \\\n"
     ]
    },
    {
     "name": "stdout",
     "output_type": "stream",
     "text": [
      "train score (mean_absolute_error): 1.5892\n",
      "train score (mean_squared_error): 4.2666\n",
      "validation score (mean_absolute_error): 1.8398\n",
      "validation score (mean_squared_error): 5.5463\n",
      "Percentage of data thrown out: 0.02384749052857168%\n",
      " --------------- fold #8 out of -------------------\n"
     ]
    },
    {
     "name": "stderr",
     "output_type": "stream",
     "text": [
      "/home/sergey/.conda/envs/kaggle/lib/python3.6/site-packages/xgboost/core.py:587: FutureWarning: Series.base is deprecated and will be removed in a future version\n",
      "  if getattr(data, 'base', None) is not None and \\\n"
     ]
    },
    {
     "name": "stdout",
     "output_type": "stream",
     "text": [
      "train score (mean_absolute_error): 1.5636\n",
      "train score (mean_squared_error): 4.1035\n",
      "validation score (mean_absolute_error): 2.0859\n",
      "validation score (mean_squared_error): 8.4621\n",
      "['data_fname' 'preproc_name' 'preproc_params' 'folds_name' 'folds_params'\n",
      " 'model_name' 'model_params' 'mean_absolute_error' 'mean_squared_error']\n",
      "                                          data_fname    preproc_name  \\\n",
      "0  ../../data/e_lexa/train_proceded_not_smooth_da...  StandardScaler   \n",
      "\n",
      "               preproc_params  folds_name  \\\n",
      "0  {'name': 'StandardScaler'}  CustomFold   \n",
      "\n",
      "                                        folds_params    model_name  \\\n",
      "0  {'name': 'CustomFold', 'n_splits': 9, 'pad': 1...  XGBRegressor   \n",
      "\n",
      "                                        model_params  \\\n",
      "0  {'name': 'XGBRegressor', 'eta': 0.001, 'max_de...   \n",
      "\n",
      "                                 mean_absolute_error  \\\n",
      "0  [1.5773976171075623, 2.133801189406301, 1.5771...   \n",
      "\n",
      "                                  mean_squared_error  \n",
      "0  [4.196176263347582, 8.661234432935162, 4.16886...  \n",
      ".......................Training finished.........................\n",
      "Run 58:\n",
      "....................... Training model ..............................\n",
      "Percentage of data thrown out: 0.04769498105714336%\n",
      " --------------- fold #0 out of -------------------\n"
     ]
    },
    {
     "name": "stderr",
     "output_type": "stream",
     "text": [
      "/home/sergey/.conda/envs/kaggle/lib/python3.6/site-packages/xgboost/core.py:587: FutureWarning: Series.base is deprecated and will be removed in a future version\n",
      "  if getattr(data, 'base', None) is not None and \\\n"
     ]
    },
    {
     "name": "stdout",
     "output_type": "stream",
     "text": [
      "train score (mean_absolute_error): 1.4878\n",
      "train score (mean_squared_error): 3.8390\n",
      "validation score (mean_absolute_error): 2.4116\n",
      "validation score (mean_squared_error): 9.2890\n",
      "Percentage of data thrown out: 0.04769498105714336%\n",
      " --------------- fold #1 out of -------------------\n"
     ]
    },
    {
     "name": "stderr",
     "output_type": "stream",
     "text": [
      "/home/sergey/.conda/envs/kaggle/lib/python3.6/site-packages/xgboost/core.py:587: FutureWarning: Series.base is deprecated and will be removed in a future version\n",
      "  if getattr(data, 'base', None) is not None and \\\n"
     ]
    },
    {
     "name": "stdout",
     "output_type": "stream",
     "text": [
      "train score (mean_absolute_error): 1.4545\n",
      "train score (mean_squared_error): 3.7440\n",
      "validation score (mean_absolute_error): 2.5273\n",
      "validation score (mean_squared_error): 9.5498\n",
      "Percentage of data thrown out: 0.04769498105714336%\n",
      " --------------- fold #2 out of -------------------\n"
     ]
    },
    {
     "name": "stderr",
     "output_type": "stream",
     "text": [
      "/home/sergey/.conda/envs/kaggle/lib/python3.6/site-packages/xgboost/core.py:587: FutureWarning: Series.base is deprecated and will be removed in a future version\n",
      "  if getattr(data, 'base', None) is not None and \\\n"
     ]
    },
    {
     "name": "stdout",
     "output_type": "stream",
     "text": [
      "train score (mean_absolute_error): 1.5229\n",
      "train score (mean_squared_error): 3.9759\n",
      "validation score (mean_absolute_error): 2.5320\n",
      "validation score (mean_squared_error): 9.9088\n",
      "Percentage of data thrown out: 0.04769498105714336%\n",
      " --------------- fold #3 out of -------------------\n"
     ]
    },
    {
     "name": "stderr",
     "output_type": "stream",
     "text": [
      "/home/sergey/.conda/envs/kaggle/lib/python3.6/site-packages/xgboost/core.py:587: FutureWarning: Series.base is deprecated and will be removed in a future version\n",
      "  if getattr(data, 'base', None) is not None and \\\n"
     ]
    },
    {
     "name": "stdout",
     "output_type": "stream",
     "text": [
      "train score (mean_absolute_error): 1.5205\n",
      "train score (mean_squared_error): 3.8789\n",
      "validation score (mean_absolute_error): 3.1272\n",
      "validation score (mean_squared_error): 12.7163\n",
      "Percentage of data thrown out: 0.04769498105714336%\n",
      " --------------- fold #4 out of -------------------\n"
     ]
    },
    {
     "name": "stderr",
     "output_type": "stream",
     "text": [
      "/home/sergey/.conda/envs/kaggle/lib/python3.6/site-packages/xgboost/core.py:587: FutureWarning: Series.base is deprecated and will be removed in a future version\n",
      "  if getattr(data, 'base', None) is not None and \\\n"
     ]
    },
    {
     "name": "stdout",
     "output_type": "stream",
     "text": [
      "train score (mean_absolute_error): 1.5160\n",
      "train score (mean_squared_error): 3.8877\n",
      "validation score (mean_absolute_error): 2.4181\n",
      "validation score (mean_squared_error): 9.5514\n",
      "Percentage of data thrown out: 0.04769498105714336%\n",
      " --------------- fold #5 out of -------------------\n"
     ]
    },
    {
     "name": "stderr",
     "output_type": "stream",
     "text": [
      "/home/sergey/.conda/envs/kaggle/lib/python3.6/site-packages/xgboost/core.py:587: FutureWarning: Series.base is deprecated and will be removed in a future version\n",
      "  if getattr(data, 'base', None) is not None and \\\n"
     ]
    },
    {
     "name": "stdout",
     "output_type": "stream",
     "text": [
      "train score (mean_absolute_error): 1.5394\n",
      "train score (mean_squared_error): 4.0645\n",
      "validation score (mean_absolute_error): 1.9765\n",
      "validation score (mean_squared_error): 5.8176\n",
      "Percentage of data thrown out: 0.04769498105714336%\n",
      " --------------- fold #6 out of -------------------\n"
     ]
    },
    {
     "name": "stderr",
     "output_type": "stream",
     "text": [
      "/home/sergey/.conda/envs/kaggle/lib/python3.6/site-packages/xgboost/core.py:587: FutureWarning: Series.base is deprecated and will be removed in a future version\n",
      "  if getattr(data, 'base', None) is not None and \\\n"
     ]
    },
    {
     "name": "stdout",
     "output_type": "stream",
     "text": [
      "train score (mean_absolute_error): 1.4666\n",
      "train score (mean_squared_error): 3.7165\n",
      "validation score (mean_absolute_error): 2.9198\n",
      "validation score (mean_squared_error): 12.5042\n",
      "Percentage of data thrown out: 0.04769498105714336%\n",
      " --------------- fold #7 out of -------------------\n"
     ]
    },
    {
     "name": "stderr",
     "output_type": "stream",
     "text": [
      "/home/sergey/.conda/envs/kaggle/lib/python3.6/site-packages/xgboost/core.py:587: FutureWarning: Series.base is deprecated and will be removed in a future version\n",
      "  if getattr(data, 'base', None) is not None and \\\n"
     ]
    },
    {
     "name": "stdout",
     "output_type": "stream",
     "text": [
      "train score (mean_absolute_error): 1.5046\n",
      "train score (mean_squared_error): 3.8522\n",
      "validation score (mean_absolute_error): 2.9614\n",
      "validation score (mean_squared_error): 12.0653\n",
      "Percentage of data thrown out: 0.02384749052857168%\n",
      " --------------- fold #8 out of -------------------\n"
     ]
    },
    {
     "name": "stderr",
     "output_type": "stream",
     "text": [
      "/home/sergey/.conda/envs/kaggle/lib/python3.6/site-packages/xgboost/core.py:587: FutureWarning: Series.base is deprecated and will be removed in a future version\n",
      "  if getattr(data, 'base', None) is not None and \\\n"
     ]
    },
    {
     "name": "stdout",
     "output_type": "stream",
     "text": [
      "train score (mean_absolute_error): 1.5356\n",
      "train score (mean_squared_error): 4.0282\n",
      "validation score (mean_absolute_error): 2.6283\n",
      "validation score (mean_squared_error): 9.6829\n",
      "['data_fname' 'preproc_name' 'preproc_params' 'folds_name' 'folds_params'\n",
      " 'model_name' 'model_params' 'mean_absolute_error' 'mean_squared_error']\n",
      "                                          data_fname    preproc_name  \\\n",
      "0  ../../data/e_lexa/train_proceded_not_smooth_da...  StandardScaler   \n",
      "\n",
      "               preproc_params  folds_name  \\\n",
      "0  {'name': 'StandardScaler'}  CustomFold   \n",
      "\n",
      "                                        folds_params    model_name  \\\n",
      "0  {'name': 'CustomFold', 'n_splits': 9, 'pad': 1...  XGBRegressor   \n",
      "\n",
      "                                        model_params  \\\n",
      "0  {'name': 'XGBRegressor', 'eta': 0.001, 'max_de...   \n",
      "\n",
      "                                 mean_absolute_error  \\\n",
      "0  [1.4878158906060603, 2.4115815400336684, 1.454...   \n",
      "\n",
      "                                  mean_squared_error  \n",
      "0  [3.8389848118322125, 9.289004619846967, 3.7439...  \n",
      ".......................Training finished.........................\n",
      "Run 59:\n",
      "....................... Training model ..............................\n",
      "Percentage of data thrown out: 0.02384749052857168%\n",
      " --------------- fold #0 out of -------------------\n"
     ]
    },
    {
     "name": "stderr",
     "output_type": "stream",
     "text": [
      "/home/sergey/.conda/envs/kaggle/lib/python3.6/site-packages/xgboost/core.py:587: FutureWarning: Series.base is deprecated and will be removed in a future version\n",
      "  if getattr(data, 'base', None) is not None and \\\n"
     ]
    },
    {
     "name": "stdout",
     "output_type": "stream",
     "text": [
      "train score (mean_absolute_error): 1.5623\n",
      "train score (mean_squared_error): 4.2161\n",
      "validation score (mean_absolute_error): 2.2930\n",
      "validation score (mean_squared_error): 7.5777\n",
      "Percentage of data thrown out: 0.04769498105714336%\n",
      " --------------- fold #1 out of -------------------\n"
     ]
    },
    {
     "name": "stderr",
     "output_type": "stream",
     "text": [
      "/home/sergey/.conda/envs/kaggle/lib/python3.6/site-packages/xgboost/core.py:587: FutureWarning: Series.base is deprecated and will be removed in a future version\n",
      "  if getattr(data, 'base', None) is not None and \\\n"
     ]
    },
    {
     "name": "stdout",
     "output_type": "stream",
     "text": [
      "train score (mean_absolute_error): 1.5570\n",
      "train score (mean_squared_error): 4.2086\n",
      "validation score (mean_absolute_error): 2.1464\n",
      "validation score (mean_squared_error): 6.6327\n",
      "Percentage of data thrown out: 0.04769498105714336%\n",
      " --------------- fold #2 out of -------------------\n"
     ]
    },
    {
     "name": "stderr",
     "output_type": "stream",
     "text": [
      "/home/sergey/.conda/envs/kaggle/lib/python3.6/site-packages/xgboost/core.py:587: FutureWarning: Series.base is deprecated and will be removed in a future version\n",
      "  if getattr(data, 'base', None) is not None and \\\n"
     ]
    },
    {
     "name": "stdout",
     "output_type": "stream",
     "text": [
      "train score (mean_absolute_error): 1.5612\n",
      "train score (mean_squared_error): 4.1191\n",
      "validation score (mean_absolute_error): 1.6013\n",
      "validation score (mean_squared_error): 4.4712\n",
      "Percentage of data thrown out: 0.04769498105714336%\n",
      " --------------- fold #3 out of -------------------\n"
     ]
    },
    {
     "name": "stderr",
     "output_type": "stream",
     "text": [
      "/home/sergey/.conda/envs/kaggle/lib/python3.6/site-packages/xgboost/core.py:587: FutureWarning: Series.base is deprecated and will be removed in a future version\n",
      "  if getattr(data, 'base', None) is not None and \\\n"
     ]
    },
    {
     "name": "stdout",
     "output_type": "stream",
     "text": [
      "train score (mean_absolute_error): 1.5388\n",
      "train score (mean_squared_error): 4.1054\n",
      "validation score (mean_absolute_error): 2.2677\n",
      "validation score (mean_squared_error): 7.3912\n",
      "Percentage of data thrown out: 0.04769498105714336%\n",
      " --------------- fold #4 out of -------------------\n"
     ]
    },
    {
     "name": "stderr",
     "output_type": "stream",
     "text": [
      "/home/sergey/.conda/envs/kaggle/lib/python3.6/site-packages/xgboost/core.py:587: FutureWarning: Series.base is deprecated and will be removed in a future version\n",
      "  if getattr(data, 'base', None) is not None and \\\n"
     ]
    },
    {
     "name": "stdout",
     "output_type": "stream",
     "text": [
      "train score (mean_absolute_error): 1.4671\n",
      "train score (mean_squared_error): 3.7932\n",
      "validation score (mean_absolute_error): 2.0129\n",
      "validation score (mean_squared_error): 7.0033\n",
      "Percentage of data thrown out: 0.04769498105714336%\n",
      " --------------- fold #5 out of -------------------\n"
     ]
    },
    {
     "name": "stderr",
     "output_type": "stream",
     "text": [
      "/home/sergey/.conda/envs/kaggle/lib/python3.6/site-packages/xgboost/core.py:587: FutureWarning: Series.base is deprecated and will be removed in a future version\n",
      "  if getattr(data, 'base', None) is not None and \\\n"
     ]
    },
    {
     "name": "stdout",
     "output_type": "stream",
     "text": [
      "train score (mean_absolute_error): 1.6054\n",
      "train score (mean_squared_error): 4.3675\n",
      "validation score (mean_absolute_error): 1.3858\n",
      "validation score (mean_squared_error): 3.4803\n",
      "Percentage of data thrown out: 0.04769498105714336%\n",
      " --------------- fold #6 out of -------------------\n"
     ]
    },
    {
     "name": "stderr",
     "output_type": "stream",
     "text": [
      "/home/sergey/.conda/envs/kaggle/lib/python3.6/site-packages/xgboost/core.py:587: FutureWarning: Series.base is deprecated and will be removed in a future version\n",
      "  if getattr(data, 'base', None) is not None and \\\n"
     ]
    },
    {
     "name": "stdout",
     "output_type": "stream",
     "text": [
      "train score (mean_absolute_error): 1.6098\n",
      "train score (mean_squared_error): 4.4030\n",
      "validation score (mean_absolute_error): 2.0800\n",
      "validation score (mean_squared_error): 6.5435\n",
      "Percentage of data thrown out: 0.04769498105714336%\n",
      " --------------- fold #7 out of -------------------\n"
     ]
    },
    {
     "name": "stderr",
     "output_type": "stream",
     "text": [
      "/home/sergey/.conda/envs/kaggle/lib/python3.6/site-packages/xgboost/core.py:587: FutureWarning: Series.base is deprecated and will be removed in a future version\n",
      "  if getattr(data, 'base', None) is not None and \\\n"
     ]
    },
    {
     "name": "stdout",
     "output_type": "stream",
     "text": [
      "train score (mean_absolute_error): 1.6005\n",
      "train score (mean_squared_error): 4.3068\n",
      "validation score (mean_absolute_error): 1.4940\n",
      "validation score (mean_squared_error): 3.9467\n",
      "Percentage of data thrown out: 0.04769498105714336%\n",
      " --------------- fold #8 out of -------------------\n"
     ]
    },
    {
     "name": "stderr",
     "output_type": "stream",
     "text": [
      "/home/sergey/.conda/envs/kaggle/lib/python3.6/site-packages/xgboost/core.py:587: FutureWarning: Series.base is deprecated and will be removed in a future version\n",
      "  if getattr(data, 'base', None) is not None and \\\n"
     ]
    },
    {
     "name": "stdout",
     "output_type": "stream",
     "text": [
      "train score (mean_absolute_error): 1.5548\n",
      "train score (mean_squared_error): 4.0838\n",
      "validation score (mean_absolute_error): 1.4079\n",
      "validation score (mean_squared_error): 3.6242\n",
      "['data_fname' 'preproc_name' 'preproc_params' 'folds_name' 'folds_params'\n",
      " 'model_name' 'model_params' 'mean_absolute_error' 'mean_squared_error']\n",
      "                                          data_fname    preproc_name  \\\n",
      "0  ../../data/e_lexa/train_proceded_not_smooth_da...  StandardScaler   \n",
      "\n",
      "               preproc_params  folds_name  \\\n",
      "0  {'name': 'StandardScaler'}  CustomFold   \n",
      "\n",
      "                                        folds_params    model_name  \\\n",
      "0  {'name': 'CustomFold', 'n_splits': 9, 'pad': 1...  XGBRegressor   \n",
      "\n",
      "                                        model_params  \\\n",
      "0  {'name': 'XGBRegressor', 'eta': 0.001, 'max_de...   \n",
      "\n",
      "                                 mean_absolute_error  \\\n",
      "0  [1.56226544357306, 2.2930412041727664, 1.55703...   \n",
      "\n",
      "                                  mean_squared_error  \n",
      "0  [4.216115754668882, 7.577691870971798, 4.20855...  \n",
      ".......................Training finished.........................\n",
      "Run 60:\n",
      "....................... Training model ..............................\n",
      "Percentage of data thrown out: 0.04769498105714336%\n",
      " --------------- fold #0 out of -------------------\n"
     ]
    },
    {
     "name": "stderr",
     "output_type": "stream",
     "text": [
      "/home/sergey/.conda/envs/kaggle/lib/python3.6/site-packages/xgboost/core.py:587: FutureWarning: Series.base is deprecated and will be removed in a future version\n",
      "  if getattr(data, 'base', None) is not None and \\\n"
     ]
    },
    {
     "name": "stdout",
     "output_type": "stream",
     "text": [
      "train score (mean_absolute_error): 1.4526\n",
      "train score (mean_squared_error): 3.7086\n",
      "validation score (mean_absolute_error): 2.9488\n",
      "validation score (mean_squared_error): 12.1348\n",
      "Percentage of data thrown out: 0.04769498105714336%\n",
      " --------------- fold #1 out of -------------------\n"
     ]
    },
    {
     "name": "stderr",
     "output_type": "stream",
     "text": [
      "/home/sergey/.conda/envs/kaggle/lib/python3.6/site-packages/xgboost/core.py:587: FutureWarning: Series.base is deprecated and will be removed in a future version\n",
      "  if getattr(data, 'base', None) is not None and \\\n"
     ]
    },
    {
     "name": "stdout",
     "output_type": "stream",
     "text": [
      "train score (mean_absolute_error): 1.5112\n",
      "train score (mean_squared_error): 3.8971\n",
      "validation score (mean_absolute_error): 2.2883\n",
      "validation score (mean_squared_error): 8.3871\n",
      "Percentage of data thrown out: 0.04769498105714336%\n",
      " --------------- fold #2 out of -------------------\n"
     ]
    },
    {
     "name": "stderr",
     "output_type": "stream",
     "text": [
      "/home/sergey/.conda/envs/kaggle/lib/python3.6/site-packages/xgboost/core.py:587: FutureWarning: Series.base is deprecated and will be removed in a future version\n",
      "  if getattr(data, 'base', None) is not None and \\\n"
     ]
    },
    {
     "name": "stdout",
     "output_type": "stream",
     "text": [
      "train score (mean_absolute_error): 1.4812\n",
      "train score (mean_squared_error): 3.8429\n",
      "validation score (mean_absolute_error): 2.5420\n",
      "validation score (mean_squared_error): 9.8218\n",
      "Percentage of data thrown out: 0.04769498105714336%\n",
      " --------------- fold #3 out of -------------------\n"
     ]
    },
    {
     "name": "stderr",
     "output_type": "stream",
     "text": [
      "/home/sergey/.conda/envs/kaggle/lib/python3.6/site-packages/xgboost/core.py:587: FutureWarning: Series.base is deprecated and will be removed in a future version\n",
      "  if getattr(data, 'base', None) is not None and \\\n"
     ]
    },
    {
     "name": "stdout",
     "output_type": "stream",
     "text": [
      "train score (mean_absolute_error): 1.4581\n",
      "train score (mean_squared_error): 3.6917\n",
      "validation score (mean_absolute_error): 3.7277\n",
      "validation score (mean_squared_error): 18.1172\n",
      "Percentage of data thrown out: 0.04769498105714336%\n",
      " --------------- fold #4 out of -------------------\n"
     ]
    },
    {
     "name": "stderr",
     "output_type": "stream",
     "text": [
      "/home/sergey/.conda/envs/kaggle/lib/python3.6/site-packages/xgboost/core.py:587: FutureWarning: Series.base is deprecated and will be removed in a future version\n",
      "  if getattr(data, 'base', None) is not None and \\\n"
     ]
    },
    {
     "name": "stdout",
     "output_type": "stream",
     "text": [
      "train score (mean_absolute_error): 1.4582\n",
      "train score (mean_squared_error): 3.7456\n",
      "validation score (mean_absolute_error): 2.5750\n",
      "validation score (mean_squared_error): 9.8623\n",
      "Percentage of data thrown out: 0.04769498105714336%\n",
      " --------------- fold #5 out of -------------------\n"
     ]
    },
    {
     "name": "stderr",
     "output_type": "stream",
     "text": [
      "/home/sergey/.conda/envs/kaggle/lib/python3.6/site-packages/xgboost/core.py:587: FutureWarning: Series.base is deprecated and will be removed in a future version\n",
      "  if getattr(data, 'base', None) is not None and \\\n"
     ]
    },
    {
     "name": "stdout",
     "output_type": "stream",
     "text": [
      "train score (mean_absolute_error): 1.4560\n",
      "train score (mean_squared_error): 3.7745\n",
      "validation score (mean_absolute_error): 2.5155\n",
      "validation score (mean_squared_error): 9.4780\n",
      "Percentage of data thrown out: 0.04769498105714336%\n",
      " --------------- fold #6 out of -------------------\n"
     ]
    },
    {
     "name": "stderr",
     "output_type": "stream",
     "text": [
      "/home/sergey/.conda/envs/kaggle/lib/python3.6/site-packages/xgboost/core.py:587: FutureWarning: Series.base is deprecated and will be removed in a future version\n",
      "  if getattr(data, 'base', None) is not None and \\\n"
     ]
    },
    {
     "name": "stdout",
     "output_type": "stream",
     "text": [
      "train score (mean_absolute_error): 1.5572\n",
      "train score (mean_squared_error): 4.1852\n",
      "validation score (mean_absolute_error): 1.6317\n",
      "validation score (mean_squared_error): 3.7568\n",
      "Percentage of data thrown out: 0.04769498105714336%\n",
      " --------------- fold #7 out of -------------------\n"
     ]
    },
    {
     "name": "stderr",
     "output_type": "stream",
     "text": [
      "/home/sergey/.conda/envs/kaggle/lib/python3.6/site-packages/xgboost/core.py:587: FutureWarning: Series.base is deprecated and will be removed in a future version\n",
      "  if getattr(data, 'base', None) is not None and \\\n"
     ]
    },
    {
     "name": "stdout",
     "output_type": "stream",
     "text": [
      "train score (mean_absolute_error): 1.4960\n",
      "train score (mean_squared_error): 3.8582\n",
      "validation score (mean_absolute_error): 3.5618\n",
      "validation score (mean_squared_error): 16.4143\n",
      "Percentage of data thrown out: 0.04769498105714336%\n",
      " --------------- fold #8 out of -------------------\n"
     ]
    },
    {
     "name": "stderr",
     "output_type": "stream",
     "text": [
      "/home/sergey/.conda/envs/kaggle/lib/python3.6/site-packages/xgboost/core.py:587: FutureWarning: Series.base is deprecated and will be removed in a future version\n",
      "  if getattr(data, 'base', None) is not None and \\\n"
     ]
    },
    {
     "name": "stdout",
     "output_type": "stream",
     "text": [
      "train score (mean_absolute_error): 1.5020\n",
      "train score (mean_squared_error): 3.8418\n",
      "validation score (mean_absolute_error): 2.3500\n",
      "validation score (mean_squared_error): 8.9146\n",
      "['data_fname' 'preproc_name' 'preproc_params' 'folds_name' 'folds_params'\n",
      " 'model_name' 'model_params' 'mean_absolute_error' 'mean_squared_error']\n",
      "                                          data_fname    preproc_name  \\\n",
      "0  ../../data/e_lexa/train_proceded_not_smooth_da...  StandardScaler   \n",
      "\n",
      "               preproc_params  folds_name  \\\n",
      "0  {'name': 'StandardScaler'}  CustomFold   \n",
      "\n",
      "                                        folds_params    model_name  \\\n",
      "0  {'name': 'CustomFold', 'n_splits': 9, 'pad': 1...  XGBRegressor   \n",
      "\n",
      "                                        model_params  \\\n",
      "0  {'name': 'XGBRegressor', 'eta': 0.001, 'max_de...   \n",
      "\n",
      "                                 mean_absolute_error  \\\n",
      "0  [1.4525517729284838, 2.9487680890697763, 1.511...   \n",
      "\n",
      "                                  mean_squared_error  \n",
      "0  [3.708578421902996, 12.134792715091608, 3.8970...  \n",
      ".......................Training finished.........................\n",
      "Run 61:\n",
      "....................... Training model ..............................\n",
      "Percentage of data thrown out: 0.04769498105714336%\n",
      " --------------- fold #0 out of -------------------\n"
     ]
    },
    {
     "name": "stderr",
     "output_type": "stream",
     "text": [
      "/home/sergey/.conda/envs/kaggle/lib/python3.6/site-packages/xgboost/core.py:587: FutureWarning: Series.base is deprecated and will be removed in a future version\n",
      "  if getattr(data, 'base', None) is not None and \\\n"
     ]
    },
    {
     "name": "stdout",
     "output_type": "stream",
     "text": [
      "train score (mean_absolute_error): 1.3649\n",
      "train score (mean_squared_error): 3.2023\n",
      "validation score (mean_absolute_error): 3.9167\n",
      "validation score (mean_squared_error): 22.5120\n",
      "Percentage of data thrown out: 0.04769498105714336%\n",
      " --------------- fold #1 out of -------------------\n"
     ]
    },
    {
     "name": "stderr",
     "output_type": "stream",
     "text": [
      "/home/sergey/.conda/envs/kaggle/lib/python3.6/site-packages/xgboost/core.py:587: FutureWarning: Series.base is deprecated and will be removed in a future version\n",
      "  if getattr(data, 'base', None) is not None and \\\n"
     ]
    },
    {
     "name": "stdout",
     "output_type": "stream",
     "text": [
      "train score (mean_absolute_error): 1.4501\n",
      "train score (mean_squared_error): 3.6811\n",
      "validation score (mean_absolute_error): 3.2195\n",
      "validation score (mean_squared_error): 14.5888\n",
      "Percentage of data thrown out: 0.04769498105714336%\n",
      " --------------- fold #2 out of -------------------\n"
     ]
    },
    {
     "name": "stderr",
     "output_type": "stream",
     "text": [
      "/home/sergey/.conda/envs/kaggle/lib/python3.6/site-packages/xgboost/core.py:587: FutureWarning: Series.base is deprecated and will be removed in a future version\n",
      "  if getattr(data, 'base', None) is not None and \\\n"
     ]
    },
    {
     "name": "stdout",
     "output_type": "stream",
     "text": [
      "train score (mean_absolute_error): 1.6229\n",
      "train score (mean_squared_error): 4.4314\n",
      "validation score (mean_absolute_error): 1.4396\n",
      "validation score (mean_squared_error): 3.6906\n",
      "Percentage of data thrown out: 0.02384749052857168%\n",
      " --------------- fold #3 out of -------------------\n"
     ]
    },
    {
     "name": "stderr",
     "output_type": "stream",
     "text": [
      "/home/sergey/.conda/envs/kaggle/lib/python3.6/site-packages/xgboost/core.py:587: FutureWarning: Series.base is deprecated and will be removed in a future version\n",
      "  if getattr(data, 'base', None) is not None and \\\n"
     ]
    },
    {
     "name": "stdout",
     "output_type": "stream",
     "text": [
      "train score (mean_absolute_error): 1.5788\n",
      "train score (mean_squared_error): 4.2093\n",
      "validation score (mean_absolute_error): 2.2125\n",
      "validation score (mean_squared_error): 9.1290\n",
      "Percentage of data thrown out: 0.04769498105714336%\n",
      " --------------- fold #4 out of -------------------\n"
     ]
    },
    {
     "name": "stderr",
     "output_type": "stream",
     "text": [
      "/home/sergey/.conda/envs/kaggle/lib/python3.6/site-packages/xgboost/core.py:587: FutureWarning: Series.base is deprecated and will be removed in a future version\n",
      "  if getattr(data, 'base', None) is not None and \\\n"
     ]
    },
    {
     "name": "stdout",
     "output_type": "stream",
     "text": [
      "train score (mean_absolute_error): 1.4939\n",
      "train score (mean_squared_error): 3.8838\n",
      "validation score (mean_absolute_error): 3.0794\n",
      "validation score (mean_squared_error): 13.5524\n",
      "Percentage of data thrown out: 0.04769498105714336%\n",
      " --------------- fold #5 out of -------------------\n"
     ]
    },
    {
     "name": "stderr",
     "output_type": "stream",
     "text": [
      "/home/sergey/.conda/envs/kaggle/lib/python3.6/site-packages/xgboost/core.py:587: FutureWarning: Series.base is deprecated and will be removed in a future version\n",
      "  if getattr(data, 'base', None) is not None and \\\n"
     ]
    },
    {
     "name": "stdout",
     "output_type": "stream",
     "text": [
      "train score (mean_absolute_error): 1.4851\n",
      "train score (mean_squared_error): 3.8087\n",
      "validation score (mean_absolute_error): 3.3166\n",
      "validation score (mean_squared_error): 14.7355\n",
      "Percentage of data thrown out: 0.04769498105714336%\n",
      " --------------- fold #6 out of -------------------\n"
     ]
    },
    {
     "name": "stderr",
     "output_type": "stream",
     "text": [
      "/home/sergey/.conda/envs/kaggle/lib/python3.6/site-packages/xgboost/core.py:587: FutureWarning: Series.base is deprecated and will be removed in a future version\n",
      "  if getattr(data, 'base', None) is not None and \\\n"
     ]
    },
    {
     "name": "stdout",
     "output_type": "stream",
     "text": [
      "train score (mean_absolute_error): 1.3729\n",
      "train score (mean_squared_error): 3.2509\n",
      "validation score (mean_absolute_error): 3.9529\n",
      "validation score (mean_squared_error): 22.5541\n",
      "Percentage of data thrown out: 0.04769498105714336%\n",
      " --------------- fold #7 out of -------------------\n"
     ]
    },
    {
     "name": "stderr",
     "output_type": "stream",
     "text": [
      "/home/sergey/.conda/envs/kaggle/lib/python3.6/site-packages/xgboost/core.py:587: FutureWarning: Series.base is deprecated and will be removed in a future version\n",
      "  if getattr(data, 'base', None) is not None and \\\n"
     ]
    },
    {
     "name": "stdout",
     "output_type": "stream",
     "text": [
      "train score (mean_absolute_error): 1.5223\n",
      "train score (mean_squared_error): 3.9759\n",
      "validation score (mean_absolute_error): 3.3434\n",
      "validation score (mean_squared_error): 14.7797\n",
      "Percentage of data thrown out: 0.04769498105714336%\n",
      " --------------- fold #8 out of -------------------\n"
     ]
    },
    {
     "name": "stderr",
     "output_type": "stream",
     "text": [
      "/home/sergey/.conda/envs/kaggle/lib/python3.6/site-packages/xgboost/core.py:587: FutureWarning: Series.base is deprecated and will be removed in a future version\n",
      "  if getattr(data, 'base', None) is not None and \\\n"
     ]
    },
    {
     "name": "stdout",
     "output_type": "stream",
     "text": [
      "train score (mean_absolute_error): 1.5860\n",
      "train score (mean_squared_error): 4.2417\n",
      "validation score (mean_absolute_error): 1.3634\n",
      "validation score (mean_squared_error): 3.5545\n",
      "['data_fname' 'preproc_name' 'preproc_params' 'folds_name' 'folds_params'\n",
      " 'model_name' 'model_params' 'mean_absolute_error' 'mean_squared_error']\n",
      "                                          data_fname    preproc_name  \\\n",
      "0  ../../data/e_lexa/train_proceded_not_smooth_da...  StandardScaler   \n",
      "\n",
      "               preproc_params  folds_name  \\\n",
      "0  {'name': 'StandardScaler'}  CustomFold   \n",
      "\n",
      "                                        folds_params    model_name  \\\n",
      "0  {'name': 'CustomFold', 'n_splits': 9, 'pad': 1...  XGBRegressor   \n",
      "\n",
      "                                        model_params  \\\n",
      "0  {'name': 'XGBRegressor', 'eta': 0.001, 'max_de...   \n",
      "\n",
      "                                 mean_absolute_error  \\\n",
      "0  [1.3648757627645343, 3.9166959494730094, 1.450...   \n",
      "\n",
      "                                  mean_squared_error  \n",
      "0  [3.2023307110816837, 22.512048033853613, 3.681...  \n",
      ".......................Training finished.........................\n",
      "Run 62:\n",
      "....................... Training model ..............................\n",
      "Percentage of data thrown out: 0.04769498105714336%\n",
      " --------------- fold #0 out of -------------------\n"
     ]
    },
    {
     "name": "stderr",
     "output_type": "stream",
     "text": [
      "/home/sergey/.conda/envs/kaggle/lib/python3.6/site-packages/xgboost/core.py:587: FutureWarning: Series.base is deprecated and will be removed in a future version\n",
      "  if getattr(data, 'base', None) is not None and \\\n"
     ]
    },
    {
     "name": "stdout",
     "output_type": "stream",
     "text": [
      "train score (mean_absolute_error): 1.5188\n",
      "train score (mean_squared_error): 3.9943\n",
      "validation score (mean_absolute_error): 1.7387\n",
      "validation score (mean_squared_error): 4.4558\n",
      "Percentage of data thrown out: 0.04769498105714336%\n",
      " --------------- fold #1 out of -------------------\n"
     ]
    },
    {
     "name": "stderr",
     "output_type": "stream",
     "text": [
      "/home/sergey/.conda/envs/kaggle/lib/python3.6/site-packages/xgboost/core.py:587: FutureWarning: Series.base is deprecated and will be removed in a future version\n",
      "  if getattr(data, 'base', None) is not None and \\\n"
     ]
    },
    {
     "name": "stdout",
     "output_type": "stream",
     "text": [
      "train score (mean_absolute_error): 1.5051\n",
      "train score (mean_squared_error): 3.9025\n",
      "validation score (mean_absolute_error): 2.1662\n",
      "validation score (mean_squared_error): 7.8708\n",
      "Percentage of data thrown out: 0.04769498105714336%\n",
      " --------------- fold #2 out of -------------------\n"
     ]
    },
    {
     "name": "stderr",
     "output_type": "stream",
     "text": [
      "/home/sergey/.conda/envs/kaggle/lib/python3.6/site-packages/xgboost/core.py:587: FutureWarning: Series.base is deprecated and will be removed in a future version\n",
      "  if getattr(data, 'base', None) is not None and \\\n"
     ]
    },
    {
     "name": "stdout",
     "output_type": "stream",
     "text": [
      "train score (mean_absolute_error): 1.5434\n",
      "train score (mean_squared_error): 4.0936\n",
      "validation score (mean_absolute_error): 2.1868\n",
      "validation score (mean_squared_error): 7.0170\n",
      "Percentage of data thrown out: 0.04769498105714336%\n",
      " --------------- fold #3 out of -------------------\n"
     ]
    },
    {
     "name": "stderr",
     "output_type": "stream",
     "text": [
      "/home/sergey/.conda/envs/kaggle/lib/python3.6/site-packages/xgboost/core.py:587: FutureWarning: Series.base is deprecated and will be removed in a future version\n",
      "  if getattr(data, 'base', None) is not None and \\\n"
     ]
    },
    {
     "name": "stdout",
     "output_type": "stream",
     "text": [
      "train score (mean_absolute_error): 1.5309\n",
      "train score (mean_squared_error): 4.0153\n",
      "validation score (mean_absolute_error): 2.0781\n",
      "validation score (mean_squared_error): 7.3953\n",
      "Percentage of data thrown out: 0.04769498105714336%\n",
      " --------------- fold #4 out of -------------------\n"
     ]
    },
    {
     "name": "stderr",
     "output_type": "stream",
     "text": [
      "/home/sergey/.conda/envs/kaggle/lib/python3.6/site-packages/xgboost/core.py:587: FutureWarning: Series.base is deprecated and will be removed in a future version\n",
      "  if getattr(data, 'base', None) is not None and \\\n"
     ]
    },
    {
     "name": "stdout",
     "output_type": "stream",
     "text": [
      "train score (mean_absolute_error): 1.5432\n",
      "train score (mean_squared_error): 4.1443\n",
      "validation score (mean_absolute_error): 2.9201\n",
      "validation score (mean_squared_error): 13.0883\n",
      "Percentage of data thrown out: 0.02384749052857168%\n",
      " --------------- fold #5 out of -------------------\n"
     ]
    },
    {
     "name": "stderr",
     "output_type": "stream",
     "text": [
      "/home/sergey/.conda/envs/kaggle/lib/python3.6/site-packages/xgboost/core.py:587: FutureWarning: Series.base is deprecated and will be removed in a future version\n",
      "  if getattr(data, 'base', None) is not None and \\\n"
     ]
    },
    {
     "name": "stdout",
     "output_type": "stream",
     "text": [
      "train score (mean_absolute_error): 1.5675\n",
      "train score (mean_squared_error): 4.1271\n",
      "validation score (mean_absolute_error): 2.5617\n",
      "validation score (mean_squared_error): 10.0699\n",
      "Percentage of data thrown out: 0.04769498105714336%\n",
      " --------------- fold #6 out of -------------------\n"
     ]
    },
    {
     "name": "stderr",
     "output_type": "stream",
     "text": [
      "/home/sergey/.conda/envs/kaggle/lib/python3.6/site-packages/xgboost/core.py:587: FutureWarning: Series.base is deprecated and will be removed in a future version\n",
      "  if getattr(data, 'base', None) is not None and \\\n"
     ]
    },
    {
     "name": "stdout",
     "output_type": "stream",
     "text": [
      "train score (mean_absolute_error): 1.3622\n",
      "train score (mean_squared_error): 3.2216\n",
      "validation score (mean_absolute_error): 3.6954\n",
      "validation score (mean_squared_error): 20.3102\n",
      "Percentage of data thrown out: 0.04769498105714336%\n",
      " --------------- fold #7 out of -------------------\n"
     ]
    },
    {
     "name": "stderr",
     "output_type": "stream",
     "text": [
      "/home/sergey/.conda/envs/kaggle/lib/python3.6/site-packages/xgboost/core.py:587: FutureWarning: Series.base is deprecated and will be removed in a future version\n",
      "  if getattr(data, 'base', None) is not None and \\\n"
     ]
    },
    {
     "name": "stdout",
     "output_type": "stream",
     "text": [
      "train score (mean_absolute_error): 1.3580\n",
      "train score (mean_squared_error): 3.2001\n",
      "validation score (mean_absolute_error): 4.0214\n",
      "validation score (mean_squared_error): 24.4167\n",
      "Percentage of data thrown out: 0.04769498105714336%\n",
      " --------------- fold #8 out of -------------------\n"
     ]
    },
    {
     "name": "stderr",
     "output_type": "stream",
     "text": [
      "/home/sergey/.conda/envs/kaggle/lib/python3.6/site-packages/xgboost/core.py:587: FutureWarning: Series.base is deprecated and will be removed in a future version\n",
      "  if getattr(data, 'base', None) is not None and \\\n"
     ]
    },
    {
     "name": "stdout",
     "output_type": "stream",
     "text": [
      "train score (mean_absolute_error): 1.5356\n",
      "train score (mean_squared_error): 4.0881\n",
      "validation score (mean_absolute_error): 1.4451\n",
      "validation score (mean_squared_error): 3.1270\n",
      "['data_fname' 'preproc_name' 'preproc_params' 'folds_name' 'folds_params'\n",
      " 'model_name' 'model_params' 'mean_absolute_error' 'mean_squared_error']\n",
      "                                          data_fname    preproc_name  \\\n",
      "0  ../../data/e_lexa/train_proceded_not_smooth_da...  StandardScaler   \n",
      "\n",
      "               preproc_params  folds_name  \\\n",
      "0  {'name': 'StandardScaler'}  CustomFold   \n",
      "\n",
      "                                        folds_params    model_name  \\\n",
      "0  {'name': 'CustomFold', 'n_splits': 9, 'pad': 1...  XGBRegressor   \n",
      "\n",
      "                                        model_params  \\\n",
      "0  {'name': 'XGBRegressor', 'eta': 0.001, 'max_de...   \n",
      "\n",
      "                                 mean_absolute_error  \\\n",
      "0  [1.51882078430221, 1.7386881829855132, 1.50512...   \n",
      "\n",
      "                                  mean_squared_error  \n",
      "0  [3.994280285192118, 4.455762369890158, 3.90245...  \n",
      ".......................Training finished.........................\n",
      "Run 63:\n",
      "....................... Training model ..............................\n",
      "Percentage of data thrown out: 0.04769498105714336%\n",
      " --------------- fold #0 out of -------------------\n"
     ]
    },
    {
     "name": "stderr",
     "output_type": "stream",
     "text": [
      "/home/sergey/.conda/envs/kaggle/lib/python3.6/site-packages/xgboost/core.py:587: FutureWarning: Series.base is deprecated and will be removed in a future version\n",
      "  if getattr(data, 'base', None) is not None and \\\n"
     ]
    },
    {
     "name": "stdout",
     "output_type": "stream",
     "text": [
      "train score (mean_absolute_error): 1.6403\n",
      "train score (mean_squared_error): 4.4773\n",
      "validation score (mean_absolute_error): 1.1757\n",
      "validation score (mean_squared_error): 2.5650\n",
      "Percentage of data thrown out: 0.04769498105714336%\n",
      " --------------- fold #1 out of -------------------\n"
     ]
    },
    {
     "name": "stderr",
     "output_type": "stream",
     "text": [
      "/home/sergey/.conda/envs/kaggle/lib/python3.6/site-packages/xgboost/core.py:587: FutureWarning: Series.base is deprecated and will be removed in a future version\n",
      "  if getattr(data, 'base', None) is not None and \\\n"
     ]
    },
    {
     "name": "stdout",
     "output_type": "stream",
     "text": [
      "train score (mean_absolute_error): 1.5967\n",
      "train score (mean_squared_error): 4.2876\n",
      "validation score (mean_absolute_error): 1.3038\n",
      "validation score (mean_squared_error): 3.1983\n",
      "Percentage of data thrown out: 0.04769498105714336%\n",
      " --------------- fold #2 out of -------------------\n"
     ]
    },
    {
     "name": "stderr",
     "output_type": "stream",
     "text": [
      "/home/sergey/.conda/envs/kaggle/lib/python3.6/site-packages/xgboost/core.py:587: FutureWarning: Series.base is deprecated and will be removed in a future version\n",
      "  if getattr(data, 'base', None) is not None and \\\n"
     ]
    },
    {
     "name": "stdout",
     "output_type": "stream",
     "text": [
      "train score (mean_absolute_error): 1.5004\n",
      "train score (mean_squared_error): 3.9072\n",
      "validation score (mean_absolute_error): 2.9382\n",
      "validation score (mean_squared_error): 12.3766\n",
      "Percentage of data thrown out: 0.04769498105714336%\n",
      " --------------- fold #3 out of -------------------\n"
     ]
    },
    {
     "name": "stderr",
     "output_type": "stream",
     "text": [
      "/home/sergey/.conda/envs/kaggle/lib/python3.6/site-packages/xgboost/core.py:587: FutureWarning: Series.base is deprecated and will be removed in a future version\n",
      "  if getattr(data, 'base', None) is not None and \\\n"
     ]
    },
    {
     "name": "stdout",
     "output_type": "stream",
     "text": [
      "train score (mean_absolute_error): 1.5593\n",
      "train score (mean_squared_error): 4.1637\n",
      "validation score (mean_absolute_error): 1.6677\n",
      "validation score (mean_squared_error): 4.3325\n",
      "Percentage of data thrown out: 0.04769498105714336%\n",
      " --------------- fold #4 out of -------------------\n"
     ]
    },
    {
     "name": "stderr",
     "output_type": "stream",
     "text": [
      "/home/sergey/.conda/envs/kaggle/lib/python3.6/site-packages/xgboost/core.py:587: FutureWarning: Series.base is deprecated and will be removed in a future version\n",
      "  if getattr(data, 'base', None) is not None and \\\n"
     ]
    },
    {
     "name": "stdout",
     "output_type": "stream",
     "text": [
      "train score (mean_absolute_error): 1.5448\n",
      "train score (mean_squared_error): 4.1592\n",
      "validation score (mean_absolute_error): 2.2679\n",
      "validation score (mean_squared_error): 7.1684\n",
      "Percentage of data thrown out: 0.04769498105714336%\n",
      " --------------- fold #5 out of -------------------\n"
     ]
    },
    {
     "name": "stderr",
     "output_type": "stream",
     "text": [
      "/home/sergey/.conda/envs/kaggle/lib/python3.6/site-packages/xgboost/core.py:587: FutureWarning: Series.base is deprecated and will be removed in a future version\n",
      "  if getattr(data, 'base', None) is not None and \\\n"
     ]
    },
    {
     "name": "stdout",
     "output_type": "stream",
     "text": [
      "train score (mean_absolute_error): 1.5943\n",
      "train score (mean_squared_error): 4.2961\n",
      "validation score (mean_absolute_error): 1.3097\n",
      "validation score (mean_squared_error): 3.3219\n",
      "Percentage of data thrown out: 0.04769498105714336%\n",
      " --------------- fold #6 out of -------------------\n"
     ]
    },
    {
     "name": "stderr",
     "output_type": "stream",
     "text": [
      "/home/sergey/.conda/envs/kaggle/lib/python3.6/site-packages/xgboost/core.py:587: FutureWarning: Series.base is deprecated and will be removed in a future version\n",
      "  if getattr(data, 'base', None) is not None and \\\n"
     ]
    },
    {
     "name": "stdout",
     "output_type": "stream",
     "text": [
      "train score (mean_absolute_error): 1.5422\n",
      "train score (mean_squared_error): 3.9968\n",
      "validation score (mean_absolute_error): 3.0661\n",
      "validation score (mean_squared_error): 12.3676\n",
      "Percentage of data thrown out: 0.04769498105714336%\n",
      " --------------- fold #7 out of -------------------\n"
     ]
    },
    {
     "name": "stderr",
     "output_type": "stream",
     "text": [
      "/home/sergey/.conda/envs/kaggle/lib/python3.6/site-packages/xgboost/core.py:587: FutureWarning: Series.base is deprecated and will be removed in a future version\n",
      "  if getattr(data, 'base', None) is not None and \\\n"
     ]
    },
    {
     "name": "stdout",
     "output_type": "stream",
     "text": [
      "train score (mean_absolute_error): 1.5079\n",
      "train score (mean_squared_error): 3.8601\n",
      "validation score (mean_absolute_error): 2.2084\n",
      "validation score (mean_squared_error): 7.8783\n",
      "Percentage of data thrown out: 0.02384749052857168%\n",
      " --------------- fold #8 out of -------------------\n"
     ]
    },
    {
     "name": "stderr",
     "output_type": "stream",
     "text": [
      "/home/sergey/.conda/envs/kaggle/lib/python3.6/site-packages/xgboost/core.py:587: FutureWarning: Series.base is deprecated and will be removed in a future version\n",
      "  if getattr(data, 'base', None) is not None and \\\n"
     ]
    },
    {
     "name": "stdout",
     "output_type": "stream",
     "text": [
      "train score (mean_absolute_error): 1.5577\n",
      "train score (mean_squared_error): 4.0665\n",
      "validation score (mean_absolute_error): 2.2701\n",
      "validation score (mean_squared_error): 9.3613\n",
      "['data_fname' 'preproc_name' 'preproc_params' 'folds_name' 'folds_params'\n",
      " 'model_name' 'model_params' 'mean_absolute_error' 'mean_squared_error']\n",
      "                                          data_fname    preproc_name  \\\n",
      "0  ../../data/e_lexa/train_proceded_not_smooth_da...  StandardScaler   \n",
      "\n",
      "               preproc_params  folds_name  \\\n",
      "0  {'name': 'StandardScaler'}  CustomFold   \n",
      "\n",
      "                                        folds_params    model_name  \\\n",
      "0  {'name': 'CustomFold', 'n_splits': 9, 'pad': 1...  XGBRegressor   \n",
      "\n",
      "                                        model_params  \\\n",
      "0  {'name': 'XGBRegressor', 'eta': 0.001, 'max_de...   \n",
      "\n",
      "                                 mean_absolute_error  \\\n",
      "0  [1.6403170567916951, 1.1756648314138, 1.596654...   \n",
      "\n",
      "                                  mean_squared_error  \n",
      "0  [4.477337001588297, 2.5649791124485772, 4.2875...  \n",
      ".......................Training finished.........................\n",
      "Run 64:\n",
      "....................... Training model ..............................\n",
      "Percentage of data thrown out: 0.04769498105714336%\n",
      " --------------- fold #0 out of -------------------\n"
     ]
    },
    {
     "name": "stderr",
     "output_type": "stream",
     "text": [
      "/home/sergey/.conda/envs/kaggle/lib/python3.6/site-packages/xgboost/core.py:587: FutureWarning: Series.base is deprecated and will be removed in a future version\n",
      "  if getattr(data, 'base', None) is not None and \\\n"
     ]
    },
    {
     "name": "stdout",
     "output_type": "stream",
     "text": [
      "train score (mean_absolute_error): 1.5226\n",
      "train score (mean_squared_error): 3.9615\n",
      "validation score (mean_absolute_error): 1.6508\n",
      "validation score (mean_squared_error): 4.1987\n",
      "Percentage of data thrown out: 0.04292548295142902%\n",
      " --------------- fold #1 out of -------------------\n"
     ]
    },
    {
     "name": "stderr",
     "output_type": "stream",
     "text": [
      "/home/sergey/.conda/envs/kaggle/lib/python3.6/site-packages/xgboost/core.py:587: FutureWarning: Series.base is deprecated and will be removed in a future version\n",
      "  if getattr(data, 'base', None) is not None and \\\n"
     ]
    },
    {
     "name": "stdout",
     "output_type": "stream",
     "text": [
      "train score (mean_absolute_error): 1.5662\n",
      "train score (mean_squared_error): 4.1386\n",
      "validation score (mean_absolute_error): 2.1292\n",
      "validation score (mean_squared_error): 8.3332\n",
      "Percentage of data thrown out: 0.04769498105714336%\n",
      " --------------- fold #2 out of -------------------\n"
     ]
    },
    {
     "name": "stderr",
     "output_type": "stream",
     "text": [
      "/home/sergey/.conda/envs/kaggle/lib/python3.6/site-packages/xgboost/core.py:587: FutureWarning: Series.base is deprecated and will be removed in a future version\n",
      "  if getattr(data, 'base', None) is not None and \\\n"
     ]
    },
    {
     "name": "stdout",
     "output_type": "stream",
     "text": [
      "train score (mean_absolute_error): 1.3451\n",
      "train score (mean_squared_error): 3.1570\n",
      "validation score (mean_absolute_error): 4.1247\n",
      "validation score (mean_squared_error): 25.1696\n",
      "Percentage of data thrown out: 0.02384749052857168%\n",
      " --------------- fold #3 out of -------------------\n"
     ]
    },
    {
     "name": "stderr",
     "output_type": "stream",
     "text": [
      "/home/sergey/.conda/envs/kaggle/lib/python3.6/site-packages/xgboost/core.py:587: FutureWarning: Series.base is deprecated and will be removed in a future version\n",
      "  if getattr(data, 'base', None) is not None and \\\n"
     ]
    },
    {
     "name": "stdout",
     "output_type": "stream",
     "text": [
      "train score (mean_absolute_error): 1.5496\n",
      "train score (mean_squared_error): 4.0715\n",
      "validation score (mean_absolute_error): 1.8143\n",
      "validation score (mean_squared_error): 5.5482\n",
      "Percentage of data thrown out: 0.04769498105714336%\n",
      " --------------- fold #4 out of -------------------\n"
     ]
    },
    {
     "name": "stderr",
     "output_type": "stream",
     "text": [
      "/home/sergey/.conda/envs/kaggle/lib/python3.6/site-packages/xgboost/core.py:587: FutureWarning: Series.base is deprecated and will be removed in a future version\n",
      "  if getattr(data, 'base', None) is not None and \\\n"
     ]
    },
    {
     "name": "stdout",
     "output_type": "stream",
     "text": [
      "train score (mean_absolute_error): 1.5873\n",
      "train score (mean_squared_error): 4.2612\n",
      "validation score (mean_absolute_error): 1.3399\n",
      "validation score (mean_squared_error): 3.3780\n",
      "Percentage of data thrown out: 0.04769498105714336%\n",
      " --------------- fold #5 out of -------------------\n"
     ]
    },
    {
     "name": "stderr",
     "output_type": "stream",
     "text": [
      "/home/sergey/.conda/envs/kaggle/lib/python3.6/site-packages/xgboost/core.py:587: FutureWarning: Series.base is deprecated and will be removed in a future version\n",
      "  if getattr(data, 'base', None) is not None and \\\n"
     ]
    },
    {
     "name": "stdout",
     "output_type": "stream",
     "text": [
      "train score (mean_absolute_error): 1.5294\n",
      "train score (mean_squared_error): 4.0013\n",
      "validation score (mean_absolute_error): 2.0691\n",
      "validation score (mean_squared_error): 6.8345\n",
      "Percentage of data thrown out: 0.04769498105714336%\n",
      " --------------- fold #6 out of -------------------\n"
     ]
    },
    {
     "name": "stderr",
     "output_type": "stream",
     "text": [
      "/home/sergey/.conda/envs/kaggle/lib/python3.6/site-packages/xgboost/core.py:587: FutureWarning: Series.base is deprecated and will be removed in a future version\n",
      "  if getattr(data, 'base', None) is not None and \\\n"
     ]
    },
    {
     "name": "stdout",
     "output_type": "stream",
     "text": [
      "train score (mean_absolute_error): 1.5419\n",
      "train score (mean_squared_error): 3.9723\n",
      "validation score (mean_absolute_error): 3.0534\n",
      "validation score (mean_squared_error): 12.2485\n",
      "Percentage of data thrown out: 0.04769498105714336%\n",
      " --------------- fold #7 out of -------------------\n"
     ]
    },
    {
     "name": "stderr",
     "output_type": "stream",
     "text": [
      "/home/sergey/.conda/envs/kaggle/lib/python3.6/site-packages/xgboost/core.py:587: FutureWarning: Series.base is deprecated and will be removed in a future version\n",
      "  if getattr(data, 'base', None) is not None and \\\n"
     ]
    },
    {
     "name": "stdout",
     "output_type": "stream",
     "text": [
      "train score (mean_absolute_error): 1.5918\n",
      "train score (mean_squared_error): 4.2591\n",
      "validation score (mean_absolute_error): 1.3543\n",
      "validation score (mean_squared_error): 2.9738\n",
      "Percentage of data thrown out: 0.04769498105714336%\n",
      " --------------- fold #8 out of -------------------\n"
     ]
    },
    {
     "name": "stderr",
     "output_type": "stream",
     "text": [
      "/home/sergey/.conda/envs/kaggle/lib/python3.6/site-packages/xgboost/core.py:587: FutureWarning: Series.base is deprecated and will be removed in a future version\n",
      "  if getattr(data, 'base', None) is not None and \\\n"
     ]
    },
    {
     "name": "stdout",
     "output_type": "stream",
     "text": [
      "train score (mean_absolute_error): 1.5355\n",
      "train score (mean_squared_error): 4.0107\n",
      "validation score (mean_absolute_error): 2.2585\n",
      "validation score (mean_squared_error): 7.7958\n",
      "['data_fname' 'preproc_name' 'preproc_params' 'folds_name' 'folds_params'\n",
      " 'model_name' 'model_params' 'mean_absolute_error' 'mean_squared_error']\n",
      "                                          data_fname    preproc_name  \\\n",
      "0  ../../data/e_lexa/train_proceded_not_smooth_da...  StandardScaler   \n",
      "\n",
      "               preproc_params  folds_name  \\\n",
      "0  {'name': 'StandardScaler'}  CustomFold   \n",
      "\n",
      "                                        folds_params    model_name  \\\n",
      "0  {'name': 'CustomFold', 'n_splits': 9, 'pad': 1...  XGBRegressor   \n",
      "\n",
      "                                        model_params  \\\n",
      "0  {'name': 'XGBRegressor', 'eta': 0.001, 'max_de...   \n",
      "\n",
      "                                 mean_absolute_error  \\\n",
      "0  [1.5226406690041423, 1.6507538483898527, 1.566...   \n",
      "\n",
      "                                  mean_squared_error  \n",
      "0  [3.9615214196168873, 4.198682735841102, 4.1385...  \n",
      ".......................Training finished.........................\n",
      "Run 65:\n",
      "....................... Training model ..............................\n",
      "Percentage of data thrown out: 0.04769498105714336%\n",
      " --------------- fold #0 out of -------------------\n"
     ]
    },
    {
     "name": "stderr",
     "output_type": "stream",
     "text": [
      "/home/sergey/.conda/envs/kaggle/lib/python3.6/site-packages/xgboost/core.py:587: FutureWarning: Series.base is deprecated and will be removed in a future version\n",
      "  if getattr(data, 'base', None) is not None and \\\n"
     ]
    },
    {
     "name": "stdout",
     "output_type": "stream",
     "text": [
      "train score (mean_absolute_error): 1.4113\n",
      "train score (mean_squared_error): 3.5104\n",
      "validation score (mean_absolute_error): 2.5432\n",
      "validation score (mean_squared_error): 9.5977\n",
      "Percentage of data thrown out: 0.04769498105714336%\n",
      " --------------- fold #1 out of -------------------\n"
     ]
    },
    {
     "name": "stderr",
     "output_type": "stream",
     "text": [
      "/home/sergey/.conda/envs/kaggle/lib/python3.6/site-packages/xgboost/core.py:587: FutureWarning: Series.base is deprecated and will be removed in a future version\n",
      "  if getattr(data, 'base', None) is not None and \\\n"
     ]
    },
    {
     "name": "stdout",
     "output_type": "stream",
     "text": [
      "train score (mean_absolute_error): 1.5226\n",
      "train score (mean_squared_error): 3.9340\n",
      "validation score (mean_absolute_error): 2.8200\n",
      "validation score (mean_squared_error): 11.0942\n",
      "Percentage of data thrown out: 0.04769498105714336%\n",
      " --------------- fold #2 out of -------------------\n"
     ]
    },
    {
     "name": "stderr",
     "output_type": "stream",
     "text": [
      "/home/sergey/.conda/envs/kaggle/lib/python3.6/site-packages/xgboost/core.py:587: FutureWarning: Series.base is deprecated and will be removed in a future version\n",
      "  if getattr(data, 'base', None) is not None and \\\n"
     ]
    },
    {
     "name": "stdout",
     "output_type": "stream",
     "text": [
      "train score (mean_absolute_error): 1.5900\n",
      "train score (mean_squared_error): 4.2645\n",
      "validation score (mean_absolute_error): 2.1524\n",
      "validation score (mean_squared_error): 6.9121\n",
      "Percentage of data thrown out: 0.04769498105714336%\n",
      " --------------- fold #3 out of -------------------\n"
     ]
    },
    {
     "name": "stderr",
     "output_type": "stream",
     "text": [
      "/home/sergey/.conda/envs/kaggle/lib/python3.6/site-packages/xgboost/core.py:587: FutureWarning: Series.base is deprecated and will be removed in a future version\n",
      "  if getattr(data, 'base', None) is not None and \\\n"
     ]
    },
    {
     "name": "stdout",
     "output_type": "stream",
     "text": [
      "train score (mean_absolute_error): 1.5971\n",
      "train score (mean_squared_error): 4.2729\n",
      "validation score (mean_absolute_error): 1.2988\n",
      "validation score (mean_squared_error): 3.3061\n",
      "Percentage of data thrown out: 0.04769498105714336%\n",
      " --------------- fold #4 out of -------------------\n"
     ]
    },
    {
     "name": "stderr",
     "output_type": "stream",
     "text": [
      "/home/sergey/.conda/envs/kaggle/lib/python3.6/site-packages/xgboost/core.py:587: FutureWarning: Series.base is deprecated and will be removed in a future version\n",
      "  if getattr(data, 'base', None) is not None and \\\n"
     ]
    },
    {
     "name": "stdout",
     "output_type": "stream",
     "text": [
      "train score (mean_absolute_error): 1.4612\n",
      "train score (mean_squared_error): 3.8228\n",
      "validation score (mean_absolute_error): 2.6570\n",
      "validation score (mean_squared_error): 10.0992\n",
      "Percentage of data thrown out: 0.04769498105714336%\n",
      " --------------- fold #5 out of -------------------\n"
     ]
    },
    {
     "name": "stderr",
     "output_type": "stream",
     "text": [
      "/home/sergey/.conda/envs/kaggle/lib/python3.6/site-packages/xgboost/core.py:587: FutureWarning: Series.base is deprecated and will be removed in a future version\n",
      "  if getattr(data, 'base', None) is not None and \\\n"
     ]
    },
    {
     "name": "stdout",
     "output_type": "stream",
     "text": [
      "train score (mean_absolute_error): 1.4923\n",
      "train score (mean_squared_error): 3.8846\n",
      "validation score (mean_absolute_error): 2.4744\n",
      "validation score (mean_squared_error): 8.4438\n",
      "Percentage of data thrown out: 0.04769498105714336%\n",
      " --------------- fold #6 out of -------------------\n"
     ]
    },
    {
     "name": "stderr",
     "output_type": "stream",
     "text": [
      "/home/sergey/.conda/envs/kaggle/lib/python3.6/site-packages/xgboost/core.py:587: FutureWarning: Series.base is deprecated and will be removed in a future version\n",
      "  if getattr(data, 'base', None) is not None and \\\n"
     ]
    },
    {
     "name": "stdout",
     "output_type": "stream",
     "text": [
      "train score (mean_absolute_error): 1.3316\n",
      "train score (mean_squared_error): 3.1158\n",
      "validation score (mean_absolute_error): 3.9225\n",
      "validation score (mean_squared_error): 22.4213\n",
      "Percentage of data thrown out: 0.04769498105714336%\n",
      " --------------- fold #7 out of -------------------\n"
     ]
    },
    {
     "name": "stderr",
     "output_type": "stream",
     "text": [
      "/home/sergey/.conda/envs/kaggle/lib/python3.6/site-packages/xgboost/core.py:587: FutureWarning: Series.base is deprecated and will be removed in a future version\n",
      "  if getattr(data, 'base', None) is not None and \\\n"
     ]
    },
    {
     "name": "stdout",
     "output_type": "stream",
     "text": [
      "train score (mean_absolute_error): 1.6086\n",
      "train score (mean_squared_error): 4.2775\n",
      "validation score (mean_absolute_error): 1.4127\n",
      "validation score (mean_squared_error): 3.7159\n",
      "Percentage of data thrown out: 0.04769498105714336%\n",
      " --------------- fold #8 out of -------------------\n"
     ]
    },
    {
     "name": "stderr",
     "output_type": "stream",
     "text": [
      "/home/sergey/.conda/envs/kaggle/lib/python3.6/site-packages/xgboost/core.py:587: FutureWarning: Series.base is deprecated and will be removed in a future version\n",
      "  if getattr(data, 'base', None) is not None and \\\n"
     ]
    },
    {
     "name": "stdout",
     "output_type": "stream",
     "text": [
      "train score (mean_absolute_error): 1.5928\n",
      "train score (mean_squared_error): 4.2967\n",
      "validation score (mean_absolute_error): 2.7346\n",
      "validation score (mean_squared_error): 11.4885\n",
      "['data_fname' 'preproc_name' 'preproc_params' 'folds_name' 'folds_params'\n",
      " 'model_name' 'model_params' 'mean_absolute_error' 'mean_squared_error']\n",
      "                                          data_fname    preproc_name  \\\n",
      "0  ../../data/e_lexa/train_proceded_not_smooth_da...  StandardScaler   \n",
      "\n",
      "               preproc_params  folds_name  \\\n",
      "0  {'name': 'StandardScaler'}  CustomFold   \n",
      "\n",
      "                                        folds_params    model_name  \\\n",
      "0  {'name': 'CustomFold', 'n_splits': 9, 'pad': 1...  XGBRegressor   \n",
      "\n",
      "                                        model_params  \\\n",
      "0  {'name': 'XGBRegressor', 'eta': 0.001, 'max_de...   \n",
      "\n",
      "                                 mean_absolute_error  \\\n",
      "0  [1.4113307210984316, 2.543181254964382, 1.5226...   \n",
      "\n",
      "                                  mean_squared_error  \n",
      "0  [3.510445027700363, 9.597695803985282, 3.93404...  \n",
      ".......................Training finished.........................\n",
      "Run 66:\n",
      "....................... Training model ..............................\n",
      "Percentage of data thrown out: 0.04769498105714336%\n",
      " --------------- fold #0 out of -------------------\n"
     ]
    },
    {
     "name": "stderr",
     "output_type": "stream",
     "text": [
      "/home/sergey/.conda/envs/kaggle/lib/python3.6/site-packages/xgboost/core.py:587: FutureWarning: Series.base is deprecated and will be removed in a future version\n",
      "  if getattr(data, 'base', None) is not None and \\\n"
     ]
    },
    {
     "name": "stdout",
     "output_type": "stream",
     "text": [
      "train score (mean_absolute_error): 1.5041\n",
      "train score (mean_squared_error): 3.8788\n",
      "validation score (mean_absolute_error): 2.5975\n",
      "validation score (mean_squared_error): 10.8678\n",
      "Percentage of data thrown out: 0.04769498105714336%\n",
      " --------------- fold #1 out of -------------------\n"
     ]
    },
    {
     "name": "stderr",
     "output_type": "stream",
     "text": [
      "/home/sergey/.conda/envs/kaggle/lib/python3.6/site-packages/xgboost/core.py:587: FutureWarning: Series.base is deprecated and will be removed in a future version\n",
      "  if getattr(data, 'base', None) is not None and \\\n"
     ]
    },
    {
     "name": "stdout",
     "output_type": "stream",
     "text": [
      "train score (mean_absolute_error): 1.4783\n",
      "train score (mean_squared_error): 3.7545\n",
      "validation score (mean_absolute_error): 2.3747\n",
      "validation score (mean_squared_error): 9.1367\n",
      "Percentage of data thrown out: 0.04769498105714336%\n",
      " --------------- fold #2 out of -------------------\n"
     ]
    },
    {
     "name": "stderr",
     "output_type": "stream",
     "text": [
      "/home/sergey/.conda/envs/kaggle/lib/python3.6/site-packages/xgboost/core.py:587: FutureWarning: Series.base is deprecated and will be removed in a future version\n",
      "  if getattr(data, 'base', None) is not None and \\\n"
     ]
    },
    {
     "name": "stdout",
     "output_type": "stream",
     "text": [
      "train score (mean_absolute_error): 1.5266\n",
      "train score (mean_squared_error): 4.0411\n",
      "validation score (mean_absolute_error): 1.9775\n",
      "validation score (mean_squared_error): 6.7559\n",
      "Percentage of data thrown out: 0.04769498105714336%\n",
      " --------------- fold #3 out of -------------------\n"
     ]
    },
    {
     "name": "stderr",
     "output_type": "stream",
     "text": [
      "/home/sergey/.conda/envs/kaggle/lib/python3.6/site-packages/xgboost/core.py:587: FutureWarning: Series.base is deprecated and will be removed in a future version\n",
      "  if getattr(data, 'base', None) is not None and \\\n"
     ]
    },
    {
     "name": "stdout",
     "output_type": "stream",
     "text": [
      "train score (mean_absolute_error): 1.5060\n",
      "train score (mean_squared_error): 3.9081\n",
      "validation score (mean_absolute_error): 2.9913\n",
      "validation score (mean_squared_error): 13.1190\n",
      "Percentage of data thrown out: 0.04769498105714336%\n",
      " --------------- fold #4 out of -------------------\n"
     ]
    },
    {
     "name": "stderr",
     "output_type": "stream",
     "text": [
      "/home/sergey/.conda/envs/kaggle/lib/python3.6/site-packages/xgboost/core.py:587: FutureWarning: Series.base is deprecated and will be removed in a future version\n",
      "  if getattr(data, 'base', None) is not None and \\\n"
     ]
    },
    {
     "name": "stdout",
     "output_type": "stream",
     "text": [
      "train score (mean_absolute_error): 1.4442\n",
      "train score (mean_squared_error): 3.7173\n",
      "validation score (mean_absolute_error): 2.5473\n",
      "validation score (mean_squared_error): 9.7286\n",
      "Percentage of data thrown out: 0.02384749052857168%\n",
      " --------------- fold #5 out of -------------------\n"
     ]
    },
    {
     "name": "stderr",
     "output_type": "stream",
     "text": [
      "/home/sergey/.conda/envs/kaggle/lib/python3.6/site-packages/xgboost/core.py:587: FutureWarning: Series.base is deprecated and will be removed in a future version\n",
      "  if getattr(data, 'base', None) is not None and \\\n"
     ]
    },
    {
     "name": "stdout",
     "output_type": "stream",
     "text": [
      "train score (mean_absolute_error): 1.5456\n",
      "train score (mean_squared_error): 4.0880\n",
      "validation score (mean_absolute_error): 2.2718\n",
      "validation score (mean_squared_error): 6.1115\n",
      "Percentage of data thrown out: 0.04769498105714336%\n",
      " --------------- fold #6 out of -------------------\n"
     ]
    },
    {
     "name": "stderr",
     "output_type": "stream",
     "text": [
      "/home/sergey/.conda/envs/kaggle/lib/python3.6/site-packages/xgboost/core.py:587: FutureWarning: Series.base is deprecated and will be removed in a future version\n",
      "  if getattr(data, 'base', None) is not None and \\\n"
     ]
    },
    {
     "name": "stdout",
     "output_type": "stream",
     "text": [
      "train score (mean_absolute_error): 1.5910\n",
      "train score (mean_squared_error): 4.2712\n",
      "validation score (mean_absolute_error): 1.9105\n",
      "validation score (mean_squared_error): 6.0244\n",
      "Percentage of data thrown out: 0.04769498105714336%\n",
      " --------------- fold #7 out of -------------------\n"
     ]
    },
    {
     "name": "stderr",
     "output_type": "stream",
     "text": [
      "/home/sergey/.conda/envs/kaggle/lib/python3.6/site-packages/xgboost/core.py:587: FutureWarning: Series.base is deprecated and will be removed in a future version\n",
      "  if getattr(data, 'base', None) is not None and \\\n"
     ]
    },
    {
     "name": "stdout",
     "output_type": "stream",
     "text": [
      "train score (mean_absolute_error): 1.4932\n",
      "train score (mean_squared_error): 3.8411\n",
      "validation score (mean_absolute_error): 2.8302\n",
      "validation score (mean_squared_error): 11.7132\n",
      "Percentage of data thrown out: 0.04769498105714336%\n",
      " --------------- fold #8 out of -------------------\n"
     ]
    },
    {
     "name": "stderr",
     "output_type": "stream",
     "text": [
      "/home/sergey/.conda/envs/kaggle/lib/python3.6/site-packages/xgboost/core.py:587: FutureWarning: Series.base is deprecated and will be removed in a future version\n",
      "  if getattr(data, 'base', None) is not None and \\\n"
     ]
    },
    {
     "name": "stdout",
     "output_type": "stream",
     "text": [
      "train score (mean_absolute_error): 1.5738\n",
      "train score (mean_squared_error): 4.1912\n",
      "validation score (mean_absolute_error): 1.8547\n",
      "validation score (mean_squared_error): 5.6207\n",
      "['data_fname' 'preproc_name' 'preproc_params' 'folds_name' 'folds_params'\n",
      " 'model_name' 'model_params' 'mean_absolute_error' 'mean_squared_error']\n",
      "                                          data_fname    preproc_name  \\\n",
      "0  ../../data/e_lexa/train_proceded_not_smooth_da...  StandardScaler   \n",
      "\n",
      "               preproc_params  folds_name  \\\n",
      "0  {'name': 'StandardScaler'}  CustomFold   \n",
      "\n",
      "                                        folds_params    model_name  \\\n",
      "0  {'name': 'CustomFold', 'n_splits': 9, 'pad': 1...  XGBRegressor   \n",
      "\n",
      "                                        model_params  \\\n",
      "0  {'name': 'XGBRegressor', 'eta': 0.001, 'max_de...   \n",
      "\n",
      "                                 mean_absolute_error  \\\n",
      "0  [1.5041248378084673, 2.597463109785398, 1.4782...   \n",
      "\n",
      "                                  mean_squared_error  \n",
      "0  [3.878794733703909, 10.86776364361414, 3.75454...  \n",
      ".......................Training finished.........................\n",
      "Run 67:\n",
      "....................... Training model ..............................\n",
      "Percentage of data thrown out: 0.04769498105714336%\n",
      " --------------- fold #0 out of -------------------\n"
     ]
    },
    {
     "name": "stderr",
     "output_type": "stream",
     "text": [
      "/home/sergey/.conda/envs/kaggle/lib/python3.6/site-packages/xgboost/core.py:587: FutureWarning: Series.base is deprecated and will be removed in a future version\n",
      "  if getattr(data, 'base', None) is not None and \\\n"
     ]
    },
    {
     "name": "stdout",
     "output_type": "stream",
     "text": [
      "train score (mean_absolute_error): 1.4956\n",
      "train score (mean_squared_error): 3.8954\n",
      "validation score (mean_absolute_error): 3.0152\n",
      "validation score (mean_squared_error): 12.7869\n",
      "Percentage of data thrown out: 0.04769498105714336%\n",
      " --------------- fold #1 out of -------------------\n"
     ]
    },
    {
     "name": "stderr",
     "output_type": "stream",
     "text": [
      "/home/sergey/.conda/envs/kaggle/lib/python3.6/site-packages/xgboost/core.py:587: FutureWarning: Series.base is deprecated and will be removed in a future version\n",
      "  if getattr(data, 'base', None) is not None and \\\n"
     ]
    },
    {
     "name": "stdout",
     "output_type": "stream",
     "text": [
      "train score (mean_absolute_error): 1.5102\n",
      "train score (mean_squared_error): 3.8651\n",
      "validation score (mean_absolute_error): 2.7803\n",
      "validation score (mean_squared_error): 10.9430\n",
      "Percentage of data thrown out: 0.04769498105714336%\n",
      " --------------- fold #2 out of -------------------\n"
     ]
    },
    {
     "name": "stderr",
     "output_type": "stream",
     "text": [
      "/home/sergey/.conda/envs/kaggle/lib/python3.6/site-packages/xgboost/core.py:587: FutureWarning: Series.base is deprecated and will be removed in a future version\n",
      "  if getattr(data, 'base', None) is not None and \\\n"
     ]
    },
    {
     "name": "stdout",
     "output_type": "stream",
     "text": [
      "train score (mean_absolute_error): 1.5059\n",
      "train score (mean_squared_error): 3.9072\n",
      "validation score (mean_absolute_error): 1.9370\n",
      "validation score (mean_squared_error): 6.0638\n",
      "Percentage of data thrown out: 0.04769498105714336%\n",
      " --------------- fold #3 out of -------------------\n"
     ]
    },
    {
     "name": "stderr",
     "output_type": "stream",
     "text": [
      "/home/sergey/.conda/envs/kaggle/lib/python3.6/site-packages/xgboost/core.py:587: FutureWarning: Series.base is deprecated and will be removed in a future version\n",
      "  if getattr(data, 'base', None) is not None and \\\n"
     ]
    },
    {
     "name": "stdout",
     "output_type": "stream",
     "text": [
      "train score (mean_absolute_error): 1.5003\n",
      "train score (mean_squared_error): 3.8488\n",
      "validation score (mean_absolute_error): 2.9793\n",
      "validation score (mean_squared_error): 12.3978\n",
      "Percentage of data thrown out: 0.04769498105714336%\n",
      " --------------- fold #4 out of -------------------\n"
     ]
    },
    {
     "name": "stderr",
     "output_type": "stream",
     "text": [
      "/home/sergey/.conda/envs/kaggle/lib/python3.6/site-packages/xgboost/core.py:587: FutureWarning: Series.base is deprecated and will be removed in a future version\n",
      "  if getattr(data, 'base', None) is not None and \\\n"
     ]
    },
    {
     "name": "stdout",
     "output_type": "stream",
     "text": [
      "train score (mean_absolute_error): 1.4674\n",
      "train score (mean_squared_error): 3.7105\n",
      "validation score (mean_absolute_error): 3.3888\n",
      "validation score (mean_squared_error): 14.9539\n",
      "Percentage of data thrown out: 0.02384749052857168%\n",
      " --------------- fold #5 out of -------------------\n"
     ]
    },
    {
     "name": "stderr",
     "output_type": "stream",
     "text": [
      "/home/sergey/.conda/envs/kaggle/lib/python3.6/site-packages/xgboost/core.py:587: FutureWarning: Series.base is deprecated and will be removed in a future version\n",
      "  if getattr(data, 'base', None) is not None and \\\n"
     ]
    },
    {
     "name": "stdout",
     "output_type": "stream",
     "text": [
      "train score (mean_absolute_error): 1.5417\n",
      "train score (mean_squared_error): 4.0405\n",
      "validation score (mean_absolute_error): 1.9597\n",
      "validation score (mean_squared_error): 6.0220\n",
      "Percentage of data thrown out: 0.04769498105714336%\n",
      " --------------- fold #6 out of -------------------\n"
     ]
    },
    {
     "name": "stderr",
     "output_type": "stream",
     "text": [
      "/home/sergey/.conda/envs/kaggle/lib/python3.6/site-packages/xgboost/core.py:587: FutureWarning: Series.base is deprecated and will be removed in a future version\n",
      "  if getattr(data, 'base', None) is not None and \\\n"
     ]
    },
    {
     "name": "stdout",
     "output_type": "stream",
     "text": [
      "train score (mean_absolute_error): 1.4177\n",
      "train score (mean_squared_error): 3.5022\n",
      "validation score (mean_absolute_error): 3.3778\n",
      "validation score (mean_squared_error): 17.1198\n",
      "Percentage of data thrown out: 0.04769498105714336%\n",
      " --------------- fold #7 out of -------------------\n"
     ]
    },
    {
     "name": "stderr",
     "output_type": "stream",
     "text": [
      "/home/sergey/.conda/envs/kaggle/lib/python3.6/site-packages/xgboost/core.py:587: FutureWarning: Series.base is deprecated and will be removed in a future version\n",
      "  if getattr(data, 'base', None) is not None and \\\n"
     ]
    },
    {
     "name": "stdout",
     "output_type": "stream",
     "text": [
      "train score (mean_absolute_error): 1.5610\n",
      "train score (mean_squared_error): 4.0645\n",
      "validation score (mean_absolute_error): 3.0110\n",
      "validation score (mean_squared_error): 11.9192\n",
      "Percentage of data thrown out: 0.04769498105714336%\n",
      " --------------- fold #8 out of -------------------\n"
     ]
    },
    {
     "name": "stderr",
     "output_type": "stream",
     "text": [
      "/home/sergey/.conda/envs/kaggle/lib/python3.6/site-packages/xgboost/core.py:587: FutureWarning: Series.base is deprecated and will be removed in a future version\n",
      "  if getattr(data, 'base', None) is not None and \\\n"
     ]
    },
    {
     "name": "stdout",
     "output_type": "stream",
     "text": [
      "train score (mean_absolute_error): 1.5609\n",
      "train score (mean_squared_error): 4.2119\n",
      "validation score (mean_absolute_error): 2.4708\n",
      "validation score (mean_squared_error): 9.1893\n",
      "['data_fname' 'preproc_name' 'preproc_params' 'folds_name' 'folds_params'\n",
      " 'model_name' 'model_params' 'mean_absolute_error' 'mean_squared_error']\n",
      "                                          data_fname    preproc_name  \\\n",
      "0  ../../data/e_lexa/train_proceded_not_smooth_da...  StandardScaler   \n",
      "\n",
      "               preproc_params  folds_name  \\\n",
      "0  {'name': 'StandardScaler'}  CustomFold   \n",
      "\n",
      "                                        folds_params    model_name  \\\n",
      "0  {'name': 'CustomFold', 'n_splits': 9, 'pad': 1...  XGBRegressor   \n",
      "\n",
      "                                        model_params  \\\n",
      "0  {'name': 'XGBRegressor', 'eta': 0.001, 'max_de...   \n",
      "\n",
      "                                 mean_absolute_error  \\\n",
      "0  [1.495595667044382, 3.0151634027698617, 1.5102...   \n",
      "\n",
      "                                  mean_squared_error  \n",
      "0  [3.8954200360960067, 12.786919604173562, 3.865...  \n",
      ".......................Training finished.........................\n",
      "Run 68:\n",
      "....................... Training model ..............................\n",
      "Percentage of data thrown out: 0.04769498105714336%\n",
      " --------------- fold #0 out of -------------------\n"
     ]
    },
    {
     "name": "stderr",
     "output_type": "stream",
     "text": [
      "/home/sergey/.conda/envs/kaggle/lib/python3.6/site-packages/xgboost/core.py:587: FutureWarning: Series.base is deprecated and will be removed in a future version\n",
      "  if getattr(data, 'base', None) is not None and \\\n"
     ]
    },
    {
     "name": "stdout",
     "output_type": "stream",
     "text": [
      "train score (mean_absolute_error): 1.5846\n",
      "train score (mean_squared_error): 4.2134\n",
      "validation score (mean_absolute_error): 1.9965\n",
      "validation score (mean_squared_error): 6.2155\n",
      "Percentage of data thrown out: 0.04769498105714336%\n",
      " --------------- fold #1 out of -------------------\n"
     ]
    },
    {
     "name": "stderr",
     "output_type": "stream",
     "text": [
      "/home/sergey/.conda/envs/kaggle/lib/python3.6/site-packages/xgboost/core.py:587: FutureWarning: Series.base is deprecated and will be removed in a future version\n",
      "  if getattr(data, 'base', None) is not None and \\\n"
     ]
    },
    {
     "name": "stdout",
     "output_type": "stream",
     "text": [
      "train score (mean_absolute_error): 1.4993\n",
      "train score (mean_squared_error): 3.9595\n",
      "validation score (mean_absolute_error): 2.3804\n",
      "validation score (mean_squared_error): 7.7409\n",
      "Percentage of data thrown out: 0.04769498105714336%\n",
      " --------------- fold #2 out of -------------------\n"
     ]
    },
    {
     "name": "stderr",
     "output_type": "stream",
     "text": [
      "/home/sergey/.conda/envs/kaggle/lib/python3.6/site-packages/xgboost/core.py:587: FutureWarning: Series.base is deprecated and will be removed in a future version\n",
      "  if getattr(data, 'base', None) is not None and \\\n"
     ]
    },
    {
     "name": "stdout",
     "output_type": "stream",
     "text": [
      "train score (mean_absolute_error): 1.5218\n",
      "train score (mean_squared_error): 4.0032\n",
      "validation score (mean_absolute_error): 2.3494\n",
      "validation score (mean_squared_error): 9.1731\n",
      "Percentage of data thrown out: 0.04769498105714336%\n",
      " --------------- fold #3 out of -------------------\n"
     ]
    },
    {
     "name": "stderr",
     "output_type": "stream",
     "text": [
      "/home/sergey/.conda/envs/kaggle/lib/python3.6/site-packages/xgboost/core.py:587: FutureWarning: Series.base is deprecated and will be removed in a future version\n",
      "  if getattr(data, 'base', None) is not None and \\\n"
     ]
    },
    {
     "name": "stdout",
     "output_type": "stream",
     "text": [
      "train score (mean_absolute_error): 1.5564\n",
      "train score (mean_squared_error): 4.0997\n",
      "validation score (mean_absolute_error): 1.9993\n",
      "validation score (mean_squared_error): 6.4170\n",
      "Percentage of data thrown out: 0.04769498105714336%\n",
      " --------------- fold #4 out of -------------------\n"
     ]
    },
    {
     "name": "stderr",
     "output_type": "stream",
     "text": [
      "/home/sergey/.conda/envs/kaggle/lib/python3.6/site-packages/xgboost/core.py:587: FutureWarning: Series.base is deprecated and will be removed in a future version\n",
      "  if getattr(data, 'base', None) is not None and \\\n"
     ]
    },
    {
     "name": "stdout",
     "output_type": "stream",
     "text": [
      "train score (mean_absolute_error): 1.4529\n",
      "train score (mean_squared_error): 3.6389\n",
      "validation score (mean_absolute_error): 2.6943\n",
      "validation score (mean_squared_error): 12.1450\n",
      "Percentage of data thrown out: 0.04769498105714336%\n",
      " --------------- fold #5 out of -------------------\n"
     ]
    },
    {
     "name": "stderr",
     "output_type": "stream",
     "text": [
      "/home/sergey/.conda/envs/kaggle/lib/python3.6/site-packages/xgboost/core.py:587: FutureWarning: Series.base is deprecated and will be removed in a future version\n",
      "  if getattr(data, 'base', None) is not None and \\\n"
     ]
    },
    {
     "name": "stdout",
     "output_type": "stream",
     "text": [
      "train score (mean_absolute_error): 1.5013\n",
      "train score (mean_squared_error): 3.8758\n",
      "validation score (mean_absolute_error): 2.6027\n",
      "validation score (mean_squared_error): 11.1433\n",
      "Percentage of data thrown out: 0.04769498105714336%\n",
      " --------------- fold #6 out of -------------------\n"
     ]
    },
    {
     "name": "stderr",
     "output_type": "stream",
     "text": [
      "/home/sergey/.conda/envs/kaggle/lib/python3.6/site-packages/xgboost/core.py:587: FutureWarning: Series.base is deprecated and will be removed in a future version\n",
      "  if getattr(data, 'base', None) is not None and \\\n"
     ]
    },
    {
     "name": "stdout",
     "output_type": "stream",
     "text": [
      "train score (mean_absolute_error): 1.5508\n",
      "train score (mean_squared_error): 4.1316\n",
      "validation score (mean_absolute_error): 2.6223\n",
      "validation score (mean_squared_error): 10.1218\n",
      "Percentage of data thrown out: 0.04769498105714336%\n",
      " --------------- fold #7 out of -------------------\n"
     ]
    },
    {
     "name": "stderr",
     "output_type": "stream",
     "text": [
      "/home/sergey/.conda/envs/kaggle/lib/python3.6/site-packages/xgboost/core.py:587: FutureWarning: Series.base is deprecated and will be removed in a future version\n",
      "  if getattr(data, 'base', None) is not None and \\\n"
     ]
    },
    {
     "name": "stdout",
     "output_type": "stream",
     "text": [
      "train score (mean_absolute_error): 1.6375\n",
      "train score (mean_squared_error): 4.4562\n",
      "validation score (mean_absolute_error): 1.2321\n",
      "validation score (mean_squared_error): 2.6809\n",
      "Percentage of data thrown out: 0.04769498105714336%\n",
      " --------------- fold #8 out of -------------------\n"
     ]
    },
    {
     "name": "stderr",
     "output_type": "stream",
     "text": [
      "/home/sergey/.conda/envs/kaggle/lib/python3.6/site-packages/xgboost/core.py:587: FutureWarning: Series.base is deprecated and will be removed in a future version\n",
      "  if getattr(data, 'base', None) is not None and \\\n"
     ]
    },
    {
     "name": "stdout",
     "output_type": "stream",
     "text": [
      "train score (mean_absolute_error): 1.3774\n",
      "train score (mean_squared_error): 3.2988\n",
      "validation score (mean_absolute_error): 3.8737\n",
      "validation score (mean_squared_error): 21.0894\n",
      "['data_fname' 'preproc_name' 'preproc_params' 'folds_name' 'folds_params'\n",
      " 'model_name' 'model_params' 'mean_absolute_error' 'mean_squared_error']\n",
      "                                          data_fname    preproc_name  \\\n",
      "0  ../../data/e_lexa/train_proceded_not_smooth_da...  StandardScaler   \n",
      "\n",
      "               preproc_params  folds_name  \\\n",
      "0  {'name': 'StandardScaler'}  CustomFold   \n",
      "\n",
      "                                        folds_params    model_name  \\\n",
      "0  {'name': 'CustomFold', 'n_splits': 9, 'pad': 1...  XGBRegressor   \n",
      "\n",
      "                                        model_params  \\\n",
      "0  {'name': 'XGBRegressor', 'eta': 0.001, 'max_de...   \n",
      "\n",
      "                                 mean_absolute_error  \\\n",
      "0  [1.58460773770744, 1.9965106775065422, 1.49934...   \n",
      "\n",
      "                                  mean_squared_error  \n",
      "0  [4.21342386965947, 6.215506503514074, 3.959452...  \n",
      ".......................Training finished.........................\n",
      "Run 69:\n",
      "....................... Training model ..............................\n",
      "Percentage of data thrown out: 0.04769498105714336%\n",
      " --------------- fold #0 out of -------------------\n"
     ]
    },
    {
     "name": "stderr",
     "output_type": "stream",
     "text": [
      "/home/sergey/.conda/envs/kaggle/lib/python3.6/site-packages/xgboost/core.py:587: FutureWarning: Series.base is deprecated and will be removed in a future version\n",
      "  if getattr(data, 'base', None) is not None and \\\n"
     ]
    },
    {
     "name": "stdout",
     "output_type": "stream",
     "text": [
      "train score (mean_absolute_error): 1.4156\n",
      "train score (mean_squared_error): 3.4004\n",
      "validation score (mean_absolute_error): 3.8581\n",
      "validation score (mean_squared_error): 20.2763\n",
      "Percentage of data thrown out: 0.02384749052857168%\n",
      " --------------- fold #1 out of -------------------\n"
     ]
    },
    {
     "name": "stderr",
     "output_type": "stream",
     "text": [
      "/home/sergey/.conda/envs/kaggle/lib/python3.6/site-packages/xgboost/core.py:587: FutureWarning: Series.base is deprecated and will be removed in a future version\n",
      "  if getattr(data, 'base', None) is not None and \\\n"
     ]
    },
    {
     "name": "stdout",
     "output_type": "stream",
     "text": [
      "train score (mean_absolute_error): 1.5419\n",
      "train score (mean_squared_error): 4.0207\n",
      "validation score (mean_absolute_error): 1.6959\n",
      "validation score (mean_squared_error): 4.6568\n",
      "Percentage of data thrown out: 0.04769498105714336%\n",
      " --------------- fold #2 out of -------------------\n"
     ]
    },
    {
     "name": "stderr",
     "output_type": "stream",
     "text": [
      "/home/sergey/.conda/envs/kaggle/lib/python3.6/site-packages/xgboost/core.py:587: FutureWarning: Series.base is deprecated and will be removed in a future version\n",
      "  if getattr(data, 'base', None) is not None and \\\n"
     ]
    },
    {
     "name": "stdout",
     "output_type": "stream",
     "text": [
      "train score (mean_absolute_error): 1.4449\n",
      "train score (mean_squared_error): 3.6223\n",
      "validation score (mean_absolute_error): 3.2621\n",
      "validation score (mean_squared_error): 16.1272\n",
      "Percentage of data thrown out: 0.04769498105714336%\n",
      " --------------- fold #3 out of -------------------\n"
     ]
    },
    {
     "name": "stderr",
     "output_type": "stream",
     "text": [
      "/home/sergey/.conda/envs/kaggle/lib/python3.6/site-packages/xgboost/core.py:587: FutureWarning: Series.base is deprecated and will be removed in a future version\n",
      "  if getattr(data, 'base', None) is not None and \\\n"
     ]
    },
    {
     "name": "stdout",
     "output_type": "stream",
     "text": [
      "train score (mean_absolute_error): 1.5280\n",
      "train score (mean_squared_error): 3.9660\n",
      "validation score (mean_absolute_error): 2.2074\n",
      "validation score (mean_squared_error): 7.7103\n",
      "Percentage of data thrown out: 0.04769498105714336%\n",
      " --------------- fold #4 out of -------------------\n"
     ]
    },
    {
     "name": "stderr",
     "output_type": "stream",
     "text": [
      "/home/sergey/.conda/envs/kaggle/lib/python3.6/site-packages/xgboost/core.py:587: FutureWarning: Series.base is deprecated and will be removed in a future version\n",
      "  if getattr(data, 'base', None) is not None and \\\n"
     ]
    },
    {
     "name": "stdout",
     "output_type": "stream",
     "text": [
      "train score (mean_absolute_error): 1.5909\n",
      "train score (mean_squared_error): 4.2752\n",
      "validation score (mean_absolute_error): 1.9681\n",
      "validation score (mean_squared_error): 6.1908\n",
      "Percentage of data thrown out: 0.04769498105714336%\n",
      " --------------- fold #5 out of -------------------\n"
     ]
    },
    {
     "name": "stderr",
     "output_type": "stream",
     "text": [
      "/home/sergey/.conda/envs/kaggle/lib/python3.6/site-packages/xgboost/core.py:587: FutureWarning: Series.base is deprecated and will be removed in a future version\n",
      "  if getattr(data, 'base', None) is not None and \\\n"
     ]
    },
    {
     "name": "stdout",
     "output_type": "stream",
     "text": [
      "train score (mean_absolute_error): 1.4576\n",
      "train score (mean_squared_error): 3.8073\n",
      "validation score (mean_absolute_error): 1.9800\n",
      "validation score (mean_squared_error): 6.5451\n",
      "Percentage of data thrown out: 0.04769498105714336%\n",
      " --------------- fold #6 out of -------------------\n"
     ]
    },
    {
     "name": "stderr",
     "output_type": "stream",
     "text": [
      "/home/sergey/.conda/envs/kaggle/lib/python3.6/site-packages/xgboost/core.py:587: FutureWarning: Series.base is deprecated and will be removed in a future version\n",
      "  if getattr(data, 'base', None) is not None and \\\n"
     ]
    },
    {
     "name": "stdout",
     "output_type": "stream",
     "text": [
      "train score (mean_absolute_error): 1.5163\n",
      "train score (mean_squared_error): 3.8799\n",
      "validation score (mean_absolute_error): 2.8327\n",
      "validation score (mean_squared_error): 11.2108\n",
      "Percentage of data thrown out: 0.04769498105714336%\n",
      " --------------- fold #7 out of -------------------\n"
     ]
    },
    {
     "name": "stderr",
     "output_type": "stream",
     "text": [
      "/home/sergey/.conda/envs/kaggle/lib/python3.6/site-packages/xgboost/core.py:587: FutureWarning: Series.base is deprecated and will be removed in a future version\n",
      "  if getattr(data, 'base', None) is not None and \\\n"
     ]
    },
    {
     "name": "stdout",
     "output_type": "stream",
     "text": [
      "train score (mean_absolute_error): 1.5744\n",
      "train score (mean_squared_error): 4.2294\n",
      "validation score (mean_absolute_error): 2.4296\n",
      "validation score (mean_squared_error): 9.6662\n",
      "Percentage of data thrown out: 0.04769498105714336%\n",
      " --------------- fold #8 out of -------------------\n"
     ]
    },
    {
     "name": "stderr",
     "output_type": "stream",
     "text": [
      "/home/sergey/.conda/envs/kaggle/lib/python3.6/site-packages/xgboost/core.py:587: FutureWarning: Series.base is deprecated and will be removed in a future version\n",
      "  if getattr(data, 'base', None) is not None and \\\n"
     ]
    },
    {
     "name": "stdout",
     "output_type": "stream",
     "text": [
      "train score (mean_absolute_error): 1.5801\n",
      "train score (mean_squared_error): 4.2602\n",
      "validation score (mean_absolute_error): 2.2843\n",
      "validation score (mean_squared_error): 8.2003\n",
      "['data_fname' 'preproc_name' 'preproc_params' 'folds_name' 'folds_params'\n",
      " 'model_name' 'model_params' 'mean_absolute_error' 'mean_squared_error']\n",
      "                                          data_fname    preproc_name  \\\n",
      "0  ../../data/e_lexa/train_proceded_not_smooth_da...  StandardScaler   \n",
      "\n",
      "               preproc_params  folds_name  \\\n",
      "0  {'name': 'StandardScaler'}  CustomFold   \n",
      "\n",
      "                                        folds_params    model_name  \\\n",
      "0  {'name': 'CustomFold', 'n_splits': 9, 'pad': 1...  XGBRegressor   \n",
      "\n",
      "                                        model_params  \\\n",
      "0  {'name': 'XGBRegressor', 'eta': 0.001, 'max_de...   \n",
      "\n",
      "                                 mean_absolute_error  \\\n",
      "0  [1.4156274205619441, 3.858085646232986, 1.5419...   \n",
      "\n",
      "                                  mean_squared_error  \n",
      "0  [3.400354692585285, 20.27626184903432, 4.02067...  \n",
      ".......................Training finished.........................\n",
      "Run 70:\n",
      "....................... Training model ..............................\n",
      "Percentage of data thrown out: 0.04769498105714336%\n",
      " --------------- fold #0 out of -------------------\n"
     ]
    },
    {
     "name": "stderr",
     "output_type": "stream",
     "text": [
      "/home/sergey/.conda/envs/kaggle/lib/python3.6/site-packages/xgboost/core.py:587: FutureWarning: Series.base is deprecated and will be removed in a future version\n",
      "  if getattr(data, 'base', None) is not None and \\\n"
     ]
    },
    {
     "name": "stdout",
     "output_type": "stream",
     "text": [
      "train score (mean_absolute_error): 1.4635\n",
      "train score (mean_squared_error): 3.6964\n",
      "validation score (mean_absolute_error): 3.1538\n",
      "validation score (mean_squared_error): 15.1826\n",
      "Percentage of data thrown out: 0.04769498105714336%\n",
      " --------------- fold #1 out of -------------------\n"
     ]
    },
    {
     "name": "stderr",
     "output_type": "stream",
     "text": [
      "/home/sergey/.conda/envs/kaggle/lib/python3.6/site-packages/xgboost/core.py:587: FutureWarning: Series.base is deprecated and will be removed in a future version\n",
      "  if getattr(data, 'base', None) is not None and \\\n"
     ]
    },
    {
     "name": "stdout",
     "output_type": "stream",
     "text": [
      "train score (mean_absolute_error): 1.5164\n",
      "train score (mean_squared_error): 3.9995\n",
      "validation score (mean_absolute_error): 3.4428\n",
      "validation score (mean_squared_error): 15.6830\n",
      "Percentage of data thrown out: 0.04769498105714336%\n",
      " --------------- fold #2 out of -------------------\n"
     ]
    },
    {
     "name": "stderr",
     "output_type": "stream",
     "text": [
      "/home/sergey/.conda/envs/kaggle/lib/python3.6/site-packages/xgboost/core.py:587: FutureWarning: Series.base is deprecated and will be removed in a future version\n",
      "  if getattr(data, 'base', None) is not None and \\\n"
     ]
    },
    {
     "name": "stdout",
     "output_type": "stream",
     "text": [
      "train score (mean_absolute_error): 1.5122\n",
      "train score (mean_squared_error): 3.9700\n",
      "validation score (mean_absolute_error): 2.3019\n",
      "validation score (mean_squared_error): 7.5370\n",
      "Percentage of data thrown out: 0.04769498105714336%\n",
      " --------------- fold #3 out of -------------------\n"
     ]
    },
    {
     "name": "stderr",
     "output_type": "stream",
     "text": [
      "/home/sergey/.conda/envs/kaggle/lib/python3.6/site-packages/xgboost/core.py:587: FutureWarning: Series.base is deprecated and will be removed in a future version\n",
      "  if getattr(data, 'base', None) is not None and \\\n"
     ]
    },
    {
     "name": "stdout",
     "output_type": "stream",
     "text": [
      "train score (mean_absolute_error): 1.4659\n",
      "train score (mean_squared_error): 3.8006\n",
      "validation score (mean_absolute_error): 2.0559\n",
      "validation score (mean_squared_error): 7.0714\n",
      "Percentage of data thrown out: 0.04769498105714336%\n",
      " --------------- fold #4 out of -------------------\n"
     ]
    },
    {
     "name": "stderr",
     "output_type": "stream",
     "text": [
      "/home/sergey/.conda/envs/kaggle/lib/python3.6/site-packages/xgboost/core.py:587: FutureWarning: Series.base is deprecated and will be removed in a future version\n",
      "  if getattr(data, 'base', None) is not None and \\\n"
     ]
    },
    {
     "name": "stdout",
     "output_type": "stream",
     "text": [
      "train score (mean_absolute_error): 1.5503\n",
      "train score (mean_squared_error): 4.0999\n",
      "validation score (mean_absolute_error): 2.0744\n",
      "validation score (mean_squared_error): 6.6612\n",
      "Percentage of data thrown out: 0.02384749052857168%\n",
      " --------------- fold #5 out of -------------------\n"
     ]
    },
    {
     "name": "stderr",
     "output_type": "stream",
     "text": [
      "/home/sergey/.conda/envs/kaggle/lib/python3.6/site-packages/xgboost/core.py:587: FutureWarning: Series.base is deprecated and will be removed in a future version\n",
      "  if getattr(data, 'base', None) is not None and \\\n"
     ]
    },
    {
     "name": "stdout",
     "output_type": "stream",
     "text": [
      "train score (mean_absolute_error): 1.5857\n",
      "train score (mean_squared_error): 4.2199\n",
      "validation score (mean_absolute_error): 1.8535\n",
      "validation score (mean_squared_error): 5.4264\n",
      "Percentage of data thrown out: 0.04769498105714336%\n",
      " --------------- fold #6 out of -------------------\n"
     ]
    },
    {
     "name": "stderr",
     "output_type": "stream",
     "text": [
      "/home/sergey/.conda/envs/kaggle/lib/python3.6/site-packages/xgboost/core.py:587: FutureWarning: Series.base is deprecated and will be removed in a future version\n",
      "  if getattr(data, 'base', None) is not None and \\\n"
     ]
    },
    {
     "name": "stdout",
     "output_type": "stream",
     "text": [
      "train score (mean_absolute_error): 1.6165\n",
      "train score (mean_squared_error): 4.3924\n",
      "validation score (mean_absolute_error): 1.9515\n",
      "validation score (mean_squared_error): 6.6611\n",
      "Percentage of data thrown out: 0.04769498105714336%\n",
      " --------------- fold #7 out of -------------------\n"
     ]
    },
    {
     "name": "stderr",
     "output_type": "stream",
     "text": [
      "/home/sergey/.conda/envs/kaggle/lib/python3.6/site-packages/xgboost/core.py:587: FutureWarning: Series.base is deprecated and will be removed in a future version\n",
      "  if getattr(data, 'base', None) is not None and \\\n"
     ]
    },
    {
     "name": "stdout",
     "output_type": "stream",
     "text": [
      "train score (mean_absolute_error): 1.5470\n",
      "train score (mean_squared_error): 4.0557\n",
      "validation score (mean_absolute_error): 2.3557\n",
      "validation score (mean_squared_error): 9.2128\n",
      "Percentage of data thrown out: 0.04769498105714336%\n",
      " --------------- fold #8 out of -------------------\n"
     ]
    },
    {
     "name": "stderr",
     "output_type": "stream",
     "text": [
      "/home/sergey/.conda/envs/kaggle/lib/python3.6/site-packages/xgboost/core.py:587: FutureWarning: Series.base is deprecated and will be removed in a future version\n",
      "  if getattr(data, 'base', None) is not None and \\\n"
     ]
    },
    {
     "name": "stdout",
     "output_type": "stream",
     "text": [
      "train score (mean_absolute_error): 1.4942\n",
      "train score (mean_squared_error): 3.8590\n",
      "validation score (mean_absolute_error): 2.9914\n",
      "validation score (mean_squared_error): 12.9055\n",
      "['data_fname' 'preproc_name' 'preproc_params' 'folds_name' 'folds_params'\n",
      " 'model_name' 'model_params' 'mean_absolute_error' 'mean_squared_error']\n",
      "                                          data_fname    preproc_name  \\\n",
      "0  ../../data/e_lexa/train_proceded_not_smooth_da...  StandardScaler   \n",
      "\n",
      "               preproc_params  folds_name  \\\n",
      "0  {'name': 'StandardScaler'}  CustomFold   \n",
      "\n",
      "                                        folds_params    model_name  \\\n",
      "0  {'name': 'CustomFold', 'n_splits': 9, 'pad': 1...  XGBRegressor   \n",
      "\n",
      "                                        model_params  \\\n",
      "0  {'name': 'XGBRegressor', 'eta': 0.001, 'max_de...   \n",
      "\n",
      "                                 mean_absolute_error  \\\n",
      "0  [1.463537747153958, 3.153805780780693, 1.51636...   \n",
      "\n",
      "                                  mean_squared_error  \n",
      "0  [3.6964251675133957, 15.182598625402191, 3.999...  \n",
      ".......................Training finished.........................\n",
      "Run 71:\n",
      "....................... Training model ..............................\n",
      "Percentage of data thrown out: 0.04769498105714336%\n",
      " --------------- fold #0 out of -------------------\n"
     ]
    },
    {
     "name": "stderr",
     "output_type": "stream",
     "text": [
      "/home/sergey/.conda/envs/kaggle/lib/python3.6/site-packages/xgboost/core.py:587: FutureWarning: Series.base is deprecated and will be removed in a future version\n",
      "  if getattr(data, 'base', None) is not None and \\\n"
     ]
    },
    {
     "name": "stdout",
     "output_type": "stream",
     "text": [
      "train score (mean_absolute_error): 1.4865\n",
      "train score (mean_squared_error): 3.9219\n",
      "validation score (mean_absolute_error): 2.2751\n",
      "validation score (mean_squared_error): 8.2610\n",
      "Percentage of data thrown out: 0.04769498105714336%\n",
      " --------------- fold #1 out of -------------------\n"
     ]
    },
    {
     "name": "stderr",
     "output_type": "stream",
     "text": [
      "/home/sergey/.conda/envs/kaggle/lib/python3.6/site-packages/xgboost/core.py:587: FutureWarning: Series.base is deprecated and will be removed in a future version\n",
      "  if getattr(data, 'base', None) is not None and \\\n"
     ]
    },
    {
     "name": "stdout",
     "output_type": "stream",
     "text": [
      "train score (mean_absolute_error): 1.5232\n",
      "train score (mean_squared_error): 3.8660\n",
      "validation score (mean_absolute_error): 3.0444\n",
      "validation score (mean_squared_error): 12.1925\n",
      "Percentage of data thrown out: 0.04769498105714336%\n",
      " --------------- fold #2 out of -------------------\n"
     ]
    },
    {
     "name": "stderr",
     "output_type": "stream",
     "text": [
      "/home/sergey/.conda/envs/kaggle/lib/python3.6/site-packages/xgboost/core.py:587: FutureWarning: Series.base is deprecated and will be removed in a future version\n",
      "  if getattr(data, 'base', None) is not None and \\\n"
     ]
    },
    {
     "name": "stdout",
     "output_type": "stream",
     "text": [
      "train score (mean_absolute_error): 1.3850\n",
      "train score (mean_squared_error): 3.2582\n",
      "validation score (mean_absolute_error): 3.8721\n",
      "validation score (mean_squared_error): 21.2625\n",
      "Percentage of data thrown out: 0.04769498105714336%\n",
      " --------------- fold #3 out of -------------------\n"
     ]
    },
    {
     "name": "stderr",
     "output_type": "stream",
     "text": [
      "/home/sergey/.conda/envs/kaggle/lib/python3.6/site-packages/xgboost/core.py:587: FutureWarning: Series.base is deprecated and will be removed in a future version\n",
      "  if getattr(data, 'base', None) is not None and \\\n"
     ]
    },
    {
     "name": "stdout",
     "output_type": "stream",
     "text": [
      "train score (mean_absolute_error): 1.4763\n",
      "train score (mean_squared_error): 3.7851\n",
      "validation score (mean_absolute_error): 2.6554\n",
      "validation score (mean_squared_error): 11.1064\n",
      "Percentage of data thrown out: 0.04769498105714336%\n",
      " --------------- fold #4 out of -------------------\n"
     ]
    },
    {
     "name": "stderr",
     "output_type": "stream",
     "text": [
      "/home/sergey/.conda/envs/kaggle/lib/python3.6/site-packages/xgboost/core.py:587: FutureWarning: Series.base is deprecated and will be removed in a future version\n",
      "  if getattr(data, 'base', None) is not None and \\\n"
     ]
    },
    {
     "name": "stdout",
     "output_type": "stream",
     "text": [
      "train score (mean_absolute_error): 1.5735\n",
      "train score (mean_squared_error): 4.2676\n",
      "validation score (mean_absolute_error): 1.6963\n",
      "validation score (mean_squared_error): 4.3439\n",
      "Percentage of data thrown out: 0.02384749052857168%\n",
      " --------------- fold #5 out of -------------------\n"
     ]
    },
    {
     "name": "stderr",
     "output_type": "stream",
     "text": [
      "/home/sergey/.conda/envs/kaggle/lib/python3.6/site-packages/xgboost/core.py:587: FutureWarning: Series.base is deprecated and will be removed in a future version\n",
      "  if getattr(data, 'base', None) is not None and \\\n"
     ]
    },
    {
     "name": "stdout",
     "output_type": "stream",
     "text": [
      "train score (mean_absolute_error): 1.5753\n",
      "train score (mean_squared_error): 4.2515\n",
      "validation score (mean_absolute_error): 2.3985\n",
      "validation score (mean_squared_error): 8.6549\n",
      "Percentage of data thrown out: 0.02384749052857168%\n",
      " --------------- fold #6 out of -------------------\n"
     ]
    },
    {
     "name": "stderr",
     "output_type": "stream",
     "text": [
      "/home/sergey/.conda/envs/kaggle/lib/python3.6/site-packages/xgboost/core.py:587: FutureWarning: Series.base is deprecated and will be removed in a future version\n",
      "  if getattr(data, 'base', None) is not None and \\\n"
     ]
    },
    {
     "name": "stdout",
     "output_type": "stream",
     "text": [
      "train score (mean_absolute_error): 1.5504\n",
      "train score (mean_squared_error): 4.0833\n",
      "validation score (mean_absolute_error): 2.0141\n",
      "validation score (mean_squared_error): 7.3576\n",
      "Percentage of data thrown out: 0.04769498105714336%\n",
      " --------------- fold #7 out of -------------------\n"
     ]
    },
    {
     "name": "stderr",
     "output_type": "stream",
     "text": [
      "/home/sergey/.conda/envs/kaggle/lib/python3.6/site-packages/xgboost/core.py:587: FutureWarning: Series.base is deprecated and will be removed in a future version\n",
      "  if getattr(data, 'base', None) is not None and \\\n"
     ]
    },
    {
     "name": "stdout",
     "output_type": "stream",
     "text": [
      "train score (mean_absolute_error): 1.5238\n",
      "train score (mean_squared_error): 3.9854\n",
      "validation score (mean_absolute_error): 1.9020\n",
      "validation score (mean_squared_error): 5.9119\n",
      "Percentage of data thrown out: 0.04769498105714336%\n",
      " --------------- fold #8 out of -------------------\n"
     ]
    },
    {
     "name": "stderr",
     "output_type": "stream",
     "text": [
      "/home/sergey/.conda/envs/kaggle/lib/python3.6/site-packages/xgboost/core.py:587: FutureWarning: Series.base is deprecated and will be removed in a future version\n",
      "  if getattr(data, 'base', None) is not None and \\\n"
     ]
    },
    {
     "name": "stdout",
     "output_type": "stream",
     "text": [
      "train score (mean_absolute_error): 1.5459\n",
      "train score (mean_squared_error): 4.0104\n",
      "validation score (mean_absolute_error): 2.8689\n",
      "validation score (mean_squared_error): 10.9889\n",
      "['data_fname' 'preproc_name' 'preproc_params' 'folds_name' 'folds_params'\n",
      " 'model_name' 'model_params' 'mean_absolute_error' 'mean_squared_error']\n",
      "                                          data_fname    preproc_name  \\\n",
      "0  ../../data/e_lexa/train_proceded_not_smooth_da...  StandardScaler   \n",
      "\n",
      "               preproc_params  folds_name  \\\n",
      "0  {'name': 'StandardScaler'}  CustomFold   \n",
      "\n",
      "                                        folds_params    model_name  \\\n",
      "0  {'name': 'CustomFold', 'n_splits': 9, 'pad': 1...  XGBRegressor   \n",
      "\n",
      "                                        model_params  \\\n",
      "0  {'name': 'XGBRegressor', 'eta': 0.001, 'max_de...   \n",
      "\n",
      "                                 mean_absolute_error  \\\n",
      "0  [1.4865226839518004, 2.2750501121088833, 1.523...   \n",
      "\n",
      "                                  mean_squared_error  \n",
      "0  [3.9218647116931624, 8.261032137086465, 3.8659...  \n",
      ".......................Training finished.........................\n",
      "Run 72:\n",
      "....................... Training model ..............................\n",
      "Percentage of data thrown out: 0.04769498105714336%\n",
      " --------------- fold #0 out of -------------------\n"
     ]
    },
    {
     "name": "stderr",
     "output_type": "stream",
     "text": [
      "/home/sergey/.conda/envs/kaggle/lib/python3.6/site-packages/xgboost/core.py:587: FutureWarning: Series.base is deprecated and will be removed in a future version\n",
      "  if getattr(data, 'base', None) is not None and \\\n"
     ]
    },
    {
     "name": "stdout",
     "output_type": "stream",
     "text": [
      "train score (mean_absolute_error): 1.5556\n",
      "train score (mean_squared_error): 4.1382\n",
      "validation score (mean_absolute_error): 2.1679\n",
      "validation score (mean_squared_error): 6.7112\n",
      "Percentage of data thrown out: 0.04769498105714336%\n",
      " --------------- fold #1 out of -------------------\n"
     ]
    },
    {
     "name": "stderr",
     "output_type": "stream",
     "text": [
      "/home/sergey/.conda/envs/kaggle/lib/python3.6/site-packages/xgboost/core.py:587: FutureWarning: Series.base is deprecated and will be removed in a future version\n",
      "  if getattr(data, 'base', None) is not None and \\\n"
     ]
    },
    {
     "name": "stdout",
     "output_type": "stream",
     "text": [
      "train score (mean_absolute_error): 1.4553\n",
      "train score (mean_squared_error): 3.6962\n",
      "validation score (mean_absolute_error): 3.5033\n",
      "validation score (mean_squared_error): 17.3326\n",
      "Percentage of data thrown out: 0.04769498105714336%\n",
      " --------------- fold #2 out of -------------------\n"
     ]
    },
    {
     "name": "stderr",
     "output_type": "stream",
     "text": [
      "/home/sergey/.conda/envs/kaggle/lib/python3.6/site-packages/xgboost/core.py:587: FutureWarning: Series.base is deprecated and will be removed in a future version\n",
      "  if getattr(data, 'base', None) is not None and \\\n"
     ]
    },
    {
     "name": "stdout",
     "output_type": "stream",
     "text": [
      "train score (mean_absolute_error): 1.5287\n",
      "train score (mean_squared_error): 4.0494\n",
      "validation score (mean_absolute_error): 2.3918\n",
      "validation score (mean_squared_error): 9.1026\n",
      "Percentage of data thrown out: 0.04769498105714336%\n",
      " --------------- fold #3 out of -------------------\n"
     ]
    },
    {
     "name": "stderr",
     "output_type": "stream",
     "text": [
      "/home/sergey/.conda/envs/kaggle/lib/python3.6/site-packages/xgboost/core.py:587: FutureWarning: Series.base is deprecated and will be removed in a future version\n",
      "  if getattr(data, 'base', None) is not None and \\\n"
     ]
    },
    {
     "name": "stdout",
     "output_type": "stream",
     "text": [
      "train score (mean_absolute_error): 1.4918\n",
      "train score (mean_squared_error): 3.8509\n",
      "validation score (mean_absolute_error): 3.0284\n",
      "validation score (mean_squared_error): 12.9543\n",
      "Percentage of data thrown out: 0.04769498105714336%\n",
      " --------------- fold #4 out of -------------------\n"
     ]
    },
    {
     "name": "stderr",
     "output_type": "stream",
     "text": [
      "/home/sergey/.conda/envs/kaggle/lib/python3.6/site-packages/xgboost/core.py:587: FutureWarning: Series.base is deprecated and will be removed in a future version\n",
      "  if getattr(data, 'base', None) is not None and \\\n"
     ]
    },
    {
     "name": "stdout",
     "output_type": "stream",
     "text": [
      "train score (mean_absolute_error): 1.6284\n",
      "train score (mean_squared_error): 4.4006\n",
      "validation score (mean_absolute_error): 1.6880\n",
      "validation score (mean_squared_error): 5.5261\n",
      "Percentage of data thrown out: 0.04769498105714336%\n",
      " --------------- fold #5 out of -------------------\n"
     ]
    },
    {
     "name": "stderr",
     "output_type": "stream",
     "text": [
      "/home/sergey/.conda/envs/kaggle/lib/python3.6/site-packages/xgboost/core.py:587: FutureWarning: Series.base is deprecated and will be removed in a future version\n",
      "  if getattr(data, 'base', None) is not None and \\\n"
     ]
    },
    {
     "name": "stdout",
     "output_type": "stream",
     "text": [
      "train score (mean_absolute_error): 1.6256\n",
      "train score (mean_squared_error): 4.4129\n",
      "validation score (mean_absolute_error): 1.3712\n",
      "validation score (mean_squared_error): 3.4221\n",
      "Percentage of data thrown out: 0.04769498105714336%\n",
      " --------------- fold #6 out of -------------------\n"
     ]
    },
    {
     "name": "stderr",
     "output_type": "stream",
     "text": [
      "/home/sergey/.conda/envs/kaggle/lib/python3.6/site-packages/xgboost/core.py:587: FutureWarning: Series.base is deprecated and will be removed in a future version\n",
      "  if getattr(data, 'base', None) is not None and \\\n"
     ]
    },
    {
     "name": "stdout",
     "output_type": "stream",
     "text": [
      "train score (mean_absolute_error): 1.3049\n",
      "train score (mean_squared_error): 3.0313\n",
      "validation score (mean_absolute_error): 4.1973\n",
      "validation score (mean_squared_error): 26.0481\n",
      "Percentage of data thrown out: 0.04769498105714336%\n",
      " --------------- fold #7 out of -------------------\n"
     ]
    },
    {
     "name": "stderr",
     "output_type": "stream",
     "text": [
      "/home/sergey/.conda/envs/kaggle/lib/python3.6/site-packages/xgboost/core.py:587: FutureWarning: Series.base is deprecated and will be removed in a future version\n",
      "  if getattr(data, 'base', None) is not None and \\\n"
     ]
    },
    {
     "name": "stdout",
     "output_type": "stream",
     "text": [
      "train score (mean_absolute_error): 1.5494\n",
      "train score (mean_squared_error): 4.1661\n",
      "validation score (mean_absolute_error): 2.7024\n",
      "validation score (mean_squared_error): 10.4096\n",
      "Percentage of data thrown out: 0.04769498105714336%\n",
      " --------------- fold #8 out of -------------------\n"
     ]
    },
    {
     "name": "stderr",
     "output_type": "stream",
     "text": [
      "/home/sergey/.conda/envs/kaggle/lib/python3.6/site-packages/xgboost/core.py:587: FutureWarning: Series.base is deprecated and will be removed in a future version\n",
      "  if getattr(data, 'base', None) is not None and \\\n"
     ]
    },
    {
     "name": "stdout",
     "output_type": "stream",
     "text": [
      "train score (mean_absolute_error): 1.4966\n",
      "train score (mean_squared_error): 3.8120\n",
      "validation score (mean_absolute_error): 2.5190\n",
      "validation score (mean_squared_error): 10.6343\n",
      "['data_fname' 'preproc_name' 'preproc_params' 'folds_name' 'folds_params'\n",
      " 'model_name' 'model_params' 'mean_absolute_error' 'mean_squared_error']\n",
      "                                          data_fname    preproc_name  \\\n",
      "0  ../../data/e_lexa/train_proceded_not_smooth_da...  StandardScaler   \n",
      "\n",
      "               preproc_params  folds_name  \\\n",
      "0  {'name': 'StandardScaler'}  CustomFold   \n",
      "\n",
      "                                        folds_params    model_name  \\\n",
      "0  {'name': 'CustomFold', 'n_splits': 9, 'pad': 1...  XGBRegressor   \n",
      "\n",
      "                                        model_params  \\\n",
      "0  {'name': 'XGBRegressor', 'eta': 0.001, 'max_de...   \n",
      "\n",
      "                                 mean_absolute_error  \\\n",
      "0  [1.5556110816511861, 2.1678836036955427, 1.455...   \n",
      "\n",
      "                                  mean_squared_error  \n",
      "0  [4.138163163283648, 6.711192335122905, 3.69618...  \n",
      ".......................Training finished.........................\n",
      "Run 73:\n",
      "....................... Training model ..............................\n",
      "Percentage of data thrown out: 0.04769498105714336%\n",
      " --------------- fold #0 out of -------------------\n"
     ]
    },
    {
     "name": "stderr",
     "output_type": "stream",
     "text": [
      "/home/sergey/.conda/envs/kaggle/lib/python3.6/site-packages/xgboost/core.py:587: FutureWarning: Series.base is deprecated and will be removed in a future version\n",
      "  if getattr(data, 'base', None) is not None and \\\n"
     ]
    },
    {
     "name": "stdout",
     "output_type": "stream",
     "text": [
      "train score (mean_absolute_error): 1.5375\n",
      "train score (mean_squared_error): 4.0596\n",
      "validation score (mean_absolute_error): 2.1107\n",
      "validation score (mean_squared_error): 7.2276\n",
      "Percentage of data thrown out: 0.04769498105714336%\n",
      " --------------- fold #1 out of -------------------\n"
     ]
    },
    {
     "name": "stderr",
     "output_type": "stream",
     "text": [
      "/home/sergey/.conda/envs/kaggle/lib/python3.6/site-packages/xgboost/core.py:587: FutureWarning: Series.base is deprecated and will be removed in a future version\n",
      "  if getattr(data, 'base', None) is not None and \\\n"
     ]
    },
    {
     "name": "stdout",
     "output_type": "stream",
     "text": [
      "train score (mean_absolute_error): 1.4759\n",
      "train score (mean_squared_error): 3.8092\n",
      "validation score (mean_absolute_error): 2.5558\n",
      "validation score (mean_squared_error): 9.3044\n",
      "Percentage of data thrown out: 0.04769498105714336%\n",
      " --------------- fold #2 out of -------------------\n"
     ]
    },
    {
     "name": "stderr",
     "output_type": "stream",
     "text": [
      "/home/sergey/.conda/envs/kaggle/lib/python3.6/site-packages/xgboost/core.py:587: FutureWarning: Series.base is deprecated and will be removed in a future version\n",
      "  if getattr(data, 'base', None) is not None and \\\n"
     ]
    },
    {
     "name": "stdout",
     "output_type": "stream",
     "text": [
      "train score (mean_absolute_error): 1.5350\n",
      "train score (mean_squared_error): 4.0649\n",
      "validation score (mean_absolute_error): 1.6709\n",
      "validation score (mean_squared_error): 4.3351\n",
      "Percentage of data thrown out: 0.04769498105714336%\n",
      " --------------- fold #3 out of -------------------\n"
     ]
    },
    {
     "name": "stderr",
     "output_type": "stream",
     "text": [
      "/home/sergey/.conda/envs/kaggle/lib/python3.6/site-packages/xgboost/core.py:587: FutureWarning: Series.base is deprecated and will be removed in a future version\n",
      "  if getattr(data, 'base', None) is not None and \\\n"
     ]
    },
    {
     "name": "stdout",
     "output_type": "stream",
     "text": [
      "train score (mean_absolute_error): 1.3599\n",
      "train score (mean_squared_error): 3.2311\n",
      "validation score (mean_absolute_error): 4.0526\n",
      "validation score (mean_squared_error): 24.8121\n",
      "Percentage of data thrown out: 0.04769498105714336%\n",
      " --------------- fold #4 out of -------------------\n"
     ]
    },
    {
     "name": "stderr",
     "output_type": "stream",
     "text": [
      "/home/sergey/.conda/envs/kaggle/lib/python3.6/site-packages/xgboost/core.py:587: FutureWarning: Series.base is deprecated and will be removed in a future version\n",
      "  if getattr(data, 'base', None) is not None and \\\n"
     ]
    },
    {
     "name": "stdout",
     "output_type": "stream",
     "text": [
      "train score (mean_absolute_error): 1.5300\n",
      "train score (mean_squared_error): 4.0965\n",
      "validation score (mean_absolute_error): 2.3708\n",
      "validation score (mean_squared_error): 7.7845\n",
      "Percentage of data thrown out: 0.02384749052857168%\n",
      " --------------- fold #5 out of -------------------\n"
     ]
    },
    {
     "name": "stderr",
     "output_type": "stream",
     "text": [
      "/home/sergey/.conda/envs/kaggle/lib/python3.6/site-packages/xgboost/core.py:587: FutureWarning: Series.base is deprecated and will be removed in a future version\n",
      "  if getattr(data, 'base', None) is not None and \\\n"
     ]
    },
    {
     "name": "stdout",
     "output_type": "stream",
     "text": [
      "train score (mean_absolute_error): 1.5963\n",
      "train score (mean_squared_error): 4.2894\n",
      "validation score (mean_absolute_error): 2.0541\n",
      "validation score (mean_squared_error): 8.0664\n",
      "Percentage of data thrown out: 0.04769498105714336%\n",
      " --------------- fold #6 out of -------------------\n"
     ]
    },
    {
     "name": "stderr",
     "output_type": "stream",
     "text": [
      "/home/sergey/.conda/envs/kaggle/lib/python3.6/site-packages/xgboost/core.py:587: FutureWarning: Series.base is deprecated and will be removed in a future version\n",
      "  if getattr(data, 'base', None) is not None and \\\n"
     ]
    },
    {
     "name": "stdout",
     "output_type": "stream",
     "text": [
      "train score (mean_absolute_error): 1.5636\n",
      "train score (mean_squared_error): 4.1283\n",
      "validation score (mean_absolute_error): 2.2072\n",
      "validation score (mean_squared_error): 8.5103\n",
      "Percentage of data thrown out: 0.04769498105714336%\n",
      " --------------- fold #7 out of -------------------\n"
     ]
    },
    {
     "name": "stderr",
     "output_type": "stream",
     "text": [
      "/home/sergey/.conda/envs/kaggle/lib/python3.6/site-packages/xgboost/core.py:587: FutureWarning: Series.base is deprecated and will be removed in a future version\n",
      "  if getattr(data, 'base', None) is not None and \\\n"
     ]
    },
    {
     "name": "stdout",
     "output_type": "stream",
     "text": [
      "train score (mean_absolute_error): 1.4559\n",
      "train score (mean_squared_error): 3.7081\n",
      "validation score (mean_absolute_error): 2.5704\n",
      "validation score (mean_squared_error): 9.9054\n",
      "Percentage of data thrown out: 0.04769498105714336%\n",
      " --------------- fold #8 out of -------------------\n"
     ]
    },
    {
     "name": "stderr",
     "output_type": "stream",
     "text": [
      "/home/sergey/.conda/envs/kaggle/lib/python3.6/site-packages/xgboost/core.py:587: FutureWarning: Series.base is deprecated and will be removed in a future version\n",
      "  if getattr(data, 'base', None) is not None and \\\n"
     ]
    },
    {
     "name": "stdout",
     "output_type": "stream",
     "text": [
      "train score (mean_absolute_error): 1.5882\n",
      "train score (mean_squared_error): 4.2628\n",
      "validation score (mean_absolute_error): 2.7958\n",
      "validation score (mean_squared_error): 11.7459\n",
      "['data_fname' 'preproc_name' 'preproc_params' 'folds_name' 'folds_params'\n",
      " 'model_name' 'model_params' 'mean_absolute_error' 'mean_squared_error']\n",
      "                                          data_fname    preproc_name  \\\n",
      "0  ../../data/e_lexa/train_proceded_not_smooth_da...  StandardScaler   \n",
      "\n",
      "               preproc_params  folds_name  \\\n",
      "0  {'name': 'StandardScaler'}  CustomFold   \n",
      "\n",
      "                                        folds_params    model_name  \\\n",
      "0  {'name': 'CustomFold', 'n_splits': 9, 'pad': 1...  XGBRegressor   \n",
      "\n",
      "                                        model_params  \\\n",
      "0  {'name': 'XGBRegressor', 'eta': 0.001, 'max_de...   \n",
      "\n",
      "                                 mean_absolute_error  \\\n",
      "0  [1.5374710766748698, 2.110736516685106, 1.4759...   \n",
      "\n",
      "                                  mean_squared_error  \n",
      "0  [4.05958508157493, 7.227595966197916, 3.809231...  \n",
      ".......................Training finished.........................\n",
      "Run 74:\n",
      "....................... Training model ..............................\n",
      "Percentage of data thrown out: 0.04769498105714336%\n",
      " --------------- fold #0 out of -------------------\n"
     ]
    },
    {
     "name": "stderr",
     "output_type": "stream",
     "text": [
      "/home/sergey/.conda/envs/kaggle/lib/python3.6/site-packages/xgboost/core.py:587: FutureWarning: Series.base is deprecated and will be removed in a future version\n",
      "  if getattr(data, 'base', None) is not None and \\\n"
     ]
    },
    {
     "name": "stdout",
     "output_type": "stream",
     "text": [
      "train score (mean_absolute_error): 1.5693\n",
      "train score (mean_squared_error): 4.2289\n",
      "validation score (mean_absolute_error): 2.3643\n",
      "validation score (mean_squared_error): 8.8081\n",
      "Percentage of data thrown out: 0.04769498105714336%\n",
      " --------------- fold #1 out of -------------------\n"
     ]
    },
    {
     "name": "stderr",
     "output_type": "stream",
     "text": [
      "/home/sergey/.conda/envs/kaggle/lib/python3.6/site-packages/xgboost/core.py:587: FutureWarning: Series.base is deprecated and will be removed in a future version\n",
      "  if getattr(data, 'base', None) is not None and \\\n"
     ]
    },
    {
     "name": "stdout",
     "output_type": "stream",
     "text": [
      "train score (mean_absolute_error): 1.5864\n",
      "train score (mean_squared_error): 4.2576\n",
      "validation score (mean_absolute_error): 1.8206\n",
      "validation score (mean_squared_error): 6.1927\n",
      "Percentage of data thrown out: 0.04769498105714336%\n",
      " --------------- fold #2 out of -------------------\n"
     ]
    },
    {
     "name": "stderr",
     "output_type": "stream",
     "text": [
      "/home/sergey/.conda/envs/kaggle/lib/python3.6/site-packages/xgboost/core.py:587: FutureWarning: Series.base is deprecated and will be removed in a future version\n",
      "  if getattr(data, 'base', None) is not None and \\\n"
     ]
    },
    {
     "name": "stdout",
     "output_type": "stream",
     "text": [
      "train score (mean_absolute_error): 1.5750\n",
      "train score (mean_squared_error): 4.2700\n",
      "validation score (mean_absolute_error): 2.0814\n",
      "validation score (mean_squared_error): 6.6515\n",
      "Percentage of data thrown out: 0.02384749052857168%\n",
      " --------------- fold #3 out of -------------------\n"
     ]
    },
    {
     "name": "stderr",
     "output_type": "stream",
     "text": [
      "/home/sergey/.conda/envs/kaggle/lib/python3.6/site-packages/xgboost/core.py:587: FutureWarning: Series.base is deprecated and will be removed in a future version\n",
      "  if getattr(data, 'base', None) is not None and \\\n"
     ]
    },
    {
     "name": "stdout",
     "output_type": "stream",
     "text": [
      "train score (mean_absolute_error): 1.6057\n",
      "train score (mean_squared_error): 4.3375\n",
      "validation score (mean_absolute_error): 1.2386\n",
      "validation score (mean_squared_error): 2.0768\n",
      "Percentage of data thrown out: 0.04769498105714336%\n",
      " --------------- fold #4 out of -------------------\n"
     ]
    },
    {
     "name": "stderr",
     "output_type": "stream",
     "text": [
      "/home/sergey/.conda/envs/kaggle/lib/python3.6/site-packages/xgboost/core.py:587: FutureWarning: Series.base is deprecated and will be removed in a future version\n",
      "  if getattr(data, 'base', None) is not None and \\\n"
     ]
    },
    {
     "name": "stdout",
     "output_type": "stream",
     "text": [
      "train score (mean_absolute_error): 1.5453\n",
      "train score (mean_squared_error): 3.9895\n",
      "validation score (mean_absolute_error): 2.8139\n",
      "validation score (mean_squared_error): 10.8245\n",
      "Percentage of data thrown out: 0.04769498105714336%\n",
      " --------------- fold #5 out of -------------------\n"
     ]
    },
    {
     "name": "stderr",
     "output_type": "stream",
     "text": [
      "/home/sergey/.conda/envs/kaggle/lib/python3.6/site-packages/xgboost/core.py:587: FutureWarning: Series.base is deprecated and will be removed in a future version\n",
      "  if getattr(data, 'base', None) is not None and \\\n"
     ]
    },
    {
     "name": "stdout",
     "output_type": "stream",
     "text": [
      "train score (mean_absolute_error): 1.3315\n",
      "train score (mean_squared_error): 3.1058\n",
      "validation score (mean_absolute_error): 4.1281\n",
      "validation score (mean_squared_error): 25.3638\n",
      "Percentage of data thrown out: 0.04769498105714336%\n",
      " --------------- fold #6 out of -------------------\n"
     ]
    },
    {
     "name": "stderr",
     "output_type": "stream",
     "text": [
      "/home/sergey/.conda/envs/kaggle/lib/python3.6/site-packages/xgboost/core.py:587: FutureWarning: Series.base is deprecated and will be removed in a future version\n",
      "  if getattr(data, 'base', None) is not None and \\\n"
     ]
    },
    {
     "name": "stdout",
     "output_type": "stream",
     "text": [
      "train score (mean_absolute_error): 1.5348\n",
      "train score (mean_squared_error): 3.9621\n",
      "validation score (mean_absolute_error): 2.8488\n",
      "validation score (mean_squared_error): 10.8182\n",
      "Percentage of data thrown out: 0.04769498105714336%\n",
      " --------------- fold #7 out of -------------------\n"
     ]
    },
    {
     "name": "stderr",
     "output_type": "stream",
     "text": [
      "/home/sergey/.conda/envs/kaggle/lib/python3.6/site-packages/xgboost/core.py:587: FutureWarning: Series.base is deprecated and will be removed in a future version\n",
      "  if getattr(data, 'base', None) is not None and \\\n"
     ]
    },
    {
     "name": "stdout",
     "output_type": "stream",
     "text": [
      "train score (mean_absolute_error): 1.5585\n",
      "train score (mean_squared_error): 4.1087\n",
      "validation score (mean_absolute_error): 2.8650\n",
      "validation score (mean_squared_error): 11.2659\n",
      "Percentage of data thrown out: 0.04769498105714336%\n",
      " --------------- fold #8 out of -------------------\n"
     ]
    },
    {
     "name": "stderr",
     "output_type": "stream",
     "text": [
      "/home/sergey/.conda/envs/kaggle/lib/python3.6/site-packages/xgboost/core.py:587: FutureWarning: Series.base is deprecated and will be removed in a future version\n",
      "  if getattr(data, 'base', None) is not None and \\\n"
     ]
    },
    {
     "name": "stdout",
     "output_type": "stream",
     "text": [
      "train score (mean_absolute_error): 1.5682\n",
      "train score (mean_squared_error): 4.1697\n",
      "validation score (mean_absolute_error): 2.1089\n",
      "validation score (mean_squared_error): 6.6995\n",
      "['data_fname' 'preproc_name' 'preproc_params' 'folds_name' 'folds_params'\n",
      " 'model_name' 'model_params' 'mean_absolute_error' 'mean_squared_error']\n",
      "                                          data_fname    preproc_name  \\\n",
      "0  ../../data/e_lexa/train_proceded_not_smooth_da...  StandardScaler   \n",
      "\n",
      "               preproc_params  folds_name  \\\n",
      "0  {'name': 'StandardScaler'}  CustomFold   \n",
      "\n",
      "                                        folds_params    model_name  \\\n",
      "0  {'name': 'CustomFold', 'n_splits': 9, 'pad': 1...  XGBRegressor   \n",
      "\n",
      "                                        model_params  \\\n",
      "0  {'name': 'XGBRegressor', 'eta': 0.001, 'max_de...   \n",
      "\n",
      "                                 mean_absolute_error  \\\n",
      "0  [1.569311356068093, 2.3643044110023013, 1.5864...   \n",
      "\n",
      "                                  mean_squared_error  \n",
      "0  [4.228920325146881, 8.80813556722489, 4.257590...  \n",
      ".......................Training finished.........................\n",
      "Run 75:\n",
      "....................... Training model ..............................\n",
      "Percentage of data thrown out: 0.04769498105714336%\n",
      " --------------- fold #0 out of -------------------\n"
     ]
    },
    {
     "name": "stderr",
     "output_type": "stream",
     "text": [
      "/home/sergey/.conda/envs/kaggle/lib/python3.6/site-packages/xgboost/core.py:587: FutureWarning: Series.base is deprecated and will be removed in a future version\n",
      "  if getattr(data, 'base', None) is not None and \\\n"
     ]
    },
    {
     "name": "stdout",
     "output_type": "stream",
     "text": [
      "train score (mean_absolute_error): 1.3350\n",
      "train score (mean_squared_error): 3.1155\n",
      "validation score (mean_absolute_error): 4.0655\n",
      "validation score (mean_squared_error): 25.1533\n",
      "Percentage of data thrown out: 0.04769498105714336%\n",
      " --------------- fold #1 out of -------------------\n"
     ]
    },
    {
     "name": "stderr",
     "output_type": "stream",
     "text": [
      "/home/sergey/.conda/envs/kaggle/lib/python3.6/site-packages/xgboost/core.py:587: FutureWarning: Series.base is deprecated and will be removed in a future version\n",
      "  if getattr(data, 'base', None) is not None and \\\n"
     ]
    },
    {
     "name": "stdout",
     "output_type": "stream",
     "text": [
      "train score (mean_absolute_error): 1.5479\n",
      "train score (mean_squared_error): 4.0904\n",
      "validation score (mean_absolute_error): 1.9443\n",
      "validation score (mean_squared_error): 6.5318\n",
      "Percentage of data thrown out: 0.04769498105714336%\n",
      " --------------- fold #2 out of -------------------\n"
     ]
    },
    {
     "name": "stderr",
     "output_type": "stream",
     "text": [
      "/home/sergey/.conda/envs/kaggle/lib/python3.6/site-packages/xgboost/core.py:587: FutureWarning: Series.base is deprecated and will be removed in a future version\n",
      "  if getattr(data, 'base', None) is not None and \\\n"
     ]
    },
    {
     "name": "stdout",
     "output_type": "stream",
     "text": [
      "train score (mean_absolute_error): 1.4938\n",
      "train score (mean_squared_error): 3.8947\n",
      "validation score (mean_absolute_error): 3.5666\n",
      "validation score (mean_squared_error): 16.6936\n",
      "Percentage of data thrown out: 0.04769498105714336%\n",
      " --------------- fold #3 out of -------------------\n"
     ]
    },
    {
     "name": "stderr",
     "output_type": "stream",
     "text": [
      "/home/sergey/.conda/envs/kaggle/lib/python3.6/site-packages/xgboost/core.py:587: FutureWarning: Series.base is deprecated and will be removed in a future version\n",
      "  if getattr(data, 'base', None) is not None and \\\n"
     ]
    },
    {
     "name": "stdout",
     "output_type": "stream",
     "text": [
      "train score (mean_absolute_error): 1.5133\n",
      "train score (mean_squared_error): 4.0092\n",
      "validation score (mean_absolute_error): 2.3776\n",
      "validation score (mean_squared_error): 8.0552\n",
      "Percentage of data thrown out: 0.04769498105714336%\n",
      " --------------- fold #4 out of -------------------\n"
     ]
    },
    {
     "name": "stderr",
     "output_type": "stream",
     "text": [
      "/home/sergey/.conda/envs/kaggle/lib/python3.6/site-packages/xgboost/core.py:587: FutureWarning: Series.base is deprecated and will be removed in a future version\n",
      "  if getattr(data, 'base', None) is not None and \\\n"
     ]
    },
    {
     "name": "stdout",
     "output_type": "stream",
     "text": [
      "train score (mean_absolute_error): 1.5343\n",
      "train score (mean_squared_error): 3.9904\n",
      "validation score (mean_absolute_error): 2.1171\n",
      "validation score (mean_squared_error): 7.0646\n",
      "Percentage of data thrown out: 0.04769498105714336%\n",
      " --------------- fold #5 out of -------------------\n"
     ]
    },
    {
     "name": "stderr",
     "output_type": "stream",
     "text": [
      "/home/sergey/.conda/envs/kaggle/lib/python3.6/site-packages/xgboost/core.py:587: FutureWarning: Series.base is deprecated and will be removed in a future version\n",
      "  if getattr(data, 'base', None) is not None and \\\n"
     ]
    },
    {
     "name": "stdout",
     "output_type": "stream",
     "text": [
      "train score (mean_absolute_error): 1.4593\n",
      "train score (mean_squared_error): 3.7984\n",
      "validation score (mean_absolute_error): 2.5616\n",
      "validation score (mean_squared_error): 9.6927\n",
      "Percentage of data thrown out: 0.04769498105714336%\n",
      " --------------- fold #6 out of -------------------\n"
     ]
    },
    {
     "name": "stderr",
     "output_type": "stream",
     "text": [
      "/home/sergey/.conda/envs/kaggle/lib/python3.6/site-packages/xgboost/core.py:587: FutureWarning: Series.base is deprecated and will be removed in a future version\n",
      "  if getattr(data, 'base', None) is not None and \\\n"
     ]
    },
    {
     "name": "stdout",
     "output_type": "stream",
     "text": [
      "train score (mean_absolute_error): 1.4491\n",
      "train score (mean_squared_error): 3.6323\n",
      "validation score (mean_absolute_error): 2.4313\n",
      "validation score (mean_squared_error): 9.4088\n",
      "Percentage of data thrown out: 0.04769498105714336%\n",
      " --------------- fold #7 out of -------------------\n"
     ]
    },
    {
     "name": "stderr",
     "output_type": "stream",
     "text": [
      "/home/sergey/.conda/envs/kaggle/lib/python3.6/site-packages/xgboost/core.py:587: FutureWarning: Series.base is deprecated and will be removed in a future version\n",
      "  if getattr(data, 'base', None) is not None and \\\n"
     ]
    },
    {
     "name": "stdout",
     "output_type": "stream",
     "text": [
      "train score (mean_absolute_error): 1.5307\n",
      "train score (mean_squared_error): 3.9891\n",
      "validation score (mean_absolute_error): 3.1367\n",
      "validation score (mean_squared_error): 13.2495\n",
      "Percentage of data thrown out: 0.04769498105714336%\n",
      " --------------- fold #8 out of -------------------\n"
     ]
    },
    {
     "name": "stderr",
     "output_type": "stream",
     "text": [
      "/home/sergey/.conda/envs/kaggle/lib/python3.6/site-packages/xgboost/core.py:587: FutureWarning: Series.base is deprecated and will be removed in a future version\n",
      "  if getattr(data, 'base', None) is not None and \\\n"
     ]
    },
    {
     "name": "stdout",
     "output_type": "stream",
     "text": [
      "train score (mean_absolute_error): 1.5453\n",
      "train score (mean_squared_error): 4.0286\n",
      "validation score (mean_absolute_error): 2.9362\n",
      "validation score (mean_squared_error): 11.5410\n",
      "['data_fname' 'preproc_name' 'preproc_params' 'folds_name' 'folds_params'\n",
      " 'model_name' 'model_params' 'mean_absolute_error' 'mean_squared_error']\n",
      "                                          data_fname    preproc_name  \\\n",
      "0  ../../data/e_lexa/train_proceded_not_smooth_da...  StandardScaler   \n",
      "\n",
      "               preproc_params  folds_name  \\\n",
      "0  {'name': 'StandardScaler'}  CustomFold   \n",
      "\n",
      "                                        folds_params    model_name  \\\n",
      "0  {'name': 'CustomFold', 'n_splits': 9, 'pad': 1...  XGBRegressor   \n",
      "\n",
      "                                        model_params  \\\n",
      "0  {'name': 'XGBRegressor', 'eta': 0.001, 'max_de...   \n",
      "\n",
      "                                 mean_absolute_error  \\\n",
      "0  [1.3349642104172426, 4.065547039224805, 1.5479...   \n",
      "\n",
      "                                  mean_squared_error  \n",
      "0  [3.1155428953120334, 25.15332196794801, 4.0903...  \n",
      ".......................Training finished.........................\n",
      "Run 76:\n",
      "....................... Training model ..............................\n",
      "Percentage of data thrown out: 0.04769498105714336%\n",
      " --------------- fold #0 out of -------------------\n"
     ]
    },
    {
     "name": "stderr",
     "output_type": "stream",
     "text": [
      "/home/sergey/.conda/envs/kaggle/lib/python3.6/site-packages/xgboost/core.py:587: FutureWarning: Series.base is deprecated and will be removed in a future version\n",
      "  if getattr(data, 'base', None) is not None and \\\n"
     ]
    },
    {
     "name": "stdout",
     "output_type": "stream",
     "text": [
      "train score (mean_absolute_error): 1.4745\n",
      "train score (mean_squared_error): 3.8330\n",
      "validation score (mean_absolute_error): 2.6593\n",
      "validation score (mean_squared_error): 10.1624\n",
      "Percentage of data thrown out: 0.02384749052857168%\n",
      " --------------- fold #1 out of -------------------\n"
     ]
    },
    {
     "name": "stderr",
     "output_type": "stream",
     "text": [
      "/home/sergey/.conda/envs/kaggle/lib/python3.6/site-packages/xgboost/core.py:587: FutureWarning: Series.base is deprecated and will be removed in a future version\n",
      "  if getattr(data, 'base', None) is not None and \\\n"
     ]
    },
    {
     "name": "stdout",
     "output_type": "stream",
     "text": [
      "train score (mean_absolute_error): 1.5744\n",
      "train score (mean_squared_error): 4.1615\n",
      "validation score (mean_absolute_error): 2.1493\n",
      "validation score (mean_squared_error): 8.6488\n",
      "Percentage of data thrown out: 0.04769498105714336%\n",
      " --------------- fold #2 out of -------------------\n"
     ]
    },
    {
     "name": "stderr",
     "output_type": "stream",
     "text": [
      "/home/sergey/.conda/envs/kaggle/lib/python3.6/site-packages/xgboost/core.py:587: FutureWarning: Series.base is deprecated and will be removed in a future version\n",
      "  if getattr(data, 'base', None) is not None and \\\n"
     ]
    },
    {
     "name": "stdout",
     "output_type": "stream",
     "text": [
      "train score (mean_absolute_error): 1.4971\n",
      "train score (mean_squared_error): 3.9235\n",
      "validation score (mean_absolute_error): 2.6531\n",
      "validation score (mean_squared_error): 9.9843\n",
      "Percentage of data thrown out: 0.02384749052857168%\n",
      " --------------- fold #3 out of -------------------\n"
     ]
    },
    {
     "name": "stderr",
     "output_type": "stream",
     "text": [
      "/home/sergey/.conda/envs/kaggle/lib/python3.6/site-packages/xgboost/core.py:587: FutureWarning: Series.base is deprecated and will be removed in a future version\n",
      "  if getattr(data, 'base', None) is not None and \\\n"
     ]
    },
    {
     "name": "stdout",
     "output_type": "stream",
     "text": [
      "train score (mean_absolute_error): 1.5996\n",
      "train score (mean_squared_error): 4.2796\n",
      "validation score (mean_absolute_error): 1.7167\n",
      "validation score (mean_squared_error): 4.8237\n",
      "Percentage of data thrown out: 0.04769498105714336%\n",
      " --------------- fold #4 out of -------------------\n"
     ]
    },
    {
     "name": "stderr",
     "output_type": "stream",
     "text": [
      "/home/sergey/.conda/envs/kaggle/lib/python3.6/site-packages/xgboost/core.py:587: FutureWarning: Series.base is deprecated and will be removed in a future version\n",
      "  if getattr(data, 'base', None) is not None and \\\n"
     ]
    },
    {
     "name": "stdout",
     "output_type": "stream",
     "text": [
      "train score (mean_absolute_error): 1.4561\n",
      "train score (mean_squared_error): 3.7477\n",
      "validation score (mean_absolute_error): 2.5429\n",
      "validation score (mean_squared_error): 9.6169\n",
      "Percentage of data thrown out: 0.04769498105714336%\n",
      " --------------- fold #5 out of -------------------\n"
     ]
    },
    {
     "name": "stderr",
     "output_type": "stream",
     "text": [
      "/home/sergey/.conda/envs/kaggle/lib/python3.6/site-packages/xgboost/core.py:587: FutureWarning: Series.base is deprecated and will be removed in a future version\n",
      "  if getattr(data, 'base', None) is not None and \\\n"
     ]
    },
    {
     "name": "stdout",
     "output_type": "stream",
     "text": [
      "train score (mean_absolute_error): 1.5706\n",
      "train score (mean_squared_error): 4.2174\n",
      "validation score (mean_absolute_error): 1.9382\n",
      "validation score (mean_squared_error): 5.2997\n",
      "Percentage of data thrown out: 0.04769498105714336%\n",
      " --------------- fold #6 out of -------------------\n"
     ]
    },
    {
     "name": "stderr",
     "output_type": "stream",
     "text": [
      "/home/sergey/.conda/envs/kaggle/lib/python3.6/site-packages/xgboost/core.py:587: FutureWarning: Series.base is deprecated and will be removed in a future version\n",
      "  if getattr(data, 'base', None) is not None and \\\n"
     ]
    },
    {
     "name": "stdout",
     "output_type": "stream",
     "text": [
      "train score (mean_absolute_error): 1.4935\n",
      "train score (mean_squared_error): 3.8326\n",
      "validation score (mean_absolute_error): 2.4461\n",
      "validation score (mean_squared_error): 9.9580\n",
      "Percentage of data thrown out: 0.04769498105714336%\n",
      " --------------- fold #7 out of -------------------\n"
     ]
    },
    {
     "name": "stderr",
     "output_type": "stream",
     "text": [
      "/home/sergey/.conda/envs/kaggle/lib/python3.6/site-packages/xgboost/core.py:587: FutureWarning: Series.base is deprecated and will be removed in a future version\n",
      "  if getattr(data, 'base', None) is not None and \\\n"
     ]
    },
    {
     "name": "stdout",
     "output_type": "stream",
     "text": [
      "train score (mean_absolute_error): 1.5413\n",
      "train score (mean_squared_error): 4.0942\n",
      "validation score (mean_absolute_error): 2.3658\n",
      "validation score (mean_squared_error): 7.9676\n",
      "Percentage of data thrown out: 0.02384749052857168%\n",
      " --------------- fold #8 out of -------------------\n"
     ]
    },
    {
     "name": "stderr",
     "output_type": "stream",
     "text": [
      "/home/sergey/.conda/envs/kaggle/lib/python3.6/site-packages/xgboost/core.py:587: FutureWarning: Series.base is deprecated and will be removed in a future version\n",
      "  if getattr(data, 'base', None) is not None and \\\n"
     ]
    },
    {
     "name": "stdout",
     "output_type": "stream",
     "text": [
      "train score (mean_absolute_error): 1.5984\n",
      "train score (mean_squared_error): 4.3647\n",
      "validation score (mean_absolute_error): 2.6545\n",
      "validation score (mean_squared_error): 10.2324\n",
      "['data_fname' 'preproc_name' 'preproc_params' 'folds_name' 'folds_params'\n",
      " 'model_name' 'model_params' 'mean_absolute_error' 'mean_squared_error']\n",
      "                                          data_fname    preproc_name  \\\n",
      "0  ../../data/e_lexa/train_proceded_not_smooth_da...  StandardScaler   \n",
      "\n",
      "               preproc_params  folds_name  \\\n",
      "0  {'name': 'StandardScaler'}  CustomFold   \n",
      "\n",
      "                                        folds_params    model_name  \\\n",
      "0  {'name': 'CustomFold', 'n_splits': 9, 'pad': 1...  XGBRegressor   \n",
      "\n",
      "                                        model_params  \\\n",
      "0  {'name': 'XGBRegressor', 'eta': 0.001, 'max_de...   \n",
      "\n",
      "                                 mean_absolute_error  \\\n",
      "0  [1.4744577940946675, 2.6592907928829677, 1.574...   \n",
      "\n",
      "                                  mean_squared_error  \n",
      "0  [3.83298939553818, 10.162412657504547, 4.16153...  \n",
      ".......................Training finished.........................\n",
      "Run 77:\n",
      "....................... Training model ..............................\n",
      "Percentage of data thrown out: 0.04769498105714336%\n",
      " --------------- fold #0 out of -------------------\n"
     ]
    },
    {
     "name": "stderr",
     "output_type": "stream",
     "text": [
      "/home/sergey/.conda/envs/kaggle/lib/python3.6/site-packages/xgboost/core.py:587: FutureWarning: Series.base is deprecated and will be removed in a future version\n",
      "  if getattr(data, 'base', None) is not None and \\\n"
     ]
    },
    {
     "name": "stdout",
     "output_type": "stream",
     "text": [
      "train score (mean_absolute_error): 1.3523\n",
      "train score (mean_squared_error): 3.1992\n",
      "validation score (mean_absolute_error): 4.0573\n",
      "validation score (mean_squared_error): 24.4095\n",
      "Percentage of data thrown out: 0.04769498105714336%\n",
      " --------------- fold #1 out of -------------------\n"
     ]
    },
    {
     "name": "stderr",
     "output_type": "stream",
     "text": [
      "/home/sergey/.conda/envs/kaggle/lib/python3.6/site-packages/xgboost/core.py:587: FutureWarning: Series.base is deprecated and will be removed in a future version\n",
      "  if getattr(data, 'base', None) is not None and \\\n"
     ]
    },
    {
     "name": "stdout",
     "output_type": "stream",
     "text": [
      "train score (mean_absolute_error): 1.5797\n",
      "train score (mean_squared_error): 4.2345\n",
      "validation score (mean_absolute_error): 1.6039\n",
      "validation score (mean_squared_error): 4.1509\n",
      "Percentage of data thrown out: 0.02384749052857168%\n",
      " --------------- fold #2 out of -------------------\n"
     ]
    },
    {
     "name": "stderr",
     "output_type": "stream",
     "text": [
      "/home/sergey/.conda/envs/kaggle/lib/python3.6/site-packages/xgboost/core.py:587: FutureWarning: Series.base is deprecated and will be removed in a future version\n",
      "  if getattr(data, 'base', None) is not None and \\\n"
     ]
    },
    {
     "name": "stdout",
     "output_type": "stream",
     "text": [
      "train score (mean_absolute_error): 1.5470\n",
      "train score (mean_squared_error): 4.0509\n",
      "validation score (mean_absolute_error): 2.2097\n",
      "validation score (mean_squared_error): 8.6425\n",
      "Percentage of data thrown out: 0.04769498105714336%\n",
      " --------------- fold #3 out of -------------------\n"
     ]
    },
    {
     "name": "stderr",
     "output_type": "stream",
     "text": [
      "/home/sergey/.conda/envs/kaggle/lib/python3.6/site-packages/xgboost/core.py:587: FutureWarning: Series.base is deprecated and will be removed in a future version\n",
      "  if getattr(data, 'base', None) is not None and \\\n"
     ]
    },
    {
     "name": "stdout",
     "output_type": "stream",
     "text": [
      "train score (mean_absolute_error): 1.3766\n",
      "train score (mean_squared_error): 3.2035\n",
      "validation score (mean_absolute_error): 3.9758\n",
      "validation score (mean_squared_error): 23.1417\n",
      "Percentage of data thrown out: 0.04769498105714336%\n",
      " --------------- fold #4 out of -------------------\n"
     ]
    },
    {
     "name": "stderr",
     "output_type": "stream",
     "text": [
      "/home/sergey/.conda/envs/kaggle/lib/python3.6/site-packages/xgboost/core.py:587: FutureWarning: Series.base is deprecated and will be removed in a future version\n",
      "  if getattr(data, 'base', None) is not None and \\\n"
     ]
    },
    {
     "name": "stdout",
     "output_type": "stream",
     "text": [
      "train score (mean_absolute_error): 1.5333\n",
      "train score (mean_squared_error): 4.0872\n",
      "validation score (mean_absolute_error): 2.1771\n",
      "validation score (mean_squared_error): 7.5705\n",
      "Percentage of data thrown out: 0.04769498105714336%\n",
      " --------------- fold #5 out of -------------------\n"
     ]
    },
    {
     "name": "stderr",
     "output_type": "stream",
     "text": [
      "/home/sergey/.conda/envs/kaggle/lib/python3.6/site-packages/xgboost/core.py:587: FutureWarning: Series.base is deprecated and will be removed in a future version\n",
      "  if getattr(data, 'base', None) is not None and \\\n"
     ]
    },
    {
     "name": "stdout",
     "output_type": "stream",
     "text": [
      "train score (mean_absolute_error): 1.5286\n",
      "train score (mean_squared_error): 3.9970\n",
      "validation score (mean_absolute_error): 2.4214\n",
      "validation score (mean_squared_error): 9.7568\n",
      "Percentage of data thrown out: 0.04769498105714336%\n",
      " --------------- fold #6 out of -------------------\n"
     ]
    },
    {
     "name": "stderr",
     "output_type": "stream",
     "text": [
      "/home/sergey/.conda/envs/kaggle/lib/python3.6/site-packages/xgboost/core.py:587: FutureWarning: Series.base is deprecated and will be removed in a future version\n",
      "  if getattr(data, 'base', None) is not None and \\\n"
     ]
    },
    {
     "name": "stdout",
     "output_type": "stream",
     "text": [
      "train score (mean_absolute_error): 1.5745\n",
      "train score (mean_squared_error): 4.1761\n",
      "validation score (mean_absolute_error): 2.1905\n",
      "validation score (mean_squared_error): 7.1464\n",
      "Percentage of data thrown out: 0.04769498105714336%\n",
      " --------------- fold #7 out of -------------------\n"
     ]
    },
    {
     "name": "stderr",
     "output_type": "stream",
     "text": [
      "/home/sergey/.conda/envs/kaggle/lib/python3.6/site-packages/xgboost/core.py:587: FutureWarning: Series.base is deprecated and will be removed in a future version\n",
      "  if getattr(data, 'base', None) is not None and \\\n"
     ]
    },
    {
     "name": "stdout",
     "output_type": "stream",
     "text": [
      "train score (mean_absolute_error): 1.5415\n",
      "train score (mean_squared_error): 4.0379\n",
      "validation score (mean_absolute_error): 2.1499\n",
      "validation score (mean_squared_error): 8.0915\n",
      "Percentage of data thrown out: 0.04769498105714336%\n",
      " --------------- fold #8 out of -------------------\n"
     ]
    },
    {
     "name": "stderr",
     "output_type": "stream",
     "text": [
      "/home/sergey/.conda/envs/kaggle/lib/python3.6/site-packages/xgboost/core.py:587: FutureWarning: Series.base is deprecated and will be removed in a future version\n",
      "  if getattr(data, 'base', None) is not None and \\\n"
     ]
    },
    {
     "name": "stdout",
     "output_type": "stream",
     "text": [
      "train score (mean_absolute_error): 1.5820\n",
      "train score (mean_squared_error): 4.2690\n",
      "validation score (mean_absolute_error): 2.1697\n",
      "validation score (mean_squared_error): 7.5408\n",
      "['data_fname' 'preproc_name' 'preproc_params' 'folds_name' 'folds_params'\n",
      " 'model_name' 'model_params' 'mean_absolute_error' 'mean_squared_error']\n",
      "                                          data_fname    preproc_name  \\\n",
      "0  ../../data/e_lexa/train_proceded_not_smooth_da...  StandardScaler   \n",
      "\n",
      "               preproc_params  folds_name  \\\n",
      "0  {'name': 'StandardScaler'}  CustomFold   \n",
      "\n",
      "                                        folds_params    model_name  \\\n",
      "0  {'name': 'CustomFold', 'n_splits': 9, 'pad': 1...  XGBRegressor   \n",
      "\n",
      "                                        model_params  \\\n",
      "0  {'name': 'XGBRegressor', 'eta': 0.001, 'max_de...   \n",
      "\n",
      "                                 mean_absolute_error  \\\n",
      "0  [1.3523044382553246, 4.057296068408794, 1.5797...   \n",
      "\n",
      "                                  mean_squared_error  \n",
      "0  [3.1992192934827384, 24.4094706844057, 4.23452...  \n",
      ".......................Training finished.........................\n",
      "Run 78:\n",
      "....................... Training model ..............................\n",
      "Percentage of data thrown out: 0.04769498105714336%\n",
      " --------------- fold #0 out of -------------------\n"
     ]
    },
    {
     "name": "stderr",
     "output_type": "stream",
     "text": [
      "/home/sergey/.conda/envs/kaggle/lib/python3.6/site-packages/xgboost/core.py:587: FutureWarning: Series.base is deprecated and will be removed in a future version\n",
      "  if getattr(data, 'base', None) is not None and \\\n"
     ]
    },
    {
     "name": "stdout",
     "output_type": "stream",
     "text": [
      "train score (mean_absolute_error): 1.5259\n",
      "train score (mean_squared_error): 3.9410\n",
      "validation score (mean_absolute_error): 3.0391\n",
      "validation score (mean_squared_error): 12.1153\n",
      "Percentage of data thrown out: 0.04769498105714336%\n",
      " --------------- fold #1 out of -------------------\n"
     ]
    },
    {
     "name": "stderr",
     "output_type": "stream",
     "text": [
      "/home/sergey/.conda/envs/kaggle/lib/python3.6/site-packages/xgboost/core.py:587: FutureWarning: Series.base is deprecated and will be removed in a future version\n",
      "  if getattr(data, 'base', None) is not None and \\\n"
     ]
    },
    {
     "name": "stdout",
     "output_type": "stream",
     "text": [
      "train score (mean_absolute_error): 1.4902\n",
      "train score (mean_squared_error): 3.8340\n",
      "validation score (mean_absolute_error): 2.9192\n",
      "validation score (mean_squared_error): 13.4527\n",
      "Percentage of data thrown out: 0.04769498105714336%\n",
      " --------------- fold #2 out of -------------------\n"
     ]
    },
    {
     "name": "stderr",
     "output_type": "stream",
     "text": [
      "/home/sergey/.conda/envs/kaggle/lib/python3.6/site-packages/xgboost/core.py:587: FutureWarning: Series.base is deprecated and will be removed in a future version\n",
      "  if getattr(data, 'base', None) is not None and \\\n"
     ]
    },
    {
     "name": "stdout",
     "output_type": "stream",
     "text": [
      "train score (mean_absolute_error): 1.5582\n",
      "train score (mean_squared_error): 4.1481\n",
      "validation score (mean_absolute_error): 1.9446\n",
      "validation score (mean_squared_error): 5.3316\n",
      "Percentage of data thrown out: 0.04769498105714336%\n",
      " --------------- fold #3 out of -------------------\n"
     ]
    },
    {
     "name": "stderr",
     "output_type": "stream",
     "text": [
      "/home/sergey/.conda/envs/kaggle/lib/python3.6/site-packages/xgboost/core.py:587: FutureWarning: Series.base is deprecated and will be removed in a future version\n",
      "  if getattr(data, 'base', None) is not None and \\\n"
     ]
    },
    {
     "name": "stdout",
     "output_type": "stream",
     "text": [
      "train score (mean_absolute_error): 1.5273\n",
      "train score (mean_squared_error): 4.0152\n",
      "validation score (mean_absolute_error): 3.4200\n",
      "validation score (mean_squared_error): 14.7208\n",
      "Percentage of data thrown out: 0.04769498105714336%\n",
      " --------------- fold #4 out of -------------------\n"
     ]
    },
    {
     "name": "stderr",
     "output_type": "stream",
     "text": [
      "/home/sergey/.conda/envs/kaggle/lib/python3.6/site-packages/xgboost/core.py:587: FutureWarning: Series.base is deprecated and will be removed in a future version\n",
      "  if getattr(data, 'base', None) is not None and \\\n"
     ]
    },
    {
     "name": "stdout",
     "output_type": "stream",
     "text": [
      "train score (mean_absolute_error): 1.3149\n",
      "train score (mean_squared_error): 3.0384\n",
      "validation score (mean_absolute_error): 4.1062\n",
      "validation score (mean_squared_error): 25.4509\n",
      "Percentage of data thrown out: 0.04769498105714336%\n",
      " --------------- fold #5 out of -------------------\n"
     ]
    },
    {
     "name": "stderr",
     "output_type": "stream",
     "text": [
      "/home/sergey/.conda/envs/kaggle/lib/python3.6/site-packages/xgboost/core.py:587: FutureWarning: Series.base is deprecated and will be removed in a future version\n",
      "  if getattr(data, 'base', None) is not None and \\\n"
     ]
    },
    {
     "name": "stdout",
     "output_type": "stream",
     "text": [
      "train score (mean_absolute_error): 1.5373\n",
      "train score (mean_squared_error): 4.0997\n",
      "validation score (mean_absolute_error): 2.1748\n",
      "validation score (mean_squared_error): 7.9603\n",
      "Percentage of data thrown out: 0.04769498105714336%\n",
      " --------------- fold #6 out of -------------------\n"
     ]
    },
    {
     "name": "stderr",
     "output_type": "stream",
     "text": [
      "/home/sergey/.conda/envs/kaggle/lib/python3.6/site-packages/xgboost/core.py:587: FutureWarning: Series.base is deprecated and will be removed in a future version\n",
      "  if getattr(data, 'base', None) is not None and \\\n"
     ]
    },
    {
     "name": "stdout",
     "output_type": "stream",
     "text": [
      "train score (mean_absolute_error): 1.5599\n",
      "train score (mean_squared_error): 4.0907\n",
      "validation score (mean_absolute_error): 1.9133\n",
      "validation score (mean_squared_error): 6.1168\n",
      "Percentage of data thrown out: 0.04769498105714336%\n",
      " --------------- fold #7 out of -------------------\n"
     ]
    },
    {
     "name": "stderr",
     "output_type": "stream",
     "text": [
      "/home/sergey/.conda/envs/kaggle/lib/python3.6/site-packages/xgboost/core.py:587: FutureWarning: Series.base is deprecated and will be removed in a future version\n",
      "  if getattr(data, 'base', None) is not None and \\\n"
     ]
    },
    {
     "name": "stdout",
     "output_type": "stream",
     "text": [
      "train score (mean_absolute_error): 1.3879\n",
      "train score (mean_squared_error): 3.2529\n",
      "validation score (mean_absolute_error): 3.9418\n",
      "validation score (mean_squared_error): 22.6179\n",
      "Percentage of data thrown out: 0.04769498105714336%\n",
      " --------------- fold #8 out of -------------------\n"
     ]
    },
    {
     "name": "stderr",
     "output_type": "stream",
     "text": [
      "/home/sergey/.conda/envs/kaggle/lib/python3.6/site-packages/xgboost/core.py:587: FutureWarning: Series.base is deprecated and will be removed in a future version\n",
      "  if getattr(data, 'base', None) is not None and \\\n"
     ]
    },
    {
     "name": "stdout",
     "output_type": "stream",
     "text": [
      "train score (mean_absolute_error): 1.6449\n",
      "train score (mean_squared_error): 4.4551\n",
      "validation score (mean_absolute_error): 1.3614\n",
      "validation score (mean_squared_error): 3.5055\n",
      "['data_fname' 'preproc_name' 'preproc_params' 'folds_name' 'folds_params'\n",
      " 'model_name' 'model_params' 'mean_absolute_error' 'mean_squared_error']\n",
      "                                          data_fname    preproc_name  \\\n",
      "0  ../../data/e_lexa/train_proceded_not_smooth_da...  StandardScaler   \n",
      "\n",
      "               preproc_params  folds_name  \\\n",
      "0  {'name': 'StandardScaler'}  CustomFold   \n",
      "\n",
      "                                        folds_params    model_name  \\\n",
      "0  {'name': 'CustomFold', 'n_splits': 9, 'pad': 1...  XGBRegressor   \n",
      "\n",
      "                                        model_params  \\\n",
      "0  {'name': 'XGBRegressor', 'eta': 0.001, 'max_de...   \n",
      "\n",
      "                                 mean_absolute_error  \\\n",
      "0  [1.52594312809158, 3.039141536563776, 1.490185...   \n",
      "\n",
      "                                  mean_squared_error  \n",
      "0  [3.9410000684339286, 12.115328504847353, 3.834...  \n",
      ".......................Training finished.........................\n",
      "Run 79:\n",
      "....................... Training model ..............................\n",
      "Percentage of data thrown out: 0.02384749052857168%\n",
      " --------------- fold #0 out of -------------------\n"
     ]
    },
    {
     "name": "stderr",
     "output_type": "stream",
     "text": [
      "/home/sergey/.conda/envs/kaggle/lib/python3.6/site-packages/xgboost/core.py:587: FutureWarning: Series.base is deprecated and will be removed in a future version\n",
      "  if getattr(data, 'base', None) is not None and \\\n"
     ]
    },
    {
     "name": "stdout",
     "output_type": "stream",
     "text": [
      "train score (mean_absolute_error): 1.5224\n",
      "train score (mean_squared_error): 3.9268\n",
      "validation score (mean_absolute_error): 2.2701\n",
      "validation score (mean_squared_error): 8.7753\n",
      "Percentage of data thrown out: 0.04769498105714336%\n",
      " --------------- fold #1 out of -------------------\n"
     ]
    },
    {
     "name": "stderr",
     "output_type": "stream",
     "text": [
      "/home/sergey/.conda/envs/kaggle/lib/python3.6/site-packages/xgboost/core.py:587: FutureWarning: Series.base is deprecated and will be removed in a future version\n",
      "  if getattr(data, 'base', None) is not None and \\\n"
     ]
    },
    {
     "name": "stdout",
     "output_type": "stream",
     "text": [
      "train score (mean_absolute_error): 1.5472\n",
      "train score (mean_squared_error): 4.0227\n",
      "validation score (mean_absolute_error): 1.4017\n",
      "validation score (mean_squared_error): 3.7053\n",
      "Percentage of data thrown out: 0.04769498105714336%\n",
      " --------------- fold #2 out of -------------------\n"
     ]
    },
    {
     "name": "stderr",
     "output_type": "stream",
     "text": [
      "/home/sergey/.conda/envs/kaggle/lib/python3.6/site-packages/xgboost/core.py:587: FutureWarning: Series.base is deprecated and will be removed in a future version\n",
      "  if getattr(data, 'base', None) is not None and \\\n"
     ]
    },
    {
     "name": "stdout",
     "output_type": "stream",
     "text": [
      "train score (mean_absolute_error): 1.3298\n",
      "train score (mean_squared_error): 3.0777\n",
      "validation score (mean_absolute_error): 4.1110\n",
      "validation score (mean_squared_error): 24.9216\n",
      "Percentage of data thrown out: 0.04769498105714336%\n",
      " --------------- fold #3 out of -------------------\n"
     ]
    },
    {
     "name": "stderr",
     "output_type": "stream",
     "text": [
      "/home/sergey/.conda/envs/kaggle/lib/python3.6/site-packages/xgboost/core.py:587: FutureWarning: Series.base is deprecated and will be removed in a future version\n",
      "  if getattr(data, 'base', None) is not None and \\\n"
     ]
    },
    {
     "name": "stdout",
     "output_type": "stream",
     "text": [
      "train score (mean_absolute_error): 1.6134\n",
      "train score (mean_squared_error): 4.3466\n",
      "validation score (mean_absolute_error): 1.2907\n",
      "validation score (mean_squared_error): 3.2872\n",
      "Percentage of data thrown out: 0.04769498105714336%\n",
      " --------------- fold #4 out of -------------------\n"
     ]
    },
    {
     "name": "stderr",
     "output_type": "stream",
     "text": [
      "/home/sergey/.conda/envs/kaggle/lib/python3.6/site-packages/xgboost/core.py:587: FutureWarning: Series.base is deprecated and will be removed in a future version\n",
      "  if getattr(data, 'base', None) is not None and \\\n"
     ]
    },
    {
     "name": "stdout",
     "output_type": "stream",
     "text": [
      "train score (mean_absolute_error): 1.3881\n",
      "train score (mean_squared_error): 3.3023\n",
      "validation score (mean_absolute_error): 3.9707\n",
      "validation score (mean_squared_error): 22.0918\n",
      "Percentage of data thrown out: 0.02384749052857168%\n",
      " --------------- fold #5 out of -------------------\n"
     ]
    },
    {
     "name": "stderr",
     "output_type": "stream",
     "text": [
      "/home/sergey/.conda/envs/kaggle/lib/python3.6/site-packages/xgboost/core.py:587: FutureWarning: Series.base is deprecated and will be removed in a future version\n",
      "  if getattr(data, 'base', None) is not None and \\\n"
     ]
    },
    {
     "name": "stdout",
     "output_type": "stream",
     "text": [
      "train score (mean_absolute_error): 1.5766\n",
      "train score (mean_squared_error): 4.1902\n",
      "validation score (mean_absolute_error): 1.7819\n",
      "validation score (mean_squared_error): 5.2970\n",
      "Percentage of data thrown out: 0.04769498105714336%\n",
      " --------------- fold #6 out of -------------------\n"
     ]
    },
    {
     "name": "stderr",
     "output_type": "stream",
     "text": [
      "/home/sergey/.conda/envs/kaggle/lib/python3.6/site-packages/xgboost/core.py:587: FutureWarning: Series.base is deprecated and will be removed in a future version\n",
      "  if getattr(data, 'base', None) is not None and \\\n"
     ]
    },
    {
     "name": "stdout",
     "output_type": "stream",
     "text": [
      "train score (mean_absolute_error): 1.4209\n",
      "train score (mean_squared_error): 3.4845\n",
      "validation score (mean_absolute_error): 3.4472\n",
      "validation score (mean_squared_error): 17.7208\n",
      "Percentage of data thrown out: 0.04769498105714336%\n",
      " --------------- fold #7 out of -------------------\n"
     ]
    },
    {
     "name": "stderr",
     "output_type": "stream",
     "text": [
      "/home/sergey/.conda/envs/kaggle/lib/python3.6/site-packages/xgboost/core.py:587: FutureWarning: Series.base is deprecated and will be removed in a future version\n",
      "  if getattr(data, 'base', None) is not None and \\\n"
     ]
    },
    {
     "name": "stdout",
     "output_type": "stream",
     "text": [
      "train score (mean_absolute_error): 1.5005\n",
      "train score (mean_squared_error): 3.8307\n",
      "validation score (mean_absolute_error): 2.4746\n",
      "validation score (mean_squared_error): 10.5125\n",
      "Percentage of data thrown out: 0.04769498105714336%\n",
      " --------------- fold #8 out of -------------------\n"
     ]
    },
    {
     "name": "stderr",
     "output_type": "stream",
     "text": [
      "/home/sergey/.conda/envs/kaggle/lib/python3.6/site-packages/xgboost/core.py:587: FutureWarning: Series.base is deprecated and will be removed in a future version\n",
      "  if getattr(data, 'base', None) is not None and \\\n"
     ]
    },
    {
     "name": "stdout",
     "output_type": "stream",
     "text": [
      "train score (mean_absolute_error): 1.4581\n",
      "train score (mean_squared_error): 3.7062\n",
      "validation score (mean_absolute_error): 2.9800\n",
      "validation score (mean_squared_error): 12.3259\n",
      "['data_fname' 'preproc_name' 'preproc_params' 'folds_name' 'folds_params'\n",
      " 'model_name' 'model_params' 'mean_absolute_error' 'mean_squared_error']\n",
      "                                          data_fname    preproc_name  \\\n",
      "0  ../../data/e_lexa/train_proceded_not_smooth_da...  StandardScaler   \n",
      "\n",
      "               preproc_params  folds_name  \\\n",
      "0  {'name': 'StandardScaler'}  CustomFold   \n",
      "\n",
      "                                        folds_params    model_name  \\\n",
      "0  {'name': 'CustomFold', 'n_splits': 9, 'pad': 1...  XGBRegressor   \n",
      "\n",
      "                                        model_params  \\\n",
      "0  {'name': 'XGBRegressor', 'eta': 0.001, 'max_de...   \n",
      "\n",
      "                                 mean_absolute_error  \\\n",
      "0  [1.5224321316125011, 2.270053553162202, 1.5472...   \n",
      "\n",
      "                                  mean_squared_error  \n",
      "0  [3.926826249706977, 8.775340962569649, 4.02268...  \n",
      ".......................Training finished.........................\n",
      "Run 80:\n",
      "....................... Training model ..............................\n",
      "Percentage of data thrown out: 0.04769498105714336%\n",
      " --------------- fold #0 out of -------------------\n"
     ]
    },
    {
     "name": "stderr",
     "output_type": "stream",
     "text": [
      "/home/sergey/.conda/envs/kaggle/lib/python3.6/site-packages/xgboost/core.py:587: FutureWarning: Series.base is deprecated and will be removed in a future version\n",
      "  if getattr(data, 'base', None) is not None and \\\n"
     ]
    },
    {
     "name": "stdout",
     "output_type": "stream",
     "text": [
      "train score (mean_absolute_error): 1.4799\n",
      "train score (mean_squared_error): 3.7842\n",
      "validation score (mean_absolute_error): 3.1279\n",
      "validation score (mean_squared_error): 13.7811\n",
      "Percentage of data thrown out: 0.04769498105714336%\n",
      " --------------- fold #1 out of -------------------\n"
     ]
    },
    {
     "name": "stderr",
     "output_type": "stream",
     "text": [
      "/home/sergey/.conda/envs/kaggle/lib/python3.6/site-packages/xgboost/core.py:587: FutureWarning: Series.base is deprecated and will be removed in a future version\n",
      "  if getattr(data, 'base', None) is not None and \\\n"
     ]
    },
    {
     "name": "stdout",
     "output_type": "stream",
     "text": [
      "train score (mean_absolute_error): 1.6150\n",
      "train score (mean_squared_error): 4.3474\n",
      "validation score (mean_absolute_error): 1.1762\n",
      "validation score (mean_squared_error): 2.4890\n",
      "Percentage of data thrown out: 0.02384749052857168%\n",
      " --------------- fold #2 out of -------------------\n"
     ]
    },
    {
     "name": "stderr",
     "output_type": "stream",
     "text": [
      "/home/sergey/.conda/envs/kaggle/lib/python3.6/site-packages/xgboost/core.py:587: FutureWarning: Series.base is deprecated and will be removed in a future version\n",
      "  if getattr(data, 'base', None) is not None and \\\n"
     ]
    },
    {
     "name": "stdout",
     "output_type": "stream",
     "text": [
      "train score (mean_absolute_error): 1.6189\n",
      "train score (mean_squared_error): 4.4994\n",
      "validation score (mean_absolute_error): 1.7689\n",
      "validation score (mean_squared_error): 4.0563\n",
      "Percentage of data thrown out: 0.04769498105714336%\n",
      " --------------- fold #3 out of -------------------\n"
     ]
    },
    {
     "name": "stderr",
     "output_type": "stream",
     "text": [
      "/home/sergey/.conda/envs/kaggle/lib/python3.6/site-packages/xgboost/core.py:587: FutureWarning: Series.base is deprecated and will be removed in a future version\n",
      "  if getattr(data, 'base', None) is not None and \\\n"
     ]
    },
    {
     "name": "stdout",
     "output_type": "stream",
     "text": [
      "train score (mean_absolute_error): 1.5063\n",
      "train score (mean_squared_error): 3.8943\n",
      "validation score (mean_absolute_error): 3.4693\n",
      "validation score (mean_squared_error): 15.3676\n",
      "Percentage of data thrown out: 0.04769498105714336%\n",
      " --------------- fold #4 out of -------------------\n"
     ]
    },
    {
     "name": "stderr",
     "output_type": "stream",
     "text": [
      "/home/sergey/.conda/envs/kaggle/lib/python3.6/site-packages/xgboost/core.py:587: FutureWarning: Series.base is deprecated and will be removed in a future version\n",
      "  if getattr(data, 'base', None) is not None and \\\n"
     ]
    },
    {
     "name": "stdout",
     "output_type": "stream",
     "text": [
      "train score (mean_absolute_error): 1.5791\n",
      "train score (mean_squared_error): 4.2481\n",
      "validation score (mean_absolute_error): 2.2580\n",
      "validation score (mean_squared_error): 7.6078\n",
      "Percentage of data thrown out: 0.04769498105714336%\n",
      " --------------- fold #5 out of -------------------\n"
     ]
    },
    {
     "name": "stderr",
     "output_type": "stream",
     "text": [
      "/home/sergey/.conda/envs/kaggle/lib/python3.6/site-packages/xgboost/core.py:587: FutureWarning: Series.base is deprecated and will be removed in a future version\n",
      "  if getattr(data, 'base', None) is not None and \\\n"
     ]
    },
    {
     "name": "stdout",
     "output_type": "stream",
     "text": [
      "train score (mean_absolute_error): 1.5119\n",
      "train score (mean_squared_error): 3.9779\n",
      "validation score (mean_absolute_error): 1.9743\n",
      "validation score (mean_squared_error): 6.5146\n",
      "Percentage of data thrown out: 0.04769498105714336%\n",
      " --------------- fold #6 out of -------------------\n"
     ]
    },
    {
     "name": "stderr",
     "output_type": "stream",
     "text": [
      "/home/sergey/.conda/envs/kaggle/lib/python3.6/site-packages/xgboost/core.py:587: FutureWarning: Series.base is deprecated and will be removed in a future version\n",
      "  if getattr(data, 'base', None) is not None and \\\n"
     ]
    },
    {
     "name": "stdout",
     "output_type": "stream",
     "text": [
      "train score (mean_absolute_error): 1.4773\n",
      "train score (mean_squared_error): 3.7631\n",
      "validation score (mean_absolute_error): 2.9101\n",
      "validation score (mean_squared_error): 11.8425\n",
      "Percentage of data thrown out: 0.04769498105714336%\n",
      " --------------- fold #7 out of -------------------\n"
     ]
    },
    {
     "name": "stderr",
     "output_type": "stream",
     "text": [
      "/home/sergey/.conda/envs/kaggle/lib/python3.6/site-packages/xgboost/core.py:587: FutureWarning: Series.base is deprecated and will be removed in a future version\n",
      "  if getattr(data, 'base', None) is not None and \\\n"
     ]
    },
    {
     "name": "stdout",
     "output_type": "stream",
     "text": [
      "train score (mean_absolute_error): 1.4988\n",
      "train score (mean_squared_error): 3.8413\n",
      "validation score (mean_absolute_error): 2.6223\n",
      "validation score (mean_squared_error): 11.1190\n",
      "Percentage of data thrown out: 0.04769498105714336%\n",
      " --------------- fold #8 out of -------------------\n"
     ]
    },
    {
     "name": "stderr",
     "output_type": "stream",
     "text": [
      "/home/sergey/.conda/envs/kaggle/lib/python3.6/site-packages/xgboost/core.py:587: FutureWarning: Series.base is deprecated and will be removed in a future version\n",
      "  if getattr(data, 'base', None) is not None and \\\n"
     ]
    },
    {
     "name": "stdout",
     "output_type": "stream",
     "text": [
      "train score (mean_absolute_error): 1.5578\n",
      "train score (mean_squared_error): 4.1290\n",
      "validation score (mean_absolute_error): 1.9592\n",
      "validation score (mean_squared_error): 6.1457\n",
      "['data_fname' 'preproc_name' 'preproc_params' 'folds_name' 'folds_params'\n",
      " 'model_name' 'model_params' 'mean_absolute_error' 'mean_squared_error']\n",
      "                                          data_fname    preproc_name  \\\n",
      "0  ../../data/e_lexa/train_proceded_not_smooth_da...  StandardScaler   \n",
      "\n",
      "               preproc_params  folds_name  \\\n",
      "0  {'name': 'StandardScaler'}  CustomFold   \n",
      "\n",
      "                                        folds_params    model_name  \\\n",
      "0  {'name': 'CustomFold', 'n_splits': 9, 'pad': 1...  XGBRegressor   \n",
      "\n",
      "                                        model_params  \\\n",
      "0  {'name': 'XGBRegressor', 'eta': 0.001, 'max_de...   \n",
      "\n",
      "                                 mean_absolute_error  \\\n",
      "0  [1.4799306624363397, 3.1278778936983915, 1.615...   \n",
      "\n",
      "                                  mean_squared_error  \n",
      "0  [3.7841793622941915, 13.781063611789191, 4.347...  \n",
      ".......................Training finished.........................\n",
      "Run 81:\n",
      "....................... Training model ..............................\n",
      "Percentage of data thrown out: 0.04769498105714336%\n",
      " --------------- fold #0 out of -------------------\n"
     ]
    },
    {
     "name": "stderr",
     "output_type": "stream",
     "text": [
      "/home/sergey/.conda/envs/kaggle/lib/python3.6/site-packages/xgboost/core.py:587: FutureWarning: Series.base is deprecated and will be removed in a future version\n",
      "  if getattr(data, 'base', None) is not None and \\\n"
     ]
    },
    {
     "name": "stdout",
     "output_type": "stream",
     "text": [
      "train score (mean_absolute_error): 1.5836\n",
      "train score (mean_squared_error): 4.2468\n",
      "validation score (mean_absolute_error): 2.6198\n",
      "validation score (mean_squared_error): 11.1699\n",
      "Percentage of data thrown out: 0.04769498105714336%\n",
      " --------------- fold #1 out of -------------------\n"
     ]
    },
    {
     "name": "stderr",
     "output_type": "stream",
     "text": [
      "/home/sergey/.conda/envs/kaggle/lib/python3.6/site-packages/xgboost/core.py:587: FutureWarning: Series.base is deprecated and will be removed in a future version\n",
      "  if getattr(data, 'base', None) is not None and \\\n"
     ]
    },
    {
     "name": "stdout",
     "output_type": "stream",
     "text": [
      "train score (mean_absolute_error): 1.5438\n",
      "train score (mean_squared_error): 4.0815\n",
      "validation score (mean_absolute_error): 1.6372\n",
      "validation score (mean_squared_error): 4.2089\n",
      "Percentage of data thrown out: 0.04769498105714336%\n",
      " --------------- fold #2 out of -------------------\n"
     ]
    },
    {
     "name": "stderr",
     "output_type": "stream",
     "text": [
      "/home/sergey/.conda/envs/kaggle/lib/python3.6/site-packages/xgboost/core.py:587: FutureWarning: Series.base is deprecated and will be removed in a future version\n",
      "  if getattr(data, 'base', None) is not None and \\\n"
     ]
    },
    {
     "name": "stdout",
     "output_type": "stream",
     "text": [
      "train score (mean_absolute_error): 1.6382\n",
      "train score (mean_squared_error): 4.3902\n",
      "validation score (mean_absolute_error): 1.5432\n",
      "validation score (mean_squared_error): 4.4565\n",
      "Percentage of data thrown out: 0.04769498105714336%\n",
      " --------------- fold #3 out of -------------------\n"
     ]
    },
    {
     "name": "stderr",
     "output_type": "stream",
     "text": [
      "/home/sergey/.conda/envs/kaggle/lib/python3.6/site-packages/xgboost/core.py:587: FutureWarning: Series.base is deprecated and will be removed in a future version\n",
      "  if getattr(data, 'base', None) is not None and \\\n"
     ]
    },
    {
     "name": "stdout",
     "output_type": "stream",
     "text": [
      "train score (mean_absolute_error): 1.5293\n",
      "train score (mean_squared_error): 4.0258\n",
      "validation score (mean_absolute_error): 2.0584\n",
      "validation score (mean_squared_error): 6.7323\n",
      "Percentage of data thrown out: 0.04769498105714336%\n",
      " --------------- fold #4 out of -------------------\n"
     ]
    },
    {
     "name": "stderr",
     "output_type": "stream",
     "text": [
      "/home/sergey/.conda/envs/kaggle/lib/python3.6/site-packages/xgboost/core.py:587: FutureWarning: Series.base is deprecated and will be removed in a future version\n",
      "  if getattr(data, 'base', None) is not None and \\\n"
     ]
    },
    {
     "name": "stdout",
     "output_type": "stream",
     "text": [
      "train score (mean_absolute_error): 1.4334\n",
      "train score (mean_squared_error): 3.5688\n",
      "validation score (mean_absolute_error): 3.6992\n",
      "validation score (mean_squared_error): 18.4605\n",
      "Percentage of data thrown out: 0.04769498105714336%\n",
      " --------------- fold #5 out of -------------------\n"
     ]
    },
    {
     "name": "stderr",
     "output_type": "stream",
     "text": [
      "/home/sergey/.conda/envs/kaggle/lib/python3.6/site-packages/xgboost/core.py:587: FutureWarning: Series.base is deprecated and will be removed in a future version\n",
      "  if getattr(data, 'base', None) is not None and \\\n"
     ]
    },
    {
     "name": "stdout",
     "output_type": "stream",
     "text": [
      "train score (mean_absolute_error): 1.5776\n",
      "train score (mean_squared_error): 4.1760\n",
      "validation score (mean_absolute_error): 1.3809\n",
      "validation score (mean_squared_error): 3.6351\n",
      "Percentage of data thrown out: 0.04769498105714336%\n",
      " --------------- fold #6 out of -------------------\n"
     ]
    },
    {
     "name": "stderr",
     "output_type": "stream",
     "text": [
      "/home/sergey/.conda/envs/kaggle/lib/python3.6/site-packages/xgboost/core.py:587: FutureWarning: Series.base is deprecated and will be removed in a future version\n",
      "  if getattr(data, 'base', None) is not None and \\\n"
     ]
    },
    {
     "name": "stdout",
     "output_type": "stream",
     "text": [
      "train score (mean_absolute_error): 1.4369\n",
      "train score (mean_squared_error): 3.5926\n",
      "validation score (mean_absolute_error): 3.1403\n",
      "validation score (mean_squared_error): 13.8008\n",
      "Percentage of data thrown out: 0.02384749052857168%\n",
      " --------------- fold #7 out of -------------------\n"
     ]
    },
    {
     "name": "stderr",
     "output_type": "stream",
     "text": [
      "/home/sergey/.conda/envs/kaggle/lib/python3.6/site-packages/xgboost/core.py:587: FutureWarning: Series.base is deprecated and will be removed in a future version\n",
      "  if getattr(data, 'base', None) is not None and \\\n"
     ]
    },
    {
     "name": "stdout",
     "output_type": "stream",
     "text": [
      "train score (mean_absolute_error): 1.6031\n",
      "train score (mean_squared_error): 4.3338\n",
      "validation score (mean_absolute_error): 1.8730\n",
      "validation score (mean_squared_error): 5.6368\n",
      "Percentage of data thrown out: 0.04769498105714336%\n",
      " --------------- fold #8 out of -------------------\n"
     ]
    },
    {
     "name": "stderr",
     "output_type": "stream",
     "text": [
      "/home/sergey/.conda/envs/kaggle/lib/python3.6/site-packages/xgboost/core.py:587: FutureWarning: Series.base is deprecated and will be removed in a future version\n",
      "  if getattr(data, 'base', None) is not None and \\\n"
     ]
    },
    {
     "name": "stdout",
     "output_type": "stream",
     "text": [
      "train score (mean_absolute_error): 1.5646\n",
      "train score (mean_squared_error): 4.1824\n",
      "validation score (mean_absolute_error): 2.4428\n",
      "validation score (mean_squared_error): 9.8705\n",
      "['data_fname' 'preproc_name' 'preproc_params' 'folds_name' 'folds_params'\n",
      " 'model_name' 'model_params' 'mean_absolute_error' 'mean_squared_error']\n",
      "                                          data_fname    preproc_name  \\\n",
      "0  ../../data/e_lexa/train_proceded_not_smooth_da...  StandardScaler   \n",
      "\n",
      "               preproc_params  folds_name  \\\n",
      "0  {'name': 'StandardScaler'}  CustomFold   \n",
      "\n",
      "                                        folds_params    model_name  \\\n",
      "0  {'name': 'CustomFold', 'n_splits': 9, 'pad': 1...  XGBRegressor   \n",
      "\n",
      "                                        model_params  \\\n",
      "0  {'name': 'XGBRegressor', 'eta': 0.001, 'max_de...   \n",
      "\n",
      "                                 mean_absolute_error  \\\n",
      "0  [1.5835850657471708, 2.6197912346654983, 1.543...   \n",
      "\n",
      "                                  mean_squared_error  \n",
      "0  [4.246769305688757, 11.16987704236617, 4.08151...  \n",
      ".......................Training finished.........................\n",
      "Run 82:\n",
      "....................... Training model ..............................\n",
      "Percentage of data thrown out: 0.04769498105714336%\n",
      " --------------- fold #0 out of -------------------\n"
     ]
    },
    {
     "name": "stderr",
     "output_type": "stream",
     "text": [
      "/home/sergey/.conda/envs/kaggle/lib/python3.6/site-packages/xgboost/core.py:587: FutureWarning: Series.base is deprecated and will be removed in a future version\n",
      "  if getattr(data, 'base', None) is not None and \\\n"
     ]
    },
    {
     "name": "stdout",
     "output_type": "stream",
     "text": [
      "train score (mean_absolute_error): 1.5544\n",
      "train score (mean_squared_error): 4.1112\n",
      "validation score (mean_absolute_error): 2.1812\n",
      "validation score (mean_squared_error): 7.2691\n",
      "Percentage of data thrown out: 0.04769498105714336%\n",
      " --------------- fold #1 out of -------------------\n"
     ]
    },
    {
     "name": "stderr",
     "output_type": "stream",
     "text": [
      "/home/sergey/.conda/envs/kaggle/lib/python3.6/site-packages/xgboost/core.py:587: FutureWarning: Series.base is deprecated and will be removed in a future version\n",
      "  if getattr(data, 'base', None) is not None and \\\n"
     ]
    },
    {
     "name": "stdout",
     "output_type": "stream",
     "text": [
      "train score (mean_absolute_error): 1.5545\n",
      "train score (mean_squared_error): 4.0877\n",
      "validation score (mean_absolute_error): 1.4081\n",
      "validation score (mean_squared_error): 3.5903\n",
      "Percentage of data thrown out: 0.04769498105714336%\n",
      " --------------- fold #2 out of -------------------\n"
     ]
    },
    {
     "name": "stderr",
     "output_type": "stream",
     "text": [
      "/home/sergey/.conda/envs/kaggle/lib/python3.6/site-packages/xgboost/core.py:587: FutureWarning: Series.base is deprecated and will be removed in a future version\n",
      "  if getattr(data, 'base', None) is not None and \\\n"
     ]
    },
    {
     "name": "stdout",
     "output_type": "stream",
     "text": [
      "train score (mean_absolute_error): 1.5295\n",
      "train score (mean_squared_error): 3.9583\n",
      "validation score (mean_absolute_error): 2.1458\n",
      "validation score (mean_squared_error): 6.8865\n",
      "Percentage of data thrown out: 0.04769498105714336%\n",
      " --------------- fold #3 out of -------------------\n"
     ]
    },
    {
     "name": "stderr",
     "output_type": "stream",
     "text": [
      "/home/sergey/.conda/envs/kaggle/lib/python3.6/site-packages/xgboost/core.py:587: FutureWarning: Series.base is deprecated and will be removed in a future version\n",
      "  if getattr(data, 'base', None) is not None and \\\n"
     ]
    },
    {
     "name": "stdout",
     "output_type": "stream",
     "text": [
      "train score (mean_absolute_error): 1.4611\n",
      "train score (mean_squared_error): 3.7595\n",
      "validation score (mean_absolute_error): 2.0503\n",
      "validation score (mean_squared_error): 7.3689\n",
      "Percentage of data thrown out: 0.04769498105714336%\n",
      " --------------- fold #4 out of -------------------\n"
     ]
    },
    {
     "name": "stderr",
     "output_type": "stream",
     "text": [
      "/home/sergey/.conda/envs/kaggle/lib/python3.6/site-packages/xgboost/core.py:587: FutureWarning: Series.base is deprecated and will be removed in a future version\n",
      "  if getattr(data, 'base', None) is not None and \\\n"
     ]
    },
    {
     "name": "stdout",
     "output_type": "stream",
     "text": [
      "train score (mean_absolute_error): 1.5990\n",
      "train score (mean_squared_error): 4.2189\n",
      "validation score (mean_absolute_error): 1.4798\n",
      "validation score (mean_squared_error): 4.2624\n",
      "Percentage of data thrown out: 0.04769498105714336%\n",
      " --------------- fold #5 out of -------------------\n"
     ]
    },
    {
     "name": "stderr",
     "output_type": "stream",
     "text": [
      "/home/sergey/.conda/envs/kaggle/lib/python3.6/site-packages/xgboost/core.py:587: FutureWarning: Series.base is deprecated and will be removed in a future version\n",
      "  if getattr(data, 'base', None) is not None and \\\n"
     ]
    },
    {
     "name": "stdout",
     "output_type": "stream",
     "text": [
      "train score (mean_absolute_error): 1.6007\n",
      "train score (mean_squared_error): 4.3582\n",
      "validation score (mean_absolute_error): 1.9923\n",
      "validation score (mean_squared_error): 5.5528\n",
      "Percentage of data thrown out: 0.04769498105714336%\n",
      " --------------- fold #6 out of -------------------\n"
     ]
    },
    {
     "name": "stderr",
     "output_type": "stream",
     "text": [
      "/home/sergey/.conda/envs/kaggle/lib/python3.6/site-packages/xgboost/core.py:587: FutureWarning: Series.base is deprecated and will be removed in a future version\n",
      "  if getattr(data, 'base', None) is not None and \\\n"
     ]
    },
    {
     "name": "stdout",
     "output_type": "stream",
     "text": [
      "train score (mean_absolute_error): 1.5090\n",
      "train score (mean_squared_error): 3.9048\n",
      "validation score (mean_absolute_error): 2.4946\n",
      "validation score (mean_squared_error): 10.5513\n",
      "Percentage of data thrown out: 0.04769498105714336%\n",
      " --------------- fold #7 out of -------------------\n"
     ]
    },
    {
     "name": "stderr",
     "output_type": "stream",
     "text": [
      "/home/sergey/.conda/envs/kaggle/lib/python3.6/site-packages/xgboost/core.py:587: FutureWarning: Series.base is deprecated and will be removed in a future version\n",
      "  if getattr(data, 'base', None) is not None and \\\n"
     ]
    },
    {
     "name": "stdout",
     "output_type": "stream",
     "text": [
      "train score (mean_absolute_error): 1.4092\n",
      "train score (mean_squared_error): 3.3407\n",
      "validation score (mean_absolute_error): 3.9663\n",
      "validation score (mean_squared_error): 21.7770\n",
      "Percentage of data thrown out: 0.04769498105714336%\n",
      " --------------- fold #8 out of -------------------\n"
     ]
    },
    {
     "name": "stderr",
     "output_type": "stream",
     "text": [
      "/home/sergey/.conda/envs/kaggle/lib/python3.6/site-packages/xgboost/core.py:587: FutureWarning: Series.base is deprecated and will be removed in a future version\n",
      "  if getattr(data, 'base', None) is not None and \\\n"
     ]
    },
    {
     "name": "stdout",
     "output_type": "stream",
     "text": [
      "train score (mean_absolute_error): 1.4667\n",
      "train score (mean_squared_error): 3.7336\n",
      "validation score (mean_absolute_error): 3.0434\n",
      "validation score (mean_squared_error): 12.9769\n",
      "['data_fname' 'preproc_name' 'preproc_params' 'folds_name' 'folds_params'\n",
      " 'model_name' 'model_params' 'mean_absolute_error' 'mean_squared_error']\n",
      "                                          data_fname    preproc_name  \\\n",
      "0  ../../data/e_lexa/train_proceded_not_smooth_da...  StandardScaler   \n",
      "\n",
      "               preproc_params  folds_name  \\\n",
      "0  {'name': 'StandardScaler'}  CustomFold   \n",
      "\n",
      "                                        folds_params    model_name  \\\n",
      "0  {'name': 'CustomFold', 'n_splits': 9, 'pad': 1...  XGBRegressor   \n",
      "\n",
      "                                        model_params  \\\n",
      "0  {'name': 'XGBRegressor', 'eta': 0.001, 'max_de...   \n",
      "\n",
      "                                 mean_absolute_error  \\\n",
      "0  [1.5544394528167345, 2.181208983734024, 1.5544...   \n",
      "\n",
      "                                  mean_squared_error  \n",
      "0  [4.111222624933142, 7.269065454164651, 4.08766...  \n",
      ".......................Training finished.........................\n",
      "Run 83:\n",
      "....................... Training model ..............................\n",
      "Percentage of data thrown out: 0.04769498105714336%\n",
      " --------------- fold #0 out of -------------------\n"
     ]
    },
    {
     "name": "stderr",
     "output_type": "stream",
     "text": [
      "/home/sergey/.conda/envs/kaggle/lib/python3.6/site-packages/xgboost/core.py:587: FutureWarning: Series.base is deprecated and will be removed in a future version\n",
      "  if getattr(data, 'base', None) is not None and \\\n"
     ]
    },
    {
     "name": "stdout",
     "output_type": "stream",
     "text": [
      "train score (mean_absolute_error): 1.4926\n",
      "train score (mean_squared_error): 3.9517\n",
      "validation score (mean_absolute_error): 2.6423\n",
      "validation score (mean_squared_error): 10.0216\n",
      "Percentage of data thrown out: 0.04769498105714336%\n",
      " --------------- fold #1 out of -------------------\n"
     ]
    },
    {
     "name": "stderr",
     "output_type": "stream",
     "text": [
      "/home/sergey/.conda/envs/kaggle/lib/python3.6/site-packages/xgboost/core.py:587: FutureWarning: Series.base is deprecated and will be removed in a future version\n",
      "  if getattr(data, 'base', None) is not None and \\\n"
     ]
    },
    {
     "name": "stdout",
     "output_type": "stream",
     "text": [
      "train score (mean_absolute_error): 1.5310\n",
      "train score (mean_squared_error): 3.9377\n",
      "validation score (mean_absolute_error): 3.2158\n",
      "validation score (mean_squared_error): 13.3925\n",
      "Percentage of data thrown out: 0.04769498105714336%\n",
      " --------------- fold #2 out of -------------------\n"
     ]
    },
    {
     "name": "stderr",
     "output_type": "stream",
     "text": [
      "/home/sergey/.conda/envs/kaggle/lib/python3.6/site-packages/xgboost/core.py:587: FutureWarning: Series.base is deprecated and will be removed in a future version\n",
      "  if getattr(data, 'base', None) is not None and \\\n"
     ]
    },
    {
     "name": "stdout",
     "output_type": "stream",
     "text": [
      "train score (mean_absolute_error): 1.4559\n",
      "train score (mean_squared_error): 3.7026\n",
      "validation score (mean_absolute_error): 3.2086\n",
      "validation score (mean_squared_error): 14.3125\n",
      "Percentage of data thrown out: 0.04769498105714336%\n",
      " --------------- fold #3 out of -------------------\n"
     ]
    },
    {
     "name": "stderr",
     "output_type": "stream",
     "text": [
      "/home/sergey/.conda/envs/kaggle/lib/python3.6/site-packages/xgboost/core.py:587: FutureWarning: Series.base is deprecated and will be removed in a future version\n",
      "  if getattr(data, 'base', None) is not None and \\\n"
     ]
    },
    {
     "name": "stdout",
     "output_type": "stream",
     "text": [
      "train score (mean_absolute_error): 1.5769\n",
      "train score (mean_squared_error): 4.2445\n",
      "validation score (mean_absolute_error): 2.4290\n",
      "validation score (mean_squared_error): 9.1830\n",
      "Percentage of data thrown out: 0.04769498105714336%\n",
      " --------------- fold #4 out of -------------------\n"
     ]
    },
    {
     "name": "stderr",
     "output_type": "stream",
     "text": [
      "/home/sergey/.conda/envs/kaggle/lib/python3.6/site-packages/xgboost/core.py:587: FutureWarning: Series.base is deprecated and will be removed in a future version\n",
      "  if getattr(data, 'base', None) is not None and \\\n"
     ]
    },
    {
     "name": "stdout",
     "output_type": "stream",
     "text": [
      "train score (mean_absolute_error): 1.6053\n",
      "train score (mean_squared_error): 4.3132\n",
      "validation score (mean_absolute_error): 1.9777\n",
      "validation score (mean_squared_error): 6.7192\n",
      "Percentage of data thrown out: 0.04769498105714336%\n",
      " --------------- fold #5 out of -------------------\n"
     ]
    },
    {
     "name": "stderr",
     "output_type": "stream",
     "text": [
      "/home/sergey/.conda/envs/kaggle/lib/python3.6/site-packages/xgboost/core.py:587: FutureWarning: Series.base is deprecated and will be removed in a future version\n",
      "  if getattr(data, 'base', None) is not None and \\\n"
     ]
    },
    {
     "name": "stdout",
     "output_type": "stream",
     "text": [
      "train score (mean_absolute_error): 1.5344\n",
      "train score (mean_squared_error): 4.0512\n",
      "validation score (mean_absolute_error): 2.3819\n",
      "validation score (mean_squared_error): 7.8576\n",
      "Percentage of data thrown out: 0.04769498105714336%\n",
      " --------------- fold #6 out of -------------------\n"
     ]
    },
    {
     "name": "stderr",
     "output_type": "stream",
     "text": [
      "/home/sergey/.conda/envs/kaggle/lib/python3.6/site-packages/xgboost/core.py:587: FutureWarning: Series.base is deprecated and will be removed in a future version\n",
      "  if getattr(data, 'base', None) is not None and \\\n"
     ]
    },
    {
     "name": "stdout",
     "output_type": "stream",
     "text": [
      "train score (mean_absolute_error): 1.5601\n",
      "train score (mean_squared_error): 4.1548\n",
      "validation score (mean_absolute_error): 2.1382\n",
      "validation score (mean_squared_error): 7.0369\n",
      "Percentage of data thrown out: 0.02384749052857168%\n",
      " --------------- fold #7 out of -------------------\n"
     ]
    },
    {
     "name": "stderr",
     "output_type": "stream",
     "text": [
      "/home/sergey/.conda/envs/kaggle/lib/python3.6/site-packages/xgboost/core.py:587: FutureWarning: Series.base is deprecated and will be removed in a future version\n",
      "  if getattr(data, 'base', None) is not None and \\\n"
     ]
    },
    {
     "name": "stdout",
     "output_type": "stream",
     "text": [
      "train score (mean_absolute_error): 1.5451\n",
      "train score (mean_squared_error): 4.0632\n",
      "validation score (mean_absolute_error): 1.9897\n",
      "validation score (mean_squared_error): 7.2583\n",
      "Percentage of data thrown out: 0.04769498105714336%\n",
      " --------------- fold #8 out of -------------------\n"
     ]
    },
    {
     "name": "stderr",
     "output_type": "stream",
     "text": [
      "/home/sergey/.conda/envs/kaggle/lib/python3.6/site-packages/xgboost/core.py:587: FutureWarning: Series.base is deprecated and will be removed in a future version\n",
      "  if getattr(data, 'base', None) is not None and \\\n"
     ]
    },
    {
     "name": "stdout",
     "output_type": "stream",
     "text": [
      "train score (mean_absolute_error): 1.4194\n",
      "train score (mean_squared_error): 3.4917\n",
      "validation score (mean_absolute_error): 3.2691\n",
      "validation score (mean_squared_error): 16.0766\n",
      "['data_fname' 'preproc_name' 'preproc_params' 'folds_name' 'folds_params'\n",
      " 'model_name' 'model_params' 'mean_absolute_error' 'mean_squared_error']\n",
      "                                          data_fname    preproc_name  \\\n",
      "0  ../../data/e_lexa/train_proceded_not_smooth_da...  StandardScaler   \n",
      "\n",
      "               preproc_params  folds_name  \\\n",
      "0  {'name': 'StandardScaler'}  CustomFold   \n",
      "\n",
      "                                        folds_params    model_name  \\\n",
      "0  {'name': 'CustomFold', 'n_splits': 9, 'pad': 1...  XGBRegressor   \n",
      "\n",
      "                                        model_params  \\\n",
      "0  {'name': 'XGBRegressor', 'eta': 0.001, 'max_de...   \n",
      "\n",
      "                                 mean_absolute_error  \\\n",
      "0  [1.4926217974511953, 2.642330526774483, 1.5309...   \n",
      "\n",
      "                                  mean_squared_error  \n",
      "0  [3.951678284646484, 10.021639155707627, 3.9376...  \n",
      ".......................Training finished.........................\n",
      "Run 84:\n",
      "....................... Training model ..............................\n",
      "Percentage of data thrown out: 0.04769498105714336%\n",
      " --------------- fold #0 out of -------------------\n"
     ]
    },
    {
     "name": "stderr",
     "output_type": "stream",
     "text": [
      "/home/sergey/.conda/envs/kaggle/lib/python3.6/site-packages/xgboost/core.py:587: FutureWarning: Series.base is deprecated and will be removed in a future version\n",
      "  if getattr(data, 'base', None) is not None and \\\n"
     ]
    },
    {
     "name": "stdout",
     "output_type": "stream",
     "text": [
      "train score (mean_absolute_error): 1.5113\n",
      "train score (mean_squared_error): 3.9390\n",
      "validation score (mean_absolute_error): 2.1937\n",
      "validation score (mean_squared_error): 8.0146\n",
      "Percentage of data thrown out: 0.04769498105714336%\n",
      " --------------- fold #1 out of -------------------\n"
     ]
    },
    {
     "name": "stderr",
     "output_type": "stream",
     "text": [
      "/home/sergey/.conda/envs/kaggle/lib/python3.6/site-packages/xgboost/core.py:587: FutureWarning: Series.base is deprecated and will be removed in a future version\n",
      "  if getattr(data, 'base', None) is not None and \\\n"
     ]
    },
    {
     "name": "stdout",
     "output_type": "stream",
     "text": [
      "train score (mean_absolute_error): 1.5388\n",
      "train score (mean_squared_error): 4.0618\n",
      "validation score (mean_absolute_error): 3.2947\n",
      "validation score (mean_squared_error): 14.2221\n",
      "Percentage of data thrown out: 0.04769498105714336%\n",
      " --------------- fold #2 out of -------------------\n"
     ]
    },
    {
     "name": "stderr",
     "output_type": "stream",
     "text": [
      "/home/sergey/.conda/envs/kaggle/lib/python3.6/site-packages/xgboost/core.py:587: FutureWarning: Series.base is deprecated and will be removed in a future version\n",
      "  if getattr(data, 'base', None) is not None and \\\n"
     ]
    },
    {
     "name": "stdout",
     "output_type": "stream",
     "text": [
      "train score (mean_absolute_error): 1.4730\n",
      "train score (mean_squared_error): 3.6846\n",
      "validation score (mean_absolute_error): 2.9291\n",
      "validation score (mean_squared_error): 11.8588\n",
      "Percentage of data thrown out: 0.04769498105714336%\n",
      " --------------- fold #3 out of -------------------\n"
     ]
    },
    {
     "name": "stderr",
     "output_type": "stream",
     "text": [
      "/home/sergey/.conda/envs/kaggle/lib/python3.6/site-packages/xgboost/core.py:587: FutureWarning: Series.base is deprecated and will be removed in a future version\n",
      "  if getattr(data, 'base', None) is not None and \\\n"
     ]
    },
    {
     "name": "stdout",
     "output_type": "stream",
     "text": [
      "train score (mean_absolute_error): 1.5752\n",
      "train score (mean_squared_error): 4.1450\n",
      "validation score (mean_absolute_error): 2.0516\n",
      "validation score (mean_squared_error): 7.8158\n",
      "Percentage of data thrown out: 0.02384749052857168%\n",
      " --------------- fold #4 out of -------------------\n"
     ]
    },
    {
     "name": "stderr",
     "output_type": "stream",
     "text": [
      "/home/sergey/.conda/envs/kaggle/lib/python3.6/site-packages/xgboost/core.py:587: FutureWarning: Series.base is deprecated and will be removed in a future version\n",
      "  if getattr(data, 'base', None) is not None and \\\n"
     ]
    },
    {
     "name": "stdout",
     "output_type": "stream",
     "text": [
      "train score (mean_absolute_error): 1.5647\n",
      "train score (mean_squared_error): 4.1899\n",
      "validation score (mean_absolute_error): 1.7006\n",
      "validation score (mean_squared_error): 4.8092\n",
      "Percentage of data thrown out: 0.04769498105714336%\n",
      " --------------- fold #5 out of -------------------\n"
     ]
    },
    {
     "name": "stderr",
     "output_type": "stream",
     "text": [
      "/home/sergey/.conda/envs/kaggle/lib/python3.6/site-packages/xgboost/core.py:587: FutureWarning: Series.base is deprecated and will be removed in a future version\n",
      "  if getattr(data, 'base', None) is not None and \\\n"
     ]
    },
    {
     "name": "stdout",
     "output_type": "stream",
     "text": [
      "train score (mean_absolute_error): 1.5160\n",
      "train score (mean_squared_error): 3.8885\n",
      "validation score (mean_absolute_error): 2.4431\n",
      "validation score (mean_squared_error): 9.7697\n",
      "Percentage of data thrown out: 0.04769498105714336%\n",
      " --------------- fold #6 out of -------------------\n"
     ]
    },
    {
     "name": "stderr",
     "output_type": "stream",
     "text": [
      "/home/sergey/.conda/envs/kaggle/lib/python3.6/site-packages/xgboost/core.py:587: FutureWarning: Series.base is deprecated and will be removed in a future version\n",
      "  if getattr(data, 'base', None) is not None and \\\n"
     ]
    },
    {
     "name": "stdout",
     "output_type": "stream",
     "text": [
      "train score (mean_absolute_error): 1.4546\n",
      "train score (mean_squared_error): 3.7756\n",
      "validation score (mean_absolute_error): 2.6671\n",
      "validation score (mean_squared_error): 10.0859\n",
      "Percentage of data thrown out: 0.04769498105714336%\n",
      " --------------- fold #7 out of -------------------\n"
     ]
    },
    {
     "name": "stderr",
     "output_type": "stream",
     "text": [
      "/home/sergey/.conda/envs/kaggle/lib/python3.6/site-packages/xgboost/core.py:587: FutureWarning: Series.base is deprecated and will be removed in a future version\n",
      "  if getattr(data, 'base', None) is not None and \\\n"
     ]
    },
    {
     "name": "stdout",
     "output_type": "stream",
     "text": [
      "train score (mean_absolute_error): 1.3574\n",
      "train score (mean_squared_error): 3.1973\n",
      "validation score (mean_absolute_error): 4.0556\n",
      "validation score (mean_squared_error): 24.5150\n",
      "Percentage of data thrown out: 0.04769498105714336%\n",
      " --------------- fold #8 out of -------------------\n"
     ]
    },
    {
     "name": "stderr",
     "output_type": "stream",
     "text": [
      "/home/sergey/.conda/envs/kaggle/lib/python3.6/site-packages/xgboost/core.py:587: FutureWarning: Series.base is deprecated and will be removed in a future version\n",
      "  if getattr(data, 'base', None) is not None and \\\n"
     ]
    },
    {
     "name": "stdout",
     "output_type": "stream",
     "text": [
      "train score (mean_absolute_error): 1.5125\n",
      "train score (mean_squared_error): 4.0059\n",
      "validation score (mean_absolute_error): 2.2692\n",
      "validation score (mean_squared_error): 8.1972\n",
      "['data_fname' 'preproc_name' 'preproc_params' 'folds_name' 'folds_params'\n",
      " 'model_name' 'model_params' 'mean_absolute_error' 'mean_squared_error']\n",
      "                                          data_fname    preproc_name  \\\n",
      "0  ../../data/e_lexa/train_proceded_not_smooth_da...  StandardScaler   \n",
      "\n",
      "               preproc_params  folds_name  \\\n",
      "0  {'name': 'StandardScaler'}  CustomFold   \n",
      "\n",
      "                                        folds_params    model_name  \\\n",
      "0  {'name': 'CustomFold', 'n_splits': 9, 'pad': 1...  XGBRegressor   \n",
      "\n",
      "                                        model_params  \\\n",
      "0  {'name': 'XGBRegressor', 'eta': 0.001, 'max_de...   \n",
      "\n",
      "                                 mean_absolute_error  \\\n",
      "0  [1.5112609005473285, 2.1937484199376405, 1.538...   \n",
      "\n",
      "                                  mean_squared_error  \n",
      "0  [3.9389808013997727, 8.014638280762004, 4.0617...  \n",
      ".......................Training finished.........................\n",
      "Run 85:\n",
      "....................... Training model ..............................\n",
      "Percentage of data thrown out: 0.04769498105714336%\n",
      " --------------- fold #0 out of -------------------\n"
     ]
    },
    {
     "name": "stderr",
     "output_type": "stream",
     "text": [
      "/home/sergey/.conda/envs/kaggle/lib/python3.6/site-packages/xgboost/core.py:587: FutureWarning: Series.base is deprecated and will be removed in a future version\n",
      "  if getattr(data, 'base', None) is not None and \\\n"
     ]
    },
    {
     "name": "stdout",
     "output_type": "stream",
     "text": [
      "train score (mean_absolute_error): 1.4754\n",
      "train score (mean_squared_error): 3.8645\n",
      "validation score (mean_absolute_error): 2.0482\n",
      "validation score (mean_squared_error): 6.9862\n",
      "Percentage of data thrown out: 0.04769498105714336%\n",
      " --------------- fold #1 out of -------------------\n"
     ]
    },
    {
     "name": "stderr",
     "output_type": "stream",
     "text": [
      "/home/sergey/.conda/envs/kaggle/lib/python3.6/site-packages/xgboost/core.py:587: FutureWarning: Series.base is deprecated and will be removed in a future version\n",
      "  if getattr(data, 'base', None) is not None and \\\n"
     ]
    },
    {
     "name": "stdout",
     "output_type": "stream",
     "text": [
      "train score (mean_absolute_error): 1.3818\n",
      "train score (mean_squared_error): 3.3294\n",
      "validation score (mean_absolute_error): 3.6028\n",
      "validation score (mean_squared_error): 19.0230\n",
      "Percentage of data thrown out: 0.04769498105714336%\n",
      " --------------- fold #2 out of -------------------\n"
     ]
    },
    {
     "name": "stderr",
     "output_type": "stream",
     "text": [
      "/home/sergey/.conda/envs/kaggle/lib/python3.6/site-packages/xgboost/core.py:587: FutureWarning: Series.base is deprecated and will be removed in a future version\n",
      "  if getattr(data, 'base', None) is not None and \\\n"
     ]
    },
    {
     "name": "stdout",
     "output_type": "stream",
     "text": [
      "train score (mean_absolute_error): 1.5228\n",
      "train score (mean_squared_error): 3.9388\n",
      "validation score (mean_absolute_error): 2.4605\n",
      "validation score (mean_squared_error): 9.6719\n",
      "Percentage of data thrown out: 0.02384749052857168%\n",
      " --------------- fold #3 out of -------------------\n"
     ]
    },
    {
     "name": "stderr",
     "output_type": "stream",
     "text": [
      "/home/sergey/.conda/envs/kaggle/lib/python3.6/site-packages/xgboost/core.py:587: FutureWarning: Series.base is deprecated and will be removed in a future version\n",
      "  if getattr(data, 'base', None) is not None and \\\n"
     ]
    },
    {
     "name": "stdout",
     "output_type": "stream",
     "text": [
      "train score (mean_absolute_error): 1.5723\n",
      "train score (mean_squared_error): 4.1989\n",
      "validation score (mean_absolute_error): 1.7245\n",
      "validation score (mean_squared_error): 4.9341\n",
      "Percentage of data thrown out: 0.04769498105714336%\n",
      " --------------- fold #4 out of -------------------\n"
     ]
    },
    {
     "name": "stderr",
     "output_type": "stream",
     "text": [
      "/home/sergey/.conda/envs/kaggle/lib/python3.6/site-packages/xgboost/core.py:587: FutureWarning: Series.base is deprecated and will be removed in a future version\n",
      "  if getattr(data, 'base', None) is not None and \\\n"
     ]
    },
    {
     "name": "stdout",
     "output_type": "stream",
     "text": [
      "train score (mean_absolute_error): 1.5293\n",
      "train score (mean_squared_error): 4.0442\n",
      "validation score (mean_absolute_error): 1.9553\n",
      "validation score (mean_squared_error): 6.3876\n",
      "Percentage of data thrown out: 0.04769498105714336%\n",
      " --------------- fold #5 out of -------------------\n"
     ]
    },
    {
     "name": "stderr",
     "output_type": "stream",
     "text": [
      "/home/sergey/.conda/envs/kaggle/lib/python3.6/site-packages/xgboost/core.py:587: FutureWarning: Series.base is deprecated and will be removed in a future version\n",
      "  if getattr(data, 'base', None) is not None and \\\n"
     ]
    },
    {
     "name": "stdout",
     "output_type": "stream",
     "text": [
      "train score (mean_absolute_error): 1.6205\n",
      "train score (mean_squared_error): 4.3783\n",
      "validation score (mean_absolute_error): 1.2275\n",
      "validation score (mean_squared_error): 2.7384\n",
      "Percentage of data thrown out: 0.04769498105714336%\n",
      " --------------- fold #6 out of -------------------\n"
     ]
    },
    {
     "name": "stderr",
     "output_type": "stream",
     "text": [
      "/home/sergey/.conda/envs/kaggle/lib/python3.6/site-packages/xgboost/core.py:587: FutureWarning: Series.base is deprecated and will be removed in a future version\n",
      "  if getattr(data, 'base', None) is not None and \\\n"
     ]
    },
    {
     "name": "stdout",
     "output_type": "stream",
     "text": [
      "train score (mean_absolute_error): 1.5644\n",
      "train score (mean_squared_error): 4.1383\n",
      "validation score (mean_absolute_error): 2.8357\n",
      "validation score (mean_squared_error): 12.3270\n",
      "Percentage of data thrown out: 0.04769498105714336%\n",
      " --------------- fold #7 out of -------------------\n"
     ]
    },
    {
     "name": "stderr",
     "output_type": "stream",
     "text": [
      "/home/sergey/.conda/envs/kaggle/lib/python3.6/site-packages/xgboost/core.py:587: FutureWarning: Series.base is deprecated and will be removed in a future version\n",
      "  if getattr(data, 'base', None) is not None and \\\n"
     ]
    },
    {
     "name": "stdout",
     "output_type": "stream",
     "text": [
      "train score (mean_absolute_error): 1.5021\n",
      "train score (mean_squared_error): 3.8724\n",
      "validation score (mean_absolute_error): 2.2256\n",
      "validation score (mean_squared_error): 7.6261\n",
      "Percentage of data thrown out: 0.04769498105714336%\n",
      " --------------- fold #8 out of -------------------\n"
     ]
    },
    {
     "name": "stderr",
     "output_type": "stream",
     "text": [
      "/home/sergey/.conda/envs/kaggle/lib/python3.6/site-packages/xgboost/core.py:587: FutureWarning: Series.base is deprecated and will be removed in a future version\n",
      "  if getattr(data, 'base', None) is not None and \\\n"
     ]
    },
    {
     "name": "stdout",
     "output_type": "stream",
     "text": [
      "train score (mean_absolute_error): 1.6028\n",
      "train score (mean_squared_error): 4.3134\n",
      "validation score (mean_absolute_error): 1.3732\n",
      "validation score (mean_squared_error): 3.5615\n",
      "['data_fname' 'preproc_name' 'preproc_params' 'folds_name' 'folds_params'\n",
      " 'model_name' 'model_params' 'mean_absolute_error' 'mean_squared_error']\n",
      "                                          data_fname    preproc_name  \\\n",
      "0  ../../data/e_lexa/train_proceded_not_smooth_da...  StandardScaler   \n",
      "\n",
      "               preproc_params  folds_name  \\\n",
      "0  {'name': 'StandardScaler'}  CustomFold   \n",
      "\n",
      "                                        folds_params    model_name  \\\n",
      "0  {'name': 'CustomFold', 'n_splits': 9, 'pad': 1...  XGBRegressor   \n",
      "\n",
      "                                        model_params  \\\n",
      "0  {'name': 'XGBRegressor', 'eta': 0.001, 'max_de...   \n",
      "\n",
      "                                 mean_absolute_error  \\\n",
      "0  [1.4753740217338784, 2.0482287416536344, 1.381...   \n",
      "\n",
      "                                  mean_squared_error  \n",
      "0  [3.864451621207361, 6.986185842620378, 3.32938...  \n",
      ".......................Training finished.........................\n",
      "Run 86:\n",
      "....................... Training model ..............................\n",
      "Percentage of data thrown out: 0.02384749052857168%\n",
      " --------------- fold #0 out of -------------------\n"
     ]
    },
    {
     "name": "stderr",
     "output_type": "stream",
     "text": [
      "/home/sergey/.conda/envs/kaggle/lib/python3.6/site-packages/xgboost/core.py:587: FutureWarning: Series.base is deprecated and will be removed in a future version\n",
      "  if getattr(data, 'base', None) is not None and \\\n"
     ]
    },
    {
     "name": "stdout",
     "output_type": "stream",
     "text": [
      "train score (mean_absolute_error): 1.5540\n",
      "train score (mean_squared_error): 4.0640\n",
      "validation score (mean_absolute_error): 2.2358\n",
      "validation score (mean_squared_error): 7.2964\n",
      "Percentage of data thrown out: 0.04769498105714336%\n",
      " --------------- fold #1 out of -------------------\n"
     ]
    },
    {
     "name": "stderr",
     "output_type": "stream",
     "text": [
      "/home/sergey/.conda/envs/kaggle/lib/python3.6/site-packages/xgboost/core.py:587: FutureWarning: Series.base is deprecated and will be removed in a future version\n",
      "  if getattr(data, 'base', None) is not None and \\\n"
     ]
    },
    {
     "name": "stdout",
     "output_type": "stream",
     "text": [
      "train score (mean_absolute_error): 1.5459\n",
      "train score (mean_squared_error): 4.0731\n",
      "validation score (mean_absolute_error): 1.3642\n",
      "validation score (mean_squared_error): 2.9463\n",
      "Percentage of data thrown out: 0.02384749052857168%\n",
      " --------------- fold #2 out of -------------------\n"
     ]
    },
    {
     "name": "stderr",
     "output_type": "stream",
     "text": [
      "/home/sergey/.conda/envs/kaggle/lib/python3.6/site-packages/xgboost/core.py:587: FutureWarning: Series.base is deprecated and will be removed in a future version\n",
      "  if getattr(data, 'base', None) is not None and \\\n"
     ]
    },
    {
     "name": "stdout",
     "output_type": "stream",
     "text": [
      "train score (mean_absolute_error): 1.5815\n",
      "train score (mean_squared_error): 4.2335\n",
      "validation score (mean_absolute_error): 2.0926\n",
      "validation score (mean_squared_error): 6.8350\n",
      "Percentage of data thrown out: 0.02384749052857168%\n",
      " --------------- fold #3 out of -------------------\n"
     ]
    },
    {
     "name": "stderr",
     "output_type": "stream",
     "text": [
      "/home/sergey/.conda/envs/kaggle/lib/python3.6/site-packages/xgboost/core.py:587: FutureWarning: Series.base is deprecated and will be removed in a future version\n",
      "  if getattr(data, 'base', None) is not None and \\\n"
     ]
    },
    {
     "name": "stdout",
     "output_type": "stream",
     "text": [
      "train score (mean_absolute_error): 1.5473\n",
      "train score (mean_squared_error): 4.0859\n",
      "validation score (mean_absolute_error): 2.1292\n",
      "validation score (mean_squared_error): 8.8108\n",
      "Percentage of data thrown out: 0.02384749052857168%\n",
      " --------------- fold #4 out of -------------------\n"
     ]
    },
    {
     "name": "stderr",
     "output_type": "stream",
     "text": [
      "/home/sergey/.conda/envs/kaggle/lib/python3.6/site-packages/xgboost/core.py:587: FutureWarning: Series.base is deprecated and will be removed in a future version\n",
      "  if getattr(data, 'base', None) is not None and \\\n"
     ]
    },
    {
     "name": "stdout",
     "output_type": "stream",
     "text": [
      "train score (mean_absolute_error): 1.6023\n",
      "train score (mean_squared_error): 4.2747\n",
      "validation score (mean_absolute_error): 2.1872\n",
      "validation score (mean_squared_error): 7.0002\n",
      "Percentage of data thrown out: 0.04769498105714336%\n",
      " --------------- fold #5 out of -------------------\n"
     ]
    },
    {
     "name": "stderr",
     "output_type": "stream",
     "text": [
      "/home/sergey/.conda/envs/kaggle/lib/python3.6/site-packages/xgboost/core.py:587: FutureWarning: Series.base is deprecated and will be removed in a future version\n",
      "  if getattr(data, 'base', None) is not None and \\\n"
     ]
    },
    {
     "name": "stdout",
     "output_type": "stream",
     "text": [
      "train score (mean_absolute_error): 1.5729\n",
      "train score (mean_squared_error): 4.2109\n",
      "validation score (mean_absolute_error): 2.5906\n",
      "validation score (mean_squared_error): 11.0299\n",
      "Percentage of data thrown out: 0.04769498105714336%\n",
      " --------------- fold #6 out of -------------------\n"
     ]
    },
    {
     "name": "stderr",
     "output_type": "stream",
     "text": [
      "/home/sergey/.conda/envs/kaggle/lib/python3.6/site-packages/xgboost/core.py:587: FutureWarning: Series.base is deprecated and will be removed in a future version\n",
      "  if getattr(data, 'base', None) is not None and \\\n"
     ]
    },
    {
     "name": "stdout",
     "output_type": "stream",
     "text": [
      "train score (mean_absolute_error): 1.5123\n",
      "train score (mean_squared_error): 3.9601\n",
      "validation score (mean_absolute_error): 2.4477\n",
      "validation score (mean_squared_error): 9.6599\n",
      "Percentage of data thrown out: 0.02384749052857168%\n",
      " --------------- fold #7 out of -------------------\n"
     ]
    },
    {
     "name": "stderr",
     "output_type": "stream",
     "text": [
      "/home/sergey/.conda/envs/kaggle/lib/python3.6/site-packages/xgboost/core.py:587: FutureWarning: Series.base is deprecated and will be removed in a future version\n",
      "  if getattr(data, 'base', None) is not None and \\\n"
     ]
    },
    {
     "name": "stdout",
     "output_type": "stream",
     "text": [
      "train score (mean_absolute_error): 1.5585\n",
      "train score (mean_squared_error): 4.1230\n",
      "validation score (mean_absolute_error): 2.1208\n",
      "validation score (mean_squared_error): 8.3884\n",
      "Percentage of data thrown out: 0.04769498105714336%\n",
      " --------------- fold #8 out of -------------------\n"
     ]
    },
    {
     "name": "stderr",
     "output_type": "stream",
     "text": [
      "/home/sergey/.conda/envs/kaggle/lib/python3.6/site-packages/xgboost/core.py:587: FutureWarning: Series.base is deprecated and will be removed in a future version\n",
      "  if getattr(data, 'base', None) is not None and \\\n"
     ]
    },
    {
     "name": "stdout",
     "output_type": "stream",
     "text": [
      "train score (mean_absolute_error): 1.5824\n",
      "train score (mean_squared_error): 4.2635\n",
      "validation score (mean_absolute_error): 2.0700\n",
      "validation score (mean_squared_error): 6.5841\n",
      "['data_fname' 'preproc_name' 'preproc_params' 'folds_name' 'folds_params'\n",
      " 'model_name' 'model_params' 'mean_absolute_error' 'mean_squared_error']\n",
      "                                          data_fname    preproc_name  \\\n",
      "0  ../../data/e_lexa/train_proceded_not_smooth_da...  StandardScaler   \n",
      "\n",
      "               preproc_params  folds_name  \\\n",
      "0  {'name': 'StandardScaler'}  CustomFold   \n",
      "\n",
      "                                        folds_params    model_name  \\\n",
      "0  {'name': 'CustomFold', 'n_splits': 9, 'pad': 1...  XGBRegressor   \n",
      "\n",
      "                                        model_params  \\\n",
      "0  {'name': 'XGBRegressor', 'eta': 0.001, 'max_de...   \n",
      "\n",
      "                                 mean_absolute_error  \\\n",
      "0  [1.554024195044066, 2.2358239258497026, 1.5458...   \n",
      "\n",
      "                                  mean_squared_error  \n",
      "0  [4.064041836408905, 7.2963988914727125, 4.0731...  \n",
      ".......................Training finished.........................\n",
      "Run 87:\n",
      "....................... Training model ..............................\n",
      "Percentage of data thrown out: 0.04769498105714336%\n",
      " --------------- fold #0 out of -------------------\n"
     ]
    },
    {
     "name": "stderr",
     "output_type": "stream",
     "text": [
      "/home/sergey/.conda/envs/kaggle/lib/python3.6/site-packages/xgboost/core.py:587: FutureWarning: Series.base is deprecated and will be removed in a future version\n",
      "  if getattr(data, 'base', None) is not None and \\\n"
     ]
    },
    {
     "name": "stdout",
     "output_type": "stream",
     "text": [
      "train score (mean_absolute_error): 1.5119\n",
      "train score (mean_squared_error): 3.8470\n",
      "validation score (mean_absolute_error): 3.3980\n",
      "validation score (mean_squared_error): 15.4521\n",
      "Percentage of data thrown out: 0.04769498105714336%\n",
      " --------------- fold #1 out of -------------------\n"
     ]
    },
    {
     "name": "stderr",
     "output_type": "stream",
     "text": [
      "/home/sergey/.conda/envs/kaggle/lib/python3.6/site-packages/xgboost/core.py:587: FutureWarning: Series.base is deprecated and will be removed in a future version\n",
      "  if getattr(data, 'base', None) is not None and \\\n"
     ]
    },
    {
     "name": "stdout",
     "output_type": "stream",
     "text": [
      "train score (mean_absolute_error): 1.6107\n",
      "train score (mean_squared_error): 4.3750\n",
      "validation score (mean_absolute_error): 1.3955\n",
      "validation score (mean_squared_error): 3.0109\n",
      "Percentage of data thrown out: 0.04769498105714336%\n",
      " --------------- fold #2 out of -------------------\n"
     ]
    },
    {
     "name": "stderr",
     "output_type": "stream",
     "text": [
      "/home/sergey/.conda/envs/kaggle/lib/python3.6/site-packages/xgboost/core.py:587: FutureWarning: Series.base is deprecated and will be removed in a future version\n",
      "  if getattr(data, 'base', None) is not None and \\\n"
     ]
    },
    {
     "name": "stdout",
     "output_type": "stream",
     "text": [
      "train score (mean_absolute_error): 1.4569\n",
      "train score (mean_squared_error): 3.7811\n",
      "validation score (mean_absolute_error): 2.6271\n",
      "validation score (mean_squared_error): 9.9047\n",
      "Percentage of data thrown out: 0.04769498105714336%\n",
      " --------------- fold #3 out of -------------------\n"
     ]
    },
    {
     "name": "stderr",
     "output_type": "stream",
     "text": [
      "/home/sergey/.conda/envs/kaggle/lib/python3.6/site-packages/xgboost/core.py:587: FutureWarning: Series.base is deprecated and will be removed in a future version\n",
      "  if getattr(data, 'base', None) is not None and \\\n"
     ]
    },
    {
     "name": "stdout",
     "output_type": "stream",
     "text": [
      "train score (mean_absolute_error): 1.5671\n",
      "train score (mean_squared_error): 4.1411\n",
      "validation score (mean_absolute_error): 2.2584\n",
      "validation score (mean_squared_error): 7.9277\n",
      "Percentage of data thrown out: 0.04769498105714336%\n",
      " --------------- fold #4 out of -------------------\n"
     ]
    },
    {
     "name": "stderr",
     "output_type": "stream",
     "text": [
      "/home/sergey/.conda/envs/kaggle/lib/python3.6/site-packages/xgboost/core.py:587: FutureWarning: Series.base is deprecated and will be removed in a future version\n",
      "  if getattr(data, 'base', None) is not None and \\\n"
     ]
    },
    {
     "name": "stdout",
     "output_type": "stream",
     "text": [
      "train score (mean_absolute_error): 1.5198\n",
      "train score (mean_squared_error): 3.9659\n",
      "validation score (mean_absolute_error): 2.3637\n",
      "validation score (mean_squared_error): 8.9480\n",
      "Percentage of data thrown out: 0.04769498105714336%\n",
      " --------------- fold #5 out of -------------------\n"
     ]
    },
    {
     "name": "stderr",
     "output_type": "stream",
     "text": [
      "/home/sergey/.conda/envs/kaggle/lib/python3.6/site-packages/xgboost/core.py:587: FutureWarning: Series.base is deprecated and will be removed in a future version\n",
      "  if getattr(data, 'base', None) is not None and \\\n"
     ]
    },
    {
     "name": "stdout",
     "output_type": "stream",
     "text": [
      "train score (mean_absolute_error): 1.4471\n",
      "train score (mean_squared_error): 3.7310\n",
      "validation score (mean_absolute_error): 2.6556\n",
      "validation score (mean_squared_error): 10.0693\n",
      "Percentage of data thrown out: 0.04769498105714336%\n",
      " --------------- fold #6 out of -------------------\n"
     ]
    },
    {
     "name": "stderr",
     "output_type": "stream",
     "text": [
      "/home/sergey/.conda/envs/kaggle/lib/python3.6/site-packages/xgboost/core.py:587: FutureWarning: Series.base is deprecated and will be removed in a future version\n",
      "  if getattr(data, 'base', None) is not None and \\\n"
     ]
    },
    {
     "name": "stdout",
     "output_type": "stream",
     "text": [
      "train score (mean_absolute_error): 1.5527\n",
      "train score (mean_squared_error): 4.0855\n",
      "validation score (mean_absolute_error): 1.5315\n",
      "validation score (mean_squared_error): 3.9174\n",
      "Percentage of data thrown out: 0.04769498105714336%\n",
      " --------------- fold #7 out of -------------------\n"
     ]
    },
    {
     "name": "stderr",
     "output_type": "stream",
     "text": [
      "/home/sergey/.conda/envs/kaggle/lib/python3.6/site-packages/xgboost/core.py:587: FutureWarning: Series.base is deprecated and will be removed in a future version\n",
      "  if getattr(data, 'base', None) is not None and \\\n"
     ]
    },
    {
     "name": "stdout",
     "output_type": "stream",
     "text": [
      "train score (mean_absolute_error): 1.6271\n",
      "train score (mean_squared_error): 4.4124\n",
      "validation score (mean_absolute_error): 1.2067\n",
      "validation score (mean_squared_error): 2.5933\n",
      "Percentage of data thrown out: 0.04769498105714336%\n",
      " --------------- fold #8 out of -------------------\n"
     ]
    },
    {
     "name": "stderr",
     "output_type": "stream",
     "text": [
      "/home/sergey/.conda/envs/kaggle/lib/python3.6/site-packages/xgboost/core.py:587: FutureWarning: Series.base is deprecated and will be removed in a future version\n",
      "  if getattr(data, 'base', None) is not None and \\\n"
     ]
    },
    {
     "name": "stdout",
     "output_type": "stream",
     "text": [
      "train score (mean_absolute_error): 1.5044\n",
      "train score (mean_squared_error): 3.8015\n",
      "validation score (mean_absolute_error): 2.8230\n",
      "validation score (mean_squared_error): 10.6966\n",
      "['data_fname' 'preproc_name' 'preproc_params' 'folds_name' 'folds_params'\n",
      " 'model_name' 'model_params' 'mean_absolute_error' 'mean_squared_error']\n",
      "                                          data_fname    preproc_name  \\\n",
      "0  ../../data/e_lexa/train_proceded_not_smooth_da...  StandardScaler   \n",
      "\n",
      "               preproc_params  folds_name  \\\n",
      "0  {'name': 'StandardScaler'}  CustomFold   \n",
      "\n",
      "                                        folds_params    model_name  \\\n",
      "0  {'name': 'CustomFold', 'n_splits': 9, 'pad': 1...  XGBRegressor   \n",
      "\n",
      "                                        model_params  \\\n",
      "0  {'name': 'XGBRegressor', 'eta': 0.001, 'max_de...   \n",
      "\n",
      "                                 mean_absolute_error  \\\n",
      "0  [1.511853177987713, 3.3980108042088406, 1.6106...   \n",
      "\n",
      "                                  mean_squared_error  \n",
      "0  [3.846986320443099, 15.45205403959759, 4.37501...  \n",
      ".......................Training finished.........................\n",
      "Run 88:\n",
      "....................... Training model ..............................\n",
      "Percentage of data thrown out: 0.04769498105714336%\n",
      " --------------- fold #0 out of -------------------\n"
     ]
    },
    {
     "name": "stderr",
     "output_type": "stream",
     "text": [
      "/home/sergey/.conda/envs/kaggle/lib/python3.6/site-packages/xgboost/core.py:587: FutureWarning: Series.base is deprecated and will be removed in a future version\n",
      "  if getattr(data, 'base', None) is not None and \\\n"
     ]
    },
    {
     "name": "stdout",
     "output_type": "stream",
     "text": [
      "train score (mean_absolute_error): 1.6187\n",
      "train score (mean_squared_error): 4.3441\n",
      "validation score (mean_absolute_error): 1.2593\n",
      "validation score (mean_squared_error): 2.7298\n",
      "Percentage of data thrown out: 0.04769498105714336%\n",
      " --------------- fold #1 out of -------------------\n"
     ]
    },
    {
     "name": "stderr",
     "output_type": "stream",
     "text": [
      "/home/sergey/.conda/envs/kaggle/lib/python3.6/site-packages/xgboost/core.py:587: FutureWarning: Series.base is deprecated and will be removed in a future version\n",
      "  if getattr(data, 'base', None) is not None and \\\n"
     ]
    },
    {
     "name": "stdout",
     "output_type": "stream",
     "text": [
      "train score (mean_absolute_error): 1.4987\n",
      "train score (mean_squared_error): 3.8835\n",
      "validation score (mean_absolute_error): 3.5315\n",
      "validation score (mean_squared_error): 16.5449\n",
      "Percentage of data thrown out: 0.04769498105714336%\n",
      " --------------- fold #2 out of -------------------\n"
     ]
    },
    {
     "name": "stderr",
     "output_type": "stream",
     "text": [
      "/home/sergey/.conda/envs/kaggle/lib/python3.6/site-packages/xgboost/core.py:587: FutureWarning: Series.base is deprecated and will be removed in a future version\n",
      "  if getattr(data, 'base', None) is not None and \\\n"
     ]
    },
    {
     "name": "stdout",
     "output_type": "stream",
     "text": [
      "train score (mean_absolute_error): 1.5426\n",
      "train score (mean_squared_error): 4.0079\n",
      "validation score (mean_absolute_error): 3.6013\n",
      "validation score (mean_squared_error): 16.5726\n",
      "Percentage of data thrown out: 0.04769498105714336%\n",
      " --------------- fold #3 out of -------------------\n"
     ]
    },
    {
     "name": "stderr",
     "output_type": "stream",
     "text": [
      "/home/sergey/.conda/envs/kaggle/lib/python3.6/site-packages/xgboost/core.py:587: FutureWarning: Series.base is deprecated and will be removed in a future version\n",
      "  if getattr(data, 'base', None) is not None and \\\n"
     ]
    },
    {
     "name": "stdout",
     "output_type": "stream",
     "text": [
      "train score (mean_absolute_error): 1.4824\n",
      "train score (mean_squared_error): 3.7802\n",
      "validation score (mean_absolute_error): 2.8323\n",
      "validation score (mean_squared_error): 12.8562\n",
      "Percentage of data thrown out: 0.04769498105714336%\n",
      " --------------- fold #4 out of -------------------\n"
     ]
    },
    {
     "name": "stderr",
     "output_type": "stream",
     "text": [
      "/home/sergey/.conda/envs/kaggle/lib/python3.6/site-packages/xgboost/core.py:587: FutureWarning: Series.base is deprecated and will be removed in a future version\n",
      "  if getattr(data, 'base', None) is not None and \\\n"
     ]
    },
    {
     "name": "stdout",
     "output_type": "stream",
     "text": [
      "train score (mean_absolute_error): 1.6045\n",
      "train score (mean_squared_error): 4.3346\n",
      "validation score (mean_absolute_error): 1.5617\n",
      "validation score (mean_squared_error): 4.0636\n",
      "Percentage of data thrown out: 0.04769498105714336%\n",
      " --------------- fold #5 out of -------------------\n"
     ]
    },
    {
     "name": "stderr",
     "output_type": "stream",
     "text": [
      "/home/sergey/.conda/envs/kaggle/lib/python3.6/site-packages/xgboost/core.py:587: FutureWarning: Series.base is deprecated and will be removed in a future version\n",
      "  if getattr(data, 'base', None) is not None and \\\n"
     ]
    },
    {
     "name": "stdout",
     "output_type": "stream",
     "text": [
      "train score (mean_absolute_error): 1.4591\n",
      "train score (mean_squared_error): 3.7827\n",
      "validation score (mean_absolute_error): 2.6004\n",
      "validation score (mean_squared_error): 9.9646\n",
      "Percentage of data thrown out: 0.04769498105714336%\n",
      " --------------- fold #6 out of -------------------\n"
     ]
    },
    {
     "name": "stderr",
     "output_type": "stream",
     "text": [
      "/home/sergey/.conda/envs/kaggle/lib/python3.6/site-packages/xgboost/core.py:587: FutureWarning: Series.base is deprecated and will be removed in a future version\n",
      "  if getattr(data, 'base', None) is not None and \\\n"
     ]
    },
    {
     "name": "stdout",
     "output_type": "stream",
     "text": [
      "train score (mean_absolute_error): 1.3278\n",
      "train score (mean_squared_error): 3.0836\n",
      "validation score (mean_absolute_error): 4.1444\n",
      "validation score (mean_squared_error): 25.0342\n",
      "Percentage of data thrown out: 0.04769498105714336%\n",
      " --------------- fold #7 out of -------------------\n"
     ]
    },
    {
     "name": "stderr",
     "output_type": "stream",
     "text": [
      "/home/sergey/.conda/envs/kaggle/lib/python3.6/site-packages/xgboost/core.py:587: FutureWarning: Series.base is deprecated and will be removed in a future version\n",
      "  if getattr(data, 'base', None) is not None and \\\n"
     ]
    },
    {
     "name": "stdout",
     "output_type": "stream",
     "text": [
      "train score (mean_absolute_error): 1.5289\n",
      "train score (mean_squared_error): 3.9965\n",
      "validation score (mean_absolute_error): 2.5294\n",
      "validation score (mean_squared_error): 10.5318\n",
      "Percentage of data thrown out: 0.04769498105714336%\n",
      " --------------- fold #8 out of -------------------\n"
     ]
    },
    {
     "name": "stderr",
     "output_type": "stream",
     "text": [
      "/home/sergey/.conda/envs/kaggle/lib/python3.6/site-packages/xgboost/core.py:587: FutureWarning: Series.base is deprecated and will be removed in a future version\n",
      "  if getattr(data, 'base', None) is not None and \\\n"
     ]
    },
    {
     "name": "stdout",
     "output_type": "stream",
     "text": [
      "train score (mean_absolute_error): 1.4851\n",
      "train score (mean_squared_error): 3.7851\n",
      "validation score (mean_absolute_error): 2.8991\n",
      "validation score (mean_squared_error): 12.1048\n",
      "['data_fname' 'preproc_name' 'preproc_params' 'folds_name' 'folds_params'\n",
      " 'model_name' 'model_params' 'mean_absolute_error' 'mean_squared_error']\n",
      "                                          data_fname    preproc_name  \\\n",
      "0  ../../data/e_lexa/train_proceded_not_smooth_da...  StandardScaler   \n",
      "\n",
      "               preproc_params  folds_name  \\\n",
      "0  {'name': 'StandardScaler'}  CustomFold   \n",
      "\n",
      "                                        folds_params    model_name  \\\n",
      "0  {'name': 'CustomFold', 'n_splits': 9, 'pad': 1...  XGBRegressor   \n",
      "\n",
      "                                        model_params  \\\n",
      "0  {'name': 'XGBRegressor', 'eta': 0.001, 'max_de...   \n",
      "\n",
      "                                 mean_absolute_error  \\\n",
      "0  [1.6187241062717754, 1.2593206081546535, 1.498...   \n",
      "\n",
      "                                  mean_squared_error  \n",
      "0  [4.34407324848274, 2.729766502723935, 3.883452...  \n",
      ".......................Training finished.........................\n",
      "Run 89:\n",
      "....................... Training model ..............................\n",
      "Percentage of data thrown out: 0.04769498105714336%\n",
      " --------------- fold #0 out of -------------------\n"
     ]
    },
    {
     "name": "stderr",
     "output_type": "stream",
     "text": [
      "/home/sergey/.conda/envs/kaggle/lib/python3.6/site-packages/xgboost/core.py:587: FutureWarning: Series.base is deprecated and will be removed in a future version\n",
      "  if getattr(data, 'base', None) is not None and \\\n"
     ]
    },
    {
     "name": "stdout",
     "output_type": "stream",
     "text": [
      "train score (mean_absolute_error): 1.5651\n",
      "train score (mean_squared_error): 4.1164\n",
      "validation score (mean_absolute_error): 1.5832\n",
      "validation score (mean_squared_error): 4.4362\n",
      "Percentage of data thrown out: 0.04769498105714336%\n",
      " --------------- fold #1 out of -------------------\n"
     ]
    },
    {
     "name": "stderr",
     "output_type": "stream",
     "text": [
      "/home/sergey/.conda/envs/kaggle/lib/python3.6/site-packages/xgboost/core.py:587: FutureWarning: Series.base is deprecated and will be removed in a future version\n",
      "  if getattr(data, 'base', None) is not None and \\\n"
     ]
    },
    {
     "name": "stdout",
     "output_type": "stream",
     "text": [
      "train score (mean_absolute_error): 1.5980\n",
      "train score (mean_squared_error): 4.4126\n",
      "validation score (mean_absolute_error): 2.0344\n",
      "validation score (mean_squared_error): 5.7540\n",
      "Percentage of data thrown out: 0.04769498105714336%\n",
      " --------------- fold #2 out of -------------------\n"
     ]
    },
    {
     "name": "stderr",
     "output_type": "stream",
     "text": [
      "/home/sergey/.conda/envs/kaggle/lib/python3.6/site-packages/xgboost/core.py:587: FutureWarning: Series.base is deprecated and will be removed in a future version\n",
      "  if getattr(data, 'base', None) is not None and \\\n"
     ]
    },
    {
     "name": "stdout",
     "output_type": "stream",
     "text": [
      "train score (mean_absolute_error): 1.6260\n",
      "train score (mean_squared_error): 4.4370\n",
      "validation score (mean_absolute_error): 1.4159\n",
      "validation score (mean_squared_error): 3.6023\n",
      "Percentage of data thrown out: 0.04769498105714336%\n",
      " --------------- fold #3 out of -------------------\n"
     ]
    },
    {
     "name": "stderr",
     "output_type": "stream",
     "text": [
      "/home/sergey/.conda/envs/kaggle/lib/python3.6/site-packages/xgboost/core.py:587: FutureWarning: Series.base is deprecated and will be removed in a future version\n",
      "  if getattr(data, 'base', None) is not None and \\\n"
     ]
    },
    {
     "name": "stdout",
     "output_type": "stream",
     "text": [
      "train score (mean_absolute_error): 1.6037\n",
      "train score (mean_squared_error): 4.3039\n",
      "validation score (mean_absolute_error): 1.3403\n",
      "validation score (mean_squared_error): 3.2519\n",
      "Percentage of data thrown out: 0.04769498105714336%\n",
      " --------------- fold #4 out of -------------------\n"
     ]
    },
    {
     "name": "stderr",
     "output_type": "stream",
     "text": [
      "/home/sergey/.conda/envs/kaggle/lib/python3.6/site-packages/xgboost/core.py:587: FutureWarning: Series.base is deprecated and will be removed in a future version\n",
      "  if getattr(data, 'base', None) is not None and \\\n"
     ]
    },
    {
     "name": "stdout",
     "output_type": "stream",
     "text": [
      "train score (mean_absolute_error): 1.5295\n",
      "train score (mean_squared_error): 4.0177\n",
      "validation score (mean_absolute_error): 1.8830\n",
      "validation score (mean_squared_error): 5.8170\n",
      "Percentage of data thrown out: 0.04769498105714336%\n",
      " --------------- fold #5 out of -------------------\n"
     ]
    },
    {
     "name": "stderr",
     "output_type": "stream",
     "text": [
      "/home/sergey/.conda/envs/kaggle/lib/python3.6/site-packages/xgboost/core.py:587: FutureWarning: Series.base is deprecated and will be removed in a future version\n",
      "  if getattr(data, 'base', None) is not None and \\\n"
     ]
    },
    {
     "name": "stdout",
     "output_type": "stream",
     "text": [
      "train score (mean_absolute_error): 1.3394\n",
      "train score (mean_squared_error): 3.1432\n",
      "validation score (mean_absolute_error): 4.0557\n",
      "validation score (mean_squared_error): 24.9566\n",
      "Percentage of data thrown out: 0.04769498105714336%\n",
      " --------------- fold #6 out of -------------------\n"
     ]
    },
    {
     "name": "stderr",
     "output_type": "stream",
     "text": [
      "/home/sergey/.conda/envs/kaggle/lib/python3.6/site-packages/xgboost/core.py:587: FutureWarning: Series.base is deprecated and will be removed in a future version\n",
      "  if getattr(data, 'base', None) is not None and \\\n"
     ]
    },
    {
     "name": "stdout",
     "output_type": "stream",
     "text": [
      "train score (mean_absolute_error): 1.4737\n",
      "train score (mean_squared_error): 3.7464\n",
      "validation score (mean_absolute_error): 2.3705\n",
      "validation score (mean_squared_error): 9.1118\n",
      "Percentage of data thrown out: 0.04769498105714336%\n",
      " --------------- fold #7 out of -------------------\n"
     ]
    },
    {
     "name": "stderr",
     "output_type": "stream",
     "text": [
      "/home/sergey/.conda/envs/kaggle/lib/python3.6/site-packages/xgboost/core.py:587: FutureWarning: Series.base is deprecated and will be removed in a future version\n",
      "  if getattr(data, 'base', None) is not None and \\\n"
     ]
    },
    {
     "name": "stdout",
     "output_type": "stream",
     "text": [
      "train score (mean_absolute_error): 1.4698\n",
      "train score (mean_squared_error): 3.8255\n",
      "validation score (mean_absolute_error): 2.6138\n",
      "validation score (mean_squared_error): 9.7017\n",
      "Percentage of data thrown out: 0.04769498105714336%\n",
      " --------------- fold #8 out of -------------------\n"
     ]
    },
    {
     "name": "stderr",
     "output_type": "stream",
     "text": [
      "/home/sergey/.conda/envs/kaggle/lib/python3.6/site-packages/xgboost/core.py:587: FutureWarning: Series.base is deprecated and will be removed in a future version\n",
      "  if getattr(data, 'base', None) is not None and \\\n"
     ]
    },
    {
     "name": "stdout",
     "output_type": "stream",
     "text": [
      "train score (mean_absolute_error): 1.5236\n",
      "train score (mean_squared_error): 3.8949\n",
      "validation score (mean_absolute_error): 2.8723\n",
      "validation score (mean_squared_error): 11.1094\n",
      "['data_fname' 'preproc_name' 'preproc_params' 'folds_name' 'folds_params'\n",
      " 'model_name' 'model_params' 'mean_absolute_error' 'mean_squared_error']\n",
      "                                          data_fname    preproc_name  \\\n",
      "0  ../../data/e_lexa/train_proceded_not_smooth_da...  StandardScaler   \n",
      "\n",
      "               preproc_params  folds_name  \\\n",
      "0  {'name': 'StandardScaler'}  CustomFold   \n",
      "\n",
      "                                        folds_params    model_name  \\\n",
      "0  {'name': 'CustomFold', 'n_splits': 9, 'pad': 1...  XGBRegressor   \n",
      "\n",
      "                                        model_params  \\\n",
      "0  {'name': 'XGBRegressor', 'eta': 0.001, 'max_de...   \n",
      "\n",
      "                                 mean_absolute_error  \\\n",
      "0  [1.5651142391441926, 1.5832441377931563, 1.597...   \n",
      "\n",
      "                                  mean_squared_error  \n",
      "0  [4.116443896084713, 4.436212168362905, 4.41260...  \n",
      ".......................Training finished.........................\n",
      "Run 90:\n",
      "....................... Training model ..............................\n",
      "Percentage of data thrown out: 0.04769498105714336%\n",
      " --------------- fold #0 out of -------------------\n"
     ]
    },
    {
     "name": "stderr",
     "output_type": "stream",
     "text": [
      "/home/sergey/.conda/envs/kaggle/lib/python3.6/site-packages/xgboost/core.py:587: FutureWarning: Series.base is deprecated and will be removed in a future version\n",
      "  if getattr(data, 'base', None) is not None and \\\n"
     ]
    },
    {
     "name": "stdout",
     "output_type": "stream",
     "text": [
      "train score (mean_absolute_error): 1.5828\n",
      "train score (mean_squared_error): 4.2479\n",
      "validation score (mean_absolute_error): 2.1088\n",
      "validation score (mean_squared_error): 8.3989\n",
      "Percentage of data thrown out: 0.04769498105714336%\n",
      " --------------- fold #1 out of -------------------\n"
     ]
    },
    {
     "name": "stderr",
     "output_type": "stream",
     "text": [
      "/home/sergey/.conda/envs/kaggle/lib/python3.6/site-packages/xgboost/core.py:587: FutureWarning: Series.base is deprecated and will be removed in a future version\n",
      "  if getattr(data, 'base', None) is not None and \\\n"
     ]
    },
    {
     "name": "stdout",
     "output_type": "stream",
     "text": [
      "train score (mean_absolute_error): 1.5564\n",
      "train score (mean_squared_error): 4.1010\n",
      "validation score (mean_absolute_error): 2.5573\n",
      "validation score (mean_squared_error): 10.5976\n",
      "Percentage of data thrown out: 0.02384749052857168%\n",
      " --------------- fold #2 out of -------------------\n"
     ]
    },
    {
     "name": "stderr",
     "output_type": "stream",
     "text": [
      "/home/sergey/.conda/envs/kaggle/lib/python3.6/site-packages/xgboost/core.py:587: FutureWarning: Series.base is deprecated and will be removed in a future version\n",
      "  if getattr(data, 'base', None) is not None and \\\n"
     ]
    },
    {
     "name": "stdout",
     "output_type": "stream",
     "text": [
      "train score (mean_absolute_error): 1.5519\n",
      "train score (mean_squared_error): 4.1206\n",
      "validation score (mean_absolute_error): 2.1676\n",
      "validation score (mean_squared_error): 8.4325\n",
      "Percentage of data thrown out: 0.04769498105714336%\n",
      " --------------- fold #3 out of -------------------\n"
     ]
    },
    {
     "name": "stderr",
     "output_type": "stream",
     "text": [
      "/home/sergey/.conda/envs/kaggle/lib/python3.6/site-packages/xgboost/core.py:587: FutureWarning: Series.base is deprecated and will be removed in a future version\n",
      "  if getattr(data, 'base', None) is not None and \\\n"
     ]
    },
    {
     "name": "stdout",
     "output_type": "stream",
     "text": [
      "train score (mean_absolute_error): 1.5867\n",
      "train score (mean_squared_error): 4.2771\n",
      "validation score (mean_absolute_error): 1.4637\n",
      "validation score (mean_squared_error): 3.2839\n",
      "Percentage of data thrown out: 0.04769498105714336%\n",
      " --------------- fold #4 out of -------------------\n"
     ]
    },
    {
     "name": "stderr",
     "output_type": "stream",
     "text": [
      "/home/sergey/.conda/envs/kaggle/lib/python3.6/site-packages/xgboost/core.py:587: FutureWarning: Series.base is deprecated and will be removed in a future version\n",
      "  if getattr(data, 'base', None) is not None and \\\n"
     ]
    },
    {
     "name": "stdout",
     "output_type": "stream",
     "text": [
      "train score (mean_absolute_error): 1.6198\n",
      "train score (mean_squared_error): 4.4830\n",
      "validation score (mean_absolute_error): 1.5690\n",
      "validation score (mean_squared_error): 4.0812\n",
      "Percentage of data thrown out: 0.04769498105714336%\n",
      " --------------- fold #5 out of -------------------\n"
     ]
    },
    {
     "name": "stderr",
     "output_type": "stream",
     "text": [
      "/home/sergey/.conda/envs/kaggle/lib/python3.6/site-packages/xgboost/core.py:587: FutureWarning: Series.base is deprecated and will be removed in a future version\n",
      "  if getattr(data, 'base', None) is not None and \\\n"
     ]
    },
    {
     "name": "stdout",
     "output_type": "stream",
     "text": [
      "train score (mean_absolute_error): 1.4814\n",
      "train score (mean_squared_error): 3.8078\n",
      "validation score (mean_absolute_error): 2.9127\n",
      "validation score (mean_squared_error): 12.5883\n",
      "Percentage of data thrown out: 0.02384749052857168%\n",
      " --------------- fold #6 out of -------------------\n"
     ]
    },
    {
     "name": "stderr",
     "output_type": "stream",
     "text": [
      "/home/sergey/.conda/envs/kaggle/lib/python3.6/site-packages/xgboost/core.py:587: FutureWarning: Series.base is deprecated and will be removed in a future version\n",
      "  if getattr(data, 'base', None) is not None and \\\n"
     ]
    },
    {
     "name": "stdout",
     "output_type": "stream",
     "text": [
      "train score (mean_absolute_error): 1.5660\n",
      "train score (mean_squared_error): 4.1188\n",
      "validation score (mean_absolute_error): 2.2652\n",
      "validation score (mean_squared_error): 10.0820\n",
      "Percentage of data thrown out: 0.04769498105714336%\n",
      " --------------- fold #7 out of -------------------\n"
     ]
    },
    {
     "name": "stderr",
     "output_type": "stream",
     "text": [
      "/home/sergey/.conda/envs/kaggle/lib/python3.6/site-packages/xgboost/core.py:587: FutureWarning: Series.base is deprecated and will be removed in a future version\n",
      "  if getattr(data, 'base', None) is not None and \\\n"
     ]
    },
    {
     "name": "stdout",
     "output_type": "stream",
     "text": [
      "train score (mean_absolute_error): 1.4710\n",
      "train score (mean_squared_error): 3.7958\n",
      "validation score (mean_absolute_error): 2.0600\n",
      "validation score (mean_squared_error): 7.2560\n",
      "Percentage of data thrown out: 0.02384749052857168%\n",
      " --------------- fold #8 out of -------------------\n"
     ]
    },
    {
     "name": "stderr",
     "output_type": "stream",
     "text": [
      "/home/sergey/.conda/envs/kaggle/lib/python3.6/site-packages/xgboost/core.py:587: FutureWarning: Series.base is deprecated and will be removed in a future version\n",
      "  if getattr(data, 'base', None) is not None and \\\n"
     ]
    },
    {
     "name": "stdout",
     "output_type": "stream",
     "text": [
      "train score (mean_absolute_error): 1.5759\n",
      "train score (mean_squared_error): 4.1572\n",
      "validation score (mean_absolute_error): 2.1874\n",
      "validation score (mean_squared_error): 9.0018\n",
      "['data_fname' 'preproc_name' 'preproc_params' 'folds_name' 'folds_params'\n",
      " 'model_name' 'model_params' 'mean_absolute_error' 'mean_squared_error']\n",
      "                                          data_fname    preproc_name  \\\n",
      "0  ../../data/e_lexa/train_proceded_not_smooth_da...  StandardScaler   \n",
      "\n",
      "               preproc_params  folds_name  \\\n",
      "0  {'name': 'StandardScaler'}  CustomFold   \n",
      "\n",
      "                                        folds_params    model_name  \\\n",
      "0  {'name': 'CustomFold', 'n_splits': 9, 'pad': 1...  XGBRegressor   \n",
      "\n",
      "                                        model_params  \\\n",
      "0  {'name': 'XGBRegressor', 'eta': 0.001, 'max_de...   \n",
      "\n",
      "                                 mean_absolute_error  \\\n",
      "0  [1.5827983860821935, 2.1087986562649177, 1.556...   \n",
      "\n",
      "                                  mean_squared_error  \n",
      "0  [4.247876760354042, 8.398940593771036, 4.10101...  \n",
      ".......................Training finished.........................\n",
      "Run 91:\n",
      "....................... Training model ..............................\n",
      "Percentage of data thrown out: 0.04769498105714336%\n",
      " --------------- fold #0 out of -------------------\n"
     ]
    },
    {
     "name": "stderr",
     "output_type": "stream",
     "text": [
      "/home/sergey/.conda/envs/kaggle/lib/python3.6/site-packages/xgboost/core.py:587: FutureWarning: Series.base is deprecated and will be removed in a future version\n",
      "  if getattr(data, 'base', None) is not None and \\\n"
     ]
    },
    {
     "name": "stdout",
     "output_type": "stream",
     "text": [
      "train score (mean_absolute_error): 1.5853\n",
      "train score (mean_squared_error): 4.2430\n",
      "validation score (mean_absolute_error): 1.4818\n",
      "validation score (mean_squared_error): 3.7955\n",
      "Percentage of data thrown out: 0.02384749052857168%\n",
      " --------------- fold #1 out of -------------------\n"
     ]
    },
    {
     "name": "stderr",
     "output_type": "stream",
     "text": [
      "/home/sergey/.conda/envs/kaggle/lib/python3.6/site-packages/xgboost/core.py:587: FutureWarning: Series.base is deprecated and will be removed in a future version\n",
      "  if getattr(data, 'base', None) is not None and \\\n"
     ]
    },
    {
     "name": "stdout",
     "output_type": "stream",
     "text": [
      "train score (mean_absolute_error): 1.5919\n",
      "train score (mean_squared_error): 4.2036\n",
      "validation score (mean_absolute_error): 2.0920\n",
      "validation score (mean_squared_error): 8.1348\n",
      "Percentage of data thrown out: 0.04769498105714336%\n",
      " --------------- fold #2 out of -------------------\n"
     ]
    },
    {
     "name": "stderr",
     "output_type": "stream",
     "text": [
      "/home/sergey/.conda/envs/kaggle/lib/python3.6/site-packages/xgboost/core.py:587: FutureWarning: Series.base is deprecated and will be removed in a future version\n",
      "  if getattr(data, 'base', None) is not None and \\\n"
     ]
    },
    {
     "name": "stdout",
     "output_type": "stream",
     "text": [
      "train score (mean_absolute_error): 1.5219\n",
      "train score (mean_squared_error): 4.0427\n",
      "validation score (mean_absolute_error): 2.4175\n",
      "validation score (mean_squared_error): 8.1840\n",
      "Percentage of data thrown out: 0.04769498105714336%\n",
      " --------------- fold #3 out of -------------------\n"
     ]
    },
    {
     "name": "stderr",
     "output_type": "stream",
     "text": [
      "/home/sergey/.conda/envs/kaggle/lib/python3.6/site-packages/xgboost/core.py:587: FutureWarning: Series.base is deprecated and will be removed in a future version\n",
      "  if getattr(data, 'base', None) is not None and \\\n"
     ]
    },
    {
     "name": "stdout",
     "output_type": "stream",
     "text": [
      "train score (mean_absolute_error): 1.5496\n",
      "train score (mean_squared_error): 4.0791\n",
      "validation score (mean_absolute_error): 1.3814\n",
      "validation score (mean_squared_error): 3.3012\n",
      "Percentage of data thrown out: 0.04769498105714336%\n",
      " --------------- fold #4 out of -------------------\n"
     ]
    },
    {
     "name": "stderr",
     "output_type": "stream",
     "text": [
      "/home/sergey/.conda/envs/kaggle/lib/python3.6/site-packages/xgboost/core.py:587: FutureWarning: Series.base is deprecated and will be removed in a future version\n",
      "  if getattr(data, 'base', None) is not None and \\\n"
     ]
    },
    {
     "name": "stdout",
     "output_type": "stream",
     "text": [
      "train score (mean_absolute_error): 1.5279\n",
      "train score (mean_squared_error): 3.9523\n",
      "validation score (mean_absolute_error): 2.8044\n",
      "validation score (mean_squared_error): 10.7534\n",
      "Percentage of data thrown out: 0.04769498105714336%\n",
      " --------------- fold #5 out of -------------------\n"
     ]
    },
    {
     "name": "stderr",
     "output_type": "stream",
     "text": [
      "/home/sergey/.conda/envs/kaggle/lib/python3.6/site-packages/xgboost/core.py:587: FutureWarning: Series.base is deprecated and will be removed in a future version\n",
      "  if getattr(data, 'base', None) is not None and \\\n"
     ]
    },
    {
     "name": "stdout",
     "output_type": "stream",
     "text": [
      "train score (mean_absolute_error): 1.5956\n",
      "train score (mean_squared_error): 4.2889\n",
      "validation score (mean_absolute_error): 1.2845\n",
      "validation score (mean_squared_error): 3.1208\n",
      "Percentage of data thrown out: 0.04769498105714336%\n",
      " --------------- fold #6 out of -------------------\n"
     ]
    },
    {
     "name": "stderr",
     "output_type": "stream",
     "text": [
      "/home/sergey/.conda/envs/kaggle/lib/python3.6/site-packages/xgboost/core.py:587: FutureWarning: Series.base is deprecated and will be removed in a future version\n",
      "  if getattr(data, 'base', None) is not None and \\\n"
     ]
    },
    {
     "name": "stdout",
     "output_type": "stream",
     "text": [
      "train score (mean_absolute_error): 1.5505\n",
      "train score (mean_squared_error): 4.0889\n",
      "validation score (mean_absolute_error): 1.9242\n",
      "validation score (mean_squared_error): 5.9377\n",
      "Percentage of data thrown out: 0.04769498105714336%\n",
      " --------------- fold #7 out of -------------------\n"
     ]
    },
    {
     "name": "stderr",
     "output_type": "stream",
     "text": [
      "/home/sergey/.conda/envs/kaggle/lib/python3.6/site-packages/xgboost/core.py:587: FutureWarning: Series.base is deprecated and will be removed in a future version\n",
      "  if getattr(data, 'base', None) is not None and \\\n"
     ]
    },
    {
     "name": "stdout",
     "output_type": "stream",
     "text": [
      "train score (mean_absolute_error): 1.6085\n",
      "train score (mean_squared_error): 4.2998\n",
      "validation score (mean_absolute_error): 1.6928\n",
      "validation score (mean_squared_error): 5.5381\n",
      "Percentage of data thrown out: 0.04769498105714336%\n",
      " --------------- fold #8 out of -------------------\n"
     ]
    },
    {
     "name": "stderr",
     "output_type": "stream",
     "text": [
      "/home/sergey/.conda/envs/kaggle/lib/python3.6/site-packages/xgboost/core.py:587: FutureWarning: Series.base is deprecated and will be removed in a future version\n",
      "  if getattr(data, 'base', None) is not None and \\\n"
     ]
    },
    {
     "name": "stdout",
     "output_type": "stream",
     "text": [
      "train score (mean_absolute_error): 1.4872\n",
      "train score (mean_squared_error): 3.8796\n",
      "validation score (mean_absolute_error): 2.6429\n",
      "validation score (mean_squared_error): 9.9128\n",
      "['data_fname' 'preproc_name' 'preproc_params' 'folds_name' 'folds_params'\n",
      " 'model_name' 'model_params' 'mean_absolute_error' 'mean_squared_error']\n",
      "                                          data_fname    preproc_name  \\\n",
      "0  ../../data/e_lexa/train_proceded_not_smooth_da...  StandardScaler   \n",
      "\n",
      "               preproc_params  folds_name  \\\n",
      "0  {'name': 'StandardScaler'}  CustomFold   \n",
      "\n",
      "                                        folds_params    model_name  \\\n",
      "0  {'name': 'CustomFold', 'n_splits': 9, 'pad': 1...  XGBRegressor   \n",
      "\n",
      "                                        model_params  \\\n",
      "0  {'name': 'XGBRegressor', 'eta': 0.001, 'max_de...   \n",
      "\n",
      "                                 mean_absolute_error  \\\n",
      "0  [1.585347551259761, 1.4818223263350196, 1.5918...   \n",
      "\n",
      "                                  mean_squared_error  \n",
      "0  [4.242968828261765, 3.795464385545372, 4.20360...  \n",
      ".......................Training finished.........................\n",
      "Run 92:\n",
      "....................... Training model ..............................\n",
      "Percentage of data thrown out: 0.04769498105714336%\n",
      " --------------- fold #0 out of -------------------\n"
     ]
    },
    {
     "name": "stderr",
     "output_type": "stream",
     "text": [
      "/home/sergey/.conda/envs/kaggle/lib/python3.6/site-packages/xgboost/core.py:587: FutureWarning: Series.base is deprecated and will be removed in a future version\n",
      "  if getattr(data, 'base', None) is not None and \\\n"
     ]
    },
    {
     "name": "stdout",
     "output_type": "stream",
     "text": [
      "train score (mean_absolute_error): 1.5904\n",
      "train score (mean_squared_error): 4.3208\n",
      "validation score (mean_absolute_error): 1.3347\n",
      "validation score (mean_squared_error): 3.2595\n",
      "Percentage of data thrown out: 0.04769498105714336%\n",
      " --------------- fold #1 out of -------------------\n"
     ]
    },
    {
     "name": "stderr",
     "output_type": "stream",
     "text": [
      "/home/sergey/.conda/envs/kaggle/lib/python3.6/site-packages/xgboost/core.py:587: FutureWarning: Series.base is deprecated and will be removed in a future version\n",
      "  if getattr(data, 'base', None) is not None and \\\n"
     ]
    },
    {
     "name": "stdout",
     "output_type": "stream",
     "text": [
      "train score (mean_absolute_error): 1.5923\n",
      "train score (mean_squared_error): 4.2267\n",
      "validation score (mean_absolute_error): 1.5425\n",
      "validation score (mean_squared_error): 4.3837\n",
      "Percentage of data thrown out: 0.04769498105714336%\n",
      " --------------- fold #2 out of -------------------\n"
     ]
    },
    {
     "name": "stderr",
     "output_type": "stream",
     "text": [
      "/home/sergey/.conda/envs/kaggle/lib/python3.6/site-packages/xgboost/core.py:587: FutureWarning: Series.base is deprecated and will be removed in a future version\n",
      "  if getattr(data, 'base', None) is not None and \\\n"
     ]
    },
    {
     "name": "stdout",
     "output_type": "stream",
     "text": [
      "train score (mean_absolute_error): 1.3639\n",
      "train score (mean_squared_error): 3.2079\n",
      "validation score (mean_absolute_error): 3.9637\n",
      "validation score (mean_squared_error): 23.4406\n",
      "Percentage of data thrown out: 0.04769498105714336%\n",
      " --------------- fold #3 out of -------------------\n"
     ]
    },
    {
     "name": "stderr",
     "output_type": "stream",
     "text": [
      "/home/sergey/.conda/envs/kaggle/lib/python3.6/site-packages/xgboost/core.py:587: FutureWarning: Series.base is deprecated and will be removed in a future version\n",
      "  if getattr(data, 'base', None) is not None and \\\n"
     ]
    },
    {
     "name": "stdout",
     "output_type": "stream",
     "text": [
      "train score (mean_absolute_error): 1.5065\n",
      "train score (mean_squared_error): 4.0163\n",
      "validation score (mean_absolute_error): 2.1530\n",
      "validation score (mean_squared_error): 7.6264\n",
      "Percentage of data thrown out: 0.04769498105714336%\n",
      " --------------- fold #4 out of -------------------\n"
     ]
    },
    {
     "name": "stderr",
     "output_type": "stream",
     "text": [
      "/home/sergey/.conda/envs/kaggle/lib/python3.6/site-packages/xgboost/core.py:587: FutureWarning: Series.base is deprecated and will be removed in a future version\n",
      "  if getattr(data, 'base', None) is not None and \\\n"
     ]
    },
    {
     "name": "stdout",
     "output_type": "stream",
     "text": [
      "train score (mean_absolute_error): 1.4718\n",
      "train score (mean_squared_error): 3.7549\n",
      "validation score (mean_absolute_error): 3.5272\n",
      "validation score (mean_squared_error): 17.3499\n",
      "Percentage of data thrown out: 0.04769498105714336%\n",
      " --------------- fold #5 out of -------------------\n"
     ]
    },
    {
     "name": "stderr",
     "output_type": "stream",
     "text": [
      "/home/sergey/.conda/envs/kaggle/lib/python3.6/site-packages/xgboost/core.py:587: FutureWarning: Series.base is deprecated and will be removed in a future version\n",
      "  if getattr(data, 'base', None) is not None and \\\n"
     ]
    },
    {
     "name": "stdout",
     "output_type": "stream",
     "text": [
      "train score (mean_absolute_error): 1.4437\n",
      "train score (mean_squared_error): 3.5871\n",
      "validation score (mean_absolute_error): 3.7416\n",
      "validation score (mean_squared_error): 19.1743\n",
      "Percentage of data thrown out: 0.02384749052857168%\n",
      " --------------- fold #6 out of -------------------\n"
     ]
    },
    {
     "name": "stderr",
     "output_type": "stream",
     "text": [
      "/home/sergey/.conda/envs/kaggle/lib/python3.6/site-packages/xgboost/core.py:587: FutureWarning: Series.base is deprecated and will be removed in a future version\n",
      "  if getattr(data, 'base', None) is not None and \\\n"
     ]
    },
    {
     "name": "stdout",
     "output_type": "stream",
     "text": [
      "train score (mean_absolute_error): 1.5722\n",
      "train score (mean_squared_error): 4.1776\n",
      "validation score (mean_absolute_error): 2.1279\n",
      "validation score (mean_squared_error): 5.5758\n",
      "Percentage of data thrown out: 0.04769498105714336%\n",
      " --------------- fold #7 out of -------------------\n"
     ]
    },
    {
     "name": "stderr",
     "output_type": "stream",
     "text": [
      "/home/sergey/.conda/envs/kaggle/lib/python3.6/site-packages/xgboost/core.py:587: FutureWarning: Series.base is deprecated and will be removed in a future version\n",
      "  if getattr(data, 'base', None) is not None and \\\n"
     ]
    },
    {
     "name": "stdout",
     "output_type": "stream",
     "text": [
      "train score (mean_absolute_error): 1.3551\n",
      "train score (mean_squared_error): 3.2221\n",
      "validation score (mean_absolute_error): 4.0251\n",
      "validation score (mean_squared_error): 24.3092\n",
      "Percentage of data thrown out: 0.04769498105714336%\n",
      " --------------- fold #8 out of -------------------\n"
     ]
    },
    {
     "name": "stderr",
     "output_type": "stream",
     "text": [
      "/home/sergey/.conda/envs/kaggle/lib/python3.6/site-packages/xgboost/core.py:587: FutureWarning: Series.base is deprecated and will be removed in a future version\n",
      "  if getattr(data, 'base', None) is not None and \\\n"
     ]
    },
    {
     "name": "stdout",
     "output_type": "stream",
     "text": [
      "train score (mean_absolute_error): 1.5593\n",
      "train score (mean_squared_error): 4.2022\n",
      "validation score (mean_absolute_error): 2.1395\n",
      "validation score (mean_squared_error): 7.0929\n",
      "['data_fname' 'preproc_name' 'preproc_params' 'folds_name' 'folds_params'\n",
      " 'model_name' 'model_params' 'mean_absolute_error' 'mean_squared_error']\n",
      "                                          data_fname    preproc_name  \\\n",
      "0  ../../data/e_lexa/train_proceded_not_smooth_da...  StandardScaler   \n",
      "\n",
      "               preproc_params  folds_name  \\\n",
      "0  {'name': 'StandardScaler'}  CustomFold   \n",
      "\n",
      "                                        folds_params    model_name  \\\n",
      "0  {'name': 'CustomFold', 'n_splits': 9, 'pad': 1...  XGBRegressor   \n",
      "\n",
      "                                        model_params  \\\n",
      "0  {'name': 'XGBRegressor', 'eta': 0.001, 'max_de...   \n",
      "\n",
      "                                 mean_absolute_error  \\\n",
      "0  [1.5903715021405322, 1.3346833497953094, 1.592...   \n",
      "\n",
      "                                  mean_squared_error  \n",
      "0  [4.3207880765079025, 3.259529747552416, 4.2266...  \n",
      ".......................Training finished.........................\n",
      "Run 93:\n",
      "....................... Training model ..............................\n",
      "Percentage of data thrown out: 0.04769498105714336%\n",
      " --------------- fold #0 out of -------------------\n"
     ]
    },
    {
     "name": "stderr",
     "output_type": "stream",
     "text": [
      "/home/sergey/.conda/envs/kaggle/lib/python3.6/site-packages/xgboost/core.py:587: FutureWarning: Series.base is deprecated and will be removed in a future version\n",
      "  if getattr(data, 'base', None) is not None and \\\n"
     ]
    },
    {
     "name": "stdout",
     "output_type": "stream",
     "text": [
      "train score (mean_absolute_error): 1.4600\n",
      "train score (mean_squared_error): 3.6612\n",
      "validation score (mean_absolute_error): 3.1026\n",
      "validation score (mean_squared_error): 13.2046\n",
      "Percentage of data thrown out: 0.04769498105714336%\n",
      " --------------- fold #1 out of -------------------\n"
     ]
    },
    {
     "name": "stderr",
     "output_type": "stream",
     "text": [
      "/home/sergey/.conda/envs/kaggle/lib/python3.6/site-packages/xgboost/core.py:587: FutureWarning: Series.base is deprecated and will be removed in a future version\n",
      "  if getattr(data, 'base', None) is not None and \\\n"
     ]
    },
    {
     "name": "stdout",
     "output_type": "stream",
     "text": [
      "train score (mean_absolute_error): 1.4864\n",
      "train score (mean_squared_error): 3.8022\n",
      "validation score (mean_absolute_error): 3.4551\n",
      "validation score (mean_squared_error): 15.6870\n",
      "Percentage of data thrown out: 0.04769498105714336%\n",
      " --------------- fold #2 out of -------------------\n"
     ]
    },
    {
     "name": "stderr",
     "output_type": "stream",
     "text": [
      "/home/sergey/.conda/envs/kaggle/lib/python3.6/site-packages/xgboost/core.py:587: FutureWarning: Series.base is deprecated and will be removed in a future version\n",
      "  if getattr(data, 'base', None) is not None and \\\n"
     ]
    },
    {
     "name": "stdout",
     "output_type": "stream",
     "text": [
      "train score (mean_absolute_error): 1.5687\n",
      "train score (mean_squared_error): 4.1812\n",
      "validation score (mean_absolute_error): 2.0188\n",
      "validation score (mean_squared_error): 6.3287\n",
      "Percentage of data thrown out: 0.04769498105714336%\n",
      " --------------- fold #3 out of -------------------\n"
     ]
    },
    {
     "name": "stderr",
     "output_type": "stream",
     "text": [
      "/home/sergey/.conda/envs/kaggle/lib/python3.6/site-packages/xgboost/core.py:587: FutureWarning: Series.base is deprecated and will be removed in a future version\n",
      "  if getattr(data, 'base', None) is not None and \\\n"
     ]
    },
    {
     "name": "stdout",
     "output_type": "stream",
     "text": [
      "train score (mean_absolute_error): 1.5628\n",
      "train score (mean_squared_error): 4.1282\n",
      "validation score (mean_absolute_error): 1.5120\n",
      "validation score (mean_squared_error): 3.8838\n",
      "Percentage of data thrown out: 0.02384749052857168%\n",
      " --------------- fold #4 out of -------------------\n"
     ]
    },
    {
     "name": "stderr",
     "output_type": "stream",
     "text": [
      "/home/sergey/.conda/envs/kaggle/lib/python3.6/site-packages/xgboost/core.py:587: FutureWarning: Series.base is deprecated and will be removed in a future version\n",
      "  if getattr(data, 'base', None) is not None and \\\n"
     ]
    },
    {
     "name": "stdout",
     "output_type": "stream",
     "text": [
      "train score (mean_absolute_error): 1.6135\n",
      "train score (mean_squared_error): 4.3121\n",
      "validation score (mean_absolute_error): 2.0743\n",
      "validation score (mean_squared_error): 8.2684\n",
      "Percentage of data thrown out: 0.04769498105714336%\n",
      " --------------- fold #5 out of -------------------\n"
     ]
    },
    {
     "name": "stderr",
     "output_type": "stream",
     "text": [
      "/home/sergey/.conda/envs/kaggle/lib/python3.6/site-packages/xgboost/core.py:587: FutureWarning: Series.base is deprecated and will be removed in a future version\n",
      "  if getattr(data, 'base', None) is not None and \\\n"
     ]
    },
    {
     "name": "stdout",
     "output_type": "stream",
     "text": [
      "train score (mean_absolute_error): 1.5396\n",
      "train score (mean_squared_error): 4.0409\n",
      "validation score (mean_absolute_error): 2.0253\n",
      "validation score (mean_squared_error): 6.4133\n",
      "Percentage of data thrown out: 0.04769498105714336%\n",
      " --------------- fold #6 out of -------------------\n"
     ]
    },
    {
     "name": "stderr",
     "output_type": "stream",
     "text": [
      "/home/sergey/.conda/envs/kaggle/lib/python3.6/site-packages/xgboost/core.py:587: FutureWarning: Series.base is deprecated and will be removed in a future version\n",
      "  if getattr(data, 'base', None) is not None and \\\n"
     ]
    },
    {
     "name": "stdout",
     "output_type": "stream",
     "text": [
      "train score (mean_absolute_error): 1.4669\n",
      "train score (mean_squared_error): 3.6935\n",
      "validation score (mean_absolute_error): 2.9352\n",
      "validation score (mean_squared_error): 12.6015\n",
      "Percentage of data thrown out: 0.04769498105714336%\n",
      " --------------- fold #7 out of -------------------\n"
     ]
    },
    {
     "name": "stderr",
     "output_type": "stream",
     "text": [
      "/home/sergey/.conda/envs/kaggle/lib/python3.6/site-packages/xgboost/core.py:587: FutureWarning: Series.base is deprecated and will be removed in a future version\n",
      "  if getattr(data, 'base', None) is not None and \\\n"
     ]
    },
    {
     "name": "stdout",
     "output_type": "stream",
     "text": [
      "train score (mean_absolute_error): 1.5422\n",
      "train score (mean_squared_error): 4.0677\n",
      "validation score (mean_absolute_error): 1.5623\n",
      "validation score (mean_squared_error): 4.0297\n",
      "Percentage of data thrown out: 0.04769498105714336%\n",
      " --------------- fold #8 out of -------------------\n"
     ]
    },
    {
     "name": "stderr",
     "output_type": "stream",
     "text": [
      "/home/sergey/.conda/envs/kaggle/lib/python3.6/site-packages/xgboost/core.py:587: FutureWarning: Series.base is deprecated and will be removed in a future version\n",
      "  if getattr(data, 'base', None) is not None and \\\n"
     ]
    },
    {
     "name": "stdout",
     "output_type": "stream",
     "text": [
      "train score (mean_absolute_error): 1.5587\n",
      "train score (mean_squared_error): 4.1705\n",
      "validation score (mean_absolute_error): 1.6719\n",
      "validation score (mean_squared_error): 4.3207\n",
      "['data_fname' 'preproc_name' 'preproc_params' 'folds_name' 'folds_params'\n",
      " 'model_name' 'model_params' 'mean_absolute_error' 'mean_squared_error']\n",
      "                                          data_fname    preproc_name  \\\n",
      "0  ../../data/e_lexa/train_proceded_not_smooth_da...  StandardScaler   \n",
      "\n",
      "               preproc_params  folds_name  \\\n",
      "0  {'name': 'StandardScaler'}  CustomFold   \n",
      "\n",
      "                                        folds_params    model_name  \\\n",
      "0  {'name': 'CustomFold', 'n_splits': 9, 'pad': 1...  XGBRegressor   \n",
      "\n",
      "                                        model_params  \\\n",
      "0  {'name': 'XGBRegressor', 'eta': 0.001, 'max_de...   \n",
      "\n",
      "                                 mean_absolute_error  \\\n",
      "0  [1.4599624189914047, 3.1025973177518837, 1.486...   \n",
      "\n",
      "                                  mean_squared_error  \n",
      "0  [3.6612054611328166, 13.204630712399947, 3.802...  \n",
      ".......................Training finished.........................\n",
      "Run 94:\n",
      "....................... Training model ..............................\n",
      "Percentage of data thrown out: 0.04769498105714336%\n",
      " --------------- fold #0 out of -------------------\n"
     ]
    },
    {
     "name": "stderr",
     "output_type": "stream",
     "text": [
      "/home/sergey/.conda/envs/kaggle/lib/python3.6/site-packages/xgboost/core.py:587: FutureWarning: Series.base is deprecated and will be removed in a future version\n",
      "  if getattr(data, 'base', None) is not None and \\\n"
     ]
    },
    {
     "name": "stdout",
     "output_type": "stream",
     "text": [
      "train score (mean_absolute_error): 1.5690\n",
      "train score (mean_squared_error): 4.1711\n",
      "validation score (mean_absolute_error): 1.3782\n",
      "validation score (mean_squared_error): 3.3322\n",
      "Percentage of data thrown out: 0.04769498105714336%\n",
      " --------------- fold #1 out of -------------------\n"
     ]
    },
    {
     "name": "stderr",
     "output_type": "stream",
     "text": [
      "/home/sergey/.conda/envs/kaggle/lib/python3.6/site-packages/xgboost/core.py:587: FutureWarning: Series.base is deprecated and will be removed in a future version\n",
      "  if getattr(data, 'base', None) is not None and \\\n"
     ]
    },
    {
     "name": "stdout",
     "output_type": "stream",
     "text": [
      "train score (mean_absolute_error): 1.4903\n",
      "train score (mean_squared_error): 3.9323\n",
      "validation score (mean_absolute_error): 2.1048\n",
      "validation score (mean_squared_error): 7.3414\n",
      "Percentage of data thrown out: 0.04769498105714336%\n",
      " --------------- fold #2 out of -------------------\n"
     ]
    },
    {
     "name": "stderr",
     "output_type": "stream",
     "text": [
      "/home/sergey/.conda/envs/kaggle/lib/python3.6/site-packages/xgboost/core.py:587: FutureWarning: Series.base is deprecated and will be removed in a future version\n",
      "  if getattr(data, 'base', None) is not None and \\\n"
     ]
    },
    {
     "name": "stdout",
     "output_type": "stream",
     "text": [
      "train score (mean_absolute_error): 1.3809\n",
      "train score (mean_squared_error): 3.3443\n",
      "validation score (mean_absolute_error): 4.1104\n",
      "validation score (mean_squared_error): 25.5728\n",
      "Percentage of data thrown out: 0.04769498105714336%\n",
      " --------------- fold #3 out of -------------------\n"
     ]
    },
    {
     "name": "stderr",
     "output_type": "stream",
     "text": [
      "/home/sergey/.conda/envs/kaggle/lib/python3.6/site-packages/xgboost/core.py:587: FutureWarning: Series.base is deprecated and will be removed in a future version\n",
      "  if getattr(data, 'base', None) is not None and \\\n"
     ]
    },
    {
     "name": "stdout",
     "output_type": "stream",
     "text": [
      "train score (mean_absolute_error): 1.4922\n",
      "train score (mean_squared_error): 3.8558\n",
      "validation score (mean_absolute_error): 2.8814\n",
      "validation score (mean_squared_error): 12.2780\n",
      "Percentage of data thrown out: 0.04769498105714336%\n",
      " --------------- fold #4 out of -------------------\n"
     ]
    },
    {
     "name": "stderr",
     "output_type": "stream",
     "text": [
      "/home/sergey/.conda/envs/kaggle/lib/python3.6/site-packages/xgboost/core.py:587: FutureWarning: Series.base is deprecated and will be removed in a future version\n",
      "  if getattr(data, 'base', None) is not None and \\\n"
     ]
    },
    {
     "name": "stdout",
     "output_type": "stream",
     "text": [
      "train score (mean_absolute_error): 1.4932\n",
      "train score (mean_squared_error): 3.9278\n",
      "validation score (mean_absolute_error): 2.2876\n",
      "validation score (mean_squared_error): 8.0588\n",
      "Percentage of data thrown out: 0.04769498105714336%\n",
      " --------------- fold #5 out of -------------------\n"
     ]
    },
    {
     "name": "stderr",
     "output_type": "stream",
     "text": [
      "/home/sergey/.conda/envs/kaggle/lib/python3.6/site-packages/xgboost/core.py:587: FutureWarning: Series.base is deprecated and will be removed in a future version\n",
      "  if getattr(data, 'base', None) is not None and \\\n"
     ]
    },
    {
     "name": "stdout",
     "output_type": "stream",
     "text": [
      "train score (mean_absolute_error): 1.4428\n",
      "train score (mean_squared_error): 3.6151\n",
      "validation score (mean_absolute_error): 2.9601\n",
      "validation score (mean_squared_error): 12.2132\n",
      "Percentage of data thrown out: 0.04769498105714336%\n",
      " --------------- fold #6 out of -------------------\n"
     ]
    },
    {
     "name": "stderr",
     "output_type": "stream",
     "text": [
      "/home/sergey/.conda/envs/kaggle/lib/python3.6/site-packages/xgboost/core.py:587: FutureWarning: Series.base is deprecated and will be removed in a future version\n",
      "  if getattr(data, 'base', None) is not None and \\\n"
     ]
    },
    {
     "name": "stdout",
     "output_type": "stream",
     "text": [
      "train score (mean_absolute_error): 1.4878\n",
      "train score (mean_squared_error): 3.8368\n",
      "validation score (mean_absolute_error): 3.0735\n",
      "validation score (mean_squared_error): 13.1278\n",
      "Percentage of data thrown out: 0.02384749052857168%\n",
      " --------------- fold #7 out of -------------------\n"
     ]
    },
    {
     "name": "stderr",
     "output_type": "stream",
     "text": [
      "/home/sergey/.conda/envs/kaggle/lib/python3.6/site-packages/xgboost/core.py:587: FutureWarning: Series.base is deprecated and will be removed in a future version\n",
      "  if getattr(data, 'base', None) is not None and \\\n"
     ]
    },
    {
     "name": "stdout",
     "output_type": "stream",
     "text": [
      "train score (mean_absolute_error): 1.5885\n",
      "train score (mean_squared_error): 4.2123\n",
      "validation score (mean_absolute_error): 1.7701\n",
      "validation score (mean_squared_error): 4.9732\n",
      "Percentage of data thrown out: 0.04769498105714336%\n",
      " --------------- fold #8 out of -------------------\n"
     ]
    },
    {
     "name": "stderr",
     "output_type": "stream",
     "text": [
      "/home/sergey/.conda/envs/kaggle/lib/python3.6/site-packages/xgboost/core.py:587: FutureWarning: Series.base is deprecated and will be removed in a future version\n",
      "  if getattr(data, 'base', None) is not None and \\\n"
     ]
    },
    {
     "name": "stdout",
     "output_type": "stream",
     "text": [
      "train score (mean_absolute_error): 1.5348\n",
      "train score (mean_squared_error): 4.1011\n",
      "validation score (mean_absolute_error): 1.9465\n",
      "validation score (mean_squared_error): 6.4002\n",
      "['data_fname' 'preproc_name' 'preproc_params' 'folds_name' 'folds_params'\n",
      " 'model_name' 'model_params' 'mean_absolute_error' 'mean_squared_error']\n",
      "                                          data_fname    preproc_name  \\\n",
      "0  ../../data/e_lexa/train_proceded_not_smooth_da...  StandardScaler   \n",
      "\n",
      "               preproc_params  folds_name  \\\n",
      "0  {'name': 'StandardScaler'}  CustomFold   \n",
      "\n",
      "                                        folds_params    model_name  \\\n",
      "0  {'name': 'CustomFold', 'n_splits': 9, 'pad': 1...  XGBRegressor   \n",
      "\n",
      "                                        model_params  \\\n",
      "0  {'name': 'XGBRegressor', 'eta': 0.001, 'max_de...   \n",
      "\n",
      "                                 mean_absolute_error  \\\n",
      "0  [1.5689761226465926, 1.378238178860861, 1.4902...   \n",
      "\n",
      "                                  mean_squared_error  \n",
      "0  [4.171098176686431, 3.3321672960222903, 3.9322...  \n",
      ".......................Training finished.........................\n",
      "Run 95:\n",
      "....................... Training model ..............................\n",
      "Percentage of data thrown out: 0.04769498105714336%\n",
      " --------------- fold #0 out of -------------------\n"
     ]
    },
    {
     "name": "stderr",
     "output_type": "stream",
     "text": [
      "/home/sergey/.conda/envs/kaggle/lib/python3.6/site-packages/xgboost/core.py:587: FutureWarning: Series.base is deprecated and will be removed in a future version\n",
      "  if getattr(data, 'base', None) is not None and \\\n"
     ]
    },
    {
     "name": "stdout",
     "output_type": "stream",
     "text": [
      "train score (mean_absolute_error): 1.4623\n",
      "train score (mean_squared_error): 3.7619\n",
      "validation score (mean_absolute_error): 2.5767\n",
      "validation score (mean_squared_error): 10.0540\n",
      "Percentage of data thrown out: 0.04769498105714336%\n",
      " --------------- fold #1 out of -------------------\n"
     ]
    },
    {
     "name": "stderr",
     "output_type": "stream",
     "text": [
      "/home/sergey/.conda/envs/kaggle/lib/python3.6/site-packages/xgboost/core.py:587: FutureWarning: Series.base is deprecated and will be removed in a future version\n",
      "  if getattr(data, 'base', None) is not None and \\\n"
     ]
    },
    {
     "name": "stdout",
     "output_type": "stream",
     "text": [
      "train score (mean_absolute_error): 1.3774\n",
      "train score (mean_squared_error): 3.2519\n",
      "validation score (mean_absolute_error): 4.0106\n",
      "validation score (mean_squared_error): 23.9415\n",
      "Percentage of data thrown out: 0.02384749052857168%\n",
      " --------------- fold #2 out of -------------------\n"
     ]
    },
    {
     "name": "stderr",
     "output_type": "stream",
     "text": [
      "/home/sergey/.conda/envs/kaggle/lib/python3.6/site-packages/xgboost/core.py:587: FutureWarning: Series.base is deprecated and will be removed in a future version\n",
      "  if getattr(data, 'base', None) is not None and \\\n"
     ]
    },
    {
     "name": "stdout",
     "output_type": "stream",
     "text": [
      "train score (mean_absolute_error): 1.6189\n",
      "train score (mean_squared_error): 4.6866\n",
      "validation score (mean_absolute_error): 1.0222\n",
      "validation score (mean_squared_error): 1.2144\n",
      "Percentage of data thrown out: 0.04769498105714336%\n",
      " --------------- fold #3 out of -------------------\n"
     ]
    },
    {
     "name": "stderr",
     "output_type": "stream",
     "text": [
      "/home/sergey/.conda/envs/kaggle/lib/python3.6/site-packages/xgboost/core.py:587: FutureWarning: Series.base is deprecated and will be removed in a future version\n",
      "  if getattr(data, 'base', None) is not None and \\\n"
     ]
    },
    {
     "name": "stdout",
     "output_type": "stream",
     "text": [
      "train score (mean_absolute_error): 1.3852\n",
      "train score (mean_squared_error): 3.2645\n",
      "validation score (mean_absolute_error): 3.9280\n",
      "validation score (mean_squared_error): 22.6603\n",
      "Percentage of data thrown out: 0.04769498105714336%\n",
      " --------------- fold #4 out of -------------------\n"
     ]
    },
    {
     "name": "stderr",
     "output_type": "stream",
     "text": [
      "/home/sergey/.conda/envs/kaggle/lib/python3.6/site-packages/xgboost/core.py:587: FutureWarning: Series.base is deprecated and will be removed in a future version\n",
      "  if getattr(data, 'base', None) is not None and \\\n"
     ]
    },
    {
     "name": "stdout",
     "output_type": "stream",
     "text": [
      "train score (mean_absolute_error): 1.5652\n",
      "train score (mean_squared_error): 4.2242\n",
      "validation score (mean_absolute_error): 1.6418\n",
      "validation score (mean_squared_error): 4.2390\n",
      "Percentage of data thrown out: 0.04769498105714336%\n",
      " --------------- fold #5 out of -------------------\n"
     ]
    },
    {
     "name": "stderr",
     "output_type": "stream",
     "text": [
      "/home/sergey/.conda/envs/kaggle/lib/python3.6/site-packages/xgboost/core.py:587: FutureWarning: Series.base is deprecated and will be removed in a future version\n",
      "  if getattr(data, 'base', None) is not None and \\\n"
     ]
    },
    {
     "name": "stdout",
     "output_type": "stream",
     "text": [
      "train score (mean_absolute_error): 1.4700\n",
      "train score (mean_squared_error): 3.7940\n",
      "validation score (mean_absolute_error): 2.5034\n",
      "validation score (mean_squared_error): 10.6543\n",
      "Percentage of data thrown out: 0.04769498105714336%\n",
      " --------------- fold #6 out of -------------------\n"
     ]
    },
    {
     "name": "stderr",
     "output_type": "stream",
     "text": [
      "/home/sergey/.conda/envs/kaggle/lib/python3.6/site-packages/xgboost/core.py:587: FutureWarning: Series.base is deprecated and will be removed in a future version\n",
      "  if getattr(data, 'base', None) is not None and \\\n"
     ]
    },
    {
     "name": "stdout",
     "output_type": "stream",
     "text": [
      "train score (mean_absolute_error): 1.4845\n",
      "train score (mean_squared_error): 3.8341\n",
      "validation score (mean_absolute_error): 2.7681\n",
      "validation score (mean_squared_error): 11.2357\n",
      "Percentage of data thrown out: 0.04769498105714336%\n",
      " --------------- fold #7 out of -------------------\n"
     ]
    },
    {
     "name": "stderr",
     "output_type": "stream",
     "text": [
      "/home/sergey/.conda/envs/kaggle/lib/python3.6/site-packages/xgboost/core.py:587: FutureWarning: Series.base is deprecated and will be removed in a future version\n",
      "  if getattr(data, 'base', None) is not None and \\\n"
     ]
    },
    {
     "name": "stdout",
     "output_type": "stream",
     "text": [
      "train score (mean_absolute_error): 1.5908\n",
      "train score (mean_squared_error): 4.2493\n",
      "validation score (mean_absolute_error): 2.0353\n",
      "validation score (mean_squared_error): 6.8683\n",
      "Percentage of data thrown out: 0.04769498105714336%\n",
      " --------------- fold #8 out of -------------------\n"
     ]
    },
    {
     "name": "stderr",
     "output_type": "stream",
     "text": [
      "/home/sergey/.conda/envs/kaggle/lib/python3.6/site-packages/xgboost/core.py:587: FutureWarning: Series.base is deprecated and will be removed in a future version\n",
      "  if getattr(data, 'base', None) is not None and \\\n"
     ]
    },
    {
     "name": "stdout",
     "output_type": "stream",
     "text": [
      "train score (mean_absolute_error): 1.5729\n",
      "train score (mean_squared_error): 4.2156\n",
      "validation score (mean_absolute_error): 1.9950\n",
      "validation score (mean_squared_error): 6.4327\n",
      "['data_fname' 'preproc_name' 'preproc_params' 'folds_name' 'folds_params'\n",
      " 'model_name' 'model_params' 'mean_absolute_error' 'mean_squared_error']\n",
      "                                          data_fname    preproc_name  \\\n",
      "0  ../../data/e_lexa/train_proceded_not_smooth_da...  StandardScaler   \n",
      "\n",
      "               preproc_params  folds_name  \\\n",
      "0  {'name': 'StandardScaler'}  CustomFold   \n",
      "\n",
      "                                        folds_params    model_name  \\\n",
      "0  {'name': 'CustomFold', 'n_splits': 9, 'pad': 1...  XGBRegressor   \n",
      "\n",
      "                                        model_params  \\\n",
      "0  {'name': 'XGBRegressor', 'eta': 0.001, 'max_de...   \n",
      "\n",
      "                                 mean_absolute_error  \\\n",
      "0  [1.4623396845466412, 2.5766858372739456, 1.377...   \n",
      "\n",
      "                                  mean_squared_error  \n",
      "0  [3.7619388647248813, 10.05402978287171, 3.2518...  \n",
      ".......................Training finished.........................\n",
      "Run 96:\n",
      "....................... Training model ..............................\n",
      "Percentage of data thrown out: 0.04769498105714336%\n",
      " --------------- fold #0 out of -------------------\n"
     ]
    },
    {
     "name": "stderr",
     "output_type": "stream",
     "text": [
      "/home/sergey/.conda/envs/kaggle/lib/python3.6/site-packages/xgboost/core.py:587: FutureWarning: Series.base is deprecated and will be removed in a future version\n",
      "  if getattr(data, 'base', None) is not None and \\\n"
     ]
    },
    {
     "name": "stdout",
     "output_type": "stream",
     "text": [
      "train score (mean_absolute_error): 1.4625\n",
      "train score (mean_squared_error): 3.7491\n",
      "validation score (mean_absolute_error): 3.5165\n",
      "validation score (mean_squared_error): 16.8591\n",
      "Percentage of data thrown out: 0.04769498105714336%\n",
      " --------------- fold #1 out of -------------------\n"
     ]
    },
    {
     "name": "stderr",
     "output_type": "stream",
     "text": [
      "/home/sergey/.conda/envs/kaggle/lib/python3.6/site-packages/xgboost/core.py:587: FutureWarning: Series.base is deprecated and will be removed in a future version\n",
      "  if getattr(data, 'base', None) is not None and \\\n"
     ]
    },
    {
     "name": "stdout",
     "output_type": "stream",
     "text": [
      "train score (mean_absolute_error): 1.5299\n",
      "train score (mean_squared_error): 4.0950\n",
      "validation score (mean_absolute_error): 1.9945\n",
      "validation score (mean_squared_error): 6.5748\n",
      "Percentage of data thrown out: 0.04769498105714336%\n",
      " --------------- fold #2 out of -------------------\n"
     ]
    },
    {
     "name": "stderr",
     "output_type": "stream",
     "text": [
      "/home/sergey/.conda/envs/kaggle/lib/python3.6/site-packages/xgboost/core.py:587: FutureWarning: Series.base is deprecated and will be removed in a future version\n",
      "  if getattr(data, 'base', None) is not None and \\\n"
     ]
    },
    {
     "name": "stdout",
     "output_type": "stream",
     "text": [
      "train score (mean_absolute_error): 1.5651\n",
      "train score (mean_squared_error): 4.2279\n",
      "validation score (mean_absolute_error): 2.0793\n",
      "validation score (mean_squared_error): 6.3245\n",
      "Percentage of data thrown out: 0.04769498105714336%\n",
      " --------------- fold #3 out of -------------------\n"
     ]
    },
    {
     "name": "stderr",
     "output_type": "stream",
     "text": [
      "/home/sergey/.conda/envs/kaggle/lib/python3.6/site-packages/xgboost/core.py:587: FutureWarning: Series.base is deprecated and will be removed in a future version\n",
      "  if getattr(data, 'base', None) is not None and \\\n"
     ]
    },
    {
     "name": "stdout",
     "output_type": "stream",
     "text": [
      "train score (mean_absolute_error): 1.5844\n",
      "train score (mean_squared_error): 4.2323\n",
      "validation score (mean_absolute_error): 1.3078\n",
      "validation score (mean_squared_error): 3.2977\n",
      "Percentage of data thrown out: 0.02384749052857168%\n",
      " --------------- fold #4 out of -------------------\n"
     ]
    },
    {
     "name": "stderr",
     "output_type": "stream",
     "text": [
      "/home/sergey/.conda/envs/kaggle/lib/python3.6/site-packages/xgboost/core.py:587: FutureWarning: Series.base is deprecated and will be removed in a future version\n",
      "  if getattr(data, 'base', None) is not None and \\\n"
     ]
    },
    {
     "name": "stdout",
     "output_type": "stream",
     "text": [
      "train score (mean_absolute_error): 1.5548\n",
      "train score (mean_squared_error): 4.0644\n",
      "validation score (mean_absolute_error): 2.1878\n",
      "validation score (mean_squared_error): 8.7919\n",
      "Percentage of data thrown out: 0.04769498105714336%\n",
      " --------------- fold #5 out of -------------------\n"
     ]
    },
    {
     "name": "stderr",
     "output_type": "stream",
     "text": [
      "/home/sergey/.conda/envs/kaggle/lib/python3.6/site-packages/xgboost/core.py:587: FutureWarning: Series.base is deprecated and will be removed in a future version\n",
      "  if getattr(data, 'base', None) is not None and \\\n"
     ]
    },
    {
     "name": "stdout",
     "output_type": "stream",
     "text": [
      "train score (mean_absolute_error): 1.5955\n",
      "train score (mean_squared_error): 4.2740\n",
      "validation score (mean_absolute_error): 1.3091\n",
      "validation score (mean_squared_error): 3.3179\n",
      "Percentage of data thrown out: 0.04769498105714336%\n",
      " --------------- fold #6 out of -------------------\n"
     ]
    },
    {
     "name": "stderr",
     "output_type": "stream",
     "text": [
      "/home/sergey/.conda/envs/kaggle/lib/python3.6/site-packages/xgboost/core.py:587: FutureWarning: Series.base is deprecated and will be removed in a future version\n",
      "  if getattr(data, 'base', None) is not None and \\\n"
     ]
    },
    {
     "name": "stdout",
     "output_type": "stream",
     "text": [
      "train score (mean_absolute_error): 1.5542\n",
      "train score (mean_squared_error): 4.0787\n",
      "validation score (mean_absolute_error): 2.6704\n",
      "validation score (mean_squared_error): 11.4981\n",
      "Percentage of data thrown out: 0.04769498105714336%\n",
      " --------------- fold #7 out of -------------------\n"
     ]
    },
    {
     "name": "stderr",
     "output_type": "stream",
     "text": [
      "/home/sergey/.conda/envs/kaggle/lib/python3.6/site-packages/xgboost/core.py:587: FutureWarning: Series.base is deprecated and will be removed in a future version\n",
      "  if getattr(data, 'base', None) is not None and \\\n"
     ]
    },
    {
     "name": "stdout",
     "output_type": "stream",
     "text": [
      "train score (mean_absolute_error): 1.5212\n",
      "train score (mean_squared_error): 3.9513\n",
      "validation score (mean_absolute_error): 2.1249\n",
      "validation score (mean_squared_error): 7.1179\n",
      "Percentage of data thrown out: 0.04769498105714336%\n",
      " --------------- fold #8 out of -------------------\n"
     ]
    },
    {
     "name": "stderr",
     "output_type": "stream",
     "text": [
      "/home/sergey/.conda/envs/kaggle/lib/python3.6/site-packages/xgboost/core.py:587: FutureWarning: Series.base is deprecated and will be removed in a future version\n",
      "  if getattr(data, 'base', None) is not None and \\\n"
     ]
    },
    {
     "name": "stdout",
     "output_type": "stream",
     "text": [
      "train score (mean_absolute_error): 1.4995\n",
      "train score (mean_squared_error): 3.8876\n",
      "validation score (mean_absolute_error): 2.5600\n",
      "validation score (mean_squared_error): 9.5947\n",
      "['data_fname' 'preproc_name' 'preproc_params' 'folds_name' 'folds_params'\n",
      " 'model_name' 'model_params' 'mean_absolute_error' 'mean_squared_error']\n",
      "                                          data_fname    preproc_name  \\\n",
      "0  ../../data/e_lexa/train_proceded_not_smooth_da...  StandardScaler   \n",
      "\n",
      "               preproc_params  folds_name  \\\n",
      "0  {'name': 'StandardScaler'}  CustomFold   \n",
      "\n",
      "                                        folds_params    model_name  \\\n",
      "0  {'name': 'CustomFold', 'n_splits': 9, 'pad': 1...  XGBRegressor   \n",
      "\n",
      "                                        model_params  \\\n",
      "0  {'name': 'XGBRegressor', 'eta': 0.001, 'max_de...   \n",
      "\n",
      "                                 mean_absolute_error  \\\n",
      "0  [1.462472086634919, 3.5164583192322474, 1.5298...   \n",
      "\n",
      "                                  mean_squared_error  \n",
      "0  [3.749074571308587, 16.859097805706504, 4.0950...  \n",
      ".......................Training finished.........................\n",
      "Run 97:\n",
      "....................... Training model ..............................\n",
      "Percentage of data thrown out: 0.04769498105714336%\n",
      " --------------- fold #0 out of -------------------\n"
     ]
    },
    {
     "name": "stderr",
     "output_type": "stream",
     "text": [
      "/home/sergey/.conda/envs/kaggle/lib/python3.6/site-packages/xgboost/core.py:587: FutureWarning: Series.base is deprecated and will be removed in a future version\n",
      "  if getattr(data, 'base', None) is not None and \\\n"
     ]
    },
    {
     "name": "stdout",
     "output_type": "stream",
     "text": [
      "train score (mean_absolute_error): 1.5533\n",
      "train score (mean_squared_error): 4.1001\n",
      "validation score (mean_absolute_error): 1.5734\n",
      "validation score (mean_squared_error): 4.0698\n",
      "Percentage of data thrown out: 0.02384749052857168%\n",
      " --------------- fold #1 out of -------------------\n"
     ]
    },
    {
     "name": "stderr",
     "output_type": "stream",
     "text": [
      "/home/sergey/.conda/envs/kaggle/lib/python3.6/site-packages/xgboost/core.py:587: FutureWarning: Series.base is deprecated and will be removed in a future version\n",
      "  if getattr(data, 'base', None) is not None and \\\n"
     ]
    },
    {
     "name": "stdout",
     "output_type": "stream",
     "text": [
      "train score (mean_absolute_error): 1.5826\n",
      "train score (mean_squared_error): 4.2461\n",
      "validation score (mean_absolute_error): 1.7628\n",
      "validation score (mean_squared_error): 5.1130\n",
      "Percentage of data thrown out: 0.04769498105714336%\n",
      " --------------- fold #2 out of -------------------\n"
     ]
    },
    {
     "name": "stderr",
     "output_type": "stream",
     "text": [
      "/home/sergey/.conda/envs/kaggle/lib/python3.6/site-packages/xgboost/core.py:587: FutureWarning: Series.base is deprecated and will be removed in a future version\n",
      "  if getattr(data, 'base', None) is not None and \\\n"
     ]
    },
    {
     "name": "stdout",
     "output_type": "stream",
     "text": [
      "train score (mean_absolute_error): 1.5146\n",
      "train score (mean_squared_error): 3.8940\n",
      "validation score (mean_absolute_error): 2.9102\n",
      "validation score (mean_squared_error): 11.8097\n",
      "Percentage of data thrown out: 0.04769498105714336%\n",
      " --------------- fold #3 out of -------------------\n"
     ]
    },
    {
     "name": "stderr",
     "output_type": "stream",
     "text": [
      "/home/sergey/.conda/envs/kaggle/lib/python3.6/site-packages/xgboost/core.py:587: FutureWarning: Series.base is deprecated and will be removed in a future version\n",
      "  if getattr(data, 'base', None) is not None and \\\n"
     ]
    },
    {
     "name": "stdout",
     "output_type": "stream",
     "text": [
      "train score (mean_absolute_error): 1.4613\n",
      "train score (mean_squared_error): 3.6567\n",
      "validation score (mean_absolute_error): 2.9134\n",
      "validation score (mean_squared_error): 12.2460\n",
      "Percentage of data thrown out: 0.04769498105714336%\n",
      " --------------- fold #4 out of -------------------\n"
     ]
    },
    {
     "name": "stderr",
     "output_type": "stream",
     "text": [
      "/home/sergey/.conda/envs/kaggle/lib/python3.6/site-packages/xgboost/core.py:587: FutureWarning: Series.base is deprecated and will be removed in a future version\n",
      "  if getattr(data, 'base', None) is not None and \\\n"
     ]
    },
    {
     "name": "stdout",
     "output_type": "stream",
     "text": [
      "train score (mean_absolute_error): 1.4764\n",
      "train score (mean_squared_error): 3.8722\n",
      "validation score (mean_absolute_error): 2.1085\n",
      "validation score (mean_squared_error): 7.4208\n",
      "Percentage of data thrown out: 0.04769498105714336%\n",
      " --------------- fold #5 out of -------------------\n"
     ]
    },
    {
     "name": "stderr",
     "output_type": "stream",
     "text": [
      "/home/sergey/.conda/envs/kaggle/lib/python3.6/site-packages/xgboost/core.py:587: FutureWarning: Series.base is deprecated and will be removed in a future version\n",
      "  if getattr(data, 'base', None) is not None and \\\n"
     ]
    },
    {
     "name": "stdout",
     "output_type": "stream",
     "text": [
      "train score (mean_absolute_error): 1.4998\n",
      "train score (mean_squared_error): 3.8999\n",
      "validation score (mean_absolute_error): 3.6699\n",
      "validation score (mean_squared_error): 17.5191\n",
      "Percentage of data thrown out: 0.04769498105714336%\n",
      " --------------- fold #6 out of -------------------\n"
     ]
    },
    {
     "name": "stderr",
     "output_type": "stream",
     "text": [
      "/home/sergey/.conda/envs/kaggle/lib/python3.6/site-packages/xgboost/core.py:587: FutureWarning: Series.base is deprecated and will be removed in a future version\n",
      "  if getattr(data, 'base', None) is not None and \\\n"
     ]
    },
    {
     "name": "stdout",
     "output_type": "stream",
     "text": [
      "train score (mean_absolute_error): 1.5502\n",
      "train score (mean_squared_error): 4.0598\n",
      "validation score (mean_absolute_error): 1.9805\n",
      "validation score (mean_squared_error): 6.2114\n",
      "Percentage of data thrown out: 0.04769498105714336%\n",
      " --------------- fold #7 out of -------------------\n"
     ]
    },
    {
     "name": "stderr",
     "output_type": "stream",
     "text": [
      "/home/sergey/.conda/envs/kaggle/lib/python3.6/site-packages/xgboost/core.py:587: FutureWarning: Series.base is deprecated and will be removed in a future version\n",
      "  if getattr(data, 'base', None) is not None and \\\n"
     ]
    },
    {
     "name": "stdout",
     "output_type": "stream",
     "text": [
      "train score (mean_absolute_error): 1.5561\n",
      "train score (mean_squared_error): 4.1164\n",
      "validation score (mean_absolute_error): 2.9854\n",
      "validation score (mean_squared_error): 12.3371\n",
      "Percentage of data thrown out: 0.04769498105714336%\n",
      " --------------- fold #8 out of -------------------\n"
     ]
    },
    {
     "name": "stderr",
     "output_type": "stream",
     "text": [
      "/home/sergey/.conda/envs/kaggle/lib/python3.6/site-packages/xgboost/core.py:587: FutureWarning: Series.base is deprecated and will be removed in a future version\n",
      "  if getattr(data, 'base', None) is not None and \\\n"
     ]
    },
    {
     "name": "stdout",
     "output_type": "stream",
     "text": [
      "train score (mean_absolute_error): 1.5508\n",
      "train score (mean_squared_error): 4.1542\n",
      "validation score (mean_absolute_error): 2.1302\n",
      "validation score (mean_squared_error): 7.1393\n",
      "['data_fname' 'preproc_name' 'preproc_params' 'folds_name' 'folds_params'\n",
      " 'model_name' 'model_params' 'mean_absolute_error' 'mean_squared_error']\n",
      "                                          data_fname    preproc_name  \\\n",
      "0  ../../data/e_lexa/train_proceded_not_smooth_da...  StandardScaler   \n",
      "\n",
      "               preproc_params  folds_name  \\\n",
      "0  {'name': 'StandardScaler'}  CustomFold   \n",
      "\n",
      "                                        folds_params    model_name  \\\n",
      "0  {'name': 'CustomFold', 'n_splits': 9, 'pad': 1...  XGBRegressor   \n",
      "\n",
      "                                        model_params  \\\n",
      "0  {'name': 'XGBRegressor', 'eta': 0.001, 'max_de...   \n",
      "\n",
      "                                 mean_absolute_error  \\\n",
      "0  [1.5532970723067632, 1.5734374678208374, 1.582...   \n",
      "\n",
      "                                  mean_squared_error  \n",
      "0  [4.100126209578242, 4.06976119985473, 4.246129...  \n",
      ".......................Training finished.........................\n",
      "Run 98:\n",
      "....................... Training model ..............................\n",
      "Percentage of data thrown out: 0.02384749052857168%\n",
      " --------------- fold #0 out of -------------------\n"
     ]
    },
    {
     "name": "stderr",
     "output_type": "stream",
     "text": [
      "/home/sergey/.conda/envs/kaggle/lib/python3.6/site-packages/xgboost/core.py:587: FutureWarning: Series.base is deprecated and will be removed in a future version\n",
      "  if getattr(data, 'base', None) is not None and \\\n"
     ]
    },
    {
     "name": "stdout",
     "output_type": "stream",
     "text": [
      "train score (mean_absolute_error): 1.6205\n",
      "train score (mean_squared_error): 4.3860\n",
      "validation score (mean_absolute_error): 2.3331\n",
      "validation score (mean_squared_error): 7.8161\n",
      "Percentage of data thrown out: 0.04769498105714336%\n",
      " --------------- fold #1 out of -------------------\n"
     ]
    },
    {
     "name": "stderr",
     "output_type": "stream",
     "text": [
      "/home/sergey/.conda/envs/kaggle/lib/python3.6/site-packages/xgboost/core.py:587: FutureWarning: Series.base is deprecated and will be removed in a future version\n",
      "  if getattr(data, 'base', None) is not None and \\\n"
     ]
    },
    {
     "name": "stdout",
     "output_type": "stream",
     "text": [
      "train score (mean_absolute_error): 1.4618\n",
      "train score (mean_squared_error): 3.8218\n",
      "validation score (mean_absolute_error): 2.6123\n",
      "validation score (mean_squared_error): 9.7516\n",
      "Percentage of data thrown out: 0.02384749052857168%\n",
      " --------------- fold #2 out of -------------------\n"
     ]
    },
    {
     "name": "stderr",
     "output_type": "stream",
     "text": [
      "/home/sergey/.conda/envs/kaggle/lib/python3.6/site-packages/xgboost/core.py:587: FutureWarning: Series.base is deprecated and will be removed in a future version\n",
      "  if getattr(data, 'base', None) is not None and \\\n"
     ]
    },
    {
     "name": "stdout",
     "output_type": "stream",
     "text": [
      "train score (mean_absolute_error): 1.6001\n",
      "train score (mean_squared_error): 4.2974\n",
      "validation score (mean_absolute_error): 1.6775\n",
      "validation score (mean_squared_error): 4.6391\n",
      "Percentage of data thrown out: 0.04769498105714336%\n",
      " --------------- fold #3 out of -------------------\n"
     ]
    },
    {
     "name": "stderr",
     "output_type": "stream",
     "text": [
      "/home/sergey/.conda/envs/kaggle/lib/python3.6/site-packages/xgboost/core.py:587: FutureWarning: Series.base is deprecated and will be removed in a future version\n",
      "  if getattr(data, 'base', None) is not None and \\\n"
     ]
    },
    {
     "name": "stdout",
     "output_type": "stream",
     "text": [
      "train score (mean_absolute_error): 1.4698\n",
      "train score (mean_squared_error): 3.7284\n",
      "validation score (mean_absolute_error): 3.5777\n",
      "validation score (mean_squared_error): 17.0175\n",
      "Percentage of data thrown out: 0.04769498105714336%\n",
      " --------------- fold #4 out of -------------------\n"
     ]
    },
    {
     "name": "stderr",
     "output_type": "stream",
     "text": [
      "/home/sergey/.conda/envs/kaggle/lib/python3.6/site-packages/xgboost/core.py:587: FutureWarning: Series.base is deprecated and will be removed in a future version\n",
      "  if getattr(data, 'base', None) is not None and \\\n"
     ]
    },
    {
     "name": "stdout",
     "output_type": "stream",
     "text": [
      "train score (mean_absolute_error): 1.5395\n",
      "train score (mean_squared_error): 4.0564\n",
      "validation score (mean_absolute_error): 1.9808\n",
      "validation score (mean_squared_error): 6.2266\n",
      "Percentage of data thrown out: 0.04769498105714336%\n",
      " --------------- fold #5 out of -------------------\n"
     ]
    },
    {
     "name": "stderr",
     "output_type": "stream",
     "text": [
      "/home/sergey/.conda/envs/kaggle/lib/python3.6/site-packages/xgboost/core.py:587: FutureWarning: Series.base is deprecated and will be removed in a future version\n",
      "  if getattr(data, 'base', None) is not None and \\\n"
     ]
    },
    {
     "name": "stdout",
     "output_type": "stream",
     "text": [
      "train score (mean_absolute_error): 1.5528\n",
      "train score (mean_squared_error): 4.2084\n",
      "validation score (mean_absolute_error): 2.0692\n",
      "validation score (mean_squared_error): 6.2419\n",
      "Percentage of data thrown out: 0.04769498105714336%\n",
      " --------------- fold #6 out of -------------------\n"
     ]
    },
    {
     "name": "stderr",
     "output_type": "stream",
     "text": [
      "/home/sergey/.conda/envs/kaggle/lib/python3.6/site-packages/xgboost/core.py:587: FutureWarning: Series.base is deprecated and will be removed in a future version\n",
      "  if getattr(data, 'base', None) is not None and \\\n"
     ]
    },
    {
     "name": "stdout",
     "output_type": "stream",
     "text": [
      "train score (mean_absolute_error): 1.5493\n",
      "train score (mean_squared_error): 4.1272\n",
      "validation score (mean_absolute_error): 2.6005\n",
      "validation score (mean_squared_error): 10.1761\n",
      "Percentage of data thrown out: 0.04769498105714336%\n",
      " --------------- fold #7 out of -------------------\n"
     ]
    },
    {
     "name": "stderr",
     "output_type": "stream",
     "text": [
      "/home/sergey/.conda/envs/kaggle/lib/python3.6/site-packages/xgboost/core.py:587: FutureWarning: Series.base is deprecated and will be removed in a future version\n",
      "  if getattr(data, 'base', None) is not None and \\\n"
     ]
    },
    {
     "name": "stdout",
     "output_type": "stream",
     "text": [
      "train score (mean_absolute_error): 1.5392\n",
      "train score (mean_squared_error): 4.0005\n",
      "validation score (mean_absolute_error): 3.2408\n",
      "validation score (mean_squared_error): 13.8729\n",
      "Percentage of data thrown out: 0.04769498105714336%\n",
      " --------------- fold #8 out of -------------------\n"
     ]
    },
    {
     "name": "stderr",
     "output_type": "stream",
     "text": [
      "/home/sergey/.conda/envs/kaggle/lib/python3.6/site-packages/xgboost/core.py:587: FutureWarning: Series.base is deprecated and will be removed in a future version\n",
      "  if getattr(data, 'base', None) is not None and \\\n"
     ]
    },
    {
     "name": "stdout",
     "output_type": "stream",
     "text": [
      "train score (mean_absolute_error): 1.6008\n",
      "train score (mean_squared_error): 4.2702\n",
      "validation score (mean_absolute_error): 1.3339\n",
      "validation score (mean_squared_error): 3.3936\n",
      "['data_fname' 'preproc_name' 'preproc_params' 'folds_name' 'folds_params'\n",
      " 'model_name' 'model_params' 'mean_absolute_error' 'mean_squared_error']\n",
      "                                          data_fname    preproc_name  \\\n",
      "0  ../../data/e_lexa/train_proceded_not_smooth_da...  StandardScaler   \n",
      "\n",
      "               preproc_params  folds_name  \\\n",
      "0  {'name': 'StandardScaler'}  CustomFold   \n",
      "\n",
      "                                        folds_params    model_name  \\\n",
      "0  {'name': 'CustomFold', 'n_splits': 9, 'pad': 1...  XGBRegressor   \n",
      "\n",
      "                                        model_params  \\\n",
      "0  {'name': 'XGBRegressor', 'eta': 0.001, 'max_de...   \n",
      "\n",
      "                                 mean_absolute_error  \\\n",
      "0  [1.6204525184492284, 2.3331339507156317, 1.461...   \n",
      "\n",
      "                                  mean_squared_error  \n",
      "0  [4.386007192011038, 7.816121278346017, 3.82181...  \n",
      ".......................Training finished.........................\n",
      "Run 99:\n",
      "....................... Training model ..............................\n",
      "Percentage of data thrown out: 0.04769498105714336%\n",
      " --------------- fold #0 out of -------------------\n"
     ]
    },
    {
     "name": "stderr",
     "output_type": "stream",
     "text": [
      "/home/sergey/.conda/envs/kaggle/lib/python3.6/site-packages/xgboost/core.py:587: FutureWarning: Series.base is deprecated and will be removed in a future version\n",
      "  if getattr(data, 'base', None) is not None and \\\n"
     ]
    },
    {
     "name": "stdout",
     "output_type": "stream",
     "text": [
      "train score (mean_absolute_error): 1.3720\n",
      "train score (mean_squared_error): 3.3008\n",
      "validation score (mean_absolute_error): 3.6928\n",
      "validation score (mean_squared_error): 19.6434\n",
      "Percentage of data thrown out: 0.04769498105714336%\n",
      " --------------- fold #1 out of -------------------\n"
     ]
    },
    {
     "name": "stderr",
     "output_type": "stream",
     "text": [
      "/home/sergey/.conda/envs/kaggle/lib/python3.6/site-packages/xgboost/core.py:587: FutureWarning: Series.base is deprecated and will be removed in a future version\n",
      "  if getattr(data, 'base', None) is not None and \\\n"
     ]
    },
    {
     "name": "stdout",
     "output_type": "stream",
     "text": [
      "train score (mean_absolute_error): 1.4772\n",
      "train score (mean_squared_error): 3.7963\n",
      "validation score (mean_absolute_error): 2.8249\n",
      "validation score (mean_squared_error): 11.8894\n",
      "Percentage of data thrown out: 0.04769498105714336%\n",
      " --------------- fold #2 out of -------------------\n"
     ]
    },
    {
     "name": "stderr",
     "output_type": "stream",
     "text": [
      "/home/sergey/.conda/envs/kaggle/lib/python3.6/site-packages/xgboost/core.py:587: FutureWarning: Series.base is deprecated and will be removed in a future version\n",
      "  if getattr(data, 'base', None) is not None and \\\n"
     ]
    },
    {
     "name": "stdout",
     "output_type": "stream",
     "text": [
      "train score (mean_absolute_error): 1.4934\n",
      "train score (mean_squared_error): 3.8624\n",
      "validation score (mean_absolute_error): 1.9401\n",
      "validation score (mean_squared_error): 6.4546\n",
      "Percentage of data thrown out: 0.04769498105714336%\n",
      " --------------- fold #3 out of -------------------\n"
     ]
    },
    {
     "name": "stderr",
     "output_type": "stream",
     "text": [
      "/home/sergey/.conda/envs/kaggle/lib/python3.6/site-packages/xgboost/core.py:587: FutureWarning: Series.base is deprecated and will be removed in a future version\n",
      "  if getattr(data, 'base', None) is not None and \\\n"
     ]
    },
    {
     "name": "stdout",
     "output_type": "stream",
     "text": [
      "train score (mean_absolute_error): 1.5922\n",
      "train score (mean_squared_error): 4.3022\n",
      "validation score (mean_absolute_error): 2.0165\n",
      "validation score (mean_squared_error): 6.3016\n",
      "Percentage of data thrown out: 0.04769498105714336%\n",
      " --------------- fold #4 out of -------------------\n"
     ]
    },
    {
     "name": "stderr",
     "output_type": "stream",
     "text": [
      "/home/sergey/.conda/envs/kaggle/lib/python3.6/site-packages/xgboost/core.py:587: FutureWarning: Series.base is deprecated and will be removed in a future version\n",
      "  if getattr(data, 'base', None) is not None and \\\n"
     ]
    },
    {
     "name": "stdout",
     "output_type": "stream",
     "text": [
      "train score (mean_absolute_error): 1.5935\n",
      "train score (mean_squared_error): 4.2088\n",
      "validation score (mean_absolute_error): 1.2729\n",
      "validation score (mean_squared_error): 2.8068\n",
      "Percentage of data thrown out: 0.04769498105714336%\n",
      " --------------- fold #5 out of -------------------\n"
     ]
    },
    {
     "name": "stderr",
     "output_type": "stream",
     "text": [
      "/home/sergey/.conda/envs/kaggle/lib/python3.6/site-packages/xgboost/core.py:587: FutureWarning: Series.base is deprecated and will be removed in a future version\n",
      "  if getattr(data, 'base', None) is not None and \\\n"
     ]
    },
    {
     "name": "stdout",
     "output_type": "stream",
     "text": [
      "train score (mean_absolute_error): 1.4768\n",
      "train score (mean_squared_error): 3.7036\n",
      "validation score (mean_absolute_error): 2.9093\n",
      "validation score (mean_squared_error): 11.8960\n",
      "Percentage of data thrown out: 0.04769498105714336%\n",
      " --------------- fold #6 out of -------------------\n"
     ]
    },
    {
     "name": "stderr",
     "output_type": "stream",
     "text": [
      "/home/sergey/.conda/envs/kaggle/lib/python3.6/site-packages/xgboost/core.py:587: FutureWarning: Series.base is deprecated and will be removed in a future version\n",
      "  if getattr(data, 'base', None) is not None and \\\n"
     ]
    },
    {
     "name": "stdout",
     "output_type": "stream",
     "text": [
      "train score (mean_absolute_error): 1.5665\n",
      "train score (mean_squared_error): 4.1959\n",
      "validation score (mean_absolute_error): 2.4544\n",
      "validation score (mean_squared_error): 8.8768\n",
      "Percentage of data thrown out: 0.04769498105714336%\n",
      " --------------- fold #7 out of -------------------\n"
     ]
    },
    {
     "name": "stderr",
     "output_type": "stream",
     "text": [
      "/home/sergey/.conda/envs/kaggle/lib/python3.6/site-packages/xgboost/core.py:587: FutureWarning: Series.base is deprecated and will be removed in a future version\n",
      "  if getattr(data, 'base', None) is not None and \\\n"
     ]
    },
    {
     "name": "stdout",
     "output_type": "stream",
     "text": [
      "train score (mean_absolute_error): 1.4591\n",
      "train score (mean_squared_error): 3.7784\n",
      "validation score (mean_absolute_error): 2.5569\n",
      "validation score (mean_squared_error): 9.7023\n",
      "Percentage of data thrown out: 0.04769498105714336%\n",
      " --------------- fold #8 out of -------------------\n"
     ]
    },
    {
     "name": "stderr",
     "output_type": "stream",
     "text": [
      "/home/sergey/.conda/envs/kaggle/lib/python3.6/site-packages/xgboost/core.py:587: FutureWarning: Series.base is deprecated and will be removed in a future version\n",
      "  if getattr(data, 'base', None) is not None and \\\n"
     ]
    },
    {
     "name": "stdout",
     "output_type": "stream",
     "text": [
      "train score (mean_absolute_error): 1.5347\n",
      "train score (mean_squared_error): 3.9654\n",
      "validation score (mean_absolute_error): 2.8155\n",
      "validation score (mean_squared_error): 10.8139\n",
      "['data_fname' 'preproc_name' 'preproc_params' 'folds_name' 'folds_params'\n",
      " 'model_name' 'model_params' 'mean_absolute_error' 'mean_squared_error']\n",
      "                                          data_fname    preproc_name  \\\n",
      "0  ../../data/e_lexa/train_proceded_not_smooth_da...  StandardScaler   \n",
      "\n",
      "               preproc_params  folds_name  \\\n",
      "0  {'name': 'StandardScaler'}  CustomFold   \n",
      "\n",
      "                                        folds_params    model_name  \\\n",
      "0  {'name': 'CustomFold', 'n_splits': 9, 'pad': 1...  XGBRegressor   \n",
      "\n",
      "                                        model_params  \\\n",
      "0  {'name': 'XGBRegressor', 'eta': 0.001, 'max_de...   \n",
      "\n",
      "                                 mean_absolute_error  \\\n",
      "0  [1.3719945859924214, 3.6928070204908563, 1.477...   \n",
      "\n",
      "                                  mean_squared_error  \n",
      "0  [3.3007873775404266, 19.643439708373304, 3.796...  \n",
      ".......................Training finished.........................\n"
     ]
    }
   ],
   "source": [
    "for i in range(100):\n",
    "    print(f\"Run {i}:\")\n",
    "    %run -i '../validation/train_single_model.py'"
   ]
  },
  {
   "cell_type": "code",
   "execution_count": 4,
   "metadata": {},
   "outputs": [],
   "source": [
    "summary = pickle.load(open('../../data/lexa.pickle', 'rb'))"
   ]
  },
  {
   "cell_type": "code",
   "execution_count": 5,
   "metadata": {},
   "outputs": [],
   "source": [
    "abs_total = []\n",
    "for row in summary.mean_absolute_error:\n",
    "    abs_val = row[1::2]\n",
    "    abs_total.extend(abs_val)"
   ]
  },
  {
   "cell_type": "code",
   "execution_count": 29,
   "metadata": {},
   "outputs": [
    {
     "data": {
      "image/png": "[encoded data removed]",
      "text/plain": [
       "<Figure size 1440x720 with 1 Axes>"
      ]
     },
     "metadata": {
      "needs_background": "light"
     },
     "output_type": "display_data"
    }
   ],
   "source": [
    "plt.figure(figsize=(20, 10))\n",
    "plt.hist([small, df_reduced, abs_total], \n",
    "         bins=np.arange(1, 4, 0.1), \n",
    "         color=['r', 'k', 'g'], \n",
    "         histtype='bar',\n",
    "         label=[f\"4 features - mean: {np.mean(small):.2f}, std: {np.std(small):.2f}\", \n",
    "                f\"135 features - mean: {np.mean(df_reduced):.2f}, std: {np.std(df_reduced):.2f}\", \n",
    "                f\"Lexa - mean: {np.mean(abs_total):.2f}, std: {np.std(abs_total):.2f}\"])\n",
    "# plt.hist(check, bins=np.arange(1, 4, 0.1), color='r', alpha = 0.5)\n",
    "plt.grid(True)\n",
    "plt.title('XGBRegressor, 4features vs df_reduced(135) vs lexa(20+)')\n",
    "plt.xlabel('scores')\n",
    "plt.legend()\n",
    "plt.savefig('XGB_train_processed_e1_vs_df_reduced_result_vs_lexa.png')\n",
    "plt.show()"
   ]
  },
  {
   "cell_type": "code",
   "execution_count": 24,
   "metadata": {},
   "outputs": [
    {
     "name": "stdout",
     "output_type": "stream",
     "text": [
      "mean: 2.44992621223984, std: 0.7676022461146215\n"
     ]
    }
   ],
   "source": [
    "print(f\"mean: {np.mean(abs_total)}, std: {np.std(abs_total)}\")"
   ]
  },
  {
   "cell_type": "code",
   "execution_count": 25,
   "metadata": {},
   "outputs": [
    {
     "name": "stdout",
     "output_type": "stream",
     "text": [
      "mean: 2.197607016165139, std: 0.6813247977550837\n"
     ]
    }
   ],
   "source": [
    "print(f\"mean: {np.mean(small)}, std: {np.std(small)}\")"
   ]
  },
  {
   "cell_type": "code",
   "execution_count": 26,
   "metadata": {},
   "outputs": [
    {
     "name": "stdout",
     "output_type": "stream",
     "text": [
      "mean: 2.232016855347094, std: 0.578897882076086\n"
     ]
    }
   ],
   "source": [
    "print(f\"mean: {np.mean(df_reduced)}, std: {np.std(df_reduced)}\")"
   ]
  },
  {
   "cell_type": "code",
   "execution_count": 23,
   "metadata": {},
   "outputs": [],
   "source": [
    "pickle.dump(abs_total, open('XGBRegressor_lexa.pickle', 'wb'))"
   ]
  },
  {
   "cell_type": "code",
   "execution_count": 7,
   "metadata": {},
   "outputs": [],
   "source": [
    "df_reduced = pickle.load(open('XGBRegressor_df_reduced.pickle', 'rb'))\n",
    "small = pickle.load(open('XGBRegressor_train_processed_e1.pickle', 'rb'))"
   ]
  }
 ],
 "metadata": {
  "kernelspec": {
   "display_name": "Python 3",
   "language": "python",
   "name": "python3"
  },
  "language_info": {
   "codemirror_mode": {
    "name": "ipython",
    "version": 3
   },
   "file_extension": ".py",
   "mimetype": "text/x-python",
   "name": "python",
   "nbconvert_exporter": "python",
   "pygments_lexer": "ipython3",
   "version": "3.6.8"
  }
 },
 "nbformat": 4,
 "nbformat_minor": 2
}
