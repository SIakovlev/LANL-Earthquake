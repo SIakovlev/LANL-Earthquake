{
 "cells": [
  {
   "cell_type": "code",
   "execution_count": 1,
   "metadata": {
    "ExecuteTime": {
     "end_time": "2019-04-07T08:59:14.997152Z",
     "start_time": "2019-04-07T08:59:13.906144Z"
    }
   },
   "outputs": [],
   "source": [
    "import numpy as np\n",
    "import matplotlib.pyplot as plt\n",
    "import pandas as pd\n",
    "import functools\n",
    "import scipy.signal\n",
    "from tqdm import tqdm\n",
    "import inspect\n",
    "import pickle\n",
    "import sys\n",
    "import json\n",
    "import os\n",
    "sys.path.append('../data_processing/')\n",
    "sys.path.append('../validation/')\n",
    "from feature import Feature\n",
    "from sklearn.metrics.cluster import normalized_mutual_info_score, adjusted_mutual_info_score, mutual_info_score\n",
    "from sklearn.preprocessing import StandardScaler\n",
    "%matplotlib notebook"
   ]
  },
  {
   "cell_type": "code",
   "execution_count": 3,
   "metadata": {
    "ExecuteTime": {
     "end_time": "2019-04-07T08:59:16.777944Z",
     "start_time": "2019-04-07T08:59:16.697407Z"
    },
    "scrolled": true
   },
   "outputs": [
    {
     "data": {
      "text/html": [
       "<div>\n",
       "<style scoped>\n",
       "    .dataframe tbody tr th:only-of-type {\n",
       "        vertical-align: middle;\n",
       "    }\n",
       "\n",
       "    .dataframe tbody tr th {\n",
       "        vertical-align: top;\n",
       "    }\n",
       "\n",
       "    .dataframe thead th {\n",
       "        text-align: right;\n",
       "    }\n",
       "</style>\n",
       "<table border=\"1\" class=\"dataframe\">\n",
       "  <thead>\n",
       "    <tr style=\"text-align: right;\">\n",
       "      <th></th>\n",
       "      <th>s</th>\n",
       "      <th>ttf</th>\n",
       "    </tr>\n",
       "  </thead>\n",
       "  <tbody>\n",
       "    <tr>\n",
       "      <th>0</th>\n",
       "      <td>12</td>\n",
       "      <td>1.4691</td>\n",
       "    </tr>\n",
       "    <tr>\n",
       "      <th>1</th>\n",
       "      <td>6</td>\n",
       "      <td>1.4691</td>\n",
       "    </tr>\n",
       "    <tr>\n",
       "      <th>2</th>\n",
       "      <td>8</td>\n",
       "      <td>1.4691</td>\n",
       "    </tr>\n",
       "    <tr>\n",
       "      <th>3</th>\n",
       "      <td>5</td>\n",
       "      <td>1.4691</td>\n",
       "    </tr>\n",
       "    <tr>\n",
       "      <th>4</th>\n",
       "      <td>8</td>\n",
       "      <td>1.4691</td>\n",
       "    </tr>\n",
       "  </tbody>\n",
       "</table>\n",
       "</div>"
      ],
      "text/plain": [
       "    s     ttf\n",
       "0  12  1.4691\n",
       "1   6  1.4691\n",
       "2   8  1.4691\n",
       "3   5  1.4691\n",
       "4   8  1.4691"
      ]
     },
     "execution_count": 3,
     "metadata": {},
     "output_type": "execute_result"
    }
   ],
   "source": [
    "filepath = '../../data/train_short.h5'\n",
    "df = pd.read_hdf(filepath, key='table')\n",
    "df.head()"
   ]
  },
  {
   "cell_type": "code",
   "execution_count": null,
   "metadata": {
    "scrolled": true
   },
   "outputs": [],
   "source": [
    "windows = [i for i in range(3, 1001, 10)]\n",
    "mutual_info_results = []\n",
    "for window in tqdm(windows):\n",
    "    filtered_signal = Feature(df['s'], '../../data/').r_savgol_filter(window_length=window, verbose=False).data.values.squeeze()\n",
    "    ttf_signal = df.drop(['s'], axis=1).values.squeeze()\n",
    "    mutual_info_results.append(normalized_mutual_info_score(ttf_signal, filtered_signal))\n",
    "    \n",
    "plt.figure(figsize=(10, 5))\n",
    "plt.plot(windows, mutual_info_results)"
   ]
  },
  {
   "cell_type": "code",
   "execution_count": null,
   "metadata": {},
   "outputs": [],
   "source": [
    "windows = [i for i in range(3, 1001, 10)]\n",
    "mutual_info_results = []\n",
    "for window in tqdm(windows):\n",
    "    filtered_signal = Feature(df['s'], '../../data/')\\\n",
    "    .r_savgol_filter(window_length=window, verbose=False)\\\n",
    "    .w_std(window_size=1000, window_stride=500, verbose=False)\\\n",
    "    .data.values.squeeze()\n",
    "    ttf_signal = Feature(df['s'], '../../data/')\\\n",
    "    .w_last_elem(window_size=1000, window_stride=500, verbose=False)\\\n",
    "    .data.values.squeeze()\n",
    "    mutual_info_results.append(normalized_mutual_info_score(ttf_signal, filtered_signal))\n",
    "    \n",
    "plt.figure(figsize=(10, 5))\n",
    "plt.plot(windows, mutual_info_results)"
   ]
  },
  {
   "cell_type": "code",
   "execution_count": 4,
   "metadata": {},
   "outputs": [
    {
     "name": "stderr",
     "output_type": "stream",
     "text": [
      "100%|██████████| 100/100 [00:26<00:00,  2.21it/s]\n"
     ]
    },
    {
     "data": {
      "text/plain": [
       "[<matplotlib.lines.Line2D at 0x7fbfdc150080>]"
      ]
     },
     "execution_count": 4,
     "metadata": {},
     "output_type": "execute_result"
    },
    {
     "data": {
      "image/png": "[encoded data removed]",
      "text/plain": [
       "<Figure size 720x360 with 1 Axes>"
      ]
     },
     "metadata": {
      "needs_background": "light"
     },
     "output_type": "display_data"
    }
   ],
   "source": [
    "windows = [i for i in range(3, 1001, 10)]\n",
    "mutual_info_results = []\n",
    "scaler = StandardScaler()\n",
    "\n",
    "for window in tqdm(windows):\n",
    "    filtered_signal = Feature(df['s'], '../../data/')\\\n",
    "    .r_savgol_filter(window_length=window, verbose=False)\\\n",
    "    .w_psd(window_size=10000, window_stride=5000, verbose=False)\\\n",
    "    .data.values\n",
    "    ttf_signal = Feature(df['s'], '../../data/')\\\n",
    "    .w_last_elem(window_size=10000, window_stride=5000, verbose=False)\\\n",
    "    .data.values\n",
    "    \n",
    "    temp_ = scaler.fit_transform(np.hstack((ttf_signal, filtered_signal)))\n",
    "    ttf_signal_scaled = temp_[:, 0]\n",
    "    filtered_signal_scaled = temp_[:, 1]\n",
    "    \n",
    "    score = normalized_mutual_info_score(ttf_signal_scaled, filtered_signal_scaled, average_method=\"arithmetic\")\n",
    "    mutual_info_results.append(score)\n",
    "    \n",
    "plt.figure(figsize=(10, 5))\n",
    "plt.plot(windows, mutual_info_results)"
   ]
  },
  {
   "cell_type": "code",
   "execution_count": 5,
   "metadata": {},
   "outputs": [
    {
     "name": "stderr",
     "output_type": "stream",
     "text": [
      "100%|██████████| 100/100 [00:28<00:00,  2.16it/s]\n"
     ]
    },
    {
     "data": {
      "text/plain": [
       "[<matplotlib.lines.Line2D at 0x7fbfdb60dda0>]"
      ]
     },
     "execution_count": 5,
     "metadata": {},
     "output_type": "execute_result"
    },
    {
     "data": {
      "image/png": "[encoded data removed]",
      "text/plain": [
       "<Figure size 720x360 with 1 Axes>"
      ]
     },
     "metadata": {
      "needs_background": "light"
     },
     "output_type": "display_data"
    }
   ],
   "source": [
    "windows = [i for i in range(3, 1001, 10)]\n",
    "mutual_info_results = []\n",
    "scaler = StandardScaler()\n",
    "\n",
    "for window in tqdm(windows):\n",
    "    filtered_signal = Feature(df['s'], '../../data/')\\\n",
    "    .r_savgol_filter(window_length=window, verbose=False)\\\n",
    "    .w_quantile(window_size=10000, window_stride=5000, q=0.05, verbose=False)\\\n",
    "    .data.values\n",
    "    ttf_signal = Feature(df['s'], '../../data/')\\\n",
    "    .w_last_elem(window_size=10000, window_stride=5000, verbose=False)\\\n",
    "    .data.values\n",
    "    \n",
    "    temp_ = scaler.fit_transform(np.hstack((ttf_signal, filtered_signal)))\n",
    "    ttf_signal_scaled = temp_[:, 0]\n",
    "    filtered_signal_scaled = temp_[:, 1]\n",
    "    \n",
    "    score = normalized_mutual_info_score(ttf_signal_scaled, filtered_signal_scaled, average_method=\"arithmetic\")\n",
    "    mutual_info_results.append(score)\n",
    "    \n",
    "plt.figure(figsize=(10, 5))\n",
    "plt.plot(windows, mutual_info_results)"
   ]
  },
  {
   "cell_type": "code",
   "execution_count": null,
   "metadata": {},
   "outputs": [],
   "source": []
  },
  {
   "cell_type": "code",
   "execution_count": null,
   "metadata": {},
   "outputs": [],
   "source": []
  },
  {
   "cell_type": "code",
   "execution_count": null,
   "metadata": {},
   "outputs": [],
   "source": []
  },
  {
   "cell_type": "code",
   "execution_count": null,
   "metadata": {},
   "outputs": [],
   "source": []
  },
  {
   "cell_type": "code",
   "execution_count": null,
   "metadata": {},
   "outputs": [],
   "source": []
  },
  {
   "cell_type": "code",
   "execution_count": null,
   "metadata": {
    "ExecuteTime": {
     "end_time": "2019-04-07T08:59:47.025849Z",
     "start_time": "2019-04-07T08:59:45.673080Z"
    }
   },
   "outputs": [],
   "source": [
    "plt.figure(figsize=(10, 5))\n",
    "plt.plot(Feature(df['s'], '../../data/')\\\n",
    "    .r_savgol_filter(window_length=3, verbose=False)\\\n",
    "    .w_psd(window_size=10000, window_stride=5000, verbose=False)\\\n",
    "    .data.values.squeeze(), 'k')\n",
    "plt.plot(Feature(df['s'], '../../data/')\\\n",
    "    .r_savgol_filter(window_length=5, verbose=False)\\\n",
    "    .w_psd(window_size=10000, window_stride=5000, verbose=False)\\\n",
    "    .data.values.squeeze(), 'r')\n",
    "plt.plot(Feature(df['s'], '../../data/')\\\n",
    "    .r_savgol_filter(window_length=11, verbose=False)\\\n",
    "    .w_psd(window_size=10000, window_stride=5000, verbose=False)\\\n",
    "    .data.values.squeeze(), 'b')"
   ]
  },
  {
   "cell_type": "code",
   "execution_count": null,
   "metadata": {
    "scrolled": true
   },
   "outputs": [],
   "source": [
    "Feature(df['s'], '../../data.nosync/')\\\n",
    ".r_sta_lta(window_size=100, window_stride=100)\\\n",
    ".dump()\\\n",
    ".w_std(window_size=100, window_stride=100)\\\n",
    ".data"
   ]
  },
  {
   "cell_type": "code",
   "execution_count": null,
   "metadata": {},
   "outputs": [],
   "source": [
    "df.rolling(100).mean()"
   ]
  },
  {
   "cell_type": "code",
   "execution_count": null,
   "metadata": {},
   "outputs": [],
   "source": []
  },
  {
   "cell_type": "code",
   "execution_count": null,
   "metadata": {
    "scrolled": true
   },
   "outputs": [],
   "source": [
    "test = Feature(df.drop(['ttf'], axis=1), '../../data.nosync/')\\\n",
    ".w_periodogram(window_size=100, window_stride=100, N=1000)\\"
   ]
  },
  {
   "cell_type": "code",
   "execution_count": null,
   "metadata": {},
   "outputs": [],
   "source": [
    "test.w_std(window_size=100, window_stride=100).data"
   ]
  },
  {
   "cell_type": "code",
   "execution_count": null,
   "metadata": {},
   "outputs": [],
   "source": [
    "p = Feature(df['ttf'], '../../data/')\n",
    "p = getattr(p, 'mean')(window_size=100, window_stride=100)"
   ]
  },
  {
   "cell_type": "code",
   "execution_count": null,
   "metadata": {
    "scrolled": true
   },
   "outputs": [],
   "source": [
    "temp = [np.array([1, 2, 3]), np.array([2, 3, 4])]\n",
    "dict(zip([\"a\", \"b\"], temp))"
   ]
  },
  {
   "cell_type": "code",
   "execution_count": null,
   "metadata": {},
   "outputs": [],
   "source": [
    "funcs = {\"functions\": {\"periodogram\": {\"N\": 1000}, \"mean\": {}}}\n",
    "for func_name, func_params in funcs['functions'].items():\n",
    "    print(func_name, func_params)"
   ]
  },
  {
   "cell_type": "code",
   "execution_count": null,
   "metadata": {},
   "outputs": [],
   "source": [
    "%%time \n",
    "\n",
    "filepath = '../../data/test/seg_00030f.csv'\n",
    "\n",
    "df = pd.read_csv(filepath, \n",
    "                 dtype={'acoustic_data': np.int16, 'time_to_failure': np.float32}, \n",
    "                 skiprows=1, \n",
    "                 names=['s', 'ttf'])"
   ]
  }
 ],
 "metadata": {
  "kernelspec": {
   "display_name": "Python 3",
   "language": "python",
   "name": "python3"
  },
  "language_info": {
   "codemirror_mode": {
    "name": "ipython",
    "version": 3
   },
   "file_extension": ".py",
   "mimetype": "text/x-python",
   "name": "python",
   "nbconvert_exporter": "python",
   "pygments_lexer": "ipython3",
   "version": "3.6.8"
  }
 },
 "nbformat": 4,
 "nbformat_minor": 2
}
