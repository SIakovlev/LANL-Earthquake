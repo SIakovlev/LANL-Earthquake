{
 "cells": [
  {
   "cell_type": "code",
   "execution_count": 1,
   "metadata": {
    "ExecuteTime": {
     "end_time": "2019-04-07T08:59:14.997152Z",
     "start_time": "2019-04-07T08:59:13.906144Z"
    }
   },
   "outputs": [],
   "source": [
    "import numpy as np\n",
    "import matplotlib.pyplot as plt\n",
    "import pandas as pd\n",
    "import functools\n",
    "import scipy.signal\n",
    "from tqdm import tqdm\n",
    "import inspect\n",
    "import pickle\n",
    "import sys\n",
    "import json\n",
    "import os\n",
    "sys.path.append('../data_processing/')\n",
    "sys.path.append('../validation/')\n",
    "from feature import Feature\n",
    "\n",
    "%matplotlib notebook"
   ]
  },
  {
   "cell_type": "code",
   "execution_count": null,
   "metadata": {},
   "outputs": [],
   "source": [
    "%%time \n",
    "\n",
    "filepath = '../../data/test/seg_00030f.csv'\n",
    "\n",
    "df = pd.read_csv(filepath, \n",
    "                 dtype={'acoustic_data': np.int16, 'time_to_failure': np.float32}, \n",
    "                 skiprows=1, \n",
    "                 names=['s', 'ttf'])"
   ]
  },
  {
   "cell_type": "code",
   "execution_count": 2,
   "metadata": {
    "ExecuteTime": {
     "end_time": "2019-04-07T08:59:16.777944Z",
     "start_time": "2019-04-07T08:59:16.697407Z"
    }
   },
   "outputs": [
    {
     "data": {
      "text/html": [
       "<div>\n",
       "<style scoped>\n",
       "    .dataframe tbody tr th:only-of-type {\n",
       "        vertical-align: middle;\n",
       "    }\n",
       "\n",
       "    .dataframe tbody tr th {\n",
       "        vertical-align: top;\n",
       "    }\n",
       "\n",
       "    .dataframe thead th {\n",
       "        text-align: right;\n",
       "    }\n",
       "</style>\n",
       "<table border=\"1\" class=\"dataframe\">\n",
       "  <thead>\n",
       "    <tr style=\"text-align: right;\">\n",
       "      <th></th>\n",
       "      <th>s</th>\n",
       "      <th>ttf</th>\n",
       "    </tr>\n",
       "  </thead>\n",
       "  <tbody>\n",
       "    <tr>\n",
       "      <th>0</th>\n",
       "      <td>12</td>\n",
       "      <td>1.4691</td>\n",
       "    </tr>\n",
       "    <tr>\n",
       "      <th>1</th>\n",
       "      <td>6</td>\n",
       "      <td>1.4691</td>\n",
       "    </tr>\n",
       "    <tr>\n",
       "      <th>2</th>\n",
       "      <td>8</td>\n",
       "      <td>1.4691</td>\n",
       "    </tr>\n",
       "    <tr>\n",
       "      <th>3</th>\n",
       "      <td>5</td>\n",
       "      <td>1.4691</td>\n",
       "    </tr>\n",
       "    <tr>\n",
       "      <th>4</th>\n",
       "      <td>8</td>\n",
       "      <td>1.4691</td>\n",
       "    </tr>\n",
       "  </tbody>\n",
       "</table>\n",
       "</div>"
      ],
      "text/plain": [
       "    s     ttf\n",
       "0  12  1.4691\n",
       "1   6  1.4691\n",
       "2   8  1.4691\n",
       "3   5  1.4691\n",
       "4   8  1.4691"
      ]
     },
     "execution_count": 2,
     "metadata": {},
     "output_type": "execute_result"
    }
   ],
   "source": [
    "filepath = '../../data.nosync/train_short.h5'\n",
    "df = pd.read_hdf(filepath, key='table')\n",
    "df.head()"
   ]
  },
  {
   "cell_type": "code",
   "execution_count": null,
   "metadata": {},
   "outputs": [],
   "source": [
    "plt.figure(figsize=(10, 5))\n",
    "plt.plot(df[df.columns[0]], 'k')\n",
    "# plt.figure(figsize=(10, 5))\n",
    "plt.plot(df[df.columns[1]], 'r')\n",
    "# plt.figure(figsize=(10, 5))\n",
    "plt.plot(df[df.columns[2]], 'b')"
   ]
  },
  {
   "cell_type": "code",
   "execution_count": null,
   "metadata": {},
   "outputs": [],
   "source": []
  },
  {
   "cell_type": "code",
   "execution_count": null,
   "metadata": {},
   "outputs": [],
   "source": []
  },
  {
   "cell_type": "code",
   "execution_count": null,
   "metadata": {},
   "outputs": [],
   "source": []
  },
  {
   "cell_type": "code",
   "execution_count": 4,
   "metadata": {
    "ExecuteTime": {
     "end_time": "2019-04-07T08:59:47.025849Z",
     "start_time": "2019-04-07T08:59:45.673080Z"
    }
   },
   "outputs": [
    {
     "name": "stdout",
     "output_type": "stream",
     "text": [
      "w_absolute_sum_of_changes(self, window_size=1000, window_stride=100): 100%|██████████| 9990/9990 [00:01<00:00, 8684.15it/s]\n",
      "\t window decorator for w_absolute_sum_of_changes: \n",
      "\t - window size: 1000\n",
      "\t - window stride: 100\n"
     ]
    },
    {
     "data": {
      "text/plain": [
       "[<matplotlib.lines.Line2D at 0x1261aed30>]"
      ]
     },
     "execution_count": 4,
     "metadata": {},
     "output_type": "execute_result"
    },
    {
     "data": {
      "image/png": "[encoded data removed]",
      "text/plain": [
       "<Figure size 720x360 with 1 Axes>"
      ]
     },
     "metadata": {
      "needs_background": "light"
     },
     "output_type": "display_data"
    }
   ],
   "source": [
    "plt.figure(figsize=(10, 5))\n",
    "plt.plot(df['s'][:20], 'k')\n",
    "# plt.figure(figsize=(10, 5))\n",
    "temp = Feature(df['s'], '../../data.nosync/')\\\n",
    ".w_absolute_sum_of_changes(window_size=1000, window_stride=100).data\n",
    "plt.plot(temp[temp.columns[0]][:20], 'r')\n"
   ]
  },
  {
   "cell_type": "code",
   "execution_count": null,
   "metadata": {
    "scrolled": true
   },
   "outputs": [],
   "source": [
    "Feature(df['s'], '../../data.nosync/')\\\n",
    ".r_sta_lta(window_size=100, window_stride=100)\\\n",
    ".dump()\\\n",
    ".w_std(window_size=100, window_stride=100)\\\n",
    ".data"
   ]
  },
  {
   "cell_type": "code",
   "execution_count": null,
   "metadata": {},
   "outputs": [],
   "source": [
    "df.rolling(100).mean()"
   ]
  },
  {
   "cell_type": "code",
   "execution_count": null,
   "metadata": {},
   "outputs": [],
   "source": []
  },
  {
   "cell_type": "code",
   "execution_count": null,
   "metadata": {
    "scrolled": true
   },
   "outputs": [],
   "source": [
    "test = Feature(df.drop(['ttf'], axis=1), '../../data.nosync/')\\\n",
    ".w_periodogram(window_size=100, window_stride=100, N=1000)\\"
   ]
  },
  {
   "cell_type": "code",
   "execution_count": null,
   "metadata": {},
   "outputs": [],
   "source": [
    "test.w_std(window_size=100, window_stride=100).data"
   ]
  },
  {
   "cell_type": "code",
   "execution_count": null,
   "metadata": {},
   "outputs": [],
   "source": [
    "p = Feature(df['ttf'], '../../data/')\n",
    "p = getattr(p, 'mean')(window_size=100, window_stride=100)"
   ]
  },
  {
   "cell_type": "code",
   "execution_count": null,
   "metadata": {
    "scrolled": true
   },
   "outputs": [],
   "source": [
    "temp = [np.array([1, 2, 3]), np.array([2, 3, 4])]\n",
    "dict(zip([\"a\", \"b\"], temp))"
   ]
  },
  {
   "cell_type": "code",
   "execution_count": null,
   "metadata": {},
   "outputs": [],
   "source": [
    "funcs = {\"functions\": {\"periodogram\": {\"N\": 1000}, \"mean\": {}}}\n",
    "for func_name, func_params in funcs['functions'].items():\n",
    "    print(func_name, func_params)"
   ]
  }
 ],
 "metadata": {
  "kernelspec": {
   "display_name": "Python 3",
   "language": "python",
   "name": "python3"
  },
  "language_info": {
   "codemirror_mode": {
    "name": "ipython",
    "version": 3
   },
   "file_extension": ".py",
   "mimetype": "text/x-python",
   "name": "python",
   "nbconvert_exporter": "python",
   "pygments_lexer": "ipython3",
   "version": "3.6.8"
  }
 },
 "nbformat": 4,
 "nbformat_minor": 2
}
