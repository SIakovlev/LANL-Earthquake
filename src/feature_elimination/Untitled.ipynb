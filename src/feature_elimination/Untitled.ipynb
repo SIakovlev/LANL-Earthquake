{
 "cells": [
  {
   "cell_type": "markdown",
   "metadata": {},
   "source": [
    "First we need to get a file with some features in it"
   ]
  },
  {
   "cell_type": "code",
   "execution_count": 4,
   "metadata": {},
   "outputs": [],
   "source": [
    "import sys\n",
    "sys.path.insert(0, '/home/pavel/Documents/0Research/Projects/LANL-Earthquake/src/data_processing')\n",
    "from dp_utils import *\n",
    "import pandas as pd\n",
    "\n",
    "from sklearn.feature_selection import VarianceThreshold\n",
    "data_path = '/home/pavel/Documents/0Research/Projects/LANL-Earthquake/data/EQs/EQ_1.h5'\n",
    "df = pd.read_hdf(data_path, key = 'table')\n",
    "df.columns = ['s','ttf']"
   ]
  },
  {
   "cell_type": "code",
   "execution_count": null,
   "metadata": {},
   "outputs": [],
   "source": [
    "list_of_functions = [w_min, w_max, w_mean, w_std, w_abs_energy]\n",
    "featurized_df = pd.DataFrame()\n",
    "for i in range(len(list_of_functions)):\n",
    "    featurized_df[list_of_functions[i].__name__] = list_of_functions[i](df.s, **params)"
   ]
  }
 ],
 "metadata": {
  "kernelspec": {
   "display_name": "Python 3",
   "language": "python",
   "name": "python3"
  },
  "language_info": {
   "codemirror_mode": {
    "name": "ipython",
    "version": 3
   },
   "file_extension": ".py",
   "mimetype": "text/x-python",
   "name": "python",
   "nbconvert_exporter": "python",
   "pygments_lexer": "ipython3",
   "version": "3.6.7"
  }
 },
 "nbformat": 4,
 "nbformat_minor": 2
}
