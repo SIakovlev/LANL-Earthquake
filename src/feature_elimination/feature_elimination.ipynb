{
 "cells": [
  {
   "cell_type": "markdown",
   "metadata": {},
   "source": [
    "First we need to get a file with some features in it"
   ]
  },
  {
   "cell_type": "code",
   "execution_count": 4,
   "metadata": {},
   "outputs": [],
   "source": [
    "import sys\n",
    "sys.path.insert(0, '/home/pavel/Documents/0Research/Projects/LANL-Earthquake/src/data_processing')\n",
    "from dp_utils import *\n",
    "import pandas as pd\n",
    "\n",
    "from sklearn.feature_selection import VarianceThreshold\n",
    "data_path = '/home/pavel/Documents/0Research/Projects/LANL-Earthquake/data/EQs/EQ_1.h5'\n",
    "df = pd.read_hdf(data_path, key = 'table')\n",
    "df.columns = ['s','ttf']"
   ]
  },
  {
   "cell_type": "code",
   "execution_count": 10,
   "metadata": {},
   "outputs": [
    {
     "name": "stdout",
     "output_type": "stream",
     "text": [
      "w_abs_energy(df, window_size=5000): 100%|██████████| 1132/1132 [00:00<00:00, 10480.44it/s]\n",
      "\t window decorator: \n",
      "\t - window size: 5000\n",
      "w_absolute_sum_of_changes(df, window_size=15000): 100%|██████████| 378/378 [00:00<00:00, 7316.32it/s]\n",
      "\t window decorator: \n",
      "\t - window size: 15000\n",
      "w_autocorrelation(df, window_size=10000), lag=100): 100%|██████████| 566/566 [00:00<00:00, 3155.03it/s]\n",
      "\t window decorator: \n",
      "\t - window size: 10000\n",
      "w_binned_entropy(df, window_size=2), max_bins=10): 100%|██████████| 189/189 [00:00<00:00, 3363.09it/s]\n",
      "\t window decorator: \n",
      "\t - window size: 2\n",
      "w_c3(df, window_size=10000), lag=100): 100%|██████████| 566/566 [00:00<00:00, 7280.97it/s]\n",
      "\t window decorator: \n",
      "\t - window size: 10000\n",
      "w_count_above_mean(df, window_size=10000): 100%|██████████| 566/566 [00:00<00:00, 6018.71it/s]\n",
      "\t window decorator: \n",
      "\t - window size: 10000\n",
      "w_count_below_mean(df, window_size=10000): 100%|██████████| 566/566 [00:00<00:00, 5992.36it/s]\n",
      "\t window decorator: \n",
      "\t - window size: 10000\n",
      "w_first_location_of_maximum(df, window_size=10000): 100%|██████████| 566/566 [00:00<00:00, 11151.19it/s]\n",
      "\t window decorator: \n",
      "\t - window size: 10000\n",
      "w_first_location_of_minimum(df, window_size=10000): 100%|██████████| 566/566 [00:00<00:00, 11328.44it/s]\n",
      "\t window decorator: \n",
      "\t - window size: 10000\n",
      "w_kurtosis(df, window_size=10000): 100%|██████████| 566/566 [00:00<00:00, 2487.57it/s]\n",
      "\t window decorator: \n",
      "\t - window size: 10000\n",
      "w_large_standard_deviation(df, window_size=10000), r=0.5): 100%|██████████| 566/566 [00:00<00:00, 4991.55it/s]\n",
      "\t window decorator: \n",
      "\t - window size: 10000\n",
      "w_last_location_of_minimum(df, window_size=10000): 100%|██████████| 566/566 [00:00<00:00, 9900.52it/s]\n",
      "\t window decorator: \n",
      "\t - window size: 10000\n",
      "w_longest_strike_above_mean(df, window_size=10000): 100%|██████████| 566/566 [00:05<00:00, 94.82it/s] \n",
      "\t window decorator: \n",
      "\t - window size: 10000\n",
      "w_longest_strike_below_mean(df, window_size=10000): 100%|██████████| 566/566 [00:05<00:00, 81.94it/s] \n",
      "\t window decorator: \n",
      "\t - window size: 10000\n",
      "w_max(df, window_size=10000): 100%|██████████| 566/566 [00:00<00:00, 11651.65it/s]\n",
      "\t window decorator: \n",
      "\t - window size: 10000\n",
      "w_mean(df, window_size=10000): 100%|██████████| 566/566 [00:00<00:00, 8954.55it/s]\n",
      "\t window decorator: \n",
      "\t - window size: 10000\n",
      "w_mean_abs_change(df, window_size=10000): 100%|██████████| 566/566 [00:00<00:00, 7916.18it/s]\n",
      "\t window decorator: \n",
      "\t - window size: 10000\n",
      "w_mean_change(df, window_size=10000): 100%|██████████| 566/566 [00:00<00:00, 7799.77it/s]\n",
      "\t window decorator: \n",
      "\t - window size: 10000\n",
      "w_mean_second_derivative_central(df, window_size=10000): 100%|██████████| 566/566 [00:00<00:00, 6066.57it/s]\n",
      "\t window decorator: \n",
      "\t - window size: 10000\n",
      "w_median(df, window_size=10000): 100%|██████████| 566/566 [00:00<00:00, 4375.18it/s]\n",
      "\t window decorator: \n",
      "\t - window size: 10000\n",
      "w_min(df, window_size=10000): 100%|██████████| 566/566 [00:00<00:00, 10541.63it/s]\n",
      "\t window decorator: \n",
      "\t - window size: 10000\n",
      "w_number_crossing_m(df, window_size=10000), m=0.1): 100%|██████████| 566/566 [00:00<00:00, 7654.73it/s]\n",
      "\t window decorator: \n",
      "\t - window size: 10000\n",
      "w_psd(df, window_size=10000), fs=4000000.0): 100%|██████████| 566/566 [00:00<00:00, 1989.83it/s]\n",
      "\t window decorator: \n",
      "\t - window size: 10000\n",
      "w_quantile(df, window_size=10000), q=0.5): 100%|██████████| 566/566 [00:00<00:00, 1890.96it/s]\n",
      "\t window decorator: \n",
      "\t - window size: 10000\n",
      "w_ratio_beyond_r_sigma(df, window_size=10000), r=0.5): 100%|██████████| 566/566 [00:00<00:00, 3834.05it/s]\n",
      "\t window decorator: \n",
      "\t - window size: 10000\n",
      "w_skewness(df, window_size=10000), lag=100): 100%|██████████| 566/566 [00:00<00:00, 6242.85it/s]\n",
      "\t window decorator: \n",
      "\t - window size: 10000\n"
     ]
    },
    {
     "ename": "KeyError",
     "evalue": "'ttf'",
     "output_type": "error",
     "traceback": [
      "\u001b[0;31m---------------------------------------------------------------------------\u001b[0m",
      "\u001b[0;31mKeyError\u001b[0m                                  Traceback (most recent call last)",
      "\u001b[0;32m<ipython-input-10-fe84e2eaeb48>\u001b[0m in \u001b[0;36m<module>\u001b[0;34m\u001b[0m\n\u001b[1;32m      5\u001b[0m \u001b[0mroutines\u001b[0m \u001b[0;34m=\u001b[0m \u001b[0mparams\u001b[0m\u001b[0;34m[\u001b[0m\u001b[0;34m'routines'\u001b[0m\u001b[0;34m]\u001b[0m\u001b[0;34m\u001b[0m\u001b[0;34m\u001b[0m\u001b[0m\n\u001b[1;32m      6\u001b[0m \u001b[0mdefault_window_size\u001b[0m \u001b[0;34m=\u001b[0m \u001b[0mparams\u001b[0m\u001b[0;34m[\u001b[0m\u001b[0;34m'window_size'\u001b[0m\u001b[0;34m]\u001b[0m\u001b[0;34m\u001b[0m\u001b[0;34m\u001b[0m\u001b[0m\n\u001b[0;32m----> 7\u001b[0;31m \u001b[0mnew_df\u001b[0m \u001b[0;34m=\u001b[0m \u001b[0mprocess_df\u001b[0m\u001b[0;34m(\u001b[0m\u001b[0mdf\u001b[0m\u001b[0;34m,\u001b[0m \u001b[0mroutines\u001b[0m\u001b[0;34m,\u001b[0m\u001b[0mdefault_window_size\u001b[0m\u001b[0;34m)\u001b[0m\u001b[0;34m\u001b[0m\u001b[0;34m\u001b[0m\u001b[0m\n\u001b[0m",
      "\u001b[0;32m~/Documents/0Research/Projects/LANL-Earthquake/src/data_processing/dp_utils.py\u001b[0m in \u001b[0;36mprocess_df\u001b[0;34m(df, routines, default_window_size)\u001b[0m\n\u001b[1;32m     85\u001b[0m         \u001b[0mtemp_data\u001b[0m\u001b[0;34m[\u001b[0m\u001b[0mnew_col_name\u001b[0m\u001b[0;34m]\u001b[0m \u001b[0;34m=\u001b[0m \u001b[0mdata_processed\u001b[0m\u001b[0;34m\u001b[0m\u001b[0;34m\u001b[0m\u001b[0m\n\u001b[1;32m     86\u001b[0m \u001b[0;34m\u001b[0m\u001b[0m\n\u001b[0;32m---> 87\u001b[0;31m     \u001b[0;31m# append column with labels\u001b[0m\u001b[0;34m\u001b[0m\u001b[0;34m\u001b[0m\u001b[0;34m\u001b[0m\u001b[0m\n\u001b[0m\u001b[1;32m     88\u001b[0m     \u001b[0;32mtry\u001b[0m\u001b[0;34m:\u001b[0m\u001b[0;34m\u001b[0m\u001b[0;34m\u001b[0m\u001b[0m\n\u001b[1;32m     89\u001b[0m         \u001b[0mtemp_data\u001b[0m\u001b[0;34m[\u001b[0m\u001b[0;34m'ttf'\u001b[0m\u001b[0;34m]\u001b[0m \u001b[0;34m=\u001b[0m \u001b[0mw_last_elem\u001b[0m\u001b[0;34m(\u001b[0m\u001b[0mdf\u001b[0m\u001b[0;34m[\u001b[0m\u001b[0;34m'ttf'\u001b[0m\u001b[0;34m]\u001b[0m\u001b[0;34m,\u001b[0m \u001b[0mwindow_size\u001b[0m\u001b[0;34m=\u001b[0m\u001b[0mdefault_window_size\u001b[0m\u001b[0;34m,\u001b[0m \u001b[0mdesc_line\u001b[0m\u001b[0;34m=\u001b[0m\u001b[0;34m\"ttf\"\u001b[0m\u001b[0;34m)\u001b[0m\u001b[0;34m\u001b[0m\u001b[0;34m\u001b[0m\u001b[0m\n",
      "\u001b[0;31mKeyError\u001b[0m: 'ttf'"
     ]
    }
   ],
   "source": [
    "config_path = \"/home/pavel/Documents/0Research/Projects/LANL-Earthquake/src/data_processing/dp_config.json\"\n",
    "with open(config_path, 'rb') as config:\n",
    "    params = json.load(config)\n",
    "\n",
    "routines = params['routines']\n",
    "default_window_size = params['window_size']\n",
    "new_df = process_df(df, routines,default_window_size)"
   ]
  },
  {
   "cell_type": "code",
   "execution_count": null,
   "metadata": {},
   "outputs": [],
   "source": []
  }
 ],
 "metadata": {
  "kernelspec": {
   "display_name": "Python 3",
   "language": "python",
   "name": "python3"
  },
  "language_info": {
   "codemirror_mode": {
    "name": "ipython",
    "version": 3
   },
   "file_extension": ".py",
   "mimetype": "text/x-python",
   "name": "python",
   "nbconvert_exporter": "python",
   "pygments_lexer": "ipython3",
   "version": "3.6.7"
  }
 },
 "nbformat": 4,
 "nbformat_minor": 2
}
