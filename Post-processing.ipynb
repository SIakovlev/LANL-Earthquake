{
 "cells": [
  {
   "cell_type": "code",
   "execution_count": 1,
   "metadata": {
    "ExecuteTime": {
     "end_time": "2019-03-18T04:12:52.099315Z",
     "start_time": "2019-03-18T04:12:51.199402Z"
    }
   },
   "outputs": [],
   "source": [
    "import matplotlib as mpl\n",
    "import numpy as np\n",
    "mpl.use('Agg')\n",
    "import matplotlib.pyplot as plt\n",
    "import seaborn as sns\n",
    "import time\n",
    "%matplotlib inline"
   ]
  },
  {
   "cell_type": "code",
   "execution_count": 2,
   "metadata": {
    "ExecuteTime": {
     "end_time": "2019-03-18T04:12:53.269264Z",
     "start_time": "2019-03-18T04:12:53.264467Z"
    }
   },
   "outputs": [],
   "source": [
    "import pandas as pd\n",
    "import re \n",
    "summary_data = pd.read_pickle('data/summary.pickle')"
   ]
  },
  {
   "cell_type": "markdown",
   "metadata": {},
   "source": [
    "Find all columns with score"
   ]
  },
  {
   "cell_type": "code",
   "execution_count": 3,
   "metadata": {
    "ExecuteTime": {
     "end_time": "2019-03-18T04:12:55.455675Z",
     "start_time": "2019-03-18T04:12:55.451527Z"
    }
   },
   "outputs": [
    {
     "name": "stdout",
     "output_type": "stream",
     "text": [
      "['mean_absolute_error', 'mean_squared_error'] ['folds_name', 'folds_params', 'data_fname', 'model_name', 'model_params', 'preproc_name', 'preproc_params']\n"
     ]
    }
   ],
   "source": [
    "metrics_columns = [f for f in summary_data.columns if not re.match(r\"(?:fold|model|data|preproc)\", f)]\n",
    "features_columns = [f for f in summary_data.columns if re.match(r\"(?:fold|model|data|preproc)\", f)]\n",
    "print(metrics_columns, features_columns)"
   ]
  },
  {
   "cell_type": "markdown",
   "metadata": {},
   "source": [
    "Find mean, max, min, std for metrics"
   ]
  },
  {
   "cell_type": "code",
   "execution_count": 4,
   "metadata": {
    "ExecuteTime": {
     "end_time": "2019-03-18T04:12:57.436082Z",
     "start_time": "2019-03-18T04:12:57.385235Z"
    }
   },
   "outputs": [
    {
     "name": "stdout",
     "output_type": "stream",
     "text": [
      "CPU times: user 3 µs, sys: 1 µs, total: 4 µs\n",
      "Wall time: 5.96 µs\n"
     ]
    }
   ],
   "source": [
    "%time\n",
    "for k in metrics_columns:\n",
    "    summary_data[str(k) + \"_mean\"] = summary_data[str(k)].apply(pd.Series).mean(axis=1)\n",
    "    summary_data[str(k) + \"_min\"] = summary_data[str(k)].apply(pd.Series).min(axis=1)\n",
    "    summary_data[str(k) + \"_max\"] = summary_data[str(k)].apply(pd.Series).max(axis=1)\n",
    "    summary_data[str(k) + \"_std\"] = summary_data[str(k)].apply(pd.Series).std(axis=1)\n"
   ]
  },
  {
   "cell_type": "code",
   "execution_count": 5,
   "metadata": {
    "ExecuteTime": {
     "end_time": "2019-03-18T04:12:59.985009Z",
     "start_time": "2019-03-18T04:12:59.960239Z"
    },
    "scrolled": true
   },
   "outputs": [
    {
     "data": {
      "text/html": [
       "<div>\n",
       "<style scoped>\n",
       "    .dataframe tbody tr th:only-of-type {\n",
       "        vertical-align: middle;\n",
       "    }\n",
       "\n",
       "    .dataframe tbody tr th {\n",
       "        vertical-align: top;\n",
       "    }\n",
       "\n",
       "    .dataframe thead th {\n",
       "        text-align: right;\n",
       "    }\n",
       "</style>\n",
       "<table border=\"1\" class=\"dataframe\">\n",
       "  <thead>\n",
       "    <tr style=\"text-align: right;\">\n",
       "      <th></th>\n",
       "      <th>mean_absolute_error</th>\n",
       "      <th>mean_squared_error</th>\n",
       "      <th>folds_name</th>\n",
       "      <th>folds_params</th>\n",
       "      <th>data_fname</th>\n",
       "      <th>model_name</th>\n",
       "      <th>model_params</th>\n",
       "      <th>preproc_name</th>\n",
       "      <th>preproc_params</th>\n",
       "      <th>mean_absolute_error_mean</th>\n",
       "      <th>mean_absolute_error_min</th>\n",
       "      <th>mean_absolute_error_max</th>\n",
       "      <th>mean_absolute_error_std</th>\n",
       "      <th>mean_squared_error_mean</th>\n",
       "      <th>mean_squared_error_min</th>\n",
       "      <th>mean_squared_error_max</th>\n",
       "      <th>mean_squared_error_std</th>\n",
       "    </tr>\n",
       "  </thead>\n",
       "  <tbody>\n",
       "    <tr>\n",
       "      <th>0</th>\n",
       "      <td>[0.13506265113047597, 0.06262323065552083, 0.0...</td>\n",
       "      <td>[0.018901424255409204, 0.005633742371936817, 0...</td>\n",
       "      <td>KFold</td>\n",
       "      <td>{'n_splits': 4}</td>\n",
       "      <td>../../data/train_short_processed.h5</td>\n",
       "      <td>LinearRegression</td>\n",
       "      <td>{'n_jobs': '-1'}</td>\n",
       "      <td>NaN</td>\n",
       "      <td>NaN</td>\n",
       "      <td>0.104329</td>\n",
       "      <td>0.062623</td>\n",
       "      <td>0.142639</td>\n",
       "      <td>0.040410</td>\n",
       "      <td>0.015635</td>\n",
       "      <td>0.005634</td>\n",
       "      <td>0.021337</td>\n",
       "      <td>0.006935</td>\n",
       "    </tr>\n",
       "    <tr>\n",
       "      <th>0</th>\n",
       "      <td>[0.09636461241732003, 0.0736215527428248]</td>\n",
       "      <td>[0.016955747225976866, 0.008294939230576929]</td>\n",
       "      <td>RepeatedKFold</td>\n",
       "      <td>{'n_splits': 2, 'n_repeats': 1}</td>\n",
       "      <td>../../data/train_short_processed.h5</td>\n",
       "      <td>LinearRegression</td>\n",
       "      <td>{'n_jobs': '-1'}</td>\n",
       "      <td>NaN</td>\n",
       "      <td>NaN</td>\n",
       "      <td>0.084993</td>\n",
       "      <td>0.073622</td>\n",
       "      <td>0.096365</td>\n",
       "      <td>0.016082</td>\n",
       "      <td>0.012625</td>\n",
       "      <td>0.008295</td>\n",
       "      <td>0.016956</td>\n",
       "      <td>0.006124</td>\n",
       "    </tr>\n",
       "  </tbody>\n",
       "</table>\n",
       "</div>"
      ],
      "text/plain": [
       "                                 mean_absolute_error  \\\n",
       "0  [0.13506265113047597, 0.06262323065552083, 0.0...   \n",
       "0          [0.09636461241732003, 0.0736215527428248]   \n",
       "\n",
       "                                  mean_squared_error     folds_name  \\\n",
       "0  [0.018901424255409204, 0.005633742371936817, 0...          KFold   \n",
       "0       [0.016955747225976866, 0.008294939230576929]  RepeatedKFold   \n",
       "\n",
       "                      folds_params                           data_fname  \\\n",
       "0                  {'n_splits': 4}  ../../data/train_short_processed.h5   \n",
       "0  {'n_splits': 2, 'n_repeats': 1}  ../../data/train_short_processed.h5   \n",
       "\n",
       "         model_name      model_params  preproc_name  preproc_params  \\\n",
       "0  LinearRegression  {'n_jobs': '-1'}           NaN             NaN   \n",
       "0  LinearRegression  {'n_jobs': '-1'}           NaN             NaN   \n",
       "\n",
       "   mean_absolute_error_mean  mean_absolute_error_min  mean_absolute_error_max  \\\n",
       "0                  0.104329                 0.062623                 0.142639   \n",
       "0                  0.084993                 0.073622                 0.096365   \n",
       "\n",
       "   mean_absolute_error_std  mean_squared_error_mean  mean_squared_error_min  \\\n",
       "0                 0.040410                 0.015635                0.005634   \n",
       "0                 0.016082                 0.012625                0.008295   \n",
       "\n",
       "   mean_squared_error_max  mean_squared_error_std  \n",
       "0                0.021337                0.006935  \n",
       "0                0.016956                0.006124  "
      ]
     },
     "execution_count": 5,
     "metadata": {},
     "output_type": "execute_result"
    }
   ],
   "source": [
    "summary_data.head(13)"
   ]
  },
  {
   "cell_type": "code",
   "execution_count": 6,
   "metadata": {
    "ExecuteTime": {
     "end_time": "2019-03-18T04:13:06.663017Z",
     "start_time": "2019-03-18T04:13:06.657871Z"
    }
   },
   "outputs": [
    {
     "data": {
      "text/plain": [
       "0    [0.13506265113047597, 0.06262323065552083, 0.0...\n",
       "0            [0.09636461241732003, 0.0736215527428248]\n",
       "Name: mean_absolute_error, dtype: object"
      ]
     },
     "execution_count": 6,
     "metadata": {},
     "output_type": "execute_result"
    }
   ],
   "source": [
    "summary_data['mean_absolute_error']"
   ]
  },
  {
   "cell_type": "markdown",
   "metadata": {},
   "source": [
    "combine model's detail in one column"
   ]
  },
  {
   "cell_type": "code",
   "execution_count": 7,
   "metadata": {
    "ExecuteTime": {
     "end_time": "2019-03-18T04:13:09.124831Z",
     "start_time": "2019-03-18T04:13:09.122371Z"
    }
   },
   "outputs": [],
   "source": [
    "def unit_data(x):\n",
    "    x_all = ''\n",
    "    for x_i in x:\n",
    "        if x_i != 'nan':\n",
    "            x_all += x_i\n",
    "            x_all += '\\n'\n",
    "    return x_all        "
   ]
  },
  {
   "cell_type": "code",
   "execution_count": 8,
   "metadata": {
    "ExecuteTime": {
     "end_time": "2019-03-18T04:13:11.004867Z",
     "start_time": "2019-03-18T04:13:10.994815Z"
    }
   },
   "outputs": [],
   "source": [
    "summary_data['label'] = summary_data[features_columns].astype(str).apply(unit_data,1)"
   ]
  },
  {
   "cell_type": "markdown",
   "metadata": {},
   "source": [
    "sort dataframe by mean value"
   ]
  },
  {
   "cell_type": "code",
   "execution_count": 9,
   "metadata": {
    "ExecuteTime": {
     "end_time": "2019-03-18T04:13:13.144798Z",
     "start_time": "2019-03-18T04:13:13.141229Z"
    }
   },
   "outputs": [],
   "source": [
    "sort_summary_data = summary_data.sort_values(by=['mean_squared_error_mean'], ascending=True)"
   ]
  },
  {
   "cell_type": "markdown",
   "metadata": {},
   "source": [
    "# MAE metric "
   ]
  },
  {
   "cell_type": "code",
   "execution_count": 10,
   "metadata": {
    "ExecuteTime": {
     "end_time": "2019-03-18T04:13:14.886224Z",
     "start_time": "2019-03-18T04:13:14.881859Z"
    }
   },
   "outputs": [],
   "source": [
    "metric_mae = sort_summary_data['mean_absolute_error'].apply(pd.Series).fillna(0).values\n",
    "r_metric_mae = [list(x) for x in zip(*metric_mae)]"
   ]
  },
  {
   "cell_type": "code",
   "execution_count": 11,
   "metadata": {
    "ExecuteTime": {
     "end_time": "2019-03-18T04:13:16.702968Z",
     "start_time": "2019-03-18T04:13:16.338213Z"
    }
   },
   "outputs": [
    {
     "name": "stderr",
     "output_type": "stream",
     "text": [
      "/anaconda3/envs/p-sci/lib/python3.6/site-packages/scipy/stats/stats.py:1713: FutureWarning: Using a non-tuple sequence for multidimensional indexing is deprecated; use `arr[tuple(seq)]` instead of `arr[seq]`. In the future this will be interpreted as an array index, `arr[np.array(seq)]`, which will result either in an error or a different result.\n",
      "  return np.add.reduce(sorted[indexer] * weights, axis=axis) / sumval\n"
     ]
    },
    {
     "data": {
      "text/plain": [
       "(array([0, 1]), <a list of 2 Text xticklabel objects>)"
      ]
     },
     "execution_count": 11,
     "metadata": {},
     "output_type": "execute_result"
    },
    {
     "data": {
      "image/png": "[encoded data removed]",
      "text/plain": [
       "<Figure size 1152x720 with 1 Axes>"
      ]
     },
     "metadata": {},
     "output_type": "display_data"
    }
   ],
   "source": [
    "sns.set(rc={'figure.figsize':(16,10)})\n",
    "# Show each distribution with violins\n",
    "ax = sns.violinplot(data=np.array(r_metric_mae))\n",
    "ax.set_xticklabels(sort_summary_data['label'].values)\n",
    "plt.xticks(rotation=90)"
   ]
  },
  {
   "cell_type": "markdown",
   "metadata": {},
   "source": [
    "# RMSE metric "
   ]
  },
  {
   "cell_type": "code",
   "execution_count": null,
   "metadata": {},
   "outputs": [],
   "source": [
    "metric_rmse = sort_summary_data['mean_squared_error'].apply(pd.Series).fillna(0).values\n",
    "r_metric_rmse = [list(x) for x in zip(*metric_rmse)]"
   ]
  },
  {
   "cell_type": "code",
   "execution_count": null,
   "metadata": {},
   "outputs": [],
   "source": [
    "sns.set(rc={'figure.figsize':(16,10)})\n",
    "# Show each distribution with violins\n",
    "ax = sns.violinplot(data=np.array(r_metric_rmse))\n",
    "ax.set_xticklabels(sort_summary_data['label'].values)\n",
    "plt.xticks(rotation=90)"
   ]
  },
  {
   "cell_type": "code",
   "execution_count": null,
   "metadata": {},
   "outputs": [],
   "source": []
  }
 ],
 "metadata": {
  "kernelspec": {
   "display_name": "Python 3",
   "language": "python",
   "name": "python3"
  },
  "language_info": {
   "codemirror_mode": {
    "name": "ipython",
    "version": 3
   },
   "file_extension": ".py",
   "mimetype": "text/x-python",
   "name": "python",
   "nbconvert_exporter": "python",
   "pygments_lexer": "ipython3",
   "version": "3.6.8"
  }
 },
 "nbformat": 4,
 "nbformat_minor": 2
}
