{
 "cells": [
  {
   "cell_type": "code",
   "execution_count": null,
   "metadata": {},
   "outputs": [],
   "source": [
    "import matplotlib as mpl\n",
    "import numpy as np\n",
    "mpl.use('Agg')\n",
    "import matplotlib.pyplot as plt\n",
    "import seaborn as sns\n",
    "import time\n",
    "import pickle\n",
    "import ast\n",
    "%matplotlib inline"
   ]
  },
  {
   "cell_type": "code",
   "execution_count": null,
   "metadata": {},
   "outputs": [],
   "source": [
    "import pandas as pd\n",
    "import re \n",
    "summary_data = pd.read_csv('data/summary_simple.csv')"
   ]
  },
  {
   "cell_type": "markdown",
   "metadata": {},
   "source": [
    "Find all columns with score"
   ]
  },
  {
   "cell_type": "code",
   "execution_count": null,
   "metadata": {},
   "outputs": [],
   "source": [
    "metrics_columns = [f for f in summary_data.columns if not re.match(r\"(?:fold|model|data|preproc)\", f)]\n",
    "features_columns = [f for f in summary_data.columns if re.match(r\"(?:fold|model|data|preproc)\", f)]\n",
    "print(metrics_columns, features_columns)"
   ]
  },
  {
   "cell_type": "markdown",
   "metadata": {},
   "source": [
    "Find mean, max, min, std for metrics"
   ]
  },
  {
   "cell_type": "code",
   "execution_count": null,
   "metadata": {},
   "outputs": [],
   "source": [
    "%time\n",
    "for k in metrics_columns:\n",
    "    s = summary_data[k].apply(ast.literal_eval)\n",
    "    summary_data[str(k) + \"_mean\"] = pd.DataFrame(s.values.tolist(), index=s.index).astype(float).fillna(0).mean(axis=1)\n",
    "    summary_data[str(k) + \"_min\"] = pd.DataFrame(s.values.tolist(), index=s.index).astype(float).fillna(0).min(axis=1)\n",
    "    summary_data[str(k) + \"_max\"] = pd.DataFrame(s.values.tolist(), index=s.index).astype(float).fillna(0).max(axis=1)\n",
    "    summary_data[str(k) + \"_std\"] = pd.DataFrame(s.values.tolist(), index=s.index).astype(float).fillna(0).std(axis=1)\n"
   ]
  },
  {
   "cell_type": "code",
   "execution_count": null,
   "metadata": {
    "ExecuteTime": {
     "end_time": "2019-03-23T06:25:58.938905Z",
     "start_time": "2019-03-23T06:25:58.921684Z"
    },
    "scrolled": true
   },
   "outputs": [],
   "source": [
    "summary_data"
   ]
  },
  {
   "cell_type": "code",
   "execution_count": null,
   "metadata": {},
   "outputs": [],
   "source": [
    "summary_data['mean_absolute_error']"
   ]
  },
  {
   "cell_type": "markdown",
   "metadata": {},
   "source": [
    "combine model's detail in one column"
   ]
  },
  {
   "cell_type": "code",
   "execution_count": null,
   "metadata": {},
   "outputs": [],
   "source": [
    "def unit_data(x):\n",
    "    x_all = ''\n",
    "    for x_i in x:\n",
    "        if x_i != 'nan':\n",
    "            x_all += x_i\n",
    "            x_all += '\\n'\n",
    "    return x_all        "
   ]
  },
  {
   "cell_type": "code",
   "execution_count": null,
   "metadata": {},
   "outputs": [],
   "source": [
    "summary_data['label'] = summary_data[features_columns].astype(str).apply(unit_data,1)"
   ]
  },
  {
   "cell_type": "markdown",
   "metadata": {},
   "source": [
    "sort dataframe by mean value"
   ]
  },
  {
   "cell_type": "code",
   "execution_count": null,
   "metadata": {},
   "outputs": [],
   "source": [
    "sort_summary_data = summary_data.sort_values(by=['mean_squared_error_mean'], ascending=True)"
   ]
  },
  {
   "cell_type": "markdown",
   "metadata": {},
   "source": [
    "# MAE metric "
   ]
  },
  {
   "cell_type": "code",
   "execution_count": null,
   "metadata": {},
   "outputs": [],
   "source": [
    "import ast"
   ]
  },
  {
   "cell_type": "code",
   "execution_count": null,
   "metadata": {},
   "outputs": [],
   "source": [
    "s = sort_summary_data['mean_absolute_error'].apply(ast.literal_eval)\n",
    "df = pd.DataFrame(s.values.tolist(), index=s.index).astype(float).fillna(0)\n",
    "print (df.values)\n",
    "r_metric_mae = [list(x) for x in zip(*df.values)]"
   ]
  },
  {
   "cell_type": "code",
   "execution_count": null,
   "metadata": {},
   "outputs": [],
   "source": [
    "metric_mae = sort_summary_data['mean_absolute_error'].apply(pd.Series).fillna(0).values\n",
    "r_metric_mae = [list(x) for x in zip(*metric_mae)]"
   ]
  },
  {
   "cell_type": "code",
   "execution_count": null,
   "metadata": {},
   "outputs": [],
   "source": [
    "sns.set(rc={'figure.figsize':(16,10)})\n",
    "# Show each distribution with violins\n",
    "ax = sns.violinplot(data=np.array(r_metric_mae))\n",
    "ax.set_xticklabels(sort_summary_data['label'].values)\n",
    "plt.xticks(rotation=90)"
   ]
  },
  {
   "cell_type": "markdown",
   "metadata": {},
   "source": [
    "# RMSE metric "
   ]
  },
  {
   "cell_type": "code",
   "execution_count": null,
   "metadata": {},
   "outputs": [],
   "source": [
    "metric_rmse = sort_summary_data['mean_squared_error'].apply(pd.Series).fillna(0).values\n",
    "r_metric_rmse = [list(x) for x in zip(*metric_rmse)]"
   ]
  },
  {
   "cell_type": "code",
   "execution_count": null,
   "metadata": {},
   "outputs": [],
   "source": [
    "sns.set(rc={'figure.figsize':(16,10)})\n",
    "# Show each distribution with violins\n",
    "ax = sns.violinplot(data=np.array(r_metric_rmse))\n",
    "ax.set_xticklabels(sort_summary_data['label'].values)\n",
    "plt.xticks(rotation=90)"
   ]
  },
  {
   "cell_type": "code",
   "execution_count": null,
   "metadata": {},
   "outputs": [],
   "source": []
  }
 ],
 "metadata": {
  "kernelspec": {
   "display_name": "Python 3",
   "language": "python",
   "name": "python3"
  },
  "language_info": {
   "codemirror_mode": {
    "name": "ipython",
    "version": 3
   },
   "file_extension": ".py",
   "mimetype": "text/x-python",
   "name": "python",
   "nbconvert_exporter": "python",
   "pygments_lexer": "ipython3",
   "version": "3.6.7"
  }
 },
 "nbformat": 4,
 "nbformat_minor": 2
}
