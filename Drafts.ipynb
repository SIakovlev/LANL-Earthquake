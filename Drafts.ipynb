{
 "cells": [
  {
   "cell_type": "code",
   "execution_count": 7,
   "metadata": {
    "ExecuteTime": {
     "end_time": "2019-03-23T08:03:59.325727Z",
     "start_time": "2019-03-23T08:03:59.322423Z"
    }
   },
   "outputs": [],
   "source": [
    "import numpy as np\n",
    "import matplotlib.pyplot as plt\n",
    "import pandas as pd\n",
    "import functools\n",
    "import scipy.signal\n",
    "import tsfresh\n",
    "import pickle\n",
    "from tqdm import tqdm\n",
    "import inspect\n",
    "import sys\n",
    "import json\n",
    "from scipy.signal import savgol_filter\n",
    "sys.path.append(\"src/data_processing/\")\n",
    "sys.path.append(\"src/validation/\")\n",
    "import dp_utils as dp"
   ]
  },
  {
   "cell_type": "code",
   "execution_count": null,
   "metadata": {},
   "outputs": [],
   "source": [
    "%%time\n",
    "\n",
    "filepath = '/home/sergey/Projects/Kaggle/LANL-Earthquake-Prediction/train.csv'\n",
    "\n",
    "df = pd.read_csv(filepath, \n",
    "                 dtype={\"acoustic_data\": np.int16, \"time_to_failure\": np.float32}, \n",
    "                 skiprows=1, \n",
    "                 names=['s', 'ttf'])"
   ]
  },
  {
   "cell_type": "code",
   "execution_count": null,
   "metadata": {},
   "outputs": [],
   "source": [
    "filepath = '/home/sergey/Projects/Kaggle/LANL-Earthquake-Prediction/train/train.h5'\n",
    "\n",
    "df.to_hdf(filepath, key='table')"
   ]
  },
  {
   "cell_type": "code",
   "execution_count": 2,
   "metadata": {
    "ExecuteTime": {
     "end_time": "2019-03-23T07:59:17.214080Z",
     "start_time": "2019-03-23T07:59:17.147660Z"
    }
   },
   "outputs": [],
   "source": [
    "# filepath = '/home/sergey/Projects/Kaggle/LANL-Earthquake-Prediction/train/train.h5'\n",
    "# filepath = '/Users/sergey/Dev/Kaggle/LANL-Earthquake-Prediction/train/train.h5'\n",
    "filepath = '/Users/sergey/Dev/Kaggle/LANL-Earthquake-Prediction/train/train_short.h5'\n",
    "\n",
    "df = pd.read_hdf(filepath, key='table')"
   ]
  },
  {
   "cell_type": "code",
   "execution_count": null,
   "metadata": {},
   "outputs": [],
   "source": [
    "# filepath = './data/train_short_processed.h5'\n",
    "filepath = './data.nosync/train_processed.h5'\n",
    "\n",
    "df_processed = pd.read_hdf(filepath, key='table')"
   ]
  },
  {
   "cell_type": "code",
   "execution_count": null,
   "metadata": {},
   "outputs": [],
   "source": []
  },
  {
   "cell_type": "code",
   "execution_count": null,
   "metadata": {},
   "outputs": [],
   "source": [
    "with open(\"src/validation/Model LinearRegression(copy_X=True, fit_intercept=True, n_jobs='-1', normalize=True)\", 'rb') as file:  \n",
    "    pickle_model = pickle.load(file)"
   ]
  },
  {
   "cell_type": "code",
   "execution_count": null,
   "metadata": {},
   "outputs": [],
   "source": [
    "plt.figure(figsize=(20, 10))\n",
    "# plt.plot(df_processed['ttf'], 'k')\n",
    "plt.plot(pickle_model.predict(df_processed.drop('ttf', axis=1)))\n",
    "plt.show()"
   ]
  },
  {
   "cell_type": "code",
   "execution_count": null,
   "metadata": {},
   "outputs": [],
   "source": []
  },
  {
   "cell_type": "code",
   "execution_count": 4,
   "metadata": {
    "ExecuteTime": {
     "end_time": "2019-03-23T07:59:54.224190Z",
     "start_time": "2019-03-23T07:59:54.159165Z"
    }
   },
   "outputs": [
    {
     "name": "stdout",
     "output_type": "stream",
     "text": [
      "Inside of DumpDecorator\n",
      "Inside of WindowDecorator\n",
      "Test: 100%|██████████| 100/100 [00:00<00:00, 2135.43it/s]\n",
      "\t window decorator: \n",
      "\t - window size: 10000\n"
     ]
    }
   ],
   "source": [
    "dp.w_psd(df['s'], window_size=10000, desc_line=\"Test\", save_path=\"./data.nosync/w_psd.h5\")"
   ]
  },
  {
   "cell_type": "code",
   "execution_count": 6,
   "metadata": {
    "ExecuteTime": {
     "end_time": "2019-03-23T08:00:49.863035Z",
     "start_time": "2019-03-23T08:00:49.841827Z"
    }
   },
   "outputs": [
    {
     "data": {
      "text/html": [
       "<div>\n",
       "<style scoped>\n",
       "    .dataframe tbody tr th:only-of-type {\n",
       "        vertical-align: middle;\n",
       "    }\n",
       "\n",
       "    .dataframe tbody tr th {\n",
       "        vertical-align: top;\n",
       "    }\n",
       "\n",
       "    .dataframe thead th {\n",
       "        text-align: right;\n",
       "    }\n",
       "</style>\n",
       "<table border=\"1\" class=\"dataframe\">\n",
       "  <thead>\n",
       "    <tr style=\"text-align: right;\">\n",
       "      <th></th>\n",
       "      <th>Test</th>\n",
       "    </tr>\n",
       "  </thead>\n",
       "  <tbody>\n",
       "    <tr>\n",
       "      <th>0</th>\n",
       "      <td>0.313969</td>\n",
       "    </tr>\n",
       "    <tr>\n",
       "      <th>1</th>\n",
       "      <td>0.061500</td>\n",
       "    </tr>\n",
       "    <tr>\n",
       "      <th>2</th>\n",
       "      <td>0.031539</td>\n",
       "    </tr>\n",
       "    <tr>\n",
       "      <th>3</th>\n",
       "      <td>0.064938</td>\n",
       "    </tr>\n",
       "    <tr>\n",
       "      <th>4</th>\n",
       "      <td>0.054127</td>\n",
       "    </tr>\n",
       "    <tr>\n",
       "      <th>5</th>\n",
       "      <td>0.041660</td>\n",
       "    </tr>\n",
       "    <tr>\n",
       "      <th>6</th>\n",
       "      <td>0.081383</td>\n",
       "    </tr>\n",
       "    <tr>\n",
       "      <th>7</th>\n",
       "      <td>0.039322</td>\n",
       "    </tr>\n",
       "    <tr>\n",
       "      <th>8</th>\n",
       "      <td>0.062290</td>\n",
       "    </tr>\n",
       "    <tr>\n",
       "      <th>9</th>\n",
       "      <td>0.055320</td>\n",
       "    </tr>\n",
       "    <tr>\n",
       "      <th>10</th>\n",
       "      <td>0.028338</td>\n",
       "    </tr>\n",
       "    <tr>\n",
       "      <th>11</th>\n",
       "      <td>0.032919</td>\n",
       "    </tr>\n",
       "    <tr>\n",
       "      <th>12</th>\n",
       "      <td>0.029062</td>\n",
       "    </tr>\n",
       "    <tr>\n",
       "      <th>13</th>\n",
       "      <td>0.029595</td>\n",
       "    </tr>\n",
       "    <tr>\n",
       "      <th>14</th>\n",
       "      <td>0.047550</td>\n",
       "    </tr>\n",
       "    <tr>\n",
       "      <th>15</th>\n",
       "      <td>0.039532</td>\n",
       "    </tr>\n",
       "    <tr>\n",
       "      <th>16</th>\n",
       "      <td>0.427267</td>\n",
       "    </tr>\n",
       "    <tr>\n",
       "      <th>17</th>\n",
       "      <td>0.026582</td>\n",
       "    </tr>\n",
       "    <tr>\n",
       "      <th>18</th>\n",
       "      <td>0.103617</td>\n",
       "    </tr>\n",
       "    <tr>\n",
       "      <th>19</th>\n",
       "      <td>0.069906</td>\n",
       "    </tr>\n",
       "    <tr>\n",
       "      <th>20</th>\n",
       "      <td>0.383334</td>\n",
       "    </tr>\n",
       "    <tr>\n",
       "      <th>21</th>\n",
       "      <td>0.065995</td>\n",
       "    </tr>\n",
       "    <tr>\n",
       "      <th>22</th>\n",
       "      <td>0.026459</td>\n",
       "    </tr>\n",
       "    <tr>\n",
       "      <th>23</th>\n",
       "      <td>0.034010</td>\n",
       "    </tr>\n",
       "    <tr>\n",
       "      <th>24</th>\n",
       "      <td>0.073745</td>\n",
       "    </tr>\n",
       "    <tr>\n",
       "      <th>25</th>\n",
       "      <td>0.062739</td>\n",
       "    </tr>\n",
       "    <tr>\n",
       "      <th>26</th>\n",
       "      <td>0.058401</td>\n",
       "    </tr>\n",
       "    <tr>\n",
       "      <th>27</th>\n",
       "      <td>0.177405</td>\n",
       "    </tr>\n",
       "    <tr>\n",
       "      <th>28</th>\n",
       "      <td>0.044913</td>\n",
       "    </tr>\n",
       "    <tr>\n",
       "      <th>29</th>\n",
       "      <td>0.033630</td>\n",
       "    </tr>\n",
       "    <tr>\n",
       "      <th>...</th>\n",
       "      <td>...</td>\n",
       "    </tr>\n",
       "    <tr>\n",
       "      <th>70</th>\n",
       "      <td>0.285102</td>\n",
       "    </tr>\n",
       "    <tr>\n",
       "      <th>71</th>\n",
       "      <td>0.022483</td>\n",
       "    </tr>\n",
       "    <tr>\n",
       "      <th>72</th>\n",
       "      <td>0.082753</td>\n",
       "    </tr>\n",
       "    <tr>\n",
       "      <th>73</th>\n",
       "      <td>0.024368</td>\n",
       "    </tr>\n",
       "    <tr>\n",
       "      <th>74</th>\n",
       "      <td>0.325147</td>\n",
       "    </tr>\n",
       "    <tr>\n",
       "      <th>75</th>\n",
       "      <td>0.033569</td>\n",
       "    </tr>\n",
       "    <tr>\n",
       "      <th>76</th>\n",
       "      <td>0.050679</td>\n",
       "    </tr>\n",
       "    <tr>\n",
       "      <th>77</th>\n",
       "      <td>0.031426</td>\n",
       "    </tr>\n",
       "    <tr>\n",
       "      <th>78</th>\n",
       "      <td>0.097829</td>\n",
       "    </tr>\n",
       "    <tr>\n",
       "      <th>79</th>\n",
       "      <td>0.032613</td>\n",
       "    </tr>\n",
       "    <tr>\n",
       "      <th>80</th>\n",
       "      <td>0.245712</td>\n",
       "    </tr>\n",
       "    <tr>\n",
       "      <th>81</th>\n",
       "      <td>0.031609</td>\n",
       "    </tr>\n",
       "    <tr>\n",
       "      <th>82</th>\n",
       "      <td>0.066817</td>\n",
       "    </tr>\n",
       "    <tr>\n",
       "      <th>83</th>\n",
       "      <td>0.109657</td>\n",
       "    </tr>\n",
       "    <tr>\n",
       "      <th>84</th>\n",
       "      <td>0.074519</td>\n",
       "    </tr>\n",
       "    <tr>\n",
       "      <th>85</th>\n",
       "      <td>0.025123</td>\n",
       "    </tr>\n",
       "    <tr>\n",
       "      <th>86</th>\n",
       "      <td>0.047148</td>\n",
       "    </tr>\n",
       "    <tr>\n",
       "      <th>87</th>\n",
       "      <td>0.045868</td>\n",
       "    </tr>\n",
       "    <tr>\n",
       "      <th>88</th>\n",
       "      <td>0.136201</td>\n",
       "    </tr>\n",
       "    <tr>\n",
       "      <th>89</th>\n",
       "      <td>0.076428</td>\n",
       "    </tr>\n",
       "    <tr>\n",
       "      <th>90</th>\n",
       "      <td>0.025817</td>\n",
       "    </tr>\n",
       "    <tr>\n",
       "      <th>91</th>\n",
       "      <td>0.068186</td>\n",
       "    </tr>\n",
       "    <tr>\n",
       "      <th>92</th>\n",
       "      <td>0.050331</td>\n",
       "    </tr>\n",
       "    <tr>\n",
       "      <th>93</th>\n",
       "      <td>0.169892</td>\n",
       "    </tr>\n",
       "    <tr>\n",
       "      <th>94</th>\n",
       "      <td>0.127406</td>\n",
       "    </tr>\n",
       "    <tr>\n",
       "      <th>95</th>\n",
       "      <td>0.029115</td>\n",
       "    </tr>\n",
       "    <tr>\n",
       "      <th>96</th>\n",
       "      <td>0.025322</td>\n",
       "    </tr>\n",
       "    <tr>\n",
       "      <th>97</th>\n",
       "      <td>0.081937</td>\n",
       "    </tr>\n",
       "    <tr>\n",
       "      <th>98</th>\n",
       "      <td>0.180414</td>\n",
       "    </tr>\n",
       "    <tr>\n",
       "      <th>99</th>\n",
       "      <td>0.091580</td>\n",
       "    </tr>\n",
       "  </tbody>\n",
       "</table>\n",
       "<p>100 rows × 1 columns</p>\n",
       "</div>"
      ],
      "text/plain": [
       "        Test\n",
       "0   0.313969\n",
       "1   0.061500\n",
       "2   0.031539\n",
       "3   0.064938\n",
       "4   0.054127\n",
       "5   0.041660\n",
       "6   0.081383\n",
       "7   0.039322\n",
       "8   0.062290\n",
       "9   0.055320\n",
       "10  0.028338\n",
       "11  0.032919\n",
       "12  0.029062\n",
       "13  0.029595\n",
       "14  0.047550\n",
       "15  0.039532\n",
       "16  0.427267\n",
       "17  0.026582\n",
       "18  0.103617\n",
       "19  0.069906\n",
       "20  0.383334\n",
       "21  0.065995\n",
       "22  0.026459\n",
       "23  0.034010\n",
       "24  0.073745\n",
       "25  0.062739\n",
       "26  0.058401\n",
       "27  0.177405\n",
       "28  0.044913\n",
       "29  0.033630\n",
       "..       ...\n",
       "70  0.285102\n",
       "71  0.022483\n",
       "72  0.082753\n",
       "73  0.024368\n",
       "74  0.325147\n",
       "75  0.033569\n",
       "76  0.050679\n",
       "77  0.031426\n",
       "78  0.097829\n",
       "79  0.032613\n",
       "80  0.245712\n",
       "81  0.031609\n",
       "82  0.066817\n",
       "83  0.109657\n",
       "84  0.074519\n",
       "85  0.025123\n",
       "86  0.047148\n",
       "87  0.045868\n",
       "88  0.136201\n",
       "89  0.076428\n",
       "90  0.025817\n",
       "91  0.068186\n",
       "92  0.050331\n",
       "93  0.169892\n",
       "94  0.127406\n",
       "95  0.029115\n",
       "96  0.025322\n",
       "97  0.081937\n",
       "98  0.180414\n",
       "99  0.091580\n",
       "\n",
       "[100 rows x 1 columns]"
      ]
     },
     "execution_count": 6,
     "metadata": {},
     "output_type": "execute_result"
    }
   ],
   "source": [
    "filepath = './data.nosync/w_psd.h5'\n",
    "\n",
    "w_psd_file = pd.read_hdf(filepath, key='table')\n",
    "\n",
    "w_psd_file"
   ]
  },
  {
   "cell_type": "code",
   "execution_count": 9,
   "metadata": {
    "ExecuteTime": {
     "end_time": "2019-03-23T08:04:18.277107Z",
     "start_time": "2019-03-23T08:04:18.273153Z"
    }
   },
   "outputs": [],
   "source": [
    "with open(\"dp_config.json\", 'rb') as config:\n",
    "    params = json.load(config)"
   ]
  },
  {
   "cell_type": "code",
   "execution_count": 12,
   "metadata": {
    "ExecuteTime": {
     "end_time": "2019-03-23T08:04:36.538008Z",
     "start_time": "2019-03-23T08:04:36.534637Z"
    }
   },
   "outputs": [
    {
     "ename": "SyntaxError",
     "evalue": "invalid syntax (<ipython-input-12-1572029df8dc>, line 1)",
     "output_type": "error",
     "traceback": [
      "\u001b[0;36m  File \u001b[0;32m\"<ipython-input-12-1572029df8dc>\"\u001b[0;36m, line \u001b[0;32m1\u001b[0m\n\u001b[0;31m    **params['routines']\u001b[0m\n\u001b[0m     ^\u001b[0m\n\u001b[0;31mSyntaxError\u001b[0m\u001b[0;31m:\u001b[0m invalid syntax\n"
     ]
    }
   ],
   "source": [
    "params['routines']"
   ]
  },
  {
   "cell_type": "code",
   "execution_count": null,
   "metadata": {},
   "outputs": [],
   "source": [
    "test = [1, 3, 4]\n",
    "test2 = [np.array([1, 2, 3])]\n",
    "\n",
    "print(pd.DataFrame([t for t in test2]))"
   ]
  },
  {
   "cell_type": "code",
   "execution_count": null,
   "metadata": {},
   "outputs": [],
   "source": []
  },
  {
   "cell_type": "code",
   "execution_count": null,
   "metadata": {},
   "outputs": [],
   "source": [
    "plt.figure(figsize=(20, 10))\n",
    "plt.plot(dp._upscale_column(dp.w_psd(df['s'], window_size=5000, fs=4e6), 100), 'k')\n",
    "plt.plot(dp.w_psd(df['s'], window_size=5000, fs=4e6), 'r')\n",
    "plt.grid(True)\n",
    "plt.show()"
   ]
  },
  {
   "cell_type": "code",
   "execution_count": null,
   "metadata": {},
   "outputs": [],
   "source": []
  },
  {
   "cell_type": "code",
   "execution_count": null,
   "metadata": {},
   "outputs": [],
   "source": []
  },
  {
   "cell_type": "code",
   "execution_count": null,
   "metadata": {},
   "outputs": [],
   "source": []
  },
  {
   "cell_type": "code",
   "execution_count": null,
   "metadata": {},
   "outputs": [],
   "source": []
  },
  {
   "cell_type": "code",
   "execution_count": null,
   "metadata": {},
   "outputs": [],
   "source": [
    "def filter_decorator(window=21, poly_order=1):\n",
    "    def filter_calc(func):\n",
    "        @functools.wraps(func)\n",
    "        def wrapper(*args, **kwargs):\n",
    "            df = func(args[0], *args, **kwargs)\n",
    "            temp = savgol_filter(df.squeeze(), window, poly_order)\n",
    "            return pd.DataFrame(temp, columns={func.__name__})\n",
    "        return wrapper\n",
    "    return filter_calc\n",
    "        \n",
    "def function_decorator(f, params):\n",
    "    def filter_calc(func):\n",
    "        @functools.wraps(func)\n",
    "        def wrapper(*args, **kwargs):\n",
    "            df = func(args[0], *args, **kwargs)\n",
    "            temp = f(df.squeeze(), **params)\n",
    "            tqdm.write(\"\\t function decorator: \")\n",
    "            tqdm.write(\"\\t - {}{}\".format(f.__name__, inspect.signature(f)))\n",
    "            tqdm.write(\"\\t - params: {}\".format(params))\n",
    "            return pd.DataFrame(temp, columns={func.__name__ + '+' + f.__name__ + '({})'.format(params)})\n",
    "        return wrapper\n",
    "    return filter_calc\n",
    "\n",
    "def window_decorator(window_size=10000):\n",
    "    def window_calc(func):\n",
    "        @functools.wraps(func)\n",
    "        def wrapper(*args, **kwargs):\n",
    "            temp = []\n",
    "            df = args[0]\n",
    "            inspect_params = inspect.getfullargspec(func)\n",
    "            for i in tqdm(range(0, df.shape[0], window_size), \n",
    "                    desc=func.__name__ + \"({}, \".format(*inspect_params.args)\n",
    "                          + ', '.join(\"{}={})\".format(k, v) for k, v in kwargs.items()), file=sys.stdout):\n",
    "                batch = df.iloc[i: i+window_size].values\n",
    "                temp.append(func(batch, *args, **kwargs))\n",
    "            tqdm.write(\"\\t window decorator: \")\n",
    "            tqdm.write(\"\\t - window size: {}\".format(window_size))\n",
    "            return pd.DataFrame(temp, columns={func.__name__})\n",
    "        return wrapper\n",
    "    return window_calc"
   ]
  },
  {
   "cell_type": "code",
   "execution_count": null,
   "metadata": {},
   "outputs": [],
   "source": [
    "@function_decorator(savgol_filter, {\"window_length\": 21, \"polyorder\": 1})\n",
    "@window_decorator()\n",
    "def w_mean(df, *args, **kwargs):\n",
    "    return np.mean(df)\n",
    "\n",
    "@function_decorator(savgol_filter, {\"window_length\": 21, \"polyorder\": 1})\n",
    "@window_decorator()\n",
    "def w_min(df, *args, **kwargs):\n",
    "    return np.min(df)\n",
    "\n",
    "@filter_decorator()\n",
    "@window_decorator()\n",
    "def w_psd(df, *args, fs=4e6, **kwargs):\n",
    "    return np.sum(scipy.signal.periodogram(df, fs=fs)[1])\n",
    "\n",
    "@window_decorator()\n",
    "def w_psd_raw(df, *args, fs=4e6, **kwargs):\n",
    "    return np.sum(scipy.signal.periodogram(df, fs=fs)[1])"
   ]
  },
  {
   "cell_type": "code",
   "execution_count": null,
   "metadata": {},
   "outputs": [],
   "source": [
    "w_mean(df['s'])\n",
    "w_min(df['s'])"
   ]
  },
  {
   "cell_type": "code",
   "execution_count": null,
   "metadata": {},
   "outputs": [],
   "source": [
    "plt.figure(figsize=(20, 10))\n",
    "plt.plot(w_psd_raw(df['s']), 'k')\n",
    "plt.plot(w_psd(df['s']), 'r')"
   ]
  },
  {
   "cell_type": "code",
   "execution_count": null,
   "metadata": {},
   "outputs": [],
   "source": []
  },
  {
   "cell_type": "code",
   "execution_count": null,
   "metadata": {},
   "outputs": [],
   "source": [
    "plt.figure(figsize=(20, 10))\n",
    "plt.plot(w_mean(df['s']).values, 'k')\n",
    "plt.plot(savgol_filter(w_mean(df['s']).values.squeeze(), window_length=21, polyorder=2), 'r')\n",
    "plt.grid(True)\n",
    "plt.show()"
   ]
  },
  {
   "cell_type": "code",
   "execution_count": null,
   "metadata": {},
   "outputs": [],
   "source": [
    "predictions = pickle_model.predict(df_processed.drop(['w_labels'], axis=1))\n",
    "actual_values = df_processed['w_labels']\n",
    "print(len(abs(predictions - actual_values)))\n",
    "\n",
    "plt.figure(figsize=(20, 10))\n",
    "# plt.plot(predictions, 'r')\n",
    "plt.plot(scipy.signal.periodogram(actual_values.values, fs=4e2)[1], 'k')\n",
    "plt.ylim([0, 100])\n",
    "plt.xlim([0, 1000])\n",
    "plt.grid(True)\n",
    "plt.show()"
   ]
  },
  {
   "cell_type": "code",
   "execution_count": null,
   "metadata": {},
   "outputs": [],
   "source": [
    "# Import the necessary modules and libraries\n",
    "import numpy as np\n",
    "from sklearn.tree import DecisionTreeRegressor\n",
    "import matplotlib.pyplot as plt\n",
    "\n",
    "# Create a random dataset\n",
    "rng = np.random.RandomState(1)\n",
    "X = np.sort(15 * rng.rand(800, 1), axis=0)\n",
    "y = np.sin(X).ravel()\n",
    "# y[::5] += 3 * (0.5 - rng.rand(16))\n",
    "\n",
    "# Fit regression model\n",
    "regr_1 = DecisionTreeRegressor(max_depth=1)\n",
    "regr_2 = DecisionTreeRegressor(max_depth=3)\n",
    "regr_1.fit(X, y)\n",
    "regr_2.fit(X, y)\n",
    "\n",
    "# Predict\n",
    "X_test = np.arange(0.0, 15.0, 0.01)[:, np.newaxis]\n",
    "y_1 = regr_1.predict(X_test)\n",
    "y_2 = regr_2.predict(X_test)\n",
    "\n",
    "# Plot the results\n",
    "plt.figure()\n",
    "plt.scatter(X, y, s=20, edgecolor=\"black\",\n",
    "            c=\"darkorange\", label=\"data\")\n",
    "plt.plot(X_test, y_1, color=\"cornflowerblue\",\n",
    "         label=\"max_depth=2\", linewidth=2)\n",
    "plt.plot(X_test, y_2, color=\"yellowgreen\", label=\"max_depth=5\", linewidth=2)\n",
    "plt.xlabel(\"data\")\n",
    "plt.ylabel(\"target\")\n",
    "plt.title(\"Decision Tree Regression\")\n",
    "plt.legend()\n",
    "plt.show()"
   ]
  },
  {
   "cell_type": "code",
   "execution_count": null,
   "metadata": {},
   "outputs": [],
   "source": []
  },
  {
   "cell_type": "code",
   "execution_count": null,
   "metadata": {},
   "outputs": [],
   "source": []
  },
  {
   "cell_type": "code",
   "execution_count": null,
   "metadata": {},
   "outputs": [],
   "source": [
    "df['s'].values"
   ]
  },
  {
   "cell_type": "code",
   "execution_count": null,
   "metadata": {},
   "outputs": [],
   "source": [
    "t = {}\n",
    "if not t:\n",
    "    print(\"H\")"
   ]
  },
  {
   "cell_type": "code",
   "execution_count": null,
   "metadata": {},
   "outputs": [],
   "source": [
    "@window_decorator()\n",
    "def w_last(df, *args, **kwargs):\n",
    "    return df[-1]"
   ]
  },
  {
   "cell_type": "code",
   "execution_count": null,
   "metadata": {},
   "outputs": [],
   "source": [
    "df_processed = df_processed.join(dp.w_labels(df['ttf']))"
   ]
  },
  {
   "cell_type": "code",
   "execution_count": null,
   "metadata": {},
   "outputs": [],
   "source": [
    "df_processed"
   ]
  },
  {
   "cell_type": "code",
   "execution_count": null,
   "metadata": {},
   "outputs": [],
   "source": [
    "w_last(df['ttf'])"
   ]
  },
  {
   "cell_type": "code",
   "execution_count": null,
   "metadata": {},
   "outputs": [],
   "source": [
    "def window_decorator(window_size=10000):\n",
    "    def window_calc(func):\n",
    "        @functools.wraps(func)\n",
    "        def wrapper(*args, **kwargs):\n",
    "            temp = []\n",
    "            df = args[0]\n",
    "            inspect_params = inspect.getfullargspec(func)\n",
    "            for i in tqdm(range(0, df.shape[0], window_size), \n",
    "                    desc=func.__name__ + \"({}, \".format(*inspect_params.args)\n",
    "                          + ', '.join(\"{}={})\".format(k, v) for k, v in kwargs.items())):\n",
    "                batch = df.iloc[i: i+window_size].values\n",
    "                temp.append(func(batch, *args, **kwargs))\n",
    "            return pd.DataFrame(temp, columns={func.__name__})\n",
    "        return wrapper\n",
    "    return window_calc"
   ]
  },
  {
   "cell_type": "code",
   "execution_count": null,
   "metadata": {},
   "outputs": [],
   "source": [
    "@window_decorator()\n",
    "def w_autocorrelation(df, *args, lag=100, **kwargs):\n",
    "    return tsfresh.feature_extraction.feature_calculators.autocorrelation(df, lag=lag)\n",
    "@window_decorator()\n",
    "def w_psd(df, *args, fs=4e6, **kwargs):\n",
    "    return np.sum(scipy.signal.periodogram(df, fs=fs)[1])\n",
    "@window_decorator()\n",
    "def w_min(df, *args, **kwargs):\n",
    "    return np.min(df)\n",
    "@window_decorator()\n",
    "def w_absolute_sum_of_changes(df, *args, **kwargs):\n",
    "    return tsfresh.feature_extraction.feature_calculators.absolute_sum_of_changes(df)\n",
    "@window_decorator()\n",
    "def w_sample_entropy(df, *args, **kwargs):\n",
    "    return tsfresh.feature_extraction.feature_calculators.sample_entropy(df)\n",
    "@window_decorator()\n",
    "def w_symmetry_looking(df, *args, r=0.1, **kwargs):\n",
    "    return tsfresh.feature_extraction.feature_calculators.symmetry_looking(df, param={\"r\": r})"
   ]
  },
  {
   "cell_type": "code",
   "execution_count": null,
   "metadata": {},
   "outputs": [],
   "source": []
  },
  {
   "cell_type": "code",
   "execution_count": null,
   "metadata": {},
   "outputs": [],
   "source": []
  },
  {
   "cell_type": "code",
   "execution_count": null,
   "metadata": {},
   "outputs": [],
   "source": []
  },
  {
   "cell_type": "code",
   "execution_count": null,
   "metadata": {},
   "outputs": [],
   "source": []
  },
  {
   "cell_type": "code",
   "execution_count": null,
   "metadata": {},
   "outputs": [],
   "source": []
  }
 ],
 "metadata": {
  "kernelspec": {
   "display_name": "Python 3",
   "language": "python",
   "name": "python3"
  },
  "language_info": {
   "codemirror_mode": {
    "name": "ipython",
    "version": 3
   },
   "file_extension": ".py",
   "mimetype": "text/x-python",
   "name": "python",
   "nbconvert_exporter": "python",
   "pygments_lexer": "ipython3",
   "version": "3.6.8"
  }
 },
 "nbformat": 4,
 "nbformat_minor": 2
}
