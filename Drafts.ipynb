{
 "cells": [
  {
   "cell_type": "code",
   "execution_count": 1,
   "metadata": {
    "ExecuteTime": {
     "end_time": "2019-03-20T01:19:51.205011Z",
     "start_time": "2019-03-20T01:19:49.385602Z"
    }
   },
   "outputs": [],
   "source": [
    "import numpy as np\n",
    "import matplotlib.pyplot as plt\n",
    "import pandas as pd\n",
    "import functools\n",
    "import scipy.signal\n",
    "import tsfresh\n",
    "import pickle\n",
    "from tqdm import tqdm\n",
    "import inspect\n",
    "import sys\n",
    "from scipy.signal import savgol_filter\n",
    "sys.path.append(\"src/data_processing/\")\n",
    "sys.path.append(\"src/validation/\")\n",
    "import dp_utils as dp"
   ]
  },
  {
   "cell_type": "code",
   "execution_count": null,
   "metadata": {},
   "outputs": [],
   "source": [
    "%%time\n",
    "\n",
    "filepath = '/home/sergey/Projects/Kaggle/LANL-Earthquake-Prediction/train.csv'\n",
    "\n",
    "df = pd.read_csv(filepath, \n",
    "                 dtype={\"acoustic_data\": np.int16, \"time_to_failure\": np.float32}, \n",
    "                 skiprows=1, \n",
    "                 names=['s', 'ttf'])"
   ]
  },
  {
   "cell_type": "code",
   "execution_count": null,
   "metadata": {},
   "outputs": [],
   "source": [
    "filepath = '/home/sergey/Projects/Kaggle/LANL-Earthquake-Prediction/train/train.h5'\n",
    "\n",
    "df.to_hdf(filepath, key='table')"
   ]
  },
  {
   "cell_type": "code",
   "execution_count": 2,
   "metadata": {
    "ExecuteTime": {
     "end_time": "2019-03-20T01:20:01.685702Z",
     "start_time": "2019-03-20T01:20:01.595979Z"
    }
   },
   "outputs": [],
   "source": [
    "# filepath = '/home/sergey/Projects/Kaggle/LANL-Earthquake-Prediction/train/train.h5'\n",
    "# filepath = '/Users/sergey/Dev/Kaggle/LANL-Earthquake-Prediction/train/train.h5'\n",
    "filepath = '/Users/sergey/Dev/Kaggle/LANL-Earthquake-Prediction/train/train_short.h5'\n",
    "\n",
    "df = pd.read_hdf(filepath, key='table')"
   ]
  },
  {
   "cell_type": "code",
   "execution_count": null,
   "metadata": {},
   "outputs": [],
   "source": [
    "# filepath = './data/train_short_processed.h5'\n",
    "filepath = '/Users/sergey/Dev/Kaggle/LANL-Earthquake-Prediction/train/train_processed.h5'\n",
    "\n",
    "df_processed = pd.read_hdf(filepath, key='table')"
   ]
  },
  {
   "cell_type": "code",
   "execution_count": null,
   "metadata": {},
   "outputs": [],
   "source": [
    "df_processed\n"
   ]
  },
  {
   "cell_type": "code",
   "execution_count": null,
   "metadata": {},
   "outputs": [],
   "source": []
  },
  {
   "cell_type": "code",
   "execution_count": null,
   "metadata": {},
   "outputs": [],
   "source": [
    "from inspect import getmembers, isfunction\n",
    "\n",
    "funcname_list = [o[0] for o in getmembers(dp) if isfunction(o[1])]\n",
    "funcref_list = [o[1] for o in getmembers(dp) if isfunction(o[1])]"
   ]
  },
  {
   "cell_type": "code",
   "execution_count": null,
   "metadata": {},
   "outputs": [],
   "source": [
    "import json\n",
    "\n",
    "dp_config = {\"data_path\": \"../../data/train_short.h5\", \n",
    "             \"data_processed_path\": \"../../data/train_short_processed.h5\", \n",
    "             \"window_length\": 10000,\n",
    "             \"routines\": {}}"
   ]
  },
  {
   "cell_type": "code",
   "execution_count": null,
   "metadata": {
    "scrolled": true
   },
   "outputs": [],
   "source": [
    "for obj in funcref_list[:-1]:\n",
    "    inspect_obj = inspect.signature(obj)\n",
    "    params_dict = dict(inspect_obj.parameters)\n",
    "    params = {}\n",
    "    for k, v in params_dict.items():\n",
    "        if v.default != inspect._empty:\n",
    "            params[k] = v.default      \n",
    "    dp_config[\"routines\"][obj.__name__] = {\"on\": True, \"params\": params}\n",
    "    \n",
    "dp_config"
   ]
  },
  {
   "cell_type": "code",
   "execution_count": null,
   "metadata": {
    "scrolled": true
   },
   "outputs": [],
   "source": [
    "func_list = []\n",
    "for name in list(dp_config['routines'].keys()):\n",
    "    func_list.append(getattr(dp, name))\n",
    "\n",
    "# 3. Run processing\n",
    "routine_settings = list(dp_config['routines'].values())\n",
    "\n",
    "dfp = pd.concat(\n",
    "    [func(df['s'], **setting['params']) for func, setting in zip(func_list, routine_settings) if setting['on']],\n",
    "    axis=1)"
   ]
  },
  {
   "cell_type": "code",
   "execution_count": null,
   "metadata": {},
   "outputs": [],
   "source": [
    "with open(\"/Users/sergey/Documents/Projects/Kaggle/LANL-Earthquake/src/validation/Model 1\", 'rb') as file:  \n",
    "    pickle_model = pickle.load(file)"
   ]
  },
  {
   "cell_type": "code",
   "execution_count": 41,
   "metadata": {
    "ExecuteTime": {
     "end_time": "2019-03-20T04:38:08.167127Z",
     "start_time": "2019-03-20T04:38:08.161402Z"
    }
   },
   "outputs": [
    {
     "name": "stdout",
     "output_type": "stream",
     "text": [
      "   0  1  2\n",
      "0  1  2  3\n"
     ]
    }
   ],
   "source": [
    "test = [1, 3, 4]\n",
    "test2 = [np.array([1, 2, 3])]\n",
    "\n",
    "print(pd.DataFrame([t for t in test2]))"
   ]
  },
  {
   "cell_type": "code",
   "execution_count": 19,
   "metadata": {
    "ExecuteTime": {
     "end_time": "2019-03-20T01:48:14.673004Z",
     "start_time": "2019-03-20T01:48:14.585965Z"
    }
   },
   "outputs": [
    {
     "name": "stdout",
     "output_type": "stream",
     "text": [
      "w_psd(df, window_size=5000), fs=4000000.0): 100%|██████████| 200/200 [00:00<00:00, 2593.83it/s]\n",
      "\t window decorator: \n",
      "\t - window size: 5000\n"
     ]
    },
    {
     "data": {
      "text/html": [
       "<div>\n",
       "<style scoped>\n",
       "    .dataframe tbody tr th:only-of-type {\n",
       "        vertical-align: middle;\n",
       "    }\n",
       "\n",
       "    .dataframe tbody tr th {\n",
       "        vertical-align: top;\n",
       "    }\n",
       "\n",
       "    .dataframe thead th {\n",
       "        text-align: right;\n",
       "    }\n",
       "</style>\n",
       "<table border=\"1\" class=\"dataframe\">\n",
       "  <thead>\n",
       "    <tr style=\"text-align: right;\">\n",
       "      <th></th>\n",
       "      <th>w_psd(df, window_size=5000), fs=4000000.0)</th>\n",
       "    </tr>\n",
       "  </thead>\n",
       "  <tbody>\n",
       "    <tr>\n",
       "      <th>0</th>\n",
       "      <td>0.292630</td>\n",
       "    </tr>\n",
       "    <tr>\n",
       "      <th>1</th>\n",
       "      <td>0.021338</td>\n",
       "    </tr>\n",
       "    <tr>\n",
       "      <th>2</th>\n",
       "      <td>0.035023</td>\n",
       "    </tr>\n",
       "    <tr>\n",
       "      <th>3</th>\n",
       "      <td>0.026474</td>\n",
       "    </tr>\n",
       "    <tr>\n",
       "      <th>4</th>\n",
       "      <td>0.017370</td>\n",
       "    </tr>\n",
       "    <tr>\n",
       "      <th>5</th>\n",
       "      <td>0.014168</td>\n",
       "    </tr>\n",
       "    <tr>\n",
       "      <th>6</th>\n",
       "      <td>0.037855</td>\n",
       "    </tr>\n",
       "    <tr>\n",
       "      <th>7</th>\n",
       "      <td>0.027071</td>\n",
       "    </tr>\n",
       "    <tr>\n",
       "      <th>8</th>\n",
       "      <td>0.037250</td>\n",
       "    </tr>\n",
       "    <tr>\n",
       "      <th>9</th>\n",
       "      <td>0.016869</td>\n",
       "    </tr>\n",
       "  </tbody>\n",
       "</table>\n",
       "</div>"
      ],
      "text/plain": [
       "   w_psd(df, window_size=5000), fs=4000000.0)\n",
       "0                                    0.292630\n",
       "1                                    0.021338\n",
       "2                                    0.035023\n",
       "3                                    0.026474\n",
       "4                                    0.017370\n",
       "5                                    0.014168\n",
       "6                                    0.037855\n",
       "7                                    0.027071\n",
       "8                                    0.037250\n",
       "9                                    0.016869"
      ]
     },
     "execution_count": 19,
     "metadata": {},
     "output_type": "execute_result"
    }
   ],
   "source": []
  },
  {
   "cell_type": "code",
   "execution_count": 20,
   "metadata": {
    "ExecuteTime": {
     "end_time": "2019-03-20T01:49:27.445874Z",
     "start_time": "2019-03-20T01:49:26.921168Z"
    }
   },
   "outputs": [
    {
     "name": "stdout",
     "output_type": "stream",
     "text": [
      "w_psd(df, window_size=5000), fs=4000000.0): 100%|██████████| 200/200 [00:00<00:00, 2683.53it/s]\n",
      "\t window decorator: \n",
      "\t - window size: 5000\n",
      "w_psd(df, window_size=5000), fs=4000000.0): 100%|██████████| 200/200 [00:00<00:00, 2600.05it/s]\n",
      "\t window decorator: \n",
      "\t - window size: 5000\n"
     ]
    },
    {
     "data": {
      "image/png": "[encoded data removed]",
      "text/plain": [
       "<Figure size 1440x720 with 1 Axes>"
      ]
     },
     "metadata": {
      "needs_background": "light"
     },
     "output_type": "display_data"
    }
   ],
   "source": [
    "plt.figure(figsize=(20, 10))\n",
    "plt.plot(dp._upscale_column(dp.w_psd(df['s'], window_size=5000, fs=4e6), 100), 'k')\n",
    "plt.plot(dp.w_psd(df['s'], window_size=5000, fs=4e6), 'r')\n",
    "plt.grid(True)\n",
    "plt.show()"
   ]
  },
  {
   "cell_type": "code",
   "execution_count": null,
   "metadata": {},
   "outputs": [],
   "source": []
  },
  {
   "cell_type": "code",
   "execution_count": null,
   "metadata": {},
   "outputs": [],
   "source": []
  },
  {
   "cell_type": "code",
   "execution_count": null,
   "metadata": {},
   "outputs": [],
   "source": []
  },
  {
   "cell_type": "code",
   "execution_count": null,
   "metadata": {},
   "outputs": [],
   "source": []
  },
  {
   "cell_type": "code",
   "execution_count": null,
   "metadata": {},
   "outputs": [],
   "source": [
    "def filter_decorator(window=21, poly_order=1):\n",
    "    def filter_calc(func):\n",
    "        @functools.wraps(func)\n",
    "        def wrapper(*args, **kwargs):\n",
    "            df = func(args[0], *args, **kwargs)\n",
    "            temp = savgol_filter(df.squeeze(), window, poly_order)\n",
    "            return pd.DataFrame(temp, columns={func.__name__})\n",
    "        return wrapper\n",
    "    return filter_calc\n",
    "        \n",
    "def function_decorator(f, params):\n",
    "    def filter_calc(func):\n",
    "        @functools.wraps(func)\n",
    "        def wrapper(*args, **kwargs):\n",
    "            df = func(args[0], *args, **kwargs)\n",
    "            temp = f(df.squeeze(), **params)\n",
    "            tqdm.write(\"\\t function decorator: \")\n",
    "            tqdm.write(\"\\t - {}{}\".format(f.__name__, inspect.signature(f)))\n",
    "            tqdm.write(\"\\t - params: {}\".format(params))\n",
    "            return pd.DataFrame(temp, columns={func.__name__ + '+' + f.__name__ + '({})'.format(params)})\n",
    "        return wrapper\n",
    "    return filter_calc\n",
    "\n",
    "def window_decorator(window_size=10000):\n",
    "    def window_calc(func):\n",
    "        @functools.wraps(func)\n",
    "        def wrapper(*args, **kwargs):\n",
    "            temp = []\n",
    "            df = args[0]\n",
    "            inspect_params = inspect.getfullargspec(func)\n",
    "            for i in tqdm(range(0, df.shape[0], window_size), \n",
    "                    desc=func.__name__ + \"({}, \".format(*inspect_params.args)\n",
    "                          + ', '.join(\"{}={})\".format(k, v) for k, v in kwargs.items()), file=sys.stdout):\n",
    "                batch = df.iloc[i: i+window_size].values\n",
    "                temp.append(func(batch, *args, **kwargs))\n",
    "            tqdm.write(\"\\t window decorator: \")\n",
    "            tqdm.write(\"\\t - window size: {}\".format(window_size))\n",
    "            return pd.DataFrame(temp, columns={func.__name__})\n",
    "        return wrapper\n",
    "    return window_calc"
   ]
  },
  {
   "cell_type": "code",
   "execution_count": null,
   "metadata": {},
   "outputs": [],
   "source": [
    "@function_decorator(savgol_filter, {\"window_length\": 21, \"polyorder\": 1})\n",
    "@window_decorator()\n",
    "def w_mean(df, *args, **kwargs):\n",
    "    return np.mean(df)\n",
    "\n",
    "@function_decorator(savgol_filter, {\"window_length\": 21, \"polyorder\": 1})\n",
    "@window_decorator()\n",
    "def w_min(df, *args, **kwargs):\n",
    "    return np.min(df)\n",
    "\n",
    "@filter_decorator()\n",
    "@window_decorator()\n",
    "def w_psd(df, *args, fs=4e6, **kwargs):\n",
    "    return np.sum(scipy.signal.periodogram(df, fs=fs)[1])\n",
    "\n",
    "@window_decorator()\n",
    "def w_psd_raw(df, *args, fs=4e6, **kwargs):\n",
    "    return np.sum(scipy.signal.periodogram(df, fs=fs)[1])"
   ]
  },
  {
   "cell_type": "code",
   "execution_count": null,
   "metadata": {},
   "outputs": [],
   "source": [
    "w_mean(df['s'])\n",
    "w_min(df['s'])"
   ]
  },
  {
   "cell_type": "code",
   "execution_count": null,
   "metadata": {},
   "outputs": [],
   "source": [
    "plt.figure(figsize=(20, 10))\n",
    "plt.plot(w_psd_raw(df['s']), 'k')\n",
    "plt.plot(w_psd(df['s']), 'r')"
   ]
  },
  {
   "cell_type": "code",
   "execution_count": null,
   "metadata": {},
   "outputs": [],
   "source": []
  },
  {
   "cell_type": "code",
   "execution_count": null,
   "metadata": {},
   "outputs": [],
   "source": [
    "plt.figure(figsize=(20, 10))\n",
    "plt.plot(w_mean(df['s']).values, 'k')\n",
    "plt.plot(savgol_filter(w_mean(df['s']).values.squeeze(), window_length=21, polyorder=2), 'r')\n",
    "plt.grid(True)\n",
    "plt.show()"
   ]
  },
  {
   "cell_type": "code",
   "execution_count": null,
   "metadata": {},
   "outputs": [],
   "source": [
    "predictions = pickle_model.predict(df_processed.drop(['w_labels'], axis=1))\n",
    "actual_values = df_processed['w_labels']\n",
    "print(len(abs(predictions - actual_values)))\n",
    "\n",
    "plt.figure(figsize=(20, 10))\n",
    "# plt.plot(predictions, 'r')\n",
    "plt.plot(scipy.signal.periodogram(actual_values.values, fs=4e2)[1], 'k')\n",
    "plt.ylim([0, 100])\n",
    "plt.xlim([0, 1000])\n",
    "plt.grid(True)\n",
    "plt.show()"
   ]
  },
  {
   "cell_type": "code",
   "execution_count": null,
   "metadata": {},
   "outputs": [],
   "source": [
    "# Import the necessary modules and libraries\n",
    "import numpy as np\n",
    "from sklearn.tree import DecisionTreeRegressor\n",
    "import matplotlib.pyplot as plt\n",
    "\n",
    "# Create a random dataset\n",
    "rng = np.random.RandomState(1)\n",
    "X = np.sort(15 * rng.rand(800, 1), axis=0)\n",
    "y = np.sin(X).ravel()\n",
    "# y[::5] += 3 * (0.5 - rng.rand(16))\n",
    "\n",
    "# Fit regression model\n",
    "regr_1 = DecisionTreeRegressor(max_depth=1)\n",
    "regr_2 = DecisionTreeRegressor(max_depth=3)\n",
    "regr_1.fit(X, y)\n",
    "regr_2.fit(X, y)\n",
    "\n",
    "# Predict\n",
    "X_test = np.arange(0.0, 15.0, 0.01)[:, np.newaxis]\n",
    "y_1 = regr_1.predict(X_test)\n",
    "y_2 = regr_2.predict(X_test)\n",
    "\n",
    "# Plot the results\n",
    "plt.figure()\n",
    "plt.scatter(X, y, s=20, edgecolor=\"black\",\n",
    "            c=\"darkorange\", label=\"data\")\n",
    "plt.plot(X_test, y_1, color=\"cornflowerblue\",\n",
    "         label=\"max_depth=2\", linewidth=2)\n",
    "plt.plot(X_test, y_2, color=\"yellowgreen\", label=\"max_depth=5\", linewidth=2)\n",
    "plt.xlabel(\"data\")\n",
    "plt.ylabel(\"target\")\n",
    "plt.title(\"Decision Tree Regression\")\n",
    "plt.legend()\n",
    "plt.show()"
   ]
  },
  {
   "cell_type": "code",
   "execution_count": null,
   "metadata": {},
   "outputs": [],
   "source": []
  },
  {
   "cell_type": "code",
   "execution_count": null,
   "metadata": {},
   "outputs": [],
   "source": []
  },
  {
   "cell_type": "code",
   "execution_count": null,
   "metadata": {},
   "outputs": [],
   "source": [
    "df['s'].values"
   ]
  },
  {
   "cell_type": "code",
   "execution_count": null,
   "metadata": {},
   "outputs": [],
   "source": [
    "t = {}\n",
    "if not t:\n",
    "    print(\"H\")"
   ]
  },
  {
   "cell_type": "code",
   "execution_count": null,
   "metadata": {},
   "outputs": [],
   "source": [
    "@window_decorator()\n",
    "def w_last(df, *args, **kwargs):\n",
    "    return df[-1]"
   ]
  },
  {
   "cell_type": "code",
   "execution_count": null,
   "metadata": {},
   "outputs": [],
   "source": [
    "df_processed = df_processed.join(dp.w_labels(df['ttf']))"
   ]
  },
  {
   "cell_type": "code",
   "execution_count": null,
   "metadata": {},
   "outputs": [],
   "source": [
    "df_processed"
   ]
  },
  {
   "cell_type": "code",
   "execution_count": null,
   "metadata": {},
   "outputs": [],
   "source": [
    "w_last(df['ttf'])"
   ]
  },
  {
   "cell_type": "code",
   "execution_count": null,
   "metadata": {},
   "outputs": [],
   "source": [
    "def window_decorator(window_size=10000):\n",
    "    def window_calc(func):\n",
    "        @functools.wraps(func)\n",
    "        def wrapper(*args, **kwargs):\n",
    "            temp = []\n",
    "            df = args[0]\n",
    "            inspect_params = inspect.getfullargspec(func)\n",
    "            for i in tqdm(range(0, df.shape[0], window_size), \n",
    "                    desc=func.__name__ + \"({}, \".format(*inspect_params.args)\n",
    "                          + ', '.join(\"{}={})\".format(k, v) for k, v in kwargs.items())):\n",
    "                batch = df.iloc[i: i+window_size].values\n",
    "                temp.append(func(batch, *args, **kwargs))\n",
    "            return pd.DataFrame(temp, columns={func.__name__})\n",
    "        return wrapper\n",
    "    return window_calc"
   ]
  },
  {
   "cell_type": "code",
   "execution_count": null,
   "metadata": {},
   "outputs": [],
   "source": [
    "@window_decorator()\n",
    "def w_autocorrelation(df, *args, lag=100, **kwargs):\n",
    "    return tsfresh.feature_extraction.feature_calculators.autocorrelation(df, lag=lag)\n",
    "@window_decorator()\n",
    "def w_psd(df, *args, fs=4e6, **kwargs):\n",
    "    return np.sum(scipy.signal.periodogram(df, fs=fs)[1])\n",
    "@window_decorator()\n",
    "def w_min(df, *args, **kwargs):\n",
    "    return np.min(df)\n",
    "@window_decorator()\n",
    "def w_absolute_sum_of_changes(df, *args, **kwargs):\n",
    "    return tsfresh.feature_extraction.feature_calculators.absolute_sum_of_changes(df)\n",
    "@window_decorator()\n",
    "def w_sample_entropy(df, *args, **kwargs):\n",
    "    return tsfresh.feature_extraction.feature_calculators.sample_entropy(df)\n",
    "@window_decorator()\n",
    "def w_symmetry_looking(df, *args, r=0.1, **kwargs):\n",
    "    return tsfresh.feature_extraction.feature_calculators.symmetry_looking(df, param={\"r\": r})"
   ]
  },
  {
   "cell_type": "code",
   "execution_count": null,
   "metadata": {},
   "outputs": [],
   "source": []
  },
  {
   "cell_type": "code",
   "execution_count": null,
   "metadata": {},
   "outputs": [],
   "source": []
  },
  {
   "cell_type": "code",
   "execution_count": null,
   "metadata": {},
   "outputs": [],
   "source": []
  },
  {
   "cell_type": "code",
   "execution_count": null,
   "metadata": {},
   "outputs": [],
   "source": []
  },
  {
   "cell_type": "code",
   "execution_count": null,
   "metadata": {},
   "outputs": [],
   "source": []
  }
 ],
 "metadata": {
  "kernelspec": {
   "display_name": "Python 3",
   "language": "python",
   "name": "python3"
  },
  "language_info": {
   "codemirror_mode": {
    "name": "ipython",
    "version": 3
   },
   "file_extension": ".py",
   "mimetype": "text/x-python",
   "name": "python",
   "nbconvert_exporter": "python",
   "pygments_lexer": "ipython3",
   "version": "3.6.8"
  }
 },
 "nbformat": 4,
 "nbformat_minor": 2
}
