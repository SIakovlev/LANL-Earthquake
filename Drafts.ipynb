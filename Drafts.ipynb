{
 "cells": [
  {
   "cell_type": "code",
   "execution_count": 1,
   "metadata": {
    "ExecuteTime": {
     "end_time": "2019-03-19T05:49:55.403503Z",
     "start_time": "2019-03-19T05:49:54.485734Z"
    }
   },
   "outputs": [],
   "source": [
    "import numpy as np\n",
    "import matplotlib.pyplot as plt\n",
    "import pandas as pd\n",
    "import functools\n",
    "import scipy.signal\n",
    "import tsfresh\n",
    "import pickle\n",
    "from tqdm import tqdm\n",
    "import inspect\n",
    "import sys\n",
    "from scipy.signal import savgol_filter\n",
    "sys.path.append(\"src/data_processing/\")\n",
    "sys.path.append(\"src/validation/\")\n",
    "import dp_utils as dp"
   ]
  },
  {
   "cell_type": "code",
   "execution_count": null,
   "metadata": {},
   "outputs": [],
   "source": [
    "%%time\n",
    "\n",
    "filepath = '/home/sergey/Projects/Kaggle/LANL-Earthquake-Prediction/train.csv'\n",
    "\n",
    "df = pd.read_csv(filepath, \n",
    "                 dtype={\"acoustic_data\": np.int16, \"time_to_failure\": np.float32}, \n",
    "                 skiprows=1, \n",
    "                 names=['s', 'ttf'])"
   ]
  },
  {
   "cell_type": "code",
   "execution_count": null,
   "metadata": {},
   "outputs": [],
   "source": [
    "filepath = '/home/sergey/Projects/Kaggle/LANL-Earthquake-Prediction/train/train.h5'\n",
    "\n",
    "df.to_hdf(filepath, key='table')"
   ]
  },
  {
   "cell_type": "code",
   "execution_count": 2,
   "metadata": {
    "ExecuteTime": {
     "end_time": "2019-03-19T05:49:57.775725Z",
     "start_time": "2019-03-19T05:49:57.722304Z"
    }
   },
   "outputs": [],
   "source": [
    "# filepath = '/home/sergey/Projects/Kaggle/LANL-Earthquake-Prediction/train/train.h5'\n",
    "# filepath = '/Users/sergey/Dev/Kaggle/LANL-Earthquake-Prediction/train/train.h5'\n",
    "filepath = '/Users/sergey/Dev/Kaggle/LANL-Earthquake-Prediction/train/train_short.h5'\n",
    "\n",
    "df = pd.read_hdf(filepath, key='table')"
   ]
  },
  {
   "cell_type": "code",
   "execution_count": 3,
   "metadata": {
    "ExecuteTime": {
     "end_time": "2019-03-19T05:49:59.118870Z",
     "start_time": "2019-03-19T05:49:59.097756Z"
    }
   },
   "outputs": [],
   "source": [
    "# filepath = './data/train_short_processed.h5'\n",
    "filepath = '/Users/sergey/Dev/Kaggle/LANL-Earthquake-Prediction/train/train_processed.h5'\n",
    "\n",
    "df_processed = pd.read_hdf(filepath, key='table')"
   ]
  },
  {
   "cell_type": "code",
   "execution_count": null,
   "metadata": {},
   "outputs": [],
   "source": [
    "df_processed\n"
   ]
  },
  {
   "cell_type": "code",
   "execution_count": null,
   "metadata": {},
   "outputs": [],
   "source": []
  },
  {
   "cell_type": "code",
   "execution_count": null,
   "metadata": {},
   "outputs": [],
   "source": [
    "from inspect import getmembers, isfunction\n",
    "\n",
    "funcname_list = [o[0] for o in getmembers(dp) if isfunction(o[1])]\n",
    "funcref_list = [o[1] for o in getmembers(dp) if isfunction(o[1])]"
   ]
  },
  {
   "cell_type": "code",
   "execution_count": null,
   "metadata": {},
   "outputs": [],
   "source": [
    "import json\n",
    "\n",
    "dp_config = {\"data_path\": \"../../data/train_short.h5\", \n",
    "             \"data_processed_path\": \"../../data/train_short_processed.h5\", \n",
    "             \"window_length\": 10000,\n",
    "             \"routines\": {}}"
   ]
  },
  {
   "cell_type": "code",
   "execution_count": null,
   "metadata": {
    "scrolled": true
   },
   "outputs": [],
   "source": [
    "for obj in funcref_list[:-1]:\n",
    "    inspect_obj = inspect.signature(obj)\n",
    "    params_dict = dict(inspect_obj.parameters)\n",
    "    params = {}\n",
    "    for k, v in params_dict.items():\n",
    "        if v.default != inspect._empty:\n",
    "            params[k] = v.default      \n",
    "    dp_config[\"routines\"][obj.__name__] = {\"on\": True, \"params\": params}\n",
    "    \n",
    "dp_config"
   ]
  },
  {
   "cell_type": "code",
   "execution_count": null,
   "metadata": {
    "scrolled": true
   },
   "outputs": [],
   "source": [
    "func_list = []\n",
    "for name in list(dp_config['routines'].keys()):\n",
    "    func_list.append(getattr(dp, name))\n",
    "\n",
    "# 3. Run processing\n",
    "routine_settings = list(dp_config['routines'].values())\n",
    "\n",
    "dfp = pd.concat(\n",
    "    [func(df['s'], **setting['params']) for func, setting in zip(func_list, routine_settings) if setting['on']],\n",
    "    axis=1)"
   ]
  },
  {
   "cell_type": "code",
   "execution_count": 4,
   "metadata": {
    "ExecuteTime": {
     "end_time": "2019-03-19T05:50:09.211301Z",
     "start_time": "2019-03-19T05:50:09.117981Z"
    }
   },
   "outputs": [
    {
     "name": "stderr",
     "output_type": "stream",
     "text": [
      "/anaconda3/envs/p-sci/lib/python3.6/site-packages/lightgbm/__init__.py:46: UserWarning: Starting from version 2.2.1, the library file in distribution wheels for macOS is built by the Apple Clang (Xcode_8.3.3) compiler.\n",
      "This means that in case of installing LightGBM from PyPI via the ``pip install lightgbm`` command, you don't need to install the gcc compiler anymore.\n",
      "Instead of that, you need to install the OpenMP library, which is required for running LightGBM on the system with the Apple Clang compiler.\n",
      "You can install the OpenMP library by the following command: ``brew install libomp``.\n",
      "  \"You can install the OpenMP library by the following command: ``brew install libomp``.\", UserWarning)\n"
     ]
    }
   ],
   "source": [
    "with open(\"/Users/sergey/Documents/Projects/Kaggle/LANL-Earthquake/src/validation/Model 1\", 'rb') as file:  \n",
    "    pickle_model = pickle.load(file)"
   ]
  },
  {
   "cell_type": "code",
   "execution_count": null,
   "metadata": {},
   "outputs": [],
   "source": [
    "plt.figure(figsize=(10,5))\n",
    "plt.plot(pickle_model.predict(df_processed.drop('w_labels', axis=1)), 'k')\n",
    "plt.plot(df_processed['w_labels'], 'r')"
   ]
  },
  {
   "cell_type": "code",
   "execution_count": null,
   "metadata": {},
   "outputs": [],
   "source": [
    "abs(pickle_model.predict(df_processed.drop('w_labels', axis=1)) - df_processed['w_labels']))"
   ]
  },
  {
   "cell_type": "code",
   "execution_count": null,
   "metadata": {},
   "outputs": [],
   "source": []
  },
  {
   "cell_type": "code",
   "execution_count": null,
   "metadata": {},
   "outputs": [],
   "source": [
    "def dec2(func):\n",
    "    @functools.wraps(func)\n",
    "    def wrapper():\n",
    "        print(\"dec2 added to {}\".format(func.__name__))\n",
    "        func()\n",
    "        print()\n",
    "    return wrapper\n",
    "\n",
    "def dec1(func):\n",
    "    @functools.wraps(func)\n",
    "    def wrapper():\n",
    "        print(\"dec1 added to {}\".format(func.__name__))\n",
    "        func()\n",
    "    return wrapper"
   ]
  },
  {
   "cell_type": "code",
   "execution_count": null,
   "metadata": {},
   "outputs": [],
   "source": [
    "@dec2\n",
    "@dec1\n",
    "def hello():\n",
    "    print(\"hello\")"
   ]
  },
  {
   "cell_type": "code",
   "execution_count": null,
   "metadata": {},
   "outputs": [],
   "source": [
    "hello()"
   ]
  },
  {
   "cell_type": "code",
   "execution_count": 25,
   "metadata": {
    "ExecuteTime": {
     "end_time": "2019-03-19T06:08:58.029215Z",
     "start_time": "2019-03-19T06:08:58.021679Z"
    }
   },
   "outputs": [],
   "source": [
    "def filter_decorator(window=21, poly_order=1):\n",
    "    def filter_calc(func):\n",
    "        @functools.wraps(func)\n",
    "        def wrapper(*args, **kwargs):\n",
    "            df = func(args[0], *args, **kwargs)\n",
    "            temp = savgol_filter(df.squeeze(), window, poly_order)\n",
    "            return pd.DataFrame(temp, columns={func.__name__})\n",
    "        return wrapper\n",
    "    return filter_calc\n",
    "        \n",
    "def function_decorator(f, params):\n",
    "    def filter_calc(func):\n",
    "        @functools.wraps(func)\n",
    "        def wrapper(*args, **kwargs):\n",
    "            df = func(args[0], *args, **kwargs)\n",
    "            temp = f(df.squeeze(), **params)\n",
    "            tqdm.write(\"\\t function decorator: \")\n",
    "            tqdm.write(\"\\t - {}{}\".format(f.__name__, inspect.signature(f)))\n",
    "            tqdm.write(\"\\t - params: {}\".format(params))\n",
    "            return pd.DataFrame(temp, columns={func.__name__ + '+' + f.__name__ + '({})'.format(params)})\n",
    "        return wrapper\n",
    "    return filter_calc\n",
    "\n",
    "def window_decorator(window_size=10000):\n",
    "    def window_calc(func):\n",
    "        @functools.wraps(func)\n",
    "        def wrapper(*args, **kwargs):\n",
    "            temp = []\n",
    "            df = args[0]\n",
    "            inspect_params = inspect.getfullargspec(func)\n",
    "            for i in tqdm(range(0, df.shape[0], window_size), \n",
    "                    desc=func.__name__ + \"({}, \".format(*inspect_params.args)\n",
    "                          + ', '.join(\"{}={})\".format(k, v) for k, v in kwargs.items()), file=sys.stdout):\n",
    "                batch = df.iloc[i: i+window_size].values\n",
    "                temp.append(func(batch, *args, **kwargs))\n",
    "            tqdm.write(\"\\t window decorator: \")\n",
    "            tqdm.write(\"\\t - window size: {}\".format(window_size))\n",
    "            return pd.DataFrame(temp, columns={func.__name__})\n",
    "        return wrapper\n",
    "    return window_calc"
   ]
  },
  {
   "cell_type": "code",
   "execution_count": 26,
   "metadata": {
    "ExecuteTime": {
     "end_time": "2019-03-19T06:08:59.800737Z",
     "start_time": "2019-03-19T06:08:59.795906Z"
    }
   },
   "outputs": [],
   "source": [
    "@function_decorator(savgol_filter, {\"window_length\": 21, \"polyorder\": 1})\n",
    "@window_decorator()\n",
    "def w_mean(df, *args, **kwargs):\n",
    "    return np.mean(df)\n",
    "\n",
    "@function_decorator(savgol_filter, {\"window_length\": 21, \"polyorder\": 1})\n",
    "@window_decorator()\n",
    "def w_min(df, *args, **kwargs):\n",
    "    return np.min(df)\n",
    "\n",
    "@filter_decorator()\n",
    "@window_decorator()\n",
    "def w_psd(df, *args, fs=4e6, **kwargs):\n",
    "    return np.sum(scipy.signal.periodogram(df, fs=fs)[1])\n",
    "\n",
    "@window_decorator()\n",
    "def w_psd_raw(df, *args, fs=4e6, **kwargs):\n",
    "    return np.sum(scipy.signal.periodogram(df, fs=fs)[1])"
   ]
  },
  {
   "cell_type": "code",
   "execution_count": 27,
   "metadata": {
    "ExecuteTime": {
     "end_time": "2019-03-19T06:09:01.823782Z",
     "start_time": "2019-03-19T06:09:01.775753Z"
    }
   },
   "outputs": [
    {
     "name": "stdout",
     "output_type": "stream",
     "text": [
      "w_mean(df, : 100%|██████████| 100/100 [00:00<00:00, 6012.13it/s]\n",
      "\t window decorator: \n",
      "\t - window size: 10000\n",
      "\t function decorator: \n",
      "\t - savgol_filter(x, window_length, polyorder, deriv=0, delta=1.0, axis=-1, mode='interp', cval=0.0)\n",
      "\t - params: {'window_length': 21, 'polyorder': 1}\n",
      "w_min(df, : 100%|██████████| 100/100 [00:00<00:00, 7905.13it/s]\n",
      "\t window decorator: \n",
      "\t - window size: 10000\n",
      "\t function decorator: \n",
      "\t - savgol_filter(x, window_length, polyorder, deriv=0, delta=1.0, axis=-1, mode='interp', cval=0.0)\n",
      "\t - params: {'window_length': 21, 'polyorder': 1}\n"
     ]
    },
    {
     "name": "stderr",
     "output_type": "stream",
     "text": [
      "/anaconda3/envs/p-sci/lib/python3.6/site-packages/scipy/signal/_arraytools.py:45: FutureWarning: Using a non-tuple sequence for multidimensional indexing is deprecated; use `arr[tuple(seq)]` instead of `arr[seq]`. In the future this will be interpreted as an array index, `arr[np.array(seq)]`, which will result either in an error or a different result.\n",
      "  b = a[a_slice]\n"
     ]
    },
    {
     "data": {
      "text/html": [
       "<div>\n",
       "<style scoped>\n",
       "    .dataframe tbody tr th:only-of-type {\n",
       "        vertical-align: middle;\n",
       "    }\n",
       "\n",
       "    .dataframe tbody tr th {\n",
       "        vertical-align: top;\n",
       "    }\n",
       "\n",
       "    .dataframe thead th {\n",
       "        text-align: right;\n",
       "    }\n",
       "</style>\n",
       "<table border=\"1\" class=\"dataframe\">\n",
       "  <thead>\n",
       "    <tr style=\"text-align: right;\">\n",
       "      <th></th>\n",
       "      <th>w_min+savgol_filter({'window_length': 21, 'polyorder': 1})</th>\n",
       "    </tr>\n",
       "  </thead>\n",
       "  <tbody>\n",
       "    <tr>\n",
       "      <th>0</th>\n",
       "      <td>-25.839827</td>\n",
       "    </tr>\n",
       "    <tr>\n",
       "      <th>1</th>\n",
       "      <td>-27.289177</td>\n",
       "    </tr>\n",
       "    <tr>\n",
       "      <th>2</th>\n",
       "      <td>-28.738528</td>\n",
       "    </tr>\n",
       "    <tr>\n",
       "      <th>3</th>\n",
       "      <td>-30.187879</td>\n",
       "    </tr>\n",
       "    <tr>\n",
       "      <th>4</th>\n",
       "      <td>-31.637229</td>\n",
       "    </tr>\n",
       "    <tr>\n",
       "      <th>5</th>\n",
       "      <td>-33.086580</td>\n",
       "    </tr>\n",
       "    <tr>\n",
       "      <th>6</th>\n",
       "      <td>-34.535931</td>\n",
       "    </tr>\n",
       "    <tr>\n",
       "      <th>7</th>\n",
       "      <td>-35.985281</td>\n",
       "    </tr>\n",
       "    <tr>\n",
       "      <th>8</th>\n",
       "      <td>-37.434632</td>\n",
       "    </tr>\n",
       "    <tr>\n",
       "      <th>9</th>\n",
       "      <td>-38.883983</td>\n",
       "    </tr>\n",
       "    <tr>\n",
       "      <th>10</th>\n",
       "      <td>-40.333333</td>\n",
       "    </tr>\n",
       "    <tr>\n",
       "      <th>11</th>\n",
       "      <td>-37.571429</td>\n",
       "    </tr>\n",
       "    <tr>\n",
       "      <th>12</th>\n",
       "      <td>-37.047619</td>\n",
       "    </tr>\n",
       "    <tr>\n",
       "      <th>13</th>\n",
       "      <td>-37.000000</td>\n",
       "    </tr>\n",
       "    <tr>\n",
       "      <th>14</th>\n",
       "      <td>-37.619048</td>\n",
       "    </tr>\n",
       "    <tr>\n",
       "      <th>15</th>\n",
       "      <td>-38.285714</td>\n",
       "    </tr>\n",
       "    <tr>\n",
       "      <th>16</th>\n",
       "      <td>-39.190476</td>\n",
       "    </tr>\n",
       "    <tr>\n",
       "      <th>17</th>\n",
       "      <td>-42.000000</td>\n",
       "    </tr>\n",
       "    <tr>\n",
       "      <th>18</th>\n",
       "      <td>-41.857143</td>\n",
       "    </tr>\n",
       "    <tr>\n",
       "      <th>19</th>\n",
       "      <td>-41.238095</td>\n",
       "    </tr>\n",
       "    <tr>\n",
       "      <th>20</th>\n",
       "      <td>-43.857143</td>\n",
       "    </tr>\n",
       "    <tr>\n",
       "      <th>21</th>\n",
       "      <td>-45.238095</td>\n",
       "    </tr>\n",
       "    <tr>\n",
       "      <th>22</th>\n",
       "      <td>-46.238095</td>\n",
       "    </tr>\n",
       "    <tr>\n",
       "      <th>23</th>\n",
       "      <td>-46.761905</td>\n",
       "    </tr>\n",
       "    <tr>\n",
       "      <th>24</th>\n",
       "      <td>-48.428571</td>\n",
       "    </tr>\n",
       "    <tr>\n",
       "      <th>25</th>\n",
       "      <td>-50.523810</td>\n",
       "    </tr>\n",
       "    <tr>\n",
       "      <th>26</th>\n",
       "      <td>-49.809524</td>\n",
       "    </tr>\n",
       "    <tr>\n",
       "      <th>27</th>\n",
       "      <td>-45.380952</td>\n",
       "    </tr>\n",
       "    <tr>\n",
       "      <th>28</th>\n",
       "      <td>-47.428571</td>\n",
       "    </tr>\n",
       "    <tr>\n",
       "      <th>29</th>\n",
       "      <td>-46.857143</td>\n",
       "    </tr>\n",
       "    <tr>\n",
       "      <th>...</th>\n",
       "      <td>...</td>\n",
       "    </tr>\n",
       "    <tr>\n",
       "      <th>70</th>\n",
       "      <td>-47.047619</td>\n",
       "    </tr>\n",
       "    <tr>\n",
       "      <th>71</th>\n",
       "      <td>-45.523810</td>\n",
       "    </tr>\n",
       "    <tr>\n",
       "      <th>72</th>\n",
       "      <td>-43.142857</td>\n",
       "    </tr>\n",
       "    <tr>\n",
       "      <th>73</th>\n",
       "      <td>-45.047619</td>\n",
       "    </tr>\n",
       "    <tr>\n",
       "      <th>74</th>\n",
       "      <td>-46.476190</td>\n",
       "    </tr>\n",
       "    <tr>\n",
       "      <th>75</th>\n",
       "      <td>-45.904762</td>\n",
       "    </tr>\n",
       "    <tr>\n",
       "      <th>76</th>\n",
       "      <td>-43.619048</td>\n",
       "    </tr>\n",
       "    <tr>\n",
       "      <th>77</th>\n",
       "      <td>-43.714286</td>\n",
       "    </tr>\n",
       "    <tr>\n",
       "      <th>78</th>\n",
       "      <td>-45.047619</td>\n",
       "    </tr>\n",
       "    <tr>\n",
       "      <th>79</th>\n",
       "      <td>-41.285714</td>\n",
       "    </tr>\n",
       "    <tr>\n",
       "      <th>80</th>\n",
       "      <td>-41.285714</td>\n",
       "    </tr>\n",
       "    <tr>\n",
       "      <th>81</th>\n",
       "      <td>-40.047619</td>\n",
       "    </tr>\n",
       "    <tr>\n",
       "      <th>82</th>\n",
       "      <td>-41.000000</td>\n",
       "    </tr>\n",
       "    <tr>\n",
       "      <th>83</th>\n",
       "      <td>-42.190476</td>\n",
       "    </tr>\n",
       "    <tr>\n",
       "      <th>84</th>\n",
       "      <td>-44.238095</td>\n",
       "    </tr>\n",
       "    <tr>\n",
       "      <th>85</th>\n",
       "      <td>-38.761905</td>\n",
       "    </tr>\n",
       "    <tr>\n",
       "      <th>86</th>\n",
       "      <td>-38.857143</td>\n",
       "    </tr>\n",
       "    <tr>\n",
       "      <th>87</th>\n",
       "      <td>-39.476190</td>\n",
       "    </tr>\n",
       "    <tr>\n",
       "      <th>88</th>\n",
       "      <td>-42.523810</td>\n",
       "    </tr>\n",
       "    <tr>\n",
       "      <th>89</th>\n",
       "      <td>-42.285714</td>\n",
       "    </tr>\n",
       "    <tr>\n",
       "      <th>90</th>\n",
       "      <td>-41.766234</td>\n",
       "    </tr>\n",
       "    <tr>\n",
       "      <th>91</th>\n",
       "      <td>-41.246753</td>\n",
       "    </tr>\n",
       "    <tr>\n",
       "      <th>92</th>\n",
       "      <td>-40.727273</td>\n",
       "    </tr>\n",
       "    <tr>\n",
       "      <th>93</th>\n",
       "      <td>-40.207792</td>\n",
       "    </tr>\n",
       "    <tr>\n",
       "      <th>94</th>\n",
       "      <td>-39.688312</td>\n",
       "    </tr>\n",
       "    <tr>\n",
       "      <th>95</th>\n",
       "      <td>-39.168831</td>\n",
       "    </tr>\n",
       "    <tr>\n",
       "      <th>96</th>\n",
       "      <td>-38.649351</td>\n",
       "    </tr>\n",
       "    <tr>\n",
       "      <th>97</th>\n",
       "      <td>-38.129870</td>\n",
       "    </tr>\n",
       "    <tr>\n",
       "      <th>98</th>\n",
       "      <td>-37.610390</td>\n",
       "    </tr>\n",
       "    <tr>\n",
       "      <th>99</th>\n",
       "      <td>-37.090909</td>\n",
       "    </tr>\n",
       "  </tbody>\n",
       "</table>\n",
       "<p>100 rows × 1 columns</p>\n",
       "</div>"
      ],
      "text/plain": [
       "    w_min+savgol_filter({'window_length': 21, 'polyorder': 1})\n",
       "0                                          -25.839827         \n",
       "1                                          -27.289177         \n",
       "2                                          -28.738528         \n",
       "3                                          -30.187879         \n",
       "4                                          -31.637229         \n",
       "5                                          -33.086580         \n",
       "6                                          -34.535931         \n",
       "7                                          -35.985281         \n",
       "8                                          -37.434632         \n",
       "9                                          -38.883983         \n",
       "10                                         -40.333333         \n",
       "11                                         -37.571429         \n",
       "12                                         -37.047619         \n",
       "13                                         -37.000000         \n",
       "14                                         -37.619048         \n",
       "15                                         -38.285714         \n",
       "16                                         -39.190476         \n",
       "17                                         -42.000000         \n",
       "18                                         -41.857143         \n",
       "19                                         -41.238095         \n",
       "20                                         -43.857143         \n",
       "21                                         -45.238095         \n",
       "22                                         -46.238095         \n",
       "23                                         -46.761905         \n",
       "24                                         -48.428571         \n",
       "25                                         -50.523810         \n",
       "26                                         -49.809524         \n",
       "27                                         -45.380952         \n",
       "28                                         -47.428571         \n",
       "29                                         -46.857143         \n",
       "..                                                ...         \n",
       "70                                         -47.047619         \n",
       "71                                         -45.523810         \n",
       "72                                         -43.142857         \n",
       "73                                         -45.047619         \n",
       "74                                         -46.476190         \n",
       "75                                         -45.904762         \n",
       "76                                         -43.619048         \n",
       "77                                         -43.714286         \n",
       "78                                         -45.047619         \n",
       "79                                         -41.285714         \n",
       "80                                         -41.285714         \n",
       "81                                         -40.047619         \n",
       "82                                         -41.000000         \n",
       "83                                         -42.190476         \n",
       "84                                         -44.238095         \n",
       "85                                         -38.761905         \n",
       "86                                         -38.857143         \n",
       "87                                         -39.476190         \n",
       "88                                         -42.523810         \n",
       "89                                         -42.285714         \n",
       "90                                         -41.766234         \n",
       "91                                         -41.246753         \n",
       "92                                         -40.727273         \n",
       "93                                         -40.207792         \n",
       "94                                         -39.688312         \n",
       "95                                         -39.168831         \n",
       "96                                         -38.649351         \n",
       "97                                         -38.129870         \n",
       "98                                         -37.610390         \n",
       "99                                         -37.090909         \n",
       "\n",
       "[100 rows x 1 columns]"
      ]
     },
     "execution_count": 27,
     "metadata": {},
     "output_type": "execute_result"
    }
   ],
   "source": [
    "w_mean(df['s'])\n",
    "w_min(df['s'])"
   ]
  },
  {
   "cell_type": "code",
   "execution_count": null,
   "metadata": {},
   "outputs": [],
   "source": [
    "plt.figure(figsize=(20, 10))\n",
    "plt.plot(w_psd_raw(df['s']), 'k')\n",
    "plt.plot(w_psd(df['s']), 'r')"
   ]
  },
  {
   "cell_type": "code",
   "execution_count": null,
   "metadata": {},
   "outputs": [],
   "source": []
  },
  {
   "cell_type": "code",
   "execution_count": null,
   "metadata": {},
   "outputs": [],
   "source": [
    "plt.figure(figsize=(20, 10))\n",
    "plt.plot(w_mean(df['s']).values, 'k')\n",
    "plt.plot(savgol_filter(w_mean(df['s']).values.squeeze(), window_length=21, polyorder=2), 'r')\n",
    "plt.grid(True)\n",
    "plt.show()"
   ]
  },
  {
   "cell_type": "code",
   "execution_count": null,
   "metadata": {},
   "outputs": [],
   "source": [
    "predictions = pickle_model.predict(df_processed.drop(['w_labels'], axis=1))\n",
    "actual_values = df_processed['w_labels']\n",
    "print(len(abs(predictions - actual_values)))\n",
    "\n",
    "plt.figure(figsize=(20, 10))\n",
    "# plt.plot(predictions, 'r')\n",
    "plt.plot(scipy.signal.periodogram(actual_values.values, fs=4e2)[1], 'k')\n",
    "plt.ylim([0, 100])\n",
    "plt.xlim([0, 1000])\n",
    "plt.grid(True)\n",
    "plt.show()"
   ]
  },
  {
   "cell_type": "code",
   "execution_count": null,
   "metadata": {},
   "outputs": [],
   "source": [
    "# Import the necessary modules and libraries\n",
    "import numpy as np\n",
    "from sklearn.tree import DecisionTreeRegressor\n",
    "import matplotlib.pyplot as plt\n",
    "\n",
    "# Create a random dataset\n",
    "rng = np.random.RandomState(1)\n",
    "X = np.sort(15 * rng.rand(800, 1), axis=0)\n",
    "y = np.sin(X).ravel()\n",
    "# y[::5] += 3 * (0.5 - rng.rand(16))\n",
    "\n",
    "# Fit regression model\n",
    "regr_1 = DecisionTreeRegressor(max_depth=1)\n",
    "regr_2 = DecisionTreeRegressor(max_depth=3)\n",
    "regr_1.fit(X, y)\n",
    "regr_2.fit(X, y)\n",
    "\n",
    "# Predict\n",
    "X_test = np.arange(0.0, 15.0, 0.01)[:, np.newaxis]\n",
    "y_1 = regr_1.predict(X_test)\n",
    "y_2 = regr_2.predict(X_test)\n",
    "\n",
    "# Plot the results\n",
    "plt.figure()\n",
    "plt.scatter(X, y, s=20, edgecolor=\"black\",\n",
    "            c=\"darkorange\", label=\"data\")\n",
    "plt.plot(X_test, y_1, color=\"cornflowerblue\",\n",
    "         label=\"max_depth=2\", linewidth=2)\n",
    "plt.plot(X_test, y_2, color=\"yellowgreen\", label=\"max_depth=5\", linewidth=2)\n",
    "plt.xlabel(\"data\")\n",
    "plt.ylabel(\"target\")\n",
    "plt.title(\"Decision Tree Regression\")\n",
    "plt.legend()\n",
    "plt.show()"
   ]
  },
  {
   "cell_type": "code",
   "execution_count": null,
   "metadata": {},
   "outputs": [],
   "source": []
  },
  {
   "cell_type": "code",
   "execution_count": null,
   "metadata": {},
   "outputs": [],
   "source": []
  },
  {
   "cell_type": "code",
   "execution_count": null,
   "metadata": {},
   "outputs": [],
   "source": [
    "df['s'].values"
   ]
  },
  {
   "cell_type": "code",
   "execution_count": null,
   "metadata": {},
   "outputs": [],
   "source": [
    "t = {}\n",
    "if not t:\n",
    "    print(\"H\")"
   ]
  },
  {
   "cell_type": "code",
   "execution_count": null,
   "metadata": {},
   "outputs": [],
   "source": [
    "@window_decorator()\n",
    "def w_last(df, *args, **kwargs):\n",
    "    return df[-1]"
   ]
  },
  {
   "cell_type": "code",
   "execution_count": null,
   "metadata": {},
   "outputs": [],
   "source": [
    "df_processed = df_processed.join(dp.w_labels(df['ttf']))"
   ]
  },
  {
   "cell_type": "code",
   "execution_count": null,
   "metadata": {},
   "outputs": [],
   "source": [
    "df_processed"
   ]
  },
  {
   "cell_type": "code",
   "execution_count": null,
   "metadata": {},
   "outputs": [],
   "source": [
    "w_last(df['ttf'])"
   ]
  },
  {
   "cell_type": "code",
   "execution_count": null,
   "metadata": {},
   "outputs": [],
   "source": [
    "def window_decorator(window_size=10000):\n",
    "    def window_calc(func):\n",
    "        @functools.wraps(func)\n",
    "        def wrapper(*args, **kwargs):\n",
    "            temp = []\n",
    "            df = args[0]\n",
    "            inspect_params = inspect.getfullargspec(func)\n",
    "            for i in tqdm(range(0, df.shape[0], window_size), \n",
    "                    desc=func.__name__ + \"({}, \".format(*inspect_params.args)\n",
    "                          + ', '.join(\"{}={})\".format(k, v) for k, v in kwargs.items())):\n",
    "                batch = df.iloc[i: i+window_size].values\n",
    "                temp.append(func(batch, *args, **kwargs))\n",
    "            return pd.DataFrame(temp, columns={func.__name__})\n",
    "        return wrapper\n",
    "    return window_calc"
   ]
  },
  {
   "cell_type": "code",
   "execution_count": null,
   "metadata": {},
   "outputs": [],
   "source": [
    "@window_decorator()\n",
    "def w_autocorrelation(df, *args, lag=100, **kwargs):\n",
    "    return tsfresh.feature_extraction.feature_calculators.autocorrelation(df, lag=lag)\n",
    "@window_decorator()\n",
    "def w_psd(df, *args, fs=4e6, **kwargs):\n",
    "    return np.sum(scipy.signal.periodogram(df, fs=fs)[1])\n",
    "@window_decorator()\n",
    "def w_min(df, *args, **kwargs):\n",
    "    return np.min(df)\n",
    "@window_decorator()\n",
    "def w_absolute_sum_of_changes(df, *args, **kwargs):\n",
    "    return tsfresh.feature_extraction.feature_calculators.absolute_sum_of_changes(df)\n",
    "@window_decorator()\n",
    "def w_sample_entropy(df, *args, **kwargs):\n",
    "    return tsfresh.feature_extraction.feature_calculators.sample_entropy(df)\n",
    "@window_decorator()\n",
    "def w_symmetry_looking(df, *args, r=0.1, **kwargs):\n",
    "    return tsfresh.feature_extraction.feature_calculators.symmetry_looking(df, param={\"r\": r})"
   ]
  },
  {
   "cell_type": "code",
   "execution_count": null,
   "metadata": {},
   "outputs": [],
   "source": []
  },
  {
   "cell_type": "code",
   "execution_count": null,
   "metadata": {},
   "outputs": [],
   "source": []
  },
  {
   "cell_type": "code",
   "execution_count": null,
   "metadata": {},
   "outputs": [],
   "source": []
  },
  {
   "cell_type": "code",
   "execution_count": null,
   "metadata": {},
   "outputs": [],
   "source": []
  },
  {
   "cell_type": "code",
   "execution_count": null,
   "metadata": {},
   "outputs": [],
   "source": []
  }
 ],
 "metadata": {
  "kernelspec": {
   "display_name": "Python 3",
   "language": "python",
   "name": "python3"
  },
  "language_info": {
   "codemirror_mode": {
    "name": "ipython",
    "version": 3
   },
   "file_extension": ".py",
   "mimetype": "text/x-python",
   "name": "python",
   "nbconvert_exporter": "python",
   "pygments_lexer": "ipython3",
   "version": "3.6.8"
  }
 },
 "nbformat": 4,
 "nbformat_minor": 2
}
